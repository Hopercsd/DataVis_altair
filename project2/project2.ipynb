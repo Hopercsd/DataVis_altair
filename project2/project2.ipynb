{
 "cells": [
  {
   "cell_type": "code",
   "execution_count": 1,
   "metadata": {
    "colab": {
     "base_uri": "https://localhost:8080/",
     "height": 331
    },
    "executionInfo": {
     "elapsed": 8805,
     "status": "ok",
     "timestamp": 1716379801865,
     "user": {
      "displayName": "Alexandros Tremopoulos",
      "userId": "18030826848297166341"
     },
     "user_tz": -120
    },
    "id": "EQBZAO3jWrts",
    "outputId": "4dd983b3-aedc-48ef-faac-92d80716aabf"
   },
   "outputs": [
    {
     "name": "stdout",
     "output_type": "stream",
     "text": [
      "Collecting altair==5.3.0\n",
      "  Using cached altair-5.3.0-py3-none-any.whl (857 kB)\n",
      "Requirement already satisfied: jinja2 in c:\\users\\user\\anaconda3\\lib\\site-packages (from altair==5.3.0) (3.1.2)\n",
      "Requirement already satisfied: jsonschema>=3.0 in c:\\users\\user\\anaconda3\\lib\\site-packages (from altair==5.3.0) (4.17.3)\n",
      "Requirement already satisfied: numpy in c:\\users\\user\\anaconda3\\lib\\site-packages (from altair==5.3.0) (1.24.3)\n",
      "Requirement already satisfied: packaging in c:\\users\\user\\anaconda3\\lib\\site-packages (from altair==5.3.0) (23.0)\n",
      "Requirement already satisfied: pandas>=0.25 in c:\\users\\user\\anaconda3\\lib\\site-packages (from altair==5.3.0) (1.5.3)\n",
      "Requirement already satisfied: toolz in c:\\users\\user\\anaconda3\\lib\\site-packages (from altair==5.3.0) (0.12.0)\n",
      "Requirement already satisfied: attrs>=17.4.0 in c:\\users\\user\\anaconda3\\lib\\site-packages (from jsonschema>=3.0->altair==5.3.0) (22.1.0)\n",
      "Requirement already satisfied: pyrsistent!=0.17.0,!=0.17.1,!=0.17.2,>=0.14.0 in c:\\users\\user\\anaconda3\\lib\\site-packages (from jsonschema>=3.0->altair==5.3.0) (0.18.0)\n",
      "Requirement already satisfied: python-dateutil>=2.8.1 in c:\\users\\user\\anaconda3\\lib\\site-packages (from pandas>=0.25->altair==5.3.0) (2.8.2)\n",
      "Requirement already satisfied: pytz>=2020.1 in c:\\users\\user\\anaconda3\\lib\\site-packages (from pandas>=0.25->altair==5.3.0) (2022.7)\n",
      "Requirement already satisfied: MarkupSafe>=2.0 in c:\\users\\user\\anaconda3\\lib\\site-packages (from jinja2->altair==5.3.0) (2.1.1)\n",
      "Requirement already satisfied: six>=1.5 in c:\\users\\user\\anaconda3\\lib\\site-packages (from python-dateutil>=2.8.1->pandas>=0.25->altair==5.3.0) (1.16.0)\n",
      "Installing collected packages: altair\n",
      "  Attempting uninstall: altair\n",
      "    Found existing installation: altair 5.5.0\n",
      "    Uninstalling altair-5.5.0:\n",
      "      Successfully uninstalled altair-5.5.0\n",
      "Successfully installed altair-5.3.0\n"
     ]
    },
    {
     "data": {
      "text/plain": [
       "'5.3.0'"
      ]
     },
     "execution_count": 1,
     "metadata": {},
     "output_type": "execute_result"
    }
   ],
   "source": [
    "!pip install altair==5.3.0\n",
    "import altair as alt\n",
    "alt.__version__"
   ]
  },
  {
   "cell_type": "code",
   "execution_count": 2,
   "metadata": {},
   "outputs": [
    {
     "data": {
      "text/plain": [
       "'5.3.0'"
      ]
     },
     "execution_count": 2,
     "metadata": {},
     "output_type": "execute_result"
    }
   ],
   "source": [
    "import pandas as pd\n",
    "import matplotlib.pyplot as plt\n",
    "import numpy as np\n",
    "import altair as alt\n",
    "from vega_datasets import data\n",
    "import random\n",
    "alt.__version__"
   ]
  },
  {
   "cell_type": "markdown",
   "metadata": {
    "id": "NWqUGIJQzaX3"
   },
   "source": [
    "## Exploratory Data Analysis and Preprocessing"
   ]
  },
  {
   "cell_type": "markdown",
   "metadata": {
    "id": "ZvedQLM380Sj"
   },
   "source": [
    "In this section I am exploring the data provided to us and perform if needed some preprocessing."
   ]
  },
  {
   "cell_type": "code",
   "execution_count": 3,
   "metadata": {
    "colab": {
     "base_uri": "https://localhost:8080/",
     "height": 206
    },
    "executionInfo": {
     "elapsed": 12,
     "status": "ok",
     "timestamp": 1716379805337,
     "user": {
      "displayName": "Alexandros Tremopoulos",
      "userId": "18030826848297166341"
     },
     "user_tz": -120
    },
    "id": "zNgJWyEFjG1y",
    "outputId": "27899168-079d-47be-b3da-a1136f6ed78e"
   },
   "outputs": [
    {
     "data": {
      "text/html": [
       "<div>\n",
       "<style scoped>\n",
       "    .dataframe tbody tr th:only-of-type {\n",
       "        vertical-align: middle;\n",
       "    }\n",
       "\n",
       "    .dataframe tbody tr th {\n",
       "        vertical-align: top;\n",
       "    }\n",
       "\n",
       "    .dataframe thead th {\n",
       "        text-align: right;\n",
       "    }\n",
       "</style>\n",
       "<table border=\"1\" class=\"dataframe\">\n",
       "  <thead>\n",
       "    <tr style=\"text-align: right;\">\n",
       "      <th></th>\n",
       "      <th>Artist</th>\n",
       "      <th>Album</th>\n",
       "      <th>Year</th>\n",
       "      <th>Songs</th>\n",
       "      <th>Sales</th>\n",
       "    </tr>\n",
       "  </thead>\n",
       "  <tbody>\n",
       "    <tr>\n",
       "      <th>0</th>\n",
       "      <td>Taylor Swift</td>\n",
       "      <td>Taylor Swift</td>\n",
       "      <td>2006</td>\n",
       "      <td>13</td>\n",
       "      <td>7275000</td>\n",
       "    </tr>\n",
       "    <tr>\n",
       "      <th>1</th>\n",
       "      <td>Taylor Swift</td>\n",
       "      <td>Fearless</td>\n",
       "      <td>2008</td>\n",
       "      <td>13</td>\n",
       "      <td>11911000</td>\n",
       "    </tr>\n",
       "    <tr>\n",
       "      <th>2</th>\n",
       "      <td>Taylor Swift</td>\n",
       "      <td>Speak Now</td>\n",
       "      <td>2010</td>\n",
       "      <td>14</td>\n",
       "      <td>6917500</td>\n",
       "    </tr>\n",
       "    <tr>\n",
       "      <th>3</th>\n",
       "      <td>Taylor Swift</td>\n",
       "      <td>Red</td>\n",
       "      <td>2012</td>\n",
       "      <td>16</td>\n",
       "      <td>8889124</td>\n",
       "    </tr>\n",
       "    <tr>\n",
       "      <th>4</th>\n",
       "      <td>Taylor Swift</td>\n",
       "      <td>1989</td>\n",
       "      <td>2014</td>\n",
       "      <td>13</td>\n",
       "      <td>14748116</td>\n",
       "    </tr>\n",
       "  </tbody>\n",
       "</table>\n",
       "</div>"
      ],
      "text/plain": [
       "         Artist         Album  Year Songs     Sales\n",
       "0  Taylor Swift  Taylor Swift  2006    13   7275000\n",
       "1  Taylor Swift      Fearless  2008    13  11911000\n",
       "2  Taylor Swift     Speak Now  2010    14   6917500\n",
       "3  Taylor Swift           Red  2012    16   8889124\n",
       "4  Taylor Swift          1989  2014    13  14748116"
      ]
     },
     "execution_count": 3,
     "metadata": {},
     "output_type": "execute_result"
    }
   ],
   "source": [
    "# top_artists = pd.read_excel('/content/drive/MyDrive/Data_Vis/project 2/topArtists.xlsx')\n",
    "top_artists = pd.read_excel('topArtists.xlsx')\n",
    "top_artists.head()"
   ]
  },
  {
   "cell_type": "code",
   "execution_count": 4,
   "metadata": {
    "colab": {
     "base_uri": "https://localhost:8080/"
    },
    "executionInfo": {
     "elapsed": 12,
     "status": "ok",
     "timestamp": 1716379805337,
     "user": {
      "displayName": "Alexandros Tremopoulos",
      "userId": "18030826848297166341"
     },
     "user_tz": -120
    },
    "id": "USFKxhoNjWuS",
    "outputId": "4c7c312c-b849-4563-ef72-092cbb1b4cec"
   },
   "outputs": [
    {
     "name": "stdout",
     "output_type": "stream",
     "text": [
      "<class 'pandas.core.frame.DataFrame'>\n",
      "RangeIndex: 81 entries, 0 to 80\n",
      "Data columns (total 5 columns):\n",
      " #   Column  Non-Null Count  Dtype \n",
      "---  ------  --------------  ----- \n",
      " 0   Artist  81 non-null     object\n",
      " 1   Album   81 non-null     object\n",
      " 2   Year    81 non-null     int64 \n",
      " 3   Songs   48 non-null     object\n",
      " 4   Sales   81 non-null     int64 \n",
      "dtypes: int64(2), object(3)\n",
      "memory usage: 3.3+ KB\n"
     ]
    }
   ],
   "source": [
    "top_artists.info()"
   ]
  },
  {
   "cell_type": "code",
   "execution_count": 5,
   "metadata": {
    "colab": {
     "base_uri": "https://localhost:8080/"
    },
    "executionInfo": {
     "elapsed": 450,
     "status": "ok",
     "timestamp": 1716379805778,
     "user": {
      "displayName": "Alexandros Tremopoulos",
      "userId": "18030826848297166341"
     },
     "user_tz": -120
    },
    "id": "XuajQFQijwat",
    "outputId": "e007ec8d-77d6-4ae1-efff-2a8b8f604843"
   },
   "outputs": [
    {
     "data": {
      "text/plain": [
       "Taylor Swift     13\n",
       "The Weeknd        9\n",
       "Justin Bieber     9\n",
       "Lady Gaga         8\n",
       "Rihanna           8\n",
       "Shakira           8\n",
       "Drake             7\n",
       "Ariana Grande     6\n",
       "Post Malone       5\n",
       "Ed Sheeran        5\n",
       "Billie Eilish     3\n",
       "Name: Artist, dtype: int64"
      ]
     },
     "execution_count": 5,
     "metadata": {},
     "output_type": "execute_result"
    }
   ],
   "source": [
    "top_artists['Artist'].value_counts()  # nof albums of each artist"
   ]
  },
  {
   "cell_type": "code",
   "execution_count": 6,
   "metadata": {
    "colab": {
     "base_uri": "https://localhost:8080/"
    },
    "executionInfo": {
     "elapsed": 14,
     "status": "ok",
     "timestamp": 1716379805778,
     "user": {
      "displayName": "Alexandros Tremopoulos",
      "userId": "18030826848297166341"
     },
     "user_tz": -120
    },
    "id": "S4NXIQGIkBxM",
    "outputId": "093befdb-51a1-44a8-cf60-7e34bfaf6e49"
   },
   "outputs": [
    {
     "data": {
      "text/plain": [
       "Taylor Swift            1\n",
       "Joanne                  1\n",
       "+                       1\n",
       "Trilogy                 1\n",
       "The highlights          1\n",
       "                       ..\n",
       "Nothing Was the Same    1\n",
       "Take Care               1\n",
       "Thank Me Later          1\n",
       "Positions               1\n",
       "MTV Umplugged           1\n",
       "Name: Album, Length: 81, dtype: int64"
      ]
     },
     "execution_count": 6,
     "metadata": {},
     "output_type": "execute_result"
    }
   ],
   "source": [
    "top_artists['Album'].value_counts()   # there is no duplicated album"
   ]
  },
  {
   "cell_type": "code",
   "execution_count": 7,
   "metadata": {
    "colab": {
     "base_uri": "https://localhost:8080/"
    },
    "executionInfo": {
     "elapsed": 10,
     "status": "ok",
     "timestamp": 1716379805778,
     "user": {
      "displayName": "Alexandros Tremopoulos",
      "userId": "18030826848297166341"
     },
     "user_tz": -120
    },
    "id": "r6Pc-Y64kcKd",
    "outputId": "b8a3d1b7-8e35-4003-b1c0-103912fc7156"
   },
   "outputs": [
    {
     "data": {
      "text/plain": [
       "2021    7\n",
       "2011    7\n",
       "2016    6\n",
       "2010    6\n",
       "2017    5\n",
       "2019    5\n",
       "2020    5\n",
       "2018    5\n",
       "2013    5\n",
       "2012    4\n",
       "2014    4\n",
       "2022    4\n",
       "2015    3\n",
       "2005    3\n",
       "2009    2\n",
       "2006    2\n",
       "2008    2\n",
       "2007    1\n",
       "2023    1\n",
       "2001    1\n",
       "1995    1\n",
       "1998    1\n",
       "2000    1\n",
       "Name: Year, dtype: int64"
      ]
     },
     "execution_count": 7,
     "metadata": {},
     "output_type": "execute_result"
    }
   ],
   "source": [
    "top_artists['Year'].value_counts()    # distribution of year release"
   ]
  },
  {
   "cell_type": "code",
   "execution_count": 8,
   "metadata": {
    "colab": {
     "base_uri": "https://localhost:8080/",
     "height": 499
    },
    "executionInfo": {
     "elapsed": 9,
     "status": "ok",
     "timestamp": 1716379805778,
     "user": {
      "displayName": "Alexandros Tremopoulos",
      "userId": "18030826848297166341"
     },
     "user_tz": -120
    },
    "id": "hsuvDXDQkfvq",
    "outputId": "99c2f0b0-1fae-4f2d-d09a-c263ff560204"
   },
   "outputs": [
    {
     "data": {
      "text/plain": [
       "(array([ 1.,  2.,  1.,  5.,  3., 15., 13., 14., 15., 12.]),\n",
       " array([1995. , 1997.8, 2000.6, 2003.4, 2006.2, 2009. , 2011.8, 2014.6,\n",
       "        2017.4, 2020.2, 2023. ]),\n",
       " <BarContainer object of 10 artists>)"
      ]
     },
     "execution_count": 8,
     "metadata": {},
     "output_type": "execute_result"
    },
    {
     "data": {
      "image/png": "[encoded data removed]",
      "text/plain": [
       "<Figure size 640x480 with 1 Axes>"
      ]
     },
     "metadata": {},
     "output_type": "display_data"
    }
   ],
   "source": [
    "plt.hist(top_artists['Year'])   # distribution of year release in a histogram"
   ]
  },
  {
   "cell_type": "code",
   "execution_count": 9,
   "metadata": {
    "colab": {
     "base_uri": "https://localhost:8080/",
     "height": 535
    },
    "executionInfo": {
     "elapsed": 443,
     "status": "ok",
     "timestamp": 1716379806214,
     "user": {
      "displayName": "Alexandros Tremopoulos",
      "userId": "18030826848297166341"
     },
     "user_tz": -120
    },
    "id": "RWzhYkHAkxQD",
    "outputId": "73e7f77a-c205-4c42-90cf-2faf861ed228"
   },
   "outputs": [
    {
     "data": {
      "text/plain": [
       "(array([17., 15., 17.,  5., 12.,  5.,  0.,  1.,  4.,  5.]),\n",
       " array([  180000. ,  1636811.6,  3093623.2,  4550434.8,  6007246.4,\n",
       "         7464058. ,  8920869.6, 10377681.2, 11834492.8, 13291304.4,\n",
       "        14748116. ]),\n",
       " <BarContainer object of 10 artists>)"
      ]
     },
     "execution_count": 9,
     "metadata": {},
     "output_type": "execute_result"
    },
    {
     "data": {
      "image/png": "[encoded data removed]",
      "text/plain": [
       "<Figure size 640x480 with 1 Axes>"
      ]
     },
     "metadata": {},
     "output_type": "display_data"
    }
   ],
   "source": [
    "plt.hist(top_artists['Sales'])  # distribution of album sales in a histogram"
   ]
  },
  {
   "cell_type": "code",
   "execution_count": 10,
   "metadata": {
    "colab": {
     "base_uri": "https://localhost:8080/",
     "height": 584
    },
    "executionInfo": {
     "elapsed": 613,
     "status": "ok",
     "timestamp": 1716379806820,
     "user": {
      "displayName": "Alexandros Tremopoulos",
      "userId": "18030826848297166341"
     },
     "user_tz": -120
    },
    "id": "GktSxmtEkzi7",
    "outputId": "833d65e1-8576-4e89-8e6e-b47ebc7bf1f0"
   },
   "outputs": [
    {
     "data": {
      "text/plain": [
       "{'whiskers': [<matplotlib.lines.Line2D at 0x221c57c8150>,\n",
       "  <matplotlib.lines.Line2D at 0x221c5842a50>],\n",
       " 'caps': [<matplotlib.lines.Line2D at 0x221c58435d0>,\n",
       "  <matplotlib.lines.Line2D at 0x221c5843fd0>],\n",
       " 'boxes': [<matplotlib.lines.Line2D at 0x221c5832ed0>],\n",
       " 'medians': [<matplotlib.lines.Line2D at 0x221c5854b50>],\n",
       " 'fliers': [<matplotlib.lines.Line2D at 0x221c581d890>],\n",
       " 'means': []}"
      ]
     },
     "execution_count": 10,
     "metadata": {},
     "output_type": "execute_result"
    },
    {
     "data": {
      "image/png": "[encoded data removed]",
      "text/plain": [
       "<Figure size 640x480 with 1 Axes>"
      ]
     },
     "metadata": {},
     "output_type": "display_data"
    }
   ],
   "source": [
    "plt.boxplot(top_artists['Sales']) # distribution of year release in a boxplot"
   ]
  },
  {
   "cell_type": "code",
   "execution_count": 11,
   "metadata": {
    "colab": {
     "base_uri": "https://localhost:8080/"
    },
    "executionInfo": {
     "elapsed": 26,
     "status": "ok",
     "timestamp": 1716379806820,
     "user": {
      "displayName": "Alexandros Tremopoulos",
      "userId": "18030826848297166341"
     },
     "user_tz": -120
    },
    "id": "Rqckra79k8Ne",
    "outputId": "0ca4dd2d-8a36-4870-990f-51fb4b5f6b86"
   },
   "outputs": [
    {
     "data": {
      "text/plain": [
       "12    10\n",
       "13     8\n",
       "14     7\n",
       "15     4\n",
       "11     4\n",
       "17     3\n",
       "16     2\n",
       "18     2\n",
       "20     2\n",
       "       2\n",
       "30     1\n",
       "25     1\n",
       "8      1\n",
       "6      1\n",
       "Name: Songs, dtype: int64"
      ]
     },
     "execution_count": 11,
     "metadata": {},
     "output_type": "execute_result"
    }
   ],
   "source": [
    "top_artists['Songs'].value_counts()   # distribution of nof songs in all the albums"
   ]
  },
  {
   "cell_type": "code",
   "execution_count": 12,
   "metadata": {
    "colab": {
     "base_uri": "https://localhost:8080/",
     "height": 112
    },
    "executionInfo": {
     "elapsed": 25,
     "status": "ok",
     "timestamp": 1716379806820,
     "user": {
      "displayName": "Alexandros Tremopoulos",
      "userId": "18030826848297166341"
     },
     "user_tz": -120
    },
    "id": "A9Ocd_RClDvs",
    "outputId": "863ea8ee-38a4-4694-c67f-2089c5b18205"
   },
   "outputs": [
    {
     "data": {
      "text/html": [
       "<div>\n",
       "<style scoped>\n",
       "    .dataframe tbody tr th:only-of-type {\n",
       "        vertical-align: middle;\n",
       "    }\n",
       "\n",
       "    .dataframe tbody tr th {\n",
       "        vertical-align: top;\n",
       "    }\n",
       "\n",
       "    .dataframe thead th {\n",
       "        text-align: right;\n",
       "    }\n",
       "</style>\n",
       "<table border=\"1\" class=\"dataframe\">\n",
       "  <thead>\n",
       "    <tr style=\"text-align: right;\">\n",
       "      <th></th>\n",
       "      <th>Artist</th>\n",
       "      <th>Album</th>\n",
       "      <th>Year</th>\n",
       "      <th>Songs</th>\n",
       "      <th>Sales</th>\n",
       "    </tr>\n",
       "  </thead>\n",
       "  <tbody>\n",
       "    <tr>\n",
       "      <th>51</th>\n",
       "      <td>The Weeknd</td>\n",
       "      <td>Dawn FM</td>\n",
       "      <td>2022</td>\n",
       "      <td></td>\n",
       "      <td>340000</td>\n",
       "    </tr>\n",
       "    <tr>\n",
       "      <th>68</th>\n",
       "      <td>Justin Bieber</td>\n",
       "      <td>My World</td>\n",
       "      <td>2010</td>\n",
       "      <td></td>\n",
       "      <td>3980000</td>\n",
       "    </tr>\n",
       "  </tbody>\n",
       "</table>\n",
       "</div>"
      ],
      "text/plain": [
       "           Artist     Album  Year Songs    Sales\n",
       "51     The Weeknd   Dawn FM  2022         340000\n",
       "68  Justin Bieber  My World  2010        3980000"
      ]
     },
     "execution_count": 12,
     "metadata": {},
     "output_type": "execute_result"
    }
   ],
   "source": [
    "top_artists[top_artists['Songs']==\" \"]    # there are two observations with a whitespace in the songs column"
   ]
  },
  {
   "cell_type": "code",
   "execution_count": 13,
   "metadata": {
    "executionInfo": {
     "elapsed": 23,
     "status": "ok",
     "timestamp": 1716379806820,
     "user": {
      "displayName": "Alexandros Tremopoulos",
      "userId": "18030826848297166341"
     },
     "user_tz": -120
    },
    "id": "Xy3lK5LXl4C6"
   },
   "outputs": [],
   "source": [
    "top_artists = top_artists.replace(r'^\\s*$', np.nan, regex=True)   # replace these two empty observations with NaN"
   ]
  },
  {
   "cell_type": "code",
   "execution_count": 14,
   "metadata": {
    "colab": {
     "base_uri": "https://localhost:8080/",
     "height": 1000
    },
    "executionInfo": {
     "elapsed": 23,
     "status": "ok",
     "timestamp": 1716379806820,
     "user": {
      "displayName": "Alexandros Tremopoulos",
      "userId": "18030826848297166341"
     },
     "user_tz": -120
    },
    "id": "F6UpAvmSmi3H",
    "outputId": "cf01dcef-18b5-4602-e595-814f1011e729"
   },
   "outputs": [
    {
     "data": {
      "text/html": [
       "<div>\n",
       "<style scoped>\n",
       "    .dataframe tbody tr th:only-of-type {\n",
       "        vertical-align: middle;\n",
       "    }\n",
       "\n",
       "    .dataframe tbody tr th {\n",
       "        vertical-align: top;\n",
       "    }\n",
       "\n",
       "    .dataframe thead th {\n",
       "        text-align: right;\n",
       "    }\n",
       "</style>\n",
       "<table border=\"1\" class=\"dataframe\">\n",
       "  <thead>\n",
       "    <tr style=\"text-align: right;\">\n",
       "      <th></th>\n",
       "      <th>Artist</th>\n",
       "      <th>Album</th>\n",
       "      <th>Year</th>\n",
       "      <th>Songs</th>\n",
       "      <th>Sales</th>\n",
       "    </tr>\n",
       "  </thead>\n",
       "  <tbody>\n",
       "    <tr>\n",
       "      <th>7</th>\n",
       "      <td>Taylor Swift</td>\n",
       "      <td>floklore (deluxe version)</td>\n",
       "      <td>2020</td>\n",
       "      <td>NaN</td>\n",
       "      <td>4360487</td>\n",
       "    </tr>\n",
       "    <tr>\n",
       "      <th>8</th>\n",
       "      <td>Taylor Swift</td>\n",
       "      <td>midnights</td>\n",
       "      <td>2022</td>\n",
       "      <td>NaN</td>\n",
       "      <td>3387836</td>\n",
       "    </tr>\n",
       "    <tr>\n",
       "      <th>11</th>\n",
       "      <td>Taylor Swift</td>\n",
       "      <td>1989 (Taylor's version)</td>\n",
       "      <td>2023</td>\n",
       "      <td>NaN</td>\n",
       "      <td>14748116</td>\n",
       "    </tr>\n",
       "    <tr>\n",
       "      <th>12</th>\n",
       "      <td>Taylor Swift</td>\n",
       "      <td>evermore (deluxe version)</td>\n",
       "      <td>2021</td>\n",
       "      <td>NaN</td>\n",
       "      <td>1998779</td>\n",
       "    </tr>\n",
       "    <tr>\n",
       "      <th>16</th>\n",
       "      <td>Post Malone</td>\n",
       "      <td>Twelve Carat Toothache</td>\n",
       "      <td>2022</td>\n",
       "      <td>NaN</td>\n",
       "      <td>3387836</td>\n",
       "    </tr>\n",
       "    <tr>\n",
       "      <th>17</th>\n",
       "      <td>Post Malone</td>\n",
       "      <td>Austin</td>\n",
       "      <td>2022</td>\n",
       "      <td>NaN</td>\n",
       "      <td>1998779</td>\n",
       "    </tr>\n",
       "    <tr>\n",
       "      <th>23</th>\n",
       "      <td>Ariana Grande</td>\n",
       "      <td>Positions</td>\n",
       "      <td>2020</td>\n",
       "      <td>NaN</td>\n",
       "      <td>1603367</td>\n",
       "    </tr>\n",
       "    <tr>\n",
       "      <th>29</th>\n",
       "      <td>Drake</td>\n",
       "      <td>More Life</td>\n",
       "      <td>2017</td>\n",
       "      <td>NaN</td>\n",
       "      <td>4005250</td>\n",
       "    </tr>\n",
       "    <tr>\n",
       "      <th>30</th>\n",
       "      <td>Drake</td>\n",
       "      <td>If you're reading this its too late</td>\n",
       "      <td>2015</td>\n",
       "      <td>NaN</td>\n",
       "      <td>3480000</td>\n",
       "    </tr>\n",
       "    <tr>\n",
       "      <th>31</th>\n",
       "      <td>Billie Eilish</td>\n",
       "      <td>Happier than ever</td>\n",
       "      <td>2021</td>\n",
       "      <td>NaN</td>\n",
       "      <td>885000</td>\n",
       "    </tr>\n",
       "    <tr>\n",
       "      <th>32</th>\n",
       "      <td>Billie Eilish</td>\n",
       "      <td>Don't smile at me</td>\n",
       "      <td>2017</td>\n",
       "      <td>NaN</td>\n",
       "      <td>2434691</td>\n",
       "    </tr>\n",
       "    <tr>\n",
       "      <th>35</th>\n",
       "      <td>Lady Gaga</td>\n",
       "      <td>The Fame Monster</td>\n",
       "      <td>2009</td>\n",
       "      <td>NaN</td>\n",
       "      <td>8298000</td>\n",
       "    </tr>\n",
       "    <tr>\n",
       "      <th>39</th>\n",
       "      <td>Lady Gaga</td>\n",
       "      <td>A Star is born (soundtrack)</td>\n",
       "      <td>2018</td>\n",
       "      <td>NaN</td>\n",
       "      <td>4270810</td>\n",
       "    </tr>\n",
       "    <tr>\n",
       "      <th>40</th>\n",
       "      <td>Lady Gaga</td>\n",
       "      <td>Chromatica</td>\n",
       "      <td>2020</td>\n",
       "      <td>NaN</td>\n",
       "      <td>1483784</td>\n",
       "    </tr>\n",
       "    <tr>\n",
       "      <th>41</th>\n",
       "      <td>Lady Gaga</td>\n",
       "      <td>Joanne</td>\n",
       "      <td>2016</td>\n",
       "      <td>NaN</td>\n",
       "      <td>1305793</td>\n",
       "    </tr>\n",
       "    <tr>\n",
       "      <th>47</th>\n",
       "      <td>Rihanna</td>\n",
       "      <td>Anti</td>\n",
       "      <td>2016</td>\n",
       "      <td>NaN</td>\n",
       "      <td>6537235</td>\n",
       "    </tr>\n",
       "    <tr>\n",
       "      <th>48</th>\n",
       "      <td>Rihanna</td>\n",
       "      <td>A girl like me</td>\n",
       "      <td>2006</td>\n",
       "      <td>NaN</td>\n",
       "      <td>3377500</td>\n",
       "    </tr>\n",
       "    <tr>\n",
       "      <th>49</th>\n",
       "      <td>Rihanna</td>\n",
       "      <td>Music of the sun</td>\n",
       "      <td>2005</td>\n",
       "      <td>NaN</td>\n",
       "      <td>1407500</td>\n",
       "    </tr>\n",
       "    <tr>\n",
       "      <th>51</th>\n",
       "      <td>The Weeknd</td>\n",
       "      <td>Dawn FM</td>\n",
       "      <td>2022</td>\n",
       "      <td>NaN</td>\n",
       "      <td>340000</td>\n",
       "    </tr>\n",
       "    <tr>\n",
       "      <th>57</th>\n",
       "      <td>The Weeknd</td>\n",
       "      <td>The highlights</td>\n",
       "      <td>2021</td>\n",
       "      <td>NaN</td>\n",
       "      <td>2116000</td>\n",
       "    </tr>\n",
       "    <tr>\n",
       "      <th>58</th>\n",
       "      <td>The Weeknd</td>\n",
       "      <td>Trilogy</td>\n",
       "      <td>2012</td>\n",
       "      <td>NaN</td>\n",
       "      <td>1360000</td>\n",
       "    </tr>\n",
       "    <tr>\n",
       "      <th>62</th>\n",
       "      <td>Ed Sheeran</td>\n",
       "      <td>=</td>\n",
       "      <td>2021</td>\n",
       "      <td>NaN</td>\n",
       "      <td>1862489</td>\n",
       "    </tr>\n",
       "    <tr>\n",
       "      <th>68</th>\n",
       "      <td>Justin Bieber</td>\n",
       "      <td>My World</td>\n",
       "      <td>2010</td>\n",
       "      <td>NaN</td>\n",
       "      <td>3980000</td>\n",
       "    </tr>\n",
       "    <tr>\n",
       "      <th>69</th>\n",
       "      <td>Justin Bieber</td>\n",
       "      <td>Justice</td>\n",
       "      <td>2021</td>\n",
       "      <td>NaN</td>\n",
       "      <td>3793131</td>\n",
       "    </tr>\n",
       "    <tr>\n",
       "      <th>70</th>\n",
       "      <td>Justin Bieber</td>\n",
       "      <td>Under the Mistletoe</td>\n",
       "      <td>2011</td>\n",
       "      <td>NaN</td>\n",
       "      <td>2700725</td>\n",
       "    </tr>\n",
       "    <tr>\n",
       "      <th>71</th>\n",
       "      <td>Justin Bieber</td>\n",
       "      <td>Never say never - the remixes</td>\n",
       "      <td>2011</td>\n",
       "      <td>NaN</td>\n",
       "      <td>1133000</td>\n",
       "    </tr>\n",
       "    <tr>\n",
       "      <th>72</th>\n",
       "      <td>Justin Bieber</td>\n",
       "      <td>Journals</td>\n",
       "      <td>2013</td>\n",
       "      <td>NaN</td>\n",
       "      <td>1080000</td>\n",
       "    </tr>\n",
       "    <tr>\n",
       "      <th>73</th>\n",
       "      <td>Shakira</td>\n",
       "      <td>Laundry service</td>\n",
       "      <td>2001</td>\n",
       "      <td>NaN</td>\n",
       "      <td>13000000</td>\n",
       "    </tr>\n",
       "    <tr>\n",
       "      <th>74</th>\n",
       "      <td>Shakira</td>\n",
       "      <td>Fijación oral Vol 1</td>\n",
       "      <td>2005</td>\n",
       "      <td>NaN</td>\n",
       "      <td>3150519</td>\n",
       "    </tr>\n",
       "    <tr>\n",
       "      <th>75</th>\n",
       "      <td>Shakira</td>\n",
       "      <td>Oral Fixation vol 2</td>\n",
       "      <td>2005</td>\n",
       "      <td>NaN</td>\n",
       "      <td>2878001</td>\n",
       "    </tr>\n",
       "    <tr>\n",
       "      <th>76</th>\n",
       "      <td>Shakira</td>\n",
       "      <td>Pies Descalzos</td>\n",
       "      <td>1995</td>\n",
       "      <td>NaN</td>\n",
       "      <td>2695000</td>\n",
       "    </tr>\n",
       "    <tr>\n",
       "      <th>77</th>\n",
       "      <td>Shakira</td>\n",
       "      <td>Donde están los ladrones</td>\n",
       "      <td>1998</td>\n",
       "      <td>NaN</td>\n",
       "      <td>2551351</td>\n",
       "    </tr>\n",
       "    <tr>\n",
       "      <th>78</th>\n",
       "      <td>Shakira</td>\n",
       "      <td>Sale el sol / The sun comes out</td>\n",
       "      <td>2010</td>\n",
       "      <td>NaN</td>\n",
       "      <td>2389939</td>\n",
       "    </tr>\n",
       "    <tr>\n",
       "      <th>79</th>\n",
       "      <td>Shakira</td>\n",
       "      <td>El dorado</td>\n",
       "      <td>2017</td>\n",
       "      <td>NaN</td>\n",
       "      <td>985000</td>\n",
       "    </tr>\n",
       "    <tr>\n",
       "      <th>80</th>\n",
       "      <td>Shakira</td>\n",
       "      <td>MTV Umplugged</td>\n",
       "      <td>2000</td>\n",
       "      <td>NaN</td>\n",
       "      <td>828663</td>\n",
       "    </tr>\n",
       "  </tbody>\n",
       "</table>\n",
       "</div>"
      ],
      "text/plain": [
       "           Artist                                Album  Year  Songs     Sales\n",
       "7    Taylor Swift            floklore (deluxe version)  2020    NaN   4360487\n",
       "8    Taylor Swift                            midnights  2022    NaN   3387836\n",
       "11   Taylor Swift              1989 (Taylor's version)  2023    NaN  14748116\n",
       "12   Taylor Swift            evermore (deluxe version)  2021    NaN   1998779\n",
       "16    Post Malone               Twelve Carat Toothache  2022    NaN   3387836\n",
       "17    Post Malone                               Austin  2022    NaN   1998779\n",
       "23  Ariana Grande                            Positions  2020    NaN   1603367\n",
       "29          Drake                           More Life   2017    NaN   4005250\n",
       "30          Drake  If you're reading this its too late  2015    NaN   3480000\n",
       "31  Billie Eilish                    Happier than ever  2021    NaN    885000\n",
       "32  Billie Eilish                    Don't smile at me  2017    NaN   2434691\n",
       "35      Lady Gaga                     The Fame Monster  2009    NaN   8298000\n",
       "39      Lady Gaga          A Star is born (soundtrack)  2018    NaN   4270810\n",
       "40      Lady Gaga                           Chromatica  2020    NaN   1483784\n",
       "41      Lady Gaga                               Joanne  2016    NaN   1305793\n",
       "47        Rihanna                                 Anti  2016    NaN   6537235\n",
       "48        Rihanna                       A girl like me  2006    NaN   3377500\n",
       "49        Rihanna                     Music of the sun  2005    NaN   1407500\n",
       "51     The Weeknd                              Dawn FM  2022    NaN    340000\n",
       "57     The Weeknd                       The highlights  2021    NaN   2116000\n",
       "58     The Weeknd                              Trilogy  2012    NaN   1360000\n",
       "62     Ed Sheeran                                    =  2021    NaN   1862489\n",
       "68  Justin Bieber                             My World  2010    NaN   3980000\n",
       "69  Justin Bieber                              Justice  2021    NaN   3793131\n",
       "70  Justin Bieber                  Under the Mistletoe  2011    NaN   2700725\n",
       "71  Justin Bieber        Never say never - the remixes  2011    NaN   1133000\n",
       "72  Justin Bieber                             Journals  2013    NaN   1080000\n",
       "73        Shakira                      Laundry service  2001    NaN  13000000\n",
       "74        Shakira                  Fijación oral Vol 1  2005    NaN   3150519\n",
       "75        Shakira                  Oral Fixation vol 2  2005    NaN   2878001\n",
       "76        Shakira                       Pies Descalzos  1995    NaN   2695000\n",
       "77        Shakira             Donde están los ladrones  1998    NaN   2551351\n",
       "78        Shakira      Sale el sol / The sun comes out  2010    NaN   2389939\n",
       "79        Shakira                            El dorado  2017    NaN    985000\n",
       "80        Shakira                        MTV Umplugged  2000    NaN    828663"
      ]
     },
     "execution_count": 14,
     "metadata": {},
     "output_type": "execute_result"
    }
   ],
   "source": [
    "top_artists[top_artists['Songs'].isna()]    # There are 35 observations with NaN in the songs column."
   ]
  },
  {
   "cell_type": "code",
   "execution_count": 15,
   "metadata": {
    "colab": {
     "base_uri": "https://localhost:8080/"
    },
    "executionInfo": {
     "elapsed": 21,
     "status": "ok",
     "timestamp": 1716379806820,
     "user": {
      "displayName": "Alexandros Tremopoulos",
      "userId": "18030826848297166341"
     },
     "user_tz": -120
    },
    "id": "v3L8o7JGm0hw",
    "outputId": "082e9c6a-b8a1-437f-d128-d5ce51c15b37"
   },
   "outputs": [
    {
     "data": {
      "text/plain": [
       "Artist     0\n",
       "Album      0\n",
       "Year       0\n",
       "Songs     35\n",
       "Sales      0\n",
       "dtype: int64"
      ]
     },
     "execution_count": 15,
     "metadata": {},
     "output_type": "execute_result"
    }
   ],
   "source": [
    "top_artists.isna().sum()  # Since they are many(35) and since it seems that they will not be needed to perform our tasks, we do not impute or delete the observations"
   ]
  },
  {
   "cell_type": "code",
   "execution_count": 16,
   "metadata": {
    "executionInfo": {
     "elapsed": 18,
     "status": "ok",
     "timestamp": 1716379806821,
     "user": {
      "displayName": "Alexandros Tremopoulos",
      "userId": "18030826848297166341"
     },
     "user_tz": -120
    },
    "id": "Cb-X2GylIfUd"
   },
   "outputs": [],
   "source": [
    "top_artists.to_csv('topArtists_cleaned.csv',index=False)  # save the cleaned data"
   ]
  },
  {
   "cell_type": "code",
   "execution_count": 17,
   "metadata": {
    "colab": {
     "base_uri": "https://localhost:8080/",
     "height": 206
    },
    "executionInfo": {
     "elapsed": 18,
     "status": "ok",
     "timestamp": 1716379806821,
     "user": {
      "displayName": "Alexandros Tremopoulos",
      "userId": "18030826848297166341"
     },
     "user_tz": -120
    },
    "id": "lmHQB0AbJGk5",
    "outputId": "be4adc27-84f9-4856-d616-c2dc88ebc311"
   },
   "outputs": [
    {
     "data": {
      "text/html": [
       "<div>\n",
       "<style scoped>\n",
       "    .dataframe tbody tr th:only-of-type {\n",
       "        vertical-align: middle;\n",
       "    }\n",
       "\n",
       "    .dataframe tbody tr th {\n",
       "        vertical-align: top;\n",
       "    }\n",
       "\n",
       "    .dataframe thead th {\n",
       "        text-align: right;\n",
       "    }\n",
       "</style>\n",
       "<table border=\"1\" class=\"dataframe\">\n",
       "  <thead>\n",
       "    <tr style=\"text-align: right;\">\n",
       "      <th></th>\n",
       "      <th>Artist</th>\n",
       "      <th>Album</th>\n",
       "      <th>Year</th>\n",
       "      <th>Songs</th>\n",
       "      <th>Sales</th>\n",
       "    </tr>\n",
       "  </thead>\n",
       "  <tbody>\n",
       "    <tr>\n",
       "      <th>0</th>\n",
       "      <td>Taylor Swift</td>\n",
       "      <td>Taylor Swift</td>\n",
       "      <td>2006</td>\n",
       "      <td>13.0</td>\n",
       "      <td>7275000</td>\n",
       "    </tr>\n",
       "    <tr>\n",
       "      <th>1</th>\n",
       "      <td>Taylor Swift</td>\n",
       "      <td>Fearless</td>\n",
       "      <td>2008</td>\n",
       "      <td>13.0</td>\n",
       "      <td>11911000</td>\n",
       "    </tr>\n",
       "    <tr>\n",
       "      <th>2</th>\n",
       "      <td>Taylor Swift</td>\n",
       "      <td>Speak Now</td>\n",
       "      <td>2010</td>\n",
       "      <td>14.0</td>\n",
       "      <td>6917500</td>\n",
       "    </tr>\n",
       "    <tr>\n",
       "      <th>3</th>\n",
       "      <td>Taylor Swift</td>\n",
       "      <td>Red</td>\n",
       "      <td>2012</td>\n",
       "      <td>16.0</td>\n",
       "      <td>8889124</td>\n",
       "    </tr>\n",
       "    <tr>\n",
       "      <th>4</th>\n",
       "      <td>Taylor Swift</td>\n",
       "      <td>1989</td>\n",
       "      <td>2014</td>\n",
       "      <td>13.0</td>\n",
       "      <td>14748116</td>\n",
       "    </tr>\n",
       "  </tbody>\n",
       "</table>\n",
       "</div>"
      ],
      "text/plain": [
       "         Artist         Album  Year  Songs     Sales\n",
       "0  Taylor Swift  Taylor Swift  2006   13.0   7275000\n",
       "1  Taylor Swift      Fearless  2008   13.0  11911000\n",
       "2  Taylor Swift     Speak Now  2010   14.0   6917500\n",
       "3  Taylor Swift           Red  2012   16.0   8889124\n",
       "4  Taylor Swift          1989  2014   13.0  14748116"
      ]
     },
     "execution_count": 17,
     "metadata": {},
     "output_type": "execute_result"
    }
   ],
   "source": [
    "top_artists = pd.read_csv('topArtists_cleaned.csv')   # read the cleaned data\n",
    "top_artists.head()"
   ]
  },
  {
   "cell_type": "markdown",
   "metadata": {
    "id": "n8f51NpSzna2"
   },
   "source": [
    "## Q1: What artists have been more successful along the whole time?"
   ]
  },
  {
   "cell_type": "markdown",
   "metadata": {
    "id": "hH7uaCsK-qpi"
   },
   "source": [
    "The default altair palette covers at most 10 different colors. In the previous project I was using in some charts the same color for more than one element. Thus, this time from the start of my work **I created a palette** so that there are no overlappings, and so that the colors are distinguishable. I did this by using **colorgorical**. This pallete is used in the 1st question as well. I also tested it in Coblis (Color Blindness Simulator) to be sure that **color-blind** people can still distinguish the different colors."
   ]
  },
  {
   "cell_type": "code",
   "execution_count": 18,
   "metadata": {
    "executionInfo": {
     "elapsed": 17,
     "status": "ok",
     "timestamp": 1716379806821,
     "user": {
      "displayName": "Alexandros Tremopoulos",
      "userId": "18030826848297166341"
     },
     "user_tz": -120
    },
    "id": "6q_ezS_jkzTJ"
   },
   "outputs": [],
   "source": [
    "colorgorical = [\"rgb(105,239,123)\", \"rgb(216,21,180)\", \"rgb(172,225,183)\", \"rgb(120,40,87)\", \"rgb(37,184,234)\", \"rgb(32,80,46)\", \"rgb(250,175,227)\", \"rgb(52,70,109)\", \"rgb(192,225,92)\", \"rgb(114,68,185)\", \"rgb(99,161,34)\"]\n",
    "# we have 11 artists so I have 11 colors in this palette."
   ]
  },
  {
   "cell_type": "markdown",
   "metadata": {
    "id": "4LNrU0UBC0f5"
   },
   "source": [
    "The question requires an answer \"along the whole time\". Thus, we have to use the year column. From the rest columns we have, Artist, Album, Songs, Sales, the one that more appropriate that could measure the successfulness of each artists seems to be the 'Sales' column. Hence, I create a line chart with Year in x-axis and Sales in y-axis, while being colored regarding the artist."
   ]
  },
  {
   "cell_type": "code",
   "execution_count": 19,
   "metadata": {
    "colab": {
     "base_uri": "https://localhost:8080/",
     "height": 399
    },
    "executionInfo": {
     "elapsed": 16,
     "status": "ok",
     "timestamp": 1716379806821,
     "user": {
      "displayName": "Alexandros Tremopoulos",
      "userId": "18030826848297166341"
     },
     "user_tz": -120
    },
    "id": "zbVmXJNBDhY6",
    "outputId": "bd4704c5-79a1-4913-ef9b-a477f7138860"
   },
   "outputs": [
    {
     "data": {
      "text/html": [
       "\n",
       "<style>\n",
       "  #altair-viz-33e7f6d006a5452b8ea2cf5915c81258.vega-embed {\n",
       "    width: 100%;\n",
       "    display: flex;\n",
       "  }\n",
       "\n",
       "  #altair-viz-33e7f6d006a5452b8ea2cf5915c81258.vega-embed details,\n",
       "  #altair-viz-33e7f6d006a5452b8ea2cf5915c81258.vega-embed details summary {\n",
       "    position: relative;\n",
       "  }\n",
       "</style>\n",
       "<div id=\"altair-viz-33e7f6d006a5452b8ea2cf5915c81258\"></div>\n",
       "<script type=\"text/javascript\">\n",
       "  var VEGA_DEBUG = (typeof VEGA_DEBUG == \"undefined\") ? {} : VEGA_DEBUG;\n",
       "  (function(spec, embedOpt){\n",
       "    let outputDiv = document.currentScript.previousElementSibling;\n",
       "    if (outputDiv.id !== \"altair-viz-33e7f6d006a5452b8ea2cf5915c81258\") {\n",
       "      outputDiv = document.getElementById(\"altair-viz-33e7f6d006a5452b8ea2cf5915c81258\");\n",
       "    }\n",
       "    const paths = {\n",
       "      \"vega\": \"https://cdn.jsdelivr.net/npm/vega@5?noext\",\n",
       "      \"vega-lib\": \"https://cdn.jsdelivr.net/npm/vega-lib?noext\",\n",
       "      \"vega-lite\": \"https://cdn.jsdelivr.net/npm/vega-lite@5.17.0?noext\",\n",
       "      \"vega-embed\": \"https://cdn.jsdelivr.net/npm/vega-embed@6?noext\",\n",
       "    };\n",
       "\n",
       "    function maybeLoadScript(lib, version) {\n",
       "      var key = `${lib.replace(\"-\", \"\")}_version`;\n",
       "      return (VEGA_DEBUG[key] == version) ?\n",
       "        Promise.resolve(paths[lib]) :\n",
       "        new Promise(function(resolve, reject) {\n",
       "          var s = document.createElement('script');\n",
       "          document.getElementsByTagName(\"head\")[0].appendChild(s);\n",
       "          s.async = true;\n",
       "          s.onload = () => {\n",
       "            VEGA_DEBUG[key] = version;\n",
       "            return resolve(paths[lib]);\n",
       "          };\n",
       "          s.onerror = () => reject(`Error loading script: ${paths[lib]}`);\n",
       "          s.src = paths[lib];\n",
       "        });\n",
       "    }\n",
       "\n",
       "    function showError(err) {\n",
       "      outputDiv.innerHTML = `<div class=\"error\" style=\"color:red;\">${err}</div>`;\n",
       "      throw err;\n",
       "    }\n",
       "\n",
       "    function displayChart(vegaEmbed) {\n",
       "      vegaEmbed(outputDiv, spec, embedOpt)\n",
       "        .catch(err => showError(`Javascript Error: ${err.message}<br>This usually means there's a typo in your chart specification. See the javascript console for the full traceback.`));\n",
       "    }\n",
       "\n",
       "    if(typeof define === \"function\" && define.amd) {\n",
       "      requirejs.config({paths});\n",
       "      require([\"vega-embed\"], displayChart, err => showError(`Error loading script: ${err.message}`));\n",
       "    } else {\n",
       "      maybeLoadScript(\"vega\", \"5\")\n",
       "        .then(() => maybeLoadScript(\"vega-lite\", \"5.17.0\"))\n",
       "        .then(() => maybeLoadScript(\"vega-embed\", \"6\"))\n",
       "        .catch(showError)\n",
       "        .then(() => displayChart(vegaEmbed));\n",
       "    }\n",
       "  })({\"config\": {\"view\": {\"continuousWidth\": 300, \"continuousHeight\": 300}}, \"data\": {\"name\": \"data-db39071cae9f800ffde39ceafcbb23ef\"}, \"mark\": {\"type\": \"line\"}, \"encoding\": {\"color\": {\"field\": \"Artist\", \"type\": \"nominal\"}, \"x\": {\"field\": \"Year\", \"title\": \"Year\", \"type\": \"nominal\"}, \"y\": {\"field\": \"Sales\", \"title\": \"Sales\", \"type\": \"quantitative\"}}, \"title\": \"Sales of artist's album through the years\", \"$schema\": \"https://vega.github.io/schema/vega-lite/v5.17.0.json\", \"datasets\": {\"data-db39071cae9f800ffde39ceafcbb23ef\": [{\"Artist\": \"Taylor Swift\", \"Album\": \"Taylor Swift\", \"Year\": 2006, \"Songs\": 13.0, \"Sales\": 7275000}, {\"Artist\": \"Taylor Swift\", \"Album\": \"Fearless\", \"Year\": 2008, \"Songs\": 13.0, \"Sales\": 11911000}, {\"Artist\": \"Taylor Swift\", \"Album\": \"Speak Now\", \"Year\": 2010, \"Songs\": 14.0, \"Sales\": 6917500}, {\"Artist\": \"Taylor Swift\", \"Album\": \"Red\", \"Year\": 2012, \"Songs\": 16.0, \"Sales\": 8889124}, {\"Artist\": \"Taylor Swift\", \"Album\": \"1989\", \"Year\": 2014, \"Songs\": 13.0, \"Sales\": 14748116}, {\"Artist\": \"Taylor Swift\", \"Album\": \"Reputation\", \"Year\": 2017, \"Songs\": 15.0, \"Sales\": 6186524}, {\"Artist\": \"Taylor Swift\", \"Album\": \"Lover\", \"Year\": 2019, \"Songs\": 18.0, \"Sales\": 5686733}, {\"Artist\": \"Taylor Swift\", \"Album\": \"floklore (deluxe version)\", \"Year\": 2020, \"Songs\": null, \"Sales\": 4360487}, {\"Artist\": \"Taylor Swift\", \"Album\": \"midnights\", \"Year\": 2022, \"Songs\": null, \"Sales\": 3387836}, {\"Artist\": \"Taylor Swift\", \"Album\": \"Fearless (Taylor's Version)\", \"Year\": 2021, \"Songs\": 20.0, \"Sales\": 1557687}, {\"Artist\": \"Taylor Swift\", \"Album\": \"Red (Taylor's Version)\", \"Year\": 2021, \"Songs\": 30.0, \"Sales\": 1696632}, {\"Artist\": \"Taylor Swift\", \"Album\": \"1989 (Taylor's version)\", \"Year\": 2023, \"Songs\": null, \"Sales\": 14748116}, {\"Artist\": \"Taylor Swift\", \"Album\": \"evermore (deluxe version)\", \"Year\": 2021, \"Songs\": null, \"Sales\": 1998779}, {\"Artist\": \"Post Malone\", \"Album\": \"Stoney\", \"Year\": 2016, \"Songs\": 11.0, \"Sales\": 7275000}, {\"Artist\": \"Post Malone\", \"Album\": \"Beerbongs & Bentleys\", \"Year\": 2018, \"Songs\": 14.0, \"Sales\": 11911000}, {\"Artist\": \"Post Malone\", \"Album\": \"Hollywood's Bleeding\", \"Year\": 2019, \"Songs\": 17.0, \"Sales\": 6186524}, {\"Artist\": \"Post Malone\", \"Album\": \"Twelve Carat Toothache\", \"Year\": 2022, \"Songs\": null, \"Sales\": 3387836}, {\"Artist\": \"Post Malone\", \"Album\": \"Austin\", \"Year\": 2022, \"Songs\": null, \"Sales\": 1998779}, {\"Artist\": \"Ariana Grande\", \"Album\": \"Yours Truly\", \"Year\": 2013, \"Songs\": 12.0, \"Sales\": 1305000}, {\"Artist\": \"Ariana Grande\", \"Album\": \"My Everything\", \"Year\": 2014, \"Songs\": 13.0, \"Sales\": 3506212}, {\"Artist\": \"Ariana Grande\", \"Album\": \"Dangerous Woman\", \"Year\": 2016, \"Songs\": 12.0, \"Sales\": 3632374}, {\"Artist\": \"Ariana Grande\", \"Album\": \"Sweetener\", \"Year\": 2018, \"Songs\": 15.0, \"Sales\": 1994479}, {\"Artist\": \"Ariana Grande\", \"Album\": \"Thank U, Next\", \"Year\": 2019, \"Songs\": 12.0, \"Sales\": 3775436}, {\"Artist\": \"Ariana Grande\", \"Album\": \"Positions\", \"Year\": 2020, \"Songs\": null, \"Sales\": 1603367}, {\"Artist\": \"Drake\", \"Album\": \"Thank Me Later\", \"Year\": 2010, \"Songs\": 16.0, \"Sales\": 3460000}, {\"Artist\": \"Drake\", \"Album\": \"Take Care\", \"Year\": 2011, \"Songs\": 13.0, \"Sales\": 6920000}, {\"Artist\": \"Drake\", \"Album\": \"Nothing Was the Same\", \"Year\": 2013, \"Songs\": 17.0, \"Sales\": 4595000}, {\"Artist\": \"Drake\", \"Album\": \"Views\", \"Year\": 2016, \"Songs\": 20.0, \"Sales\": 7687247}, {\"Artist\": \"Drake\", \"Album\": \"Scorpion\", \"Year\": 2018, \"Songs\": 25.0, \"Sales\": 6433983}, {\"Artist\": \"Drake\", \"Album\": \"More Life \", \"Year\": 2017, \"Songs\": null, \"Sales\": 4005250}, {\"Artist\": \"Drake\", \"Album\": \"If you're reading this its too late\", \"Year\": 2015, \"Songs\": null, \"Sales\": 3480000}, {\"Artist\": \"Billie Eilish\", \"Album\": \"Happier than ever\", \"Year\": 2021, \"Songs\": null, \"Sales\": 885000}, {\"Artist\": \"Billie Eilish\", \"Album\": \"Don't smile at me\", \"Year\": 2017, \"Songs\": null, \"Sales\": 2434691}, {\"Artist\": \"Billie Eilish\", \"Album\": \"When We All Fall Asleep, Where Do We Go?\", \"Year\": 2019, \"Songs\": 14.0, \"Sales\": 7256516}, {\"Artist\": \"Lady Gaga\", \"Album\": \"The Fame\", \"Year\": 2008, \"Songs\": 11.0, \"Sales\": 14350358}, {\"Artist\": \"Lady Gaga\", \"Album\": \"The Fame Monster\", \"Year\": 2009, \"Songs\": null, \"Sales\": 8298000}, {\"Artist\": \"Lady Gaga\", \"Album\": \"Born This Way\", \"Year\": 2011, \"Songs\": 14.0, \"Sales\": 7166944}, {\"Artist\": \"Lady Gaga\", \"Album\": \"Artpop\", \"Year\": 2013, \"Songs\": 15.0, \"Sales\": 2300000}, {\"Artist\": \"Lady Gaga\", \"Album\": \"Cheek to Cheek\", \"Year\": 2014, \"Songs\": 11.0, \"Sales\": 715000}, {\"Artist\": \"Lady Gaga\", \"Album\": \"A Star is born (soundtrack)\", \"Year\": 2018, \"Songs\": null, \"Sales\": 4270810}, {\"Artist\": \"Lady Gaga\", \"Album\": \"Chromatica\", \"Year\": 2020, \"Songs\": null, \"Sales\": 1483784}, {\"Artist\": \"Lady Gaga\", \"Album\": \"Joanne\", \"Year\": 2016, \"Songs\": null, \"Sales\": 1305793}, {\"Artist\": \"Rihanna\", \"Album\": \"Good Girl Gone Bad\", \"Year\": 2007, \"Songs\": 12.0, \"Sales\": 10854803}, {\"Artist\": \"Rihanna\", \"Album\": \"Rated R\", \"Year\": 2009, \"Songs\": 12.0, \"Sales\": 3183000}, {\"Artist\": \"Rihanna\", \"Album\": \"Loud\", \"Year\": 2010, \"Songs\": 14.0, \"Sales\": 6673000}, {\"Artist\": \"Rihanna\", \"Album\": \"Talk That Talk\", \"Year\": 2011, \"Songs\": 11.0, \"Sales\": 4628000}, {\"Artist\": \"Rihanna\", \"Album\": \"Unapologetic\", \"Year\": 2012, \"Songs\": 12.0, \"Sales\": 4382500}, {\"Artist\": \"Rihanna\", \"Album\": \"Anti\", \"Year\": 2016, \"Songs\": null, \"Sales\": 6537235}, {\"Artist\": \"Rihanna\", \"Album\": \"A girl like me\", \"Year\": 2006, \"Songs\": null, \"Sales\": 3377500}, {\"Artist\": \"Rihanna\", \"Album\": \"Music of the sun\", \"Year\": 2005, \"Songs\": null, \"Sales\": 1407500}, {\"Artist\": \"The Weeknd\", \"Album\": \"House of Balloons\", \"Year\": 2011, \"Songs\": 8.0, \"Sales\": 180000}, {\"Artist\": \"The Weeknd\", \"Album\": \"Dawn FM\", \"Year\": 2022, \"Songs\": null, \"Sales\": 340000}, {\"Artist\": \"The Weeknd\", \"Album\": \"Kiss Land\", \"Year\": 2013, \"Songs\": 13.0, \"Sales\": 640000}, {\"Artist\": \"The Weeknd\", \"Album\": \"Beauty Behind the Madness\", \"Year\": 2015, \"Songs\": 14.0, \"Sales\": 7584588}, {\"Artist\": \"The Weeknd\", \"Album\": \"Starboy\", \"Year\": 2016, \"Songs\": 18.0, \"Sales\": 6070666}, {\"Artist\": \"The Weeknd\", \"Album\": \"My Dear Melancholy\", \"Year\": 2018, \"Songs\": 6.0, \"Sales\": 1201541}, {\"Artist\": \"The Weeknd\", \"Album\": \"After Hours\", \"Year\": 2020, \"Songs\": 14.0, \"Sales\": 4958942}, {\"Artist\": \"The Weeknd\", \"Album\": \"The highlights\", \"Year\": 2021, \"Songs\": null, \"Sales\": 2116000}, {\"Artist\": \"The Weeknd\", \"Album\": \"Trilogy\", \"Year\": 2012, \"Songs\": null, \"Sales\": 1360000}, {\"Artist\": \"Ed Sheeran\", \"Album\": \"+\", \"Year\": 2011, \"Songs\": 12.0, \"Sales\": 7705000}, {\"Artist\": \"Ed Sheeran\", \"Album\": \"x\", \"Year\": 2014, \"Songs\": 12.0, \"Sales\": 11879785}, {\"Artist\": \"Ed Sheeran\", \"Album\": \"\\u00f7\", \"Year\": 2017, \"Songs\": 12.0, \"Sales\": 13787460}, {\"Artist\": \"Ed Sheeran\", \"Album\": \"=\", \"Year\": 2021, \"Songs\": null, \"Sales\": 1862489}, {\"Artist\": \"Ed Sheeran\", \"Album\": \"No.6 Collaborations Project\", \"Year\": 2019, \"Songs\": 15.0, \"Sales\": 2631838}, {\"Artist\": \"Justin Bieber\", \"Album\": \"My World 2.0\", \"Year\": 2010, \"Songs\": 12.0, \"Sales\": 5235395}, {\"Artist\": \"Justin Bieber\", \"Album\": \"Believe\", \"Year\": 2012, \"Songs\": 13.0, \"Sales\": 4141507}, {\"Artist\": \"Justin Bieber\", \"Album\": \"Purpose\", \"Year\": 2015, \"Songs\": 13.0, \"Sales\": 14000000}, {\"Artist\": \"Justin Bieber\", \"Album\": \"Changes\", \"Year\": 2020, \"Songs\": 17.0, \"Sales\": 2182351}, {\"Artist\": \"Justin Bieber\", \"Album\": \"My World\", \"Year\": 2010, \"Songs\": null, \"Sales\": 3980000}, {\"Artist\": \"Justin Bieber\", \"Album\": \"Justice\", \"Year\": 2021, \"Songs\": null, \"Sales\": 3793131}, {\"Artist\": \"Justin Bieber\", \"Album\": \"Under the Mistletoe\", \"Year\": 2011, \"Songs\": null, \"Sales\": 2700725}, {\"Artist\": \"Justin Bieber\", \"Album\": \"Never say never - the remixes\", \"Year\": 2011, \"Songs\": null, \"Sales\": 1133000}, {\"Artist\": \"Justin Bieber\", \"Album\": \"Journals\", \"Year\": 2013, \"Songs\": null, \"Sales\": 1080000}, {\"Artist\": \"Shakira\", \"Album\": \"Laundry service\", \"Year\": 2001, \"Songs\": null, \"Sales\": 13000000}, {\"Artist\": \"Shakira\", \"Album\": \"Fijaci\\u00f3n oral Vol 1\", \"Year\": 2005, \"Songs\": null, \"Sales\": 3150519}, {\"Artist\": \"Shakira\", \"Album\": \"Oral Fixation vol 2\", \"Year\": 2005, \"Songs\": null, \"Sales\": 2878001}, {\"Artist\": \"Shakira\", \"Album\": \"Pies Descalzos\", \"Year\": 1995, \"Songs\": null, \"Sales\": 2695000}, {\"Artist\": \"Shakira\", \"Album\": \"Donde est\\u00e1n los ladrones\", \"Year\": 1998, \"Songs\": null, \"Sales\": 2551351}, {\"Artist\": \"Shakira\", \"Album\": \"Sale el sol / The sun comes out\", \"Year\": 2010, \"Songs\": null, \"Sales\": 2389939}, {\"Artist\": \"Shakira\", \"Album\": \"El dorado\", \"Year\": 2017, \"Songs\": null, \"Sales\": 985000}, {\"Artist\": \"Shakira\", \"Album\": \"MTV Umplugged\", \"Year\": 2000, \"Songs\": null, \"Sales\": 828663}]}}, {\"mode\": \"vega-lite\"});\n",
       "</script>"
      ],
      "text/plain": [
       "alt.Chart(...)"
      ]
     },
     "execution_count": 19,
     "metadata": {},
     "output_type": "execute_result"
    }
   ],
   "source": [
    "chq1 = alt.Chart(top_artists).mark_line().encode(\n",
    "    alt.X('Year:N', title = 'Year'),\n",
    "    alt.Y('Sales:Q', title = 'Sales'),\n",
    "    color = 'Artist:N',\n",
    ").properties(title = r\"Sales of artist's album through the years\")\n",
    "\n",
    "\n",
    "chq1"
   ]
  },
  {
   "cell_type": "markdown",
   "metadata": {
    "id": "BzPaHuVKDz20"
   },
   "source": [
    "This chart has **many issues**. Default colors are overlappping, so I will use my colorgorical palette. I will add mark points and tooltips as well.\n"
   ]
  },
  {
   "cell_type": "code",
   "execution_count": 20,
   "metadata": {
    "colab": {
     "base_uri": "https://localhost:8080/",
     "height": 399
    },
    "executionInfo": {
     "elapsed": 16,
     "status": "ok",
     "timestamp": 1716379806821,
     "user": {
      "displayName": "Alexandros Tremopoulos",
      "userId": "18030826848297166341"
     },
     "user_tz": -120
    },
    "id": "fK461EpZEbrZ",
    "outputId": "3f0bca64-67a6-45ce-d648-0bdcf0592ea8"
   },
   "outputs": [
    {
     "data": {
      "text/html": [
       "\n",
       "<style>\n",
       "  #altair-viz-625e75609708429abdc4b3947bf13214.vega-embed {\n",
       "    width: 100%;\n",
       "    display: flex;\n",
       "  }\n",
       "\n",
       "  #altair-viz-625e75609708429abdc4b3947bf13214.vega-embed details,\n",
       "  #altair-viz-625e75609708429abdc4b3947bf13214.vega-embed details summary {\n",
       "    position: relative;\n",
       "  }\n",
       "</style>\n",
       "<div id=\"altair-viz-625e75609708429abdc4b3947bf13214\"></div>\n",
       "<script type=\"text/javascript\">\n",
       "  var VEGA_DEBUG = (typeof VEGA_DEBUG == \"undefined\") ? {} : VEGA_DEBUG;\n",
       "  (function(spec, embedOpt){\n",
       "    let outputDiv = document.currentScript.previousElementSibling;\n",
       "    if (outputDiv.id !== \"altair-viz-625e75609708429abdc4b3947bf13214\") {\n",
       "      outputDiv = document.getElementById(\"altair-viz-625e75609708429abdc4b3947bf13214\");\n",
       "    }\n",
       "    const paths = {\n",
       "      \"vega\": \"https://cdn.jsdelivr.net/npm/vega@5?noext\",\n",
       "      \"vega-lib\": \"https://cdn.jsdelivr.net/npm/vega-lib?noext\",\n",
       "      \"vega-lite\": \"https://cdn.jsdelivr.net/npm/vega-lite@5.17.0?noext\",\n",
       "      \"vega-embed\": \"https://cdn.jsdelivr.net/npm/vega-embed@6?noext\",\n",
       "    };\n",
       "\n",
       "    function maybeLoadScript(lib, version) {\n",
       "      var key = `${lib.replace(\"-\", \"\")}_version`;\n",
       "      return (VEGA_DEBUG[key] == version) ?\n",
       "        Promise.resolve(paths[lib]) :\n",
       "        new Promise(function(resolve, reject) {\n",
       "          var s = document.createElement('script');\n",
       "          document.getElementsByTagName(\"head\")[0].appendChild(s);\n",
       "          s.async = true;\n",
       "          s.onload = () => {\n",
       "            VEGA_DEBUG[key] = version;\n",
       "            return resolve(paths[lib]);\n",
       "          };\n",
       "          s.onerror = () => reject(`Error loading script: ${paths[lib]}`);\n",
       "          s.src = paths[lib];\n",
       "        });\n",
       "    }\n",
       "\n",
       "    function showError(err) {\n",
       "      outputDiv.innerHTML = `<div class=\"error\" style=\"color:red;\">${err}</div>`;\n",
       "      throw err;\n",
       "    }\n",
       "\n",
       "    function displayChart(vegaEmbed) {\n",
       "      vegaEmbed(outputDiv, spec, embedOpt)\n",
       "        .catch(err => showError(`Javascript Error: ${err.message}<br>This usually means there's a typo in your chart specification. See the javascript console for the full traceback.`));\n",
       "    }\n",
       "\n",
       "    if(typeof define === \"function\" && define.amd) {\n",
       "      requirejs.config({paths});\n",
       "      require([\"vega-embed\"], displayChart, err => showError(`Error loading script: ${err.message}`));\n",
       "    } else {\n",
       "      maybeLoadScript(\"vega\", \"5\")\n",
       "        .then(() => maybeLoadScript(\"vega-lite\", \"5.17.0\"))\n",
       "        .then(() => maybeLoadScript(\"vega-embed\", \"6\"))\n",
       "        .catch(showError)\n",
       "        .then(() => displayChart(vegaEmbed));\n",
       "    }\n",
       "  })({\"config\": {\"view\": {\"continuousWidth\": 300, \"continuousHeight\": 300}}, \"data\": {\"name\": \"data-db39071cae9f800ffde39ceafcbb23ef\"}, \"mark\": {\"type\": \"line\", \"point\": true}, \"encoding\": {\"color\": {\"field\": \"Artist\", \"scale\": {\"scheme\": [\"rgb(105,239,123)\", \"rgb(216,21,180)\", \"rgb(172,225,183)\", \"rgb(120,40,87)\", \"rgb(37,184,234)\", \"rgb(32,80,46)\", \"rgb(250,175,227)\", \"rgb(52,70,109)\", \"rgb(192,225,92)\", \"rgb(114,68,185)\", \"rgb(99,161,34)\"]}, \"type\": \"nominal\"}, \"tooltip\": [{\"field\": \"Album\", \"type\": \"nominal\"}, {\"field\": \"Sales\", \"title\": \"Sales\", \"type\": \"quantitative\"}], \"x\": {\"field\": \"Year\", \"title\": \"Year\", \"type\": \"nominal\"}, \"y\": {\"field\": \"Sales\", \"title\": \"Sales\", \"type\": \"quantitative\"}}, \"title\": \"Sales of artist's album through the years\", \"$schema\": \"https://vega.github.io/schema/vega-lite/v5.17.0.json\", \"datasets\": {\"data-db39071cae9f800ffde39ceafcbb23ef\": [{\"Artist\": \"Taylor Swift\", \"Album\": \"Taylor Swift\", \"Year\": 2006, \"Songs\": 13.0, \"Sales\": 7275000}, {\"Artist\": \"Taylor Swift\", \"Album\": \"Fearless\", \"Year\": 2008, \"Songs\": 13.0, \"Sales\": 11911000}, {\"Artist\": \"Taylor Swift\", \"Album\": \"Speak Now\", \"Year\": 2010, \"Songs\": 14.0, \"Sales\": 6917500}, {\"Artist\": \"Taylor Swift\", \"Album\": \"Red\", \"Year\": 2012, \"Songs\": 16.0, \"Sales\": 8889124}, {\"Artist\": \"Taylor Swift\", \"Album\": \"1989\", \"Year\": 2014, \"Songs\": 13.0, \"Sales\": 14748116}, {\"Artist\": \"Taylor Swift\", \"Album\": \"Reputation\", \"Year\": 2017, \"Songs\": 15.0, \"Sales\": 6186524}, {\"Artist\": \"Taylor Swift\", \"Album\": \"Lover\", \"Year\": 2019, \"Songs\": 18.0, \"Sales\": 5686733}, {\"Artist\": \"Taylor Swift\", \"Album\": \"floklore (deluxe version)\", \"Year\": 2020, \"Songs\": null, \"Sales\": 4360487}, {\"Artist\": \"Taylor Swift\", \"Album\": \"midnights\", \"Year\": 2022, \"Songs\": null, \"Sales\": 3387836}, {\"Artist\": \"Taylor Swift\", \"Album\": \"Fearless (Taylor's Version)\", \"Year\": 2021, \"Songs\": 20.0, \"Sales\": 1557687}, {\"Artist\": \"Taylor Swift\", \"Album\": \"Red (Taylor's Version)\", \"Year\": 2021, \"Songs\": 30.0, \"Sales\": 1696632}, {\"Artist\": \"Taylor Swift\", \"Album\": \"1989 (Taylor's version)\", \"Year\": 2023, \"Songs\": null, \"Sales\": 14748116}, {\"Artist\": \"Taylor Swift\", \"Album\": \"evermore (deluxe version)\", \"Year\": 2021, \"Songs\": null, \"Sales\": 1998779}, {\"Artist\": \"Post Malone\", \"Album\": \"Stoney\", \"Year\": 2016, \"Songs\": 11.0, \"Sales\": 7275000}, {\"Artist\": \"Post Malone\", \"Album\": \"Beerbongs & Bentleys\", \"Year\": 2018, \"Songs\": 14.0, \"Sales\": 11911000}, {\"Artist\": \"Post Malone\", \"Album\": \"Hollywood's Bleeding\", \"Year\": 2019, \"Songs\": 17.0, \"Sales\": 6186524}, {\"Artist\": \"Post Malone\", \"Album\": \"Twelve Carat Toothache\", \"Year\": 2022, \"Songs\": null, \"Sales\": 3387836}, {\"Artist\": \"Post Malone\", \"Album\": \"Austin\", \"Year\": 2022, \"Songs\": null, \"Sales\": 1998779}, {\"Artist\": \"Ariana Grande\", \"Album\": \"Yours Truly\", \"Year\": 2013, \"Songs\": 12.0, \"Sales\": 1305000}, {\"Artist\": \"Ariana Grande\", \"Album\": \"My Everything\", \"Year\": 2014, \"Songs\": 13.0, \"Sales\": 3506212}, {\"Artist\": \"Ariana Grande\", \"Album\": \"Dangerous Woman\", \"Year\": 2016, \"Songs\": 12.0, \"Sales\": 3632374}, {\"Artist\": \"Ariana Grande\", \"Album\": \"Sweetener\", \"Year\": 2018, \"Songs\": 15.0, \"Sales\": 1994479}, {\"Artist\": \"Ariana Grande\", \"Album\": \"Thank U, Next\", \"Year\": 2019, \"Songs\": 12.0, \"Sales\": 3775436}, {\"Artist\": \"Ariana Grande\", \"Album\": \"Positions\", \"Year\": 2020, \"Songs\": null, \"Sales\": 1603367}, {\"Artist\": \"Drake\", \"Album\": \"Thank Me Later\", \"Year\": 2010, \"Songs\": 16.0, \"Sales\": 3460000}, {\"Artist\": \"Drake\", \"Album\": \"Take Care\", \"Year\": 2011, \"Songs\": 13.0, \"Sales\": 6920000}, {\"Artist\": \"Drake\", \"Album\": \"Nothing Was the Same\", \"Year\": 2013, \"Songs\": 17.0, \"Sales\": 4595000}, {\"Artist\": \"Drake\", \"Album\": \"Views\", \"Year\": 2016, \"Songs\": 20.0, \"Sales\": 7687247}, {\"Artist\": \"Drake\", \"Album\": \"Scorpion\", \"Year\": 2018, \"Songs\": 25.0, \"Sales\": 6433983}, {\"Artist\": \"Drake\", \"Album\": \"More Life \", \"Year\": 2017, \"Songs\": null, \"Sales\": 4005250}, {\"Artist\": \"Drake\", \"Album\": \"If you're reading this its too late\", \"Year\": 2015, \"Songs\": null, \"Sales\": 3480000}, {\"Artist\": \"Billie Eilish\", \"Album\": \"Happier than ever\", \"Year\": 2021, \"Songs\": null, \"Sales\": 885000}, {\"Artist\": \"Billie Eilish\", \"Album\": \"Don't smile at me\", \"Year\": 2017, \"Songs\": null, \"Sales\": 2434691}, {\"Artist\": \"Billie Eilish\", \"Album\": \"When We All Fall Asleep, Where Do We Go?\", \"Year\": 2019, \"Songs\": 14.0, \"Sales\": 7256516}, {\"Artist\": \"Lady Gaga\", \"Album\": \"The Fame\", \"Year\": 2008, \"Songs\": 11.0, \"Sales\": 14350358}, {\"Artist\": \"Lady Gaga\", \"Album\": \"The Fame Monster\", \"Year\": 2009, \"Songs\": null, \"Sales\": 8298000}, {\"Artist\": \"Lady Gaga\", \"Album\": \"Born This Way\", \"Year\": 2011, \"Songs\": 14.0, \"Sales\": 7166944}, {\"Artist\": \"Lady Gaga\", \"Album\": \"Artpop\", \"Year\": 2013, \"Songs\": 15.0, \"Sales\": 2300000}, {\"Artist\": \"Lady Gaga\", \"Album\": \"Cheek to Cheek\", \"Year\": 2014, \"Songs\": 11.0, \"Sales\": 715000}, {\"Artist\": \"Lady Gaga\", \"Album\": \"A Star is born (soundtrack)\", \"Year\": 2018, \"Songs\": null, \"Sales\": 4270810}, {\"Artist\": \"Lady Gaga\", \"Album\": \"Chromatica\", \"Year\": 2020, \"Songs\": null, \"Sales\": 1483784}, {\"Artist\": \"Lady Gaga\", \"Album\": \"Joanne\", \"Year\": 2016, \"Songs\": null, \"Sales\": 1305793}, {\"Artist\": \"Rihanna\", \"Album\": \"Good Girl Gone Bad\", \"Year\": 2007, \"Songs\": 12.0, \"Sales\": 10854803}, {\"Artist\": \"Rihanna\", \"Album\": \"Rated R\", \"Year\": 2009, \"Songs\": 12.0, \"Sales\": 3183000}, {\"Artist\": \"Rihanna\", \"Album\": \"Loud\", \"Year\": 2010, \"Songs\": 14.0, \"Sales\": 6673000}, {\"Artist\": \"Rihanna\", \"Album\": \"Talk That Talk\", \"Year\": 2011, \"Songs\": 11.0, \"Sales\": 4628000}, {\"Artist\": \"Rihanna\", \"Album\": \"Unapologetic\", \"Year\": 2012, \"Songs\": 12.0, \"Sales\": 4382500}, {\"Artist\": \"Rihanna\", \"Album\": \"Anti\", \"Year\": 2016, \"Songs\": null, \"Sales\": 6537235}, {\"Artist\": \"Rihanna\", \"Album\": \"A girl like me\", \"Year\": 2006, \"Songs\": null, \"Sales\": 3377500}, {\"Artist\": \"Rihanna\", \"Album\": \"Music of the sun\", \"Year\": 2005, \"Songs\": null, \"Sales\": 1407500}, {\"Artist\": \"The Weeknd\", \"Album\": \"House of Balloons\", \"Year\": 2011, \"Songs\": 8.0, \"Sales\": 180000}, {\"Artist\": \"The Weeknd\", \"Album\": \"Dawn FM\", \"Year\": 2022, \"Songs\": null, \"Sales\": 340000}, {\"Artist\": \"The Weeknd\", \"Album\": \"Kiss Land\", \"Year\": 2013, \"Songs\": 13.0, \"Sales\": 640000}, {\"Artist\": \"The Weeknd\", \"Album\": \"Beauty Behind the Madness\", \"Year\": 2015, \"Songs\": 14.0, \"Sales\": 7584588}, {\"Artist\": \"The Weeknd\", \"Album\": \"Starboy\", \"Year\": 2016, \"Songs\": 18.0, \"Sales\": 6070666}, {\"Artist\": \"The Weeknd\", \"Album\": \"My Dear Melancholy\", \"Year\": 2018, \"Songs\": 6.0, \"Sales\": 1201541}, {\"Artist\": \"The Weeknd\", \"Album\": \"After Hours\", \"Year\": 2020, \"Songs\": 14.0, \"Sales\": 4958942}, {\"Artist\": \"The Weeknd\", \"Album\": \"The highlights\", \"Year\": 2021, \"Songs\": null, \"Sales\": 2116000}, {\"Artist\": \"The Weeknd\", \"Album\": \"Trilogy\", \"Year\": 2012, \"Songs\": null, \"Sales\": 1360000}, {\"Artist\": \"Ed Sheeran\", \"Album\": \"+\", \"Year\": 2011, \"Songs\": 12.0, \"Sales\": 7705000}, {\"Artist\": \"Ed Sheeran\", \"Album\": \"x\", \"Year\": 2014, \"Songs\": 12.0, \"Sales\": 11879785}, {\"Artist\": \"Ed Sheeran\", \"Album\": \"\\u00f7\", \"Year\": 2017, \"Songs\": 12.0, \"Sales\": 13787460}, {\"Artist\": \"Ed Sheeran\", \"Album\": \"=\", \"Year\": 2021, \"Songs\": null, \"Sales\": 1862489}, {\"Artist\": \"Ed Sheeran\", \"Album\": \"No.6 Collaborations Project\", \"Year\": 2019, \"Songs\": 15.0, \"Sales\": 2631838}, {\"Artist\": \"Justin Bieber\", \"Album\": \"My World 2.0\", \"Year\": 2010, \"Songs\": 12.0, \"Sales\": 5235395}, {\"Artist\": \"Justin Bieber\", \"Album\": \"Believe\", \"Year\": 2012, \"Songs\": 13.0, \"Sales\": 4141507}, {\"Artist\": \"Justin Bieber\", \"Album\": \"Purpose\", \"Year\": 2015, \"Songs\": 13.0, \"Sales\": 14000000}, {\"Artist\": \"Justin Bieber\", \"Album\": \"Changes\", \"Year\": 2020, \"Songs\": 17.0, \"Sales\": 2182351}, {\"Artist\": \"Justin Bieber\", \"Album\": \"My World\", \"Year\": 2010, \"Songs\": null, \"Sales\": 3980000}, {\"Artist\": \"Justin Bieber\", \"Album\": \"Justice\", \"Year\": 2021, \"Songs\": null, \"Sales\": 3793131}, {\"Artist\": \"Justin Bieber\", \"Album\": \"Under the Mistletoe\", \"Year\": 2011, \"Songs\": null, \"Sales\": 2700725}, {\"Artist\": \"Justin Bieber\", \"Album\": \"Never say never - the remixes\", \"Year\": 2011, \"Songs\": null, \"Sales\": 1133000}, {\"Artist\": \"Justin Bieber\", \"Album\": \"Journals\", \"Year\": 2013, \"Songs\": null, \"Sales\": 1080000}, {\"Artist\": \"Shakira\", \"Album\": \"Laundry service\", \"Year\": 2001, \"Songs\": null, \"Sales\": 13000000}, {\"Artist\": \"Shakira\", \"Album\": \"Fijaci\\u00f3n oral Vol 1\", \"Year\": 2005, \"Songs\": null, \"Sales\": 3150519}, {\"Artist\": \"Shakira\", \"Album\": \"Oral Fixation vol 2\", \"Year\": 2005, \"Songs\": null, \"Sales\": 2878001}, {\"Artist\": \"Shakira\", \"Album\": \"Pies Descalzos\", \"Year\": 1995, \"Songs\": null, \"Sales\": 2695000}, {\"Artist\": \"Shakira\", \"Album\": \"Donde est\\u00e1n los ladrones\", \"Year\": 1998, \"Songs\": null, \"Sales\": 2551351}, {\"Artist\": \"Shakira\", \"Album\": \"Sale el sol / The sun comes out\", \"Year\": 2010, \"Songs\": null, \"Sales\": 2389939}, {\"Artist\": \"Shakira\", \"Album\": \"El dorado\", \"Year\": 2017, \"Songs\": null, \"Sales\": 985000}, {\"Artist\": \"Shakira\", \"Album\": \"MTV Umplugged\", \"Year\": 2000, \"Songs\": null, \"Sales\": 828663}]}}, {\"mode\": \"vega-lite\"});\n",
       "</script>"
      ],
      "text/plain": [
       "alt.Chart(...)"
      ]
     },
     "execution_count": 20,
     "metadata": {},
     "output_type": "execute_result"
    }
   ],
   "source": [
    "chq1 = alt.Chart(top_artists).mark_line(point=True).encode(\n",
    "    alt.X('Year:N', title = 'Year'),\n",
    "    alt.Y('Sales:Q', title = 'Sales'),\n",
    "    tooltip = ['Album:N', alt.Tooltip('Sales:Q', title='Sales')],\n",
    "    color = alt.Color('Artist',scale = alt.Scale(scheme = colorgorical)),\n",
    ").properties(title = r\"Sales of artist's album through the years\")\n",
    "\n",
    "chq1"
   ]
  },
  {
   "cell_type": "markdown",
   "metadata": {
    "id": "F14rfJyBEgjm"
   },
   "source": [
    "The most important thing though is to **add some interaction**. What I thought was a dropdown selection, where you select an Artist, who will be highlighted over the others by displaying only his/her line."
   ]
  },
  {
   "cell_type": "code",
   "execution_count": 21,
   "metadata": {
    "colab": {
     "base_uri": "https://localhost:8080/",
     "height": 417
    },
    "executionInfo": {
     "elapsed": 495,
     "status": "ok",
     "timestamp": 1716379807301,
     "user": {
      "displayName": "Alexandros Tremopoulos",
      "userId": "18030826848297166341"
     },
     "user_tz": -120
    },
    "id": "nVZx3zxkmkLF",
    "outputId": "d3104ac4-e201-4da2-b70f-3eb5fe749b8d"
   },
   "outputs": [
    {
     "data": {
      "text/html": [
       "\n",
       "<style>\n",
       "  #altair-viz-4155761d1364449282bddcc120ad1a57.vega-embed {\n",
       "    width: 100%;\n",
       "    display: flex;\n",
       "  }\n",
       "\n",
       "  #altair-viz-4155761d1364449282bddcc120ad1a57.vega-embed details,\n",
       "  #altair-viz-4155761d1364449282bddcc120ad1a57.vega-embed details summary {\n",
       "    position: relative;\n",
       "  }\n",
       "</style>\n",
       "<div id=\"altair-viz-4155761d1364449282bddcc120ad1a57\"></div>\n",
       "<script type=\"text/javascript\">\n",
       "  var VEGA_DEBUG = (typeof VEGA_DEBUG == \"undefined\") ? {} : VEGA_DEBUG;\n",
       "  (function(spec, embedOpt){\n",
       "    let outputDiv = document.currentScript.previousElementSibling;\n",
       "    if (outputDiv.id !== \"altair-viz-4155761d1364449282bddcc120ad1a57\") {\n",
       "      outputDiv = document.getElementById(\"altair-viz-4155761d1364449282bddcc120ad1a57\");\n",
       "    }\n",
       "    const paths = {\n",
       "      \"vega\": \"https://cdn.jsdelivr.net/npm/vega@5?noext\",\n",
       "      \"vega-lib\": \"https://cdn.jsdelivr.net/npm/vega-lib?noext\",\n",
       "      \"vega-lite\": \"https://cdn.jsdelivr.net/npm/vega-lite@5.17.0?noext\",\n",
       "      \"vega-embed\": \"https://cdn.jsdelivr.net/npm/vega-embed@6?noext\",\n",
       "    };\n",
       "\n",
       "    function maybeLoadScript(lib, version) {\n",
       "      var key = `${lib.replace(\"-\", \"\")}_version`;\n",
       "      return (VEGA_DEBUG[key] == version) ?\n",
       "        Promise.resolve(paths[lib]) :\n",
       "        new Promise(function(resolve, reject) {\n",
       "          var s = document.createElement('script');\n",
       "          document.getElementsByTagName(\"head\")[0].appendChild(s);\n",
       "          s.async = true;\n",
       "          s.onload = () => {\n",
       "            VEGA_DEBUG[key] = version;\n",
       "            return resolve(paths[lib]);\n",
       "          };\n",
       "          s.onerror = () => reject(`Error loading script: ${paths[lib]}`);\n",
       "          s.src = paths[lib];\n",
       "        });\n",
       "    }\n",
       "\n",
       "    function showError(err) {\n",
       "      outputDiv.innerHTML = `<div class=\"error\" style=\"color:red;\">${err}</div>`;\n",
       "      throw err;\n",
       "    }\n",
       "\n",
       "    function displayChart(vegaEmbed) {\n",
       "      vegaEmbed(outputDiv, spec, embedOpt)\n",
       "        .catch(err => showError(`Javascript Error: ${err.message}<br>This usually means there's a typo in your chart specification. See the javascript console for the full traceback.`));\n",
       "    }\n",
       "\n",
       "    if(typeof define === \"function\" && define.amd) {\n",
       "      requirejs.config({paths});\n",
       "      require([\"vega-embed\"], displayChart, err => showError(`Error loading script: ${err.message}`));\n",
       "    } else {\n",
       "      maybeLoadScript(\"vega\", \"5\")\n",
       "        .then(() => maybeLoadScript(\"vega-lite\", \"5.17.0\"))\n",
       "        .then(() => maybeLoadScript(\"vega-embed\", \"6\"))\n",
       "        .catch(showError)\n",
       "        .then(() => displayChart(vegaEmbed));\n",
       "    }\n",
       "  })({\"config\": {\"view\": {\"continuousWidth\": 300, \"continuousHeight\": 300}}, \"data\": {\"name\": \"data-db39071cae9f800ffde39ceafcbb23ef\"}, \"mark\": {\"type\": \"line\", \"point\": true}, \"encoding\": {\"color\": {\"condition\": {\"param\": \"Name_Of\", \"field\": \"Artist\", \"type\": \"nominal\", \"scale\": {\"scheme\": [\"rgb(105,239,123)\", \"rgb(216,21,180)\", \"rgb(172,225,183)\", \"rgb(120,40,87)\", \"rgb(37,184,234)\", \"rgb(32,80,46)\", \"rgb(250,175,227)\", \"rgb(52,70,109)\", \"rgb(192,225,92)\", \"rgb(114,68,185)\", \"rgb(99,161,34)\"]}}, \"value\": \"lightgray\"}, \"tooltip\": [{\"field\": \"Album\", \"type\": \"nominal\"}, {\"field\": \"Sales\", \"title\": \"Sales\", \"type\": \"quantitative\"}], \"x\": {\"field\": \"Year\", \"title\": \"Year\", \"type\": \"nominal\"}, \"y\": {\"field\": \"Sales\", \"title\": \"Sales\", \"type\": \"quantitative\"}}, \"params\": [{\"name\": \"Name_Of\", \"select\": {\"type\": \"point\", \"fields\": [\"Artist\"]}, \"bind\": {\"input\": \"select\", \"options\": [\"Taylor Swift\", \"The Weeknd\", \"Justin Bieber\", \"Lady Gaga\", \"Rihanna\", \"Shakira\", \"Drake\", \"Ariana Grande\", \"Post Malone\", \"Ed Sheeran\", \"Billie Eilish\", null], \"labels\": [\"Taylor Swift \", \"The Weeknd \", \"Justin Bieber \", \"Lady Gaga \", \"Rihanna \", \"Shakira \", \"Drake \", \"Ariana Grande \", \"Post Malone \", \"Ed Sheeran \", \"Billie Eilish \", \"All\"]}}], \"title\": \"Sales of artist's album through the years\", \"transform\": [{\"lookup\": \"Artist\", \"from\": {\"data\": {\"name\": \"data-0b8bd83238ce944202f88b66e58b48be\"}, \"key\": \"id\", \"fields\": [\"name\"]}}], \"$schema\": \"https://vega.github.io/schema/vega-lite/v5.17.0.json\", \"datasets\": {\"data-db39071cae9f800ffde39ceafcbb23ef\": [{\"Artist\": \"Taylor Swift\", \"Album\": \"Taylor Swift\", \"Year\": 2006, \"Songs\": 13.0, \"Sales\": 7275000}, {\"Artist\": \"Taylor Swift\", \"Album\": \"Fearless\", \"Year\": 2008, \"Songs\": 13.0, \"Sales\": 11911000}, {\"Artist\": \"Taylor Swift\", \"Album\": \"Speak Now\", \"Year\": 2010, \"Songs\": 14.0, \"Sales\": 6917500}, {\"Artist\": \"Taylor Swift\", \"Album\": \"Red\", \"Year\": 2012, \"Songs\": 16.0, \"Sales\": 8889124}, {\"Artist\": \"Taylor Swift\", \"Album\": \"1989\", \"Year\": 2014, \"Songs\": 13.0, \"Sales\": 14748116}, {\"Artist\": \"Taylor Swift\", \"Album\": \"Reputation\", \"Year\": 2017, \"Songs\": 15.0, \"Sales\": 6186524}, {\"Artist\": \"Taylor Swift\", \"Album\": \"Lover\", \"Year\": 2019, \"Songs\": 18.0, \"Sales\": 5686733}, {\"Artist\": \"Taylor Swift\", \"Album\": \"floklore (deluxe version)\", \"Year\": 2020, \"Songs\": null, \"Sales\": 4360487}, {\"Artist\": \"Taylor Swift\", \"Album\": \"midnights\", \"Year\": 2022, \"Songs\": null, \"Sales\": 3387836}, {\"Artist\": \"Taylor Swift\", \"Album\": \"Fearless (Taylor's Version)\", \"Year\": 2021, \"Songs\": 20.0, \"Sales\": 1557687}, {\"Artist\": \"Taylor Swift\", \"Album\": \"Red (Taylor's Version)\", \"Year\": 2021, \"Songs\": 30.0, \"Sales\": 1696632}, {\"Artist\": \"Taylor Swift\", \"Album\": \"1989 (Taylor's version)\", \"Year\": 2023, \"Songs\": null, \"Sales\": 14748116}, {\"Artist\": \"Taylor Swift\", \"Album\": \"evermore (deluxe version)\", \"Year\": 2021, \"Songs\": null, \"Sales\": 1998779}, {\"Artist\": \"Post Malone\", \"Album\": \"Stoney\", \"Year\": 2016, \"Songs\": 11.0, \"Sales\": 7275000}, {\"Artist\": \"Post Malone\", \"Album\": \"Beerbongs & Bentleys\", \"Year\": 2018, \"Songs\": 14.0, \"Sales\": 11911000}, {\"Artist\": \"Post Malone\", \"Album\": \"Hollywood's Bleeding\", \"Year\": 2019, \"Songs\": 17.0, \"Sales\": 6186524}, {\"Artist\": \"Post Malone\", \"Album\": \"Twelve Carat Toothache\", \"Year\": 2022, \"Songs\": null, \"Sales\": 3387836}, {\"Artist\": \"Post Malone\", \"Album\": \"Austin\", \"Year\": 2022, \"Songs\": null, \"Sales\": 1998779}, {\"Artist\": \"Ariana Grande\", \"Album\": \"Yours Truly\", \"Year\": 2013, \"Songs\": 12.0, \"Sales\": 1305000}, {\"Artist\": \"Ariana Grande\", \"Album\": \"My Everything\", \"Year\": 2014, \"Songs\": 13.0, \"Sales\": 3506212}, {\"Artist\": \"Ariana Grande\", \"Album\": \"Dangerous Woman\", \"Year\": 2016, \"Songs\": 12.0, \"Sales\": 3632374}, {\"Artist\": \"Ariana Grande\", \"Album\": \"Sweetener\", \"Year\": 2018, \"Songs\": 15.0, \"Sales\": 1994479}, {\"Artist\": \"Ariana Grande\", \"Album\": \"Thank U, Next\", \"Year\": 2019, \"Songs\": 12.0, \"Sales\": 3775436}, {\"Artist\": \"Ariana Grande\", \"Album\": \"Positions\", \"Year\": 2020, \"Songs\": null, \"Sales\": 1603367}, {\"Artist\": \"Drake\", \"Album\": \"Thank Me Later\", \"Year\": 2010, \"Songs\": 16.0, \"Sales\": 3460000}, {\"Artist\": \"Drake\", \"Album\": \"Take Care\", \"Year\": 2011, \"Songs\": 13.0, \"Sales\": 6920000}, {\"Artist\": \"Drake\", \"Album\": \"Nothing Was the Same\", \"Year\": 2013, \"Songs\": 17.0, \"Sales\": 4595000}, {\"Artist\": \"Drake\", \"Album\": \"Views\", \"Year\": 2016, \"Songs\": 20.0, \"Sales\": 7687247}, {\"Artist\": \"Drake\", \"Album\": \"Scorpion\", \"Year\": 2018, \"Songs\": 25.0, \"Sales\": 6433983}, {\"Artist\": \"Drake\", \"Album\": \"More Life \", \"Year\": 2017, \"Songs\": null, \"Sales\": 4005250}, {\"Artist\": \"Drake\", \"Album\": \"If you're reading this its too late\", \"Year\": 2015, \"Songs\": null, \"Sales\": 3480000}, {\"Artist\": \"Billie Eilish\", \"Album\": \"Happier than ever\", \"Year\": 2021, \"Songs\": null, \"Sales\": 885000}, {\"Artist\": \"Billie Eilish\", \"Album\": \"Don't smile at me\", \"Year\": 2017, \"Songs\": null, \"Sales\": 2434691}, {\"Artist\": \"Billie Eilish\", \"Album\": \"When We All Fall Asleep, Where Do We Go?\", \"Year\": 2019, \"Songs\": 14.0, \"Sales\": 7256516}, {\"Artist\": \"Lady Gaga\", \"Album\": \"The Fame\", \"Year\": 2008, \"Songs\": 11.0, \"Sales\": 14350358}, {\"Artist\": \"Lady Gaga\", \"Album\": \"The Fame Monster\", \"Year\": 2009, \"Songs\": null, \"Sales\": 8298000}, {\"Artist\": \"Lady Gaga\", \"Album\": \"Born This Way\", \"Year\": 2011, \"Songs\": 14.0, \"Sales\": 7166944}, {\"Artist\": \"Lady Gaga\", \"Album\": \"Artpop\", \"Year\": 2013, \"Songs\": 15.0, \"Sales\": 2300000}, {\"Artist\": \"Lady Gaga\", \"Album\": \"Cheek to Cheek\", \"Year\": 2014, \"Songs\": 11.0, \"Sales\": 715000}, {\"Artist\": \"Lady Gaga\", \"Album\": \"A Star is born (soundtrack)\", \"Year\": 2018, \"Songs\": null, \"Sales\": 4270810}, {\"Artist\": \"Lady Gaga\", \"Album\": \"Chromatica\", \"Year\": 2020, \"Songs\": null, \"Sales\": 1483784}, {\"Artist\": \"Lady Gaga\", \"Album\": \"Joanne\", \"Year\": 2016, \"Songs\": null, \"Sales\": 1305793}, {\"Artist\": \"Rihanna\", \"Album\": \"Good Girl Gone Bad\", \"Year\": 2007, \"Songs\": 12.0, \"Sales\": 10854803}, {\"Artist\": \"Rihanna\", \"Album\": \"Rated R\", \"Year\": 2009, \"Songs\": 12.0, \"Sales\": 3183000}, {\"Artist\": \"Rihanna\", \"Album\": \"Loud\", \"Year\": 2010, \"Songs\": 14.0, \"Sales\": 6673000}, {\"Artist\": \"Rihanna\", \"Album\": \"Talk That Talk\", \"Year\": 2011, \"Songs\": 11.0, \"Sales\": 4628000}, {\"Artist\": \"Rihanna\", \"Album\": \"Unapologetic\", \"Year\": 2012, \"Songs\": 12.0, \"Sales\": 4382500}, {\"Artist\": \"Rihanna\", \"Album\": \"Anti\", \"Year\": 2016, \"Songs\": null, \"Sales\": 6537235}, {\"Artist\": \"Rihanna\", \"Album\": \"A girl like me\", \"Year\": 2006, \"Songs\": null, \"Sales\": 3377500}, {\"Artist\": \"Rihanna\", \"Album\": \"Music of the sun\", \"Year\": 2005, \"Songs\": null, \"Sales\": 1407500}, {\"Artist\": \"The Weeknd\", \"Album\": \"House of Balloons\", \"Year\": 2011, \"Songs\": 8.0, \"Sales\": 180000}, {\"Artist\": \"The Weeknd\", \"Album\": \"Dawn FM\", \"Year\": 2022, \"Songs\": null, \"Sales\": 340000}, {\"Artist\": \"The Weeknd\", \"Album\": \"Kiss Land\", \"Year\": 2013, \"Songs\": 13.0, \"Sales\": 640000}, {\"Artist\": \"The Weeknd\", \"Album\": \"Beauty Behind the Madness\", \"Year\": 2015, \"Songs\": 14.0, \"Sales\": 7584588}, {\"Artist\": \"The Weeknd\", \"Album\": \"Starboy\", \"Year\": 2016, \"Songs\": 18.0, \"Sales\": 6070666}, {\"Artist\": \"The Weeknd\", \"Album\": \"My Dear Melancholy\", \"Year\": 2018, \"Songs\": 6.0, \"Sales\": 1201541}, {\"Artist\": \"The Weeknd\", \"Album\": \"After Hours\", \"Year\": 2020, \"Songs\": 14.0, \"Sales\": 4958942}, {\"Artist\": \"The Weeknd\", \"Album\": \"The highlights\", \"Year\": 2021, \"Songs\": null, \"Sales\": 2116000}, {\"Artist\": \"The Weeknd\", \"Album\": \"Trilogy\", \"Year\": 2012, \"Songs\": null, \"Sales\": 1360000}, {\"Artist\": \"Ed Sheeran\", \"Album\": \"+\", \"Year\": 2011, \"Songs\": 12.0, \"Sales\": 7705000}, {\"Artist\": \"Ed Sheeran\", \"Album\": \"x\", \"Year\": 2014, \"Songs\": 12.0, \"Sales\": 11879785}, {\"Artist\": \"Ed Sheeran\", \"Album\": \"\\u00f7\", \"Year\": 2017, \"Songs\": 12.0, \"Sales\": 13787460}, {\"Artist\": \"Ed Sheeran\", \"Album\": \"=\", \"Year\": 2021, \"Songs\": null, \"Sales\": 1862489}, {\"Artist\": \"Ed Sheeran\", \"Album\": \"No.6 Collaborations Project\", \"Year\": 2019, \"Songs\": 15.0, \"Sales\": 2631838}, {\"Artist\": \"Justin Bieber\", \"Album\": \"My World 2.0\", \"Year\": 2010, \"Songs\": 12.0, \"Sales\": 5235395}, {\"Artist\": \"Justin Bieber\", \"Album\": \"Believe\", \"Year\": 2012, \"Songs\": 13.0, \"Sales\": 4141507}, {\"Artist\": \"Justin Bieber\", \"Album\": \"Purpose\", \"Year\": 2015, \"Songs\": 13.0, \"Sales\": 14000000}, {\"Artist\": \"Justin Bieber\", \"Album\": \"Changes\", \"Year\": 2020, \"Songs\": 17.0, \"Sales\": 2182351}, {\"Artist\": \"Justin Bieber\", \"Album\": \"My World\", \"Year\": 2010, \"Songs\": null, \"Sales\": 3980000}, {\"Artist\": \"Justin Bieber\", \"Album\": \"Justice\", \"Year\": 2021, \"Songs\": null, \"Sales\": 3793131}, {\"Artist\": \"Justin Bieber\", \"Album\": \"Under the Mistletoe\", \"Year\": 2011, \"Songs\": null, \"Sales\": 2700725}, {\"Artist\": \"Justin Bieber\", \"Album\": \"Never say never - the remixes\", \"Year\": 2011, \"Songs\": null, \"Sales\": 1133000}, {\"Artist\": \"Justin Bieber\", \"Album\": \"Journals\", \"Year\": 2013, \"Songs\": null, \"Sales\": 1080000}, {\"Artist\": \"Shakira\", \"Album\": \"Laundry service\", \"Year\": 2001, \"Songs\": null, \"Sales\": 13000000}, {\"Artist\": \"Shakira\", \"Album\": \"Fijaci\\u00f3n oral Vol 1\", \"Year\": 2005, \"Songs\": null, \"Sales\": 3150519}, {\"Artist\": \"Shakira\", \"Album\": \"Oral Fixation vol 2\", \"Year\": 2005, \"Songs\": null, \"Sales\": 2878001}, {\"Artist\": \"Shakira\", \"Album\": \"Pies Descalzos\", \"Year\": 1995, \"Songs\": null, \"Sales\": 2695000}, {\"Artist\": \"Shakira\", \"Album\": \"Donde est\\u00e1n los ladrones\", \"Year\": 1998, \"Songs\": null, \"Sales\": 2551351}, {\"Artist\": \"Shakira\", \"Album\": \"Sale el sol / The sun comes out\", \"Year\": 2010, \"Songs\": null, \"Sales\": 2389939}, {\"Artist\": \"Shakira\", \"Album\": \"El dorado\", \"Year\": 2017, \"Songs\": null, \"Sales\": 985000}, {\"Artist\": \"Shakira\", \"Album\": \"MTV Umplugged\", \"Year\": 2000, \"Songs\": null, \"Sales\": 828663}], \"data-0b8bd83238ce944202f88b66e58b48be\": [{\"id\": 0, \"name\": \"Taylor Swift\"}, {\"id\": 1, \"name\": \"The Weeknd\"}, {\"id\": 2, \"name\": \"Justin Bieber\"}, {\"id\": 3, \"name\": \"Lady Gaga\"}, {\"id\": 4, \"name\": \"Rihanna\"}, {\"id\": 6, \"name\": \"Shakira\"}, {\"id\": 7, \"name\": \"Drake\"}, {\"id\": 8, \"name\": \"Ariana Grande\"}, {\"id\": 9, \"name\": \"Post Malone\"}, {\"id\": 10, \"name\": \"Ed Sheeran\"}, {\"id\": 11, \"name\": \"Billie Eilish\"}]}}, {\"mode\": \"vega-lite\"});\n",
       "</script>"
      ],
      "text/plain": [
       "alt.Chart(...)"
      ]
     },
     "execution_count": 21,
     "metadata": {},
     "output_type": "execute_result"
    }
   ],
   "source": [
    "clusters = pd.DataFrame([\n",
    "    {\"id\": 0, \"name\": \"Taylor Swift\"},\n",
    "    {\"id\": 1, \"name\": \"The Weeknd\"},\n",
    "    {\"id\": 2, \"name\": \"Justin Bieber\"},\n",
    "    {\"id\": 3, \"name\": \"Lady Gaga\"},\n",
    "    {\"id\": 4, \"name\": \"Rihanna\"},\n",
    "    {\"id\": 6, \"name\": \"Shakira\"},\n",
    "    {\"id\": 7, \"name\": \"Drake\"},\n",
    "    {\"id\": 8, \"name\": \"Ariana Grande\"},\n",
    "    {\"id\": 9, \"name\": \"Post Malone\"},\n",
    "    {\"id\": 10, \"name\": \"Ed Sheeran\"},\n",
    "    {\"id\": 11, \"name\": \"Billie Eilish\"},\n",
    "])\n",
    "\n",
    "dropdown_options = list(clusters['name'])\n",
    "labels = [option + ' ' for option in dropdown_options]\n",
    "\n",
    "cluster_dropdown = alt.binding_select(\n",
    "    options=dropdown_options + [None],\n",
    "    labels=labels + ['All'],)\n",
    "dropSelect = alt.selection_point(fields = ['Artist'],\n",
    "                                 bind = cluster_dropdown, name = 'Name_Of')\n",
    "chq1 = alt.Chart(top_artists).mark_line(point=True).encode(\n",
    "    alt.X('Year:N', title = 'Year'),\n",
    "    alt.Y('Sales:Q', title = 'Sales'),\n",
    "    tooltip = ['Album:N', alt.Tooltip('Sales:Q', title='Sales')],\n",
    "    color = alt.condition(dropSelect, 'Artist:N', alt.value('lightgray'), scale = alt.Scale(scheme = colorgorical)),\n",
    ").transform_lookup(\n",
    "    lookup = 'Artist',\n",
    "    from_ = alt.LookupData(\n",
    "        data = clusters, key = 'id', fields = ['name']\n",
    "    )\n",
    ").add_params(dropSelect).properties(title = r\"Sales of artist's album through the years\")\n",
    "\n",
    "\n",
    "chq1"
   ]
  },
  {
   "cell_type": "markdown",
   "metadata": {
    "id": "X6sT5bqNGVa7"
   },
   "source": [
    "In the dropdown I include the 'All' selection so that you can compare all the artists together easily. However in the final visualization when selecting **'All'** there is some **cluttering** in other charts. Thus, I decided to exclude it and have as a default selection 'Taylor Swift'."
   ]
  },
  {
   "cell_type": "code",
   "execution_count": 22,
   "metadata": {
    "colab": {
     "base_uri": "https://localhost:8080/",
     "height": 417
    },
    "executionInfo": {
     "elapsed": 35,
     "status": "ok",
     "timestamp": 1716379807302,
     "user": {
      "displayName": "Alexandros Tremopoulos",
      "userId": "18030826848297166341"
     },
     "user_tz": -120
    },
    "id": "a8wRocBQG0lQ",
    "outputId": "1e484218-9691-48dd-a839-cbbcee76e386"
   },
   "outputs": [
    {
     "data": {
      "text/html": [
       "\n",
       "<style>\n",
       "  #altair-viz-ec701d7b28f64f2fa7732090f7994718.vega-embed {\n",
       "    width: 100%;\n",
       "    display: flex;\n",
       "  }\n",
       "\n",
       "  #altair-viz-ec701d7b28f64f2fa7732090f7994718.vega-embed details,\n",
       "  #altair-viz-ec701d7b28f64f2fa7732090f7994718.vega-embed details summary {\n",
       "    position: relative;\n",
       "  }\n",
       "</style>\n",
       "<div id=\"altair-viz-ec701d7b28f64f2fa7732090f7994718\"></div>\n",
       "<script type=\"text/javascript\">\n",
       "  var VEGA_DEBUG = (typeof VEGA_DEBUG == \"undefined\") ? {} : VEGA_DEBUG;\n",
       "  (function(spec, embedOpt){\n",
       "    let outputDiv = document.currentScript.previousElementSibling;\n",
       "    if (outputDiv.id !== \"altair-viz-ec701d7b28f64f2fa7732090f7994718\") {\n",
       "      outputDiv = document.getElementById(\"altair-viz-ec701d7b28f64f2fa7732090f7994718\");\n",
       "    }\n",
       "    const paths = {\n",
       "      \"vega\": \"https://cdn.jsdelivr.net/npm/vega@5?noext\",\n",
       "      \"vega-lib\": \"https://cdn.jsdelivr.net/npm/vega-lib?noext\",\n",
       "      \"vega-lite\": \"https://cdn.jsdelivr.net/npm/vega-lite@5.17.0?noext\",\n",
       "      \"vega-embed\": \"https://cdn.jsdelivr.net/npm/vega-embed@6?noext\",\n",
       "    };\n",
       "\n",
       "    function maybeLoadScript(lib, version) {\n",
       "      var key = `${lib.replace(\"-\", \"\")}_version`;\n",
       "      return (VEGA_DEBUG[key] == version) ?\n",
       "        Promise.resolve(paths[lib]) :\n",
       "        new Promise(function(resolve, reject) {\n",
       "          var s = document.createElement('script');\n",
       "          document.getElementsByTagName(\"head\")[0].appendChild(s);\n",
       "          s.async = true;\n",
       "          s.onload = () => {\n",
       "            VEGA_DEBUG[key] = version;\n",
       "            return resolve(paths[lib]);\n",
       "          };\n",
       "          s.onerror = () => reject(`Error loading script: ${paths[lib]}`);\n",
       "          s.src = paths[lib];\n",
       "        });\n",
       "    }\n",
       "\n",
       "    function showError(err) {\n",
       "      outputDiv.innerHTML = `<div class=\"error\" style=\"color:red;\">${err}</div>`;\n",
       "      throw err;\n",
       "    }\n",
       "\n",
       "    function displayChart(vegaEmbed) {\n",
       "      vegaEmbed(outputDiv, spec, embedOpt)\n",
       "        .catch(err => showError(`Javascript Error: ${err.message}<br>This usually means there's a typo in your chart specification. See the javascript console for the full traceback.`));\n",
       "    }\n",
       "\n",
       "    if(typeof define === \"function\" && define.amd) {\n",
       "      requirejs.config({paths});\n",
       "      require([\"vega-embed\"], displayChart, err => showError(`Error loading script: ${err.message}`));\n",
       "    } else {\n",
       "      maybeLoadScript(\"vega\", \"5\")\n",
       "        .then(() => maybeLoadScript(\"vega-lite\", \"5.17.0\"))\n",
       "        .then(() => maybeLoadScript(\"vega-embed\", \"6\"))\n",
       "        .catch(showError)\n",
       "        .then(() => displayChart(vegaEmbed));\n",
       "    }\n",
       "  })({\"config\": {\"view\": {\"continuousWidth\": 300, \"continuousHeight\": 300}}, \"data\": {\"name\": \"data-db39071cae9f800ffde39ceafcbb23ef\"}, \"mark\": {\"type\": \"line\", \"point\": true}, \"encoding\": {\"color\": {\"condition\": {\"param\": \"Name_Of\", \"field\": \"Artist\", \"type\": \"nominal\", \"scale\": {\"scheme\": [\"rgb(105,239,123)\", \"rgb(216,21,180)\", \"rgb(172,225,183)\", \"rgb(120,40,87)\", \"rgb(37,184,234)\", \"rgb(32,80,46)\", \"rgb(250,175,227)\", \"rgb(52,70,109)\", \"rgb(192,225,92)\", \"rgb(114,68,185)\", \"rgb(99,161,34)\"]}}, \"value\": \"lightgray\"}, \"tooltip\": [{\"field\": \"Album\", \"type\": \"nominal\"}, {\"field\": \"Sales\", \"title\": \"Sales\", \"type\": \"quantitative\"}], \"x\": {\"field\": \"Year\", \"title\": \"Year\", \"type\": \"nominal\"}, \"y\": {\"field\": \"Sales\", \"title\": \"Sales\", \"type\": \"quantitative\"}}, \"params\": [{\"name\": \"Name_Of\", \"select\": {\"type\": \"point\", \"fields\": [\"Artist\"]}, \"bind\": {\"input\": \"select\", \"options\": [\"Taylor Swift\", \"The Weeknd\", \"Justin Bieber\", \"Lady Gaga\", \"Rihanna\", \"Shakira\", \"Drake\", \"Ariana Grande\", \"Post Malone\", \"Ed Sheeran\", \"Billie Eilish\"], \"labels\": [\"Taylor Swift \", \"The Weeknd \", \"Justin Bieber \", \"Lady Gaga \", \"Rihanna \", \"Shakira \", \"Drake \", \"Ariana Grande \", \"Post Malone \", \"Ed Sheeran \", \"Billie Eilish \"]}, \"value\": \"Taylor Swift\"}], \"title\": \"Sales of artist's album through the years\", \"transform\": [{\"lookup\": \"Artist\", \"from\": {\"data\": {\"name\": \"data-0b8bd83238ce944202f88b66e58b48be\"}, \"key\": \"id\", \"fields\": [\"name\"]}}], \"$schema\": \"https://vega.github.io/schema/vega-lite/v5.17.0.json\", \"datasets\": {\"data-db39071cae9f800ffde39ceafcbb23ef\": [{\"Artist\": \"Taylor Swift\", \"Album\": \"Taylor Swift\", \"Year\": 2006, \"Songs\": 13.0, \"Sales\": 7275000}, {\"Artist\": \"Taylor Swift\", \"Album\": \"Fearless\", \"Year\": 2008, \"Songs\": 13.0, \"Sales\": 11911000}, {\"Artist\": \"Taylor Swift\", \"Album\": \"Speak Now\", \"Year\": 2010, \"Songs\": 14.0, \"Sales\": 6917500}, {\"Artist\": \"Taylor Swift\", \"Album\": \"Red\", \"Year\": 2012, \"Songs\": 16.0, \"Sales\": 8889124}, {\"Artist\": \"Taylor Swift\", \"Album\": \"1989\", \"Year\": 2014, \"Songs\": 13.0, \"Sales\": 14748116}, {\"Artist\": \"Taylor Swift\", \"Album\": \"Reputation\", \"Year\": 2017, \"Songs\": 15.0, \"Sales\": 6186524}, {\"Artist\": \"Taylor Swift\", \"Album\": \"Lover\", \"Year\": 2019, \"Songs\": 18.0, \"Sales\": 5686733}, {\"Artist\": \"Taylor Swift\", \"Album\": \"floklore (deluxe version)\", \"Year\": 2020, \"Songs\": null, \"Sales\": 4360487}, {\"Artist\": \"Taylor Swift\", \"Album\": \"midnights\", \"Year\": 2022, \"Songs\": null, \"Sales\": 3387836}, {\"Artist\": \"Taylor Swift\", \"Album\": \"Fearless (Taylor's Version)\", \"Year\": 2021, \"Songs\": 20.0, \"Sales\": 1557687}, {\"Artist\": \"Taylor Swift\", \"Album\": \"Red (Taylor's Version)\", \"Year\": 2021, \"Songs\": 30.0, \"Sales\": 1696632}, {\"Artist\": \"Taylor Swift\", \"Album\": \"1989 (Taylor's version)\", \"Year\": 2023, \"Songs\": null, \"Sales\": 14748116}, {\"Artist\": \"Taylor Swift\", \"Album\": \"evermore (deluxe version)\", \"Year\": 2021, \"Songs\": null, \"Sales\": 1998779}, {\"Artist\": \"Post Malone\", \"Album\": \"Stoney\", \"Year\": 2016, \"Songs\": 11.0, \"Sales\": 7275000}, {\"Artist\": \"Post Malone\", \"Album\": \"Beerbongs & Bentleys\", \"Year\": 2018, \"Songs\": 14.0, \"Sales\": 11911000}, {\"Artist\": \"Post Malone\", \"Album\": \"Hollywood's Bleeding\", \"Year\": 2019, \"Songs\": 17.0, \"Sales\": 6186524}, {\"Artist\": \"Post Malone\", \"Album\": \"Twelve Carat Toothache\", \"Year\": 2022, \"Songs\": null, \"Sales\": 3387836}, {\"Artist\": \"Post Malone\", \"Album\": \"Austin\", \"Year\": 2022, \"Songs\": null, \"Sales\": 1998779}, {\"Artist\": \"Ariana Grande\", \"Album\": \"Yours Truly\", \"Year\": 2013, \"Songs\": 12.0, \"Sales\": 1305000}, {\"Artist\": \"Ariana Grande\", \"Album\": \"My Everything\", \"Year\": 2014, \"Songs\": 13.0, \"Sales\": 3506212}, {\"Artist\": \"Ariana Grande\", \"Album\": \"Dangerous Woman\", \"Year\": 2016, \"Songs\": 12.0, \"Sales\": 3632374}, {\"Artist\": \"Ariana Grande\", \"Album\": \"Sweetener\", \"Year\": 2018, \"Songs\": 15.0, \"Sales\": 1994479}, {\"Artist\": \"Ariana Grande\", \"Album\": \"Thank U, Next\", \"Year\": 2019, \"Songs\": 12.0, \"Sales\": 3775436}, {\"Artist\": \"Ariana Grande\", \"Album\": \"Positions\", \"Year\": 2020, \"Songs\": null, \"Sales\": 1603367}, {\"Artist\": \"Drake\", \"Album\": \"Thank Me Later\", \"Year\": 2010, \"Songs\": 16.0, \"Sales\": 3460000}, {\"Artist\": \"Drake\", \"Album\": \"Take Care\", \"Year\": 2011, \"Songs\": 13.0, \"Sales\": 6920000}, {\"Artist\": \"Drake\", \"Album\": \"Nothing Was the Same\", \"Year\": 2013, \"Songs\": 17.0, \"Sales\": 4595000}, {\"Artist\": \"Drake\", \"Album\": \"Views\", \"Year\": 2016, \"Songs\": 20.0, \"Sales\": 7687247}, {\"Artist\": \"Drake\", \"Album\": \"Scorpion\", \"Year\": 2018, \"Songs\": 25.0, \"Sales\": 6433983}, {\"Artist\": \"Drake\", \"Album\": \"More Life \", \"Year\": 2017, \"Songs\": null, \"Sales\": 4005250}, {\"Artist\": \"Drake\", \"Album\": \"If you're reading this its too late\", \"Year\": 2015, \"Songs\": null, \"Sales\": 3480000}, {\"Artist\": \"Billie Eilish\", \"Album\": \"Happier than ever\", \"Year\": 2021, \"Songs\": null, \"Sales\": 885000}, {\"Artist\": \"Billie Eilish\", \"Album\": \"Don't smile at me\", \"Year\": 2017, \"Songs\": null, \"Sales\": 2434691}, {\"Artist\": \"Billie Eilish\", \"Album\": \"When We All Fall Asleep, Where Do We Go?\", \"Year\": 2019, \"Songs\": 14.0, \"Sales\": 7256516}, {\"Artist\": \"Lady Gaga\", \"Album\": \"The Fame\", \"Year\": 2008, \"Songs\": 11.0, \"Sales\": 14350358}, {\"Artist\": \"Lady Gaga\", \"Album\": \"The Fame Monster\", \"Year\": 2009, \"Songs\": null, \"Sales\": 8298000}, {\"Artist\": \"Lady Gaga\", \"Album\": \"Born This Way\", \"Year\": 2011, \"Songs\": 14.0, \"Sales\": 7166944}, {\"Artist\": \"Lady Gaga\", \"Album\": \"Artpop\", \"Year\": 2013, \"Songs\": 15.0, \"Sales\": 2300000}, {\"Artist\": \"Lady Gaga\", \"Album\": \"Cheek to Cheek\", \"Year\": 2014, \"Songs\": 11.0, \"Sales\": 715000}, {\"Artist\": \"Lady Gaga\", \"Album\": \"A Star is born (soundtrack)\", \"Year\": 2018, \"Songs\": null, \"Sales\": 4270810}, {\"Artist\": \"Lady Gaga\", \"Album\": \"Chromatica\", \"Year\": 2020, \"Songs\": null, \"Sales\": 1483784}, {\"Artist\": \"Lady Gaga\", \"Album\": \"Joanne\", \"Year\": 2016, \"Songs\": null, \"Sales\": 1305793}, {\"Artist\": \"Rihanna\", \"Album\": \"Good Girl Gone Bad\", \"Year\": 2007, \"Songs\": 12.0, \"Sales\": 10854803}, {\"Artist\": \"Rihanna\", \"Album\": \"Rated R\", \"Year\": 2009, \"Songs\": 12.0, \"Sales\": 3183000}, {\"Artist\": \"Rihanna\", \"Album\": \"Loud\", \"Year\": 2010, \"Songs\": 14.0, \"Sales\": 6673000}, {\"Artist\": \"Rihanna\", \"Album\": \"Talk That Talk\", \"Year\": 2011, \"Songs\": 11.0, \"Sales\": 4628000}, {\"Artist\": \"Rihanna\", \"Album\": \"Unapologetic\", \"Year\": 2012, \"Songs\": 12.0, \"Sales\": 4382500}, {\"Artist\": \"Rihanna\", \"Album\": \"Anti\", \"Year\": 2016, \"Songs\": null, \"Sales\": 6537235}, {\"Artist\": \"Rihanna\", \"Album\": \"A girl like me\", \"Year\": 2006, \"Songs\": null, \"Sales\": 3377500}, {\"Artist\": \"Rihanna\", \"Album\": \"Music of the sun\", \"Year\": 2005, \"Songs\": null, \"Sales\": 1407500}, {\"Artist\": \"The Weeknd\", \"Album\": \"House of Balloons\", \"Year\": 2011, \"Songs\": 8.0, \"Sales\": 180000}, {\"Artist\": \"The Weeknd\", \"Album\": \"Dawn FM\", \"Year\": 2022, \"Songs\": null, \"Sales\": 340000}, {\"Artist\": \"The Weeknd\", \"Album\": \"Kiss Land\", \"Year\": 2013, \"Songs\": 13.0, \"Sales\": 640000}, {\"Artist\": \"The Weeknd\", \"Album\": \"Beauty Behind the Madness\", \"Year\": 2015, \"Songs\": 14.0, \"Sales\": 7584588}, {\"Artist\": \"The Weeknd\", \"Album\": \"Starboy\", \"Year\": 2016, \"Songs\": 18.0, \"Sales\": 6070666}, {\"Artist\": \"The Weeknd\", \"Album\": \"My Dear Melancholy\", \"Year\": 2018, \"Songs\": 6.0, \"Sales\": 1201541}, {\"Artist\": \"The Weeknd\", \"Album\": \"After Hours\", \"Year\": 2020, \"Songs\": 14.0, \"Sales\": 4958942}, {\"Artist\": \"The Weeknd\", \"Album\": \"The highlights\", \"Year\": 2021, \"Songs\": null, \"Sales\": 2116000}, {\"Artist\": \"The Weeknd\", \"Album\": \"Trilogy\", \"Year\": 2012, \"Songs\": null, \"Sales\": 1360000}, {\"Artist\": \"Ed Sheeran\", \"Album\": \"+\", \"Year\": 2011, \"Songs\": 12.0, \"Sales\": 7705000}, {\"Artist\": \"Ed Sheeran\", \"Album\": \"x\", \"Year\": 2014, \"Songs\": 12.0, \"Sales\": 11879785}, {\"Artist\": \"Ed Sheeran\", \"Album\": \"\\u00f7\", \"Year\": 2017, \"Songs\": 12.0, \"Sales\": 13787460}, {\"Artist\": \"Ed Sheeran\", \"Album\": \"=\", \"Year\": 2021, \"Songs\": null, \"Sales\": 1862489}, {\"Artist\": \"Ed Sheeran\", \"Album\": \"No.6 Collaborations Project\", \"Year\": 2019, \"Songs\": 15.0, \"Sales\": 2631838}, {\"Artist\": \"Justin Bieber\", \"Album\": \"My World 2.0\", \"Year\": 2010, \"Songs\": 12.0, \"Sales\": 5235395}, {\"Artist\": \"Justin Bieber\", \"Album\": \"Believe\", \"Year\": 2012, \"Songs\": 13.0, \"Sales\": 4141507}, {\"Artist\": \"Justin Bieber\", \"Album\": \"Purpose\", \"Year\": 2015, \"Songs\": 13.0, \"Sales\": 14000000}, {\"Artist\": \"Justin Bieber\", \"Album\": \"Changes\", \"Year\": 2020, \"Songs\": 17.0, \"Sales\": 2182351}, {\"Artist\": \"Justin Bieber\", \"Album\": \"My World\", \"Year\": 2010, \"Songs\": null, \"Sales\": 3980000}, {\"Artist\": \"Justin Bieber\", \"Album\": \"Justice\", \"Year\": 2021, \"Songs\": null, \"Sales\": 3793131}, {\"Artist\": \"Justin Bieber\", \"Album\": \"Under the Mistletoe\", \"Year\": 2011, \"Songs\": null, \"Sales\": 2700725}, {\"Artist\": \"Justin Bieber\", \"Album\": \"Never say never - the remixes\", \"Year\": 2011, \"Songs\": null, \"Sales\": 1133000}, {\"Artist\": \"Justin Bieber\", \"Album\": \"Journals\", \"Year\": 2013, \"Songs\": null, \"Sales\": 1080000}, {\"Artist\": \"Shakira\", \"Album\": \"Laundry service\", \"Year\": 2001, \"Songs\": null, \"Sales\": 13000000}, {\"Artist\": \"Shakira\", \"Album\": \"Fijaci\\u00f3n oral Vol 1\", \"Year\": 2005, \"Songs\": null, \"Sales\": 3150519}, {\"Artist\": \"Shakira\", \"Album\": \"Oral Fixation vol 2\", \"Year\": 2005, \"Songs\": null, \"Sales\": 2878001}, {\"Artist\": \"Shakira\", \"Album\": \"Pies Descalzos\", \"Year\": 1995, \"Songs\": null, \"Sales\": 2695000}, {\"Artist\": \"Shakira\", \"Album\": \"Donde est\\u00e1n los ladrones\", \"Year\": 1998, \"Songs\": null, \"Sales\": 2551351}, {\"Artist\": \"Shakira\", \"Album\": \"Sale el sol / The sun comes out\", \"Year\": 2010, \"Songs\": null, \"Sales\": 2389939}, {\"Artist\": \"Shakira\", \"Album\": \"El dorado\", \"Year\": 2017, \"Songs\": null, \"Sales\": 985000}, {\"Artist\": \"Shakira\", \"Album\": \"MTV Umplugged\", \"Year\": 2000, \"Songs\": null, \"Sales\": 828663}], \"data-0b8bd83238ce944202f88b66e58b48be\": [{\"id\": 0, \"name\": \"Taylor Swift\"}, {\"id\": 1, \"name\": \"The Weeknd\"}, {\"id\": 2, \"name\": \"Justin Bieber\"}, {\"id\": 3, \"name\": \"Lady Gaga\"}, {\"id\": 4, \"name\": \"Rihanna\"}, {\"id\": 6, \"name\": \"Shakira\"}, {\"id\": 7, \"name\": \"Drake\"}, {\"id\": 8, \"name\": \"Ariana Grande\"}, {\"id\": 9, \"name\": \"Post Malone\"}, {\"id\": 10, \"name\": \"Ed Sheeran\"}, {\"id\": 11, \"name\": \"Billie Eilish\"}]}}, {\"mode\": \"vega-lite\"});\n",
       "</script>"
      ],
      "text/plain": [
       "alt.Chart(...)"
      ]
     },
     "execution_count": 22,
     "metadata": {},
     "output_type": "execute_result"
    }
   ],
   "source": [
    "clusters = pd.DataFrame([\n",
    "    {\"id\": 0, \"name\": \"Taylor Swift\"},\n",
    "    {\"id\": 1, \"name\": \"The Weeknd\"},\n",
    "    {\"id\": 2, \"name\": \"Justin Bieber\"},\n",
    "    {\"id\": 3, \"name\": \"Lady Gaga\"},\n",
    "    {\"id\": 4, \"name\": \"Rihanna\"},\n",
    "    {\"id\": 6, \"name\": \"Shakira\"},\n",
    "    {\"id\": 7, \"name\": \"Drake\"},\n",
    "    {\"id\": 8, \"name\": \"Ariana Grande\"},\n",
    "    {\"id\": 9, \"name\": \"Post Malone\"},\n",
    "    {\"id\": 10, \"name\": \"Ed Sheeran\"},\n",
    "    {\"id\": 11, \"name\": \"Billie Eilish\"},\n",
    "])\n",
    "\n",
    "dropdown_options = list(clusters['name'])\n",
    "labels = [option + ' ' for option in dropdown_options]\n",
    "\n",
    "cluster_dropdown = alt.binding_select(\n",
    "    options=dropdown_options ,\n",
    "    labels=labels ,)\n",
    "dropSelect = alt.selection_point(fields = ['Artist'],value='Taylor Swift',\n",
    "                                 bind = cluster_dropdown, name = 'Name_Of')\n",
    "chq1 = alt.Chart(top_artists).mark_line(point=True).encode(\n",
    "    alt.X('Year:N', title = 'Year'),\n",
    "    alt.Y('Sales:Q', title = 'Sales'),\n",
    "    tooltip = ['Album:N', alt.Tooltip('Sales:Q', title='Sales')],\n",
    "    color = alt.condition(dropSelect, 'Artist:N', alt.value('lightgray'), scale = alt.Scale(scheme = colorgorical)),\n",
    ").transform_lookup(\n",
    "    lookup = 'Artist',\n",
    "    from_ = alt.LookupData(\n",
    "        data = clusters, key = 'id', fields = ['name']\n",
    "    )\n",
    ").add_params(dropSelect).properties(title = r\"Sales of artist's album through the years\")\n",
    "\n",
    "\n",
    "chq1"
   ]
  },
  {
   "cell_type": "markdown",
   "metadata": {
    "id": "yEAoFTrKM0ie"
   },
   "source": [
    "**Answer to Q1:** I created an interactive line chart, having 'Sales' in y-axis and 'Year' in x-axis, where each line corresponds to a specific artist. Each artist has a different color with a palette created in colorgorical and tested for color-blindness. The interaction is performed with a dropdown selection, when an arist is selected, but I dont have the option of selecting 'All' arists due to cluttering created in other charts in the final visualization (Taylor Swift is the default selection). With all the above I answer the successfulness of each artist along their whole career."
   ]
  },
  {
   "cell_type": "markdown",
   "metadata": {
    "id": "fQ_Q_a520FTO"
   },
   "source": [
    "## Q2: What artists have been more successful on a concrete year?"
   ]
  },
  {
   "cell_type": "markdown",
   "metadata": {
    "id": "3eGuXqZ_Hvvt"
   },
   "source": [
    "Concrete year indicates that comparisong in a specific year should be displayed. We have 24 different years in our dataset ranging from 1995 to 2023, with 1996,1997,1999,2002,2003,2004 being absent since there was not even one album released that year by the artists we are comparing. Successfulness is again compared by the 'Sales' column. In the next cell we see my **first try** to create an interactive scatterplot. As a baseline is ok, but it needs some **adjustments**."
   ]
  },
  {
   "cell_type": "code",
   "execution_count": 23,
   "metadata": {
    "colab": {
     "base_uri": "https://localhost:8080/",
     "height": 380
    },
    "executionInfo": {
     "elapsed": 32,
     "status": "ok",
     "timestamp": 1716379807302,
     "user": {
      "displayName": "Alexandros Tremopoulos",
      "userId": "18030826848297166341"
     },
     "user_tz": -120
    },
    "id": "BFCvbsdu0PHx",
    "outputId": "ec151846-3fcc-4721-dcaf-41db5da50b53"
   },
   "outputs": [
    {
     "data": {
      "text/html": [
       "\n",
       "<style>\n",
       "  #altair-viz-3e929a70eec14073aa450f2b3139dee3.vega-embed {\n",
       "    width: 100%;\n",
       "    display: flex;\n",
       "  }\n",
       "\n",
       "  #altair-viz-3e929a70eec14073aa450f2b3139dee3.vega-embed details,\n",
       "  #altair-viz-3e929a70eec14073aa450f2b3139dee3.vega-embed details summary {\n",
       "    position: relative;\n",
       "  }\n",
       "</style>\n",
       "<div id=\"altair-viz-3e929a70eec14073aa450f2b3139dee3\"></div>\n",
       "<script type=\"text/javascript\">\n",
       "  var VEGA_DEBUG = (typeof VEGA_DEBUG == \"undefined\") ? {} : VEGA_DEBUG;\n",
       "  (function(spec, embedOpt){\n",
       "    let outputDiv = document.currentScript.previousElementSibling;\n",
       "    if (outputDiv.id !== \"altair-viz-3e929a70eec14073aa450f2b3139dee3\") {\n",
       "      outputDiv = document.getElementById(\"altair-viz-3e929a70eec14073aa450f2b3139dee3\");\n",
       "    }\n",
       "    const paths = {\n",
       "      \"vega\": \"https://cdn.jsdelivr.net/npm/vega@5?noext\",\n",
       "      \"vega-lib\": \"https://cdn.jsdelivr.net/npm/vega-lib?noext\",\n",
       "      \"vega-lite\": \"https://cdn.jsdelivr.net/npm/vega-lite@5.17.0?noext\",\n",
       "      \"vega-embed\": \"https://cdn.jsdelivr.net/npm/vega-embed@6?noext\",\n",
       "    };\n",
       "\n",
       "    function maybeLoadScript(lib, version) {\n",
       "      var key = `${lib.replace(\"-\", \"\")}_version`;\n",
       "      return (VEGA_DEBUG[key] == version) ?\n",
       "        Promise.resolve(paths[lib]) :\n",
       "        new Promise(function(resolve, reject) {\n",
       "          var s = document.createElement('script');\n",
       "          document.getElementsByTagName(\"head\")[0].appendChild(s);\n",
       "          s.async = true;\n",
       "          s.onload = () => {\n",
       "            VEGA_DEBUG[key] = version;\n",
       "            return resolve(paths[lib]);\n",
       "          };\n",
       "          s.onerror = () => reject(`Error loading script: ${paths[lib]}`);\n",
       "          s.src = paths[lib];\n",
       "        });\n",
       "    }\n",
       "\n",
       "    function showError(err) {\n",
       "      outputDiv.innerHTML = `<div class=\"error\" style=\"color:red;\">${err}</div>`;\n",
       "      throw err;\n",
       "    }\n",
       "\n",
       "    function displayChart(vegaEmbed) {\n",
       "      vegaEmbed(outputDiv, spec, embedOpt)\n",
       "        .catch(err => showError(`Javascript Error: ${err.message}<br>This usually means there's a typo in your chart specification. See the javascript console for the full traceback.`));\n",
       "    }\n",
       "\n",
       "    if(typeof define === \"function\" && define.amd) {\n",
       "      requirejs.config({paths});\n",
       "      require([\"vega-embed\"], displayChart, err => showError(`Error loading script: ${err.message}`));\n",
       "    } else {\n",
       "      maybeLoadScript(\"vega\", \"5\")\n",
       "        .then(() => maybeLoadScript(\"vega-lite\", \"5.17.0\"))\n",
       "        .then(() => maybeLoadScript(\"vega-embed\", \"6\"))\n",
       "        .catch(showError)\n",
       "        .then(() => displayChart(vegaEmbed));\n",
       "    }\n",
       "  })({\"config\": {\"view\": {\"continuousWidth\": 300, \"continuousHeight\": 300}}, \"data\": {\"name\": \"data-db39071cae9f800ffde39ceafcbb23ef\"}, \"mark\": {\"type\": \"circle\"}, \"encoding\": {\"color\": {\"condition\": {\"param\": \"In\", \"field\": \"Year\", \"type\": \"nominal\", \"scale\": {\"scheme\": [\"rgb(105,239,123)\", \"rgb(216,21,180)\", \"rgb(172,225,183)\", \"rgb(120,40,87)\", \"rgb(37,184,234)\", \"rgb(32,80,46)\", \"rgb(250,175,227)\", \"rgb(52,70,109)\", \"rgb(192,225,92)\", \"rgb(114,68,185)\", \"rgb(99,161,34)\"]}}, \"value\": \"lightgray\"}, \"tooltip\": [{\"field\": \"Artist\", \"title\": \"Artist:\", \"type\": \"nominal\"}, {\"field\": \"Album\", \"title\": \"Album:\", \"type\": \"nominal\"}, {\"field\": \"Sales\", \"title\": \"Sales:\", \"type\": \"quantitative\"}, {\"field\": \"Year\", \"title\": \"Year:\", \"type\": \"nominal\"}], \"x\": {\"field\": \"Sales\", \"title\": \"Sales\", \"type\": \"quantitative\"}, \"y\": {\"field\": \"Artist\", \"title\": \"Artist\", \"type\": \"nominal\"}}, \"params\": [{\"name\": \"In\", \"select\": {\"type\": \"point\", \"fields\": [\"Year\"]}, \"bind\": {\"input\": \"select\", \"options\": [1995, 1998, 2000, 2001, 2005, 2006, 2007, 2008, 2009, 2010, 2011, 2012, 2013, 2014, 2015, 2016, 2017, 2018, 2019, 2020, 2021, 2022, 2023, null], \"labels\": [\"1995\", \"1998\", \"2000\", \"2001\", \"2005\", \"2006\", \"2007\", \"2008\", \"2009\", \"2010\", \"2011\", \"2012\", \"2013\", \"2014\", \"2015\", \"2016\", \"2017\", \"2018\", \"2019\", \"2020\", \"2021\", \"2022\", \"2023\", \"All\"]}}], \"title\": \"Sales of artist's album through the years\", \"transform\": [{\"lookup\": \"Year\", \"from\": {\"data\": {\"name\": \"data-cea8add160a30534732215b7d3769082\"}, \"key\": \"id\", \"fields\": [\"name\"]}}], \"width\": 450, \"$schema\": \"https://vega.github.io/schema/vega-lite/v5.17.0.json\", \"datasets\": {\"data-db39071cae9f800ffde39ceafcbb23ef\": [{\"Artist\": \"Taylor Swift\", \"Album\": \"Taylor Swift\", \"Year\": 2006, \"Songs\": 13.0, \"Sales\": 7275000}, {\"Artist\": \"Taylor Swift\", \"Album\": \"Fearless\", \"Year\": 2008, \"Songs\": 13.0, \"Sales\": 11911000}, {\"Artist\": \"Taylor Swift\", \"Album\": \"Speak Now\", \"Year\": 2010, \"Songs\": 14.0, \"Sales\": 6917500}, {\"Artist\": \"Taylor Swift\", \"Album\": \"Red\", \"Year\": 2012, \"Songs\": 16.0, \"Sales\": 8889124}, {\"Artist\": \"Taylor Swift\", \"Album\": \"1989\", \"Year\": 2014, \"Songs\": 13.0, \"Sales\": 14748116}, {\"Artist\": \"Taylor Swift\", \"Album\": \"Reputation\", \"Year\": 2017, \"Songs\": 15.0, \"Sales\": 6186524}, {\"Artist\": \"Taylor Swift\", \"Album\": \"Lover\", \"Year\": 2019, \"Songs\": 18.0, \"Sales\": 5686733}, {\"Artist\": \"Taylor Swift\", \"Album\": \"floklore (deluxe version)\", \"Year\": 2020, \"Songs\": null, \"Sales\": 4360487}, {\"Artist\": \"Taylor Swift\", \"Album\": \"midnights\", \"Year\": 2022, \"Songs\": null, \"Sales\": 3387836}, {\"Artist\": \"Taylor Swift\", \"Album\": \"Fearless (Taylor's Version)\", \"Year\": 2021, \"Songs\": 20.0, \"Sales\": 1557687}, {\"Artist\": \"Taylor Swift\", \"Album\": \"Red (Taylor's Version)\", \"Year\": 2021, \"Songs\": 30.0, \"Sales\": 1696632}, {\"Artist\": \"Taylor Swift\", \"Album\": \"1989 (Taylor's version)\", \"Year\": 2023, \"Songs\": null, \"Sales\": 14748116}, {\"Artist\": \"Taylor Swift\", \"Album\": \"evermore (deluxe version)\", \"Year\": 2021, \"Songs\": null, \"Sales\": 1998779}, {\"Artist\": \"Post Malone\", \"Album\": \"Stoney\", \"Year\": 2016, \"Songs\": 11.0, \"Sales\": 7275000}, {\"Artist\": \"Post Malone\", \"Album\": \"Beerbongs & Bentleys\", \"Year\": 2018, \"Songs\": 14.0, \"Sales\": 11911000}, {\"Artist\": \"Post Malone\", \"Album\": \"Hollywood's Bleeding\", \"Year\": 2019, \"Songs\": 17.0, \"Sales\": 6186524}, {\"Artist\": \"Post Malone\", \"Album\": \"Twelve Carat Toothache\", \"Year\": 2022, \"Songs\": null, \"Sales\": 3387836}, {\"Artist\": \"Post Malone\", \"Album\": \"Austin\", \"Year\": 2022, \"Songs\": null, \"Sales\": 1998779}, {\"Artist\": \"Ariana Grande\", \"Album\": \"Yours Truly\", \"Year\": 2013, \"Songs\": 12.0, \"Sales\": 1305000}, {\"Artist\": \"Ariana Grande\", \"Album\": \"My Everything\", \"Year\": 2014, \"Songs\": 13.0, \"Sales\": 3506212}, {\"Artist\": \"Ariana Grande\", \"Album\": \"Dangerous Woman\", \"Year\": 2016, \"Songs\": 12.0, \"Sales\": 3632374}, {\"Artist\": \"Ariana Grande\", \"Album\": \"Sweetener\", \"Year\": 2018, \"Songs\": 15.0, \"Sales\": 1994479}, {\"Artist\": \"Ariana Grande\", \"Album\": \"Thank U, Next\", \"Year\": 2019, \"Songs\": 12.0, \"Sales\": 3775436}, {\"Artist\": \"Ariana Grande\", \"Album\": \"Positions\", \"Year\": 2020, \"Songs\": null, \"Sales\": 1603367}, {\"Artist\": \"Drake\", \"Album\": \"Thank Me Later\", \"Year\": 2010, \"Songs\": 16.0, \"Sales\": 3460000}, {\"Artist\": \"Drake\", \"Album\": \"Take Care\", \"Year\": 2011, \"Songs\": 13.0, \"Sales\": 6920000}, {\"Artist\": \"Drake\", \"Album\": \"Nothing Was the Same\", \"Year\": 2013, \"Songs\": 17.0, \"Sales\": 4595000}, {\"Artist\": \"Drake\", \"Album\": \"Views\", \"Year\": 2016, \"Songs\": 20.0, \"Sales\": 7687247}, {\"Artist\": \"Drake\", \"Album\": \"Scorpion\", \"Year\": 2018, \"Songs\": 25.0, \"Sales\": 6433983}, {\"Artist\": \"Drake\", \"Album\": \"More Life \", \"Year\": 2017, \"Songs\": null, \"Sales\": 4005250}, {\"Artist\": \"Drake\", \"Album\": \"If you're reading this its too late\", \"Year\": 2015, \"Songs\": null, \"Sales\": 3480000}, {\"Artist\": \"Billie Eilish\", \"Album\": \"Happier than ever\", \"Year\": 2021, \"Songs\": null, \"Sales\": 885000}, {\"Artist\": \"Billie Eilish\", \"Album\": \"Don't smile at me\", \"Year\": 2017, \"Songs\": null, \"Sales\": 2434691}, {\"Artist\": \"Billie Eilish\", \"Album\": \"When We All Fall Asleep, Where Do We Go?\", \"Year\": 2019, \"Songs\": 14.0, \"Sales\": 7256516}, {\"Artist\": \"Lady Gaga\", \"Album\": \"The Fame\", \"Year\": 2008, \"Songs\": 11.0, \"Sales\": 14350358}, {\"Artist\": \"Lady Gaga\", \"Album\": \"The Fame Monster\", \"Year\": 2009, \"Songs\": null, \"Sales\": 8298000}, {\"Artist\": \"Lady Gaga\", \"Album\": \"Born This Way\", \"Year\": 2011, \"Songs\": 14.0, \"Sales\": 7166944}, {\"Artist\": \"Lady Gaga\", \"Album\": \"Artpop\", \"Year\": 2013, \"Songs\": 15.0, \"Sales\": 2300000}, {\"Artist\": \"Lady Gaga\", \"Album\": \"Cheek to Cheek\", \"Year\": 2014, \"Songs\": 11.0, \"Sales\": 715000}, {\"Artist\": \"Lady Gaga\", \"Album\": \"A Star is born (soundtrack)\", \"Year\": 2018, \"Songs\": null, \"Sales\": 4270810}, {\"Artist\": \"Lady Gaga\", \"Album\": \"Chromatica\", \"Year\": 2020, \"Songs\": null, \"Sales\": 1483784}, {\"Artist\": \"Lady Gaga\", \"Album\": \"Joanne\", \"Year\": 2016, \"Songs\": null, \"Sales\": 1305793}, {\"Artist\": \"Rihanna\", \"Album\": \"Good Girl Gone Bad\", \"Year\": 2007, \"Songs\": 12.0, \"Sales\": 10854803}, {\"Artist\": \"Rihanna\", \"Album\": \"Rated R\", \"Year\": 2009, \"Songs\": 12.0, \"Sales\": 3183000}, {\"Artist\": \"Rihanna\", \"Album\": \"Loud\", \"Year\": 2010, \"Songs\": 14.0, \"Sales\": 6673000}, {\"Artist\": \"Rihanna\", \"Album\": \"Talk That Talk\", \"Year\": 2011, \"Songs\": 11.0, \"Sales\": 4628000}, {\"Artist\": \"Rihanna\", \"Album\": \"Unapologetic\", \"Year\": 2012, \"Songs\": 12.0, \"Sales\": 4382500}, {\"Artist\": \"Rihanna\", \"Album\": \"Anti\", \"Year\": 2016, \"Songs\": null, \"Sales\": 6537235}, {\"Artist\": \"Rihanna\", \"Album\": \"A girl like me\", \"Year\": 2006, \"Songs\": null, \"Sales\": 3377500}, {\"Artist\": \"Rihanna\", \"Album\": \"Music of the sun\", \"Year\": 2005, \"Songs\": null, \"Sales\": 1407500}, {\"Artist\": \"The Weeknd\", \"Album\": \"House of Balloons\", \"Year\": 2011, \"Songs\": 8.0, \"Sales\": 180000}, {\"Artist\": \"The Weeknd\", \"Album\": \"Dawn FM\", \"Year\": 2022, \"Songs\": null, \"Sales\": 340000}, {\"Artist\": \"The Weeknd\", \"Album\": \"Kiss Land\", \"Year\": 2013, \"Songs\": 13.0, \"Sales\": 640000}, {\"Artist\": \"The Weeknd\", \"Album\": \"Beauty Behind the Madness\", \"Year\": 2015, \"Songs\": 14.0, \"Sales\": 7584588}, {\"Artist\": \"The Weeknd\", \"Album\": \"Starboy\", \"Year\": 2016, \"Songs\": 18.0, \"Sales\": 6070666}, {\"Artist\": \"The Weeknd\", \"Album\": \"My Dear Melancholy\", \"Year\": 2018, \"Songs\": 6.0, \"Sales\": 1201541}, {\"Artist\": \"The Weeknd\", \"Album\": \"After Hours\", \"Year\": 2020, \"Songs\": 14.0, \"Sales\": 4958942}, {\"Artist\": \"The Weeknd\", \"Album\": \"The highlights\", \"Year\": 2021, \"Songs\": null, \"Sales\": 2116000}, {\"Artist\": \"The Weeknd\", \"Album\": \"Trilogy\", \"Year\": 2012, \"Songs\": null, \"Sales\": 1360000}, {\"Artist\": \"Ed Sheeran\", \"Album\": \"+\", \"Year\": 2011, \"Songs\": 12.0, \"Sales\": 7705000}, {\"Artist\": \"Ed Sheeran\", \"Album\": \"x\", \"Year\": 2014, \"Songs\": 12.0, \"Sales\": 11879785}, {\"Artist\": \"Ed Sheeran\", \"Album\": \"\\u00f7\", \"Year\": 2017, \"Songs\": 12.0, \"Sales\": 13787460}, {\"Artist\": \"Ed Sheeran\", \"Album\": \"=\", \"Year\": 2021, \"Songs\": null, \"Sales\": 1862489}, {\"Artist\": \"Ed Sheeran\", \"Album\": \"No.6 Collaborations Project\", \"Year\": 2019, \"Songs\": 15.0, \"Sales\": 2631838}, {\"Artist\": \"Justin Bieber\", \"Album\": \"My World 2.0\", \"Year\": 2010, \"Songs\": 12.0, \"Sales\": 5235395}, {\"Artist\": \"Justin Bieber\", \"Album\": \"Believe\", \"Year\": 2012, \"Songs\": 13.0, \"Sales\": 4141507}, {\"Artist\": \"Justin Bieber\", \"Album\": \"Purpose\", \"Year\": 2015, \"Songs\": 13.0, \"Sales\": 14000000}, {\"Artist\": \"Justin Bieber\", \"Album\": \"Changes\", \"Year\": 2020, \"Songs\": 17.0, \"Sales\": 2182351}, {\"Artist\": \"Justin Bieber\", \"Album\": \"My World\", \"Year\": 2010, \"Songs\": null, \"Sales\": 3980000}, {\"Artist\": \"Justin Bieber\", \"Album\": \"Justice\", \"Year\": 2021, \"Songs\": null, \"Sales\": 3793131}, {\"Artist\": \"Justin Bieber\", \"Album\": \"Under the Mistletoe\", \"Year\": 2011, \"Songs\": null, \"Sales\": 2700725}, {\"Artist\": \"Justin Bieber\", \"Album\": \"Never say never - the remixes\", \"Year\": 2011, \"Songs\": null, \"Sales\": 1133000}, {\"Artist\": \"Justin Bieber\", \"Album\": \"Journals\", \"Year\": 2013, \"Songs\": null, \"Sales\": 1080000}, {\"Artist\": \"Shakira\", \"Album\": \"Laundry service\", \"Year\": 2001, \"Songs\": null, \"Sales\": 13000000}, {\"Artist\": \"Shakira\", \"Album\": \"Fijaci\\u00f3n oral Vol 1\", \"Year\": 2005, \"Songs\": null, \"Sales\": 3150519}, {\"Artist\": \"Shakira\", \"Album\": \"Oral Fixation vol 2\", \"Year\": 2005, \"Songs\": null, \"Sales\": 2878001}, {\"Artist\": \"Shakira\", \"Album\": \"Pies Descalzos\", \"Year\": 1995, \"Songs\": null, \"Sales\": 2695000}, {\"Artist\": \"Shakira\", \"Album\": \"Donde est\\u00e1n los ladrones\", \"Year\": 1998, \"Songs\": null, \"Sales\": 2551351}, {\"Artist\": \"Shakira\", \"Album\": \"Sale el sol / The sun comes out\", \"Year\": 2010, \"Songs\": null, \"Sales\": 2389939}, {\"Artist\": \"Shakira\", \"Album\": \"El dorado\", \"Year\": 2017, \"Songs\": null, \"Sales\": 985000}, {\"Artist\": \"Shakira\", \"Album\": \"MTV Umplugged\", \"Year\": 2000, \"Songs\": null, \"Sales\": 828663}], \"data-cea8add160a30534732215b7d3769082\": [{\"id\": 0, \"name\": 1995}, {\"id\": 1, \"name\": 1998}, {\"id\": 2, \"name\": 2000}, {\"id\": 3, \"name\": 2001}, {\"id\": 4, \"name\": 2005}, {\"id\": 6, \"name\": 2006}, {\"id\": 7, \"name\": 2007}, {\"id\": 8, \"name\": 2008}, {\"id\": 9, \"name\": 2009}, {\"id\": 10, \"name\": 2010}, {\"id\": 11, \"name\": 2011}, {\"id\": 12, \"name\": 2012}, {\"id\": 13, \"name\": 2013}, {\"id\": 14, \"name\": 2014}, {\"id\": 15, \"name\": 2015}, {\"id\": 16, \"name\": 2016}, {\"id\": 17, \"name\": 2017}, {\"id\": 18, \"name\": 2018}, {\"id\": 19, \"name\": 2019}, {\"id\": 20, \"name\": 2020}, {\"id\": 21, \"name\": 2021}, {\"id\": 22, \"name\": 2022}, {\"id\": 23, \"name\": 2023}]}}, {\"mode\": \"vega-lite\"});\n",
       "</script>"
      ],
      "text/plain": [
       "alt.Chart(...)"
      ]
     },
     "execution_count": 23,
     "metadata": {},
     "output_type": "execute_result"
    }
   ],
   "source": [
    "clusters2 = pd.DataFrame([\n",
    "    {\"id\": 0, \"name\": 1995},\n",
    "    {\"id\": 1, \"name\": 1998},\n",
    "    {\"id\": 2, \"name\": 2000},\n",
    "    {\"id\": 3, \"name\": 2001},\n",
    "    {\"id\": 4, \"name\": 2005},\n",
    "    {\"id\": 6, \"name\": 2006},\n",
    "    {\"id\": 7, \"name\": 2007},\n",
    "    {\"id\": 8, \"name\": 2008},\n",
    "    {\"id\": 9, \"name\": 2009},\n",
    "    {\"id\": 10, \"name\": 2010},\n",
    "    {\"id\": 11, \"name\": 2011},\n",
    "    {\"id\": 12, \"name\": 2012},\n",
    "    {\"id\": 13, \"name\": 2013},\n",
    "    {\"id\": 14, \"name\": 2014},\n",
    "    {\"id\": 15, \"name\": 2015},\n",
    "    {\"id\": 16, \"name\": 2016},\n",
    "    {\"id\": 17, \"name\": 2017},\n",
    "    {\"id\": 18, \"name\": 2018},\n",
    "    {\"id\": 19, \"name\": 2019},\n",
    "    {\"id\": 20, \"name\": 2020},\n",
    "    {\"id\": 21, \"name\": 2021},\n",
    "    {\"id\": 22, \"name\": 2022},\n",
    "    {\"id\": 23, \"name\": 2023},\n",
    "])\n",
    "\n",
    "dropdown_options = list(clusters2['name'])\n",
    "labels = [str(option) for option in dropdown_options]\n",
    "cluster_dropdown = alt.binding_select(\n",
    "    options=dropdown_options + [None],\n",
    "    labels=labels + ['All'])\n",
    "dropSelect = alt.selection_point(fields = ['Year'],\n",
    "                                 bind = cluster_dropdown, name = 'In')\n",
    "\n",
    "chq2 = alt.Chart(top_artists).mark_circle().encode(\n",
    "    alt.X('Sales:Q', title = 'Sales'),\n",
    "    alt.Y('Artist:N', title = 'Artist'),\n",
    "    tooltip=[alt.Tooltip('Artist:N', title='Artist:'), alt.Tooltip('Album:N', title='Album:'), alt.Tooltip('Sales:Q', title='Sales:'), alt.Tooltip('Year:N', title='Year:')],\n",
    "    color = alt.condition(dropSelect, 'Year:N', alt.value('lightgray'), scale = alt.Scale(scheme = colorgorical)),\n",
    ").transform_lookup(\n",
    "    lookup = 'Year',\n",
    "    from_ = alt.LookupData(\n",
    "        data = clusters2, key = 'id', fields = ['name']\n",
    "    )\n",
    ").add_params(dropSelect).properties(title = r\"Sales of artist's album through the years\", width=450)\n",
    "\n",
    "chq2"
   ]
  },
  {
   "cell_type": "markdown",
   "metadata": {
    "id": "oZOLdr_mJ4LK"
   },
   "source": [
    "The adjustments I am doing hear is changing the size of the mark and the opacity regarding the selected year from the dropdown. Now, the comparisons are more clear."
   ]
  },
  {
   "cell_type": "code",
   "execution_count": 24,
   "metadata": {
    "colab": {
     "base_uri": "https://localhost:8080/",
     "height": 380
    },
    "executionInfo": {
     "elapsed": 29,
     "status": "ok",
     "timestamp": 1716379807302,
     "user": {
      "displayName": "Alexandros Tremopoulos",
      "userId": "18030826848297166341"
     },
     "user_tz": -120
    },
    "id": "QLZdVL2bId5B",
    "outputId": "24f97895-d58f-44be-e330-f8b696ef9334"
   },
   "outputs": [
    {
     "data": {
      "text/html": [
       "\n",
       "<style>\n",
       "  #altair-viz-2fdd3b65a5df4851b0511b5c49a87297.vega-embed {\n",
       "    width: 100%;\n",
       "    display: flex;\n",
       "  }\n",
       "\n",
       "  #altair-viz-2fdd3b65a5df4851b0511b5c49a87297.vega-embed details,\n",
       "  #altair-viz-2fdd3b65a5df4851b0511b5c49a87297.vega-embed details summary {\n",
       "    position: relative;\n",
       "  }\n",
       "</style>\n",
       "<div id=\"altair-viz-2fdd3b65a5df4851b0511b5c49a87297\"></div>\n",
       "<script type=\"text/javascript\">\n",
       "  var VEGA_DEBUG = (typeof VEGA_DEBUG == \"undefined\") ? {} : VEGA_DEBUG;\n",
       "  (function(spec, embedOpt){\n",
       "    let outputDiv = document.currentScript.previousElementSibling;\n",
       "    if (outputDiv.id !== \"altair-viz-2fdd3b65a5df4851b0511b5c49a87297\") {\n",
       "      outputDiv = document.getElementById(\"altair-viz-2fdd3b65a5df4851b0511b5c49a87297\");\n",
       "    }\n",
       "    const paths = {\n",
       "      \"vega\": \"https://cdn.jsdelivr.net/npm/vega@5?noext\",\n",
       "      \"vega-lib\": \"https://cdn.jsdelivr.net/npm/vega-lib?noext\",\n",
       "      \"vega-lite\": \"https://cdn.jsdelivr.net/npm/vega-lite@5.17.0?noext\",\n",
       "      \"vega-embed\": \"https://cdn.jsdelivr.net/npm/vega-embed@6?noext\",\n",
       "    };\n",
       "\n",
       "    function maybeLoadScript(lib, version) {\n",
       "      var key = `${lib.replace(\"-\", \"\")}_version`;\n",
       "      return (VEGA_DEBUG[key] == version) ?\n",
       "        Promise.resolve(paths[lib]) :\n",
       "        new Promise(function(resolve, reject) {\n",
       "          var s = document.createElement('script');\n",
       "          document.getElementsByTagName(\"head\")[0].appendChild(s);\n",
       "          s.async = true;\n",
       "          s.onload = () => {\n",
       "            VEGA_DEBUG[key] = version;\n",
       "            return resolve(paths[lib]);\n",
       "          };\n",
       "          s.onerror = () => reject(`Error loading script: ${paths[lib]}`);\n",
       "          s.src = paths[lib];\n",
       "        });\n",
       "    }\n",
       "\n",
       "    function showError(err) {\n",
       "      outputDiv.innerHTML = `<div class=\"error\" style=\"color:red;\">${err}</div>`;\n",
       "      throw err;\n",
       "    }\n",
       "\n",
       "    function displayChart(vegaEmbed) {\n",
       "      vegaEmbed(outputDiv, spec, embedOpt)\n",
       "        .catch(err => showError(`Javascript Error: ${err.message}<br>This usually means there's a typo in your chart specification. See the javascript console for the full traceback.`));\n",
       "    }\n",
       "\n",
       "    if(typeof define === \"function\" && define.amd) {\n",
       "      requirejs.config({paths});\n",
       "      require([\"vega-embed\"], displayChart, err => showError(`Error loading script: ${err.message}`));\n",
       "    } else {\n",
       "      maybeLoadScript(\"vega\", \"5\")\n",
       "        .then(() => maybeLoadScript(\"vega-lite\", \"5.17.0\"))\n",
       "        .then(() => maybeLoadScript(\"vega-embed\", \"6\"))\n",
       "        .catch(showError)\n",
       "        .then(() => displayChart(vegaEmbed));\n",
       "    }\n",
       "  })({\"config\": {\"view\": {\"continuousWidth\": 300, \"continuousHeight\": 300}}, \"data\": {\"name\": \"data-db39071cae9f800ffde39ceafcbb23ef\"}, \"mark\": {\"type\": \"circle\"}, \"encoding\": {\"color\": {\"condition\": {\"param\": \"In\", \"field\": \"Year\", \"type\": \"nominal\", \"scale\": {\"scheme\": [\"rgb(105,239,123)\", \"rgb(216,21,180)\", \"rgb(172,225,183)\", \"rgb(120,40,87)\", \"rgb(37,184,234)\", \"rgb(32,80,46)\", \"rgb(250,175,227)\", \"rgb(52,70,109)\", \"rgb(192,225,92)\", \"rgb(114,68,185)\", \"rgb(99,161,34)\"]}}, \"value\": \"lightgray\"}, \"opacity\": {\"condition\": {\"param\": \"In\", \"value\": 1.0}, \"value\": 0.2}, \"size\": {\"condition\": {\"param\": \"In\", \"value\": 90}, \"value\": 30}, \"tooltip\": [{\"field\": \"Artist\", \"title\": \"Artist:\", \"type\": \"nominal\"}, {\"field\": \"Album\", \"title\": \"Album:\", \"type\": \"nominal\"}, {\"field\": \"Sales\", \"title\": \"Sales:\", \"type\": \"quantitative\"}, {\"field\": \"Year\", \"title\": \"Year:\", \"type\": \"nominal\"}], \"x\": {\"field\": \"Sales\", \"title\": \"Sales\", \"type\": \"quantitative\"}, \"y\": {\"field\": \"Artist\", \"title\": \"Artist\", \"type\": \"nominal\"}}, \"params\": [{\"name\": \"In\", \"select\": {\"type\": \"point\", \"fields\": [\"Year\"]}, \"bind\": {\"input\": \"select\", \"options\": [1995, 1998, 2000, 2001, 2005, 2006, 2007, 2008, 2009, 2010, 2011, 2012, 2013, 2014, 2015, 2016, 2017, 2018, 2019, 2020, 2021, 2022, 2023, null], \"labels\": [\"1995\", \"1998\", \"2000\", \"2001\", \"2005\", \"2006\", \"2007\", \"2008\", \"2009\", \"2010\", \"2011\", \"2012\", \"2013\", \"2014\", \"2015\", \"2016\", \"2017\", \"2018\", \"2019\", \"2020\", \"2021\", \"2022\", \"2023\", \"All\"]}}], \"title\": \"Sales of artist's album through the years\", \"transform\": [{\"lookup\": \"Year\", \"from\": {\"data\": {\"name\": \"data-cea8add160a30534732215b7d3769082\"}, \"key\": \"id\", \"fields\": [\"name\"]}}], \"width\": 450, \"$schema\": \"https://vega.github.io/schema/vega-lite/v5.17.0.json\", \"datasets\": {\"data-db39071cae9f800ffde39ceafcbb23ef\": [{\"Artist\": \"Taylor Swift\", \"Album\": \"Taylor Swift\", \"Year\": 2006, \"Songs\": 13.0, \"Sales\": 7275000}, {\"Artist\": \"Taylor Swift\", \"Album\": \"Fearless\", \"Year\": 2008, \"Songs\": 13.0, \"Sales\": 11911000}, {\"Artist\": \"Taylor Swift\", \"Album\": \"Speak Now\", \"Year\": 2010, \"Songs\": 14.0, \"Sales\": 6917500}, {\"Artist\": \"Taylor Swift\", \"Album\": \"Red\", \"Year\": 2012, \"Songs\": 16.0, \"Sales\": 8889124}, {\"Artist\": \"Taylor Swift\", \"Album\": \"1989\", \"Year\": 2014, \"Songs\": 13.0, \"Sales\": 14748116}, {\"Artist\": \"Taylor Swift\", \"Album\": \"Reputation\", \"Year\": 2017, \"Songs\": 15.0, \"Sales\": 6186524}, {\"Artist\": \"Taylor Swift\", \"Album\": \"Lover\", \"Year\": 2019, \"Songs\": 18.0, \"Sales\": 5686733}, {\"Artist\": \"Taylor Swift\", \"Album\": \"floklore (deluxe version)\", \"Year\": 2020, \"Songs\": null, \"Sales\": 4360487}, {\"Artist\": \"Taylor Swift\", \"Album\": \"midnights\", \"Year\": 2022, \"Songs\": null, \"Sales\": 3387836}, {\"Artist\": \"Taylor Swift\", \"Album\": \"Fearless (Taylor's Version)\", \"Year\": 2021, \"Songs\": 20.0, \"Sales\": 1557687}, {\"Artist\": \"Taylor Swift\", \"Album\": \"Red (Taylor's Version)\", \"Year\": 2021, \"Songs\": 30.0, \"Sales\": 1696632}, {\"Artist\": \"Taylor Swift\", \"Album\": \"1989 (Taylor's version)\", \"Year\": 2023, \"Songs\": null, \"Sales\": 14748116}, {\"Artist\": \"Taylor Swift\", \"Album\": \"evermore (deluxe version)\", \"Year\": 2021, \"Songs\": null, \"Sales\": 1998779}, {\"Artist\": \"Post Malone\", \"Album\": \"Stoney\", \"Year\": 2016, \"Songs\": 11.0, \"Sales\": 7275000}, {\"Artist\": \"Post Malone\", \"Album\": \"Beerbongs & Bentleys\", \"Year\": 2018, \"Songs\": 14.0, \"Sales\": 11911000}, {\"Artist\": \"Post Malone\", \"Album\": \"Hollywood's Bleeding\", \"Year\": 2019, \"Songs\": 17.0, \"Sales\": 6186524}, {\"Artist\": \"Post Malone\", \"Album\": \"Twelve Carat Toothache\", \"Year\": 2022, \"Songs\": null, \"Sales\": 3387836}, {\"Artist\": \"Post Malone\", \"Album\": \"Austin\", \"Year\": 2022, \"Songs\": null, \"Sales\": 1998779}, {\"Artist\": \"Ariana Grande\", \"Album\": \"Yours Truly\", \"Year\": 2013, \"Songs\": 12.0, \"Sales\": 1305000}, {\"Artist\": \"Ariana Grande\", \"Album\": \"My Everything\", \"Year\": 2014, \"Songs\": 13.0, \"Sales\": 3506212}, {\"Artist\": \"Ariana Grande\", \"Album\": \"Dangerous Woman\", \"Year\": 2016, \"Songs\": 12.0, \"Sales\": 3632374}, {\"Artist\": \"Ariana Grande\", \"Album\": \"Sweetener\", \"Year\": 2018, \"Songs\": 15.0, \"Sales\": 1994479}, {\"Artist\": \"Ariana Grande\", \"Album\": \"Thank U, Next\", \"Year\": 2019, \"Songs\": 12.0, \"Sales\": 3775436}, {\"Artist\": \"Ariana Grande\", \"Album\": \"Positions\", \"Year\": 2020, \"Songs\": null, \"Sales\": 1603367}, {\"Artist\": \"Drake\", \"Album\": \"Thank Me Later\", \"Year\": 2010, \"Songs\": 16.0, \"Sales\": 3460000}, {\"Artist\": \"Drake\", \"Album\": \"Take Care\", \"Year\": 2011, \"Songs\": 13.0, \"Sales\": 6920000}, {\"Artist\": \"Drake\", \"Album\": \"Nothing Was the Same\", \"Year\": 2013, \"Songs\": 17.0, \"Sales\": 4595000}, {\"Artist\": \"Drake\", \"Album\": \"Views\", \"Year\": 2016, \"Songs\": 20.0, \"Sales\": 7687247}, {\"Artist\": \"Drake\", \"Album\": \"Scorpion\", \"Year\": 2018, \"Songs\": 25.0, \"Sales\": 6433983}, {\"Artist\": \"Drake\", \"Album\": \"More Life \", \"Year\": 2017, \"Songs\": null, \"Sales\": 4005250}, {\"Artist\": \"Drake\", \"Album\": \"If you're reading this its too late\", \"Year\": 2015, \"Songs\": null, \"Sales\": 3480000}, {\"Artist\": \"Billie Eilish\", \"Album\": \"Happier than ever\", \"Year\": 2021, \"Songs\": null, \"Sales\": 885000}, {\"Artist\": \"Billie Eilish\", \"Album\": \"Don't smile at me\", \"Year\": 2017, \"Songs\": null, \"Sales\": 2434691}, {\"Artist\": \"Billie Eilish\", \"Album\": \"When We All Fall Asleep, Where Do We Go?\", \"Year\": 2019, \"Songs\": 14.0, \"Sales\": 7256516}, {\"Artist\": \"Lady Gaga\", \"Album\": \"The Fame\", \"Year\": 2008, \"Songs\": 11.0, \"Sales\": 14350358}, {\"Artist\": \"Lady Gaga\", \"Album\": \"The Fame Monster\", \"Year\": 2009, \"Songs\": null, \"Sales\": 8298000}, {\"Artist\": \"Lady Gaga\", \"Album\": \"Born This Way\", \"Year\": 2011, \"Songs\": 14.0, \"Sales\": 7166944}, {\"Artist\": \"Lady Gaga\", \"Album\": \"Artpop\", \"Year\": 2013, \"Songs\": 15.0, \"Sales\": 2300000}, {\"Artist\": \"Lady Gaga\", \"Album\": \"Cheek to Cheek\", \"Year\": 2014, \"Songs\": 11.0, \"Sales\": 715000}, {\"Artist\": \"Lady Gaga\", \"Album\": \"A Star is born (soundtrack)\", \"Year\": 2018, \"Songs\": null, \"Sales\": 4270810}, {\"Artist\": \"Lady Gaga\", \"Album\": \"Chromatica\", \"Year\": 2020, \"Songs\": null, \"Sales\": 1483784}, {\"Artist\": \"Lady Gaga\", \"Album\": \"Joanne\", \"Year\": 2016, \"Songs\": null, \"Sales\": 1305793}, {\"Artist\": \"Rihanna\", \"Album\": \"Good Girl Gone Bad\", \"Year\": 2007, \"Songs\": 12.0, \"Sales\": 10854803}, {\"Artist\": \"Rihanna\", \"Album\": \"Rated R\", \"Year\": 2009, \"Songs\": 12.0, \"Sales\": 3183000}, {\"Artist\": \"Rihanna\", \"Album\": \"Loud\", \"Year\": 2010, \"Songs\": 14.0, \"Sales\": 6673000}, {\"Artist\": \"Rihanna\", \"Album\": \"Talk That Talk\", \"Year\": 2011, \"Songs\": 11.0, \"Sales\": 4628000}, {\"Artist\": \"Rihanna\", \"Album\": \"Unapologetic\", \"Year\": 2012, \"Songs\": 12.0, \"Sales\": 4382500}, {\"Artist\": \"Rihanna\", \"Album\": \"Anti\", \"Year\": 2016, \"Songs\": null, \"Sales\": 6537235}, {\"Artist\": \"Rihanna\", \"Album\": \"A girl like me\", \"Year\": 2006, \"Songs\": null, \"Sales\": 3377500}, {\"Artist\": \"Rihanna\", \"Album\": \"Music of the sun\", \"Year\": 2005, \"Songs\": null, \"Sales\": 1407500}, {\"Artist\": \"The Weeknd\", \"Album\": \"House of Balloons\", \"Year\": 2011, \"Songs\": 8.0, \"Sales\": 180000}, {\"Artist\": \"The Weeknd\", \"Album\": \"Dawn FM\", \"Year\": 2022, \"Songs\": null, \"Sales\": 340000}, {\"Artist\": \"The Weeknd\", \"Album\": \"Kiss Land\", \"Year\": 2013, \"Songs\": 13.0, \"Sales\": 640000}, {\"Artist\": \"The Weeknd\", \"Album\": \"Beauty Behind the Madness\", \"Year\": 2015, \"Songs\": 14.0, \"Sales\": 7584588}, {\"Artist\": \"The Weeknd\", \"Album\": \"Starboy\", \"Year\": 2016, \"Songs\": 18.0, \"Sales\": 6070666}, {\"Artist\": \"The Weeknd\", \"Album\": \"My Dear Melancholy\", \"Year\": 2018, \"Songs\": 6.0, \"Sales\": 1201541}, {\"Artist\": \"The Weeknd\", \"Album\": \"After Hours\", \"Year\": 2020, \"Songs\": 14.0, \"Sales\": 4958942}, {\"Artist\": \"The Weeknd\", \"Album\": \"The highlights\", \"Year\": 2021, \"Songs\": null, \"Sales\": 2116000}, {\"Artist\": \"The Weeknd\", \"Album\": \"Trilogy\", \"Year\": 2012, \"Songs\": null, \"Sales\": 1360000}, {\"Artist\": \"Ed Sheeran\", \"Album\": \"+\", \"Year\": 2011, \"Songs\": 12.0, \"Sales\": 7705000}, {\"Artist\": \"Ed Sheeran\", \"Album\": \"x\", \"Year\": 2014, \"Songs\": 12.0, \"Sales\": 11879785}, {\"Artist\": \"Ed Sheeran\", \"Album\": \"\\u00f7\", \"Year\": 2017, \"Songs\": 12.0, \"Sales\": 13787460}, {\"Artist\": \"Ed Sheeran\", \"Album\": \"=\", \"Year\": 2021, \"Songs\": null, \"Sales\": 1862489}, {\"Artist\": \"Ed Sheeran\", \"Album\": \"No.6 Collaborations Project\", \"Year\": 2019, \"Songs\": 15.0, \"Sales\": 2631838}, {\"Artist\": \"Justin Bieber\", \"Album\": \"My World 2.0\", \"Year\": 2010, \"Songs\": 12.0, \"Sales\": 5235395}, {\"Artist\": \"Justin Bieber\", \"Album\": \"Believe\", \"Year\": 2012, \"Songs\": 13.0, \"Sales\": 4141507}, {\"Artist\": \"Justin Bieber\", \"Album\": \"Purpose\", \"Year\": 2015, \"Songs\": 13.0, \"Sales\": 14000000}, {\"Artist\": \"Justin Bieber\", \"Album\": \"Changes\", \"Year\": 2020, \"Songs\": 17.0, \"Sales\": 2182351}, {\"Artist\": \"Justin Bieber\", \"Album\": \"My World\", \"Year\": 2010, \"Songs\": null, \"Sales\": 3980000}, {\"Artist\": \"Justin Bieber\", \"Album\": \"Justice\", \"Year\": 2021, \"Songs\": null, \"Sales\": 3793131}, {\"Artist\": \"Justin Bieber\", \"Album\": \"Under the Mistletoe\", \"Year\": 2011, \"Songs\": null, \"Sales\": 2700725}, {\"Artist\": \"Justin Bieber\", \"Album\": \"Never say never - the remixes\", \"Year\": 2011, \"Songs\": null, \"Sales\": 1133000}, {\"Artist\": \"Justin Bieber\", \"Album\": \"Journals\", \"Year\": 2013, \"Songs\": null, \"Sales\": 1080000}, {\"Artist\": \"Shakira\", \"Album\": \"Laundry service\", \"Year\": 2001, \"Songs\": null, \"Sales\": 13000000}, {\"Artist\": \"Shakira\", \"Album\": \"Fijaci\\u00f3n oral Vol 1\", \"Year\": 2005, \"Songs\": null, \"Sales\": 3150519}, {\"Artist\": \"Shakira\", \"Album\": \"Oral Fixation vol 2\", \"Year\": 2005, \"Songs\": null, \"Sales\": 2878001}, {\"Artist\": \"Shakira\", \"Album\": \"Pies Descalzos\", \"Year\": 1995, \"Songs\": null, \"Sales\": 2695000}, {\"Artist\": \"Shakira\", \"Album\": \"Donde est\\u00e1n los ladrones\", \"Year\": 1998, \"Songs\": null, \"Sales\": 2551351}, {\"Artist\": \"Shakira\", \"Album\": \"Sale el sol / The sun comes out\", \"Year\": 2010, \"Songs\": null, \"Sales\": 2389939}, {\"Artist\": \"Shakira\", \"Album\": \"El dorado\", \"Year\": 2017, \"Songs\": null, \"Sales\": 985000}, {\"Artist\": \"Shakira\", \"Album\": \"MTV Umplugged\", \"Year\": 2000, \"Songs\": null, \"Sales\": 828663}], \"data-cea8add160a30534732215b7d3769082\": [{\"id\": 0, \"name\": 1995}, {\"id\": 1, \"name\": 1998}, {\"id\": 2, \"name\": 2000}, {\"id\": 3, \"name\": 2001}, {\"id\": 4, \"name\": 2005}, {\"id\": 6, \"name\": 2006}, {\"id\": 7, \"name\": 2007}, {\"id\": 8, \"name\": 2008}, {\"id\": 9, \"name\": 2009}, {\"id\": 10, \"name\": 2010}, {\"id\": 11, \"name\": 2011}, {\"id\": 12, \"name\": 2012}, {\"id\": 13, \"name\": 2013}, {\"id\": 14, \"name\": 2014}, {\"id\": 15, \"name\": 2015}, {\"id\": 16, \"name\": 2016}, {\"id\": 17, \"name\": 2017}, {\"id\": 18, \"name\": 2018}, {\"id\": 19, \"name\": 2019}, {\"id\": 20, \"name\": 2020}, {\"id\": 21, \"name\": 2021}, {\"id\": 22, \"name\": 2022}, {\"id\": 23, \"name\": 2023}]}}, {\"mode\": \"vega-lite\"});\n",
       "</script>"
      ],
      "text/plain": [
       "alt.Chart(...)"
      ]
     },
     "execution_count": 24,
     "metadata": {},
     "output_type": "execute_result"
    }
   ],
   "source": [
    "clusters2 = pd.DataFrame([\n",
    "    {\"id\": 0, \"name\": 1995},\n",
    "    {\"id\": 1, \"name\": 1998},\n",
    "    {\"id\": 2, \"name\": 2000},\n",
    "    {\"id\": 3, \"name\": 2001},\n",
    "    {\"id\": 4, \"name\": 2005},\n",
    "    {\"id\": 6, \"name\": 2006},\n",
    "    {\"id\": 7, \"name\": 2007},\n",
    "    {\"id\": 8, \"name\": 2008},\n",
    "    {\"id\": 9, \"name\": 2009},\n",
    "    {\"id\": 10, \"name\": 2010},\n",
    "    {\"id\": 11, \"name\": 2011},\n",
    "    {\"id\": 12, \"name\": 2012},\n",
    "    {\"id\": 13, \"name\": 2013},\n",
    "    {\"id\": 14, \"name\": 2014},\n",
    "    {\"id\": 15, \"name\": 2015},\n",
    "    {\"id\": 16, \"name\": 2016},\n",
    "    {\"id\": 17, \"name\": 2017},\n",
    "    {\"id\": 18, \"name\": 2018},\n",
    "    {\"id\": 19, \"name\": 2019},\n",
    "    {\"id\": 20, \"name\": 2020},\n",
    "    {\"id\": 21, \"name\": 2021},\n",
    "    {\"id\": 22, \"name\": 2022},\n",
    "    {\"id\": 23, \"name\": 2023},\n",
    "])\n",
    "\n",
    "dropdown_options = list(clusters2['name'])\n",
    "labels = [str(option) for option in dropdown_options]\n",
    "cluster_dropdown = alt.binding_select(\n",
    "    options=dropdown_options + [None],\n",
    "    labels=labels + ['All'])\n",
    "dropSelect = alt.selection_point(fields = ['Year'],\n",
    "                                 bind = cluster_dropdown, name = 'In')\n",
    "\n",
    "chq2 = alt.Chart(top_artists).mark_circle().encode(\n",
    "    alt.X('Sales:Q', title = 'Sales'),\n",
    "    alt.Y('Artist:N', title = 'Artist'),\n",
    "    tooltip=[alt.Tooltip('Artist:N', title='Artist:'), alt.Tooltip('Album:N', title='Album:'), alt.Tooltip('Sales:Q', title='Sales:'), alt.Tooltip('Year:N', title='Year:')],\n",
    "    color = alt.condition(dropSelect, 'Year:N', alt.value('lightgray'), scale = alt.Scale(scheme = colorgorical)),\n",
    "    size = alt.condition(dropSelect, alt.value(90), alt.value(30)),\n",
    "    opacity = alt.condition(dropSelect, alt.value(1.0), alt.value(0.2))\n",
    ").transform_lookup(\n",
    "    lookup = 'Year',\n",
    "    from_ = alt.LookupData(\n",
    "        data = clusters2, key = 'id', fields = ['name']\n",
    "    )\n",
    ").add_params(dropSelect).properties(title = r\"Sales of artist's album through the years\", width=450)\n",
    "\n",
    "chq2"
   ]
  },
  {
   "cell_type": "code",
   "execution_count": 25,
   "metadata": {
    "executionInfo": {
     "elapsed": 25,
     "status": "ok",
     "timestamp": 1716379807302,
     "user": {
      "displayName": "Alexandros Tremopoulos",
      "userId": "18030826848297166341"
     },
     "user_tz": -120
    },
    "id": "brpdb1-uKiXO"
   },
   "outputs": [],
   "source": [
    "colorgorical2= [\"rgb(114,229,239)\", \"rgb(81,56,134)\", \"rgb(137,235,123)\", \"rgb(169,10,161)\", \"rgb(28,152,32)\", \"rgb(223,114,239)\", \"rgb(27,81,29)\", \"rgb(149,187,239)\", \"rgb(38,85,130)\", \"rgb(185,207,132)\", \"rgb(70,61,246)\", \"rgb(117,140,69)\", \"rgb(180,30,81)\", \"rgb(32,245,61)\", \"rgb(117,49,49)\", \"rgb(244,212,3)\", \"rgb(17,160,170)\", \"rgb(245,118,133)\", \"rgb(248,186,124)\", \"rgb(79,70,47)\", \"rgb(253,89,37)\", \"rgb(125,118,228)\", \"rgb(228,181,255)\", \"rgb(174,120,62)\"]"
   ]
  },
  {
   "cell_type": "markdown",
   "metadata": {
    "id": "Hh-MXKlpKIww"
   },
   "source": [
    "Your feedback from the first project made me realize one msitake I had. I am using the same color palette for different data. Thus I will create a new one and use this."
   ]
  },
  {
   "cell_type": "code",
   "execution_count": 26,
   "metadata": {
    "colab": {
     "base_uri": "https://localhost:8080/",
     "height": 380
    },
    "executionInfo": {
     "elapsed": 24,
     "status": "ok",
     "timestamp": 1716379807302,
     "user": {
      "displayName": "Alexandros Tremopoulos",
      "userId": "18030826848297166341"
     },
     "user_tz": -120
    },
    "id": "DvT1u3yXKelO",
    "outputId": "7cb4f822-4c31-41da-b24a-49a33703bf95"
   },
   "outputs": [
    {
     "data": {
      "text/html": [
       "\n",
       "<style>\n",
       "  #altair-viz-7e1e97dddee347e0a42af8d869fadfb1.vega-embed {\n",
       "    width: 100%;\n",
       "    display: flex;\n",
       "  }\n",
       "\n",
       "  #altair-viz-7e1e97dddee347e0a42af8d869fadfb1.vega-embed details,\n",
       "  #altair-viz-7e1e97dddee347e0a42af8d869fadfb1.vega-embed details summary {\n",
       "    position: relative;\n",
       "  }\n",
       "</style>\n",
       "<div id=\"altair-viz-7e1e97dddee347e0a42af8d869fadfb1\"></div>\n",
       "<script type=\"text/javascript\">\n",
       "  var VEGA_DEBUG = (typeof VEGA_DEBUG == \"undefined\") ? {} : VEGA_DEBUG;\n",
       "  (function(spec, embedOpt){\n",
       "    let outputDiv = document.currentScript.previousElementSibling;\n",
       "    if (outputDiv.id !== \"altair-viz-7e1e97dddee347e0a42af8d869fadfb1\") {\n",
       "      outputDiv = document.getElementById(\"altair-viz-7e1e97dddee347e0a42af8d869fadfb1\");\n",
       "    }\n",
       "    const paths = {\n",
       "      \"vega\": \"https://cdn.jsdelivr.net/npm/vega@5?noext\",\n",
       "      \"vega-lib\": \"https://cdn.jsdelivr.net/npm/vega-lib?noext\",\n",
       "      \"vega-lite\": \"https://cdn.jsdelivr.net/npm/vega-lite@5.17.0?noext\",\n",
       "      \"vega-embed\": \"https://cdn.jsdelivr.net/npm/vega-embed@6?noext\",\n",
       "    };\n",
       "\n",
       "    function maybeLoadScript(lib, version) {\n",
       "      var key = `${lib.replace(\"-\", \"\")}_version`;\n",
       "      return (VEGA_DEBUG[key] == version) ?\n",
       "        Promise.resolve(paths[lib]) :\n",
       "        new Promise(function(resolve, reject) {\n",
       "          var s = document.createElement('script');\n",
       "          document.getElementsByTagName(\"head\")[0].appendChild(s);\n",
       "          s.async = true;\n",
       "          s.onload = () => {\n",
       "            VEGA_DEBUG[key] = version;\n",
       "            return resolve(paths[lib]);\n",
       "          };\n",
       "          s.onerror = () => reject(`Error loading script: ${paths[lib]}`);\n",
       "          s.src = paths[lib];\n",
       "        });\n",
       "    }\n",
       "\n",
       "    function showError(err) {\n",
       "      outputDiv.innerHTML = `<div class=\"error\" style=\"color:red;\">${err}</div>`;\n",
       "      throw err;\n",
       "    }\n",
       "\n",
       "    function displayChart(vegaEmbed) {\n",
       "      vegaEmbed(outputDiv, spec, embedOpt)\n",
       "        .catch(err => showError(`Javascript Error: ${err.message}<br>This usually means there's a typo in your chart specification. See the javascript console for the full traceback.`));\n",
       "    }\n",
       "\n",
       "    if(typeof define === \"function\" && define.amd) {\n",
       "      requirejs.config({paths});\n",
       "      require([\"vega-embed\"], displayChart, err => showError(`Error loading script: ${err.message}`));\n",
       "    } else {\n",
       "      maybeLoadScript(\"vega\", \"5\")\n",
       "        .then(() => maybeLoadScript(\"vega-lite\", \"5.17.0\"))\n",
       "        .then(() => maybeLoadScript(\"vega-embed\", \"6\"))\n",
       "        .catch(showError)\n",
       "        .then(() => displayChart(vegaEmbed));\n",
       "    }\n",
       "  })({\"config\": {\"view\": {\"continuousWidth\": 300, \"continuousHeight\": 300}}, \"data\": {\"name\": \"data-db39071cae9f800ffde39ceafcbb23ef\"}, \"mark\": {\"type\": \"circle\"}, \"encoding\": {\"color\": {\"condition\": {\"param\": \"In\", \"field\": \"Year\", \"type\": \"nominal\", \"scale\": {\"scheme\": [\"rgb(114,229,239)\", \"rgb(81,56,134)\", \"rgb(137,235,123)\", \"rgb(169,10,161)\", \"rgb(28,152,32)\", \"rgb(223,114,239)\", \"rgb(27,81,29)\", \"rgb(149,187,239)\", \"rgb(38,85,130)\", \"rgb(185,207,132)\", \"rgb(70,61,246)\", \"rgb(117,140,69)\", \"rgb(180,30,81)\", \"rgb(32,245,61)\", \"rgb(117,49,49)\", \"rgb(244,212,3)\", \"rgb(17,160,170)\", \"rgb(245,118,133)\", \"rgb(248,186,124)\", \"rgb(79,70,47)\", \"rgb(253,89,37)\", \"rgb(125,118,228)\", \"rgb(228,181,255)\", \"rgb(174,120,62)\"]}}, \"value\": \"lightgray\"}, \"opacity\": {\"condition\": {\"param\": \"In\", \"value\": 1.0}, \"value\": 0.2}, \"size\": {\"condition\": {\"param\": \"In\", \"value\": 90}, \"value\": 30}, \"tooltip\": [{\"field\": \"Artist\", \"title\": \"Artist:\", \"type\": \"nominal\"}, {\"field\": \"Album\", \"title\": \"Album:\", \"type\": \"nominal\"}, {\"field\": \"Sales\", \"title\": \"Sales:\", \"type\": \"quantitative\"}, {\"field\": \"Year\", \"title\": \"Year:\", \"type\": \"nominal\"}], \"x\": {\"field\": \"Sales\", \"title\": \"Sales\", \"type\": \"quantitative\"}, \"y\": {\"field\": \"Artist\", \"title\": \"Artist\", \"type\": \"nominal\"}}, \"params\": [{\"name\": \"In\", \"select\": {\"type\": \"point\", \"fields\": [\"Year\"]}, \"bind\": {\"input\": \"select\", \"options\": [1995, 1998, 2000, 2001, 2005, 2006, 2007, 2008, 2009, 2010, 2011, 2012, 2013, 2014, 2015, 2016, 2017, 2018, 2019, 2020, 2021, 2022, 2023, null], \"labels\": [\"1995\", \"1998\", \"2000\", \"2001\", \"2005\", \"2006\", \"2007\", \"2008\", \"2009\", \"2010\", \"2011\", \"2012\", \"2013\", \"2014\", \"2015\", \"2016\", \"2017\", \"2018\", \"2019\", \"2020\", \"2021\", \"2022\", \"2023\", \"All\"]}}], \"title\": \"Sales of artist's album through the years\", \"transform\": [{\"lookup\": \"Year\", \"from\": {\"data\": {\"name\": \"data-cea8add160a30534732215b7d3769082\"}, \"key\": \"id\", \"fields\": [\"name\"]}}], \"width\": 450, \"$schema\": \"https://vega.github.io/schema/vega-lite/v5.17.0.json\", \"datasets\": {\"data-db39071cae9f800ffde39ceafcbb23ef\": [{\"Artist\": \"Taylor Swift\", \"Album\": \"Taylor Swift\", \"Year\": 2006, \"Songs\": 13.0, \"Sales\": 7275000}, {\"Artist\": \"Taylor Swift\", \"Album\": \"Fearless\", \"Year\": 2008, \"Songs\": 13.0, \"Sales\": 11911000}, {\"Artist\": \"Taylor Swift\", \"Album\": \"Speak Now\", \"Year\": 2010, \"Songs\": 14.0, \"Sales\": 6917500}, {\"Artist\": \"Taylor Swift\", \"Album\": \"Red\", \"Year\": 2012, \"Songs\": 16.0, \"Sales\": 8889124}, {\"Artist\": \"Taylor Swift\", \"Album\": \"1989\", \"Year\": 2014, \"Songs\": 13.0, \"Sales\": 14748116}, {\"Artist\": \"Taylor Swift\", \"Album\": \"Reputation\", \"Year\": 2017, \"Songs\": 15.0, \"Sales\": 6186524}, {\"Artist\": \"Taylor Swift\", \"Album\": \"Lover\", \"Year\": 2019, \"Songs\": 18.0, \"Sales\": 5686733}, {\"Artist\": \"Taylor Swift\", \"Album\": \"floklore (deluxe version)\", \"Year\": 2020, \"Songs\": null, \"Sales\": 4360487}, {\"Artist\": \"Taylor Swift\", \"Album\": \"midnights\", \"Year\": 2022, \"Songs\": null, \"Sales\": 3387836}, {\"Artist\": \"Taylor Swift\", \"Album\": \"Fearless (Taylor's Version)\", \"Year\": 2021, \"Songs\": 20.0, \"Sales\": 1557687}, {\"Artist\": \"Taylor Swift\", \"Album\": \"Red (Taylor's Version)\", \"Year\": 2021, \"Songs\": 30.0, \"Sales\": 1696632}, {\"Artist\": \"Taylor Swift\", \"Album\": \"1989 (Taylor's version)\", \"Year\": 2023, \"Songs\": null, \"Sales\": 14748116}, {\"Artist\": \"Taylor Swift\", \"Album\": \"evermore (deluxe version)\", \"Year\": 2021, \"Songs\": null, \"Sales\": 1998779}, {\"Artist\": \"Post Malone\", \"Album\": \"Stoney\", \"Year\": 2016, \"Songs\": 11.0, \"Sales\": 7275000}, {\"Artist\": \"Post Malone\", \"Album\": \"Beerbongs & Bentleys\", \"Year\": 2018, \"Songs\": 14.0, \"Sales\": 11911000}, {\"Artist\": \"Post Malone\", \"Album\": \"Hollywood's Bleeding\", \"Year\": 2019, \"Songs\": 17.0, \"Sales\": 6186524}, {\"Artist\": \"Post Malone\", \"Album\": \"Twelve Carat Toothache\", \"Year\": 2022, \"Songs\": null, \"Sales\": 3387836}, {\"Artist\": \"Post Malone\", \"Album\": \"Austin\", \"Year\": 2022, \"Songs\": null, \"Sales\": 1998779}, {\"Artist\": \"Ariana Grande\", \"Album\": \"Yours Truly\", \"Year\": 2013, \"Songs\": 12.0, \"Sales\": 1305000}, {\"Artist\": \"Ariana Grande\", \"Album\": \"My Everything\", \"Year\": 2014, \"Songs\": 13.0, \"Sales\": 3506212}, {\"Artist\": \"Ariana Grande\", \"Album\": \"Dangerous Woman\", \"Year\": 2016, \"Songs\": 12.0, \"Sales\": 3632374}, {\"Artist\": \"Ariana Grande\", \"Album\": \"Sweetener\", \"Year\": 2018, \"Songs\": 15.0, \"Sales\": 1994479}, {\"Artist\": \"Ariana Grande\", \"Album\": \"Thank U, Next\", \"Year\": 2019, \"Songs\": 12.0, \"Sales\": 3775436}, {\"Artist\": \"Ariana Grande\", \"Album\": \"Positions\", \"Year\": 2020, \"Songs\": null, \"Sales\": 1603367}, {\"Artist\": \"Drake\", \"Album\": \"Thank Me Later\", \"Year\": 2010, \"Songs\": 16.0, \"Sales\": 3460000}, {\"Artist\": \"Drake\", \"Album\": \"Take Care\", \"Year\": 2011, \"Songs\": 13.0, \"Sales\": 6920000}, {\"Artist\": \"Drake\", \"Album\": \"Nothing Was the Same\", \"Year\": 2013, \"Songs\": 17.0, \"Sales\": 4595000}, {\"Artist\": \"Drake\", \"Album\": \"Views\", \"Year\": 2016, \"Songs\": 20.0, \"Sales\": 7687247}, {\"Artist\": \"Drake\", \"Album\": \"Scorpion\", \"Year\": 2018, \"Songs\": 25.0, \"Sales\": 6433983}, {\"Artist\": \"Drake\", \"Album\": \"More Life \", \"Year\": 2017, \"Songs\": null, \"Sales\": 4005250}, {\"Artist\": \"Drake\", \"Album\": \"If you're reading this its too late\", \"Year\": 2015, \"Songs\": null, \"Sales\": 3480000}, {\"Artist\": \"Billie Eilish\", \"Album\": \"Happier than ever\", \"Year\": 2021, \"Songs\": null, \"Sales\": 885000}, {\"Artist\": \"Billie Eilish\", \"Album\": \"Don't smile at me\", \"Year\": 2017, \"Songs\": null, \"Sales\": 2434691}, {\"Artist\": \"Billie Eilish\", \"Album\": \"When We All Fall Asleep, Where Do We Go?\", \"Year\": 2019, \"Songs\": 14.0, \"Sales\": 7256516}, {\"Artist\": \"Lady Gaga\", \"Album\": \"The Fame\", \"Year\": 2008, \"Songs\": 11.0, \"Sales\": 14350358}, {\"Artist\": \"Lady Gaga\", \"Album\": \"The Fame Monster\", \"Year\": 2009, \"Songs\": null, \"Sales\": 8298000}, {\"Artist\": \"Lady Gaga\", \"Album\": \"Born This Way\", \"Year\": 2011, \"Songs\": 14.0, \"Sales\": 7166944}, {\"Artist\": \"Lady Gaga\", \"Album\": \"Artpop\", \"Year\": 2013, \"Songs\": 15.0, \"Sales\": 2300000}, {\"Artist\": \"Lady Gaga\", \"Album\": \"Cheek to Cheek\", \"Year\": 2014, \"Songs\": 11.0, \"Sales\": 715000}, {\"Artist\": \"Lady Gaga\", \"Album\": \"A Star is born (soundtrack)\", \"Year\": 2018, \"Songs\": null, \"Sales\": 4270810}, {\"Artist\": \"Lady Gaga\", \"Album\": \"Chromatica\", \"Year\": 2020, \"Songs\": null, \"Sales\": 1483784}, {\"Artist\": \"Lady Gaga\", \"Album\": \"Joanne\", \"Year\": 2016, \"Songs\": null, \"Sales\": 1305793}, {\"Artist\": \"Rihanna\", \"Album\": \"Good Girl Gone Bad\", \"Year\": 2007, \"Songs\": 12.0, \"Sales\": 10854803}, {\"Artist\": \"Rihanna\", \"Album\": \"Rated R\", \"Year\": 2009, \"Songs\": 12.0, \"Sales\": 3183000}, {\"Artist\": \"Rihanna\", \"Album\": \"Loud\", \"Year\": 2010, \"Songs\": 14.0, \"Sales\": 6673000}, {\"Artist\": \"Rihanna\", \"Album\": \"Talk That Talk\", \"Year\": 2011, \"Songs\": 11.0, \"Sales\": 4628000}, {\"Artist\": \"Rihanna\", \"Album\": \"Unapologetic\", \"Year\": 2012, \"Songs\": 12.0, \"Sales\": 4382500}, {\"Artist\": \"Rihanna\", \"Album\": \"Anti\", \"Year\": 2016, \"Songs\": null, \"Sales\": 6537235}, {\"Artist\": \"Rihanna\", \"Album\": \"A girl like me\", \"Year\": 2006, \"Songs\": null, \"Sales\": 3377500}, {\"Artist\": \"Rihanna\", \"Album\": \"Music of the sun\", \"Year\": 2005, \"Songs\": null, \"Sales\": 1407500}, {\"Artist\": \"The Weeknd\", \"Album\": \"House of Balloons\", \"Year\": 2011, \"Songs\": 8.0, \"Sales\": 180000}, {\"Artist\": \"The Weeknd\", \"Album\": \"Dawn FM\", \"Year\": 2022, \"Songs\": null, \"Sales\": 340000}, {\"Artist\": \"The Weeknd\", \"Album\": \"Kiss Land\", \"Year\": 2013, \"Songs\": 13.0, \"Sales\": 640000}, {\"Artist\": \"The Weeknd\", \"Album\": \"Beauty Behind the Madness\", \"Year\": 2015, \"Songs\": 14.0, \"Sales\": 7584588}, {\"Artist\": \"The Weeknd\", \"Album\": \"Starboy\", \"Year\": 2016, \"Songs\": 18.0, \"Sales\": 6070666}, {\"Artist\": \"The Weeknd\", \"Album\": \"My Dear Melancholy\", \"Year\": 2018, \"Songs\": 6.0, \"Sales\": 1201541}, {\"Artist\": \"The Weeknd\", \"Album\": \"After Hours\", \"Year\": 2020, \"Songs\": 14.0, \"Sales\": 4958942}, {\"Artist\": \"The Weeknd\", \"Album\": \"The highlights\", \"Year\": 2021, \"Songs\": null, \"Sales\": 2116000}, {\"Artist\": \"The Weeknd\", \"Album\": \"Trilogy\", \"Year\": 2012, \"Songs\": null, \"Sales\": 1360000}, {\"Artist\": \"Ed Sheeran\", \"Album\": \"+\", \"Year\": 2011, \"Songs\": 12.0, \"Sales\": 7705000}, {\"Artist\": \"Ed Sheeran\", \"Album\": \"x\", \"Year\": 2014, \"Songs\": 12.0, \"Sales\": 11879785}, {\"Artist\": \"Ed Sheeran\", \"Album\": \"\\u00f7\", \"Year\": 2017, \"Songs\": 12.0, \"Sales\": 13787460}, {\"Artist\": \"Ed Sheeran\", \"Album\": \"=\", \"Year\": 2021, \"Songs\": null, \"Sales\": 1862489}, {\"Artist\": \"Ed Sheeran\", \"Album\": \"No.6 Collaborations Project\", \"Year\": 2019, \"Songs\": 15.0, \"Sales\": 2631838}, {\"Artist\": \"Justin Bieber\", \"Album\": \"My World 2.0\", \"Year\": 2010, \"Songs\": 12.0, \"Sales\": 5235395}, {\"Artist\": \"Justin Bieber\", \"Album\": \"Believe\", \"Year\": 2012, \"Songs\": 13.0, \"Sales\": 4141507}, {\"Artist\": \"Justin Bieber\", \"Album\": \"Purpose\", \"Year\": 2015, \"Songs\": 13.0, \"Sales\": 14000000}, {\"Artist\": \"Justin Bieber\", \"Album\": \"Changes\", \"Year\": 2020, \"Songs\": 17.0, \"Sales\": 2182351}, {\"Artist\": \"Justin Bieber\", \"Album\": \"My World\", \"Year\": 2010, \"Songs\": null, \"Sales\": 3980000}, {\"Artist\": \"Justin Bieber\", \"Album\": \"Justice\", \"Year\": 2021, \"Songs\": null, \"Sales\": 3793131}, {\"Artist\": \"Justin Bieber\", \"Album\": \"Under the Mistletoe\", \"Year\": 2011, \"Songs\": null, \"Sales\": 2700725}, {\"Artist\": \"Justin Bieber\", \"Album\": \"Never say never - the remixes\", \"Year\": 2011, \"Songs\": null, \"Sales\": 1133000}, {\"Artist\": \"Justin Bieber\", \"Album\": \"Journals\", \"Year\": 2013, \"Songs\": null, \"Sales\": 1080000}, {\"Artist\": \"Shakira\", \"Album\": \"Laundry service\", \"Year\": 2001, \"Songs\": null, \"Sales\": 13000000}, {\"Artist\": \"Shakira\", \"Album\": \"Fijaci\\u00f3n oral Vol 1\", \"Year\": 2005, \"Songs\": null, \"Sales\": 3150519}, {\"Artist\": \"Shakira\", \"Album\": \"Oral Fixation vol 2\", \"Year\": 2005, \"Songs\": null, \"Sales\": 2878001}, {\"Artist\": \"Shakira\", \"Album\": \"Pies Descalzos\", \"Year\": 1995, \"Songs\": null, \"Sales\": 2695000}, {\"Artist\": \"Shakira\", \"Album\": \"Donde est\\u00e1n los ladrones\", \"Year\": 1998, \"Songs\": null, \"Sales\": 2551351}, {\"Artist\": \"Shakira\", \"Album\": \"Sale el sol / The sun comes out\", \"Year\": 2010, \"Songs\": null, \"Sales\": 2389939}, {\"Artist\": \"Shakira\", \"Album\": \"El dorado\", \"Year\": 2017, \"Songs\": null, \"Sales\": 985000}, {\"Artist\": \"Shakira\", \"Album\": \"MTV Umplugged\", \"Year\": 2000, \"Songs\": null, \"Sales\": 828663}], \"data-cea8add160a30534732215b7d3769082\": [{\"id\": 0, \"name\": 1995}, {\"id\": 1, \"name\": 1998}, {\"id\": 2, \"name\": 2000}, {\"id\": 3, \"name\": 2001}, {\"id\": 4, \"name\": 2005}, {\"id\": 6, \"name\": 2006}, {\"id\": 7, \"name\": 2007}, {\"id\": 8, \"name\": 2008}, {\"id\": 9, \"name\": 2009}, {\"id\": 10, \"name\": 2010}, {\"id\": 11, \"name\": 2011}, {\"id\": 12, \"name\": 2012}, {\"id\": 13, \"name\": 2013}, {\"id\": 14, \"name\": 2014}, {\"id\": 15, \"name\": 2015}, {\"id\": 16, \"name\": 2016}, {\"id\": 17, \"name\": 2017}, {\"id\": 18, \"name\": 2018}, {\"id\": 19, \"name\": 2019}, {\"id\": 20, \"name\": 2020}, {\"id\": 21, \"name\": 2021}, {\"id\": 22, \"name\": 2022}, {\"id\": 23, \"name\": 2023}]}}, {\"mode\": \"vega-lite\"});\n",
       "</script>"
      ],
      "text/plain": [
       "alt.Chart(...)"
      ]
     },
     "execution_count": 26,
     "metadata": {},
     "output_type": "execute_result"
    }
   ],
   "source": [
    "chq2 = alt.Chart(top_artists).mark_circle().encode(\n",
    "    alt.X('Sales:Q', title = 'Sales'),\n",
    "    alt.Y('Artist:N', title = 'Artist'),\n",
    "    tooltip=[alt.Tooltip('Artist:N', title='Artist:'), alt.Tooltip('Album:N', title='Album:'), alt.Tooltip('Sales:Q', title='Sales:'), alt.Tooltip('Year:N', title='Year:')],\n",
    "    color = alt.condition(dropSelect, 'Year:N', alt.value('lightgray'), scale = alt.Scale(scheme = colorgorical2)),\n",
    "    size = alt.condition(dropSelect, alt.value(90), alt.value(30)),\n",
    "    opacity = alt.condition(dropSelect, alt.value(1.0), alt.value(0.2))\n",
    ").transform_lookup(\n",
    "    lookup = 'Year',\n",
    "    from_ = alt.LookupData(\n",
    "        data = clusters2, key = 'id', fields = ['name']\n",
    "    )\n",
    ").add_params(dropSelect).properties(title = r\"Sales of artist's album through the years\", width=450)\n",
    "\n",
    "chq2"
   ]
  },
  {
   "cell_type": "markdown",
   "metadata": {
    "id": "QXRTn5ELLwdF"
   },
   "source": [
    "**Answer to Q2**: To compare the successfulness of artists in an concrete year, I create a interactive scatterplot, having Artists in 'y-axis' and Sales in 'x-axis' with a dropdown selection for each available year. Each year has its color and I also allow the 'All' selection to compare among all years. When a year is selected the opacity and the size of the rest years is decreased a lot, barely seen. The color palette contains 24 colors created from colorgorical by maximizing perceptual distance and pair preference."
   ]
  },
  {
   "cell_type": "markdown",
   "metadata": {
    "id": "_TvdLIMu0TfB"
   },
   "source": [
    "## Q3: How does the artists’ careers compare from their first album release?"
   ]
  },
  {
   "cell_type": "markdown",
   "metadata": {
    "id": "GlTvci2ow4jI"
   },
   "source": [
    "This question feels like it can be answered with different charts. I tried to think of some important charts, like comparing the mean sales of the artists and the number of albums they have released."
   ]
  },
  {
   "cell_type": "markdown",
   "metadata": {
    "id": "Cy5CWWHOCd7W"
   },
   "source": [
    "**Initially** I thought of a scatter plot and a bar chart. The baselines are in the next two charts. However I tried to think of an interaction"
   ]
  },
  {
   "cell_type": "code",
   "execution_count": 27,
   "metadata": {
    "colab": {
     "base_uri": "https://localhost:8080/",
     "height": 301
    },
    "executionInfo": {
     "elapsed": 22,
     "status": "ok",
     "timestamp": 1716379807302,
     "user": {
      "displayName": "Alexandros Tremopoulos",
      "userId": "18030826848297166341"
     },
     "user_tz": -120
    },
    "id": "7cGBu7sfAyzK",
    "outputId": "ba0e812d-6584-4667-ac3e-a072b575f78d"
   },
   "outputs": [
    {
     "data": {
      "text/html": [
       "\n",
       "<style>\n",
       "  #altair-viz-b28ee9add43c4e1fa0e435b5006e30f7.vega-embed {\n",
       "    width: 100%;\n",
       "    display: flex;\n",
       "  }\n",
       "\n",
       "  #altair-viz-b28ee9add43c4e1fa0e435b5006e30f7.vega-embed details,\n",
       "  #altair-viz-b28ee9add43c4e1fa0e435b5006e30f7.vega-embed details summary {\n",
       "    position: relative;\n",
       "  }\n",
       "</style>\n",
       "<div id=\"altair-viz-b28ee9add43c4e1fa0e435b5006e30f7\"></div>\n",
       "<script type=\"text/javascript\">\n",
       "  var VEGA_DEBUG = (typeof VEGA_DEBUG == \"undefined\") ? {} : VEGA_DEBUG;\n",
       "  (function(spec, embedOpt){\n",
       "    let outputDiv = document.currentScript.previousElementSibling;\n",
       "    if (outputDiv.id !== \"altair-viz-b28ee9add43c4e1fa0e435b5006e30f7\") {\n",
       "      outputDiv = document.getElementById(\"altair-viz-b28ee9add43c4e1fa0e435b5006e30f7\");\n",
       "    }\n",
       "    const paths = {\n",
       "      \"vega\": \"https://cdn.jsdelivr.net/npm/vega@5?noext\",\n",
       "      \"vega-lib\": \"https://cdn.jsdelivr.net/npm/vega-lib?noext\",\n",
       "      \"vega-lite\": \"https://cdn.jsdelivr.net/npm/vega-lite@5.17.0?noext\",\n",
       "      \"vega-embed\": \"https://cdn.jsdelivr.net/npm/vega-embed@6?noext\",\n",
       "    };\n",
       "\n",
       "    function maybeLoadScript(lib, version) {\n",
       "      var key = `${lib.replace(\"-\", \"\")}_version`;\n",
       "      return (VEGA_DEBUG[key] == version) ?\n",
       "        Promise.resolve(paths[lib]) :\n",
       "        new Promise(function(resolve, reject) {\n",
       "          var s = document.createElement('script');\n",
       "          document.getElementsByTagName(\"head\")[0].appendChild(s);\n",
       "          s.async = true;\n",
       "          s.onload = () => {\n",
       "            VEGA_DEBUG[key] = version;\n",
       "            return resolve(paths[lib]);\n",
       "          };\n",
       "          s.onerror = () => reject(`Error loading script: ${paths[lib]}`);\n",
       "          s.src = paths[lib];\n",
       "        });\n",
       "    }\n",
       "\n",
       "    function showError(err) {\n",
       "      outputDiv.innerHTML = `<div class=\"error\" style=\"color:red;\">${err}</div>`;\n",
       "      throw err;\n",
       "    }\n",
       "\n",
       "    function displayChart(vegaEmbed) {\n",
       "      vegaEmbed(outputDiv, spec, embedOpt)\n",
       "        .catch(err => showError(`Javascript Error: ${err.message}<br>This usually means there's a typo in your chart specification. See the javascript console for the full traceback.`));\n",
       "    }\n",
       "\n",
       "    if(typeof define === \"function\" && define.amd) {\n",
       "      requirejs.config({paths});\n",
       "      require([\"vega-embed\"], displayChart, err => showError(`Error loading script: ${err.message}`));\n",
       "    } else {\n",
       "      maybeLoadScript(\"vega\", \"5\")\n",
       "        .then(() => maybeLoadScript(\"vega-lite\", \"5.17.0\"))\n",
       "        .then(() => maybeLoadScript(\"vega-embed\", \"6\"))\n",
       "        .catch(showError)\n",
       "        .then(() => displayChart(vegaEmbed));\n",
       "    }\n",
       "  })({\"config\": {\"view\": {\"continuousWidth\": 300, \"continuousHeight\": 300}}, \"data\": {\"name\": \"data-db39071cae9f800ffde39ceafcbb23ef\"}, \"mark\": {\"type\": \"circle\"}, \"encoding\": {\"color\": {\"field\": \"Artist\", \"type\": \"nominal\"}, \"tooltip\": [{\"aggregate\": \"count\", \"field\": \"Artist\", \"title\": \"Number of Albums:\", \"type\": \"quantitative\"}, {\"aggregate\": \"mean\", \"field\": \"Sales\", \"title\": \"Mean of Sales:\", \"type\": \"quantitative\"}], \"x\": {\"aggregate\": \"mean\", \"field\": \"Sales\", \"title\": \"Sales\", \"type\": \"quantitative\"}, \"y\": {\"field\": \"Artist\", \"title\": \"Artist\", \"type\": \"nominal\"}}, \"title\": \"Mean of sales among all albums per artist\", \"width\": 400, \"$schema\": \"https://vega.github.io/schema/vega-lite/v5.17.0.json\", \"datasets\": {\"data-db39071cae9f800ffde39ceafcbb23ef\": [{\"Artist\": \"Taylor Swift\", \"Album\": \"Taylor Swift\", \"Year\": 2006, \"Songs\": 13.0, \"Sales\": 7275000}, {\"Artist\": \"Taylor Swift\", \"Album\": \"Fearless\", \"Year\": 2008, \"Songs\": 13.0, \"Sales\": 11911000}, {\"Artist\": \"Taylor Swift\", \"Album\": \"Speak Now\", \"Year\": 2010, \"Songs\": 14.0, \"Sales\": 6917500}, {\"Artist\": \"Taylor Swift\", \"Album\": \"Red\", \"Year\": 2012, \"Songs\": 16.0, \"Sales\": 8889124}, {\"Artist\": \"Taylor Swift\", \"Album\": \"1989\", \"Year\": 2014, \"Songs\": 13.0, \"Sales\": 14748116}, {\"Artist\": \"Taylor Swift\", \"Album\": \"Reputation\", \"Year\": 2017, \"Songs\": 15.0, \"Sales\": 6186524}, {\"Artist\": \"Taylor Swift\", \"Album\": \"Lover\", \"Year\": 2019, \"Songs\": 18.0, \"Sales\": 5686733}, {\"Artist\": \"Taylor Swift\", \"Album\": \"floklore (deluxe version)\", \"Year\": 2020, \"Songs\": null, \"Sales\": 4360487}, {\"Artist\": \"Taylor Swift\", \"Album\": \"midnights\", \"Year\": 2022, \"Songs\": null, \"Sales\": 3387836}, {\"Artist\": \"Taylor Swift\", \"Album\": \"Fearless (Taylor's Version)\", \"Year\": 2021, \"Songs\": 20.0, \"Sales\": 1557687}, {\"Artist\": \"Taylor Swift\", \"Album\": \"Red (Taylor's Version)\", \"Year\": 2021, \"Songs\": 30.0, \"Sales\": 1696632}, {\"Artist\": \"Taylor Swift\", \"Album\": \"1989 (Taylor's version)\", \"Year\": 2023, \"Songs\": null, \"Sales\": 14748116}, {\"Artist\": \"Taylor Swift\", \"Album\": \"evermore (deluxe version)\", \"Year\": 2021, \"Songs\": null, \"Sales\": 1998779}, {\"Artist\": \"Post Malone\", \"Album\": \"Stoney\", \"Year\": 2016, \"Songs\": 11.0, \"Sales\": 7275000}, {\"Artist\": \"Post Malone\", \"Album\": \"Beerbongs & Bentleys\", \"Year\": 2018, \"Songs\": 14.0, \"Sales\": 11911000}, {\"Artist\": \"Post Malone\", \"Album\": \"Hollywood's Bleeding\", \"Year\": 2019, \"Songs\": 17.0, \"Sales\": 6186524}, {\"Artist\": \"Post Malone\", \"Album\": \"Twelve Carat Toothache\", \"Year\": 2022, \"Songs\": null, \"Sales\": 3387836}, {\"Artist\": \"Post Malone\", \"Album\": \"Austin\", \"Year\": 2022, \"Songs\": null, \"Sales\": 1998779}, {\"Artist\": \"Ariana Grande\", \"Album\": \"Yours Truly\", \"Year\": 2013, \"Songs\": 12.0, \"Sales\": 1305000}, {\"Artist\": \"Ariana Grande\", \"Album\": \"My Everything\", \"Year\": 2014, \"Songs\": 13.0, \"Sales\": 3506212}, {\"Artist\": \"Ariana Grande\", \"Album\": \"Dangerous Woman\", \"Year\": 2016, \"Songs\": 12.0, \"Sales\": 3632374}, {\"Artist\": \"Ariana Grande\", \"Album\": \"Sweetener\", \"Year\": 2018, \"Songs\": 15.0, \"Sales\": 1994479}, {\"Artist\": \"Ariana Grande\", \"Album\": \"Thank U, Next\", \"Year\": 2019, \"Songs\": 12.0, \"Sales\": 3775436}, {\"Artist\": \"Ariana Grande\", \"Album\": \"Positions\", \"Year\": 2020, \"Songs\": null, \"Sales\": 1603367}, {\"Artist\": \"Drake\", \"Album\": \"Thank Me Later\", \"Year\": 2010, \"Songs\": 16.0, \"Sales\": 3460000}, {\"Artist\": \"Drake\", \"Album\": \"Take Care\", \"Year\": 2011, \"Songs\": 13.0, \"Sales\": 6920000}, {\"Artist\": \"Drake\", \"Album\": \"Nothing Was the Same\", \"Year\": 2013, \"Songs\": 17.0, \"Sales\": 4595000}, {\"Artist\": \"Drake\", \"Album\": \"Views\", \"Year\": 2016, \"Songs\": 20.0, \"Sales\": 7687247}, {\"Artist\": \"Drake\", \"Album\": \"Scorpion\", \"Year\": 2018, \"Songs\": 25.0, \"Sales\": 6433983}, {\"Artist\": \"Drake\", \"Album\": \"More Life \", \"Year\": 2017, \"Songs\": null, \"Sales\": 4005250}, {\"Artist\": \"Drake\", \"Album\": \"If you're reading this its too late\", \"Year\": 2015, \"Songs\": null, \"Sales\": 3480000}, {\"Artist\": \"Billie Eilish\", \"Album\": \"Happier than ever\", \"Year\": 2021, \"Songs\": null, \"Sales\": 885000}, {\"Artist\": \"Billie Eilish\", \"Album\": \"Don't smile at me\", \"Year\": 2017, \"Songs\": null, \"Sales\": 2434691}, {\"Artist\": \"Billie Eilish\", \"Album\": \"When We All Fall Asleep, Where Do We Go?\", \"Year\": 2019, \"Songs\": 14.0, \"Sales\": 7256516}, {\"Artist\": \"Lady Gaga\", \"Album\": \"The Fame\", \"Year\": 2008, \"Songs\": 11.0, \"Sales\": 14350358}, {\"Artist\": \"Lady Gaga\", \"Album\": \"The Fame Monster\", \"Year\": 2009, \"Songs\": null, \"Sales\": 8298000}, {\"Artist\": \"Lady Gaga\", \"Album\": \"Born This Way\", \"Year\": 2011, \"Songs\": 14.0, \"Sales\": 7166944}, {\"Artist\": \"Lady Gaga\", \"Album\": \"Artpop\", \"Year\": 2013, \"Songs\": 15.0, \"Sales\": 2300000}, {\"Artist\": \"Lady Gaga\", \"Album\": \"Cheek to Cheek\", \"Year\": 2014, \"Songs\": 11.0, \"Sales\": 715000}, {\"Artist\": \"Lady Gaga\", \"Album\": \"A Star is born (soundtrack)\", \"Year\": 2018, \"Songs\": null, \"Sales\": 4270810}, {\"Artist\": \"Lady Gaga\", \"Album\": \"Chromatica\", \"Year\": 2020, \"Songs\": null, \"Sales\": 1483784}, {\"Artist\": \"Lady Gaga\", \"Album\": \"Joanne\", \"Year\": 2016, \"Songs\": null, \"Sales\": 1305793}, {\"Artist\": \"Rihanna\", \"Album\": \"Good Girl Gone Bad\", \"Year\": 2007, \"Songs\": 12.0, \"Sales\": 10854803}, {\"Artist\": \"Rihanna\", \"Album\": \"Rated R\", \"Year\": 2009, \"Songs\": 12.0, \"Sales\": 3183000}, {\"Artist\": \"Rihanna\", \"Album\": \"Loud\", \"Year\": 2010, \"Songs\": 14.0, \"Sales\": 6673000}, {\"Artist\": \"Rihanna\", \"Album\": \"Talk That Talk\", \"Year\": 2011, \"Songs\": 11.0, \"Sales\": 4628000}, {\"Artist\": \"Rihanna\", \"Album\": \"Unapologetic\", \"Year\": 2012, \"Songs\": 12.0, \"Sales\": 4382500}, {\"Artist\": \"Rihanna\", \"Album\": \"Anti\", \"Year\": 2016, \"Songs\": null, \"Sales\": 6537235}, {\"Artist\": \"Rihanna\", \"Album\": \"A girl like me\", \"Year\": 2006, \"Songs\": null, \"Sales\": 3377500}, {\"Artist\": \"Rihanna\", \"Album\": \"Music of the sun\", \"Year\": 2005, \"Songs\": null, \"Sales\": 1407500}, {\"Artist\": \"The Weeknd\", \"Album\": \"House of Balloons\", \"Year\": 2011, \"Songs\": 8.0, \"Sales\": 180000}, {\"Artist\": \"The Weeknd\", \"Album\": \"Dawn FM\", \"Year\": 2022, \"Songs\": null, \"Sales\": 340000}, {\"Artist\": \"The Weeknd\", \"Album\": \"Kiss Land\", \"Year\": 2013, \"Songs\": 13.0, \"Sales\": 640000}, {\"Artist\": \"The Weeknd\", \"Album\": \"Beauty Behind the Madness\", \"Year\": 2015, \"Songs\": 14.0, \"Sales\": 7584588}, {\"Artist\": \"The Weeknd\", \"Album\": \"Starboy\", \"Year\": 2016, \"Songs\": 18.0, \"Sales\": 6070666}, {\"Artist\": \"The Weeknd\", \"Album\": \"My Dear Melancholy\", \"Year\": 2018, \"Songs\": 6.0, \"Sales\": 1201541}, {\"Artist\": \"The Weeknd\", \"Album\": \"After Hours\", \"Year\": 2020, \"Songs\": 14.0, \"Sales\": 4958942}, {\"Artist\": \"The Weeknd\", \"Album\": \"The highlights\", \"Year\": 2021, \"Songs\": null, \"Sales\": 2116000}, {\"Artist\": \"The Weeknd\", \"Album\": \"Trilogy\", \"Year\": 2012, \"Songs\": null, \"Sales\": 1360000}, {\"Artist\": \"Ed Sheeran\", \"Album\": \"+\", \"Year\": 2011, \"Songs\": 12.0, \"Sales\": 7705000}, {\"Artist\": \"Ed Sheeran\", \"Album\": \"x\", \"Year\": 2014, \"Songs\": 12.0, \"Sales\": 11879785}, {\"Artist\": \"Ed Sheeran\", \"Album\": \"\\u00f7\", \"Year\": 2017, \"Songs\": 12.0, \"Sales\": 13787460}, {\"Artist\": \"Ed Sheeran\", \"Album\": \"=\", \"Year\": 2021, \"Songs\": null, \"Sales\": 1862489}, {\"Artist\": \"Ed Sheeran\", \"Album\": \"No.6 Collaborations Project\", \"Year\": 2019, \"Songs\": 15.0, \"Sales\": 2631838}, {\"Artist\": \"Justin Bieber\", \"Album\": \"My World 2.0\", \"Year\": 2010, \"Songs\": 12.0, \"Sales\": 5235395}, {\"Artist\": \"Justin Bieber\", \"Album\": \"Believe\", \"Year\": 2012, \"Songs\": 13.0, \"Sales\": 4141507}, {\"Artist\": \"Justin Bieber\", \"Album\": \"Purpose\", \"Year\": 2015, \"Songs\": 13.0, \"Sales\": 14000000}, {\"Artist\": \"Justin Bieber\", \"Album\": \"Changes\", \"Year\": 2020, \"Songs\": 17.0, \"Sales\": 2182351}, {\"Artist\": \"Justin Bieber\", \"Album\": \"My World\", \"Year\": 2010, \"Songs\": null, \"Sales\": 3980000}, {\"Artist\": \"Justin Bieber\", \"Album\": \"Justice\", \"Year\": 2021, \"Songs\": null, \"Sales\": 3793131}, {\"Artist\": \"Justin Bieber\", \"Album\": \"Under the Mistletoe\", \"Year\": 2011, \"Songs\": null, \"Sales\": 2700725}, {\"Artist\": \"Justin Bieber\", \"Album\": \"Never say never - the remixes\", \"Year\": 2011, \"Songs\": null, \"Sales\": 1133000}, {\"Artist\": \"Justin Bieber\", \"Album\": \"Journals\", \"Year\": 2013, \"Songs\": null, \"Sales\": 1080000}, {\"Artist\": \"Shakira\", \"Album\": \"Laundry service\", \"Year\": 2001, \"Songs\": null, \"Sales\": 13000000}, {\"Artist\": \"Shakira\", \"Album\": \"Fijaci\\u00f3n oral Vol 1\", \"Year\": 2005, \"Songs\": null, \"Sales\": 3150519}, {\"Artist\": \"Shakira\", \"Album\": \"Oral Fixation vol 2\", \"Year\": 2005, \"Songs\": null, \"Sales\": 2878001}, {\"Artist\": \"Shakira\", \"Album\": \"Pies Descalzos\", \"Year\": 1995, \"Songs\": null, \"Sales\": 2695000}, {\"Artist\": \"Shakira\", \"Album\": \"Donde est\\u00e1n los ladrones\", \"Year\": 1998, \"Songs\": null, \"Sales\": 2551351}, {\"Artist\": \"Shakira\", \"Album\": \"Sale el sol / The sun comes out\", \"Year\": 2010, \"Songs\": null, \"Sales\": 2389939}, {\"Artist\": \"Shakira\", \"Album\": \"El dorado\", \"Year\": 2017, \"Songs\": null, \"Sales\": 985000}, {\"Artist\": \"Shakira\", \"Album\": \"MTV Umplugged\", \"Year\": 2000, \"Songs\": null, \"Sales\": 828663}]}}, {\"mode\": \"vega-lite\"});\n",
       "</script>"
      ],
      "text/plain": [
       "alt.Chart(...)"
      ]
     },
     "execution_count": 27,
     "metadata": {},
     "output_type": "execute_result"
    }
   ],
   "source": [
    "ch2 = alt.Chart(top_artists).mark_circle().encode(\n",
    "    x=alt.X('mean(Sales):Q', title = 'Sales'),\n",
    "    y=alt.Y('Artist:N', title = 'Artist'),\n",
    "    tooltip=[alt.Tooltip('count(Artist):Q', title='Number of Albums:'), alt.Tooltip('mean(Sales):Q', title='Mean of Sales:')],\n",
    "    color = 'Artist:N',\n",
    ").properties(title = r\"Mean of sales among all albums per artist\", width=400)\n",
    "\n",
    "ch2"
   ]
  },
  {
   "cell_type": "code",
   "execution_count": 28,
   "metadata": {
    "colab": {
     "base_uri": "https://localhost:8080/",
     "height": 301
    },
    "executionInfo": {
     "elapsed": 20,
     "status": "ok",
     "timestamp": 1716379807302,
     "user": {
      "displayName": "Alexandros Tremopoulos",
      "userId": "18030826848297166341"
     },
     "user_tz": -120
    },
    "id": "-wZeU-UHA17b",
    "outputId": "734402ae-d8d5-450e-e25a-9bdb3b4f9995"
   },
   "outputs": [
    {
     "data": {
      "text/html": [
       "\n",
       "<style>\n",
       "  #altair-viz-9452be1f4bc64c17beb5c16256679101.vega-embed {\n",
       "    width: 100%;\n",
       "    display: flex;\n",
       "  }\n",
       "\n",
       "  #altair-viz-9452be1f4bc64c17beb5c16256679101.vega-embed details,\n",
       "  #altair-viz-9452be1f4bc64c17beb5c16256679101.vega-embed details summary {\n",
       "    position: relative;\n",
       "  }\n",
       "</style>\n",
       "<div id=\"altair-viz-9452be1f4bc64c17beb5c16256679101\"></div>\n",
       "<script type=\"text/javascript\">\n",
       "  var VEGA_DEBUG = (typeof VEGA_DEBUG == \"undefined\") ? {} : VEGA_DEBUG;\n",
       "  (function(spec, embedOpt){\n",
       "    let outputDiv = document.currentScript.previousElementSibling;\n",
       "    if (outputDiv.id !== \"altair-viz-9452be1f4bc64c17beb5c16256679101\") {\n",
       "      outputDiv = document.getElementById(\"altair-viz-9452be1f4bc64c17beb5c16256679101\");\n",
       "    }\n",
       "    const paths = {\n",
       "      \"vega\": \"https://cdn.jsdelivr.net/npm/vega@5?noext\",\n",
       "      \"vega-lib\": \"https://cdn.jsdelivr.net/npm/vega-lib?noext\",\n",
       "      \"vega-lite\": \"https://cdn.jsdelivr.net/npm/vega-lite@5.17.0?noext\",\n",
       "      \"vega-embed\": \"https://cdn.jsdelivr.net/npm/vega-embed@6?noext\",\n",
       "    };\n",
       "\n",
       "    function maybeLoadScript(lib, version) {\n",
       "      var key = `${lib.replace(\"-\", \"\")}_version`;\n",
       "      return (VEGA_DEBUG[key] == version) ?\n",
       "        Promise.resolve(paths[lib]) :\n",
       "        new Promise(function(resolve, reject) {\n",
       "          var s = document.createElement('script');\n",
       "          document.getElementsByTagName(\"head\")[0].appendChild(s);\n",
       "          s.async = true;\n",
       "          s.onload = () => {\n",
       "            VEGA_DEBUG[key] = version;\n",
       "            return resolve(paths[lib]);\n",
       "          };\n",
       "          s.onerror = () => reject(`Error loading script: ${paths[lib]}`);\n",
       "          s.src = paths[lib];\n",
       "        });\n",
       "    }\n",
       "\n",
       "    function showError(err) {\n",
       "      outputDiv.innerHTML = `<div class=\"error\" style=\"color:red;\">${err}</div>`;\n",
       "      throw err;\n",
       "    }\n",
       "\n",
       "    function displayChart(vegaEmbed) {\n",
       "      vegaEmbed(outputDiv, spec, embedOpt)\n",
       "        .catch(err => showError(`Javascript Error: ${err.message}<br>This usually means there's a typo in your chart specification. See the javascript console for the full traceback.`));\n",
       "    }\n",
       "\n",
       "    if(typeof define === \"function\" && define.amd) {\n",
       "      requirejs.config({paths});\n",
       "      require([\"vega-embed\"], displayChart, err => showError(`Error loading script: ${err.message}`));\n",
       "    } else {\n",
       "      maybeLoadScript(\"vega\", \"5\")\n",
       "        .then(() => maybeLoadScript(\"vega-lite\", \"5.17.0\"))\n",
       "        .then(() => maybeLoadScript(\"vega-embed\", \"6\"))\n",
       "        .catch(showError)\n",
       "        .then(() => displayChart(vegaEmbed));\n",
       "    }\n",
       "  })({\"config\": {\"view\": {\"continuousWidth\": 300, \"continuousHeight\": 300}}, \"data\": {\"name\": \"data-db39071cae9f800ffde39ceafcbb23ef\"}, \"mark\": {\"type\": \"bar\"}, \"encoding\": {\"color\": {\"field\": \"Artist\", \"type\": \"nominal\"}, \"tooltip\": [{\"aggregate\": \"count\", \"field\": \"Artist\", \"title\": \"Number of Albums:\", \"type\": \"quantitative\"}, {\"aggregate\": \"mean\", \"field\": \"Sales\", \"title\": \"Mean of Sales:\", \"type\": \"quantitative\"}], \"x\": {\"aggregate\": \"mean\", \"field\": \"Sales\", \"title\": \"Sales\", \"type\": \"quantitative\"}, \"y\": {\"field\": \"Artist\", \"title\": \"Artist\", \"type\": \"nominal\"}}, \"title\": \"Mean of sales among all albums per artist\", \"width\": 550, \"$schema\": \"https://vega.github.io/schema/vega-lite/v5.17.0.json\", \"datasets\": {\"data-db39071cae9f800ffde39ceafcbb23ef\": [{\"Artist\": \"Taylor Swift\", \"Album\": \"Taylor Swift\", \"Year\": 2006, \"Songs\": 13.0, \"Sales\": 7275000}, {\"Artist\": \"Taylor Swift\", \"Album\": \"Fearless\", \"Year\": 2008, \"Songs\": 13.0, \"Sales\": 11911000}, {\"Artist\": \"Taylor Swift\", \"Album\": \"Speak Now\", \"Year\": 2010, \"Songs\": 14.0, \"Sales\": 6917500}, {\"Artist\": \"Taylor Swift\", \"Album\": \"Red\", \"Year\": 2012, \"Songs\": 16.0, \"Sales\": 8889124}, {\"Artist\": \"Taylor Swift\", \"Album\": \"1989\", \"Year\": 2014, \"Songs\": 13.0, \"Sales\": 14748116}, {\"Artist\": \"Taylor Swift\", \"Album\": \"Reputation\", \"Year\": 2017, \"Songs\": 15.0, \"Sales\": 6186524}, {\"Artist\": \"Taylor Swift\", \"Album\": \"Lover\", \"Year\": 2019, \"Songs\": 18.0, \"Sales\": 5686733}, {\"Artist\": \"Taylor Swift\", \"Album\": \"floklore (deluxe version)\", \"Year\": 2020, \"Songs\": null, \"Sales\": 4360487}, {\"Artist\": \"Taylor Swift\", \"Album\": \"midnights\", \"Year\": 2022, \"Songs\": null, \"Sales\": 3387836}, {\"Artist\": \"Taylor Swift\", \"Album\": \"Fearless (Taylor's Version)\", \"Year\": 2021, \"Songs\": 20.0, \"Sales\": 1557687}, {\"Artist\": \"Taylor Swift\", \"Album\": \"Red (Taylor's Version)\", \"Year\": 2021, \"Songs\": 30.0, \"Sales\": 1696632}, {\"Artist\": \"Taylor Swift\", \"Album\": \"1989 (Taylor's version)\", \"Year\": 2023, \"Songs\": null, \"Sales\": 14748116}, {\"Artist\": \"Taylor Swift\", \"Album\": \"evermore (deluxe version)\", \"Year\": 2021, \"Songs\": null, \"Sales\": 1998779}, {\"Artist\": \"Post Malone\", \"Album\": \"Stoney\", \"Year\": 2016, \"Songs\": 11.0, \"Sales\": 7275000}, {\"Artist\": \"Post Malone\", \"Album\": \"Beerbongs & Bentleys\", \"Year\": 2018, \"Songs\": 14.0, \"Sales\": 11911000}, {\"Artist\": \"Post Malone\", \"Album\": \"Hollywood's Bleeding\", \"Year\": 2019, \"Songs\": 17.0, \"Sales\": 6186524}, {\"Artist\": \"Post Malone\", \"Album\": \"Twelve Carat Toothache\", \"Year\": 2022, \"Songs\": null, \"Sales\": 3387836}, {\"Artist\": \"Post Malone\", \"Album\": \"Austin\", \"Year\": 2022, \"Songs\": null, \"Sales\": 1998779}, {\"Artist\": \"Ariana Grande\", \"Album\": \"Yours Truly\", \"Year\": 2013, \"Songs\": 12.0, \"Sales\": 1305000}, {\"Artist\": \"Ariana Grande\", \"Album\": \"My Everything\", \"Year\": 2014, \"Songs\": 13.0, \"Sales\": 3506212}, {\"Artist\": \"Ariana Grande\", \"Album\": \"Dangerous Woman\", \"Year\": 2016, \"Songs\": 12.0, \"Sales\": 3632374}, {\"Artist\": \"Ariana Grande\", \"Album\": \"Sweetener\", \"Year\": 2018, \"Songs\": 15.0, \"Sales\": 1994479}, {\"Artist\": \"Ariana Grande\", \"Album\": \"Thank U, Next\", \"Year\": 2019, \"Songs\": 12.0, \"Sales\": 3775436}, {\"Artist\": \"Ariana Grande\", \"Album\": \"Positions\", \"Year\": 2020, \"Songs\": null, \"Sales\": 1603367}, {\"Artist\": \"Drake\", \"Album\": \"Thank Me Later\", \"Year\": 2010, \"Songs\": 16.0, \"Sales\": 3460000}, {\"Artist\": \"Drake\", \"Album\": \"Take Care\", \"Year\": 2011, \"Songs\": 13.0, \"Sales\": 6920000}, {\"Artist\": \"Drake\", \"Album\": \"Nothing Was the Same\", \"Year\": 2013, \"Songs\": 17.0, \"Sales\": 4595000}, {\"Artist\": \"Drake\", \"Album\": \"Views\", \"Year\": 2016, \"Songs\": 20.0, \"Sales\": 7687247}, {\"Artist\": \"Drake\", \"Album\": \"Scorpion\", \"Year\": 2018, \"Songs\": 25.0, \"Sales\": 6433983}, {\"Artist\": \"Drake\", \"Album\": \"More Life \", \"Year\": 2017, \"Songs\": null, \"Sales\": 4005250}, {\"Artist\": \"Drake\", \"Album\": \"If you're reading this its too late\", \"Year\": 2015, \"Songs\": null, \"Sales\": 3480000}, {\"Artist\": \"Billie Eilish\", \"Album\": \"Happier than ever\", \"Year\": 2021, \"Songs\": null, \"Sales\": 885000}, {\"Artist\": \"Billie Eilish\", \"Album\": \"Don't smile at me\", \"Year\": 2017, \"Songs\": null, \"Sales\": 2434691}, {\"Artist\": \"Billie Eilish\", \"Album\": \"When We All Fall Asleep, Where Do We Go?\", \"Year\": 2019, \"Songs\": 14.0, \"Sales\": 7256516}, {\"Artist\": \"Lady Gaga\", \"Album\": \"The Fame\", \"Year\": 2008, \"Songs\": 11.0, \"Sales\": 14350358}, {\"Artist\": \"Lady Gaga\", \"Album\": \"The Fame Monster\", \"Year\": 2009, \"Songs\": null, \"Sales\": 8298000}, {\"Artist\": \"Lady Gaga\", \"Album\": \"Born This Way\", \"Year\": 2011, \"Songs\": 14.0, \"Sales\": 7166944}, {\"Artist\": \"Lady Gaga\", \"Album\": \"Artpop\", \"Year\": 2013, \"Songs\": 15.0, \"Sales\": 2300000}, {\"Artist\": \"Lady Gaga\", \"Album\": \"Cheek to Cheek\", \"Year\": 2014, \"Songs\": 11.0, \"Sales\": 715000}, {\"Artist\": \"Lady Gaga\", \"Album\": \"A Star is born (soundtrack)\", \"Year\": 2018, \"Songs\": null, \"Sales\": 4270810}, {\"Artist\": \"Lady Gaga\", \"Album\": \"Chromatica\", \"Year\": 2020, \"Songs\": null, \"Sales\": 1483784}, {\"Artist\": \"Lady Gaga\", \"Album\": \"Joanne\", \"Year\": 2016, \"Songs\": null, \"Sales\": 1305793}, {\"Artist\": \"Rihanna\", \"Album\": \"Good Girl Gone Bad\", \"Year\": 2007, \"Songs\": 12.0, \"Sales\": 10854803}, {\"Artist\": \"Rihanna\", \"Album\": \"Rated R\", \"Year\": 2009, \"Songs\": 12.0, \"Sales\": 3183000}, {\"Artist\": \"Rihanna\", \"Album\": \"Loud\", \"Year\": 2010, \"Songs\": 14.0, \"Sales\": 6673000}, {\"Artist\": \"Rihanna\", \"Album\": \"Talk That Talk\", \"Year\": 2011, \"Songs\": 11.0, \"Sales\": 4628000}, {\"Artist\": \"Rihanna\", \"Album\": \"Unapologetic\", \"Year\": 2012, \"Songs\": 12.0, \"Sales\": 4382500}, {\"Artist\": \"Rihanna\", \"Album\": \"Anti\", \"Year\": 2016, \"Songs\": null, \"Sales\": 6537235}, {\"Artist\": \"Rihanna\", \"Album\": \"A girl like me\", \"Year\": 2006, \"Songs\": null, \"Sales\": 3377500}, {\"Artist\": \"Rihanna\", \"Album\": \"Music of the sun\", \"Year\": 2005, \"Songs\": null, \"Sales\": 1407500}, {\"Artist\": \"The Weeknd\", \"Album\": \"House of Balloons\", \"Year\": 2011, \"Songs\": 8.0, \"Sales\": 180000}, {\"Artist\": \"The Weeknd\", \"Album\": \"Dawn FM\", \"Year\": 2022, \"Songs\": null, \"Sales\": 340000}, {\"Artist\": \"The Weeknd\", \"Album\": \"Kiss Land\", \"Year\": 2013, \"Songs\": 13.0, \"Sales\": 640000}, {\"Artist\": \"The Weeknd\", \"Album\": \"Beauty Behind the Madness\", \"Year\": 2015, \"Songs\": 14.0, \"Sales\": 7584588}, {\"Artist\": \"The Weeknd\", \"Album\": \"Starboy\", \"Year\": 2016, \"Songs\": 18.0, \"Sales\": 6070666}, {\"Artist\": \"The Weeknd\", \"Album\": \"My Dear Melancholy\", \"Year\": 2018, \"Songs\": 6.0, \"Sales\": 1201541}, {\"Artist\": \"The Weeknd\", \"Album\": \"After Hours\", \"Year\": 2020, \"Songs\": 14.0, \"Sales\": 4958942}, {\"Artist\": \"The Weeknd\", \"Album\": \"The highlights\", \"Year\": 2021, \"Songs\": null, \"Sales\": 2116000}, {\"Artist\": \"The Weeknd\", \"Album\": \"Trilogy\", \"Year\": 2012, \"Songs\": null, \"Sales\": 1360000}, {\"Artist\": \"Ed Sheeran\", \"Album\": \"+\", \"Year\": 2011, \"Songs\": 12.0, \"Sales\": 7705000}, {\"Artist\": \"Ed Sheeran\", \"Album\": \"x\", \"Year\": 2014, \"Songs\": 12.0, \"Sales\": 11879785}, {\"Artist\": \"Ed Sheeran\", \"Album\": \"\\u00f7\", \"Year\": 2017, \"Songs\": 12.0, \"Sales\": 13787460}, {\"Artist\": \"Ed Sheeran\", \"Album\": \"=\", \"Year\": 2021, \"Songs\": null, \"Sales\": 1862489}, {\"Artist\": \"Ed Sheeran\", \"Album\": \"No.6 Collaborations Project\", \"Year\": 2019, \"Songs\": 15.0, \"Sales\": 2631838}, {\"Artist\": \"Justin Bieber\", \"Album\": \"My World 2.0\", \"Year\": 2010, \"Songs\": 12.0, \"Sales\": 5235395}, {\"Artist\": \"Justin Bieber\", \"Album\": \"Believe\", \"Year\": 2012, \"Songs\": 13.0, \"Sales\": 4141507}, {\"Artist\": \"Justin Bieber\", \"Album\": \"Purpose\", \"Year\": 2015, \"Songs\": 13.0, \"Sales\": 14000000}, {\"Artist\": \"Justin Bieber\", \"Album\": \"Changes\", \"Year\": 2020, \"Songs\": 17.0, \"Sales\": 2182351}, {\"Artist\": \"Justin Bieber\", \"Album\": \"My World\", \"Year\": 2010, \"Songs\": null, \"Sales\": 3980000}, {\"Artist\": \"Justin Bieber\", \"Album\": \"Justice\", \"Year\": 2021, \"Songs\": null, \"Sales\": 3793131}, {\"Artist\": \"Justin Bieber\", \"Album\": \"Under the Mistletoe\", \"Year\": 2011, \"Songs\": null, \"Sales\": 2700725}, {\"Artist\": \"Justin Bieber\", \"Album\": \"Never say never - the remixes\", \"Year\": 2011, \"Songs\": null, \"Sales\": 1133000}, {\"Artist\": \"Justin Bieber\", \"Album\": \"Journals\", \"Year\": 2013, \"Songs\": null, \"Sales\": 1080000}, {\"Artist\": \"Shakira\", \"Album\": \"Laundry service\", \"Year\": 2001, \"Songs\": null, \"Sales\": 13000000}, {\"Artist\": \"Shakira\", \"Album\": \"Fijaci\\u00f3n oral Vol 1\", \"Year\": 2005, \"Songs\": null, \"Sales\": 3150519}, {\"Artist\": \"Shakira\", \"Album\": \"Oral Fixation vol 2\", \"Year\": 2005, \"Songs\": null, \"Sales\": 2878001}, {\"Artist\": \"Shakira\", \"Album\": \"Pies Descalzos\", \"Year\": 1995, \"Songs\": null, \"Sales\": 2695000}, {\"Artist\": \"Shakira\", \"Album\": \"Donde est\\u00e1n los ladrones\", \"Year\": 1998, \"Songs\": null, \"Sales\": 2551351}, {\"Artist\": \"Shakira\", \"Album\": \"Sale el sol / The sun comes out\", \"Year\": 2010, \"Songs\": null, \"Sales\": 2389939}, {\"Artist\": \"Shakira\", \"Album\": \"El dorado\", \"Year\": 2017, \"Songs\": null, \"Sales\": 985000}, {\"Artist\": \"Shakira\", \"Album\": \"MTV Umplugged\", \"Year\": 2000, \"Songs\": null, \"Sales\": 828663}]}}, {\"mode\": \"vega-lite\"});\n",
       "</script>"
      ],
      "text/plain": [
       "alt.Chart(...)"
      ]
     },
     "execution_count": 28,
     "metadata": {},
     "output_type": "execute_result"
    }
   ],
   "source": [
    "ch2 = alt.Chart(top_artists).mark_bar().encode(\n",
    "    x=alt.X('mean(Sales):Q', title = 'Sales'),\n",
    "    y=alt.Y('Artist:N', title = 'Artist'),\n",
    "    tooltip=[alt.Tooltip('count(Artist):Q', title='Number of Albums:'), alt.Tooltip('mean(Sales):Q', title='Mean of Sales:')],\n",
    "    color = 'Artist:N',\n",
    ").properties(title = r\"Mean of sales among all albums per artist\", width=550)\n",
    "\n",
    "ch2"
   ]
  },
  {
   "cell_type": "markdown",
   "metadata": {
    "id": "KewpPrXUCpRw"
   },
   "source": [
    "Before evolving the charts I create a new dataset, which contains the mean of sales and the number of albums grouped by artist. Here we can see the final dataset."
   ]
  },
  {
   "cell_type": "code",
   "execution_count": 29,
   "metadata": {
    "colab": {
     "base_uri": "https://localhost:8080/",
     "height": 394
    },
    "executionInfo": {
     "elapsed": 18,
     "status": "ok",
     "timestamp": 1716379807302,
     "user": {
      "displayName": "Alexandros Tremopoulos",
      "userId": "18030826848297166341"
     },
     "user_tz": -120
    },
    "id": "ddvsq3vi0B7f",
    "outputId": "566fb759-0f7a-43e3-cfef-a0c1cc660d89"
   },
   "outputs": [
    {
     "data": {
      "text/html": [
       "<div>\n",
       "<style scoped>\n",
       "    .dataframe tbody tr th:only-of-type {\n",
       "        vertical-align: middle;\n",
       "    }\n",
       "\n",
       "    .dataframe tbody tr th {\n",
       "        vertical-align: top;\n",
       "    }\n",
       "\n",
       "    .dataframe thead th {\n",
       "        text-align: right;\n",
       "    }\n",
       "</style>\n",
       "<table border=\"1\" class=\"dataframe\">\n",
       "  <thead>\n",
       "    <tr style=\"text-align: right;\">\n",
       "      <th></th>\n",
       "      <th>Artist</th>\n",
       "      <th>Sales</th>\n",
       "      <th>Albums</th>\n",
       "    </tr>\n",
       "  </thead>\n",
       "  <tbody>\n",
       "    <tr>\n",
       "      <th>0</th>\n",
       "      <td>Ariana Grande</td>\n",
       "      <td>2.636145e+06</td>\n",
       "      <td>6</td>\n",
       "    </tr>\n",
       "    <tr>\n",
       "      <th>1</th>\n",
       "      <td>Billie Eilish</td>\n",
       "      <td>3.525402e+06</td>\n",
       "      <td>3</td>\n",
       "    </tr>\n",
       "    <tr>\n",
       "      <th>2</th>\n",
       "      <td>Drake</td>\n",
       "      <td>5.225926e+06</td>\n",
       "      <td>7</td>\n",
       "    </tr>\n",
       "    <tr>\n",
       "      <th>3</th>\n",
       "      <td>Ed Sheeran</td>\n",
       "      <td>7.573314e+06</td>\n",
       "      <td>5</td>\n",
       "    </tr>\n",
       "    <tr>\n",
       "      <th>4</th>\n",
       "      <td>Justin Bieber</td>\n",
       "      <td>4.249568e+06</td>\n",
       "      <td>9</td>\n",
       "    </tr>\n",
       "    <tr>\n",
       "      <th>5</th>\n",
       "      <td>Lady Gaga</td>\n",
       "      <td>4.986336e+06</td>\n",
       "      <td>8</td>\n",
       "    </tr>\n",
       "    <tr>\n",
       "      <th>6</th>\n",
       "      <td>Post Malone</td>\n",
       "      <td>6.151828e+06</td>\n",
       "      <td>5</td>\n",
       "    </tr>\n",
       "    <tr>\n",
       "      <th>7</th>\n",
       "      <td>Rihanna</td>\n",
       "      <td>5.130442e+06</td>\n",
       "      <td>8</td>\n",
       "    </tr>\n",
       "    <tr>\n",
       "      <th>8</th>\n",
       "      <td>Shakira</td>\n",
       "      <td>3.559809e+06</td>\n",
       "      <td>8</td>\n",
       "    </tr>\n",
       "    <tr>\n",
       "      <th>9</th>\n",
       "      <td>Taylor Swift</td>\n",
       "      <td>6.874118e+06</td>\n",
       "      <td>13</td>\n",
       "    </tr>\n",
       "    <tr>\n",
       "      <th>10</th>\n",
       "      <td>The Weeknd</td>\n",
       "      <td>2.716860e+06</td>\n",
       "      <td>9</td>\n",
       "    </tr>\n",
       "  </tbody>\n",
       "</table>\n",
       "</div>"
      ],
      "text/plain": [
       "           Artist         Sales  Albums\n",
       "0   Ariana Grande  2.636145e+06       6\n",
       "1   Billie Eilish  3.525402e+06       3\n",
       "2           Drake  5.225926e+06       7\n",
       "3      Ed Sheeran  7.573314e+06       5\n",
       "4   Justin Bieber  4.249568e+06       9\n",
       "5       Lady Gaga  4.986336e+06       8\n",
       "6     Post Malone  6.151828e+06       5\n",
       "7         Rihanna  5.130442e+06       8\n",
       "8         Shakira  3.559809e+06       8\n",
       "9    Taylor Swift  6.874118e+06      13\n",
       "10     The Weeknd  2.716860e+06       9"
      ]
     },
     "execution_count": 29,
     "metadata": {},
     "output_type": "execute_result"
    }
   ],
   "source": [
    "q1a = top_artists.groupby(['Artist'])['Sales'].mean().to_frame(name = 'Sales').reset_index()\n",
    "q1a.reset_index(inplace=True, drop=True)\n",
    "q1b = top_artists.groupby(['Artist'])['Artist'].count().to_frame(name = 'Albums').reset_index()\n",
    "q1b.reset_index(inplace=True, drop=True)\n",
    "q1 = pd.merge(q1a[['Artist','Sales']], q1b[['Artist','Albums']], how='outer', on='Artist')\n",
    "q1"
   ]
  },
  {
   "cell_type": "markdown",
   "metadata": {
    "id": "quOv5PTYDDBh"
   },
   "source": [
    "The interaction that I found appropriate was to create a **selection interval** interaction with two charts, i.e., when you select an range interval of points in the left one, they same data point are emphasized in the right one. The left chart is the mean of sales of each artist and the right one is the number of albums. Since the colors are indicating artists I am using the same categorical created palette that I used in the first question. I wanted to add one more chart not an interacted one that has once again the mean sales along their whole career. Thus, I created a bar chart initally. Next, you can see my 3 charts."
   ]
  },
  {
   "cell_type": "code",
   "execution_count": 30,
   "metadata": {
    "colab": {
     "base_uri": "https://localhost:8080/",
     "height": 464
    },
    "executionInfo": {
     "elapsed": 390,
     "status": "ok",
     "timestamp": 1716379807675,
     "user": {
      "displayName": "Alexandros Tremopoulos",
      "userId": "18030826848297166341"
     },
     "user_tz": -120
    },
    "id": "GFDjDTFfrUhD",
    "outputId": "462bdd1f-93d6-4b8c-e9d3-99b139bbddad"
   },
   "outputs": [
    {
     "data": {
      "text/html": [
       "\n",
       "<style>\n",
       "  #altair-viz-e47a17133e164040aeac68228ab88766.vega-embed {\n",
       "    width: 100%;\n",
       "    display: flex;\n",
       "  }\n",
       "\n",
       "  #altair-viz-e47a17133e164040aeac68228ab88766.vega-embed details,\n",
       "  #altair-viz-e47a17133e164040aeac68228ab88766.vega-embed details summary {\n",
       "    position: relative;\n",
       "  }\n",
       "</style>\n",
       "<div id=\"altair-viz-e47a17133e164040aeac68228ab88766\"></div>\n",
       "<script type=\"text/javascript\">\n",
       "  var VEGA_DEBUG = (typeof VEGA_DEBUG == \"undefined\") ? {} : VEGA_DEBUG;\n",
       "  (function(spec, embedOpt){\n",
       "    let outputDiv = document.currentScript.previousElementSibling;\n",
       "    if (outputDiv.id !== \"altair-viz-e47a17133e164040aeac68228ab88766\") {\n",
       "      outputDiv = document.getElementById(\"altair-viz-e47a17133e164040aeac68228ab88766\");\n",
       "    }\n",
       "    const paths = {\n",
       "      \"vega\": \"https://cdn.jsdelivr.net/npm/vega@5?noext\",\n",
       "      \"vega-lib\": \"https://cdn.jsdelivr.net/npm/vega-lib?noext\",\n",
       "      \"vega-lite\": \"https://cdn.jsdelivr.net/npm/vega-lite@5.17.0?noext\",\n",
       "      \"vega-embed\": \"https://cdn.jsdelivr.net/npm/vega-embed@6?noext\",\n",
       "    };\n",
       "\n",
       "    function maybeLoadScript(lib, version) {\n",
       "      var key = `${lib.replace(\"-\", \"\")}_version`;\n",
       "      return (VEGA_DEBUG[key] == version) ?\n",
       "        Promise.resolve(paths[lib]) :\n",
       "        new Promise(function(resolve, reject) {\n",
       "          var s = document.createElement('script');\n",
       "          document.getElementsByTagName(\"head\")[0].appendChild(s);\n",
       "          s.async = true;\n",
       "          s.onload = () => {\n",
       "            VEGA_DEBUG[key] = version;\n",
       "            return resolve(paths[lib]);\n",
       "          };\n",
       "          s.onerror = () => reject(`Error loading script: ${paths[lib]}`);\n",
       "          s.src = paths[lib];\n",
       "        });\n",
       "    }\n",
       "\n",
       "    function showError(err) {\n",
       "      outputDiv.innerHTML = `<div class=\"error\" style=\"color:red;\">${err}</div>`;\n",
       "      throw err;\n",
       "    }\n",
       "\n",
       "    function displayChart(vegaEmbed) {\n",
       "      vegaEmbed(outputDiv, spec, embedOpt)\n",
       "        .catch(err => showError(`Javascript Error: ${err.message}<br>This usually means there's a typo in your chart specification. See the javascript console for the full traceback.`));\n",
       "    }\n",
       "\n",
       "    if(typeof define === \"function\" && define.amd) {\n",
       "      requirejs.config({paths});\n",
       "      require([\"vega-embed\"], displayChart, err => showError(`Error loading script: ${err.message}`));\n",
       "    } else {\n",
       "      maybeLoadScript(\"vega\", \"5\")\n",
       "        .then(() => maybeLoadScript(\"vega-lite\", \"5.17.0\"))\n",
       "        .then(() => maybeLoadScript(\"vega-embed\", \"6\"))\n",
       "        .catch(showError)\n",
       "        .then(() => displayChart(vegaEmbed));\n",
       "    }\n",
       "  })({\"config\": {\"view\": {\"continuousWidth\": 300, \"continuousHeight\": 300}}, \"hconcat\": [{\"mark\": {\"type\": \"circle\"}, \"encoding\": {\"color\": {\"field\": \"Artist\", \"scale\": {\"scheme\": [\"rgb(105,239,123)\", \"rgb(216,21,180)\", \"rgb(172,225,183)\", \"rgb(120,40,87)\", \"rgb(37,184,234)\", \"rgb(32,80,46)\", \"rgb(250,175,227)\", \"rgb(52,70,109)\", \"rgb(192,225,92)\", \"rgb(114,68,185)\", \"rgb(99,161,34)\"]}, \"type\": \"nominal\"}, \"x\": {\"field\": \"Artist\", \"sort\": \"-y\", \"title\": \"Artist Name\", \"type\": \"nominal\"}, \"y\": {\"field\": \"Sales\", \"title\": \"Mean of Sales\", \"type\": \"quantitative\"}}, \"name\": \"view_1\", \"title\": \"Mean of sales among all albums per artist\", \"width\": 300}, {\"mark\": {\"type\": \"circle\"}, \"encoding\": {\"color\": {\"condition\": {\"param\": \"param_1\", \"value\": \"crimson\", \"empty\": false}, \"field\": \"Artist\", \"scale\": {\"scheme\": [\"rgb(105,239,123)\", \"rgb(216,21,180)\", \"rgb(172,225,183)\", \"rgb(120,40,87)\", \"rgb(37,184,234)\", \"rgb(32,80,46)\", \"rgb(250,175,227)\", \"rgb(52,70,109)\", \"rgb(192,225,92)\", \"rgb(114,68,185)\", \"rgb(99,161,34)\"]}, \"type\": \"nominal\"}, \"size\": {\"condition\": {\"param\": \"param_1\", \"value\": 80, \"empty\": false}, \"value\": 30}, \"x\": {\"field\": \"Artist\", \"sort\": \"-y\", \"title\": \"Artist Name\", \"type\": \"nominal\"}, \"y\": {\"field\": \"Albums\", \"title\": \"Number of Albums\", \"type\": \"quantitative\"}}, \"name\": \"view_2\", \"title\": \"Number of albums per artist\", \"width\": 300}, {\"mark\": {\"type\": \"bar\"}, \"encoding\": {\"color\": {\"field\": \"Artist\", \"type\": \"nominal\"}, \"tooltip\": [{\"field\": \"Albums\", \"title\": \"Number of Albums:\", \"type\": \"quantitative\"}, {\"field\": \"Sales\", \"title\": \"Mean of Sales:\", \"type\": \"quantitative\"}], \"x\": {\"field\": \"Sales\", \"title\": \"Sales\", \"type\": \"quantitative\"}, \"y\": {\"field\": \"Artist\", \"sort\": \"-x\", \"title\": \"Artist\", \"type\": \"nominal\"}}, \"title\": \"Mean of sales among all albums per artist\", \"width\": 550}], \"data\": {\"name\": \"data-4860be28f7352ffee24f2dbc2647e944\"}, \"params\": [{\"name\": \"param_1\", \"select\": {\"type\": \"interval\", \"encodings\": [\"y\"]}, \"views\": [\"view_1\", \"view_2\"]}], \"$schema\": \"https://vega.github.io/schema/vega-lite/v5.17.0.json\", \"datasets\": {\"data-4860be28f7352ffee24f2dbc2647e944\": [{\"Artist\": \"Ariana Grande\", \"Sales\": 2636144.6666666665, \"Albums\": 6}, {\"Artist\": \"Billie Eilish\", \"Sales\": 3525402.3333333335, \"Albums\": 3}, {\"Artist\": \"Drake\", \"Sales\": 5225925.714285715, \"Albums\": 7}, {\"Artist\": \"Ed Sheeran\", \"Sales\": 7573314.4, \"Albums\": 5}, {\"Artist\": \"Justin Bieber\", \"Sales\": 4249567.666666667, \"Albums\": 9}, {\"Artist\": \"Lady Gaga\", \"Sales\": 4986336.125, \"Albums\": 8}, {\"Artist\": \"Post Malone\", \"Sales\": 6151827.8, \"Albums\": 5}, {\"Artist\": \"Rihanna\", \"Sales\": 5130442.25, \"Albums\": 8}, {\"Artist\": \"Shakira\", \"Sales\": 3559809.125, \"Albums\": 8}, {\"Artist\": \"Taylor Swift\", \"Sales\": 6874118.0, \"Albums\": 13}, {\"Artist\": \"The Weeknd\", \"Sales\": 2716859.6666666665, \"Albums\": 9}]}}, {\"mode\": \"vega-lite\"});\n",
       "</script>"
      ],
      "text/plain": [
       "alt.HConcatChart(...)"
      ]
     },
     "execution_count": 30,
     "metadata": {},
     "output_type": "execute_result"
    }
   ],
   "source": [
    "select_interval = alt.selection_interval(empty = False, encodings = ['y'])\n",
    "\n",
    "chq3a = alt.Chart(q1).mark_circle().encode(\n",
    "    x=alt.X('Artist:N', title = 'Artist Name').sort('-y'),\n",
    "    y=alt.Y('Sales:Q', title = 'Mean of Sales'),\n",
    "    color = alt.Color('Artist:N', scale = alt.Scale(scheme = colorgorical)),\n",
    ").add_params(select_interval\n",
    "             ).properties(title = r\"Mean of sales among all albums per artist\", width=300\n",
    "              )\n",
    "\n",
    "chq3b = alt.Chart(q1).mark_circle().encode(\n",
    "    x=alt.X('Artist:N', title = 'Artist Name').sort('-y'),\n",
    "    y=alt.Y('Albums:Q', title = 'Number of Albums'),\n",
    "    color = alt.condition(select_interval, alt.value('crimson'),\n",
    "                      'Artist:N', scale = alt.Scale(scheme = colorgorical)),\n",
    "    size = alt.condition(select_interval, alt.value(80), alt.value(30))\n",
    ").add_params(select_interval\n",
    "             ).properties(title = r\"Number of albums per artist\", width=300\n",
    "              )\n",
    "\n",
    "chq3c = alt.Chart(q1).mark_bar().encode(\n",
    "    x=alt.X('Sales:Q', title = 'Sales'),\n",
    "    y=alt.Y('Artist:N', title = 'Artist').sort('-x'),\n",
    "    tooltip=[alt.Tooltip('Albums:Q', title='Number of Albums:'), alt.Tooltip('Sales:Q', title='Mean of Sales:')],\n",
    "    color = 'Artist:N',\n",
    ").properties(title = r\"Mean of sales among all albums per artist\", width=550)\n",
    "\n",
    "chq3a | chq3b | chq3c"
   ]
  },
  {
   "cell_type": "markdown",
   "metadata": {
    "id": "aChTXYYyJKJ9"
   },
   "source": [
    "However the **bar chart might not be appropriate**, firstly because I already display the mean sales in the first chart and secondly because in such chart the mean value is not a very good selection. Hence I do **boxplots** which contain min,max,median,q1,q3 per artist. This probably should be interactive, because in the final visualization when an artist is created in this chart all the artists will be shown. However, I could not make such bar chart or boxplot become interactive."
   ]
  },
  {
   "cell_type": "code",
   "execution_count": 31,
   "metadata": {
    "colab": {
     "base_uri": "https://localhost:8080/",
     "height": 301
    },
    "executionInfo": {
     "elapsed": 12,
     "status": "ok",
     "timestamp": 1716379807675,
     "user": {
      "displayName": "Alexandros Tremopoulos",
      "userId": "18030826848297166341"
     },
     "user_tz": -120
    },
    "id": "jkwOxK6QxtEb",
    "outputId": "a9fe1f79-38bd-44bc-dead-7f83c7835a9b"
   },
   "outputs": [
    {
     "data": {
      "text/html": [
       "\n",
       "<style>\n",
       "  #altair-viz-969d23ea9b024b749df1349d417ca0e7.vega-embed {\n",
       "    width: 100%;\n",
       "    display: flex;\n",
       "  }\n",
       "\n",
       "  #altair-viz-969d23ea9b024b749df1349d417ca0e7.vega-embed details,\n",
       "  #altair-viz-969d23ea9b024b749df1349d417ca0e7.vega-embed details summary {\n",
       "    position: relative;\n",
       "  }\n",
       "</style>\n",
       "<div id=\"altair-viz-969d23ea9b024b749df1349d417ca0e7\"></div>\n",
       "<script type=\"text/javascript\">\n",
       "  var VEGA_DEBUG = (typeof VEGA_DEBUG == \"undefined\") ? {} : VEGA_DEBUG;\n",
       "  (function(spec, embedOpt){\n",
       "    let outputDiv = document.currentScript.previousElementSibling;\n",
       "    if (outputDiv.id !== \"altair-viz-969d23ea9b024b749df1349d417ca0e7\") {\n",
       "      outputDiv = document.getElementById(\"altair-viz-969d23ea9b024b749df1349d417ca0e7\");\n",
       "    }\n",
       "    const paths = {\n",
       "      \"vega\": \"https://cdn.jsdelivr.net/npm/vega@5?noext\",\n",
       "      \"vega-lib\": \"https://cdn.jsdelivr.net/npm/vega-lib?noext\",\n",
       "      \"vega-lite\": \"https://cdn.jsdelivr.net/npm/vega-lite@5.17.0?noext\",\n",
       "      \"vega-embed\": \"https://cdn.jsdelivr.net/npm/vega-embed@6?noext\",\n",
       "    };\n",
       "\n",
       "    function maybeLoadScript(lib, version) {\n",
       "      var key = `${lib.replace(\"-\", \"\")}_version`;\n",
       "      return (VEGA_DEBUG[key] == version) ?\n",
       "        Promise.resolve(paths[lib]) :\n",
       "        new Promise(function(resolve, reject) {\n",
       "          var s = document.createElement('script');\n",
       "          document.getElementsByTagName(\"head\")[0].appendChild(s);\n",
       "          s.async = true;\n",
       "          s.onload = () => {\n",
       "            VEGA_DEBUG[key] = version;\n",
       "            return resolve(paths[lib]);\n",
       "          };\n",
       "          s.onerror = () => reject(`Error loading script: ${paths[lib]}`);\n",
       "          s.src = paths[lib];\n",
       "        });\n",
       "    }\n",
       "\n",
       "    function showError(err) {\n",
       "      outputDiv.innerHTML = `<div class=\"error\" style=\"color:red;\">${err}</div>`;\n",
       "      throw err;\n",
       "    }\n",
       "\n",
       "    function displayChart(vegaEmbed) {\n",
       "      vegaEmbed(outputDiv, spec, embedOpt)\n",
       "        .catch(err => showError(`Javascript Error: ${err.message}<br>This usually means there's a typo in your chart specification. See the javascript console for the full traceback.`));\n",
       "    }\n",
       "\n",
       "    if(typeof define === \"function\" && define.amd) {\n",
       "      requirejs.config({paths});\n",
       "      require([\"vega-embed\"], displayChart, err => showError(`Error loading script: ${err.message}`));\n",
       "    } else {\n",
       "      maybeLoadScript(\"vega\", \"5\")\n",
       "        .then(() => maybeLoadScript(\"vega-lite\", \"5.17.0\"))\n",
       "        .then(() => maybeLoadScript(\"vega-embed\", \"6\"))\n",
       "        .catch(showError)\n",
       "        .then(() => displayChart(vegaEmbed));\n",
       "    }\n",
       "  })({\"config\": {\"view\": {\"continuousWidth\": 300, \"continuousHeight\": 300}}, \"data\": {\"name\": \"data-db39071cae9f800ffde39ceafcbb23ef\"}, \"mark\": {\"type\": \"boxplot\"}, \"encoding\": {\"color\": {\"field\": \"Artist\", \"scale\": {\"scheme\": [\"rgb(105,239,123)\", \"rgb(216,21,180)\", \"rgb(172,225,183)\", \"rgb(120,40,87)\", \"rgb(37,184,234)\", \"rgb(32,80,46)\", \"rgb(250,175,227)\", \"rgb(52,70,109)\", \"rgb(192,225,92)\", \"rgb(114,68,185)\", \"rgb(99,161,34)\"]}, \"type\": \"nominal\"}, \"x\": {\"field\": \"Sales\", \"title\": \"Sales\", \"type\": \"quantitative\"}, \"y\": {\"field\": \"Artist\", \"sort\": \"-x\", \"title\": \"Artist\", \"type\": \"nominal\"}}, \"title\": \"Sales among all albums per artist (min, median, max)\", \"width\": 450, \"$schema\": \"https://vega.github.io/schema/vega-lite/v5.17.0.json\", \"datasets\": {\"data-db39071cae9f800ffde39ceafcbb23ef\": [{\"Artist\": \"Taylor Swift\", \"Album\": \"Taylor Swift\", \"Year\": 2006, \"Songs\": 13.0, \"Sales\": 7275000}, {\"Artist\": \"Taylor Swift\", \"Album\": \"Fearless\", \"Year\": 2008, \"Songs\": 13.0, \"Sales\": 11911000}, {\"Artist\": \"Taylor Swift\", \"Album\": \"Speak Now\", \"Year\": 2010, \"Songs\": 14.0, \"Sales\": 6917500}, {\"Artist\": \"Taylor Swift\", \"Album\": \"Red\", \"Year\": 2012, \"Songs\": 16.0, \"Sales\": 8889124}, {\"Artist\": \"Taylor Swift\", \"Album\": \"1989\", \"Year\": 2014, \"Songs\": 13.0, \"Sales\": 14748116}, {\"Artist\": \"Taylor Swift\", \"Album\": \"Reputation\", \"Year\": 2017, \"Songs\": 15.0, \"Sales\": 6186524}, {\"Artist\": \"Taylor Swift\", \"Album\": \"Lover\", \"Year\": 2019, \"Songs\": 18.0, \"Sales\": 5686733}, {\"Artist\": \"Taylor Swift\", \"Album\": \"floklore (deluxe version)\", \"Year\": 2020, \"Songs\": null, \"Sales\": 4360487}, {\"Artist\": \"Taylor Swift\", \"Album\": \"midnights\", \"Year\": 2022, \"Songs\": null, \"Sales\": 3387836}, {\"Artist\": \"Taylor Swift\", \"Album\": \"Fearless (Taylor's Version)\", \"Year\": 2021, \"Songs\": 20.0, \"Sales\": 1557687}, {\"Artist\": \"Taylor Swift\", \"Album\": \"Red (Taylor's Version)\", \"Year\": 2021, \"Songs\": 30.0, \"Sales\": 1696632}, {\"Artist\": \"Taylor Swift\", \"Album\": \"1989 (Taylor's version)\", \"Year\": 2023, \"Songs\": null, \"Sales\": 14748116}, {\"Artist\": \"Taylor Swift\", \"Album\": \"evermore (deluxe version)\", \"Year\": 2021, \"Songs\": null, \"Sales\": 1998779}, {\"Artist\": \"Post Malone\", \"Album\": \"Stoney\", \"Year\": 2016, \"Songs\": 11.0, \"Sales\": 7275000}, {\"Artist\": \"Post Malone\", \"Album\": \"Beerbongs & Bentleys\", \"Year\": 2018, \"Songs\": 14.0, \"Sales\": 11911000}, {\"Artist\": \"Post Malone\", \"Album\": \"Hollywood's Bleeding\", \"Year\": 2019, \"Songs\": 17.0, \"Sales\": 6186524}, {\"Artist\": \"Post Malone\", \"Album\": \"Twelve Carat Toothache\", \"Year\": 2022, \"Songs\": null, \"Sales\": 3387836}, {\"Artist\": \"Post Malone\", \"Album\": \"Austin\", \"Year\": 2022, \"Songs\": null, \"Sales\": 1998779}, {\"Artist\": \"Ariana Grande\", \"Album\": \"Yours Truly\", \"Year\": 2013, \"Songs\": 12.0, \"Sales\": 1305000}, {\"Artist\": \"Ariana Grande\", \"Album\": \"My Everything\", \"Year\": 2014, \"Songs\": 13.0, \"Sales\": 3506212}, {\"Artist\": \"Ariana Grande\", \"Album\": \"Dangerous Woman\", \"Year\": 2016, \"Songs\": 12.0, \"Sales\": 3632374}, {\"Artist\": \"Ariana Grande\", \"Album\": \"Sweetener\", \"Year\": 2018, \"Songs\": 15.0, \"Sales\": 1994479}, {\"Artist\": \"Ariana Grande\", \"Album\": \"Thank U, Next\", \"Year\": 2019, \"Songs\": 12.0, \"Sales\": 3775436}, {\"Artist\": \"Ariana Grande\", \"Album\": \"Positions\", \"Year\": 2020, \"Songs\": null, \"Sales\": 1603367}, {\"Artist\": \"Drake\", \"Album\": \"Thank Me Later\", \"Year\": 2010, \"Songs\": 16.0, \"Sales\": 3460000}, {\"Artist\": \"Drake\", \"Album\": \"Take Care\", \"Year\": 2011, \"Songs\": 13.0, \"Sales\": 6920000}, {\"Artist\": \"Drake\", \"Album\": \"Nothing Was the Same\", \"Year\": 2013, \"Songs\": 17.0, \"Sales\": 4595000}, {\"Artist\": \"Drake\", \"Album\": \"Views\", \"Year\": 2016, \"Songs\": 20.0, \"Sales\": 7687247}, {\"Artist\": \"Drake\", \"Album\": \"Scorpion\", \"Year\": 2018, \"Songs\": 25.0, \"Sales\": 6433983}, {\"Artist\": \"Drake\", \"Album\": \"More Life \", \"Year\": 2017, \"Songs\": null, \"Sales\": 4005250}, {\"Artist\": \"Drake\", \"Album\": \"If you're reading this its too late\", \"Year\": 2015, \"Songs\": null, \"Sales\": 3480000}, {\"Artist\": \"Billie Eilish\", \"Album\": \"Happier than ever\", \"Year\": 2021, \"Songs\": null, \"Sales\": 885000}, {\"Artist\": \"Billie Eilish\", \"Album\": \"Don't smile at me\", \"Year\": 2017, \"Songs\": null, \"Sales\": 2434691}, {\"Artist\": \"Billie Eilish\", \"Album\": \"When We All Fall Asleep, Where Do We Go?\", \"Year\": 2019, \"Songs\": 14.0, \"Sales\": 7256516}, {\"Artist\": \"Lady Gaga\", \"Album\": \"The Fame\", \"Year\": 2008, \"Songs\": 11.0, \"Sales\": 14350358}, {\"Artist\": \"Lady Gaga\", \"Album\": \"The Fame Monster\", \"Year\": 2009, \"Songs\": null, \"Sales\": 8298000}, {\"Artist\": \"Lady Gaga\", \"Album\": \"Born This Way\", \"Year\": 2011, \"Songs\": 14.0, \"Sales\": 7166944}, {\"Artist\": \"Lady Gaga\", \"Album\": \"Artpop\", \"Year\": 2013, \"Songs\": 15.0, \"Sales\": 2300000}, {\"Artist\": \"Lady Gaga\", \"Album\": \"Cheek to Cheek\", \"Year\": 2014, \"Songs\": 11.0, \"Sales\": 715000}, {\"Artist\": \"Lady Gaga\", \"Album\": \"A Star is born (soundtrack)\", \"Year\": 2018, \"Songs\": null, \"Sales\": 4270810}, {\"Artist\": \"Lady Gaga\", \"Album\": \"Chromatica\", \"Year\": 2020, \"Songs\": null, \"Sales\": 1483784}, {\"Artist\": \"Lady Gaga\", \"Album\": \"Joanne\", \"Year\": 2016, \"Songs\": null, \"Sales\": 1305793}, {\"Artist\": \"Rihanna\", \"Album\": \"Good Girl Gone Bad\", \"Year\": 2007, \"Songs\": 12.0, \"Sales\": 10854803}, {\"Artist\": \"Rihanna\", \"Album\": \"Rated R\", \"Year\": 2009, \"Songs\": 12.0, \"Sales\": 3183000}, {\"Artist\": \"Rihanna\", \"Album\": \"Loud\", \"Year\": 2010, \"Songs\": 14.0, \"Sales\": 6673000}, {\"Artist\": \"Rihanna\", \"Album\": \"Talk That Talk\", \"Year\": 2011, \"Songs\": 11.0, \"Sales\": 4628000}, {\"Artist\": \"Rihanna\", \"Album\": \"Unapologetic\", \"Year\": 2012, \"Songs\": 12.0, \"Sales\": 4382500}, {\"Artist\": \"Rihanna\", \"Album\": \"Anti\", \"Year\": 2016, \"Songs\": null, \"Sales\": 6537235}, {\"Artist\": \"Rihanna\", \"Album\": \"A girl like me\", \"Year\": 2006, \"Songs\": null, \"Sales\": 3377500}, {\"Artist\": \"Rihanna\", \"Album\": \"Music of the sun\", \"Year\": 2005, \"Songs\": null, \"Sales\": 1407500}, {\"Artist\": \"The Weeknd\", \"Album\": \"House of Balloons\", \"Year\": 2011, \"Songs\": 8.0, \"Sales\": 180000}, {\"Artist\": \"The Weeknd\", \"Album\": \"Dawn FM\", \"Year\": 2022, \"Songs\": null, \"Sales\": 340000}, {\"Artist\": \"The Weeknd\", \"Album\": \"Kiss Land\", \"Year\": 2013, \"Songs\": 13.0, \"Sales\": 640000}, {\"Artist\": \"The Weeknd\", \"Album\": \"Beauty Behind the Madness\", \"Year\": 2015, \"Songs\": 14.0, \"Sales\": 7584588}, {\"Artist\": \"The Weeknd\", \"Album\": \"Starboy\", \"Year\": 2016, \"Songs\": 18.0, \"Sales\": 6070666}, {\"Artist\": \"The Weeknd\", \"Album\": \"My Dear Melancholy\", \"Year\": 2018, \"Songs\": 6.0, \"Sales\": 1201541}, {\"Artist\": \"The Weeknd\", \"Album\": \"After Hours\", \"Year\": 2020, \"Songs\": 14.0, \"Sales\": 4958942}, {\"Artist\": \"The Weeknd\", \"Album\": \"The highlights\", \"Year\": 2021, \"Songs\": null, \"Sales\": 2116000}, {\"Artist\": \"The Weeknd\", \"Album\": \"Trilogy\", \"Year\": 2012, \"Songs\": null, \"Sales\": 1360000}, {\"Artist\": \"Ed Sheeran\", \"Album\": \"+\", \"Year\": 2011, \"Songs\": 12.0, \"Sales\": 7705000}, {\"Artist\": \"Ed Sheeran\", \"Album\": \"x\", \"Year\": 2014, \"Songs\": 12.0, \"Sales\": 11879785}, {\"Artist\": \"Ed Sheeran\", \"Album\": \"\\u00f7\", \"Year\": 2017, \"Songs\": 12.0, \"Sales\": 13787460}, {\"Artist\": \"Ed Sheeran\", \"Album\": \"=\", \"Year\": 2021, \"Songs\": null, \"Sales\": 1862489}, {\"Artist\": \"Ed Sheeran\", \"Album\": \"No.6 Collaborations Project\", \"Year\": 2019, \"Songs\": 15.0, \"Sales\": 2631838}, {\"Artist\": \"Justin Bieber\", \"Album\": \"My World 2.0\", \"Year\": 2010, \"Songs\": 12.0, \"Sales\": 5235395}, {\"Artist\": \"Justin Bieber\", \"Album\": \"Believe\", \"Year\": 2012, \"Songs\": 13.0, \"Sales\": 4141507}, {\"Artist\": \"Justin Bieber\", \"Album\": \"Purpose\", \"Year\": 2015, \"Songs\": 13.0, \"Sales\": 14000000}, {\"Artist\": \"Justin Bieber\", \"Album\": \"Changes\", \"Year\": 2020, \"Songs\": 17.0, \"Sales\": 2182351}, {\"Artist\": \"Justin Bieber\", \"Album\": \"My World\", \"Year\": 2010, \"Songs\": null, \"Sales\": 3980000}, {\"Artist\": \"Justin Bieber\", \"Album\": \"Justice\", \"Year\": 2021, \"Songs\": null, \"Sales\": 3793131}, {\"Artist\": \"Justin Bieber\", \"Album\": \"Under the Mistletoe\", \"Year\": 2011, \"Songs\": null, \"Sales\": 2700725}, {\"Artist\": \"Justin Bieber\", \"Album\": \"Never say never - the remixes\", \"Year\": 2011, \"Songs\": null, \"Sales\": 1133000}, {\"Artist\": \"Justin Bieber\", \"Album\": \"Journals\", \"Year\": 2013, \"Songs\": null, \"Sales\": 1080000}, {\"Artist\": \"Shakira\", \"Album\": \"Laundry service\", \"Year\": 2001, \"Songs\": null, \"Sales\": 13000000}, {\"Artist\": \"Shakira\", \"Album\": \"Fijaci\\u00f3n oral Vol 1\", \"Year\": 2005, \"Songs\": null, \"Sales\": 3150519}, {\"Artist\": \"Shakira\", \"Album\": \"Oral Fixation vol 2\", \"Year\": 2005, \"Songs\": null, \"Sales\": 2878001}, {\"Artist\": \"Shakira\", \"Album\": \"Pies Descalzos\", \"Year\": 1995, \"Songs\": null, \"Sales\": 2695000}, {\"Artist\": \"Shakira\", \"Album\": \"Donde est\\u00e1n los ladrones\", \"Year\": 1998, \"Songs\": null, \"Sales\": 2551351}, {\"Artist\": \"Shakira\", \"Album\": \"Sale el sol / The sun comes out\", \"Year\": 2010, \"Songs\": null, \"Sales\": 2389939}, {\"Artist\": \"Shakira\", \"Album\": \"El dorado\", \"Year\": 2017, \"Songs\": null, \"Sales\": 985000}, {\"Artist\": \"Shakira\", \"Album\": \"MTV Umplugged\", \"Year\": 2000, \"Songs\": null, \"Sales\": 828663}]}}, {\"mode\": \"vega-lite\"});\n",
       "</script>"
      ],
      "text/plain": [
       "alt.Chart(...)"
      ]
     },
     "execution_count": 31,
     "metadata": {},
     "output_type": "execute_result"
    }
   ],
   "source": [
    "chq3c = alt.Chart(top_artists).mark_boxplot().encode(\n",
    "    x=alt.X('Sales:Q', title = 'Sales'),\n",
    "    y=alt.Y('Artist:N', title = 'Artist').sort('-x'),\n",
    "    color = alt.Color('Artist:N', scale = alt.Scale(scheme = colorgorical)),\n",
    ").properties(title = r\"Sales among all albums per artist (min, median, max)\", width=450)\n",
    "chq3c"
   ]
  },
  {
   "cell_type": "code",
   "execution_count": 32,
   "metadata": {
    "colab": {
     "base_uri": "https://localhost:8080/",
     "height": 464
    },
    "executionInfo": {
     "elapsed": 11,
     "status": "ok",
     "timestamp": 1716379807675,
     "user": {
      "displayName": "Alexandros Tremopoulos",
      "userId": "18030826848297166341"
     },
     "user_tz": -120
    },
    "id": "V9jb_Gj3CRVj",
    "outputId": "631b788e-6f9b-4ff0-e3c1-9afdb48ae665"
   },
   "outputs": [
    {
     "data": {
      "text/html": [
       "\n",
       "<style>\n",
       "  #altair-viz-03b3d79c92dc4249a3b121eb72ec862f.vega-embed {\n",
       "    width: 100%;\n",
       "    display: flex;\n",
       "  }\n",
       "\n",
       "  #altair-viz-03b3d79c92dc4249a3b121eb72ec862f.vega-embed details,\n",
       "  #altair-viz-03b3d79c92dc4249a3b121eb72ec862f.vega-embed details summary {\n",
       "    position: relative;\n",
       "  }\n",
       "</style>\n",
       "<div id=\"altair-viz-03b3d79c92dc4249a3b121eb72ec862f\"></div>\n",
       "<script type=\"text/javascript\">\n",
       "  var VEGA_DEBUG = (typeof VEGA_DEBUG == \"undefined\") ? {} : VEGA_DEBUG;\n",
       "  (function(spec, embedOpt){\n",
       "    let outputDiv = document.currentScript.previousElementSibling;\n",
       "    if (outputDiv.id !== \"altair-viz-03b3d79c92dc4249a3b121eb72ec862f\") {\n",
       "      outputDiv = document.getElementById(\"altair-viz-03b3d79c92dc4249a3b121eb72ec862f\");\n",
       "    }\n",
       "    const paths = {\n",
       "      \"vega\": \"https://cdn.jsdelivr.net/npm/vega@5?noext\",\n",
       "      \"vega-lib\": \"https://cdn.jsdelivr.net/npm/vega-lib?noext\",\n",
       "      \"vega-lite\": \"https://cdn.jsdelivr.net/npm/vega-lite@5.17.0?noext\",\n",
       "      \"vega-embed\": \"https://cdn.jsdelivr.net/npm/vega-embed@6?noext\",\n",
       "    };\n",
       "\n",
       "    function maybeLoadScript(lib, version) {\n",
       "      var key = `${lib.replace(\"-\", \"\")}_version`;\n",
       "      return (VEGA_DEBUG[key] == version) ?\n",
       "        Promise.resolve(paths[lib]) :\n",
       "        new Promise(function(resolve, reject) {\n",
       "          var s = document.createElement('script');\n",
       "          document.getElementsByTagName(\"head\")[0].appendChild(s);\n",
       "          s.async = true;\n",
       "          s.onload = () => {\n",
       "            VEGA_DEBUG[key] = version;\n",
       "            return resolve(paths[lib]);\n",
       "          };\n",
       "          s.onerror = () => reject(`Error loading script: ${paths[lib]}`);\n",
       "          s.src = paths[lib];\n",
       "        });\n",
       "    }\n",
       "\n",
       "    function showError(err) {\n",
       "      outputDiv.innerHTML = `<div class=\"error\" style=\"color:red;\">${err}</div>`;\n",
       "      throw err;\n",
       "    }\n",
       "\n",
       "    function displayChart(vegaEmbed) {\n",
       "      vegaEmbed(outputDiv, spec, embedOpt)\n",
       "        .catch(err => showError(`Javascript Error: ${err.message}<br>This usually means there's a typo in your chart specification. See the javascript console for the full traceback.`));\n",
       "    }\n",
       "\n",
       "    if(typeof define === \"function\" && define.amd) {\n",
       "      requirejs.config({paths});\n",
       "      require([\"vega-embed\"], displayChart, err => showError(`Error loading script: ${err.message}`));\n",
       "    } else {\n",
       "      maybeLoadScript(\"vega\", \"5\")\n",
       "        .then(() => maybeLoadScript(\"vega-lite\", \"5.17.0\"))\n",
       "        .then(() => maybeLoadScript(\"vega-embed\", \"6\"))\n",
       "        .catch(showError)\n",
       "        .then(() => displayChart(vegaEmbed));\n",
       "    }\n",
       "  })({\"config\": {\"view\": {\"continuousWidth\": 300, \"continuousHeight\": 300}}, \"hconcat\": [{\"mark\": {\"type\": \"circle\"}, \"encoding\": {\"color\": {\"field\": \"Artist\", \"scale\": {\"scheme\": [\"rgb(105,239,123)\", \"rgb(216,21,180)\", \"rgb(172,225,183)\", \"rgb(120,40,87)\", \"rgb(37,184,234)\", \"rgb(32,80,46)\", \"rgb(250,175,227)\", \"rgb(52,70,109)\", \"rgb(192,225,92)\", \"rgb(114,68,185)\", \"rgb(99,161,34)\"]}, \"type\": \"nominal\"}, \"x\": {\"field\": \"Artist\", \"sort\": \"-y\", \"title\": \"Artist Name\", \"type\": \"nominal\"}, \"y\": {\"field\": \"Sales\", \"title\": \"Mean of Sales\", \"type\": \"quantitative\"}}, \"name\": \"view_3\", \"title\": \"Mean of sales among all albums per artist\", \"width\": 300}, {\"mark\": {\"type\": \"circle\"}, \"encoding\": {\"color\": {\"condition\": {\"param\": \"param_1\", \"value\": \"crimson\", \"empty\": false}, \"field\": \"Artist\", \"scale\": {\"scheme\": [\"rgb(105,239,123)\", \"rgb(216,21,180)\", \"rgb(172,225,183)\", \"rgb(120,40,87)\", \"rgb(37,184,234)\", \"rgb(32,80,46)\", \"rgb(250,175,227)\", \"rgb(52,70,109)\", \"rgb(192,225,92)\", \"rgb(114,68,185)\", \"rgb(99,161,34)\"]}, \"type\": \"nominal\"}, \"size\": {\"condition\": {\"param\": \"param_1\", \"value\": 80, \"empty\": false}, \"value\": 30}, \"x\": {\"field\": \"Artist\", \"sort\": \"-y\", \"title\": \"Artist Name\", \"type\": \"nominal\"}, \"y\": {\"field\": \"Albums\", \"title\": \"Number of Albums\", \"type\": \"quantitative\"}}, \"name\": \"view_4\", \"title\": \"Number of albums per artist\", \"width\": 300}, {\"data\": {\"name\": \"data-db39071cae9f800ffde39ceafcbb23ef\"}, \"mark\": {\"type\": \"boxplot\"}, \"encoding\": {\"color\": {\"field\": \"Artist\", \"scale\": {\"scheme\": [\"rgb(105,239,123)\", \"rgb(216,21,180)\", \"rgb(172,225,183)\", \"rgb(120,40,87)\", \"rgb(37,184,234)\", \"rgb(32,80,46)\", \"rgb(250,175,227)\", \"rgb(52,70,109)\", \"rgb(192,225,92)\", \"rgb(114,68,185)\", \"rgb(99,161,34)\"]}, \"type\": \"nominal\"}, \"x\": {\"field\": \"Sales\", \"title\": \"Sales\", \"type\": \"quantitative\"}, \"y\": {\"field\": \"Artist\", \"sort\": \"-x\", \"title\": \"Artist\", \"type\": \"nominal\"}}, \"title\": \"Sales among all albums per artist (min, median, max)\", \"width\": 450}], \"data\": {\"name\": \"data-4860be28f7352ffee24f2dbc2647e944\"}, \"params\": [{\"name\": \"param_1\", \"select\": {\"type\": \"interval\", \"encodings\": [\"y\"]}, \"views\": [\"view_3\", \"view_4\"]}], \"$schema\": \"https://vega.github.io/schema/vega-lite/v5.17.0.json\", \"datasets\": {\"data-4860be28f7352ffee24f2dbc2647e944\": [{\"Artist\": \"Ariana Grande\", \"Sales\": 2636144.6666666665, \"Albums\": 6}, {\"Artist\": \"Billie Eilish\", \"Sales\": 3525402.3333333335, \"Albums\": 3}, {\"Artist\": \"Drake\", \"Sales\": 5225925.714285715, \"Albums\": 7}, {\"Artist\": \"Ed Sheeran\", \"Sales\": 7573314.4, \"Albums\": 5}, {\"Artist\": \"Justin Bieber\", \"Sales\": 4249567.666666667, \"Albums\": 9}, {\"Artist\": \"Lady Gaga\", \"Sales\": 4986336.125, \"Albums\": 8}, {\"Artist\": \"Post Malone\", \"Sales\": 6151827.8, \"Albums\": 5}, {\"Artist\": \"Rihanna\", \"Sales\": 5130442.25, \"Albums\": 8}, {\"Artist\": \"Shakira\", \"Sales\": 3559809.125, \"Albums\": 8}, {\"Artist\": \"Taylor Swift\", \"Sales\": 6874118.0, \"Albums\": 13}, {\"Artist\": \"The Weeknd\", \"Sales\": 2716859.6666666665, \"Albums\": 9}], \"data-db39071cae9f800ffde39ceafcbb23ef\": [{\"Artist\": \"Taylor Swift\", \"Album\": \"Taylor Swift\", \"Year\": 2006, \"Songs\": 13.0, \"Sales\": 7275000}, {\"Artist\": \"Taylor Swift\", \"Album\": \"Fearless\", \"Year\": 2008, \"Songs\": 13.0, \"Sales\": 11911000}, {\"Artist\": \"Taylor Swift\", \"Album\": \"Speak Now\", \"Year\": 2010, \"Songs\": 14.0, \"Sales\": 6917500}, {\"Artist\": \"Taylor Swift\", \"Album\": \"Red\", \"Year\": 2012, \"Songs\": 16.0, \"Sales\": 8889124}, {\"Artist\": \"Taylor Swift\", \"Album\": \"1989\", \"Year\": 2014, \"Songs\": 13.0, \"Sales\": 14748116}, {\"Artist\": \"Taylor Swift\", \"Album\": \"Reputation\", \"Year\": 2017, \"Songs\": 15.0, \"Sales\": 6186524}, {\"Artist\": \"Taylor Swift\", \"Album\": \"Lover\", \"Year\": 2019, \"Songs\": 18.0, \"Sales\": 5686733}, {\"Artist\": \"Taylor Swift\", \"Album\": \"floklore (deluxe version)\", \"Year\": 2020, \"Songs\": null, \"Sales\": 4360487}, {\"Artist\": \"Taylor Swift\", \"Album\": \"midnights\", \"Year\": 2022, \"Songs\": null, \"Sales\": 3387836}, {\"Artist\": \"Taylor Swift\", \"Album\": \"Fearless (Taylor's Version)\", \"Year\": 2021, \"Songs\": 20.0, \"Sales\": 1557687}, {\"Artist\": \"Taylor Swift\", \"Album\": \"Red (Taylor's Version)\", \"Year\": 2021, \"Songs\": 30.0, \"Sales\": 1696632}, {\"Artist\": \"Taylor Swift\", \"Album\": \"1989 (Taylor's version)\", \"Year\": 2023, \"Songs\": null, \"Sales\": 14748116}, {\"Artist\": \"Taylor Swift\", \"Album\": \"evermore (deluxe version)\", \"Year\": 2021, \"Songs\": null, \"Sales\": 1998779}, {\"Artist\": \"Post Malone\", \"Album\": \"Stoney\", \"Year\": 2016, \"Songs\": 11.0, \"Sales\": 7275000}, {\"Artist\": \"Post Malone\", \"Album\": \"Beerbongs & Bentleys\", \"Year\": 2018, \"Songs\": 14.0, \"Sales\": 11911000}, {\"Artist\": \"Post Malone\", \"Album\": \"Hollywood's Bleeding\", \"Year\": 2019, \"Songs\": 17.0, \"Sales\": 6186524}, {\"Artist\": \"Post Malone\", \"Album\": \"Twelve Carat Toothache\", \"Year\": 2022, \"Songs\": null, \"Sales\": 3387836}, {\"Artist\": \"Post Malone\", \"Album\": \"Austin\", \"Year\": 2022, \"Songs\": null, \"Sales\": 1998779}, {\"Artist\": \"Ariana Grande\", \"Album\": \"Yours Truly\", \"Year\": 2013, \"Songs\": 12.0, \"Sales\": 1305000}, {\"Artist\": \"Ariana Grande\", \"Album\": \"My Everything\", \"Year\": 2014, \"Songs\": 13.0, \"Sales\": 3506212}, {\"Artist\": \"Ariana Grande\", \"Album\": \"Dangerous Woman\", \"Year\": 2016, \"Songs\": 12.0, \"Sales\": 3632374}, {\"Artist\": \"Ariana Grande\", \"Album\": \"Sweetener\", \"Year\": 2018, \"Songs\": 15.0, \"Sales\": 1994479}, {\"Artist\": \"Ariana Grande\", \"Album\": \"Thank U, Next\", \"Year\": 2019, \"Songs\": 12.0, \"Sales\": 3775436}, {\"Artist\": \"Ariana Grande\", \"Album\": \"Positions\", \"Year\": 2020, \"Songs\": null, \"Sales\": 1603367}, {\"Artist\": \"Drake\", \"Album\": \"Thank Me Later\", \"Year\": 2010, \"Songs\": 16.0, \"Sales\": 3460000}, {\"Artist\": \"Drake\", \"Album\": \"Take Care\", \"Year\": 2011, \"Songs\": 13.0, \"Sales\": 6920000}, {\"Artist\": \"Drake\", \"Album\": \"Nothing Was the Same\", \"Year\": 2013, \"Songs\": 17.0, \"Sales\": 4595000}, {\"Artist\": \"Drake\", \"Album\": \"Views\", \"Year\": 2016, \"Songs\": 20.0, \"Sales\": 7687247}, {\"Artist\": \"Drake\", \"Album\": \"Scorpion\", \"Year\": 2018, \"Songs\": 25.0, \"Sales\": 6433983}, {\"Artist\": \"Drake\", \"Album\": \"More Life \", \"Year\": 2017, \"Songs\": null, \"Sales\": 4005250}, {\"Artist\": \"Drake\", \"Album\": \"If you're reading this its too late\", \"Year\": 2015, \"Songs\": null, \"Sales\": 3480000}, {\"Artist\": \"Billie Eilish\", \"Album\": \"Happier than ever\", \"Year\": 2021, \"Songs\": null, \"Sales\": 885000}, {\"Artist\": \"Billie Eilish\", \"Album\": \"Don't smile at me\", \"Year\": 2017, \"Songs\": null, \"Sales\": 2434691}, {\"Artist\": \"Billie Eilish\", \"Album\": \"When We All Fall Asleep, Where Do We Go?\", \"Year\": 2019, \"Songs\": 14.0, \"Sales\": 7256516}, {\"Artist\": \"Lady Gaga\", \"Album\": \"The Fame\", \"Year\": 2008, \"Songs\": 11.0, \"Sales\": 14350358}, {\"Artist\": \"Lady Gaga\", \"Album\": \"The Fame Monster\", \"Year\": 2009, \"Songs\": null, \"Sales\": 8298000}, {\"Artist\": \"Lady Gaga\", \"Album\": \"Born This Way\", \"Year\": 2011, \"Songs\": 14.0, \"Sales\": 7166944}, {\"Artist\": \"Lady Gaga\", \"Album\": \"Artpop\", \"Year\": 2013, \"Songs\": 15.0, \"Sales\": 2300000}, {\"Artist\": \"Lady Gaga\", \"Album\": \"Cheek to Cheek\", \"Year\": 2014, \"Songs\": 11.0, \"Sales\": 715000}, {\"Artist\": \"Lady Gaga\", \"Album\": \"A Star is born (soundtrack)\", \"Year\": 2018, \"Songs\": null, \"Sales\": 4270810}, {\"Artist\": \"Lady Gaga\", \"Album\": \"Chromatica\", \"Year\": 2020, \"Songs\": null, \"Sales\": 1483784}, {\"Artist\": \"Lady Gaga\", \"Album\": \"Joanne\", \"Year\": 2016, \"Songs\": null, \"Sales\": 1305793}, {\"Artist\": \"Rihanna\", \"Album\": \"Good Girl Gone Bad\", \"Year\": 2007, \"Songs\": 12.0, \"Sales\": 10854803}, {\"Artist\": \"Rihanna\", \"Album\": \"Rated R\", \"Year\": 2009, \"Songs\": 12.0, \"Sales\": 3183000}, {\"Artist\": \"Rihanna\", \"Album\": \"Loud\", \"Year\": 2010, \"Songs\": 14.0, \"Sales\": 6673000}, {\"Artist\": \"Rihanna\", \"Album\": \"Talk That Talk\", \"Year\": 2011, \"Songs\": 11.0, \"Sales\": 4628000}, {\"Artist\": \"Rihanna\", \"Album\": \"Unapologetic\", \"Year\": 2012, \"Songs\": 12.0, \"Sales\": 4382500}, {\"Artist\": \"Rihanna\", \"Album\": \"Anti\", \"Year\": 2016, \"Songs\": null, \"Sales\": 6537235}, {\"Artist\": \"Rihanna\", \"Album\": \"A girl like me\", \"Year\": 2006, \"Songs\": null, \"Sales\": 3377500}, {\"Artist\": \"Rihanna\", \"Album\": \"Music of the sun\", \"Year\": 2005, \"Songs\": null, \"Sales\": 1407500}, {\"Artist\": \"The Weeknd\", \"Album\": \"House of Balloons\", \"Year\": 2011, \"Songs\": 8.0, \"Sales\": 180000}, {\"Artist\": \"The Weeknd\", \"Album\": \"Dawn FM\", \"Year\": 2022, \"Songs\": null, \"Sales\": 340000}, {\"Artist\": \"The Weeknd\", \"Album\": \"Kiss Land\", \"Year\": 2013, \"Songs\": 13.0, \"Sales\": 640000}, {\"Artist\": \"The Weeknd\", \"Album\": \"Beauty Behind the Madness\", \"Year\": 2015, \"Songs\": 14.0, \"Sales\": 7584588}, {\"Artist\": \"The Weeknd\", \"Album\": \"Starboy\", \"Year\": 2016, \"Songs\": 18.0, \"Sales\": 6070666}, {\"Artist\": \"The Weeknd\", \"Album\": \"My Dear Melancholy\", \"Year\": 2018, \"Songs\": 6.0, \"Sales\": 1201541}, {\"Artist\": \"The Weeknd\", \"Album\": \"After Hours\", \"Year\": 2020, \"Songs\": 14.0, \"Sales\": 4958942}, {\"Artist\": \"The Weeknd\", \"Album\": \"The highlights\", \"Year\": 2021, \"Songs\": null, \"Sales\": 2116000}, {\"Artist\": \"The Weeknd\", \"Album\": \"Trilogy\", \"Year\": 2012, \"Songs\": null, \"Sales\": 1360000}, {\"Artist\": \"Ed Sheeran\", \"Album\": \"+\", \"Year\": 2011, \"Songs\": 12.0, \"Sales\": 7705000}, {\"Artist\": \"Ed Sheeran\", \"Album\": \"x\", \"Year\": 2014, \"Songs\": 12.0, \"Sales\": 11879785}, {\"Artist\": \"Ed Sheeran\", \"Album\": \"\\u00f7\", \"Year\": 2017, \"Songs\": 12.0, \"Sales\": 13787460}, {\"Artist\": \"Ed Sheeran\", \"Album\": \"=\", \"Year\": 2021, \"Songs\": null, \"Sales\": 1862489}, {\"Artist\": \"Ed Sheeran\", \"Album\": \"No.6 Collaborations Project\", \"Year\": 2019, \"Songs\": 15.0, \"Sales\": 2631838}, {\"Artist\": \"Justin Bieber\", \"Album\": \"My World 2.0\", \"Year\": 2010, \"Songs\": 12.0, \"Sales\": 5235395}, {\"Artist\": \"Justin Bieber\", \"Album\": \"Believe\", \"Year\": 2012, \"Songs\": 13.0, \"Sales\": 4141507}, {\"Artist\": \"Justin Bieber\", \"Album\": \"Purpose\", \"Year\": 2015, \"Songs\": 13.0, \"Sales\": 14000000}, {\"Artist\": \"Justin Bieber\", \"Album\": \"Changes\", \"Year\": 2020, \"Songs\": 17.0, \"Sales\": 2182351}, {\"Artist\": \"Justin Bieber\", \"Album\": \"My World\", \"Year\": 2010, \"Songs\": null, \"Sales\": 3980000}, {\"Artist\": \"Justin Bieber\", \"Album\": \"Justice\", \"Year\": 2021, \"Songs\": null, \"Sales\": 3793131}, {\"Artist\": \"Justin Bieber\", \"Album\": \"Under the Mistletoe\", \"Year\": 2011, \"Songs\": null, \"Sales\": 2700725}, {\"Artist\": \"Justin Bieber\", \"Album\": \"Never say never - the remixes\", \"Year\": 2011, \"Songs\": null, \"Sales\": 1133000}, {\"Artist\": \"Justin Bieber\", \"Album\": \"Journals\", \"Year\": 2013, \"Songs\": null, \"Sales\": 1080000}, {\"Artist\": \"Shakira\", \"Album\": \"Laundry service\", \"Year\": 2001, \"Songs\": null, \"Sales\": 13000000}, {\"Artist\": \"Shakira\", \"Album\": \"Fijaci\\u00f3n oral Vol 1\", \"Year\": 2005, \"Songs\": null, \"Sales\": 3150519}, {\"Artist\": \"Shakira\", \"Album\": \"Oral Fixation vol 2\", \"Year\": 2005, \"Songs\": null, \"Sales\": 2878001}, {\"Artist\": \"Shakira\", \"Album\": \"Pies Descalzos\", \"Year\": 1995, \"Songs\": null, \"Sales\": 2695000}, {\"Artist\": \"Shakira\", \"Album\": \"Donde est\\u00e1n los ladrones\", \"Year\": 1998, \"Songs\": null, \"Sales\": 2551351}, {\"Artist\": \"Shakira\", \"Album\": \"Sale el sol / The sun comes out\", \"Year\": 2010, \"Songs\": null, \"Sales\": 2389939}, {\"Artist\": \"Shakira\", \"Album\": \"El dorado\", \"Year\": 2017, \"Songs\": null, \"Sales\": 985000}, {\"Artist\": \"Shakira\", \"Album\": \"MTV Umplugged\", \"Year\": 2000, \"Songs\": null, \"Sales\": 828663}]}}, {\"mode\": \"vega-lite\"});\n",
       "</script>"
      ],
      "text/plain": [
       "alt.HConcatChart(...)"
      ]
     },
     "execution_count": 32,
     "metadata": {},
     "output_type": "execute_result"
    }
   ],
   "source": [
    "chq3a | chq3b | chq3c"
   ]
  },
  {
   "cell_type": "markdown",
   "metadata": {
    "id": "gvIbGcrtLb3o"
   },
   "source": [
    "**Answer to Q3:** The above 3 charts are my final answer to Q3. I created two interactive scatterplots, where in the left one with the mean of sales among all albums per artist and if you select an interval containing some points(artists) you will see the number of albums this artist has in his/her career in the central chart. Also I add to this answer a chart with boxplots in which we can see for each artist the min, median, max, Q1 and Q3 of their album sales in their whole career."
   ]
  },
  {
   "cell_type": "markdown",
   "metadata": {
    "id": "de568u9w0dJJ"
   },
   "source": [
    "## Q4: Compare how the concerts have performed for a subset of artists"
   ]
  },
  {
   "cell_type": "markdown",
   "metadata": {
    "id": "FMsa3n4haXug"
   },
   "source": [
    "For Q4 and Q5 we need to augment our data with information regarding concerts of the artists. I searched a lot online to find data similar to the data you had provided us in the previous lab about Taylor Swift and her concerts. There is nothing similar to such data from other artists. However I tried some charts if I had similar data with Swift's. I will discuss below what data I eventually used."
   ]
  },
  {
   "cell_type": "code",
   "execution_count": 33,
   "metadata": {
    "colab": {
     "base_uri": "https://localhost:8080/",
     "height": 206
    },
    "executionInfo": {
     "elapsed": 688,
     "status": "ok",
     "timestamp": 1716379808354,
     "user": {
      "displayName": "Alexandros Tremopoulos",
      "userId": "18030826848297166341"
     },
     "user_tz": -120
    },
    "id": "llXsUtjnKj6j",
    "outputId": "30f35529-0f90-45a5-86be-dc8ac536eb25"
   },
   "outputs": [
    {
     "data": {
      "text/html": [
       "<div>\n",
       "<style scoped>\n",
       "    .dataframe tbody tr th:only-of-type {\n",
       "        vertical-align: middle;\n",
       "    }\n",
       "\n",
       "    .dataframe tbody tr th {\n",
       "        vertical-align: top;\n",
       "    }\n",
       "\n",
       "    .dataframe thead th {\n",
       "        text-align: right;\n",
       "    }\n",
       "</style>\n",
       "<table border=\"1\" class=\"dataframe\">\n",
       "  <thead>\n",
       "    <tr style=\"text-align: right;\">\n",
       "      <th></th>\n",
       "      <th>City</th>\n",
       "      <th>Country</th>\n",
       "      <th>Venue</th>\n",
       "      <th>Opening act(s)</th>\n",
       "      <th>Attendance (tickets sold / available)</th>\n",
       "      <th>Revenue</th>\n",
       "      <th>Tour</th>\n",
       "    </tr>\n",
       "  </thead>\n",
       "  <tbody>\n",
       "    <tr>\n",
       "      <th>0</th>\n",
       "      <td>Evansville</td>\n",
       "      <td>United States</td>\n",
       "      <td>Roberts Municipal Stadium</td>\n",
       "      <td>Gloriana Kellie Pickler</td>\n",
       "      <td>7,463 / 7,463</td>\n",
       "      <td>$360,617</td>\n",
       "      <td>Fearless_Tour</td>\n",
       "    </tr>\n",
       "    <tr>\n",
       "      <th>1</th>\n",
       "      <td>Jonesboro</td>\n",
       "      <td>United States</td>\n",
       "      <td>Convocation Center</td>\n",
       "      <td>Gloriana Kellie Pickler</td>\n",
       "      <td>7,822 / 7,822</td>\n",
       "      <td>$340,328</td>\n",
       "      <td>Fearless_Tour</td>\n",
       "    </tr>\n",
       "    <tr>\n",
       "      <th>2</th>\n",
       "      <td>St. Louis</td>\n",
       "      <td>United States</td>\n",
       "      <td>Scottrade Center</td>\n",
       "      <td>Gloriana Kellie Pickler</td>\n",
       "      <td>13,764 / 13,764</td>\n",
       "      <td>$650,420</td>\n",
       "      <td>Fearless_Tour</td>\n",
       "    </tr>\n",
       "    <tr>\n",
       "      <th>3</th>\n",
       "      <td>Alexandria</td>\n",
       "      <td>United States</td>\n",
       "      <td>Bishop Ireton High School</td>\n",
       "      <td>Gloriana Kellie Pickler</td>\n",
       "      <td>—</td>\n",
       "      <td>—</td>\n",
       "      <td>Fearless_Tour</td>\n",
       "    </tr>\n",
       "    <tr>\n",
       "      <th>4</th>\n",
       "      <td>North Charleston</td>\n",
       "      <td>United States</td>\n",
       "      <td>North Charleston Coliseum</td>\n",
       "      <td>Gloriana Kellie Pickler</td>\n",
       "      <td>8,751 / 8,751</td>\n",
       "      <td>$398,154</td>\n",
       "      <td>Fearless_Tour</td>\n",
       "    </tr>\n",
       "  </tbody>\n",
       "</table>\n",
       "</div>"
      ],
      "text/plain": [
       "               City        Country                      Venue  \\\n",
       "0        Evansville  United States  Roberts Municipal Stadium   \n",
       "1         Jonesboro  United States         Convocation Center   \n",
       "2         St. Louis  United States           Scottrade Center   \n",
       "3        Alexandria  United States  Bishop Ireton High School   \n",
       "4  North Charleston  United States  North Charleston Coliseum   \n",
       "\n",
       "            Opening act(s) Attendance (tickets sold / available)   Revenue  \\\n",
       "0  Gloriana Kellie Pickler                         7,463 / 7,463  $360,617   \n",
       "1  Gloriana Kellie Pickler                         7,822 / 7,822  $340,328   \n",
       "2  Gloriana Kellie Pickler                       13,764 / 13,764  $650,420   \n",
       "3  Gloriana Kellie Pickler                                     —         —   \n",
       "4  Gloriana Kellie Pickler                         8,751 / 8,751  $398,154   \n",
       "\n",
       "            Tour  \n",
       "0  Fearless_Tour  \n",
       "1  Fearless_Tour  \n",
       "2  Fearless_Tour  \n",
       "3  Fearless_Tour  \n",
       "4  Fearless_Tour  "
      ]
     },
     "execution_count": 33,
     "metadata": {},
     "output_type": "execute_result"
    }
   ],
   "source": [
    "taylor_concerts = pd.read_csv('Taylor-Train-concerts.csv')  # read cleaned dataset\n",
    "taylor_concerts.head()"
   ]
  },
  {
   "cell_type": "code",
   "execution_count": 34,
   "metadata": {
    "colab": {
     "base_uri": "https://localhost:8080/",
     "height": 293
    },
    "executionInfo": {
     "elapsed": 321,
     "status": "ok",
     "timestamp": 1716379808672,
     "user": {
      "displayName": "Alexandros Tremopoulos",
      "userId": "18030826848297166341"
     },
     "user_tz": -120
    },
    "id": "6qPPrKL_yYOV",
    "outputId": "88179b78-924c-45f0-d68f-bbac0ff8d345"
   },
   "outputs": [
    {
     "name": "stderr",
     "output_type": "stream",
     "text": [
      "C:\\Users\\user\\AppData\\Local\\Temp\\ipykernel_10608\\251619050.py:3: SettingWithCopyWarning: \n",
      "A value is trying to be set on a copy of a slice from a DataFrame\n",
      "\n",
      "See the caveats in the documentation: https://pandas.pydata.org/pandas-docs/stable/user_guide/indexing.html#returning-a-view-versus-a-copy\n",
      "  taylor_concerts_v2.dropna(inplace=True)\n"
     ]
    },
    {
     "data": {
      "text/html": [
       "<div>\n",
       "<style scoped>\n",
       "    .dataframe tbody tr th:only-of-type {\n",
       "        vertical-align: middle;\n",
       "    }\n",
       "\n",
       "    .dataframe tbody tr th {\n",
       "        vertical-align: top;\n",
       "    }\n",
       "\n",
       "    .dataframe thead th {\n",
       "        text-align: right;\n",
       "    }\n",
       "</style>\n",
       "<table border=\"1\" class=\"dataframe\">\n",
       "  <thead>\n",
       "    <tr style=\"text-align: right;\">\n",
       "      <th></th>\n",
       "      <th>City</th>\n",
       "      <th>Country</th>\n",
       "      <th>Venue</th>\n",
       "      <th>Opening act(s)</th>\n",
       "      <th>Attendance (tickets sold / available)</th>\n",
       "      <th>Revenue</th>\n",
       "      <th>Tour</th>\n",
       "    </tr>\n",
       "  </thead>\n",
       "  <tbody>\n",
       "    <tr>\n",
       "      <th>0</th>\n",
       "      <td>Evansville</td>\n",
       "      <td>United States</td>\n",
       "      <td>Roberts Municipal Stadium</td>\n",
       "      <td>Gloriana Kellie Pickler</td>\n",
       "      <td>7,463 / 7,463</td>\n",
       "      <td>$360,617</td>\n",
       "      <td>Fearless_Tour</td>\n",
       "    </tr>\n",
       "    <tr>\n",
       "      <th>1</th>\n",
       "      <td>Jonesboro</td>\n",
       "      <td>United States</td>\n",
       "      <td>Convocation Center</td>\n",
       "      <td>Gloriana Kellie Pickler</td>\n",
       "      <td>7,822 / 7,822</td>\n",
       "      <td>$340,328</td>\n",
       "      <td>Fearless_Tour</td>\n",
       "    </tr>\n",
       "    <tr>\n",
       "      <th>2</th>\n",
       "      <td>St. Louis</td>\n",
       "      <td>United States</td>\n",
       "      <td>Scottrade Center</td>\n",
       "      <td>Gloriana Kellie Pickler</td>\n",
       "      <td>13,764 / 13,764</td>\n",
       "      <td>$650,420</td>\n",
       "      <td>Fearless_Tour</td>\n",
       "    </tr>\n",
       "    <tr>\n",
       "      <th>3</th>\n",
       "      <td>North Charleston</td>\n",
       "      <td>United States</td>\n",
       "      <td>North Charleston Coliseum</td>\n",
       "      <td>Gloriana Kellie Pickler</td>\n",
       "      <td>8,751 / 8,751</td>\n",
       "      <td>$398,154</td>\n",
       "      <td>Fearless_Tour</td>\n",
       "    </tr>\n",
       "    <tr>\n",
       "      <th>4</th>\n",
       "      <td>Jacksonville</td>\n",
       "      <td>United States</td>\n",
       "      <td>Jacksonville Veterans Memorial Arena</td>\n",
       "      <td>Gloriana Kellie Pickler</td>\n",
       "      <td>11,072 / 11,072</td>\n",
       "      <td>$507,012</td>\n",
       "      <td>Fearless_Tour</td>\n",
       "    </tr>\n",
       "  </tbody>\n",
       "</table>\n",
       "</div>"
      ],
      "text/plain": [
       "               City        Country                                 Venue  \\\n",
       "0        Evansville  United States             Roberts Municipal Stadium   \n",
       "1         Jonesboro  United States                    Convocation Center   \n",
       "2         St. Louis  United States                      Scottrade Center   \n",
       "3  North Charleston  United States             North Charleston Coliseum   \n",
       "4      Jacksonville  United States  Jacksonville Veterans Memorial Arena   \n",
       "\n",
       "            Opening act(s) Attendance (tickets sold / available)   Revenue  \\\n",
       "0  Gloriana Kellie Pickler                         7,463 / 7,463  $360,617   \n",
       "1  Gloriana Kellie Pickler                         7,822 / 7,822  $340,328   \n",
       "2  Gloriana Kellie Pickler                       13,764 / 13,764  $650,420   \n",
       "3  Gloriana Kellie Pickler                         8,751 / 8,751  $398,154   \n",
       "4  Gloriana Kellie Pickler                       11,072 / 11,072  $507,012   \n",
       "\n",
       "            Tour  \n",
       "0  Fearless_Tour  \n",
       "1  Fearless_Tour  \n",
       "2  Fearless_Tour  \n",
       "3  Fearless_Tour  \n",
       "4  Fearless_Tour  "
      ]
     },
     "execution_count": 34,
     "metadata": {},
     "output_type": "execute_result"
    }
   ],
   "source": [
    "taylor_concerts_v2 = taylor_concerts[taylor_concerts['Revenue']!='—'] # drop concerts with no information about Revenue\n",
    "taylor_concerts_v2.reset_index(inplace=True,drop=True)\n",
    "taylor_concerts_v2.dropna(inplace=True)\n",
    "taylor_concerts_v2.head()"
   ]
  },
  {
   "cell_type": "code",
   "execution_count": 35,
   "metadata": {
    "colab": {
     "base_uri": "https://localhost:8080/",
     "height": 414
    },
    "executionInfo": {
     "elapsed": 7,
     "status": "ok",
     "timestamp": 1716379808672,
     "user": {
      "displayName": "Alexandros Tremopoulos",
      "userId": "18030826848297166341"
     },
     "user_tz": -120
    },
    "id": "kNDT7TPEzP80",
    "outputId": "289c6f6c-dad7-42ec-d58f-9630caa277ce"
   },
   "outputs": [
    {
     "name": "stderr",
     "output_type": "stream",
     "text": [
      "C:\\Users\\user\\AppData\\Local\\Temp\\ipykernel_10608\\1047520399.py:1: SettingWithCopyWarning: \n",
      "A value is trying to be set on a copy of a slice from a DataFrame.\n",
      "Try using .loc[row_indexer,col_indexer] = value instead\n",
      "\n",
      "See the caveats in the documentation: https://pandas.pydata.org/pandas-docs/stable/user_guide/indexing.html#returning-a-view-versus-a-copy\n",
      "  taylor_concerts_v2['tickets_sold'] = taylor_concerts_v2['Attendance (tickets sold / available)'].map(lambda x: int(x.split('/')[0].replace(',','')))\n",
      "C:\\Users\\user\\AppData\\Local\\Temp\\ipykernel_10608\\1047520399.py:2: SettingWithCopyWarning: \n",
      "A value is trying to be set on a copy of a slice from a DataFrame.\n",
      "Try using .loc[row_indexer,col_indexer] = value instead\n",
      "\n",
      "See the caveats in the documentation: https://pandas.pydata.org/pandas-docs/stable/user_guide/indexing.html#returning-a-view-versus-a-copy\n",
      "  taylor_concerts_v2['revenue_num'] = taylor_concerts_v2['Revenue'].map(lambda x: int(x.split('$')[1].replace(',','')))\n"
     ]
    },
    {
     "data": {
      "text/html": [
       "<div>\n",
       "<style scoped>\n",
       "    .dataframe tbody tr th:only-of-type {\n",
       "        vertical-align: middle;\n",
       "    }\n",
       "\n",
       "    .dataframe tbody tr th {\n",
       "        vertical-align: top;\n",
       "    }\n",
       "\n",
       "    .dataframe thead th {\n",
       "        text-align: right;\n",
       "    }\n",
       "</style>\n",
       "<table border=\"1\" class=\"dataframe\">\n",
       "  <thead>\n",
       "    <tr style=\"text-align: right;\">\n",
       "      <th></th>\n",
       "      <th>City</th>\n",
       "      <th>Country</th>\n",
       "      <th>Venue</th>\n",
       "      <th>Opening act(s)</th>\n",
       "      <th>Attendance (tickets sold / available)</th>\n",
       "      <th>Revenue</th>\n",
       "      <th>Tour</th>\n",
       "      <th>tickets_sold</th>\n",
       "      <th>revenue_num</th>\n",
       "    </tr>\n",
       "  </thead>\n",
       "  <tbody>\n",
       "    <tr>\n",
       "      <th>0</th>\n",
       "      <td>Evansville</td>\n",
       "      <td>United States</td>\n",
       "      <td>Roberts Municipal Stadium</td>\n",
       "      <td>Gloriana Kellie Pickler</td>\n",
       "      <td>7,463 / 7,463</td>\n",
       "      <td>$360,617</td>\n",
       "      <td>Fearless_Tour</td>\n",
       "      <td>7463</td>\n",
       "      <td>360617</td>\n",
       "    </tr>\n",
       "    <tr>\n",
       "      <th>1</th>\n",
       "      <td>Jonesboro</td>\n",
       "      <td>United States</td>\n",
       "      <td>Convocation Center</td>\n",
       "      <td>Gloriana Kellie Pickler</td>\n",
       "      <td>7,822 / 7,822</td>\n",
       "      <td>$340,328</td>\n",
       "      <td>Fearless_Tour</td>\n",
       "      <td>7822</td>\n",
       "      <td>340328</td>\n",
       "    </tr>\n",
       "    <tr>\n",
       "      <th>2</th>\n",
       "      <td>St. Louis</td>\n",
       "      <td>United States</td>\n",
       "      <td>Scottrade Center</td>\n",
       "      <td>Gloriana Kellie Pickler</td>\n",
       "      <td>13,764 / 13,764</td>\n",
       "      <td>$650,420</td>\n",
       "      <td>Fearless_Tour</td>\n",
       "      <td>13764</td>\n",
       "      <td>650420</td>\n",
       "    </tr>\n",
       "    <tr>\n",
       "      <th>3</th>\n",
       "      <td>North Charleston</td>\n",
       "      <td>United States</td>\n",
       "      <td>North Charleston Coliseum</td>\n",
       "      <td>Gloriana Kellie Pickler</td>\n",
       "      <td>8,751 / 8,751</td>\n",
       "      <td>$398,154</td>\n",
       "      <td>Fearless_Tour</td>\n",
       "      <td>8751</td>\n",
       "      <td>398154</td>\n",
       "    </tr>\n",
       "    <tr>\n",
       "      <th>4</th>\n",
       "      <td>Jacksonville</td>\n",
       "      <td>United States</td>\n",
       "      <td>Jacksonville Veterans Memorial Arena</td>\n",
       "      <td>Gloriana Kellie Pickler</td>\n",
       "      <td>11,072 / 11,072</td>\n",
       "      <td>$507,012</td>\n",
       "      <td>Fearless_Tour</td>\n",
       "      <td>11072</td>\n",
       "      <td>507012</td>\n",
       "    </tr>\n",
       "  </tbody>\n",
       "</table>\n",
       "</div>"
      ],
      "text/plain": [
       "               City        Country                                 Venue  \\\n",
       "0        Evansville  United States             Roberts Municipal Stadium   \n",
       "1         Jonesboro  United States                    Convocation Center   \n",
       "2         St. Louis  United States                      Scottrade Center   \n",
       "3  North Charleston  United States             North Charleston Coliseum   \n",
       "4      Jacksonville  United States  Jacksonville Veterans Memorial Arena   \n",
       "\n",
       "            Opening act(s) Attendance (tickets sold / available)   Revenue  \\\n",
       "0  Gloriana Kellie Pickler                         7,463 / 7,463  $360,617   \n",
       "1  Gloriana Kellie Pickler                         7,822 / 7,822  $340,328   \n",
       "2  Gloriana Kellie Pickler                       13,764 / 13,764  $650,420   \n",
       "3  Gloriana Kellie Pickler                         8,751 / 8,751  $398,154   \n",
       "4  Gloriana Kellie Pickler                       11,072 / 11,072  $507,012   \n",
       "\n",
       "            Tour  tickets_sold  revenue_num  \n",
       "0  Fearless_Tour          7463       360617  \n",
       "1  Fearless_Tour          7822       340328  \n",
       "2  Fearless_Tour         13764       650420  \n",
       "3  Fearless_Tour          8751       398154  \n",
       "4  Fearless_Tour         11072       507012  "
      ]
     },
     "execution_count": 35,
     "metadata": {},
     "output_type": "execute_result"
    }
   ],
   "source": [
    "taylor_concerts_v2['tickets_sold'] = taylor_concerts_v2['Attendance (tickets sold / available)'].map(lambda x: int(x.split('/')[0].replace(',','')))\n",
    "taylor_concerts_v2['revenue_num'] = taylor_concerts_v2['Revenue'].map(lambda x: int(x.split('$')[1].replace(',','')))\n",
    "taylor_concerts_v2.head()  # create integer columns containing the information about Revenue and tickets sold"
   ]
  },
  {
   "cell_type": "markdown",
   "metadata": {
    "id": "9cJ-CLYnbaem"
   },
   "source": [
    "What I thought i**nitially** was to create a scatterplot with Revenue in the y-axis and Tickets sold in the x-axis along with point selection interaction in which the user can select one country among all of them that Taylor Swift has performed live. This is seen in the next chart. Of course it requires changes, like palette, cluttering etc., but my thought was to add a dropdown selection as well for selecting different artists. However, I had no such data."
   ]
  },
  {
   "cell_type": "code",
   "execution_count": 36,
   "metadata": {
    "colab": {
     "base_uri": "https://localhost:8080/",
     "height": 499
    },
    "executionInfo": {
     "elapsed": 507,
     "status": "ok",
     "timestamp": 1716379809175,
     "user": {
      "displayName": "Alexandros Tremopoulos",
      "userId": "18030826848297166341"
     },
     "user_tz": -120
    },
    "id": "eZR46gMWbTkF",
    "outputId": "6fba2cb1-69b4-4958-b7ad-8b266f24cfdc"
   },
   "outputs": [
    {
     "data": {
      "text/html": [
       "\n",
       "<style>\n",
       "  #altair-viz-109d0d3870ac4657adc503779faf4075.vega-embed {\n",
       "    width: 100%;\n",
       "    display: flex;\n",
       "  }\n",
       "\n",
       "  #altair-viz-109d0d3870ac4657adc503779faf4075.vega-embed details,\n",
       "  #altair-viz-109d0d3870ac4657adc503779faf4075.vega-embed details summary {\n",
       "    position: relative;\n",
       "  }\n",
       "</style>\n",
       "<div id=\"altair-viz-109d0d3870ac4657adc503779faf4075\"></div>\n",
       "<script type=\"text/javascript\">\n",
       "  var VEGA_DEBUG = (typeof VEGA_DEBUG == \"undefined\") ? {} : VEGA_DEBUG;\n",
       "  (function(spec, embedOpt){\n",
       "    let outputDiv = document.currentScript.previousElementSibling;\n",
       "    if (outputDiv.id !== \"altair-viz-109d0d3870ac4657adc503779faf4075\") {\n",
       "      outputDiv = document.getElementById(\"altair-viz-109d0d3870ac4657adc503779faf4075\");\n",
       "    }\n",
       "    const paths = {\n",
       "      \"vega\": \"https://cdn.jsdelivr.net/npm/vega@5?noext\",\n",
       "      \"vega-lib\": \"https://cdn.jsdelivr.net/npm/vega-lib?noext\",\n",
       "      \"vega-lite\": \"https://cdn.jsdelivr.net/npm/vega-lite@5.17.0?noext\",\n",
       "      \"vega-embed\": \"https://cdn.jsdelivr.net/npm/vega-embed@6?noext\",\n",
       "    };\n",
       "\n",
       "    function maybeLoadScript(lib, version) {\n",
       "      var key = `${lib.replace(\"-\", \"\")}_version`;\n",
       "      return (VEGA_DEBUG[key] == version) ?\n",
       "        Promise.resolve(paths[lib]) :\n",
       "        new Promise(function(resolve, reject) {\n",
       "          var s = document.createElement('script');\n",
       "          document.getElementsByTagName(\"head\")[0].appendChild(s);\n",
       "          s.async = true;\n",
       "          s.onload = () => {\n",
       "            VEGA_DEBUG[key] = version;\n",
       "            return resolve(paths[lib]);\n",
       "          };\n",
       "          s.onerror = () => reject(`Error loading script: ${paths[lib]}`);\n",
       "          s.src = paths[lib];\n",
       "        });\n",
       "    }\n",
       "\n",
       "    function showError(err) {\n",
       "      outputDiv.innerHTML = `<div class=\"error\" style=\"color:red;\">${err}</div>`;\n",
       "      throw err;\n",
       "    }\n",
       "\n",
       "    function displayChart(vegaEmbed) {\n",
       "      vegaEmbed(outputDiv, spec, embedOpt)\n",
       "        .catch(err => showError(`Javascript Error: ${err.message}<br>This usually means there's a typo in your chart specification. See the javascript console for the full traceback.`));\n",
       "    }\n",
       "\n",
       "    if(typeof define === \"function\" && define.amd) {\n",
       "      requirejs.config({paths});\n",
       "      require([\"vega-embed\"], displayChart, err => showError(`Error loading script: ${err.message}`));\n",
       "    } else {\n",
       "      maybeLoadScript(\"vega\", \"5\")\n",
       "        .then(() => maybeLoadScript(\"vega-lite\", \"5.17.0\"))\n",
       "        .then(() => maybeLoadScript(\"vega-embed\", \"6\"))\n",
       "        .catch(showError)\n",
       "        .then(() => displayChart(vegaEmbed));\n",
       "    }\n",
       "  })({\"config\": {\"view\": {\"continuousWidth\": 300, \"continuousHeight\": 300}}, \"hconcat\": [{\"mark\": {\"type\": \"point\"}, \"encoding\": {\"color\": {\"condition\": {\"param\": \"param_2\", \"field\": \"Country\", \"legend\": null, \"type\": \"nominal\"}, \"value\": \"lightgray\"}, \"tooltip\": {\"field\": \"Venue\", \"type\": \"nominal\"}, \"x\": {\"field\": \"tickets_sold\", \"title\": \"Tickets Sold\", \"type\": \"quantitative\"}, \"y\": {\"field\": \"revenue_num\", \"title\": \"Revenue\", \"type\": \"quantitative\"}}, \"name\": \"view_5\"}, {\"mark\": {\"type\": \"circle\"}, \"encoding\": {\"color\": {\"condition\": {\"param\": \"param_2\", \"field\": \"Country\", \"legend\": null, \"type\": \"nominal\"}, \"value\": \"lightgray\"}, \"y\": {\"field\": \"Country\", \"type\": \"nominal\"}}, \"name\": \"view_6\"}], \"data\": {\"name\": \"data-bb4b70d697506fa7d97b30f43fae7453\"}, \"params\": [{\"name\": \"param_2\", \"select\": {\"type\": \"point\", \"encodings\": [\"color\"]}, \"views\": [\"view_5\", \"view_6\"]}], \"$schema\": \"https://vega.github.io/schema/vega-lite/v5.17.0.json\", \"datasets\": {\"data-bb4b70d697506fa7d97b30f43fae7453\": [{\"City\": \"Evansville\", \"Country\": \"United States\", \"Venue\": \"Roberts Municipal Stadium\", \"Opening act(s)\": \"Gloriana Kellie Pickler\", \"Attendance (tickets sold / available)\": \"7,463 / 7,463\", \"Revenue\": \"$360,617\", \"Tour\": \"Fearless_Tour\", \"tickets_sold\": 7463, \"revenue_num\": 360617}, {\"City\": \"Jonesboro\", \"Country\": \"United States\", \"Venue\": \"Convocation Center\", \"Opening act(s)\": \"Gloriana Kellie Pickler\", \"Attendance (tickets sold / available)\": \"7,822 / 7,822\", \"Revenue\": \"$340,328\", \"Tour\": \"Fearless_Tour\", \"tickets_sold\": 7822, \"revenue_num\": 340328}, {\"City\": \"St. Louis\", \"Country\": \"United States\", \"Venue\": \"Scottrade Center\", \"Opening act(s)\": \"Gloriana Kellie Pickler\", \"Attendance (tickets sold / available)\": \"13,764 / 13,764\", \"Revenue\": \"$650,420\", \"Tour\": \"Fearless_Tour\", \"tickets_sold\": 13764, \"revenue_num\": 650420}, {\"City\": \"North Charleston\", \"Country\": \"United States\", \"Venue\": \"North Charleston Coliseum\", \"Opening act(s)\": \"Gloriana Kellie Pickler\", \"Attendance (tickets sold / available)\": \"8,751 / 8,751\", \"Revenue\": \"$398,154\", \"Tour\": \"Fearless_Tour\", \"tickets_sold\": 8751, \"revenue_num\": 398154}, {\"City\": \"Jacksonville\", \"Country\": \"United States\", \"Venue\": \"Jacksonville Veterans Memorial Arena\", \"Opening act(s)\": \"Gloriana Kellie Pickler\", \"Attendance (tickets sold / available)\": \"11,072 / 11,072\", \"Revenue\": \"$507,012\", \"Tour\": \"Fearless_Tour\", \"tickets_sold\": 11072, \"revenue_num\": 507012}, {\"City\": \"Biloxi\", \"Country\": \"United States\", \"Venue\": \"Mississippi Coast Coliseum\", \"Opening act(s)\": \"Gloriana Kellie Pickler\", \"Attendance (tickets sold / available)\": \"9,436 / 9,436\", \"Revenue\": \"$437,313\", \"Tour\": \"Fearless_Tour\", \"tickets_sold\": 9436, \"revenue_num\": 437313}, {\"City\": \"London\", \"Country\": \"England\", \"Venue\": \"Shepherd's Bush Empire\", \"Opening act(s)\": \"\\u2014\", \"Attendance (tickets sold / available)\": \"6,789 / 6,789\", \"Revenue\": \"$401,328\", \"Tour\": \"Fearless_Tour\", \"tickets_sold\": 6789, \"revenue_num\": 401328}, {\"City\": \"London\", \"Country\": \"England\", \"Venue\": \"Shepherd's Bush Empire\", \"Opening act(s)\": \"\\u2014\", \"Attendance (tickets sold / available)\": \"6,789 / 6,789\", \"Revenue\": \"$401,328\", \"Tour\": \"Fearless_Tour\", \"tickets_sold\": 6789, \"revenue_num\": 401328}, {\"City\": \"Spokane\", \"Country\": \"United States\", \"Venue\": \"Spokane Arena\", \"Opening act(s)\": \"Gloriana Kellie Pickler\", \"Attendance (tickets sold / available)\": \"10,798 / 10,798\", \"Revenue\": \"$482,146\", \"Tour\": \"Fearless_Tour\", \"tickets_sold\": 10798, \"revenue_num\": 482146}, {\"City\": \"Seattle\", \"Country\": \"United States\", \"Venue\": \"KeyArena\", \"Opening act(s)\": \"Gloriana Kellie Pickler\", \"Attendance (tickets sold / available)\": \"12,061 / 12,061\", \"Revenue\": \"$528,637\", \"Tour\": \"Fearless_Tour\", \"tickets_sold\": 12061, \"revenue_num\": 528637}, {\"City\": \"Portland\", \"Country\": \"United States\", \"Venue\": \"Rose Garden Arena\", \"Opening act(s)\": \"Gloriana Kellie Pickler\", \"Attendance (tickets sold / available)\": \"13,226 / 13,226\", \"Revenue\": \"$613,284\", \"Tour\": \"Fearless_Tour\", \"tickets_sold\": 13226, \"revenue_num\": 613284}, {\"City\": \"Nampa\", \"Country\": \"United States\", \"Venue\": \"Ford Arena\", \"Opening act(s)\": \"Gloriana Kellie Pickler\", \"Attendance (tickets sold / available)\": \"8,970 / 8,970\", \"Revenue\": \"$413,622\", \"Tour\": \"Fearless_Tour\", \"tickets_sold\": 8970, \"revenue_num\": 413622}, {\"City\": \"Glendale\", \"Country\": \"United States\", \"Venue\": \"Jobing.com Arena\", \"Opening act(s)\": \"Gloriana Kellie Pickler\", \"Attendance (tickets sold / available)\": \"13,052 / 13,052\", \"Revenue\": \"$647,923\", \"Tour\": \"Fearless_Tour\", \"tickets_sold\": 13052, \"revenue_num\": 647923}, {\"City\": \"Los Angeles\", \"Country\": \"United States\", \"Venue\": \"Staples Center\", \"Opening act(s)\": \"Gloriana Kellie Pickler\", \"Attendance (tickets sold / available)\": \"13,648 / 13,648\", \"Revenue\": \"$720,940\", \"Tour\": \"Fearless_Tour\", \"tickets_sold\": 13648, \"revenue_num\": 720940}, {\"City\": \"Paradise\", \"Country\": \"United States\", \"Venue\": \"Mandalay Bay Events Center\", \"Opening act(s)\": \"Gloriana Kellie Pickler\", \"Attendance (tickets sold / available)\": \"8,311 / 8,311\", \"Revenue\": \"$551,051\", \"Tour\": \"Fearless_Tour\", \"tickets_sold\": 8311, \"revenue_num\": 551051}, {\"City\": \"San Diego\", \"Country\": \"United States\", \"Venue\": \"Valley View Casino Center\", \"Opening act(s)\": \"Gloriana Kellie Pickler\", \"Attendance (tickets sold / available)\": \"10,174 / 10,174\", \"Revenue\": \"$502,689\", \"Tour\": \"Fearless_Tour\", \"tickets_sold\": 10174, \"revenue_num\": 502689}, {\"City\": \"Salt Lake City\", \"Country\": \"United States\", \"Venue\": \"EnergySolutions Arena\", \"Opening act(s)\": \"Gloriana Kellie Pickler\", \"Attendance (tickets sold / available)\": \"13,042 / 13,042\", \"Revenue\": \"$555,207\", \"Tour\": \"Fearless_Tour\", \"tickets_sold\": 13042, \"revenue_num\": 555207}, {\"City\": \"Columbia\", \"Country\": \"United States\", \"Venue\": \"Merriweather Post Pavilion\", \"Opening act(s)\": \"Gloriana Kellie Pickler\", \"Attendance (tickets sold / available)\": \"17,619 / 17,619\", \"Revenue\": \"$608,438\", \"Tour\": \"Fearless_Tour\", \"tickets_sold\": 17619, \"revenue_num\": 608438}, {\"City\": \"Greensboro\", \"Country\": \"United States\", \"Venue\": \"Greensboro Coliseum\", \"Opening act(s)\": \"Gloriana Kellie Pickler\", \"Attendance (tickets sold / available)\": \"14,641 / 14,641\", \"Revenue\": \"$690,959\", \"Tour\": \"Fearless_Tour\", \"tickets_sold\": 14641, \"revenue_num\": 690959}, {\"City\": \"Edmonton\", \"Country\": \"Canada\", \"Venue\": \"Commonwealth Stadium\", \"Opening act(s)\": \"\\u2014\", \"Attendance (tickets sold / available)\": \"33,910 / 44,500\", \"Revenue\": \"$2,540,906\", \"Tour\": \"Fearless_Tour\", \"tickets_sold\": 33910, \"revenue_num\": 2540906}, {\"City\": \"Winnipeg\", \"Country\": \"Canada\", \"Venue\": \"MTS Centre\", \"Opening act(s)\": \"Gloriana Kellie Pickler\", \"Attendance (tickets sold / available)\": \"11,369 / 11,369\", \"Revenue\": \"$512,487\", \"Tour\": \"Fearless_Tour\", \"tickets_sold\": 11369, \"revenue_num\": 512487}, {\"City\": \"New York City\", \"Country\": \"United States\", \"Venue\": \"Madison Square Garden\", \"Opening act(s)\": \"Gloriana Kellie Pickler\", \"Attendance (tickets sold / available)\": \"13,597 / 13,597\", \"Revenue\": \"$976,062\", \"Tour\": \"Fearless_Tour\", \"tickets_sold\": 13597, \"revenue_num\": 976062}, {\"City\": \"Montville\", \"Country\": \"United States\", \"Venue\": \"Mohegan Sun Arena\", \"Opening act(s)\": \"Gloriana Kellie Pickler\", \"Attendance (tickets sold / available)\": \"7,507 / 7,507\", \"Revenue\": \"$296,306\", \"Tour\": \"Fearless_Tour\", \"tickets_sold\": 7507, \"revenue_num\": 296306}, {\"City\": \"Nashville\", \"Country\": \"United States\", \"Venue\": \"Bridgestone Arena\", \"Opening act(s)\": \"Gloriana Kellie Pickler\", \"Attendance (tickets sold / available)\": \"14,269 / 14,269\", \"Revenue\": \"$642,387\", \"Tour\": \"Fearless_Tour\", \"tickets_sold\": 14269, \"revenue_num\": 642387}, {\"City\": \"Dallas\", \"Country\": \"United States\", \"Venue\": \"American Airlines Center\", \"Opening act(s)\": \"Gloriana Kellie Pickler\", \"Attendance (tickets sold / available)\": \"13,794 / 13,794\", \"Revenue\": \"$628,062\", \"Tour\": \"Fearless_Tour\", \"tickets_sold\": 13794, \"revenue_num\": 628062}, {\"City\": \"North Little Rock\", \"Country\": \"United States\", \"Venue\": \"Verizon Arena\", \"Opening act(s)\": \"Gloriana Kellie Pickler\", \"Attendance (tickets sold / available)\": \"13,978 / 13,978\", \"Revenue\": \"$654,089\", \"Tour\": \"Fearless_Tour\", \"tickets_sold\": 13978, \"revenue_num\": 654089}, {\"City\": \"Cleveland\", \"Country\": \"United States\", \"Venue\": \"Quicken Loans Arena\", \"Opening act(s)\": \"Gloriana Kellie Pickler\", \"Attendance (tickets sold / available)\": \"15,524 / 15,524\", \"Revenue\": \"$743,492\", \"Tour\": \"Fearless_Tour\", \"tickets_sold\": 15524, \"revenue_num\": 743492}, {\"City\": \"Indianapolis\", \"Country\": \"United States\", \"Venue\": \"Conseco Fieldhouse\", \"Opening act(s)\": \"Gloriana Kellie Pickler\", \"Attendance (tickets sold / available)\": \"13,373 / 13,373\", \"Revenue\": \"$634,876\", \"Tour\": \"Fearless_Tour\", \"tickets_sold\": 13373, \"revenue_num\": 634876}, {\"City\": \"Rosemont\", \"Country\": \"United States\", \"Venue\": \"Allstate Arena\", \"Opening act(s)\": \"Gloriana Kellie Pickler\", \"Attendance (tickets sold / available)\": \"26,265 / 26,265\", \"Revenue\": \"$1,150,896\", \"Tour\": \"Fearless_Tour\", \"tickets_sold\": 26265, \"revenue_num\": 1150896}, {\"City\": \"Rosemont\", \"Country\": \"United States\", \"Venue\": \"Allstate Arena\", \"Opening act(s)\": \"Gloriana Kellie Pickler\", \"Attendance (tickets sold / available)\": \"26,265 / 26,265\", \"Revenue\": \"$1,150,896\", \"Tour\": \"Fearless_Tour\", \"tickets_sold\": 26265, \"revenue_num\": 1150896}, {\"City\": \"Minneapolis\", \"Country\": \"United States\", \"Venue\": \"Target Center\", \"Opening act(s)\": \"Gloriana Kellie Pickler\", \"Attendance (tickets sold / available)\": \"13,563 / 13,563\", \"Revenue\": \"$623,975\", \"Tour\": \"Fearless_Tour\", \"tickets_sold\": 13563, \"revenue_num\": 623975}, {\"City\": \"Brisbane\", \"Country\": \"Australia\", \"Venue\": \"Brisbane Entertainment Centre\", \"Opening act(s)\": \"Gloriana\", \"Attendance (tickets sold / available)\": \"11,334 / 11,334\", \"Revenue\": \"$956,505\", \"Tour\": \"Fearless_Tour\", \"tickets_sold\": 11334, \"revenue_num\": 956505}, {\"City\": \"Sydney\", \"Country\": \"Australia\", \"Venue\": \"Acer Arena\", \"Opening act(s)\": \"Gloriana\", \"Attendance (tickets sold / available)\": \"27,030 / 27,030\", \"Revenue\": \"$2,030,640\", \"Tour\": \"Fearless_Tour\", \"tickets_sold\": 27030, \"revenue_num\": 2030640}, {\"City\": \"Sydney\", \"Country\": \"Australia\", \"Venue\": \"Acer Arena\", \"Opening act(s)\": \"Gloriana\", \"Attendance (tickets sold / available)\": \"27,030 / 27,030\", \"Revenue\": \"$2,030,640\", \"Tour\": \"Fearless_Tour\", \"tickets_sold\": 27030, \"revenue_num\": 2030640}, {\"City\": \"Newcastle\", \"Country\": \"Australia\", \"Venue\": \"Newcastle Entertainment Centre\", \"Opening act(s)\": \"Gloriana\", \"Attendance (tickets sold / available)\": \"7,180 / 7,180\", \"Revenue\": \"$555,396\", \"Tour\": \"Fearless_Tour\", \"tickets_sold\": 7180, \"revenue_num\": 555396}, {\"City\": \"Melbourne\", \"Country\": \"Australia\", \"Venue\": \"Rod Laver Arena\", \"Opening act(s)\": \"Gloriana\", \"Attendance (tickets sold / available)\": \"23,493 / 23,493\", \"Revenue\": \"$1,627,510\", \"Tour\": \"Fearless_Tour\", \"tickets_sold\": 23493, \"revenue_num\": 1627510}, {\"City\": \"Melbourne\", \"Country\": \"Australia\", \"Venue\": \"Rod Laver Arena\", \"Opening act(s)\": \"Gloriana\", \"Attendance (tickets sold / available)\": \"23,493 / 23,493\", \"Revenue\": \"$1,627,510\", \"Tour\": \"Fearless_Tour\", \"tickets_sold\": 23493, \"revenue_num\": 1627510}, {\"City\": \"Adelaide\", \"Country\": \"Australia\", \"Venue\": \"Adelaide Entertainment Centre\", \"Opening act(s)\": \"Gloriana\", \"Attendance (tickets sold / available)\": \"9,066 / 9,066\", \"Revenue\": \"$585,352\", \"Tour\": \"Fearless_Tour\", \"tickets_sold\": 9066, \"revenue_num\": 585352}, {\"City\": \"Tampa\", \"Country\": \"United States\", \"Venue\": \"St. Pete Times Forum\", \"Opening act(s)\": \"Gloriana Kellie Pickler\", \"Attendance (tickets sold / available)\": \"13,861 / 13,861\", \"Revenue\": \"$793,049\", \"Tour\": \"Fearless_Tour\", \"tickets_sold\": 13861, \"revenue_num\": 793049}, {\"City\": \"Orlando\", \"Country\": \"United States\", \"Venue\": \"Amway Arena\", \"Opening act(s)\": \"Gloriana Kellie Pickler\", \"Attendance (tickets sold / available)\": \"11,101 / 11,101\", \"Revenue\": \"$598,581\", \"Tour\": \"Fearless_Tour\", \"tickets_sold\": 11101, \"revenue_num\": 598581}, {\"City\": \"Sunrise\", \"Country\": \"United States\", \"Venue\": \"BankAtlantic Center\", \"Opening act(s)\": \"Gloriana Kellie Pickler\", \"Attendance (tickets sold / available)\": \"13,453 / 13,453\", \"Revenue\": \"$777,442\", \"Tour\": \"Fearless_Tour\", \"tickets_sold\": 13453, \"revenue_num\": 777442}, {\"City\": \"Austin\", \"Country\": \"United States\", \"Venue\": \"Frank Erwin Center\", \"Opening act(s)\": \"Gloriana Kellie Pickler\", \"Attendance (tickets sold / available)\": \"11,928 / 11,928\", \"Revenue\": \"$642,705\", \"Tour\": \"Fearless_Tour\", \"tickets_sold\": 11928, \"revenue_num\": 642705}, {\"City\": \"Dallas\", \"Country\": \"United States\", \"Venue\": \"American Airlines Center\", \"Opening act(s)\": \"Gloriana Kellie Pickler\", \"Attendance (tickets sold / available)\": \"14,022 / 14,022\", \"Revenue\": \"$742,954\", \"Tour\": \"Fearless_Tour\", \"tickets_sold\": 14022, \"revenue_num\": 742954}, {\"City\": \"Corpus Christi\", \"Country\": \"United States\", \"Venue\": \"American Bank Center Arena\", \"Opening act(s)\": \"Gloriana Kellie Pickler\", \"Attendance (tickets sold / available)\": \"8,423 / 8,423\", \"Revenue\": \"$501,169\", \"Tour\": \"Fearless_Tour\", \"tickets_sold\": 8423, \"revenue_num\": 501169}, {\"City\": \"Philadelphia\", \"Country\": \"United States\", \"Venue\": \"Wells Fargo Center\", \"Opening act(s)\": \"Gloriana Kellie Pickler\", \"Attendance (tickets sold / available)\": \"30,360 / 30,360\", \"Revenue\": \"$2,002,321\", \"Tour\": \"Fearless_Tour\", \"tickets_sold\": 30360, \"revenue_num\": 2002321}, {\"City\": \"Philadelphia\", \"Country\": \"United States\", \"Venue\": \"Wells Fargo Center\", \"Opening act(s)\": \"Gloriana Kellie Pickler\", \"Attendance (tickets sold / available)\": \"30,360 / 30,360\", \"Revenue\": \"$2,002,321\", \"Tour\": \"Fearless_Tour\", \"tickets_sold\": 30360, \"revenue_num\": 2002321}, {\"City\": \"Charlottesville\", \"Country\": \"United States\", \"Venue\": \"John Paul Jones Arena\", \"Opening act(s)\": \"Gloriana Kellie Pickler\", \"Attendance (tickets sold / available)\": \"11,858 / 11,858\", \"Revenue\": \"$664,305\", \"Tour\": \"Fearless_Tour\", \"tickets_sold\": 11858, \"revenue_num\": 664305}, {\"City\": \"Auburn Hills\", \"Country\": \"United States\", \"Venue\": \"The Palace of Auburn Hills\", \"Opening act(s)\": \"Gloriana Kellie Pickler\", \"Attendance (tickets sold / available)\": \"29,125 / 29,125\", \"Revenue\": \"$1,711,591\", \"Tour\": \"Fearless_Tour\", \"tickets_sold\": 29125, \"revenue_num\": 1711591}, {\"City\": \"Auburn Hills\", \"Country\": \"United States\", \"Venue\": \"The Palace of Auburn Hills\", \"Opening act(s)\": \"Gloriana Kellie Pickler\", \"Attendance (tickets sold / available)\": \"29,125 / 29,125\", \"Revenue\": \"$1,711,591\", \"Tour\": \"Fearless_Tour\", \"tickets_sold\": 29125, \"revenue_num\": 1711591}, {\"City\": \"Cincinnati\", \"Country\": \"United States\", \"Venue\": \"U.S. Bank Arena\", \"Opening act(s)\": \"Gloriana Kellie Pickler\", \"Attendance (tickets sold / available)\": \"11,208 / 11,208\", \"Revenue\": \"$645,592\", \"Tour\": \"Fearless_Tour\", \"tickets_sold\": 11208, \"revenue_num\": 645592}, {\"City\": \"Oklahoma City\", \"Country\": \"United States\", \"Venue\": \"Ford Center\", \"Opening act(s)\": \"Gloriana Kellie Pickler\", \"Attendance (tickets sold / available)\": \"11,795 / 11,795\", \"Revenue\": \"$675,184\", \"Tour\": \"Fearless_Tour\", \"tickets_sold\": 11795, \"revenue_num\": 675184}, {\"City\": \"Wichita\", \"Country\": \"United States\", \"Venue\": \"Intrust Bank Arena\", \"Opening act(s)\": \"Gloriana Kellie Pickler\", \"Attendance (tickets sold / available)\": \"11,208 / 11,208\", \"Revenue\": \"$610,801\", \"Tour\": \"Fearless_Tour\", \"tickets_sold\": 11208, \"revenue_num\": 610801}, {\"City\": \"Kansas City\", \"Country\": \"United States\", \"Venue\": \"Sprint Center\", \"Opening act(s)\": \"Gloriana Kellie Pickler\", \"Attendance (tickets sold / available)\": \"13,781 / 13,781\", \"Revenue\": \"$761,110\", \"Tour\": \"Fearless_Tour\", \"tickets_sold\": 13781, \"revenue_num\": 761110}, {\"City\": \"Denver\", \"Country\": \"United States\", \"Venue\": \"Pepsi Center\", \"Opening act(s)\": \"Gloriana Kellie Pickler\", \"Attendance (tickets sold / available)\": \"25,991 / 25,991\", \"Revenue\": \"$1,497,135\", \"Tour\": \"Fearless_Tour\", \"tickets_sold\": 25991, \"revenue_num\": 1497135}, {\"City\": \"Denver\", \"Country\": \"United States\", \"Venue\": \"Pepsi Center\", \"Opening act(s)\": \"Gloriana Kellie Pickler\", \"Attendance (tickets sold / available)\": \"25,991 / 25,991\", \"Revenue\": \"$1,497,135\", \"Tour\": \"Fearless_Tour\", \"tickets_sold\": 25991, \"revenue_num\": 1497135}, {\"City\": \"Fresno\", \"Country\": \"United States\", \"Venue\": \"Save Mart Center\", \"Opening act(s)\": \"Gloriana Kellie Pickler\", \"Attendance (tickets sold / available)\": \"11,706 / 11,706\", \"Revenue\": \"$649,488\", \"Tour\": \"Fearless_Tour\", \"tickets_sold\": 11706, \"revenue_num\": 649488}, {\"City\": \"San Jose\", \"Country\": \"United States\", \"Venue\": \"HP Pavilion\", \"Opening act(s)\": \"Gloriana Kellie Pickler\", \"Attendance (tickets sold / available)\": \"12,744 / 12,744\", \"Revenue\": \"$716,726\", \"Tour\": \"Fearless_Tour\", \"tickets_sold\": 12744, \"revenue_num\": 716726}, {\"City\": \"Los Angeles\", \"Country\": \"United States\", \"Venue\": \"Staples Center\", \"Opening act(s)\": \"Gloriana Kellie Pickler\", \"Attendance (tickets sold / available)\": \"27,518 / 27,518\", \"Revenue\": \"$1,736,197\", \"Tour\": \"Fearless_Tour\", \"tickets_sold\": 27518, \"revenue_num\": 1736197}, {\"City\": \"Los Angeles\", \"Country\": \"United States\", \"Venue\": \"Staples Center\", \"Opening act(s)\": \"Gloriana Kellie Pickler\", \"Attendance (tickets sold / available)\": \"27,518 / 27,518\", \"Revenue\": \"$1,736,197\", \"Tour\": \"Fearless_Tour\", \"tickets_sold\": 27518, \"revenue_num\": 1736197}, {\"City\": \"Lexington\", \"Country\": \"United States\", \"Venue\": \"Rupp Arena\", \"Opening act(s)\": \"Gloriana Kellie Pickler\", \"Attendance (tickets sold / available)\": \"17,966 / 17,966\", \"Revenue\": \"$1,024,223\", \"Tour\": \"Fearless_Tour\", \"tickets_sold\": 17966, \"revenue_num\": 1024223}, {\"City\": \"Columbia\", \"Country\": \"United States\", \"Venue\": \"Colonial Life Arena\", \"Opening act(s)\": \"Gloriana Kellie Pickler\", \"Attendance (tickets sold / available)\": \"13,429 / 13,429\", \"Revenue\": \"$755,475\", \"Tour\": \"Fearless_Tour\", \"tickets_sold\": 13429, \"revenue_num\": 755475}, {\"City\": \"Raleigh\", \"Country\": \"United States\", \"Venue\": \"RBC Center\", \"Opening act(s)\": \"Gloriana Kellie Pickler\", \"Attendance (tickets sold / available)\": \"13,895 / 13,895\", \"Revenue\": \"$752,303\", \"Tour\": \"Fearless_Tour\", \"tickets_sold\": 13895, \"revenue_num\": 752303}, {\"City\": \"Des Moines\", \"Country\": \"United States\", \"Venue\": \"Wells Fargo Arena\", \"Opening act(s)\": \"Gloriana Kellie Pickler\", \"Attendance (tickets sold / available)\": \"13,264 / 13,264\", \"Revenue\": \"$738,280\", \"Tour\": \"Fearless_Tour\", \"tickets_sold\": 13264, \"revenue_num\": 738280}, {\"City\": \"Saint Paul\", \"Country\": \"United States\", \"Venue\": \"Xcel Energy Center\", \"Opening act(s)\": \"Gloriana Kellie Pickler\", \"Attendance (tickets sold / available)\": \"14,914 / 14,914\", \"Revenue\": \"$846,111\", \"Tour\": \"Fearless_Tour\", \"tickets_sold\": 14914, \"revenue_num\": 846111}, {\"City\": \"Moline\", \"Country\": \"United States\", \"Venue\": \"iWireless Center\", \"Opening act(s)\": \"Gloriana Kellie Pickler\", \"Attendance (tickets sold / available)\": \"10,641 / 10,641\", \"Revenue\": \"$610,668\", \"Tour\": \"Fearless_Tour\", \"tickets_sold\": 10641, \"revenue_num\": 610668}, {\"City\": \"Newark\", \"Country\": \"United States\", \"Venue\": \"Prudential Center\", \"Opening act(s)\": \"Gloriana Kellie Pickler\", \"Attendance (tickets sold / available)\": \"26,065 / 26,065\", \"Revenue\": \"$1,742,669\", \"Tour\": \"Fearless_Tour\", \"tickets_sold\": 26065, \"revenue_num\": 1742669}, {\"City\": \"Newark\", \"Country\": \"United States\", \"Venue\": \"Prudential Center\", \"Opening act(s)\": \"Gloriana Kellie Pickler\", \"Attendance (tickets sold / available)\": \"26,065 / 26,065\", \"Revenue\": \"$1,742,669\", \"Tour\": \"Fearless_Tour\", \"tickets_sold\": 26065, \"revenue_num\": 1742669}, {\"City\": \"Uniondale\", \"Country\": \"United States\", \"Venue\": \"Nassau Veterans Memorial Coliseum\", \"Opening act(s)\": \"Gloriana Kellie Pickler\", \"Attendance (tickets sold / available)\": \"25,831 / 25,831\", \"Revenue\": \"$1,713,529\", \"Tour\": \"Fearless_Tour\", \"tickets_sold\": 25831, \"revenue_num\": 1713529}, {\"City\": \"Uniondale\", \"Country\": \"United States\", \"Venue\": \"Nassau Veterans Memorial Coliseum\", \"Opening act(s)\": \"Gloriana Kellie Pickler\", \"Attendance (tickets sold / available)\": \"25,831 / 25,831\", \"Revenue\": \"$1,713,529\", \"Tour\": \"Fearless_Tour\", \"tickets_sold\": 25831, \"revenue_num\": 1713529}, {\"City\": \"Ottawa\", \"Country\": \"Canada\", \"Venue\": \"Scotiabank Place\", \"Opening act(s)\": \"Gloriana Kellie Pickler\", \"Attendance (tickets sold / available)\": \"13,376 / 13,376\", \"Revenue\": \"$873,206\", \"Tour\": \"Fearless_Tour\", \"tickets_sold\": 13376, \"revenue_num\": 873206}, {\"City\": \"Toronto\", \"Country\": \"Canada\", \"Venue\": \"Air Canada Centre\", \"Opening act(s)\": \"Gloriana Kellie Pickler\", \"Attendance (tickets sold / available)\": \"30,458 / 30,458\", \"Revenue\": \"$2,497,690\", \"Tour\": \"Fearless_Tour\", \"tickets_sold\": 30458, \"revenue_num\": 2497690}, {\"City\": \"Toronto\", \"Country\": \"Canada\", \"Venue\": \"Air Canada Centre\", \"Opening act(s)\": \"Gloriana Kellie Pickler\", \"Attendance (tickets sold / available)\": \"30,458 / 30,458\", \"Revenue\": \"$2,497,690\", \"Tour\": \"Fearless_Tour\", \"tickets_sold\": 30458, \"revenue_num\": 2497690}, {\"City\": \"Houston\", \"Country\": \"United States\", \"Venue\": \"Toyota Center\", \"Opening act(s)\": \"Gloriana Kellie Pickler\", \"Attendance (tickets sold / available)\": \"23,493 / 23,493\", \"Revenue\": \"$1,290,926\", \"Tour\": \"Fearless_Tour\", \"tickets_sold\": 23493, \"revenue_num\": 1290926}, {\"City\": \"Houston\", \"Country\": \"United States\", \"Venue\": \"Toyota Center\", \"Opening act(s)\": \"Gloriana Kellie Pickler\", \"Attendance (tickets sold / available)\": \"23,493 / 23,493\", \"Revenue\": \"$1,290,926\", \"Tour\": \"Fearless_Tour\", \"tickets_sold\": 23493, \"revenue_num\": 1290926}, {\"City\": \"Washington\", \"Country\": \"United States\", \"Venue\": \"Verizon Center\", \"Opening act(s)\": \"Gloriana Kellie Pickler\", \"Attendance (tickets sold / available)\": \"27,290 / 27,290\", \"Revenue\": \"$1,824,743\", \"Tour\": \"Fearless_Tour\", \"tickets_sold\": 27290, \"revenue_num\": 1824743}, {\"City\": \"Washington\", \"Country\": \"United States\", \"Venue\": \"Verizon Center\", \"Opening act(s)\": \"Gloriana Kellie Pickler\", \"Attendance (tickets sold / available)\": \"27,290 / 27,290\", \"Revenue\": \"$1,824,743\", \"Tour\": \"Fearless_Tour\", \"tickets_sold\": 27290, \"revenue_num\": 1824743}, {\"City\": \"Foxborough\", \"Country\": \"United States\", \"Venue\": \"Gillette Stadium\", \"Opening act(s)\": \"Gloriana Justin Bieber Kellie Pickler\", \"Attendance (tickets sold / available)\": \"56,868 / 56,868\", \"Revenue\": \"$3,726,157\", \"Tour\": \"Fearless_Tour\", \"tickets_sold\": 56868, \"revenue_num\": 3726157}, {\"City\": \"Singapore\", \"Country\": \"Singapore\", \"Venue\": \"Singapore Indoor Stadium\", \"Opening act(s)\": \"Sezairi Sezali\", \"Attendance (tickets sold / available)\": \"8,964 / 8,964\", \"Revenue\": \"$916,850\", \"Tour\": \"Speak_Now_World_Tour\", \"tickets_sold\": 8964, \"revenue_num\": 916850}, {\"City\": \"Seoul\", \"Country\": \"South Korea\", \"Venue\": \"Olympic Gymnastics Arena\", \"Opening act(s)\": \"\\u2014\", \"Attendance (tickets sold / available)\": \"4,725 / 4,725\", \"Revenue\": \"$385,374\", \"Tour\": \"Speak_Now_World_Tour\", \"tickets_sold\": 4725, \"revenue_num\": 385374}, {\"City\": \"Osaka\", \"Country\": \"Japan\", \"Venue\": \"Osaka-Jo Hall\", \"Opening act(s)\": \"\\u2014\", \"Attendance (tickets sold / available)\": \"6,953 / 6,953\", \"Revenue\": \"$758,113\", \"Tour\": \"Speak_Now_World_Tour\", \"tickets_sold\": 6953, \"revenue_num\": 758113}, {\"City\": \"Tokyo\", \"Country\": \"Japan\", \"Venue\": \"Nippon Budokan\", \"Opening act(s)\": \"\\u2014\", \"Attendance (tickets sold / available)\": \"15,955 / 15,955\", \"Revenue\": \"$1,738,227\", \"Tour\": \"Speak_Now_World_Tour\", \"tickets_sold\": 15955, \"revenue_num\": 1738227}, {\"City\": \"Tokyo\", \"Country\": \"Japan\", \"Venue\": \"Nippon Budokan\", \"Opening act(s)\": \"\\u2014\", \"Attendance (tickets sold / available)\": \"15,955 / 15,955\", \"Revenue\": \"$1,738,227\", \"Tour\": \"Speak_Now_World_Tour\", \"tickets_sold\": 15955, \"revenue_num\": 1738227}, {\"City\": \"Quezon City\", \"Country\": \"Philippines\", \"Venue\": \"Smart Araneta Coliseum\", \"Opening act(s)\": \"Sam Concepcion\", \"Attendance (tickets sold / available)\": \"12,667 / 12,667\", \"Revenue\": \"$859,037\", \"Tour\": \"Speak_Now_World_Tour\", \"tickets_sold\": 12667, \"revenue_num\": 859037}, {\"City\": \"Hong Kong\", \"Country\": \"Hong Kong\", \"Venue\": \"AsiaWorld\\u2013Arena\", \"Opening act(s)\": \"Saito Johnny\", \"Attendance (tickets sold / available)\": \"12,573 / 12,573\", \"Revenue\": \"$1,030,633\", \"Tour\": \"Speak_Now_World_Tour\", \"tickets_sold\": 12573, \"revenue_num\": 1030633}, {\"City\": \"Brussels\", \"Country\": \"Belgium\", \"Venue\": \"Forest National\", \"Opening act(s)\": \"Tom Dice\", \"Attendance (tickets sold / available)\": \"4,622 / 4,622\", \"Revenue\": \"$219,212\", \"Tour\": \"Speak_Now_World_Tour\", \"tickets_sold\": 4622, \"revenue_num\": 219212}, {\"City\": \"Rotterdam\", \"Country\": \"Netherlands\", \"Venue\": \"Sportpaleis van Ahoy\", \"Opening act(s)\": \"Tom Dice\", \"Attendance (tickets sold / available)\": \"4,799 / 4,799\", \"Revenue\": \"$248,314\", \"Tour\": \"Speak_Now_World_Tour\", \"tickets_sold\": 4799, \"revenue_num\": 248314}, {\"City\": \"Oslo\", \"Country\": \"Norway\", \"Venue\": \"Oslo Spektrum\", \"Opening act(s)\": \"\\u2014\", \"Attendance (tickets sold / available)\": \"8,650 / 8,650\", \"Revenue\": \"$815,246\", \"Tour\": \"Speak_Now_World_Tour\", \"tickets_sold\": 8650, \"revenue_num\": 815246}, {\"City\": \"Oberhausen\", \"Country\": \"Germany\", \"Venue\": \"K\\u00f6nig Pilsener Arena\", \"Opening act(s)\": \"Martin & James\", \"Attendance (tickets sold / available)\": \"6,082 / 6,082\", \"Revenue\": \"$370,028\", \"Tour\": \"Speak_Now_World_Tour\", \"tickets_sold\": 6082, \"revenue_num\": 370028}, {\"City\": \"Milan\", \"Country\": \"Italy\", \"Venue\": \"Mediolanum Forum\", \"Opening act(s)\": \"Emma Marrone\", \"Attendance (tickets sold / available)\": \"3,421 / 5,585\", \"Revenue\": \"$153,303\", \"Tour\": \"Speak_Now_World_Tour\", \"tickets_sold\": 3421, \"revenue_num\": 153303}, {\"City\": \"Paris\", \"Country\": \"France\", \"Venue\": \"Z\\u00e9nith de Paris\", \"Opening act(s)\": \"\\u2014\", \"Attendance (tickets sold / available)\": \"3,598 / 8,500\", \"Revenue\": \"$201,781\", \"Tour\": \"Speak_Now_World_Tour\", \"tickets_sold\": 3598, \"revenue_num\": 201781}, {\"City\": \"Madrid\", \"Country\": \"Spain\", \"Venue\": \"Palacio de los Deportes\", \"Opening act(s)\": \"The Bright\", \"Attendance (tickets sold / available)\": \"3,962 / 3,962\", \"Revenue\": \"$251,864\", \"Tour\": \"Speak_Now_World_Tour\", \"tickets_sold\": 3962, \"revenue_num\": 251864}, {\"City\": \"Birmingham\", \"Country\": \"England\", \"Venue\": \"LG Arena\", \"Opening act(s)\": \"Martin & James\", \"Attendance (tickets sold / available)\": \"9,339 / 9,339\", \"Revenue\": \"$508,854\", \"Tour\": \"Speak_Now_World_Tour\", \"tickets_sold\": 9339, \"revenue_num\": 508854}, {\"City\": \"Belfast\", \"Country\": \"Northern Ireland\", \"Venue\": \"Odyssey Arena\", \"Opening act(s)\": \"Ryan Sheridan\", \"Attendance (tickets sold / available)\": \"8,058 / 8,058\", \"Revenue\": \"$379,001\", \"Tour\": \"Speak_Now_World_Tour\", \"tickets_sold\": 8058, \"revenue_num\": 379001}, {\"City\": \"Dublin\", \"Country\": \"Ireland\", \"Venue\": \"The O2\", \"Opening act(s)\": \"Ryan Sheridan\", \"Attendance (tickets sold / available)\": \"8,681 / 8,681\", \"Revenue\": \"$419,806\", \"Tour\": \"Speak_Now_World_Tour\", \"tickets_sold\": 8681, \"revenue_num\": 419806}, {\"City\": \"Manchester\", \"Country\": \"England\", \"Venue\": \"Manchester Evening News Arena\", \"Opening act(s)\": \"Martin & James\", \"Attendance (tickets sold / available)\": \"10,488 / 11,622\", \"Revenue\": \"$580,558\", \"Tour\": \"Speak_Now_World_Tour\", \"tickets_sold\": 10488, \"revenue_num\": 580558}, {\"City\": \"London\", \"Country\": \"England\", \"Venue\": \"The O2 Arena\", \"Opening act(s)\": \"Martin & James\", \"Attendance (tickets sold / available)\": \"15,265 / 15,681\", \"Revenue\": \"$891,152\", \"Tour\": \"Speak_Now_World_Tour\", \"tickets_sold\": 15265, \"revenue_num\": 891152}, {\"City\": \"Omaha\", \"Country\": \"United States\", \"Venue\": \"Qwest Center Omaha\", \"Opening act(s)\": \"Needtobreathe\", \"Attendance (tickets sold / available)\": \"26,992 / 26,992\", \"Revenue\": \"$1,717,104\", \"Tour\": \"Speak_Now_World_Tour\", \"tickets_sold\": 26992, \"revenue_num\": 1717104}, {\"City\": \"Omaha\", \"Country\": \"United States\", \"Venue\": \"Qwest Center Omaha\", \"Opening act(s)\": \"Needtobreathe\", \"Attendance (tickets sold / available)\": \"26,992 / 26,992\", \"Revenue\": \"$1,717,104\", \"Tour\": \"Speak_Now_World_Tour\", \"tickets_sold\": 26992, \"revenue_num\": 1717104}, {\"City\": \"Des Moines\", \"Country\": \"United States\", \"Venue\": \"Wells Fargo Arena\", \"Opening act(s)\": \"Needtobreathe\", \"Attendance (tickets sold / available)\": \"13,149 / 13,149\", \"Revenue\": \"$862,771\", \"Tour\": \"Speak_Now_World_Tour\", \"tickets_sold\": 13149, \"revenue_num\": 862771}, {\"City\": \"Sunrise\", \"Country\": \"United States\", \"Venue\": \"BankAtlantic Center\", \"Opening act(s)\": \"Needtobreathe\", \"Attendance (tickets sold / available)\": \"24,077 / 24,077\", \"Revenue\": \"$1,582,951\", \"Tour\": \"Speak_Now_World_Tour\", \"tickets_sold\": 24077, \"revenue_num\": 1582951}, {\"City\": \"Sunrise\", \"Country\": \"United States\", \"Venue\": \"BankAtlantic Center\", \"Opening act(s)\": \"Needtobreathe\", \"Attendance (tickets sold / available)\": \"24,077 / 24,077\", \"Revenue\": \"$1,582,951\", \"Tour\": \"Speak_Now_World_Tour\", \"tickets_sold\": 24077, \"revenue_num\": 1582951}, {\"City\": \"Orlando\", \"Country\": \"United States\", \"Venue\": \"Amway Center\", \"Opening act(s)\": \"Needtobreathe\", \"Attendance (tickets sold / available)\": \"12,262 / 12,262\", \"Revenue\": \"$791,980\", \"Tour\": \"Speak_Now_World_Tour\", \"tickets_sold\": 12262, \"revenue_num\": 791980}, {\"City\": \"Columbus\", \"Country\": \"United States\", \"Venue\": \"Nationwide Arena\", \"Opening act(s)\": \"Needtobreathe\", \"Attendance (tickets sold / available)\": \"14,817 / 14,817\", \"Revenue\": \"$955,259\", \"Tour\": \"Speak_Now_World_Tour\", \"tickets_sold\": 14817, \"revenue_num\": 955259}, {\"City\": \"Milwaukee\", \"Country\": \"United States\", \"Venue\": \"Bradley Center\", \"Opening act(s)\": \"Needtobreathe\", \"Attendance (tickets sold / available)\": \"13,748 / 13,748\", \"Revenue\": \"$897,042\", \"Tour\": \"Speak_Now_World_Tour\", \"tickets_sold\": 13748, \"revenue_num\": 897042}, {\"City\": \"Detroit\", \"Country\": \"United States\", \"Venue\": \"Ford Field\", \"Opening act(s)\": \"Needtobreathe\", \"Attendance (tickets sold / available)\": \"47,992 / 47,992\", \"Revenue\": \"$3,453,549\", \"Tour\": \"Speak_Now_World_Tour\", \"tickets_sold\": 47992, \"revenue_num\": 3453549}, {\"City\": \"Saint Paul\", \"Country\": \"United States\", \"Venue\": \"Xcel Energy Center\", \"Opening act(s)\": \"Needtobreathe\", \"Attendance (tickets sold / available)\": \"28,977 / 28,977\", \"Revenue\": \"$1,913,737\", \"Tour\": \"Speak_Now_World_Tour\", \"tickets_sold\": 28977, \"revenue_num\": 1913737}, {\"City\": \"Saint Paul\", \"Country\": \"United States\", \"Venue\": \"Xcel Energy Center\", \"Opening act(s)\": \"Needtobreathe\", \"Attendance (tickets sold / available)\": \"28,977 / 28,977\", \"Revenue\": \"$1,913,737\", \"Tour\": \"Speak_Now_World_Tour\", \"tickets_sold\": 28977, \"revenue_num\": 1913737}, {\"City\": \"Pittsburgh\", \"Country\": \"United States\", \"Venue\": \"Heinz Field\", \"Opening act(s)\": \"Needtobreathe\", \"Attendance (tickets sold / available)\": \"52,009 / 52,009\", \"Revenue\": \"$4,009,118\", \"Tour\": \"Speak_Now_World_Tour\", \"tickets_sold\": 52009, \"revenue_num\": 4009118}, {\"City\": \"Buffalo\", \"Country\": \"United States\", \"Venue\": \"First Niagara Center\", \"Opening act(s)\": \"Needtobreathe\", \"Attendance (tickets sold / available)\": \"14,487 / 14,487\", \"Revenue\": \"$966,749\", \"Tour\": \"Speak_Now_World_Tour\", \"tickets_sold\": 14487, \"revenue_num\": 966749}, {\"City\": \"Hartford\", \"Country\": \"United States\", \"Venue\": \"XL Center\", \"Opening act(s)\": \"Needtobreathe\", \"Attendance (tickets sold / available)\": \"12,436 / 12,436\", \"Revenue\": \"$810,165\", \"Tour\": \"Speak_Now_World_Tour\", \"tickets_sold\": 12436, \"revenue_num\": 810165}, {\"City\": \"Foxborough\", \"Country\": \"United States\", \"Venue\": \"Gillette Stadium\", \"Opening act(s)\": \"Needtobreathe\", \"Attendance (tickets sold / available)\": \"110,800 / 110,800\", \"Revenue\": \"$8,026,350\", \"Tour\": \"Speak_Now_World_Tour\", \"tickets_sold\": 110800, \"revenue_num\": 8026350}, {\"City\": \"Foxborough\", \"Country\": \"United States\", \"Venue\": \"Gillette Stadium\", \"Opening act(s)\": \"Needtobreathe\", \"Attendance (tickets sold / available)\": \"110,800 / 110,800\", \"Revenue\": \"$8,026,350\", \"Tour\": \"Speak_Now_World_Tour\", \"tickets_sold\": 110800, \"revenue_num\": 8026350}, {\"City\": \"Greensboro\", \"Country\": \"United States\", \"Venue\": \"Greensboro Coliseum\", \"Opening act(s)\": \"Needtobreathe\", \"Attendance (tickets sold / available)\": \"14,789 / 14,789\", \"Revenue\": \"$990,701\", \"Tour\": \"Speak_Now_World_Tour\", \"tickets_sold\": 14789, \"revenue_num\": 990701}, {\"City\": \"Knoxville\", \"Country\": \"United States\", \"Venue\": \"Thompson\\u2013Boling Arena\", \"Opening act(s)\": \"Needtobreathe\", \"Attendance (tickets sold / available)\": \"13,754 / 13,754\", \"Revenue\": \"$903,875\", \"Tour\": \"Speak_Now_World_Tour\", \"tickets_sold\": 13754, \"revenue_num\": 903875}, {\"City\": \"Montreal\", \"Country\": \"Canada\", \"Venue\": \"Bell Centre\", \"Opening act(s)\": \"Needtobreathe\", \"Attendance (tickets sold / available)\": \"13,439 / 13,439\", \"Revenue\": \"$1,254,230\", \"Tour\": \"Speak_Now_World_Tour\", \"tickets_sold\": 13439, \"revenue_num\": 1254230}, {\"City\": \"Toronto\", \"Country\": \"Canada\", \"Venue\": \"Air Canada Centre\", \"Opening act(s)\": \"Needtobreathe\", \"Attendance (tickets sold / available)\": \"30,144 / 30,144\", \"Revenue\": \"$3,036,000\", \"Tour\": \"Speak_Now_World_Tour\", \"tickets_sold\": 30144, \"revenue_num\": 3036000}, {\"City\": \"Toronto\", \"Country\": \"Canada\", \"Venue\": \"Air Canada Centre\", \"Opening act(s)\": \"Needtobreathe\", \"Attendance (tickets sold / available)\": \"30,144 / 30,144\", \"Revenue\": \"$3,036,000\", \"Tour\": \"Speak_Now_World_Tour\", \"tickets_sold\": 30144, \"revenue_num\": 3036000}, {\"City\": \"Newark\", \"Country\": \"United States\", \"Venue\": \"Prudential Center\", \"Opening act(s)\": \"Needtobreathe\", \"Attendance (tickets sold / available)\": \"51,487 / 51,487\", \"Revenue\": \"$3,875,463\", \"Tour\": \"Speak_Now_World_Tour\", \"tickets_sold\": 51487, \"revenue_num\": 3875463}, {\"City\": \"Newark\", \"Country\": \"United States\", \"Venue\": \"Prudential Center\", \"Opening act(s)\": \"Needtobreathe\", \"Attendance (tickets sold / available)\": \"51,487 / 51,487\", \"Revenue\": \"$3,875,463\", \"Tour\": \"Speak_Now_World_Tour\", \"tickets_sold\": 51487, \"revenue_num\": 3875463}, {\"City\": \"Newark\", \"Country\": \"United States\", \"Venue\": \"Prudential Center\", \"Opening act(s)\": \"Needtobreathe\", \"Attendance (tickets sold / available)\": \"51,487 / 51,487\", \"Revenue\": \"$3,875,463\", \"Tour\": \"Speak_Now_World_Tour\", \"tickets_sold\": 51487, \"revenue_num\": 3875463}, {\"City\": \"Newark\", \"Country\": \"United States\", \"Venue\": \"Prudential Center\", \"Opening act(s)\": \"Needtobreathe\", \"Attendance (tickets sold / available)\": \"51,487 / 51,487\", \"Revenue\": \"$3,875,463\", \"Tour\": \"Speak_Now_World_Tour\", \"tickets_sold\": 51487, \"revenue_num\": 3875463}, {\"City\": \"Grand Rapids\", \"Country\": \"United States\", \"Venue\": \"Van Andel Arena\", \"Opening act(s)\": \"Needtobreathe\", \"Attendance (tickets sold / available)\": \"11,012 / 11,012\", \"Revenue\": \"$724,854\", \"Tour\": \"Speak_Now_World_Tour\", \"tickets_sold\": 11012, \"revenue_num\": 724854}, {\"City\": \"Indianapolis\", \"Country\": \"United States\", \"Venue\": \"Conseco Fieldhouse\", \"Opening act(s)\": \"Needtobreathe\", \"Attendance (tickets sold / available)\": \"13,329 / 13,329\", \"Revenue\": \"$877,175\", \"Tour\": \"Speak_Now_World_Tour\", \"tickets_sold\": 13329, \"revenue_num\": 877175}, {\"City\": \"Cleveland\", \"Country\": \"United States\", \"Venue\": \"Quicken Loans Arena\", \"Opening act(s)\": \"Needtobreathe\", \"Attendance (tickets sold / available)\": \"14,873 / 14,873\", \"Revenue\": \"$976,954\", \"Tour\": \"Speak_Now_World_Tour\", \"tickets_sold\": 14873, \"revenue_num\": 976954}, {\"City\": \"Washington\", \"Country\": \"United States\", \"Venue\": \"Verizon Center\", \"Opening act(s)\": \"Needtobreathe\", \"Attendance (tickets sold / available)\": \"29,303 / 29,303\", \"Revenue\": \"$2,068,789\", \"Tour\": \"Speak_Now_World_Tour\", \"tickets_sold\": 29303, \"revenue_num\": 2068789}, {\"City\": \"Washington\", \"Country\": \"United States\", \"Venue\": \"Verizon Center\", \"Opening act(s)\": \"Needtobreathe\", \"Attendance (tickets sold / available)\": \"29,303 / 29,303\", \"Revenue\": \"$2,068,789\", \"Tour\": \"Speak_Now_World_Tour\", \"tickets_sold\": 29303, \"revenue_num\": 2068789}, {\"City\": \"Philadelphia\", \"Country\": \"United States\", \"Venue\": \"Lincoln Financial Field\", \"Opening act(s)\": \"Needtobreathe\", \"Attendance (tickets sold / available)\": \"51,395 / 51,395\", \"Revenue\": \"$4,268,678\", \"Tour\": \"Speak_Now_World_Tour\", \"tickets_sold\": 51395, \"revenue_num\": 4268678}, {\"City\": \"Rosemont\", \"Country\": \"United States\", \"Venue\": \"Allstate Arena\", \"Opening act(s)\": \"Needtobreathe\", \"Attendance (tickets sold / available)\": \"26,112 / 26,112\", \"Revenue\": \"$1,909,603\", \"Tour\": \"Speak_Now_World_Tour\", \"tickets_sold\": 26112, \"revenue_num\": 1909603}, {\"City\": \"Rosemont\", \"Country\": \"United States\", \"Venue\": \"Allstate Arena\", \"Opening act(s)\": \"Needtobreathe\", \"Attendance (tickets sold / available)\": \"26,112 / 26,112\", \"Revenue\": \"$1,909,603\", \"Tour\": \"Speak_Now_World_Tour\", \"tickets_sold\": 26112, \"revenue_num\": 1909603}, {\"City\": \"St. Louis\", \"Country\": \"United States\", \"Venue\": \"Scottrade Center\", \"Opening act(s)\": \"Needtobreathe\", \"Attendance (tickets sold / available)\": \"27,965 / 27,965\", \"Revenue\": \"$1,850,159\", \"Tour\": \"Speak_Now_World_Tour\", \"tickets_sold\": 27965, \"revenue_num\": 1850159}, {\"City\": \"St. Louis\", \"Country\": \"United States\", \"Venue\": \"Scottrade Center\", \"Opening act(s)\": \"Needtobreathe\", \"Attendance (tickets sold / available)\": \"27,965 / 27,965\", \"Revenue\": \"$1,850,159\", \"Tour\": \"Speak_Now_World_Tour\", \"tickets_sold\": 27965, \"revenue_num\": 1850159}, {\"City\": \"Edmonton\", \"Country\": \"Canada\", \"Venue\": \"Rexall Place\", \"Opening act(s)\": \"Needtobreathe\", \"Attendance (tickets sold / available)\": \"25,336 / 25,336\", \"Revenue\": \"$2,136,270\", \"Tour\": \"Speak_Now_World_Tour\", \"tickets_sold\": 25336, \"revenue_num\": 2136270}, {\"City\": \"Edmonton\", \"Country\": \"Canada\", \"Venue\": \"Rexall Place\", \"Opening act(s)\": \"Needtobreathe\", \"Attendance (tickets sold / available)\": \"25,336 / 25,336\", \"Revenue\": \"$2,136,270\", \"Tour\": \"Speak_Now_World_Tour\", \"tickets_sold\": 25336, \"revenue_num\": 2136270}, {\"City\": \"Los Angeles\", \"Country\": \"United States\", \"Venue\": \"Staples Center\", \"Opening act(s)\": \"Needtobreathe\", \"Attendance (tickets sold / available)\": \"54,900 / 54,900\", \"Revenue\": \"$3,927,154\", \"Tour\": \"Speak_Now_World_Tour\", \"tickets_sold\": 54900, \"revenue_num\": 3927154}, {\"City\": \"Los Angeles\", \"Country\": \"United States\", \"Venue\": \"Staples Center\", \"Opening act(s)\": \"Needtobreathe\", \"Attendance (tickets sold / available)\": \"54,900 / 54,900\", \"Revenue\": \"$3,927,154\", \"Tour\": \"Speak_Now_World_Tour\", \"tickets_sold\": 54900, \"revenue_num\": 3927154}, {\"City\": \"Los Angeles\", \"Country\": \"United States\", \"Venue\": \"Staples Center\", \"Opening act(s)\": \"Needtobreathe\", \"Attendance (tickets sold / available)\": \"54,900 / 54,900\", \"Revenue\": \"$3,927,154\", \"Tour\": \"Speak_Now_World_Tour\", \"tickets_sold\": 54900, \"revenue_num\": 3927154}, {\"City\": \"Los Angeles\", \"Country\": \"United States\", \"Venue\": \"Staples Center\", \"Opening act(s)\": \"Needtobreathe\", \"Attendance (tickets sold / available)\": \"54,900 / 54,900\", \"Revenue\": \"$3,927,154\", \"Tour\": \"Speak_Now_World_Tour\", \"tickets_sold\": 54900, \"revenue_num\": 3927154}, {\"City\": \"San Jose\", \"Country\": \"United States\", \"Venue\": \"HP Pavilion\", \"Opening act(s)\": \"Needtobreathe\", \"Attendance (tickets sold / available)\": \"24,827 / 24,827\", \"Revenue\": \"$1,825,448\", \"Tour\": \"Speak_Now_World_Tour\", \"tickets_sold\": 24827, \"revenue_num\": 1825448}, {\"City\": \"San Jose\", \"Country\": \"United States\", \"Venue\": \"HP Pavilion\", \"Opening act(s)\": \"Needtobreathe\", \"Attendance (tickets sold / available)\": \"24,827 / 24,827\", \"Revenue\": \"$1,825,448\", \"Tour\": \"Speak_Now_World_Tour\", \"tickets_sold\": 24827, \"revenue_num\": 1825448}, {\"City\": \"Sacramento\", \"Country\": \"United States\", \"Venue\": \"Power Balance Pavilion\", \"Opening act(s)\": \"Needtobreathe\", \"Attendance (tickets sold / available)\": \"12,432 / 12,432\", \"Revenue\": \"$934,326\", \"Tour\": \"Speak_Now_World_Tour\", \"tickets_sold\": 12432, \"revenue_num\": 934326}, {\"City\": \"Portland\", \"Country\": \"United States\", \"Venue\": \"Rose Garden Arena\", \"Opening act(s)\": \"Needtobreathe\", \"Attendance (tickets sold / available)\": \"13,610 / 13,610\", \"Revenue\": \"$903,445\", \"Tour\": \"Speak_Now_World_Tour\", \"tickets_sold\": 13610, \"revenue_num\": 903445}, {\"City\": \"Tacoma\", \"Country\": \"United States\", \"Venue\": \"Tacoma Dome\", \"Opening act(s)\": \"Needtobreathe\", \"Attendance (tickets sold / available)\": \"19,904 / 19,904\", \"Revenue\": \"$1,289,430\", \"Tour\": \"Speak_Now_World_Tour\", \"tickets_sold\": 19904, \"revenue_num\": 1289430}, {\"City\": \"Vancouver\", \"Country\": \"Canada\", \"Venue\": \"Rogers Arena\", \"Opening act(s)\": \"Needtobreathe\", \"Attendance (tickets sold / available)\": \"26,030 / 26,030\", \"Revenue\": \"$2,190,680\", \"Tour\": \"Speak_Now_World_Tour\", \"tickets_sold\": 26030, \"revenue_num\": 2190680}, {\"City\": \"Vancouver\", \"Country\": \"Canada\", \"Venue\": \"Rogers Arena\", \"Opening act(s)\": \"Needtobreathe\", \"Attendance (tickets sold / available)\": \"26,030 / 26,030\", \"Revenue\": \"$2,190,680\", \"Tour\": \"Speak_Now_World_Tour\", \"tickets_sold\": 26030, \"revenue_num\": 2190680}, {\"City\": \"Nashville\", \"Country\": \"United States\", \"Venue\": \"Bridgestone Arena\", \"Opening act(s)\": \"Needtobreathe\", \"Attendance (tickets sold / available)\": \"28,178 / 28,178\", \"Revenue\": \"$1,841,134\", \"Tour\": \"Speak_Now_World_Tour\", \"tickets_sold\": 28178, \"revenue_num\": 1841134}, {\"City\": \"Nashville\", \"Country\": \"United States\", \"Venue\": \"Bridgestone Arena\", \"Opening act(s)\": \"Needtobreathe\", \"Attendance (tickets sold / available)\": \"28,178 / 28,178\", \"Revenue\": \"$1,841,134\", \"Tour\": \"Speak_Now_World_Tour\", \"tickets_sold\": 28178, \"revenue_num\": 1841134}, {\"City\": \"Bossier City\", \"Country\": \"United States\", \"Venue\": \"CenturyLink Center\", \"Opening act(s)\": \"Needtobreathe\", \"Attendance (tickets sold / available)\": \"11,510 / 11,510\", \"Revenue\": \"$728,546\", \"Tour\": \"Speak_Now_World_Tour\", \"tickets_sold\": 11510, \"revenue_num\": 728546}, {\"City\": \"Tulsa\", \"Country\": \"United States\", \"Venue\": \"BOK Center\", \"Opening act(s)\": \"Needtobreathe\", \"Attendance (tickets sold / available)\": \"12,546 / 12,546\", \"Revenue\": \"$907,573\", \"Tour\": \"Speak_Now_World_Tour\", \"tickets_sold\": 12546, \"revenue_num\": 907573}, {\"City\": \"Kansas City\", \"Country\": \"United States\", \"Venue\": \"Arrowhead Stadium\", \"Opening act(s)\": \"Needtobreathe\", \"Attendance (tickets sold / available)\": \"48,562 / 48,562\", \"Revenue\": \"$3,148,046\", \"Tour\": \"Speak_Now_World_Tour\", \"tickets_sold\": 48562, \"revenue_num\": 3148046}, {\"City\": \"Denver\", \"Country\": \"United States\", \"Venue\": \"Pepsi Center\", \"Opening act(s)\": \"Needtobreathe\", \"Attendance (tickets sold / available)\": \"12,908 / 12,908\", \"Revenue\": \"$834,916\", \"Tour\": \"Speak_Now_World_Tour\", \"tickets_sold\": 12908, \"revenue_num\": 834916}, {\"City\": \"Salt Lake City\", \"Country\": \"United States\", \"Venue\": \"EnergySolutions Arena\", \"Opening act(s)\": \"Needtobreathe\", \"Attendance (tickets sold / available)\": \"13,720 / 13,720\", \"Revenue\": \"$896,946\", \"Tour\": \"Speak_Now_World_Tour\", \"tickets_sold\": 13720, \"revenue_num\": 896946}, {\"City\": \"Atlanta\", \"Country\": \"United States\", \"Venue\": \"Philips Arena\", \"Opening act(s)\": \"Needtobreathe\", \"Attendance (tickets sold / available)\": \"26,244 / 26,244\", \"Revenue\": \"$1,726,661\", \"Tour\": \"Speak_Now_World_Tour\", \"tickets_sold\": 26244, \"revenue_num\": 1726661}, {\"City\": \"Atlanta\", \"Country\": \"United States\", \"Venue\": \"Philips Arena\", \"Opening act(s)\": \"Needtobreathe\", \"Attendance (tickets sold / available)\": \"26,244 / 26,244\", \"Revenue\": \"$1,726,661\", \"Tour\": \"Speak_Now_World_Tour\", \"tickets_sold\": 26244, \"revenue_num\": 1726661}, {\"City\": \"North Little Rock\", \"Country\": \"United States\", \"Venue\": \"Verizon Arena\", \"Opening act(s)\": \"Needtobreathe\", \"Attendance (tickets sold / available)\": \"13,566 / 13,566\", \"Revenue\": \"$856,123\", \"Tour\": \"Speak_Now_World_Tour\", \"tickets_sold\": 13566, \"revenue_num\": 856123}, {\"City\": \"New Orleans\", \"Country\": \"United States\", \"Venue\": \"New Orleans Arena\", \"Opening act(s)\": \"Needtobreathe\", \"Attendance (tickets sold / available)\": \"12,943 / 12,943\", \"Revenue\": \"$830,289\", \"Tour\": \"Speak_Now_World_Tour\", \"tickets_sold\": 12943, \"revenue_num\": 830289}, {\"City\": \"Arlington\", \"Country\": \"United States\", \"Venue\": \"Cowboys Stadium\", \"Opening act(s)\": \"Needtobreathe\", \"Attendance (tickets sold / available)\": \"55,451 / 55,451\", \"Revenue\": \"$4,337,062\", \"Tour\": \"Speak_Now_World_Tour\", \"tickets_sold\": 55451, \"revenue_num\": 4337062}, {\"City\": \"Louisville\", \"Country\": \"United States\", \"Venue\": \"KFC Yum! Center\", \"Opening act(s)\": \"Needtobreathe\", \"Attendance (tickets sold / available)\": \"14,848 / 14,848\", \"Revenue\": \"$1,003,828\", \"Tour\": \"Speak_Now_World_Tour\", \"tickets_sold\": 14848, \"revenue_num\": 1003828}, {\"City\": \"Lubbock\", \"Country\": \"United States\", \"Venue\": \"United Spirit Arena\", \"Opening act(s)\": \"Needtobreathe\", \"Attendance (tickets sold / available)\": \"10,419 / 10,419\", \"Revenue\": \"$710,426\", \"Tour\": \"Speak_Now_World_Tour\", \"tickets_sold\": 10419, \"revenue_num\": 710426}, {\"City\": \"Oklahoma City\", \"Country\": \"United States\", \"Venue\": \"Chesapeake Energy Arena\", \"Opening act(s)\": \"Needtobreathe\", \"Attendance (tickets sold / available)\": \"11,592 / 11,592\", \"Revenue\": \"$758,364\", \"Tour\": \"Speak_Now_World_Tour\", \"tickets_sold\": 11592, \"revenue_num\": 758364}, {\"City\": \"San Diego\", \"Country\": \"United States\", \"Venue\": \"Valley View Casino Center\", \"Opening act(s)\": \"Needtobreathe\", \"Attendance (tickets sold / available)\": \"10,834 / 10,834\", \"Revenue\": \"$792,634\", \"Tour\": \"Speak_Now_World_Tour\", \"tickets_sold\": 10834, \"revenue_num\": 792634}, {\"City\": \"Glendale\", \"Country\": \"United States\", \"Venue\": \"Jobing.com Arena\", \"Opening act(s)\": \"Needtobreathe\", \"Attendance (tickets sold / available)\": \"27,029 / 27,029\", \"Revenue\": \"$1,826,025\", \"Tour\": \"Speak_Now_World_Tour\", \"tickets_sold\": 27029, \"revenue_num\": 1826025}, {\"City\": \"Glendale\", \"Country\": \"United States\", \"Venue\": \"Jobing.com Arena\", \"Opening act(s)\": \"Needtobreathe\", \"Attendance (tickets sold / available)\": \"27,029 / 27,029\", \"Revenue\": \"$1,826,025\", \"Tour\": \"Speak_Now_World_Tour\", \"tickets_sold\": 27029, \"revenue_num\": 1826025}, {\"City\": \"San Antonio\", \"Country\": \"United States\", \"Venue\": \"AT&T Center\", \"Opening act(s)\": \"Needtobreathe\", \"Attendance (tickets sold / available)\": \"13,851 / 13,851\", \"Revenue\": \"$901,535\", \"Tour\": \"Speak_Now_World_Tour\", \"tickets_sold\": 13851, \"revenue_num\": 901535}, {\"City\": \"Austin\", \"Country\": \"United States\", \"Venue\": \"Frank Erwin Center\", \"Opening act(s)\": \"Needtobreathe\", \"Attendance (tickets sold / available)\": \"11,999 / 11,999\", \"Revenue\": \"$752,078\", \"Tour\": \"Speak_Now_World_Tour\", \"tickets_sold\": 11999, \"revenue_num\": 752078}, {\"City\": \"Lexington\", \"Country\": \"United States\", \"Venue\": \"Rupp Arena\", \"Opening act(s)\": \"Needtobreathe\", \"Attendance (tickets sold / available)\": \"16,237 / 16,237\", \"Revenue\": \"$1,041,935\", \"Tour\": \"Speak_Now_World_Tour\", \"tickets_sold\": 16237, \"revenue_num\": 1041935}, {\"City\": \"Memphis\", \"Country\": \"United States\", \"Venue\": \"FedExForum\", \"Opening act(s)\": \"Needtobreathe\", \"Attendance (tickets sold / available)\": \"12,604 / 12,604\", \"Revenue\": \"$820,036\", \"Tour\": \"Speak_Now_World_Tour\", \"tickets_sold\": 12604, \"revenue_num\": 820036}, {\"City\": \"Houston\", \"Country\": \"United States\", \"Venue\": \"Minute Maid Park\", \"Opening act(s)\": \"Needtobreathe\", \"Attendance (tickets sold / available)\": \"42,095 / 42,095\", \"Revenue\": \"$3,435,756\", \"Tour\": \"Speak_Now_World_Tour\", \"tickets_sold\": 42095, \"revenue_num\": 3435756}, {\"City\": \"Jacksonville\", \"Country\": \"United States\", \"Venue\": \"Jacksonville Veterans Memorial Arena\", \"Opening act(s)\": \"Needtobreathe\", \"Attendance (tickets sold / available)\": \"11,785 / 11,785\", \"Revenue\": \"$749,099\", \"Tour\": \"Speak_Now_World_Tour\", \"tickets_sold\": 11785, \"revenue_num\": 749099}, {\"City\": \"Tampa\", \"Country\": \"United States\", \"Venue\": \"St. Pete Times Forum\", \"Opening act(s)\": \"Needtobreathe\", \"Attendance (tickets sold / available)\": \"13,695 / 13,695\", \"Revenue\": \"$914,300\", \"Tour\": \"Speak_Now_World_Tour\", \"tickets_sold\": 13695, \"revenue_num\": 914300}, {\"City\": \"Miami\", \"Country\": \"United States\", \"Venue\": \"American Airlines Arena\", \"Opening act(s)\": \"Needtobreathe\", \"Attendance (tickets sold / available)\": \"12,153 / 12,153\", \"Revenue\": \"$786,904\", \"Tour\": \"Speak_Now_World_Tour\", \"tickets_sold\": 12153, \"revenue_num\": 786904}, {\"City\": \"Charlotte\", \"Country\": \"United States\", \"Venue\": \"Time Warner Cable Arena\", \"Opening act(s)\": \"Needtobreathe\", \"Attendance (tickets sold / available)\": \"14,272 / 14,272\", \"Revenue\": \"$920,903\", \"Tour\": \"Speak_Now_World_Tour\", \"tickets_sold\": 14272, \"revenue_num\": 920903}, {\"City\": \"Raleigh\", \"Country\": \"United States\", \"Venue\": \"RBC Center\", \"Opening act(s)\": \"Needtobreathe\", \"Attendance (tickets sold / available)\": \"13,567 / 13,567\", \"Revenue\": \"$866,056\", \"Tour\": \"Speak_Now_World_Tour\", \"tickets_sold\": 13567, \"revenue_num\": 866056}, {\"City\": \"Columbia\", \"Country\": \"United States\", \"Venue\": \"Colonial Life Arena\", \"Opening act(s)\": \"Needtobreathe\", \"Attendance (tickets sold / available)\": \"12,807 / 12,807\", \"Revenue\": \"$828,231\", \"Tour\": \"Speak_Now_World_Tour\", \"tickets_sold\": 12807, \"revenue_num\": 828231}, {\"City\": \"New York\", \"Country\": \"United States\", \"Venue\": \"Madison Square Garden\", \"Opening act(s)\": \"Needtobreathe\", \"Attendance (tickets sold / available)\": \"26,652 / 26,652\", \"Revenue\": \"$1,988,411\", \"Tour\": \"Speak_Now_World_Tour\", \"tickets_sold\": 26652, \"revenue_num\": 1988411}, {\"City\": \"New York\", \"Country\": \"United States\", \"Venue\": \"Madison Square Garden\", \"Opening act(s)\": \"Needtobreathe\", \"Attendance (tickets sold / available)\": \"26,652 / 26,652\", \"Revenue\": \"$1,988,411\", \"Tour\": \"Speak_Now_World_Tour\", \"tickets_sold\": 26652, \"revenue_num\": 1988411}, {\"City\": \"Perth\", \"Country\": \"Australia\", \"Venue\": \"Burswood Dome\", \"Opening act(s)\": \"Hot Chelle Rae\", \"Attendance (tickets sold / available)\": \"15,142 / 15,142\", \"Revenue\": \"$1,878,530\", \"Tour\": \"Speak_Now_World_Tour\", \"tickets_sold\": 15142, \"revenue_num\": 1878530}, {\"City\": \"Adelaide\", \"Country\": \"Australia\", \"Venue\": \"Adelaide Entertainment Centre\", \"Opening act(s)\": \"Hot Chelle Rae\", \"Attendance (tickets sold / available)\": \"8,589 / 8,589\", \"Revenue\": \"$1,075,370\", \"Tour\": \"Speak_Now_World_Tour\", \"tickets_sold\": 8589, \"revenue_num\": 1075370}, {\"City\": \"Brisbane\", \"Country\": \"Australia\", \"Venue\": \"Brisbane Entertainment Centre\", \"Opening act(s)\": \"Hot Chelle Rae\", \"Attendance (tickets sold / available)\": \"19,870 / 19,870\", \"Revenue\": \"$2,416,030\", \"Tour\": \"Speak_Now_World_Tour\", \"tickets_sold\": 19870, \"revenue_num\": 2416030}, {\"City\": \"Brisbane\", \"Country\": \"Australia\", \"Venue\": \"Brisbane Entertainment Centre\", \"Opening act(s)\": \"Hot Chelle Rae\", \"Attendance (tickets sold / available)\": \"19,870 / 19,870\", \"Revenue\": \"$2,416,030\", \"Tour\": \"Speak_Now_World_Tour\", \"tickets_sold\": 19870, \"revenue_num\": 2416030}, {\"City\": \"Sydney\", \"Country\": \"Australia\", \"Venue\": \"Allphones Arena\", \"Opening act(s)\": \"Hot Chelle Rae\", \"Attendance (tickets sold / available)\": \"27,900 / 27,900\", \"Revenue\": \"$3,420,360\", \"Tour\": \"Speak_Now_World_Tour\", \"tickets_sold\": 27900, \"revenue_num\": 3420360}, {\"City\": \"Sydney\", \"Country\": \"Australia\", \"Venue\": \"Allphones Arena\", \"Opening act(s)\": \"Hot Chelle Rae\", \"Attendance (tickets sold / available)\": \"27,900 / 27,900\", \"Revenue\": \"$3,420,360\", \"Tour\": \"Speak_Now_World_Tour\", \"tickets_sold\": 27900, \"revenue_num\": 3420360}, {\"City\": \"Melbourne\", \"Country\": \"Australia\", \"Venue\": \"Rod Laver Arena\", \"Opening act(s)\": \"Hot Chelle Rae\", \"Attendance (tickets sold / available)\": \"33,793 / 33,793\", \"Revenue\": \"$4,151,650\", \"Tour\": \"Speak_Now_World_Tour\", \"tickets_sold\": 33793, \"revenue_num\": 4151650}, {\"City\": \"Melbourne\", \"Country\": \"Australia\", \"Venue\": \"Rod Laver Arena\", \"Opening act(s)\": \"Hot Chelle Rae\", \"Attendance (tickets sold / available)\": \"33,793 / 33,793\", \"Revenue\": \"$4,151,650\", \"Tour\": \"Speak_Now_World_Tour\", \"tickets_sold\": 33793, \"revenue_num\": 4151650}, {\"City\": \"Melbourne\", \"Country\": \"Australia\", \"Venue\": \"Rod Laver Arena\", \"Opening act(s)\": \"Hot Chelle Rae\", \"Attendance (tickets sold / available)\": \"33,793 / 33,793\", \"Revenue\": \"$4,151,650\", \"Tour\": \"Speak_Now_World_Tour\", \"tickets_sold\": 33793, \"revenue_num\": 4151650}, {\"City\": \"Auckland\", \"Country\": \"New Zealand\", \"Venue\": \"Vector Arena\", \"Opening act(s)\": \"Hot Chelle Rae\", \"Attendance (tickets sold / available)\": \"32,585 / 32,585\", \"Revenue\": \"$2,888,560\", \"Tour\": \"Speak_Now_World_Tour\", \"tickets_sold\": 32585, \"revenue_num\": 2888560}, {\"City\": \"Auckland\", \"Country\": \"New Zealand\", \"Venue\": \"Vector Arena\", \"Opening act(s)\": \"Hot Chelle Rae\", \"Attendance (tickets sold / available)\": \"32,585 / 32,585\", \"Revenue\": \"$2,888,560\", \"Tour\": \"Speak_Now_World_Tour\", \"tickets_sold\": 32585, \"revenue_num\": 2888560}, {\"City\": \"Auckland\", \"Country\": \"New Zealand\", \"Venue\": \"Vector Arena\", \"Opening act(s)\": \"Hot Chelle Rae\", \"Attendance (tickets sold / available)\": \"32,585 / 32,585\", \"Revenue\": \"$2,888,560\", \"Tour\": \"Speak_Now_World_Tour\", \"tickets_sold\": 32585, \"revenue_num\": 2888560}, {\"City\": \"Omaha\", \"Country\": \"United States\", \"Venue\": \"CenturyLink Center Omaha\", \"Opening act(s)\": \"Ed Sheeran Brett Eldredge\", \"Attendance (tickets sold / available)\": \"27,877 / 27,877\", \"Revenue\": \"$2,243,164\", \"Tour\": \"The_Red_Tour\", \"tickets_sold\": 27877, \"revenue_num\": 2243164}, {\"City\": \"Omaha\", \"Country\": \"United States\", \"Venue\": \"CenturyLink Center Omaha\", \"Opening act(s)\": \"Ed Sheeran Brett Eldredge\", \"Attendance (tickets sold / available)\": \"27,877 / 27,877\", \"Revenue\": \"$2,243,164\", \"Tour\": \"The_Red_Tour\", \"tickets_sold\": 27877, \"revenue_num\": 2243164}, {\"City\": \"St. Louis\", \"Country\": \"United States\", \"Venue\": \"Scottrade Center\", \"Opening act(s)\": \"Ed Sheeran Brett Eldredge\", \"Attendance (tickets sold / available)\": \"28,582 / 28,582\", \"Revenue\": \"$2,346,203\", \"Tour\": \"The_Red_Tour\", \"tickets_sold\": 28582, \"revenue_num\": 2346203}, {\"City\": \"St. Louis\", \"Country\": \"United States\", \"Venue\": \"Scottrade Center\", \"Opening act(s)\": \"Ed Sheeran Brett Eldredge\", \"Attendance (tickets sold / available)\": \"28,582 / 28,582\", \"Revenue\": \"$2,346,203\", \"Tour\": \"The_Red_Tour\", \"tickets_sold\": 28582, \"revenue_num\": 2346203}, {\"City\": \"Charlotte\", \"Country\": \"United States\", \"Venue\": \"Time Warner Cable Arena\", \"Opening act(s)\": \"Ed Sheeran Brett Eldredge\", \"Attendance (tickets sold / available)\": \"14,686 / 14,686\", \"Revenue\": \"$1,162,733\", \"Tour\": \"The_Red_Tour\", \"tickets_sold\": 14686, \"revenue_num\": 1162733}, {\"City\": \"Columbia\", \"Country\": \"United States\", \"Venue\": \"Colonial Life Arena\", \"Opening act(s)\": \"Ed Sheeran Brett Eldredge\", \"Attendance (tickets sold / available)\": \"12,490 / 12,490\", \"Revenue\": \"$996,114\", \"Tour\": \"The_Red_Tour\", \"tickets_sold\": 12490, \"revenue_num\": 996114}, {\"City\": \"Newark\", \"Country\": \"United States\", \"Venue\": \"Prudential Center\", \"Opening act(s)\": \"Ed Sheeran Florida Georgia Line\", \"Attendance (tickets sold / available)\": \"38,065 / 38,065\", \"Revenue\": \"$3,565,317\", \"Tour\": \"The_Red_Tour\", \"tickets_sold\": 38065, \"revenue_num\": 3565317}, {\"City\": \"Newark\", \"Country\": \"United States\", \"Venue\": \"Prudential Center\", \"Opening act(s)\": \"Ed Sheeran Florida Georgia Line\", \"Attendance (tickets sold / available)\": \"38,065 / 38,065\", \"Revenue\": \"$3,565,317\", \"Tour\": \"The_Red_Tour\", \"tickets_sold\": 38065, \"revenue_num\": 3565317}, {\"City\": \"Newark\", \"Country\": \"United States\", \"Venue\": \"Prudential Center\", \"Opening act(s)\": \"Ed Sheeran Florida Georgia Line\", \"Attendance (tickets sold / available)\": \"38,065 / 38,065\", \"Revenue\": \"$3,565,317\", \"Tour\": \"The_Red_Tour\", \"tickets_sold\": 38065, \"revenue_num\": 3565317}, {\"City\": \"Miami\", \"Country\": \"United States\", \"Venue\": \"American Airlines Arena\", \"Opening act(s)\": \"Ed Sheeran Brett Eldredge\", \"Attendance (tickets sold / available)\": \"12,808 / 12,808\", \"Revenue\": \"$1,010,175\", \"Tour\": \"The_Red_Tour\", \"tickets_sold\": 12808, \"revenue_num\": 1010175}, {\"City\": \"Orlando\", \"Country\": \"United States\", \"Venue\": \"Amway Center\", \"Opening act(s)\": \"Ed Sheeran Brett Eldredge\", \"Attendance (tickets sold / available)\": \"25,617 / 25,617\", \"Revenue\": \"$2,054,128\", \"Tour\": \"The_Red_Tour\", \"tickets_sold\": 25617, \"revenue_num\": 2054128}, {\"City\": \"Orlando\", \"Country\": \"United States\", \"Venue\": \"Amway Center\", \"Opening act(s)\": \"Ed Sheeran Brett Eldredge\", \"Attendance (tickets sold / available)\": \"25,617 / 25,617\", \"Revenue\": \"$2,054,128\", \"Tour\": \"The_Red_Tour\", \"tickets_sold\": 25617, \"revenue_num\": 2054128}, {\"City\": \"Atlanta\", \"Country\": \"United States\", \"Venue\": \"Philips Arena\", \"Opening act(s)\": \"Ed Sheeran Brett Eldredge\", \"Attendance (tickets sold / available)\": \"25,471 / 25,471\", \"Revenue\": \"$2,048,023\", \"Tour\": \"The_Red_Tour\", \"tickets_sold\": 25471, \"revenue_num\": 2048023}, {\"City\": \"Atlanta\", \"Country\": \"United States\", \"Venue\": \"Philips Arena\", \"Opening act(s)\": \"Ed Sheeran Brett Eldredge\", \"Attendance (tickets sold / available)\": \"25,471 / 25,471\", \"Revenue\": \"$2,048,023\", \"Tour\": \"The_Red_Tour\", \"tickets_sold\": 25471, \"revenue_num\": 2048023}, {\"City\": \"Tampa\", \"Country\": \"United States\", \"Venue\": \"Tampa Bay Times Forum\", \"Opening act(s)\": \"Ed Sheeran Brett Eldredge\", \"Attendance (tickets sold / available)\": \"14,080 / 14,080\", \"Revenue\": \"$1,132,095\", \"Tour\": \"The_Red_Tour\", \"tickets_sold\": 14080, \"revenue_num\": 1132095}, {\"City\": \"Cleveland\", \"Country\": \"United States\", \"Venue\": \"Quicken Loans Arena\", \"Opening act(s)\": \"Ed Sheeran Brett Eldredge\", \"Attendance (tickets sold / available)\": \"15,336 / 15,336\", \"Revenue\": \"$1,247,605\", \"Tour\": \"The_Red_Tour\", \"tickets_sold\": 15336, \"revenue_num\": 1247605}, {\"City\": \"Indianapolis\", \"Country\": \"United States\", \"Venue\": \"Bankers Life Fieldhouse\", \"Opening act(s)\": \"Ed Sheeran Brett Eldredge\", \"Attendance (tickets sold / available)\": \"13,573 / 13,573\", \"Revenue\": \"$1,082,042\", \"Tour\": \"The_Red_Tour\", \"tickets_sold\": 13573, \"revenue_num\": 1082042}, {\"City\": \"Lexington\", \"Country\": \"United States\", \"Venue\": \"Rupp Arena\", \"Opening act(s)\": \"Ed Sheeran Brett Eldredge\", \"Attendance (tickets sold / available)\": \"17,003 / 17,003\", \"Revenue\": \"$1,342,699\", \"Tour\": \"The_Red_Tour\", \"tickets_sold\": 17003, \"revenue_num\": 1342699}, {\"City\": \"Detroit\", \"Country\": \"United States\", \"Venue\": \"Ford Field\", \"Opening act(s)\": \"Ed Sheeran Austin Mahone Brett Eldredge\", \"Attendance (tickets sold / available)\": \"48,265 / 48,265\", \"Revenue\": \"$3,969,059\", \"Tour\": \"The_Red_Tour\", \"tickets_sold\": 48265, \"revenue_num\": 3969059}, {\"City\": \"Louisville\", \"Country\": \"United States\", \"Venue\": \"KFC Yum! Center\", \"Opening act(s)\": \"Ed Sheeran Florida Georgia Line\", \"Attendance (tickets sold / available)\": \"15,135 / 15,135\", \"Revenue\": \"$1,246,491\", \"Tour\": \"The_Red_Tour\", \"tickets_sold\": 15135, \"revenue_num\": 1246491}, {\"City\": \"Columbus\", \"Country\": \"United States\", \"Venue\": \"Nationwide Arena\", \"Opening act(s)\": \"Ed Sheeran Florida Georgia Line\", \"Attendance (tickets sold / available)\": \"14,267 / 14,267\", \"Revenue\": \"$1,155,170\", \"Tour\": \"The_Red_Tour\", \"tickets_sold\": 14267, \"revenue_num\": 1155170}, {\"City\": \"Washington\", \"Country\": \"United States\", \"Venue\": \"Verizon Center\", \"Opening act(s)\": \"Ed Sheeran Brett Eldredge\", \"Attendance (tickets sold / available)\": \"27,619 / 27,619\", \"Revenue\": \"$2,489,205\", \"Tour\": \"The_Red_Tour\", \"tickets_sold\": 27619, \"revenue_num\": 2489205}, {\"City\": \"Washington\", \"Country\": \"United States\", \"Venue\": \"Verizon Center\", \"Opening act(s)\": \"Ed Sheeran Brett Eldredge\", \"Attendance (tickets sold / available)\": \"27,619 / 27,619\", \"Revenue\": \"$2,489,205\", \"Tour\": \"The_Red_Tour\", \"tickets_sold\": 27619, \"revenue_num\": 2489205}, {\"City\": \"Houston\", \"Country\": \"United States\", \"Venue\": \"Toyota Center\", \"Opening act(s)\": \"Ed Sheeran Brett Eldredge\", \"Attendance (tickets sold / available)\": \"12,467 / 12,467\", \"Revenue\": \"$961,422\", \"Tour\": \"The_Red_Tour\", \"tickets_sold\": 12467, \"revenue_num\": 961422}, {\"City\": \"Austin\", \"Country\": \"United States\", \"Venue\": \"Frank Erwin Center\", \"Opening act(s)\": \"Ed Sheeran Florida Georgia Line\", \"Attendance (tickets sold / available)\": \"11,916 / 11,916\", \"Revenue\": \"$935,631\", \"Tour\": \"The_Red_Tour\", \"tickets_sold\": 11916, \"revenue_num\": 935631}, {\"City\": \"San Antonio\", \"Country\": \"United States\", \"Venue\": \"AT&T Center\", \"Opening act(s)\": \"Ed Sheeran Florida Georgia Line\", \"Attendance (tickets sold / available)\": \"13,974 / 13,974\", \"Revenue\": \"$1,105,253\", \"Tour\": \"The_Red_Tour\", \"tickets_sold\": 13974, \"revenue_num\": 1105253}, {\"City\": \"Arlington\", \"Country\": \"United States\", \"Venue\": \"Cowboys Stadium\", \"Opening act(s)\": \"Ed Sheeran Austin Mahone Florida Georgia Line\", \"Attendance (tickets sold / available)\": \"53,020 / 53,020\", \"Revenue\": \"$4,589,266\", \"Tour\": \"The_Red_Tour\", \"tickets_sold\": 53020, \"revenue_num\": 4589266}, {\"City\": \"Glendale\", \"Country\": \"United States\", \"Venue\": \"Jobing.com Arena\", \"Opening act(s)\": \"Ed Sheeran Joel Crouse\", \"Attendance (tickets sold / available)\": \"26,705 / 26,705\", \"Revenue\": \"$2,239,370\", \"Tour\": \"The_Red_Tour\", \"tickets_sold\": 26705, \"revenue_num\": 2239370}, {\"City\": \"Glendale\", \"Country\": \"United States\", \"Venue\": \"Jobing.com Arena\", \"Opening act(s)\": \"Ed Sheeran Joel Crouse\", \"Attendance (tickets sold / available)\": \"26,705 / 26,705\", \"Revenue\": \"$2,239,370\", \"Tour\": \"The_Red_Tour\", \"tickets_sold\": 26705, \"revenue_num\": 2239370}, {\"City\": \"Salt Lake City\", \"Country\": \"United States\", \"Venue\": \"EnergySolutions Arena\", \"Opening act(s)\": \"Ed Sheeran Joel Crouse\", \"Attendance (tickets sold / available)\": \"14,007 / 14,007\", \"Revenue\": \"$1,139,360\", \"Tour\": \"The_Red_Tour\", \"tickets_sold\": 14007, \"revenue_num\": 1139360}, {\"City\": \"Denver\", \"Country\": \"United States\", \"Venue\": \"Pepsi Center\", \"Opening act(s)\": \"Ed Sheeran Joel Crouse\", \"Attendance (tickets sold / available)\": \"13,489 / 13,489\", \"Revenue\": \"$1,076,069\", \"Tour\": \"The_Red_Tour\", \"tickets_sold\": 13489, \"revenue_num\": 1076069}, {\"City\": \"Toronto\", \"Country\": \"Canada\", \"Venue\": \"Rogers Centre\", \"Opening act(s)\": \"Ed Sheeran Austin Mahone Joel Crouse\", \"Attendance (tickets sold / available)\": \"87,627 / 87,627\", \"Revenue\": \"$7,863,310\", \"Tour\": \"The_Red_Tour\", \"tickets_sold\": 87627, \"revenue_num\": 7863310}, {\"City\": \"Toronto\", \"Country\": \"Canada\", \"Venue\": \"Rogers Centre\", \"Opening act(s)\": \"Ed Sheeran Austin Mahone Joel Crouse\", \"Attendance (tickets sold / available)\": \"87,627 / 87,627\", \"Revenue\": \"$7,863,310\", \"Tour\": \"The_Red_Tour\", \"tickets_sold\": 87627, \"revenue_num\": 7863310}, {\"City\": \"Winnipeg\", \"Country\": \"Canada\", \"Venue\": \"Investors Group Field\", \"Opening act(s)\": \"Ed Sheeran Austin Mahone Joel Crouse\", \"Attendance (tickets sold / available)\": \"33,061 / 33,061\", \"Revenue\": \"$3,175,430\", \"Tour\": \"The_Red_Tour\", \"tickets_sold\": 33061, \"revenue_num\": 3175430}, {\"City\": \"Edmonton\", \"Country\": \"Canada\", \"Venue\": \"Rexall Place\", \"Opening act(s)\": \"Ed Sheeran Joel Crouse\", \"Attendance (tickets sold / available)\": \"25,663 / 25,663\", \"Revenue\": \"$2,379,870\", \"Tour\": \"The_Red_Tour\", \"tickets_sold\": 25663, \"revenue_num\": 2379870}, {\"City\": \"Edmonton\", \"Country\": \"Canada\", \"Venue\": \"Rexall Place\", \"Opening act(s)\": \"Ed Sheeran Joel Crouse\", \"Attendance (tickets sold / available)\": \"25,663 / 25,663\", \"Revenue\": \"$2,379,870\", \"Tour\": \"The_Red_Tour\", \"tickets_sold\": 25663, \"revenue_num\": 2379870}, {\"City\": \"Vancouver\", \"Country\": \"Canada\", \"Venue\": \"BC Place Stadium\", \"Opening act(s)\": \"Ed Sheeran Austin Mahone Joel Crouse\", \"Attendance (tickets sold / available)\": \"41,142 / 41,142\", \"Revenue\": \"$3,974,410\", \"Tour\": \"The_Red_Tour\", \"tickets_sold\": 41142, \"revenue_num\": 3974410}, {\"City\": \"Pittsburgh\", \"Country\": \"United States\", \"Venue\": \"Heinz Field\", \"Opening act(s)\": \"Ed Sheeran Austin Mahone Joel Crouse\", \"Attendance (tickets sold / available)\": \"56,047 / 56,047\", \"Revenue\": \"$4,718,518\", \"Tour\": \"The_Red_Tour\", \"tickets_sold\": 56047, \"revenue_num\": 4718518}, {\"City\": \"East Rutherford\", \"Country\": \"United States\", \"Venue\": \"MetLife Stadium\", \"Opening act(s)\": \"Ed Sheeran Austin Mahone Joel Crouse\", \"Attendance (tickets sold / available)\": \"52,399 / 52,399\", \"Revenue\": \"$4,670,011\", \"Tour\": \"The_Red_Tour\", \"tickets_sold\": 52399, \"revenue_num\": 4670011}, {\"City\": \"Philadelphia\", \"Country\": \"United States\", \"Venue\": \"Lincoln Financial Field\", \"Opening act(s)\": \"Ed Sheeran Austin Mahone Joel Crouse\", \"Attendance (tickets sold / available)\": \"101,277 / 101,277\", \"Revenue\": \"$8,822,335\", \"Tour\": \"The_Red_Tour\", \"tickets_sold\": 101277, \"revenue_num\": 8822335}, {\"City\": \"Philadelphia\", \"Country\": \"United States\", \"Venue\": \"Lincoln Financial Field\", \"Opening act(s)\": \"Ed Sheeran Austin Mahone Joel Crouse\", \"Attendance (tickets sold / available)\": \"101,277 / 101,277\", \"Revenue\": \"$8,822,335\", \"Tour\": \"The_Red_Tour\", \"tickets_sold\": 101277, \"revenue_num\": 8822335}, {\"City\": \"Foxborough\", \"Country\": \"United States\", \"Venue\": \"Gillette Stadium\", \"Opening act(s)\": \"Ed Sheeran Austin Mahone Joel Crouse\", \"Attendance (tickets sold / available)\": \"110,712 / 110,712\", \"Revenue\": \"$9,464,063\", \"Tour\": \"The_Red_Tour\", \"tickets_sold\": 110712, \"revenue_num\": 9464063}, {\"City\": \"Foxborough\", \"Country\": \"United States\", \"Venue\": \"Gillette Stadium\", \"Opening act(s)\": \"Ed Sheeran Austin Mahone Joel Crouse\", \"Attendance (tickets sold / available)\": \"110,712 / 110,712\", \"Revenue\": \"$9,464,063\", \"Tour\": \"The_Red_Tour\", \"tickets_sold\": 110712, \"revenue_num\": 9464063}, {\"City\": \"Des Moines\", \"Country\": \"United States\", \"Venue\": \"Wells Fargo Arena\", \"Opening act(s)\": \"Ed Sheeran Florida Georgia Line\", \"Attendance (tickets sold / available)\": \"13,368 / 13,368\", \"Revenue\": \"$1,075,576\", \"Tour\": \"The_Red_Tour\", \"tickets_sold\": 13368, \"revenue_num\": 1075576}, {\"City\": \"Kansas City\", \"Country\": \"United States\", \"Venue\": \"Sprint Center\", \"Opening act(s)\": \"Ed Sheeran Florida Georgia Line\", \"Attendance (tickets sold / available)\": \"26,412 / 26,412\", \"Revenue\": \"$2,093,172\", \"Tour\": \"The_Red_Tour\", \"tickets_sold\": 26412, \"revenue_num\": 2093172}, {\"City\": \"Kansas City\", \"Country\": \"United States\", \"Venue\": \"Sprint Center\", \"Opening act(s)\": \"Ed Sheeran Florida Georgia Line\", \"Attendance (tickets sold / available)\": \"26,412 / 26,412\", \"Revenue\": \"$2,093,172\", \"Tour\": \"The_Red_Tour\", \"tickets_sold\": 26412, \"revenue_num\": 2093172}, {\"City\": \"Wichita\", \"Country\": \"United States\", \"Venue\": \"Intrust Bank Arena\", \"Opening act(s)\": \"Ed Sheeran Casey James\", \"Attendance (tickets sold / available)\": \"12,231 / 12,231\", \"Revenue\": \"$983,882\", \"Tour\": \"The_Red_Tour\", \"tickets_sold\": 12231, \"revenue_num\": 983882}, {\"City\": \"Tulsa\", \"Country\": \"United States\", \"Venue\": \"BOK Center\", \"Opening act(s)\": \"Ed Sheeran Casey James\", \"Attendance (tickets sold / available)\": \"10,949 / 10,949\", \"Revenue\": \"$868,955\", \"Tour\": \"The_Red_Tour\", \"tickets_sold\": 10949, \"revenue_num\": 868955}, {\"City\": \"Chicago\", \"Country\": \"United States\", \"Venue\": \"Soldier Field\", \"Opening act(s)\": \"Ed Sheeran Austin Mahone Casey James\", \"Attendance (tickets sold / available)\": \"50,809 / 50,809\", \"Revenue\": \"$4,149,148\", \"Tour\": \"The_Red_Tour\", \"tickets_sold\": 50809, \"revenue_num\": 4149148}, {\"City\": \"San Diego\", \"Country\": \"United States\", \"Venue\": \"Valley View Casino Center\", \"Opening act(s)\": \"Ed Sheeran Casey James\", \"Attendance (tickets sold / available)\": \"10,872 / 10,872\", \"Revenue\": \"$948,541\", \"Tour\": \"The_Red_Tour\", \"tickets_sold\": 10872, \"revenue_num\": 948541}, {\"City\": \"Los Angeles\", \"Country\": \"United States\", \"Venue\": \"Staples Center\", \"Opening act(s)\": \"Ed Sheeran Casey James\", \"Attendance (tickets sold / available)\": \"55,829 / 55,829\", \"Revenue\": \"$4,734,463\", \"Tour\": \"The_Red_Tour\", \"tickets_sold\": 55829, \"revenue_num\": 4734463}, {\"City\": \"Los Angeles\", \"Country\": \"United States\", \"Venue\": \"Staples Center\", \"Opening act(s)\": \"Ed Sheeran Casey James\", \"Attendance (tickets sold / available)\": \"55,829 / 55,829\", \"Revenue\": \"$4,734,463\", \"Tour\": \"The_Red_Tour\", \"tickets_sold\": 55829, \"revenue_num\": 4734463}, {\"City\": \"Los Angeles\", \"Country\": \"United States\", \"Venue\": \"Staples Center\", \"Opening act(s)\": \"Ed Sheeran Casey James\", \"Attendance (tickets sold / available)\": \"55,829 / 55,829\", \"Revenue\": \"$4,734,463\", \"Tour\": \"The_Red_Tour\", \"tickets_sold\": 55829, \"revenue_num\": 4734463}, {\"City\": \"Los Angeles\", \"Country\": \"United States\", \"Venue\": \"Staples Center\", \"Opening act(s)\": \"Ed Sheeran Casey James\", \"Attendance (tickets sold / available)\": \"55,829 / 55,829\", \"Revenue\": \"$4,734,463\", \"Tour\": \"The_Red_Tour\", \"tickets_sold\": 55829, \"revenue_num\": 4734463}, {\"City\": \"Sacramento\", \"Country\": \"United States\", \"Venue\": \"Sleep Train Arena\", \"Opening act(s)\": \"Ed Sheeran Casey James\", \"Attendance (tickets sold / available)\": \"12,795 / 12,795\", \"Revenue\": \"$1,138,103\", \"Tour\": \"The_Red_Tour\", \"tickets_sold\": 12795, \"revenue_num\": 1138103}, {\"City\": \"Portland\", \"Country\": \"United States\", \"Venue\": \"Moda Center\", \"Opening act(s)\": \"Ed Sheeran Casey James\", \"Attendance (tickets sold / available)\": \"13,952 / 13,952\", \"Revenue\": \"$1,084,760\", \"Tour\": \"The_Red_Tour\", \"tickets_sold\": 13952, \"revenue_num\": 1084760}, {\"City\": \"Tacoma\", \"Country\": \"United States\", \"Venue\": \"Tacoma Dome\", \"Opening act(s)\": \"Ed Sheeran Casey James\", \"Attendance (tickets sold / available)\": \"20,348 / 20,348\", \"Revenue\": \"$1,584,049\", \"Tour\": \"The_Red_Tour\", \"tickets_sold\": 20348, \"revenue_num\": 1584049}, {\"City\": \"Fargo\", \"Country\": \"United States\", \"Venue\": \"Fargodome\", \"Opening act(s)\": \"Ed Sheeran Casey James\", \"Attendance (tickets sold / available)\": \"21,073 / 21,073\", \"Revenue\": \"$1,661,578\", \"Tour\": \"The_Red_Tour\", \"tickets_sold\": 21073, \"revenue_num\": 1661578}, {\"City\": \"Saint Paul\", \"Country\": \"United States\", \"Venue\": \"Xcel Energy Center\", \"Opening act(s)\": \"Ed Sheeran Casey James\", \"Attendance (tickets sold / available)\": \"28,920 / 28,920\", \"Revenue\": \"$2,320,937\", \"Tour\": \"The_Red_Tour\", \"tickets_sold\": 28920, \"revenue_num\": 2320937}, {\"City\": \"Saint Paul\", \"Country\": \"United States\", \"Venue\": \"Xcel Energy Center\", \"Opening act(s)\": \"Ed Sheeran Casey James\", \"Attendance (tickets sold / available)\": \"28,920 / 28,920\", \"Revenue\": \"$2,320,937\", \"Tour\": \"The_Red_Tour\", \"tickets_sold\": 28920, \"revenue_num\": 2320937}, {\"City\": \"Greensboro\", \"Country\": \"United States\", \"Venue\": \"Greensboro Coliseum\", \"Opening act(s)\": \"Ed Sheeran Casey James\", \"Attendance (tickets sold / available)\": \"13,650 / 13,650\", \"Revenue\": \"$1,109,253\", \"Tour\": \"The_Red_Tour\", \"tickets_sold\": 13650, \"revenue_num\": 1109253}, {\"City\": \"Raleigh\", \"Country\": \"United States\", \"Venue\": \"PNC Arena\", \"Opening act(s)\": \"Ed Sheeran Casey James\", \"Attendance (tickets sold / available)\": \"13,941 / 13,941\", \"Revenue\": \"$1,088,612\", \"Tour\": \"The_Red_Tour\", \"tickets_sold\": 13941, \"revenue_num\": 1088612}, {\"City\": \"Charlottesville\", \"Country\": \"United States\", \"Venue\": \"John Paul Jones Arena\", \"Opening act(s)\": \"Ed Sheeran Casey James\", \"Attendance (tickets sold / available)\": \"12,689 / 12,689\", \"Revenue\": \"$997,216\", \"Tour\": \"The_Red_Tour\", \"tickets_sold\": 12689, \"revenue_num\": 997216}, {\"City\": \"Nashville\", \"Country\": \"United States\", \"Venue\": \"Bridgestone Arena\", \"Opening act(s)\": \"Ed Sheeran Casey James\", \"Attendance (tickets sold / available)\": \"41,292 / 41,292\", \"Revenue\": \"$3,336,545\", \"Tour\": \"The_Red_Tour\", \"tickets_sold\": 41292, \"revenue_num\": 3336545}, {\"City\": \"Nashville\", \"Country\": \"United States\", \"Venue\": \"Bridgestone Arena\", \"Opening act(s)\": \"Ed Sheeran Casey James\", \"Attendance (tickets sold / available)\": \"41,292 / 41,292\", \"Revenue\": \"$3,336,545\", \"Tour\": \"The_Red_Tour\", \"tickets_sold\": 41292, \"revenue_num\": 3336545}, {\"City\": \"Nashville\", \"Country\": \"United States\", \"Venue\": \"Bridgestone Arena\", \"Opening act(s)\": \"Ed Sheeran Casey James\", \"Attendance (tickets sold / available)\": \"41,292 / 41,292\", \"Revenue\": \"$3,336,545\", \"Tour\": \"The_Red_Tour\", \"tickets_sold\": 41292, \"revenue_num\": 3336545}, {\"City\": \"Auckland\", \"Country\": \"New Zealand\", \"Venue\": \"Vector Arena\", \"Opening act(s)\": \"Neon Trees\", \"Attendance (tickets sold / available)\": \"30,799 / 30,799\", \"Revenue\": \"$3,100,290\", \"Tour\": \"The_Red_Tour\", \"tickets_sold\": 30799, \"revenue_num\": 3100290}, {\"City\": \"Auckland\", \"Country\": \"New Zealand\", \"Venue\": \"Vector Arena\", \"Opening act(s)\": \"Neon Trees\", \"Attendance (tickets sold / available)\": \"30,799 / 30,799\", \"Revenue\": \"$3,100,290\", \"Tour\": \"The_Red_Tour\", \"tickets_sold\": 30799, \"revenue_num\": 3100290}, {\"City\": \"Auckland\", \"Country\": \"New Zealand\", \"Venue\": \"Vector Arena\", \"Opening act(s)\": \"Neon Trees\", \"Attendance (tickets sold / available)\": \"30,799 / 30,799\", \"Revenue\": \"$3,100,290\", \"Tour\": \"The_Red_Tour\", \"tickets_sold\": 30799, \"revenue_num\": 3100290}, {\"City\": \"Sydney\", \"Country\": \"Australia\", \"Venue\": \"Allianz Stadium\", \"Opening act(s)\": \"Guy Sebastian Neon Trees\", \"Attendance (tickets sold / available)\": \"40,930 / 40,930\", \"Revenue\": \"$4,096,060\", \"Tour\": \"The_Red_Tour\", \"tickets_sold\": 40930, \"revenue_num\": 4096060}, {\"City\": \"Brisbane\", \"Country\": \"Australia\", \"Venue\": \"Suncorp Stadium\", \"Opening act(s)\": \"Guy Sebastian Neon Trees\", \"Attendance (tickets sold / available)\": \"38,907 / 38,907\", \"Revenue\": \"$3,895,810\", \"Tour\": \"The_Red_Tour\", \"tickets_sold\": 38907, \"revenue_num\": 3895810}, {\"City\": \"Perth\", \"Country\": \"Australia\", \"Venue\": \"Perth Rectangular Stadium\", \"Opening act(s)\": \"Guy Sebastian Neon Trees\", \"Attendance (tickets sold / available)\": \"21,827 / 21,827\", \"Revenue\": \"$2,364,080\", \"Tour\": \"The_Red_Tour\", \"tickets_sold\": 21827, \"revenue_num\": 2364080}, {\"City\": \"Melbourne\", \"Country\": \"Australia\", \"Venue\": \"Etihad Stadium\", \"Opening act(s)\": \"Guy Sebastian Neon Trees\", \"Attendance (tickets sold / available)\": \"47,257 / 47,257\", \"Revenue\": \"$4,547,250\", \"Tour\": \"The_Red_Tour\", \"tickets_sold\": 47257, \"revenue_num\": 4547250}, {\"City\": \"London\", \"Country\": \"England\", \"Venue\": \"The O2 Arena\", \"Opening act(s)\": \"The Vamps\", \"Attendance (tickets sold / available)\": \"74,740 / 74,740\", \"Revenue\": \"$5,829,240\", \"Tour\": \"The_Red_Tour\", \"tickets_sold\": 74740, \"revenue_num\": 5829240}, {\"City\": \"London\", \"Country\": \"England\", \"Venue\": \"The O2 Arena\", \"Opening act(s)\": \"The Vamps\", \"Attendance (tickets sold / available)\": \"74,740 / 74,740\", \"Revenue\": \"$5,829,240\", \"Tour\": \"The_Red_Tour\", \"tickets_sold\": 74740, \"revenue_num\": 5829240}, {\"City\": \"London\", \"Country\": \"England\", \"Venue\": \"The O2 Arena\", \"Opening act(s)\": \"The Vamps\", \"Attendance (tickets sold / available)\": \"74,740 / 74,740\", \"Revenue\": \"$5,829,240\", \"Tour\": \"The_Red_Tour\", \"tickets_sold\": 74740, \"revenue_num\": 5829240}, {\"City\": \"Berlin\", \"Country\": \"Germany\", \"Venue\": \"O2 World\", \"Opening act(s)\": \"Andreas Bourani\", \"Attendance (tickets sold / available)\": \"10,350 / 10,350\", \"Revenue\": \"$755,006\", \"Tour\": \"The_Red_Tour\", \"tickets_sold\": 10350, \"revenue_num\": 755006}, {\"City\": \"Shanghai\", \"Country\": \"China\", \"Venue\": \"Mercedes-Benz Arena\", \"Opening act(s)\": \"\\u2014\", \"Attendance (tickets sold / available)\": \"12,793 / 12,793\", \"Revenue\": \"$1,864,934\", \"Tour\": \"The_Red_Tour\", \"tickets_sold\": 12793, \"revenue_num\": 1864934}, {\"City\": \"Saitama\", \"Country\": \"Japan\", \"Venue\": \"Saitama Super Arena\", \"Opening act(s)\": \"CTS\", \"Attendance (tickets sold / available)\": \"20,046 / 20,046\", \"Revenue\": \"$1,837,147\", \"Tour\": \"The_Red_Tour\", \"tickets_sold\": 20046, \"revenue_num\": 1837147}, {\"City\": \"Jakarta\", \"Country\": \"Indonesia\", \"Venue\": \"MEIS Ancol\", \"Opening act(s)\": \"Nicole Zefanya\", \"Attendance (tickets sold / available)\": \"8,130 / 8,130\", \"Revenue\": \"$1,481,473\", \"Tour\": \"The_Red_Tour\", \"tickets_sold\": 8130, \"revenue_num\": 1481473}, {\"City\": \"Pasay\", \"Country\": \"Philippines\", \"Venue\": \"Mall of Asia Arena\", \"Opening act(s)\": \"Meg Bucsit\", \"Attendance (tickets sold / available)\": \"9,775 / 9,775\", \"Revenue\": \"$1,511,662\", \"Tour\": \"The_Red_Tour\", \"tickets_sold\": 9775, \"revenue_num\": 1511662}, {\"City\": \"Singapore\", \"Country\": \"Singapore\", \"Venue\": \"Singapore Indoor Stadium\", \"Opening act(s)\": \"Imprompt-3\", \"Attendance (tickets sold / available)\": \"16,344 / 16,344\", \"Revenue\": \"$2,524,080\", \"Tour\": \"The_Red_Tour\", \"tickets_sold\": 16344, \"revenue_num\": 2524080}, {\"City\": \"Kuala Lumpur\", \"Country\": \"Malaysia\", \"Venue\": \"Putra Indoor Stadium\", \"Opening act(s)\": \"IamNeeta\", \"Attendance (tickets sold / available)\": \"7,525 / 7,525\", \"Revenue\": \"$998,608\", \"Tour\": \"The_Red_Tour\", \"tickets_sold\": 7525, \"revenue_num\": 998608}, {\"City\": \"Tokyo\", \"Country\": \"Japan\", \"Venue\": \"Tokyo Dome\", \"Opening act(s)\": \"\\u2014\", \"Attendance (tickets sold / available)\": \"100,320 / 100,320\", \"Revenue\": \"$10,586,828\", \"Tour\": \"The_1989_World_Tour\", \"tickets_sold\": 100320, \"revenue_num\": 10586828}, {\"City\": \"Tokyo\", \"Country\": \"Japan\", \"Venue\": \"Tokyo Dome\", \"Opening act(s)\": \"\\u2014\", \"Attendance (tickets sold / available)\": \"100,320 / 100,320\", \"Revenue\": \"$10,586,828\", \"Tour\": \"The_1989_World_Tour\", \"tickets_sold\": 100320, \"revenue_num\": 10586828}, {\"City\": \"Bossier City\", \"Country\": \"United States\", \"Venue\": \"CenturyLink Center\", \"Opening act(s)\": \"Vance Joy\", \"Attendance (tickets sold / available)\": \"12,459 / 12,459\", \"Revenue\": \"$1,458,197\", \"Tour\": \"The_1989_World_Tour\", \"tickets_sold\": 12459, \"revenue_num\": 1458197}, {\"City\": \"Baton Rouge\", \"Country\": \"United States\", \"Venue\": \"LSU Tiger Stadium\", \"Opening act(s)\": \"Vance Joy Shawn Mendes\", \"Attendance (tickets sold / available)\": \"50,227 / 50,227\", \"Revenue\": \"$4,119,670\", \"Tour\": \"The_1989_World_Tour\", \"tickets_sold\": 50227, \"revenue_num\": 4119670}, {\"City\": \"Detroit\", \"Country\": \"United States\", \"Venue\": \"Ford Field\", \"Opening act(s)\": \"Vance Joy Shawn Mendes\", \"Attendance (tickets sold / available)\": \"50,703 / 50,703\", \"Revenue\": \"$5,999,690\", \"Tour\": \"The_1989_World_Tour\", \"tickets_sold\": 50703, \"revenue_num\": 5999690}, {\"City\": \"Louisville\", \"Country\": \"United States\", \"Venue\": \"KFC Yum! Center\", \"Opening act(s)\": \"Vance Joy\", \"Attendance (tickets sold / available)\": \"16,242 / 16,242\", \"Revenue\": \"$1,863,281\", \"Tour\": \"The_1989_World_Tour\", \"tickets_sold\": 16242, \"revenue_num\": 1863281}, {\"City\": \"Cleveland\", \"Country\": \"United States\", \"Venue\": \"Quicken Loans Arena\", \"Opening act(s)\": \"Vance Joy\", \"Attendance (tickets sold / available)\": \"15,503 / 15,503\", \"Revenue\": \"$1,732,041\", \"Tour\": \"The_1989_World_Tour\", \"tickets_sold\": 15503, \"revenue_num\": 1732041}, {\"City\": \"Pittsburgh\", \"Country\": \"United States\", \"Venue\": \"Heinz Field\", \"Opening act(s)\": \"Vance Joy Shawn Mendes\", \"Attendance (tickets sold / available)\": \"54,801 / 54,801\", \"Revenue\": \"$5,836,926\", \"Tour\": \"The_1989_World_Tour\", \"tickets_sold\": 54801, \"revenue_num\": 5836926}, {\"City\": \"Charlotte\", \"Country\": \"United States\", \"Venue\": \"Time Warner Cable Arena\", \"Opening act(s)\": \"Vance Joy\", \"Attendance (tickets sold / available)\": \"15,024 / 15,024\", \"Revenue\": \"$1,627,798\", \"Tour\": \"The_1989_World_Tour\", \"tickets_sold\": 15024, \"revenue_num\": 1627798}, {\"City\": \"Raleigh\", \"Country\": \"United States\", \"Venue\": \"PNC Arena\", \"Opening act(s)\": \"Vance Joy\", \"Attendance (tickets sold / available)\": \"13,886 / 13,886\", \"Revenue\": \"$1,653,762\", \"Tour\": \"The_1989_World_Tour\", \"tickets_sold\": 13886, \"revenue_num\": 1653762}, {\"City\": \"Philadelphia\", \"Country\": \"United States\", \"Venue\": \"Lincoln Financial Field\", \"Opening act(s)\": \"Vance Joy Shawn Mendes\", \"Attendance (tickets sold / available)\": \"101,052 / 101,052\", \"Revenue\": \"$11,987,816\", \"Tour\": \"The_1989_World_Tour\", \"tickets_sold\": 101052, \"revenue_num\": 11987816}, {\"City\": \"Philadelphia\", \"Country\": \"United States\", \"Venue\": \"Lincoln Financial Field\", \"Opening act(s)\": \"Vance Joy Shawn Mendes\", \"Attendance (tickets sold / available)\": \"101,052 / 101,052\", \"Revenue\": \"$11,987,816\", \"Tour\": \"The_1989_World_Tour\", \"tickets_sold\": 101052, \"revenue_num\": 11987816}, {\"City\": \"Cologne\", \"Country\": \"Germany\", \"Venue\": \"Lanxess Arena\", \"Opening act(s)\": \"James Bay\", \"Attendance (tickets sold / available)\": \"29,020 / 29,020\", \"Revenue\": \"$2,054,690\", \"Tour\": \"The_1989_World_Tour\", \"tickets_sold\": 29020, \"revenue_num\": 2054690}, {\"City\": \"Cologne\", \"Country\": \"Germany\", \"Venue\": \"Lanxess Arena\", \"Opening act(s)\": \"James Bay\", \"Attendance (tickets sold / available)\": \"29,020 / 29,020\", \"Revenue\": \"$2,054,690\", \"Tour\": \"The_1989_World_Tour\", \"tickets_sold\": 29020, \"revenue_num\": 2054690}, {\"City\": \"Amsterdam\", \"Country\": \"Netherlands\", \"Venue\": \"Ziggo Dome\", \"Opening act(s)\": \"James Bay\", \"Attendance (tickets sold / available)\": \"11,166 / 11,166\", \"Revenue\": \"$800,829\", \"Tour\": \"The_1989_World_Tour\", \"tickets_sold\": 11166, \"revenue_num\": 800829}, {\"City\": \"Glasgow\", \"Country\": \"Scotland\", \"Venue\": \"SSE Hydro\", \"Opening act(s)\": \"Vance Joy\", \"Attendance (tickets sold / available)\": \"11,021 / 11,021\", \"Revenue\": \"$1,119,300\", \"Tour\": \"The_1989_World_Tour\", \"tickets_sold\": 11021, \"revenue_num\": 1119300}, {\"City\": \"Manchester\", \"Country\": \"England\", \"Venue\": \"Manchester Arena\", \"Opening act(s)\": \"Vance Joy\", \"Attendance (tickets sold / available)\": \"14,773 / 14,773\", \"Revenue\": \"$1,478,760\", \"Tour\": \"The_1989_World_Tour\", \"tickets_sold\": 14773, \"revenue_num\": 1478760}, {\"City\": \"Dublin\", \"Country\": \"Ireland\", \"Venue\": \"3Arena\", \"Opening act(s)\": \"Vance Joy\", \"Attendance (tickets sold / available)\": \"25,188 / 25,188\", \"Revenue\": \"$1,975,510\", \"Tour\": \"The_1989_World_Tour\", \"tickets_sold\": 25188, \"revenue_num\": 1975510}, {\"City\": \"Dublin\", \"Country\": \"Ireland\", \"Venue\": \"3Arena\", \"Opening act(s)\": \"Vance Joy\", \"Attendance (tickets sold / available)\": \"25,188 / 25,188\", \"Revenue\": \"$1,975,510\", \"Tour\": \"The_1989_World_Tour\", \"tickets_sold\": 25188, \"revenue_num\": 1975510}, {\"City\": \"Ottawa\", \"Country\": \"Canada\", \"Venue\": \"Canadian Tire Centre\", \"Opening act(s)\": \"Vance Joy\", \"Attendance (tickets sold / available)\": \"13,480 / 13,480\", \"Revenue\": \"$1,325,480\", \"Tour\": \"The_1989_World_Tour\", \"tickets_sold\": 13480, \"revenue_num\": 1325480}, {\"City\": \"Montreal\", \"Country\": \"Canada\", \"Venue\": \"Bell Centre\", \"Opening act(s)\": \"Vance Joy\", \"Attendance (tickets sold / available)\": \"14,770 / 14,770\", \"Revenue\": \"$1,499,040\", \"Tour\": \"The_1989_World_Tour\", \"tickets_sold\": 14770, \"revenue_num\": 1499040}, {\"City\": \"East Rutherford\", \"Country\": \"United States\", \"Venue\": \"MetLife Stadium\", \"Opening act(s)\": \"Vance Joy Shawn Mendes Haim\", \"Attendance (tickets sold / available)\": \"110,105 / 110,105\", \"Revenue\": \"$13,423,858\", \"Tour\": \"The_1989_World_Tour\", \"tickets_sold\": 110105, \"revenue_num\": 13423858}, {\"City\": \"East Rutherford\", \"Country\": \"United States\", \"Venue\": \"MetLife Stadium\", \"Opening act(s)\": \"Vance Joy Shawn Mendes Haim\", \"Attendance (tickets sold / available)\": \"110,105 / 110,105\", \"Revenue\": \"$13,423,858\", \"Tour\": \"The_1989_World_Tour\", \"tickets_sold\": 110105, \"revenue_num\": 13423858}, {\"City\": \"Washington\", \"Country\": \"United States\", \"Venue\": \"Nationals Park\", \"Opening act(s)\": \"Vance Joy Shawn Mendes Haim\", \"Attendance (tickets sold / available)\": \"85,014 / 85,014\", \"Revenue\": \"$9,730,596\", \"Tour\": \"The_1989_World_Tour\", \"tickets_sold\": 85014, \"revenue_num\": 9730596}, {\"City\": \"Washington\", \"Country\": \"United States\", \"Venue\": \"Nationals Park\", \"Opening act(s)\": \"Vance Joy Shawn Mendes Haim\", \"Attendance (tickets sold / available)\": \"85,014 / 85,014\", \"Revenue\": \"$9,730,596\", \"Tour\": \"The_1989_World_Tour\", \"tickets_sold\": 85014, \"revenue_num\": 9730596}, {\"City\": \"Chicago\", \"Country\": \"United States\", \"Venue\": \"Soldier Field\", \"Opening act(s)\": \"Vance Joy Shawn Mendes Haim\", \"Attendance (tickets sold / available)\": \"110,109 / 110,109\", \"Revenue\": \"$11,469,887\", \"Tour\": \"The_1989_World_Tour\", \"tickets_sold\": 110109, \"revenue_num\": 11469887}, {\"City\": \"Chicago\", \"Country\": \"United States\", \"Venue\": \"Soldier Field\", \"Opening act(s)\": \"Vance Joy Shawn Mendes Haim\", \"Attendance (tickets sold / available)\": \"110,109 / 110,109\", \"Revenue\": \"$11,469,887\", \"Tour\": \"The_1989_World_Tour\", \"tickets_sold\": 110109, \"revenue_num\": 11469887}, {\"City\": \"Foxborough\", \"Country\": \"United States\", \"Venue\": \"Gillette Stadium\", \"Opening act(s)\": \"Vance Joy Shawn Mendes Haim\", \"Attendance (tickets sold / available)\": \"116,849 / 116,849\", \"Revenue\": \"$12,533,166\", \"Tour\": \"The_1989_World_Tour\", \"tickets_sold\": 116849, \"revenue_num\": 12533166}, {\"City\": \"Foxborough\", \"Country\": \"United States\", \"Venue\": \"Gillette Stadium\", \"Opening act(s)\": \"Vance Joy Shawn Mendes Haim\", \"Attendance (tickets sold / available)\": \"116,849 / 116,849\", \"Revenue\": \"$12,533,166\", \"Tour\": \"The_1989_World_Tour\", \"tickets_sold\": 116849, \"revenue_num\": 12533166}, {\"City\": \"Vancouver\", \"Country\": \"Canada\", \"Venue\": \"BC Place\", \"Opening act(s)\": \"Vance Joy Shawn Mendes\", \"Attendance (tickets sold / available)\": \"41,463 / 41,463\", \"Revenue\": \"$4,081,820\", \"Tour\": \"The_1989_World_Tour\", \"tickets_sold\": 41463, \"revenue_num\": 4081820}, {\"City\": \"Edmonton\", \"Country\": \"Canada\", \"Venue\": \"Rexall Place\", \"Opening act(s)\": \"Vance Joy\", \"Attendance (tickets sold / available)\": \"26,534 / 26,534\", \"Revenue\": \"$2,387,080\", \"Tour\": \"The_1989_World_Tour\", \"tickets_sold\": 26534, \"revenue_num\": 2387080}, {\"City\": \"Edmonton\", \"Country\": \"Canada\", \"Venue\": \"Rexall Place\", \"Opening act(s)\": \"Vance Joy\", \"Attendance (tickets sold / available)\": \"26,534 / 26,534\", \"Revenue\": \"$2,387,080\", \"Tour\": \"The_1989_World_Tour\", \"tickets_sold\": 26534, \"revenue_num\": 2387080}, {\"City\": \"Seattle\", \"Country\": \"United States\", \"Venue\": \"CenturyLink Field\", \"Opening act(s)\": \"Vance Joy Shawn Mendes\", \"Attendance (tickets sold / available)\": \"55,711 / 55,711\", \"Revenue\": \"$6,050,643\", \"Tour\": \"The_1989_World_Tour\", \"tickets_sold\": 55711, \"revenue_num\": 6050643}, {\"City\": \"Santa Clara\", \"Country\": \"United States\", \"Venue\": \"Levi's Stadium\", \"Opening act(s)\": \"Vance Joy Shawn Mendes\", \"Attendance (tickets sold / available)\": \"102,139 / 102,139\", \"Revenue\": \"$13,031,146\", \"Tour\": \"The_1989_World_Tour\", \"tickets_sold\": 102139, \"revenue_num\": 13031146}, {\"City\": \"Santa Clara\", \"Country\": \"United States\", \"Venue\": \"Levi's Stadium\", \"Opening act(s)\": \"Vance Joy Shawn Mendes\", \"Attendance (tickets sold / available)\": \"102,139 / 102,139\", \"Revenue\": \"$13,031,146\", \"Tour\": \"The_1989_World_Tour\", \"tickets_sold\": 102139, \"revenue_num\": 13031146}, {\"City\": \"Glendale\", \"Country\": \"United States\", \"Venue\": \"Gila River Arena\", \"Opening act(s)\": \"Vance Joy\", \"Attendance (tickets sold / available)\": \"26,520 / 26,520\", \"Revenue\": \"$3,029,628\", \"Tour\": \"The_1989_World_Tour\", \"tickets_sold\": 26520, \"revenue_num\": 3029628}, {\"City\": \"Glendale\", \"Country\": \"United States\", \"Venue\": \"Gila River Arena\", \"Opening act(s)\": \"Vance Joy\", \"Attendance (tickets sold / available)\": \"26,520 / 26,520\", \"Revenue\": \"$3,029,628\", \"Tour\": \"The_1989_World_Tour\", \"tickets_sold\": 26520, \"revenue_num\": 3029628}, {\"City\": \"Los Angeles\", \"Country\": \"United States\", \"Venue\": \"Staples Center\", \"Opening act(s)\": \"Vance Joy Haim\", \"Attendance (tickets sold / available)\": \"70,563 / 70,563\", \"Revenue\": \"$8,961,681\", \"Tour\": \"The_1989_World_Tour\", \"tickets_sold\": 70563, \"revenue_num\": 8961681}, {\"City\": \"Los Angeles\", \"Country\": \"United States\", \"Venue\": \"Staples Center\", \"Opening act(s)\": \"Vance Joy Haim\", \"Attendance (tickets sold / available)\": \"70,563 / 70,563\", \"Revenue\": \"$8,961,681\", \"Tour\": \"The_1989_World_Tour\", \"tickets_sold\": 70563, \"revenue_num\": 8961681}, {\"City\": \"Los Angeles\", \"Country\": \"United States\", \"Venue\": \"Staples Center\", \"Opening act(s)\": \"Vance Joy Haim\", \"Attendance (tickets sold / available)\": \"70,563 / 70,563\", \"Revenue\": \"$8,961,681\", \"Tour\": \"The_1989_World_Tour\", \"tickets_sold\": 70563, \"revenue_num\": 8961681}, {\"City\": \"Los Angeles\", \"Country\": \"United States\", \"Venue\": \"Staples Center\", \"Opening act(s)\": \"Vance Joy Haim\", \"Attendance (tickets sold / available)\": \"70,563 / 70,563\", \"Revenue\": \"$8,961,681\", \"Tour\": \"The_1989_World_Tour\", \"tickets_sold\": 70563, \"revenue_num\": 8961681}, {\"City\": \"Los Angeles\", \"Country\": \"United States\", \"Venue\": \"Staples Center\", \"Opening act(s)\": \"Vance Joy Haim\", \"Attendance (tickets sold / available)\": \"70,563 / 70,563\", \"Revenue\": \"$8,961,681\", \"Tour\": \"The_1989_World_Tour\", \"tickets_sold\": 70563, \"revenue_num\": 8961681}, {\"City\": \"San Diego\", \"Country\": \"United States\", \"Venue\": \"Petco Park\", \"Opening act(s)\": \"Vance Joy Shawn Mendes\", \"Attendance (tickets sold / available)\": \"44,710 / 44,710\", \"Revenue\": \"$5,475,237\", \"Tour\": \"The_1989_World_Tour\", \"tickets_sold\": 44710, \"revenue_num\": 5475237}, {\"City\": \"Salt Lake City\", \"Country\": \"United States\", \"Venue\": \"EnergySolutions Arena\", \"Opening act(s)\": \"Vance Joy\", \"Attendance (tickets sold / available)\": \"14,131 / 14,131\", \"Revenue\": \"$1,589,686\", \"Tour\": \"The_1989_World_Tour\", \"tickets_sold\": 14131, \"revenue_num\": 1589686}, {\"City\": \"Denver\", \"Country\": \"United States\", \"Venue\": \"Pepsi Center\", \"Opening act(s)\": \"Vance Joy\", \"Attendance (tickets sold / available)\": \"27,126 / 27,126\", \"Revenue\": \"$2,868,991\", \"Tour\": \"The_1989_World_Tour\", \"tickets_sold\": 27126, \"revenue_num\": 2868991}, {\"City\": \"Denver\", \"Country\": \"United States\", \"Venue\": \"Pepsi Center\", \"Opening act(s)\": \"Vance Joy\", \"Attendance (tickets sold / available)\": \"27,126 / 27,126\", \"Revenue\": \"$2,868,991\", \"Tour\": \"The_1989_World_Tour\", \"tickets_sold\": 27126, \"revenue_num\": 2868991}, {\"City\": \"Houston\", \"Country\": \"United States\", \"Venue\": \"Minute Maid Park\", \"Opening act(s)\": \"Vance Joy Shawn Mendes\", \"Attendance (tickets sold / available)\": \"40,122 / 40,122\", \"Revenue\": \"$5,202,196\", \"Tour\": \"The_1989_World_Tour\", \"tickets_sold\": 40122, \"revenue_num\": 5202196}, {\"City\": \"Saint Paul\", \"Country\": \"United States\", \"Venue\": \"Xcel Energy Center\", \"Opening act(s)\": \"Vance Joy\", \"Attendance (tickets sold / available)\": \"45,126 / 45,126\", \"Revenue\": \"$5,514,863\", \"Tour\": \"The_1989_World_Tour\", \"tickets_sold\": 45126, \"revenue_num\": 5514863}, {\"City\": \"Saint Paul\", \"Country\": \"United States\", \"Venue\": \"Xcel Energy Center\", \"Opening act(s)\": \"Vance Joy\", \"Attendance (tickets sold / available)\": \"45,126 / 45,126\", \"Revenue\": \"$5,514,863\", \"Tour\": \"The_1989_World_Tour\", \"tickets_sold\": 45126, \"revenue_num\": 5514863}, {\"City\": \"Saint Paul\", \"Country\": \"United States\", \"Venue\": \"Xcel Energy Center\", \"Opening act(s)\": \"Vance Joy\", \"Attendance (tickets sold / available)\": \"45,126 / 45,126\", \"Revenue\": \"$5,514,863\", \"Tour\": \"The_1989_World_Tour\", \"tickets_sold\": 45126, \"revenue_num\": 5514863}, {\"City\": \"Indianapolis\", \"Country\": \"United States\", \"Venue\": \"Bankers Life Fieldhouse\", \"Opening act(s)\": \"Vance Joy\", \"Attendance (tickets sold / available)\": \"14,010 / 14,010\", \"Revenue\": \"$1,550,268\", \"Tour\": \"The_1989_World_Tour\", \"tickets_sold\": 14010, \"revenue_num\": 1550268}, {\"City\": \"Columbus\", \"Country\": \"United States\", \"Venue\": \"Nationwide Arena\", \"Opening act(s)\": \"Vance Joy\", \"Attendance (tickets sold / available)\": \"29,936 / 29,936\", \"Revenue\": \"$3,369,693\", \"Tour\": \"The_1989_World_Tour\", \"tickets_sold\": 29936, \"revenue_num\": 3369693}, {\"City\": \"Columbus\", \"Country\": \"United States\", \"Venue\": \"Nationwide Arena\", \"Opening act(s)\": \"Vance Joy\", \"Attendance (tickets sold / available)\": \"29,936 / 29,936\", \"Revenue\": \"$3,369,693\", \"Tour\": \"The_1989_World_Tour\", \"tickets_sold\": 29936, \"revenue_num\": 3369693}, {\"City\": \"Kansas City\", \"Country\": \"United States\", \"Venue\": \"Sprint Center\", \"Opening act(s)\": \"Vance Joy\", \"Attendance (tickets sold / available)\": \"27,857 / 27,857\", \"Revenue\": \"$2,967,558\", \"Tour\": \"The_1989_World_Tour\", \"tickets_sold\": 27857, \"revenue_num\": 2967558}, {\"City\": \"Kansas City\", \"Country\": \"United States\", \"Venue\": \"Sprint Center\", \"Opening act(s)\": \"Vance Joy\", \"Attendance (tickets sold / available)\": \"27,857 / 27,857\", \"Revenue\": \"$2,967,558\", \"Tour\": \"The_1989_World_Tour\", \"tickets_sold\": 27857, \"revenue_num\": 2967558}, {\"City\": \"Nashville\", \"Country\": \"United States\", \"Venue\": \"Bridgestone Arena\", \"Opening act(s)\": \"Vance Joy Haim\", \"Attendance (tickets sold / available)\": \"28,917 / 28,917\", \"Revenue\": \"$3,354,844\", \"Tour\": \"The_1989_World_Tour\", \"tickets_sold\": 28917, \"revenue_num\": 3354844}, {\"City\": \"Nashville\", \"Country\": \"United States\", \"Venue\": \"Bridgestone Arena\", \"Opening act(s)\": \"Vance Joy Haim\", \"Attendance (tickets sold / available)\": \"28,917 / 28,917\", \"Revenue\": \"$3,354,844\", \"Tour\": \"The_1989_World_Tour\", \"tickets_sold\": 28917, \"revenue_num\": 3354844}, {\"City\": \"St. Louis\", \"Country\": \"United States\", \"Venue\": \"Scottrade Center\", \"Opening act(s)\": \"Vance Joy Haim\", \"Attendance (tickets sold / available)\": \"29,688 / 29,688\", \"Revenue\": \"$3,452,940\", \"Tour\": \"The_1989_World_Tour\", \"tickets_sold\": 29688, \"revenue_num\": 3452940}, {\"City\": \"St. Louis\", \"Country\": \"United States\", \"Venue\": \"Scottrade Center\", \"Opening act(s)\": \"Vance Joy Haim\", \"Attendance (tickets sold / available)\": \"29,688 / 29,688\", \"Revenue\": \"$3,452,940\", \"Tour\": \"The_1989_World_Tour\", \"tickets_sold\": 29688, \"revenue_num\": 3452940}, {\"City\": \"Toronto\", \"Country\": \"Canada\", \"Venue\": \"Rogers Centre\", \"Opening act(s)\": \"Vance Joy Shawn Mendes\", \"Attendance (tickets sold / available)\": \"99,283 / 99,283\", \"Revenue\": \"$8,670,990\", \"Tour\": \"The_1989_World_Tour\", \"tickets_sold\": 99283, \"revenue_num\": 8670990}, {\"City\": \"Toronto\", \"Country\": \"Canada\", \"Venue\": \"Rogers Centre\", \"Opening act(s)\": \"Vance Joy Shawn Mendes\", \"Attendance (tickets sold / available)\": \"99,283 / 99,283\", \"Revenue\": \"$8,670,990\", \"Tour\": \"The_1989_World_Tour\", \"tickets_sold\": 99283, \"revenue_num\": 8670990}, {\"City\": \"Des Moines\", \"Country\": \"United States\", \"Venue\": \"Wells Fargo Arena\", \"Opening act(s)\": \"Vance Joy\", \"Attendance (tickets sold / available)\": \"13,969 / 13,969\", \"Revenue\": \"$1,566,321\", \"Tour\": \"The_1989_World_Tour\", \"tickets_sold\": 13969, \"revenue_num\": 1566321}, {\"City\": \"Omaha\", \"Country\": \"United States\", \"Venue\": \"CenturyLink Center Omaha\", \"Opening act(s)\": \"Vance Joy\", \"Attendance (tickets sold / available)\": \"29,622 / 29,622\", \"Revenue\": \"$3,121,421\", \"Tour\": \"The_1989_World_Tour\", \"tickets_sold\": 29622, \"revenue_num\": 3121421}, {\"City\": \"Omaha\", \"Country\": \"United States\", \"Venue\": \"CenturyLink Center Omaha\", \"Opening act(s)\": \"Vance Joy\", \"Attendance (tickets sold / available)\": \"29,622 / 29,622\", \"Revenue\": \"$3,121,421\", \"Tour\": \"The_1989_World_Tour\", \"tickets_sold\": 29622, \"revenue_num\": 3121421}, {\"City\": \"Fargo\", \"Country\": \"United States\", \"Venue\": \"Fargodome\", \"Opening act(s)\": \"Vance Joy\", \"Attendance (tickets sold / available)\": \"21,067 / 21,067\", \"Revenue\": \"$2,219,188\", \"Tour\": \"The_1989_World_Tour\", \"tickets_sold\": 21067, \"revenue_num\": 2219188}, {\"City\": \"Arlington\", \"Country\": \"United States\", \"Venue\": \"AT&T Stadium\", \"Opening act(s)\": \"Vance Joy Shawn Mendes\", \"Attendance (tickets sold / available)\": \"62,630 / 62,630\", \"Revenue\": \"$7,396,733\", \"Tour\": \"The_1989_World_Tour\", \"tickets_sold\": 62630, \"revenue_num\": 7396733}, {\"City\": \"Lexington\", \"Country\": \"United States\", \"Venue\": \"Rupp Arena\", \"Opening act(s)\": \"Vance Joy\", \"Attendance (tickets sold / available)\": \"17,084 / 17,084\", \"Revenue\": \"$1,870,471\", \"Tour\": \"The_1989_World_Tour\", \"tickets_sold\": 17084, \"revenue_num\": 1870471}, {\"City\": \"Greensboro\", \"Country\": \"United States\", \"Venue\": \"Greensboro Coliseum\", \"Opening act(s)\": \"Vance Joy\", \"Attendance (tickets sold / available)\": \"15,079 / 15,079\", \"Revenue\": \"$1,662,171\", \"Tour\": \"The_1989_World_Tour\", \"tickets_sold\": 15079, \"revenue_num\": 1662171}, {\"City\": \"Atlanta\", \"Country\": \"United States\", \"Venue\": \"Georgia Dome\", \"Opening act(s)\": \"Vance Joy Shawn Mendes\", \"Attendance (tickets sold / available)\": \"56,046 / 56,046\", \"Revenue\": \"$6,034,846\", \"Tour\": \"The_1989_World_Tour\", \"tickets_sold\": 56046, \"revenue_num\": 6034846}, {\"City\": \"Miami\", \"Country\": \"United States\", \"Venue\": \"American Airlines Arena\", \"Opening act(s)\": \"Vance Joy\", \"Attendance (tickets sold / available)\": \"14,044 / 14,044\", \"Revenue\": \"$1,527,919\", \"Tour\": \"The_1989_World_Tour\", \"tickets_sold\": 14044, \"revenue_num\": 1527919}, {\"City\": \"Tampa\", \"Country\": \"United States\", \"Venue\": \"Raymond James Stadium\", \"Opening act(s)\": \"Vance Joy Shawn Mendes\", \"Attendance (tickets sold / available)\": \"56,987 / 56,987\", \"Revenue\": \"$6,202,515\", \"Tour\": \"The_1989_World_Tour\", \"tickets_sold\": 56987, \"revenue_num\": 6202515}, {\"City\": \"Singapore\", \"Country\": \"Singapore\", \"Venue\": \"Singapore Indoor Stadium\", \"Opening act(s)\": \"\\u2014\", \"Attendance (tickets sold / available)\": \"17,726 / 17,726\", \"Revenue\": \"$3,217,569\", \"Tour\": \"The_1989_World_Tour\", \"tickets_sold\": 17726, \"revenue_num\": 3217569}, {\"City\": \"Singapore\", \"Country\": \"Singapore\", \"Venue\": \"Singapore Indoor Stadium\", \"Opening act(s)\": \"\\u2014\", \"Attendance (tickets sold / available)\": \"17,726 / 17,726\", \"Revenue\": \"$3,217,569\", \"Tour\": \"The_1989_World_Tour\", \"tickets_sold\": 17726, \"revenue_num\": 3217569}, {\"City\": \"Shanghai\", \"Country\": \"China\", \"Venue\": \"Mercedes-Benz Arena\", \"Opening act(s)\": \"\\u2014\", \"Attendance (tickets sold / available)\": \"37,758 / 37,758\", \"Revenue\": \"$5,917,348\", \"Tour\": \"The_1989_World_Tour\", \"tickets_sold\": 37758, \"revenue_num\": 5917348}, {\"City\": \"Shanghai\", \"Country\": \"China\", \"Venue\": \"Mercedes-Benz Arena\", \"Opening act(s)\": \"\\u2014\", \"Attendance (tickets sold / available)\": \"37,758 / 37,758\", \"Revenue\": \"$5,917,348\", \"Tour\": \"The_1989_World_Tour\", \"tickets_sold\": 37758, \"revenue_num\": 5917348}, {\"City\": \"Shanghai\", \"Country\": \"China\", \"Venue\": \"Mercedes-Benz Arena\", \"Opening act(s)\": \"\\u2014\", \"Attendance (tickets sold / available)\": \"37,758 / 37,758\", \"Revenue\": \"$5,917,348\", \"Tour\": \"The_1989_World_Tour\", \"tickets_sold\": 37758, \"revenue_num\": 5917348}, {\"City\": \"Sydney\", \"Country\": \"Australia\", \"Venue\": \"ANZ Stadium\", \"Opening act(s)\": \"Vance Joy\", \"Attendance (tickets sold / available)\": \"75,980 / 75,980\", \"Revenue\": \"$6,571,683\", \"Tour\": \"The_1989_World_Tour\", \"tickets_sold\": 75980, \"revenue_num\": 6571683}, {\"City\": \"Brisbane\", \"Country\": \"Australia\", \"Venue\": \"Suncorp Stadium\", \"Opening act(s)\": \"Vance Joy\", \"Attendance (tickets sold / available)\": \"46,881 / 46,881\", \"Revenue\": \"$4,759,471\", \"Tour\": \"The_1989_World_Tour\", \"tickets_sold\": 46881, \"revenue_num\": 4759471}, {\"City\": \"Adelaide\", \"Country\": \"Australia\", \"Venue\": \"Adelaide Entertainment Centre\", \"Opening act(s)\": \"Vance Joy\", \"Attendance (tickets sold / available)\": \"20,090 / 20,090\", \"Revenue\": \"$2,407,499\", \"Tour\": \"The_1989_World_Tour\", \"tickets_sold\": 20090, \"revenue_num\": 2407499}, {\"City\": \"Adelaide\", \"Country\": \"Australia\", \"Venue\": \"Adelaide Entertainment Centre\", \"Opening act(s)\": \"Vance Joy\", \"Attendance (tickets sold / available)\": \"20,090 / 20,090\", \"Revenue\": \"$2,407,499\", \"Tour\": \"The_1989_World_Tour\", \"tickets_sold\": 20090, \"revenue_num\": 2407499}, {\"City\": \"Melbourne\", \"Country\": \"Australia\", \"Venue\": \"AAMI Park\", \"Opening act(s)\": \"Vance Joy\", \"Attendance (tickets sold / available)\": \"98,136 / 98,136\", \"Revenue\": \"$10,421,553\", \"Tour\": \"The_1989_World_Tour\", \"tickets_sold\": 98136, \"revenue_num\": 10421553}, {\"City\": \"Melbourne\", \"Country\": \"Australia\", \"Venue\": \"AAMI Park\", \"Opening act(s)\": \"Vance Joy\", \"Attendance (tickets sold / available)\": \"98,136 / 98,136\", \"Revenue\": \"$10,421,553\", \"Tour\": \"The_1989_World_Tour\", \"tickets_sold\": 98136, \"revenue_num\": 10421553}, {\"City\": \"Melbourne\", \"Country\": \"Australia\", \"Venue\": \"AAMI Park\", \"Opening act(s)\": \"Vance Joy\", \"Attendance (tickets sold / available)\": \"98,136 / 98,136\", \"Revenue\": \"$10,421,553\", \"Tour\": \"The_1989_World_Tour\", \"tickets_sold\": 98136, \"revenue_num\": 10421553}, {\"City\": \"Glendale\", \"Country\": \"United States\", \"Venue\": \"University of Phoenix Stadium\", \"Opening act(s)\": \"Camila Cabello Charli XCX\", \"Attendance (tickets sold / available)\": \"59,157 / 59,157\", \"Revenue\": \"$7,214,478\", \"Tour\": \"Reputation_Stadium_Tour\", \"tickets_sold\": 59157, \"revenue_num\": 7214478}, {\"City\": \"Santa Clara\", \"Country\": \"United States\", \"Venue\": \"Levi's Stadium\", \"Opening act(s)\": \"Camila Cabello Charli XCX\", \"Attendance (tickets sold / available)\": \"107,550 / 107,550\", \"Revenue\": \"$14,006,963\", \"Tour\": \"Reputation_Stadium_Tour\", \"tickets_sold\": 107550, \"revenue_num\": 14006963}, {\"City\": \"Santa Clara\", \"Country\": \"United States\", \"Venue\": \"Levi's Stadium\", \"Opening act(s)\": \"Camila Cabello Charli XCX\", \"Attendance (tickets sold / available)\": \"107,550 / 107,550\", \"Revenue\": \"$14,006,963\", \"Tour\": \"Reputation_Stadium_Tour\", \"tickets_sold\": 107550, \"revenue_num\": 14006963}, {\"City\": \"Pasadena\", \"Country\": \"United States\", \"Venue\": \"Rose Bowl\", \"Opening act(s)\": \"Camila Cabello Charli XCX\", \"Attendance (tickets sold / available)\": \"118,084 / 118,084\", \"Revenue\": \"$16,251,980\", \"Tour\": \"Reputation_Stadium_Tour\", \"tickets_sold\": 118084, \"revenue_num\": 16251980}, {\"City\": \"Pasadena\", \"Country\": \"United States\", \"Venue\": \"Rose Bowl\", \"Opening act(s)\": \"Camila Cabello Charli XCX\", \"Attendance (tickets sold / available)\": \"118,084 / 118,084\", \"Revenue\": \"$16,251,980\", \"Tour\": \"Reputation_Stadium_Tour\", \"tickets_sold\": 118084, \"revenue_num\": 16251980}, {\"City\": \"Seattle\", \"Country\": \"United States\", \"Venue\": \"CenturyLink Field\", \"Opening act(s)\": \"Charli XCX\", \"Attendance (tickets sold / available)\": \"56,021 / 56,021\", \"Revenue\": \"$8,672,219\", \"Tour\": \"Reputation_Stadium_Tour\", \"tickets_sold\": 56021, \"revenue_num\": 8672219}, {\"City\": \"Denver\", \"Country\": \"United States\", \"Venue\": \"Sports Authority Field at Mile High\", \"Opening act(s)\": \"Camila Cabello Charli XCX\", \"Attendance (tickets sold / available)\": \"57,140 / 57,140\", \"Revenue\": \"$7,926,366\", \"Tour\": \"Reputation_Stadium_Tour\", \"tickets_sold\": 57140, \"revenue_num\": 7926366}, {\"City\": \"Chicago\", \"Country\": \"United States\", \"Venue\": \"Soldier Field\", \"Opening act(s)\": \"Camila Cabello Charli XCX\", \"Attendance (tickets sold / available)\": \"105,208 / 105,208\", \"Revenue\": \"$14,576,697\", \"Tour\": \"Reputation_Stadium_Tour\", \"tickets_sold\": 105208, \"revenue_num\": 14576697}, {\"City\": \"Chicago\", \"Country\": \"United States\", \"Venue\": \"Soldier Field\", \"Opening act(s)\": \"Camila Cabello Charli XCX\", \"Attendance (tickets sold / available)\": \"105,208 / 105,208\", \"Revenue\": \"$14,576,697\", \"Tour\": \"Reputation_Stadium_Tour\", \"tickets_sold\": 105208, \"revenue_num\": 14576697}, {\"City\": \"Manchester\", \"Country\": \"England\", \"Venue\": \"Etihad Stadium\", \"Opening act(s)\": \"Camila Cabello Charli XCX\", \"Attendance (tickets sold / available)\": \"77,258 / 77,258\", \"Revenue\": \"$6,169,724\", \"Tour\": \"Reputation_Stadium_Tour\", \"tickets_sold\": 77258, \"revenue_num\": 6169724}, {\"City\": \"Manchester\", \"Country\": \"England\", \"Venue\": \"Etihad Stadium\", \"Opening act(s)\": \"Camila Cabello Charli XCX\", \"Attendance (tickets sold / available)\": \"77,258 / 77,258\", \"Revenue\": \"$6,169,724\", \"Tour\": \"Reputation_Stadium_Tour\", \"tickets_sold\": 77258, \"revenue_num\": 6169724}, {\"City\": \"Dublin\", \"Country\": \"Ireland\", \"Venue\": \"Croke Park\", \"Opening act(s)\": \"Camila Cabello Charli XCX\", \"Attendance (tickets sold / available)\": \"133,034 / 133,034\", \"Revenue\": \"$8,567,769\", \"Tour\": \"Reputation_Stadium_Tour\", \"tickets_sold\": 133034, \"revenue_num\": 8567769}, {\"City\": \"Dublin\", \"Country\": \"Ireland\", \"Venue\": \"Croke Park\", \"Opening act(s)\": \"Camila Cabello Charli XCX\", \"Attendance (tickets sold / available)\": \"133,034 / 133,034\", \"Revenue\": \"$8,567,769\", \"Tour\": \"Reputation_Stadium_Tour\", \"tickets_sold\": 133034, \"revenue_num\": 8567769}, {\"City\": \"London\", \"Country\": \"England\", \"Venue\": \"Wembley Stadium\", \"Opening act(s)\": \"Camila Cabello Charli XCX\", \"Attendance (tickets sold / available)\": \"143,427 / 143,427\", \"Revenue\": \"$12,214,933\", \"Tour\": \"Reputation_Stadium_Tour\", \"tickets_sold\": 143427, \"revenue_num\": 12214933}, {\"City\": \"London\", \"Country\": \"England\", \"Venue\": \"Wembley Stadium\", \"Opening act(s)\": \"Camila Cabello Charli XCX\", \"Attendance (tickets sold / available)\": \"143,427 / 143,427\", \"Revenue\": \"$12,214,933\", \"Tour\": \"Reputation_Stadium_Tour\", \"tickets_sold\": 143427, \"revenue_num\": 12214933}, {\"City\": \"Louisville\", \"Country\": \"United States\", \"Venue\": \"Cardinal Stadium\", \"Opening act(s)\": \"Camila Cabello Charli XCX\", \"Attendance (tickets sold / available)\": \"52,138 / 52,138\", \"Revenue\": \"$4,928,219\", \"Tour\": \"Reputation_Stadium_Tour\", \"tickets_sold\": 52138, \"revenue_num\": 4928219}, {\"City\": \"Columbus\", \"Country\": \"United States\", \"Venue\": \"Ohio Stadium\", \"Opening act(s)\": \"Camila Cabello Charli XCX\", \"Attendance (tickets sold / available)\": \"62,897 / 62,897\", \"Revenue\": \"$6,606,529\", \"Tour\": \"Reputation_Stadium_Tour\", \"tickets_sold\": 62897, \"revenue_num\": 6606529}, {\"City\": \"Landover\", \"Country\": \"United States\", \"Venue\": \"FedExField\", \"Opening act(s)\": \"Camila Cabello Charli XCX\", \"Attendance (tickets sold / available)\": \"95,672 / 95,672\", \"Revenue\": \"$11,396,004\", \"Tour\": \"Reputation_Stadium_Tour\", \"tickets_sold\": 95672, \"revenue_num\": 11396004}, {\"City\": \"Landover\", \"Country\": \"United States\", \"Venue\": \"FedExField\", \"Opening act(s)\": \"Camila Cabello Charli XCX\", \"Attendance (tickets sold / available)\": \"95,672 / 95,672\", \"Revenue\": \"$11,396,004\", \"Tour\": \"Reputation_Stadium_Tour\", \"tickets_sold\": 95672, \"revenue_num\": 11396004}, {\"City\": \"Philadelphia\", \"Country\": \"United States\", \"Venue\": \"Lincoln Financial Field\", \"Opening act(s)\": \"Camila Cabello Charli XCX\", \"Attendance (tickets sold / available)\": \"107,378 / 107,378\", \"Revenue\": \"$11,951,047\", \"Tour\": \"Reputation_Stadium_Tour\", \"tickets_sold\": 107378, \"revenue_num\": 11951047}, {\"City\": \"Philadelphia\", \"Country\": \"United States\", \"Venue\": \"Lincoln Financial Field\", \"Opening act(s)\": \"Camila Cabello Charli XCX\", \"Attendance (tickets sold / available)\": \"107,378 / 107,378\", \"Revenue\": \"$11,951,047\", \"Tour\": \"Reputation_Stadium_Tour\", \"tickets_sold\": 107378, \"revenue_num\": 11951047}, {\"City\": \"Cleveland\", \"Country\": \"United States\", \"Venue\": \"FirstEnergy Stadium\", \"Opening act(s)\": \"Camila Cabello Charli XCX\", \"Attendance (tickets sold / available)\": \"51,323 / 51,323\", \"Revenue\": \"$5,148,757\", \"Tour\": \"Reputation_Stadium_Tour\", \"tickets_sold\": 51323, \"revenue_num\": 5148757}, {\"City\": \"East Rutherford\", \"Country\": \"United States\", \"Venue\": \"MetLife Stadium\", \"Opening act(s)\": \"Camila Cabello Charli XCX\", \"Attendance (tickets sold / available)\": \"165,654 / 165,654\", \"Revenue\": \"$22,031,386\", \"Tour\": \"Reputation_Stadium_Tour\", \"tickets_sold\": 165654, \"revenue_num\": 22031386}, {\"City\": \"East Rutherford\", \"Country\": \"United States\", \"Venue\": \"MetLife Stadium\", \"Opening act(s)\": \"Camila Cabello Charli XCX\", \"Attendance (tickets sold / available)\": \"165,654 / 165,654\", \"Revenue\": \"$22,031,386\", \"Tour\": \"Reputation_Stadium_Tour\", \"tickets_sold\": 165654, \"revenue_num\": 22031386}, {\"City\": \"East Rutherford\", \"Country\": \"United States\", \"Venue\": \"MetLife Stadium\", \"Opening act(s)\": \"Camila Cabello Charli XCX\", \"Attendance (tickets sold / available)\": \"165,654 / 165,654\", \"Revenue\": \"$22,031,386\", \"Tour\": \"Reputation_Stadium_Tour\", \"tickets_sold\": 165654, \"revenue_num\": 22031386}, {\"City\": \"Foxborough\", \"Country\": \"United States\", \"Venue\": \"Gillette Stadium\", \"Opening act(s)\": \"Camila Cabello Charli XCX\", \"Attendance (tickets sold / available)\": \"174,764 / 174,764\", \"Revenue\": \"$21,779,846\", \"Tour\": \"Reputation_Stadium_Tour\", \"tickets_sold\": 174764, \"revenue_num\": 21779846}, {\"City\": \"Foxborough\", \"Country\": \"United States\", \"Venue\": \"Gillette Stadium\", \"Opening act(s)\": \"Camila Cabello Charli XCX\", \"Attendance (tickets sold / available)\": \"174,764 / 174,764\", \"Revenue\": \"$21,779,846\", \"Tour\": \"Reputation_Stadium_Tour\", \"tickets_sold\": 174764, \"revenue_num\": 21779846}, {\"City\": \"Foxborough\", \"Country\": \"United States\", \"Venue\": \"Gillette Stadium\", \"Opening act(s)\": \"Camila Cabello Charli XCX\", \"Attendance (tickets sold / available)\": \"174,764 / 174,764\", \"Revenue\": \"$21,779,846\", \"Tour\": \"Reputation_Stadium_Tour\", \"tickets_sold\": 174764, \"revenue_num\": 21779846}, {\"City\": \"Toronto\", \"Country\": \"Canada\", \"Venue\": \"Rogers Centre\", \"Opening act(s)\": \"Camila Cabello Charli XCX\", \"Attendance (tickets sold / available)\": \"100,310 / 100,310\", \"Revenue\": \"$11,177,000\", \"Tour\": \"Reputation_Stadium_Tour\", \"tickets_sold\": 100310, \"revenue_num\": 11177000}, {\"City\": \"Toronto\", \"Country\": \"Canada\", \"Venue\": \"Rogers Centre\", \"Opening act(s)\": \"Camila Cabello Charli XCX\", \"Attendance (tickets sold / available)\": \"100,310 / 100,310\", \"Revenue\": \"$11,177,000\", \"Tour\": \"Reputation_Stadium_Tour\", \"tickets_sold\": 100310, \"revenue_num\": 11177000}, {\"City\": \"Pittsburgh\", \"Country\": \"United States\", \"Venue\": \"Heinz Field\", \"Opening act(s)\": \"Camila Cabello Charli XCX\", \"Attendance (tickets sold / available)\": \"56,445 / 56,445\", \"Revenue\": \"$6,230,876\", \"Tour\": \"Reputation_Stadium_Tour\", \"tickets_sold\": 56445, \"revenue_num\": 6230876}, {\"City\": \"Atlanta\", \"Country\": \"United States\", \"Venue\": \"Mercedes-Benz Stadium\", \"Opening act(s)\": \"Camila Cabello Charli XCX\", \"Attendance (tickets sold / available)\": \"116,746 / 116,746\", \"Revenue\": \"$18,089,415\", \"Tour\": \"Reputation_Stadium_Tour\", \"tickets_sold\": 116746, \"revenue_num\": 18089415}, {\"City\": \"Atlanta\", \"Country\": \"United States\", \"Venue\": \"Mercedes-Benz Stadium\", \"Opening act(s)\": \"Camila Cabello Charli XCX\", \"Attendance (tickets sold / available)\": \"116,746 / 116,746\", \"Revenue\": \"$18,089,415\", \"Tour\": \"Reputation_Stadium_Tour\", \"tickets_sold\": 116746, \"revenue_num\": 18089415}, {\"City\": \"Tampa\", \"Country\": \"United States\", \"Venue\": \"Raymond James Stadium\", \"Opening act(s)\": \"Camila Cabello Charli XCX\", \"Attendance (tickets sold / available)\": \"55,909 / 55,909\", \"Revenue\": \"$7,244,264\", \"Tour\": \"Reputation_Stadium_Tour\", \"tickets_sold\": 55909, \"revenue_num\": 7244264}, {\"City\": \"Miami Gardens\", \"Country\": \"United States\", \"Venue\": \"Hard Rock Stadium\", \"Opening act(s)\": \"Camila Cabello Charli XCX\", \"Attendance (tickets sold / available)\": \"47,818 / 47,818\", \"Revenue\": \"$7,072,164\", \"Tour\": \"Reputation_Stadium_Tour\", \"tickets_sold\": 47818, \"revenue_num\": 7072164}, {\"City\": \"Nashville\", \"Country\": \"United States\", \"Venue\": \"Nissan Stadium\", \"Opening act(s)\": \"Camila Cabello Charli XCX\", \"Attendance (tickets sold / available)\": \"56,112 / 56,112\", \"Revenue\": \"$9,007,179\", \"Tour\": \"Reputation_Stadium_Tour\", \"tickets_sold\": 56112, \"revenue_num\": 9007179}, {\"City\": \"Detroit\", \"Country\": \"United States\", \"Venue\": \"Ford Field\", \"Opening act(s)\": \"Camila Cabello Charli XCX\", \"Attendance (tickets sold / available)\": \"49,464 / 49,464\", \"Revenue\": \"$6,597,852\", \"Tour\": \"Reputation_Stadium_Tour\", \"tickets_sold\": 49464, \"revenue_num\": 6597852}, {\"City\": \"Minneapolis\", \"Country\": \"United States\", \"Venue\": \"U.S. Bank Stadium\", \"Opening act(s)\": \"Camila Cabello Charli XCX\", \"Attendance (tickets sold / available)\": \"98,774 / 98,774\", \"Revenue\": \"$10,242,024\", \"Tour\": \"Reputation_Stadium_Tour\", \"tickets_sold\": 98774, \"revenue_num\": 10242024}, {\"City\": \"Minneapolis\", \"Country\": \"United States\", \"Venue\": \"U.S. Bank Stadium\", \"Opening act(s)\": \"Camila Cabello Charli XCX\", \"Attendance (tickets sold / available)\": \"98,774 / 98,774\", \"Revenue\": \"$10,242,024\", \"Tour\": \"Reputation_Stadium_Tour\", \"tickets_sold\": 98774, \"revenue_num\": 10242024}, {\"City\": \"Kansas City\", \"Country\": \"United States\", \"Venue\": \"Arrowhead Stadium\", \"Opening act(s)\": \"Camila Cabello Charli XCX\", \"Attendance (tickets sold / available)\": \"58,611 / 58,611\", \"Revenue\": \"$6,730,138\", \"Tour\": \"Reputation_Stadium_Tour\", \"tickets_sold\": 58611, \"revenue_num\": 6730138}, {\"City\": \"Indianapolis\", \"Country\": \"United States\", \"Venue\": \"Lucas Oil Stadium\", \"Opening act(s)\": \"Camila Cabello Charli XCX\", \"Attendance (tickets sold / available)\": \"55,729 / 55,729\", \"Revenue\": \"$6,531,245\", \"Tour\": \"Reputation_Stadium_Tour\", \"tickets_sold\": 55729, \"revenue_num\": 6531245}, {\"City\": \"St. Louis\", \"Country\": \"United States\", \"Venue\": \"The Dome at America's Center\", \"Opening act(s)\": \"Camila Cabello Charli XCX\", \"Attendance (tickets sold / available)\": \"47,831 / 47,831\", \"Revenue\": \"$4,884,054\", \"Tour\": \"Reputation_Stadium_Tour\", \"tickets_sold\": 47831, \"revenue_num\": 4884054}, {\"City\": \"New Orleans\", \"Country\": \"United States\", \"Venue\": \"Mercedes-Benz Superdome\", \"Opening act(s)\": \"Camila Cabello Charli XCX\", \"Attendance (tickets sold / available)\": \"53,172 / 53,172\", \"Revenue\": \"$6,491,546\", \"Tour\": \"Reputation_Stadium_Tour\", \"tickets_sold\": 53172, \"revenue_num\": 6491546}, {\"City\": \"Houston\", \"Country\": \"United States\", \"Venue\": \"NRG Stadium\", \"Opening act(s)\": \"Camila Cabello Charli XCX\", \"Attendance (tickets sold / available)\": \"53,800 / 53,800\", \"Revenue\": \"$9,350,275\", \"Tour\": \"Reputation_Stadium_Tour\", \"tickets_sold\": 53800, \"revenue_num\": 9350275}, {\"City\": \"Arlington\", \"Country\": \"United States\", \"Venue\": \"AT&T Stadium\", \"Opening act(s)\": \"Camila Cabello Charli XCX\", \"Attendance (tickets sold / available)\": \"105,002 / 105,002\", \"Revenue\": \"$15,006,157\", \"Tour\": \"Reputation_Stadium_Tour\", \"tickets_sold\": 105002, \"revenue_num\": 15006157}, {\"City\": \"Arlington\", \"Country\": \"United States\", \"Venue\": \"AT&T Stadium\", \"Opening act(s)\": \"Camila Cabello Charli XCX\", \"Attendance (tickets sold / available)\": \"105,002 / 105,002\", \"Revenue\": \"$15,006,157\", \"Tour\": \"Reputation_Stadium_Tour\", \"tickets_sold\": 105002, \"revenue_num\": 15006157}, {\"City\": \"Perth\", \"Country\": \"Australia\", \"Venue\": \"Optus Stadium\", \"Opening act(s)\": \"Charli XCX Broods\", \"Attendance (tickets sold / available)\": \"50,891 / 50,891\", \"Revenue\": \"$4,153,658\", \"Tour\": \"Reputation_Stadium_Tour\", \"tickets_sold\": 50891, \"revenue_num\": 4153658}, {\"City\": \"Melbourne\", \"Country\": \"Australia\", \"Venue\": \"Marvel Stadium\", \"Opening act(s)\": \"Charli XCX Broods\", \"Attendance (tickets sold / available)\": \"63,027 / 63,027\", \"Revenue\": \"$6,755,570\", \"Tour\": \"Reputation_Stadium_Tour\", \"tickets_sold\": 63027, \"revenue_num\": 6755570}, {\"City\": \"Sydney\", \"Country\": \"Australia\", \"Venue\": \"ANZ Stadium\", \"Opening act(s)\": \"Charli XCX Broods\", \"Attendance (tickets sold / available)\": \"72,805 / 72,805\", \"Revenue\": \"$7,686,564\", \"Tour\": \"Reputation_Stadium_Tour\", \"tickets_sold\": 72805, \"revenue_num\": 7686564}, {\"City\": \"Brisbane\", \"Country\": \"Australia\", \"Venue\": \"The Gabba\", \"Opening act(s)\": \"Charli XCX Broods\", \"Attendance (tickets sold / available)\": \"43,907 / 43,907\", \"Revenue\": \"$4,338,127\", \"Tour\": \"Reputation_Stadium_Tour\", \"tickets_sold\": 43907, \"revenue_num\": 4338127}, {\"City\": \"Auckland\", \"Country\": \"New Zealand\", \"Venue\": \"Mount Smart Stadium\", \"Opening act(s)\": \"Charli XCX Broods\", \"Attendance (tickets sold / available)\": \"35,749 / 35,749\", \"Revenue\": \"$3,617,593\", \"Tour\": \"Reputation_Stadium_Tour\", \"tickets_sold\": 35749, \"revenue_num\": 3617593}, {\"City\": \"Tokyo\", \"Country\": \"Japan\", \"Venue\": \"Tokyo Dome\", \"Opening act(s)\": \"Charli XCX\", \"Attendance (tickets sold / available)\": \"100,109 / 100,109\", \"Revenue\": \"$14,859,847\", \"Tour\": \"Reputation_Stadium_Tour\", \"tickets_sold\": 100109, \"revenue_num\": 14859847}, {\"City\": \"Tokyo\", \"Country\": \"Japan\", \"Venue\": \"Tokyo Dome\", \"Opening act(s)\": \"Charli XCX\", \"Attendance (tickets sold / available)\": \"100,109 / 100,109\", \"Revenue\": \"$14,859,847\", \"Tour\": \"Reputation_Stadium_Tour\", \"tickets_sold\": 100109, \"revenue_num\": 14859847}]}}, {\"mode\": \"vega-lite\"});\n",
       "</script>"
      ],
      "text/plain": [
       "alt.HConcatChart(...)"
      ]
     },
     "execution_count": 36,
     "metadata": {},
     "output_type": "execute_result"
    }
   ],
   "source": [
    "select_point = alt.selection_point(encodings = ['color'])\n",
    "\n",
    "color = alt.condition(select_point,\n",
    "                      alt.Color('Country:N', legend = None),\n",
    "                      alt.value('lightgray'))\n",
    "\n",
    "scatter = alt.Chart(taylor_concerts_v2).mark_point().encode(\n",
    "    alt.X('tickets_sold:Q').title('Tickets Sold'),\n",
    "    alt.Y('revenue_num:Q').title('Revenue'),\n",
    "    color = color,\n",
    "    tooltip = 'Venue:N'\n",
    ").add_params(select_point)\n",
    "\n",
    "legend = alt.Chart(taylor_concerts_v2).mark_circle().encode(\n",
    "    alt.Y('Country:N'),\n",
    "    color = color,\n",
    ").add_params(select_point)\n",
    "\n",
    "scatter | legend"
   ]
  },
  {
   "cell_type": "markdown",
   "metadata": {
    "id": "_Hv7SgX3bZxU"
   },
   "source": [
    " In a similar way and coding I tried also including the opening acts besides the country to be selected and displayed. However is not that interesting besides USA, because in USA there were dozens of concerts, while in other countries not that many."
   ]
  },
  {
   "cell_type": "code",
   "execution_count": 37,
   "metadata": {
    "colab": {
     "base_uri": "https://localhost:8080/",
     "height": 700
    },
    "executionInfo": {
     "elapsed": 6,
     "status": "ok",
     "timestamp": 1716379809175,
     "user": {
      "displayName": "Alexandros Tremopoulos",
      "userId": "18030826848297166341"
     },
     "user_tz": -120
    },
    "id": "_tKu7Bcryk-t",
    "outputId": "7215c797-0e9c-44a1-8156-deec59abffa1"
   },
   "outputs": [
    {
     "data": {
      "text/html": [
       "\n",
       "<style>\n",
       "  #altair-viz-935fafcf496847e1b4e781f2629d2fa4.vega-embed {\n",
       "    width: 100%;\n",
       "    display: flex;\n",
       "  }\n",
       "\n",
       "  #altair-viz-935fafcf496847e1b4e781f2629d2fa4.vega-embed details,\n",
       "  #altair-viz-935fafcf496847e1b4e781f2629d2fa4.vega-embed details summary {\n",
       "    position: relative;\n",
       "  }\n",
       "</style>\n",
       "<div id=\"altair-viz-935fafcf496847e1b4e781f2629d2fa4\"></div>\n",
       "<script type=\"text/javascript\">\n",
       "  var VEGA_DEBUG = (typeof VEGA_DEBUG == \"undefined\") ? {} : VEGA_DEBUG;\n",
       "  (function(spec, embedOpt){\n",
       "    let outputDiv = document.currentScript.previousElementSibling;\n",
       "    if (outputDiv.id !== \"altair-viz-935fafcf496847e1b4e781f2629d2fa4\") {\n",
       "      outputDiv = document.getElementById(\"altair-viz-935fafcf496847e1b4e781f2629d2fa4\");\n",
       "    }\n",
       "    const paths = {\n",
       "      \"vega\": \"https://cdn.jsdelivr.net/npm/vega@5?noext\",\n",
       "      \"vega-lib\": \"https://cdn.jsdelivr.net/npm/vega-lib?noext\",\n",
       "      \"vega-lite\": \"https://cdn.jsdelivr.net/npm/vega-lite@5.17.0?noext\",\n",
       "      \"vega-embed\": \"https://cdn.jsdelivr.net/npm/vega-embed@6?noext\",\n",
       "    };\n",
       "\n",
       "    function maybeLoadScript(lib, version) {\n",
       "      var key = `${lib.replace(\"-\", \"\")}_version`;\n",
       "      return (VEGA_DEBUG[key] == version) ?\n",
       "        Promise.resolve(paths[lib]) :\n",
       "        new Promise(function(resolve, reject) {\n",
       "          var s = document.createElement('script');\n",
       "          document.getElementsByTagName(\"head\")[0].appendChild(s);\n",
       "          s.async = true;\n",
       "          s.onload = () => {\n",
       "            VEGA_DEBUG[key] = version;\n",
       "            return resolve(paths[lib]);\n",
       "          };\n",
       "          s.onerror = () => reject(`Error loading script: ${paths[lib]}`);\n",
       "          s.src = paths[lib];\n",
       "        });\n",
       "    }\n",
       "\n",
       "    function showError(err) {\n",
       "      outputDiv.innerHTML = `<div class=\"error\" style=\"color:red;\">${err}</div>`;\n",
       "      throw err;\n",
       "    }\n",
       "\n",
       "    function displayChart(vegaEmbed) {\n",
       "      vegaEmbed(outputDiv, spec, embedOpt)\n",
       "        .catch(err => showError(`Javascript Error: ${err.message}<br>This usually means there's a typo in your chart specification. See the javascript console for the full traceback.`));\n",
       "    }\n",
       "\n",
       "    if(typeof define === \"function\" && define.amd) {\n",
       "      requirejs.config({paths});\n",
       "      require([\"vega-embed\"], displayChart, err => showError(`Error loading script: ${err.message}`));\n",
       "    } else {\n",
       "      maybeLoadScript(\"vega\", \"5\")\n",
       "        .then(() => maybeLoadScript(\"vega-lite\", \"5.17.0\"))\n",
       "        .then(() => maybeLoadScript(\"vega-embed\", \"6\"))\n",
       "        .catch(showError)\n",
       "        .then(() => displayChart(vegaEmbed));\n",
       "    }\n",
       "  })({\"config\": {\"view\": {\"continuousWidth\": 300, \"continuousHeight\": 300}}, \"hconcat\": [{\"mark\": {\"type\": \"point\"}, \"encoding\": {\"color\": {\"condition\": {\"param\": \"param_3\", \"field\": \"Country\", \"legend\": null, \"type\": \"nominal\"}, \"value\": \"lightgray\"}, \"tooltip\": {\"field\": \"Venue\", \"type\": \"nominal\"}, \"x\": {\"field\": \"tickets_sold\", \"title\": \"Tickets Sold\", \"type\": \"quantitative\"}, \"y\": {\"field\": \"revenue_num\", \"title\": \"Revenue\", \"type\": \"quantitative\"}}, \"name\": \"view_7\"}, {\"mark\": {\"type\": \"rect\"}, \"encoding\": {\"color\": {\"condition\": {\"param\": \"param_3\", \"field\": \"Country\", \"legend\": null, \"type\": \"nominal\"}, \"value\": \"lightgray\"}, \"x\": {\"field\": \"Opening act(s)\", \"type\": \"nominal\"}, \"y\": {\"field\": \"Country\", \"type\": \"nominal\"}}, \"name\": \"view_8\"}], \"data\": {\"name\": \"data-bb4b70d697506fa7d97b30f43fae7453\"}, \"params\": [{\"name\": \"param_3\", \"select\": {\"type\": \"point\", \"fields\": [\"Country\", \"Opening act(s)\"]}, \"views\": [\"view_7\", \"view_8\"]}], \"$schema\": \"https://vega.github.io/schema/vega-lite/v5.17.0.json\", \"datasets\": {\"data-bb4b70d697506fa7d97b30f43fae7453\": [{\"City\": \"Evansville\", \"Country\": \"United States\", \"Venue\": \"Roberts Municipal Stadium\", \"Opening act(s)\": \"Gloriana Kellie Pickler\", \"Attendance (tickets sold / available)\": \"7,463 / 7,463\", \"Revenue\": \"$360,617\", \"Tour\": \"Fearless_Tour\", \"tickets_sold\": 7463, \"revenue_num\": 360617}, {\"City\": \"Jonesboro\", \"Country\": \"United States\", \"Venue\": \"Convocation Center\", \"Opening act(s)\": \"Gloriana Kellie Pickler\", \"Attendance (tickets sold / available)\": \"7,822 / 7,822\", \"Revenue\": \"$340,328\", \"Tour\": \"Fearless_Tour\", \"tickets_sold\": 7822, \"revenue_num\": 340328}, {\"City\": \"St. Louis\", \"Country\": \"United States\", \"Venue\": \"Scottrade Center\", \"Opening act(s)\": \"Gloriana Kellie Pickler\", \"Attendance (tickets sold / available)\": \"13,764 / 13,764\", \"Revenue\": \"$650,420\", \"Tour\": \"Fearless_Tour\", \"tickets_sold\": 13764, \"revenue_num\": 650420}, {\"City\": \"North Charleston\", \"Country\": \"United States\", \"Venue\": \"North Charleston Coliseum\", \"Opening act(s)\": \"Gloriana Kellie Pickler\", \"Attendance (tickets sold / available)\": \"8,751 / 8,751\", \"Revenue\": \"$398,154\", \"Tour\": \"Fearless_Tour\", \"tickets_sold\": 8751, \"revenue_num\": 398154}, {\"City\": \"Jacksonville\", \"Country\": \"United States\", \"Venue\": \"Jacksonville Veterans Memorial Arena\", \"Opening act(s)\": \"Gloriana Kellie Pickler\", \"Attendance (tickets sold / available)\": \"11,072 / 11,072\", \"Revenue\": \"$507,012\", \"Tour\": \"Fearless_Tour\", \"tickets_sold\": 11072, \"revenue_num\": 507012}, {\"City\": \"Biloxi\", \"Country\": \"United States\", \"Venue\": \"Mississippi Coast Coliseum\", \"Opening act(s)\": \"Gloriana Kellie Pickler\", \"Attendance (tickets sold / available)\": \"9,436 / 9,436\", \"Revenue\": \"$437,313\", \"Tour\": \"Fearless_Tour\", \"tickets_sold\": 9436, \"revenue_num\": 437313}, {\"City\": \"London\", \"Country\": \"England\", \"Venue\": \"Shepherd's Bush Empire\", \"Opening act(s)\": \"\\u2014\", \"Attendance (tickets sold / available)\": \"6,789 / 6,789\", \"Revenue\": \"$401,328\", \"Tour\": \"Fearless_Tour\", \"tickets_sold\": 6789, \"revenue_num\": 401328}, {\"City\": \"London\", \"Country\": \"England\", \"Venue\": \"Shepherd's Bush Empire\", \"Opening act(s)\": \"\\u2014\", \"Attendance (tickets sold / available)\": \"6,789 / 6,789\", \"Revenue\": \"$401,328\", \"Tour\": \"Fearless_Tour\", \"tickets_sold\": 6789, \"revenue_num\": 401328}, {\"City\": \"Spokane\", \"Country\": \"United States\", \"Venue\": \"Spokane Arena\", \"Opening act(s)\": \"Gloriana Kellie Pickler\", \"Attendance (tickets sold / available)\": \"10,798 / 10,798\", \"Revenue\": \"$482,146\", \"Tour\": \"Fearless_Tour\", \"tickets_sold\": 10798, \"revenue_num\": 482146}, {\"City\": \"Seattle\", \"Country\": \"United States\", \"Venue\": \"KeyArena\", \"Opening act(s)\": \"Gloriana Kellie Pickler\", \"Attendance (tickets sold / available)\": \"12,061 / 12,061\", \"Revenue\": \"$528,637\", \"Tour\": \"Fearless_Tour\", \"tickets_sold\": 12061, \"revenue_num\": 528637}, {\"City\": \"Portland\", \"Country\": \"United States\", \"Venue\": \"Rose Garden Arena\", \"Opening act(s)\": \"Gloriana Kellie Pickler\", \"Attendance (tickets sold / available)\": \"13,226 / 13,226\", \"Revenue\": \"$613,284\", \"Tour\": \"Fearless_Tour\", \"tickets_sold\": 13226, \"revenue_num\": 613284}, {\"City\": \"Nampa\", \"Country\": \"United States\", \"Venue\": \"Ford Arena\", \"Opening act(s)\": \"Gloriana Kellie Pickler\", \"Attendance (tickets sold / available)\": \"8,970 / 8,970\", \"Revenue\": \"$413,622\", \"Tour\": \"Fearless_Tour\", \"tickets_sold\": 8970, \"revenue_num\": 413622}, {\"City\": \"Glendale\", \"Country\": \"United States\", \"Venue\": \"Jobing.com Arena\", \"Opening act(s)\": \"Gloriana Kellie Pickler\", \"Attendance (tickets sold / available)\": \"13,052 / 13,052\", \"Revenue\": \"$647,923\", \"Tour\": \"Fearless_Tour\", \"tickets_sold\": 13052, \"revenue_num\": 647923}, {\"City\": \"Los Angeles\", \"Country\": \"United States\", \"Venue\": \"Staples Center\", \"Opening act(s)\": \"Gloriana Kellie Pickler\", \"Attendance (tickets sold / available)\": \"13,648 / 13,648\", \"Revenue\": \"$720,940\", \"Tour\": \"Fearless_Tour\", \"tickets_sold\": 13648, \"revenue_num\": 720940}, {\"City\": \"Paradise\", \"Country\": \"United States\", \"Venue\": \"Mandalay Bay Events Center\", \"Opening act(s)\": \"Gloriana Kellie Pickler\", \"Attendance (tickets sold / available)\": \"8,311 / 8,311\", \"Revenue\": \"$551,051\", \"Tour\": \"Fearless_Tour\", \"tickets_sold\": 8311, \"revenue_num\": 551051}, {\"City\": \"San Diego\", \"Country\": \"United States\", \"Venue\": \"Valley View Casino Center\", \"Opening act(s)\": \"Gloriana Kellie Pickler\", \"Attendance (tickets sold / available)\": \"10,174 / 10,174\", \"Revenue\": \"$502,689\", \"Tour\": \"Fearless_Tour\", \"tickets_sold\": 10174, \"revenue_num\": 502689}, {\"City\": \"Salt Lake City\", \"Country\": \"United States\", \"Venue\": \"EnergySolutions Arena\", \"Opening act(s)\": \"Gloriana Kellie Pickler\", \"Attendance (tickets sold / available)\": \"13,042 / 13,042\", \"Revenue\": \"$555,207\", \"Tour\": \"Fearless_Tour\", \"tickets_sold\": 13042, \"revenue_num\": 555207}, {\"City\": \"Columbia\", \"Country\": \"United States\", \"Venue\": \"Merriweather Post Pavilion\", \"Opening act(s)\": \"Gloriana Kellie Pickler\", \"Attendance (tickets sold / available)\": \"17,619 / 17,619\", \"Revenue\": \"$608,438\", \"Tour\": \"Fearless_Tour\", \"tickets_sold\": 17619, \"revenue_num\": 608438}, {\"City\": \"Greensboro\", \"Country\": \"United States\", \"Venue\": \"Greensboro Coliseum\", \"Opening act(s)\": \"Gloriana Kellie Pickler\", \"Attendance (tickets sold / available)\": \"14,641 / 14,641\", \"Revenue\": \"$690,959\", \"Tour\": \"Fearless_Tour\", \"tickets_sold\": 14641, \"revenue_num\": 690959}, {\"City\": \"Edmonton\", \"Country\": \"Canada\", \"Venue\": \"Commonwealth Stadium\", \"Opening act(s)\": \"\\u2014\", \"Attendance (tickets sold / available)\": \"33,910 / 44,500\", \"Revenue\": \"$2,540,906\", \"Tour\": \"Fearless_Tour\", \"tickets_sold\": 33910, \"revenue_num\": 2540906}, {\"City\": \"Winnipeg\", \"Country\": \"Canada\", \"Venue\": \"MTS Centre\", \"Opening act(s)\": \"Gloriana Kellie Pickler\", \"Attendance (tickets sold / available)\": \"11,369 / 11,369\", \"Revenue\": \"$512,487\", \"Tour\": \"Fearless_Tour\", \"tickets_sold\": 11369, \"revenue_num\": 512487}, {\"City\": \"New York City\", \"Country\": \"United States\", \"Venue\": \"Madison Square Garden\", \"Opening act(s)\": \"Gloriana Kellie Pickler\", \"Attendance (tickets sold / available)\": \"13,597 / 13,597\", \"Revenue\": \"$976,062\", \"Tour\": \"Fearless_Tour\", \"tickets_sold\": 13597, \"revenue_num\": 976062}, {\"City\": \"Montville\", \"Country\": \"United States\", \"Venue\": \"Mohegan Sun Arena\", \"Opening act(s)\": \"Gloriana Kellie Pickler\", \"Attendance (tickets sold / available)\": \"7,507 / 7,507\", \"Revenue\": \"$296,306\", \"Tour\": \"Fearless_Tour\", \"tickets_sold\": 7507, \"revenue_num\": 296306}, {\"City\": \"Nashville\", \"Country\": \"United States\", \"Venue\": \"Bridgestone Arena\", \"Opening act(s)\": \"Gloriana Kellie Pickler\", \"Attendance (tickets sold / available)\": \"14,269 / 14,269\", \"Revenue\": \"$642,387\", \"Tour\": \"Fearless_Tour\", \"tickets_sold\": 14269, \"revenue_num\": 642387}, {\"City\": \"Dallas\", \"Country\": \"United States\", \"Venue\": \"American Airlines Center\", \"Opening act(s)\": \"Gloriana Kellie Pickler\", \"Attendance (tickets sold / available)\": \"13,794 / 13,794\", \"Revenue\": \"$628,062\", \"Tour\": \"Fearless_Tour\", \"tickets_sold\": 13794, \"revenue_num\": 628062}, {\"City\": \"North Little Rock\", \"Country\": \"United States\", \"Venue\": \"Verizon Arena\", \"Opening act(s)\": \"Gloriana Kellie Pickler\", \"Attendance (tickets sold / available)\": \"13,978 / 13,978\", \"Revenue\": \"$654,089\", \"Tour\": \"Fearless_Tour\", \"tickets_sold\": 13978, \"revenue_num\": 654089}, {\"City\": \"Cleveland\", \"Country\": \"United States\", \"Venue\": \"Quicken Loans Arena\", \"Opening act(s)\": \"Gloriana Kellie Pickler\", \"Attendance (tickets sold / available)\": \"15,524 / 15,524\", \"Revenue\": \"$743,492\", \"Tour\": \"Fearless_Tour\", \"tickets_sold\": 15524, \"revenue_num\": 743492}, {\"City\": \"Indianapolis\", \"Country\": \"United States\", \"Venue\": \"Conseco Fieldhouse\", \"Opening act(s)\": \"Gloriana Kellie Pickler\", \"Attendance (tickets sold / available)\": \"13,373 / 13,373\", \"Revenue\": \"$634,876\", \"Tour\": \"Fearless_Tour\", \"tickets_sold\": 13373, \"revenue_num\": 634876}, {\"City\": \"Rosemont\", \"Country\": \"United States\", \"Venue\": \"Allstate Arena\", \"Opening act(s)\": \"Gloriana Kellie Pickler\", \"Attendance (tickets sold / available)\": \"26,265 / 26,265\", \"Revenue\": \"$1,150,896\", \"Tour\": \"Fearless_Tour\", \"tickets_sold\": 26265, \"revenue_num\": 1150896}, {\"City\": \"Rosemont\", \"Country\": \"United States\", \"Venue\": \"Allstate Arena\", \"Opening act(s)\": \"Gloriana Kellie Pickler\", \"Attendance (tickets sold / available)\": \"26,265 / 26,265\", \"Revenue\": \"$1,150,896\", \"Tour\": \"Fearless_Tour\", \"tickets_sold\": 26265, \"revenue_num\": 1150896}, {\"City\": \"Minneapolis\", \"Country\": \"United States\", \"Venue\": \"Target Center\", \"Opening act(s)\": \"Gloriana Kellie Pickler\", \"Attendance (tickets sold / available)\": \"13,563 / 13,563\", \"Revenue\": \"$623,975\", \"Tour\": \"Fearless_Tour\", \"tickets_sold\": 13563, \"revenue_num\": 623975}, {\"City\": \"Brisbane\", \"Country\": \"Australia\", \"Venue\": \"Brisbane Entertainment Centre\", \"Opening act(s)\": \"Gloriana\", \"Attendance (tickets sold / available)\": \"11,334 / 11,334\", \"Revenue\": \"$956,505\", \"Tour\": \"Fearless_Tour\", \"tickets_sold\": 11334, \"revenue_num\": 956505}, {\"City\": \"Sydney\", \"Country\": \"Australia\", \"Venue\": \"Acer Arena\", \"Opening act(s)\": \"Gloriana\", \"Attendance (tickets sold / available)\": \"27,030 / 27,030\", \"Revenue\": \"$2,030,640\", \"Tour\": \"Fearless_Tour\", \"tickets_sold\": 27030, \"revenue_num\": 2030640}, {\"City\": \"Sydney\", \"Country\": \"Australia\", \"Venue\": \"Acer Arena\", \"Opening act(s)\": \"Gloriana\", \"Attendance (tickets sold / available)\": \"27,030 / 27,030\", \"Revenue\": \"$2,030,640\", \"Tour\": \"Fearless_Tour\", \"tickets_sold\": 27030, \"revenue_num\": 2030640}, {\"City\": \"Newcastle\", \"Country\": \"Australia\", \"Venue\": \"Newcastle Entertainment Centre\", \"Opening act(s)\": \"Gloriana\", \"Attendance (tickets sold / available)\": \"7,180 / 7,180\", \"Revenue\": \"$555,396\", \"Tour\": \"Fearless_Tour\", \"tickets_sold\": 7180, \"revenue_num\": 555396}, {\"City\": \"Melbourne\", \"Country\": \"Australia\", \"Venue\": \"Rod Laver Arena\", \"Opening act(s)\": \"Gloriana\", \"Attendance (tickets sold / available)\": \"23,493 / 23,493\", \"Revenue\": \"$1,627,510\", \"Tour\": \"Fearless_Tour\", \"tickets_sold\": 23493, \"revenue_num\": 1627510}, {\"City\": \"Melbourne\", \"Country\": \"Australia\", \"Venue\": \"Rod Laver Arena\", \"Opening act(s)\": \"Gloriana\", \"Attendance (tickets sold / available)\": \"23,493 / 23,493\", \"Revenue\": \"$1,627,510\", \"Tour\": \"Fearless_Tour\", \"tickets_sold\": 23493, \"revenue_num\": 1627510}, {\"City\": \"Adelaide\", \"Country\": \"Australia\", \"Venue\": \"Adelaide Entertainment Centre\", \"Opening act(s)\": \"Gloriana\", \"Attendance (tickets sold / available)\": \"9,066 / 9,066\", \"Revenue\": \"$585,352\", \"Tour\": \"Fearless_Tour\", \"tickets_sold\": 9066, \"revenue_num\": 585352}, {\"City\": \"Tampa\", \"Country\": \"United States\", \"Venue\": \"St. Pete Times Forum\", \"Opening act(s)\": \"Gloriana Kellie Pickler\", \"Attendance (tickets sold / available)\": \"13,861 / 13,861\", \"Revenue\": \"$793,049\", \"Tour\": \"Fearless_Tour\", \"tickets_sold\": 13861, \"revenue_num\": 793049}, {\"City\": \"Orlando\", \"Country\": \"United States\", \"Venue\": \"Amway Arena\", \"Opening act(s)\": \"Gloriana Kellie Pickler\", \"Attendance (tickets sold / available)\": \"11,101 / 11,101\", \"Revenue\": \"$598,581\", \"Tour\": \"Fearless_Tour\", \"tickets_sold\": 11101, \"revenue_num\": 598581}, {\"City\": \"Sunrise\", \"Country\": \"United States\", \"Venue\": \"BankAtlantic Center\", \"Opening act(s)\": \"Gloriana Kellie Pickler\", \"Attendance (tickets sold / available)\": \"13,453 / 13,453\", \"Revenue\": \"$777,442\", \"Tour\": \"Fearless_Tour\", \"tickets_sold\": 13453, \"revenue_num\": 777442}, {\"City\": \"Austin\", \"Country\": \"United States\", \"Venue\": \"Frank Erwin Center\", \"Opening act(s)\": \"Gloriana Kellie Pickler\", \"Attendance (tickets sold / available)\": \"11,928 / 11,928\", \"Revenue\": \"$642,705\", \"Tour\": \"Fearless_Tour\", \"tickets_sold\": 11928, \"revenue_num\": 642705}, {\"City\": \"Dallas\", \"Country\": \"United States\", \"Venue\": \"American Airlines Center\", \"Opening act(s)\": \"Gloriana Kellie Pickler\", \"Attendance (tickets sold / available)\": \"14,022 / 14,022\", \"Revenue\": \"$742,954\", \"Tour\": \"Fearless_Tour\", \"tickets_sold\": 14022, \"revenue_num\": 742954}, {\"City\": \"Corpus Christi\", \"Country\": \"United States\", \"Venue\": \"American Bank Center Arena\", \"Opening act(s)\": \"Gloriana Kellie Pickler\", \"Attendance (tickets sold / available)\": \"8,423 / 8,423\", \"Revenue\": \"$501,169\", \"Tour\": \"Fearless_Tour\", \"tickets_sold\": 8423, \"revenue_num\": 501169}, {\"City\": \"Philadelphia\", \"Country\": \"United States\", \"Venue\": \"Wells Fargo Center\", \"Opening act(s)\": \"Gloriana Kellie Pickler\", \"Attendance (tickets sold / available)\": \"30,360 / 30,360\", \"Revenue\": \"$2,002,321\", \"Tour\": \"Fearless_Tour\", \"tickets_sold\": 30360, \"revenue_num\": 2002321}, {\"City\": \"Philadelphia\", \"Country\": \"United States\", \"Venue\": \"Wells Fargo Center\", \"Opening act(s)\": \"Gloriana Kellie Pickler\", \"Attendance (tickets sold / available)\": \"30,360 / 30,360\", \"Revenue\": \"$2,002,321\", \"Tour\": \"Fearless_Tour\", \"tickets_sold\": 30360, \"revenue_num\": 2002321}, {\"City\": \"Charlottesville\", \"Country\": \"United States\", \"Venue\": \"John Paul Jones Arena\", \"Opening act(s)\": \"Gloriana Kellie Pickler\", \"Attendance (tickets sold / available)\": \"11,858 / 11,858\", \"Revenue\": \"$664,305\", \"Tour\": \"Fearless_Tour\", \"tickets_sold\": 11858, \"revenue_num\": 664305}, {\"City\": \"Auburn Hills\", \"Country\": \"United States\", \"Venue\": \"The Palace of Auburn Hills\", \"Opening act(s)\": \"Gloriana Kellie Pickler\", \"Attendance (tickets sold / available)\": \"29,125 / 29,125\", \"Revenue\": \"$1,711,591\", \"Tour\": \"Fearless_Tour\", \"tickets_sold\": 29125, \"revenue_num\": 1711591}, {\"City\": \"Auburn Hills\", \"Country\": \"United States\", \"Venue\": \"The Palace of Auburn Hills\", \"Opening act(s)\": \"Gloriana Kellie Pickler\", \"Attendance (tickets sold / available)\": \"29,125 / 29,125\", \"Revenue\": \"$1,711,591\", \"Tour\": \"Fearless_Tour\", \"tickets_sold\": 29125, \"revenue_num\": 1711591}, {\"City\": \"Cincinnati\", \"Country\": \"United States\", \"Venue\": \"U.S. Bank Arena\", \"Opening act(s)\": \"Gloriana Kellie Pickler\", \"Attendance (tickets sold / available)\": \"11,208 / 11,208\", \"Revenue\": \"$645,592\", \"Tour\": \"Fearless_Tour\", \"tickets_sold\": 11208, \"revenue_num\": 645592}, {\"City\": \"Oklahoma City\", \"Country\": \"United States\", \"Venue\": \"Ford Center\", \"Opening act(s)\": \"Gloriana Kellie Pickler\", \"Attendance (tickets sold / available)\": \"11,795 / 11,795\", \"Revenue\": \"$675,184\", \"Tour\": \"Fearless_Tour\", \"tickets_sold\": 11795, \"revenue_num\": 675184}, {\"City\": \"Wichita\", \"Country\": \"United States\", \"Venue\": \"Intrust Bank Arena\", \"Opening act(s)\": \"Gloriana Kellie Pickler\", \"Attendance (tickets sold / available)\": \"11,208 / 11,208\", \"Revenue\": \"$610,801\", \"Tour\": \"Fearless_Tour\", \"tickets_sold\": 11208, \"revenue_num\": 610801}, {\"City\": \"Kansas City\", \"Country\": \"United States\", \"Venue\": \"Sprint Center\", \"Opening act(s)\": \"Gloriana Kellie Pickler\", \"Attendance (tickets sold / available)\": \"13,781 / 13,781\", \"Revenue\": \"$761,110\", \"Tour\": \"Fearless_Tour\", \"tickets_sold\": 13781, \"revenue_num\": 761110}, {\"City\": \"Denver\", \"Country\": \"United States\", \"Venue\": \"Pepsi Center\", \"Opening act(s)\": \"Gloriana Kellie Pickler\", \"Attendance (tickets sold / available)\": \"25,991 / 25,991\", \"Revenue\": \"$1,497,135\", \"Tour\": \"Fearless_Tour\", \"tickets_sold\": 25991, \"revenue_num\": 1497135}, {\"City\": \"Denver\", \"Country\": \"United States\", \"Venue\": \"Pepsi Center\", \"Opening act(s)\": \"Gloriana Kellie Pickler\", \"Attendance (tickets sold / available)\": \"25,991 / 25,991\", \"Revenue\": \"$1,497,135\", \"Tour\": \"Fearless_Tour\", \"tickets_sold\": 25991, \"revenue_num\": 1497135}, {\"City\": \"Fresno\", \"Country\": \"United States\", \"Venue\": \"Save Mart Center\", \"Opening act(s)\": \"Gloriana Kellie Pickler\", \"Attendance (tickets sold / available)\": \"11,706 / 11,706\", \"Revenue\": \"$649,488\", \"Tour\": \"Fearless_Tour\", \"tickets_sold\": 11706, \"revenue_num\": 649488}, {\"City\": \"San Jose\", \"Country\": \"United States\", \"Venue\": \"HP Pavilion\", \"Opening act(s)\": \"Gloriana Kellie Pickler\", \"Attendance (tickets sold / available)\": \"12,744 / 12,744\", \"Revenue\": \"$716,726\", \"Tour\": \"Fearless_Tour\", \"tickets_sold\": 12744, \"revenue_num\": 716726}, {\"City\": \"Los Angeles\", \"Country\": \"United States\", \"Venue\": \"Staples Center\", \"Opening act(s)\": \"Gloriana Kellie Pickler\", \"Attendance (tickets sold / available)\": \"27,518 / 27,518\", \"Revenue\": \"$1,736,197\", \"Tour\": \"Fearless_Tour\", \"tickets_sold\": 27518, \"revenue_num\": 1736197}, {\"City\": \"Los Angeles\", \"Country\": \"United States\", \"Venue\": \"Staples Center\", \"Opening act(s)\": \"Gloriana Kellie Pickler\", \"Attendance (tickets sold / available)\": \"27,518 / 27,518\", \"Revenue\": \"$1,736,197\", \"Tour\": \"Fearless_Tour\", \"tickets_sold\": 27518, \"revenue_num\": 1736197}, {\"City\": \"Lexington\", \"Country\": \"United States\", \"Venue\": \"Rupp Arena\", \"Opening act(s)\": \"Gloriana Kellie Pickler\", \"Attendance (tickets sold / available)\": \"17,966 / 17,966\", \"Revenue\": \"$1,024,223\", \"Tour\": \"Fearless_Tour\", \"tickets_sold\": 17966, \"revenue_num\": 1024223}, {\"City\": \"Columbia\", \"Country\": \"United States\", \"Venue\": \"Colonial Life Arena\", \"Opening act(s)\": \"Gloriana Kellie Pickler\", \"Attendance (tickets sold / available)\": \"13,429 / 13,429\", \"Revenue\": \"$755,475\", \"Tour\": \"Fearless_Tour\", \"tickets_sold\": 13429, \"revenue_num\": 755475}, {\"City\": \"Raleigh\", \"Country\": \"United States\", \"Venue\": \"RBC Center\", \"Opening act(s)\": \"Gloriana Kellie Pickler\", \"Attendance (tickets sold / available)\": \"13,895 / 13,895\", \"Revenue\": \"$752,303\", \"Tour\": \"Fearless_Tour\", \"tickets_sold\": 13895, \"revenue_num\": 752303}, {\"City\": \"Des Moines\", \"Country\": \"United States\", \"Venue\": \"Wells Fargo Arena\", \"Opening act(s)\": \"Gloriana Kellie Pickler\", \"Attendance (tickets sold / available)\": \"13,264 / 13,264\", \"Revenue\": \"$738,280\", \"Tour\": \"Fearless_Tour\", \"tickets_sold\": 13264, \"revenue_num\": 738280}, {\"City\": \"Saint Paul\", \"Country\": \"United States\", \"Venue\": \"Xcel Energy Center\", \"Opening act(s)\": \"Gloriana Kellie Pickler\", \"Attendance (tickets sold / available)\": \"14,914 / 14,914\", \"Revenue\": \"$846,111\", \"Tour\": \"Fearless_Tour\", \"tickets_sold\": 14914, \"revenue_num\": 846111}, {\"City\": \"Moline\", \"Country\": \"United States\", \"Venue\": \"iWireless Center\", \"Opening act(s)\": \"Gloriana Kellie Pickler\", \"Attendance (tickets sold / available)\": \"10,641 / 10,641\", \"Revenue\": \"$610,668\", \"Tour\": \"Fearless_Tour\", \"tickets_sold\": 10641, \"revenue_num\": 610668}, {\"City\": \"Newark\", \"Country\": \"United States\", \"Venue\": \"Prudential Center\", \"Opening act(s)\": \"Gloriana Kellie Pickler\", \"Attendance (tickets sold / available)\": \"26,065 / 26,065\", \"Revenue\": \"$1,742,669\", \"Tour\": \"Fearless_Tour\", \"tickets_sold\": 26065, \"revenue_num\": 1742669}, {\"City\": \"Newark\", \"Country\": \"United States\", \"Venue\": \"Prudential Center\", \"Opening act(s)\": \"Gloriana Kellie Pickler\", \"Attendance (tickets sold / available)\": \"26,065 / 26,065\", \"Revenue\": \"$1,742,669\", \"Tour\": \"Fearless_Tour\", \"tickets_sold\": 26065, \"revenue_num\": 1742669}, {\"City\": \"Uniondale\", \"Country\": \"United States\", \"Venue\": \"Nassau Veterans Memorial Coliseum\", \"Opening act(s)\": \"Gloriana Kellie Pickler\", \"Attendance (tickets sold / available)\": \"25,831 / 25,831\", \"Revenue\": \"$1,713,529\", \"Tour\": \"Fearless_Tour\", \"tickets_sold\": 25831, \"revenue_num\": 1713529}, {\"City\": \"Uniondale\", \"Country\": \"United States\", \"Venue\": \"Nassau Veterans Memorial Coliseum\", \"Opening act(s)\": \"Gloriana Kellie Pickler\", \"Attendance (tickets sold / available)\": \"25,831 / 25,831\", \"Revenue\": \"$1,713,529\", \"Tour\": \"Fearless_Tour\", \"tickets_sold\": 25831, \"revenue_num\": 1713529}, {\"City\": \"Ottawa\", \"Country\": \"Canada\", \"Venue\": \"Scotiabank Place\", \"Opening act(s)\": \"Gloriana Kellie Pickler\", \"Attendance (tickets sold / available)\": \"13,376 / 13,376\", \"Revenue\": \"$873,206\", \"Tour\": \"Fearless_Tour\", \"tickets_sold\": 13376, \"revenue_num\": 873206}, {\"City\": \"Toronto\", \"Country\": \"Canada\", \"Venue\": \"Air Canada Centre\", \"Opening act(s)\": \"Gloriana Kellie Pickler\", \"Attendance (tickets sold / available)\": \"30,458 / 30,458\", \"Revenue\": \"$2,497,690\", \"Tour\": \"Fearless_Tour\", \"tickets_sold\": 30458, \"revenue_num\": 2497690}, {\"City\": \"Toronto\", \"Country\": \"Canada\", \"Venue\": \"Air Canada Centre\", \"Opening act(s)\": \"Gloriana Kellie Pickler\", \"Attendance (tickets sold / available)\": \"30,458 / 30,458\", \"Revenue\": \"$2,497,690\", \"Tour\": \"Fearless_Tour\", \"tickets_sold\": 30458, \"revenue_num\": 2497690}, {\"City\": \"Houston\", \"Country\": \"United States\", \"Venue\": \"Toyota Center\", \"Opening act(s)\": \"Gloriana Kellie Pickler\", \"Attendance (tickets sold / available)\": \"23,493 / 23,493\", \"Revenue\": \"$1,290,926\", \"Tour\": \"Fearless_Tour\", \"tickets_sold\": 23493, \"revenue_num\": 1290926}, {\"City\": \"Houston\", \"Country\": \"United States\", \"Venue\": \"Toyota Center\", \"Opening act(s)\": \"Gloriana Kellie Pickler\", \"Attendance (tickets sold / available)\": \"23,493 / 23,493\", \"Revenue\": \"$1,290,926\", \"Tour\": \"Fearless_Tour\", \"tickets_sold\": 23493, \"revenue_num\": 1290926}, {\"City\": \"Washington\", \"Country\": \"United States\", \"Venue\": \"Verizon Center\", \"Opening act(s)\": \"Gloriana Kellie Pickler\", \"Attendance (tickets sold / available)\": \"27,290 / 27,290\", \"Revenue\": \"$1,824,743\", \"Tour\": \"Fearless_Tour\", \"tickets_sold\": 27290, \"revenue_num\": 1824743}, {\"City\": \"Washington\", \"Country\": \"United States\", \"Venue\": \"Verizon Center\", \"Opening act(s)\": \"Gloriana Kellie Pickler\", \"Attendance (tickets sold / available)\": \"27,290 / 27,290\", \"Revenue\": \"$1,824,743\", \"Tour\": \"Fearless_Tour\", \"tickets_sold\": 27290, \"revenue_num\": 1824743}, {\"City\": \"Foxborough\", \"Country\": \"United States\", \"Venue\": \"Gillette Stadium\", \"Opening act(s)\": \"Gloriana Justin Bieber Kellie Pickler\", \"Attendance (tickets sold / available)\": \"56,868 / 56,868\", \"Revenue\": \"$3,726,157\", \"Tour\": \"Fearless_Tour\", \"tickets_sold\": 56868, \"revenue_num\": 3726157}, {\"City\": \"Singapore\", \"Country\": \"Singapore\", \"Venue\": \"Singapore Indoor Stadium\", \"Opening act(s)\": \"Sezairi Sezali\", \"Attendance (tickets sold / available)\": \"8,964 / 8,964\", \"Revenue\": \"$916,850\", \"Tour\": \"Speak_Now_World_Tour\", \"tickets_sold\": 8964, \"revenue_num\": 916850}, {\"City\": \"Seoul\", \"Country\": \"South Korea\", \"Venue\": \"Olympic Gymnastics Arena\", \"Opening act(s)\": \"\\u2014\", \"Attendance (tickets sold / available)\": \"4,725 / 4,725\", \"Revenue\": \"$385,374\", \"Tour\": \"Speak_Now_World_Tour\", \"tickets_sold\": 4725, \"revenue_num\": 385374}, {\"City\": \"Osaka\", \"Country\": \"Japan\", \"Venue\": \"Osaka-Jo Hall\", \"Opening act(s)\": \"\\u2014\", \"Attendance (tickets sold / available)\": \"6,953 / 6,953\", \"Revenue\": \"$758,113\", \"Tour\": \"Speak_Now_World_Tour\", \"tickets_sold\": 6953, \"revenue_num\": 758113}, {\"City\": \"Tokyo\", \"Country\": \"Japan\", \"Venue\": \"Nippon Budokan\", \"Opening act(s)\": \"\\u2014\", \"Attendance (tickets sold / available)\": \"15,955 / 15,955\", \"Revenue\": \"$1,738,227\", \"Tour\": \"Speak_Now_World_Tour\", \"tickets_sold\": 15955, \"revenue_num\": 1738227}, {\"City\": \"Tokyo\", \"Country\": \"Japan\", \"Venue\": \"Nippon Budokan\", \"Opening act(s)\": \"\\u2014\", \"Attendance (tickets sold / available)\": \"15,955 / 15,955\", \"Revenue\": \"$1,738,227\", \"Tour\": \"Speak_Now_World_Tour\", \"tickets_sold\": 15955, \"revenue_num\": 1738227}, {\"City\": \"Quezon City\", \"Country\": \"Philippines\", \"Venue\": \"Smart Araneta Coliseum\", \"Opening act(s)\": \"Sam Concepcion\", \"Attendance (tickets sold / available)\": \"12,667 / 12,667\", \"Revenue\": \"$859,037\", \"Tour\": \"Speak_Now_World_Tour\", \"tickets_sold\": 12667, \"revenue_num\": 859037}, {\"City\": \"Hong Kong\", \"Country\": \"Hong Kong\", \"Venue\": \"AsiaWorld\\u2013Arena\", \"Opening act(s)\": \"Saito Johnny\", \"Attendance (tickets sold / available)\": \"12,573 / 12,573\", \"Revenue\": \"$1,030,633\", \"Tour\": \"Speak_Now_World_Tour\", \"tickets_sold\": 12573, \"revenue_num\": 1030633}, {\"City\": \"Brussels\", \"Country\": \"Belgium\", \"Venue\": \"Forest National\", \"Opening act(s)\": \"Tom Dice\", \"Attendance (tickets sold / available)\": \"4,622 / 4,622\", \"Revenue\": \"$219,212\", \"Tour\": \"Speak_Now_World_Tour\", \"tickets_sold\": 4622, \"revenue_num\": 219212}, {\"City\": \"Rotterdam\", \"Country\": \"Netherlands\", \"Venue\": \"Sportpaleis van Ahoy\", \"Opening act(s)\": \"Tom Dice\", \"Attendance (tickets sold / available)\": \"4,799 / 4,799\", \"Revenue\": \"$248,314\", \"Tour\": \"Speak_Now_World_Tour\", \"tickets_sold\": 4799, \"revenue_num\": 248314}, {\"City\": \"Oslo\", \"Country\": \"Norway\", \"Venue\": \"Oslo Spektrum\", \"Opening act(s)\": \"\\u2014\", \"Attendance (tickets sold / available)\": \"8,650 / 8,650\", \"Revenue\": \"$815,246\", \"Tour\": \"Speak_Now_World_Tour\", \"tickets_sold\": 8650, \"revenue_num\": 815246}, {\"City\": \"Oberhausen\", \"Country\": \"Germany\", \"Venue\": \"K\\u00f6nig Pilsener Arena\", \"Opening act(s)\": \"Martin & James\", \"Attendance (tickets sold / available)\": \"6,082 / 6,082\", \"Revenue\": \"$370,028\", \"Tour\": \"Speak_Now_World_Tour\", \"tickets_sold\": 6082, \"revenue_num\": 370028}, {\"City\": \"Milan\", \"Country\": \"Italy\", \"Venue\": \"Mediolanum Forum\", \"Opening act(s)\": \"Emma Marrone\", \"Attendance (tickets sold / available)\": \"3,421 / 5,585\", \"Revenue\": \"$153,303\", \"Tour\": \"Speak_Now_World_Tour\", \"tickets_sold\": 3421, \"revenue_num\": 153303}, {\"City\": \"Paris\", \"Country\": \"France\", \"Venue\": \"Z\\u00e9nith de Paris\", \"Opening act(s)\": \"\\u2014\", \"Attendance (tickets sold / available)\": \"3,598 / 8,500\", \"Revenue\": \"$201,781\", \"Tour\": \"Speak_Now_World_Tour\", \"tickets_sold\": 3598, \"revenue_num\": 201781}, {\"City\": \"Madrid\", \"Country\": \"Spain\", \"Venue\": \"Palacio de los Deportes\", \"Opening act(s)\": \"The Bright\", \"Attendance (tickets sold / available)\": \"3,962 / 3,962\", \"Revenue\": \"$251,864\", \"Tour\": \"Speak_Now_World_Tour\", \"tickets_sold\": 3962, \"revenue_num\": 251864}, {\"City\": \"Birmingham\", \"Country\": \"England\", \"Venue\": \"LG Arena\", \"Opening act(s)\": \"Martin & James\", \"Attendance (tickets sold / available)\": \"9,339 / 9,339\", \"Revenue\": \"$508,854\", \"Tour\": \"Speak_Now_World_Tour\", \"tickets_sold\": 9339, \"revenue_num\": 508854}, {\"City\": \"Belfast\", \"Country\": \"Northern Ireland\", \"Venue\": \"Odyssey Arena\", \"Opening act(s)\": \"Ryan Sheridan\", \"Attendance (tickets sold / available)\": \"8,058 / 8,058\", \"Revenue\": \"$379,001\", \"Tour\": \"Speak_Now_World_Tour\", \"tickets_sold\": 8058, \"revenue_num\": 379001}, {\"City\": \"Dublin\", \"Country\": \"Ireland\", \"Venue\": \"The O2\", \"Opening act(s)\": \"Ryan Sheridan\", \"Attendance (tickets sold / available)\": \"8,681 / 8,681\", \"Revenue\": \"$419,806\", \"Tour\": \"Speak_Now_World_Tour\", \"tickets_sold\": 8681, \"revenue_num\": 419806}, {\"City\": \"Manchester\", \"Country\": \"England\", \"Venue\": \"Manchester Evening News Arena\", \"Opening act(s)\": \"Martin & James\", \"Attendance (tickets sold / available)\": \"10,488 / 11,622\", \"Revenue\": \"$580,558\", \"Tour\": \"Speak_Now_World_Tour\", \"tickets_sold\": 10488, \"revenue_num\": 580558}, {\"City\": \"London\", \"Country\": \"England\", \"Venue\": \"The O2 Arena\", \"Opening act(s)\": \"Martin & James\", \"Attendance (tickets sold / available)\": \"15,265 / 15,681\", \"Revenue\": \"$891,152\", \"Tour\": \"Speak_Now_World_Tour\", \"tickets_sold\": 15265, \"revenue_num\": 891152}, {\"City\": \"Omaha\", \"Country\": \"United States\", \"Venue\": \"Qwest Center Omaha\", \"Opening act(s)\": \"Needtobreathe\", \"Attendance (tickets sold / available)\": \"26,992 / 26,992\", \"Revenue\": \"$1,717,104\", \"Tour\": \"Speak_Now_World_Tour\", \"tickets_sold\": 26992, \"revenue_num\": 1717104}, {\"City\": \"Omaha\", \"Country\": \"United States\", \"Venue\": \"Qwest Center Omaha\", \"Opening act(s)\": \"Needtobreathe\", \"Attendance (tickets sold / available)\": \"26,992 / 26,992\", \"Revenue\": \"$1,717,104\", \"Tour\": \"Speak_Now_World_Tour\", \"tickets_sold\": 26992, \"revenue_num\": 1717104}, {\"City\": \"Des Moines\", \"Country\": \"United States\", \"Venue\": \"Wells Fargo Arena\", \"Opening act(s)\": \"Needtobreathe\", \"Attendance (tickets sold / available)\": \"13,149 / 13,149\", \"Revenue\": \"$862,771\", \"Tour\": \"Speak_Now_World_Tour\", \"tickets_sold\": 13149, \"revenue_num\": 862771}, {\"City\": \"Sunrise\", \"Country\": \"United States\", \"Venue\": \"BankAtlantic Center\", \"Opening act(s)\": \"Needtobreathe\", \"Attendance (tickets sold / available)\": \"24,077 / 24,077\", \"Revenue\": \"$1,582,951\", \"Tour\": \"Speak_Now_World_Tour\", \"tickets_sold\": 24077, \"revenue_num\": 1582951}, {\"City\": \"Sunrise\", \"Country\": \"United States\", \"Venue\": \"BankAtlantic Center\", \"Opening act(s)\": \"Needtobreathe\", \"Attendance (tickets sold / available)\": \"24,077 / 24,077\", \"Revenue\": \"$1,582,951\", \"Tour\": \"Speak_Now_World_Tour\", \"tickets_sold\": 24077, \"revenue_num\": 1582951}, {\"City\": \"Orlando\", \"Country\": \"United States\", \"Venue\": \"Amway Center\", \"Opening act(s)\": \"Needtobreathe\", \"Attendance (tickets sold / available)\": \"12,262 / 12,262\", \"Revenue\": \"$791,980\", \"Tour\": \"Speak_Now_World_Tour\", \"tickets_sold\": 12262, \"revenue_num\": 791980}, {\"City\": \"Columbus\", \"Country\": \"United States\", \"Venue\": \"Nationwide Arena\", \"Opening act(s)\": \"Needtobreathe\", \"Attendance (tickets sold / available)\": \"14,817 / 14,817\", \"Revenue\": \"$955,259\", \"Tour\": \"Speak_Now_World_Tour\", \"tickets_sold\": 14817, \"revenue_num\": 955259}, {\"City\": \"Milwaukee\", \"Country\": \"United States\", \"Venue\": \"Bradley Center\", \"Opening act(s)\": \"Needtobreathe\", \"Attendance (tickets sold / available)\": \"13,748 / 13,748\", \"Revenue\": \"$897,042\", \"Tour\": \"Speak_Now_World_Tour\", \"tickets_sold\": 13748, \"revenue_num\": 897042}, {\"City\": \"Detroit\", \"Country\": \"United States\", \"Venue\": \"Ford Field\", \"Opening act(s)\": \"Needtobreathe\", \"Attendance (tickets sold / available)\": \"47,992 / 47,992\", \"Revenue\": \"$3,453,549\", \"Tour\": \"Speak_Now_World_Tour\", \"tickets_sold\": 47992, \"revenue_num\": 3453549}, {\"City\": \"Saint Paul\", \"Country\": \"United States\", \"Venue\": \"Xcel Energy Center\", \"Opening act(s)\": \"Needtobreathe\", \"Attendance (tickets sold / available)\": \"28,977 / 28,977\", \"Revenue\": \"$1,913,737\", \"Tour\": \"Speak_Now_World_Tour\", \"tickets_sold\": 28977, \"revenue_num\": 1913737}, {\"City\": \"Saint Paul\", \"Country\": \"United States\", \"Venue\": \"Xcel Energy Center\", \"Opening act(s)\": \"Needtobreathe\", \"Attendance (tickets sold / available)\": \"28,977 / 28,977\", \"Revenue\": \"$1,913,737\", \"Tour\": \"Speak_Now_World_Tour\", \"tickets_sold\": 28977, \"revenue_num\": 1913737}, {\"City\": \"Pittsburgh\", \"Country\": \"United States\", \"Venue\": \"Heinz Field\", \"Opening act(s)\": \"Needtobreathe\", \"Attendance (tickets sold / available)\": \"52,009 / 52,009\", \"Revenue\": \"$4,009,118\", \"Tour\": \"Speak_Now_World_Tour\", \"tickets_sold\": 52009, \"revenue_num\": 4009118}, {\"City\": \"Buffalo\", \"Country\": \"United States\", \"Venue\": \"First Niagara Center\", \"Opening act(s)\": \"Needtobreathe\", \"Attendance (tickets sold / available)\": \"14,487 / 14,487\", \"Revenue\": \"$966,749\", \"Tour\": \"Speak_Now_World_Tour\", \"tickets_sold\": 14487, \"revenue_num\": 966749}, {\"City\": \"Hartford\", \"Country\": \"United States\", \"Venue\": \"XL Center\", \"Opening act(s)\": \"Needtobreathe\", \"Attendance (tickets sold / available)\": \"12,436 / 12,436\", \"Revenue\": \"$810,165\", \"Tour\": \"Speak_Now_World_Tour\", \"tickets_sold\": 12436, \"revenue_num\": 810165}, {\"City\": \"Foxborough\", \"Country\": \"United States\", \"Venue\": \"Gillette Stadium\", \"Opening act(s)\": \"Needtobreathe\", \"Attendance (tickets sold / available)\": \"110,800 / 110,800\", \"Revenue\": \"$8,026,350\", \"Tour\": \"Speak_Now_World_Tour\", \"tickets_sold\": 110800, \"revenue_num\": 8026350}, {\"City\": \"Foxborough\", \"Country\": \"United States\", \"Venue\": \"Gillette Stadium\", \"Opening act(s)\": \"Needtobreathe\", \"Attendance (tickets sold / available)\": \"110,800 / 110,800\", \"Revenue\": \"$8,026,350\", \"Tour\": \"Speak_Now_World_Tour\", \"tickets_sold\": 110800, \"revenue_num\": 8026350}, {\"City\": \"Greensboro\", \"Country\": \"United States\", \"Venue\": \"Greensboro Coliseum\", \"Opening act(s)\": \"Needtobreathe\", \"Attendance (tickets sold / available)\": \"14,789 / 14,789\", \"Revenue\": \"$990,701\", \"Tour\": \"Speak_Now_World_Tour\", \"tickets_sold\": 14789, \"revenue_num\": 990701}, {\"City\": \"Knoxville\", \"Country\": \"United States\", \"Venue\": \"Thompson\\u2013Boling Arena\", \"Opening act(s)\": \"Needtobreathe\", \"Attendance (tickets sold / available)\": \"13,754 / 13,754\", \"Revenue\": \"$903,875\", \"Tour\": \"Speak_Now_World_Tour\", \"tickets_sold\": 13754, \"revenue_num\": 903875}, {\"City\": \"Montreal\", \"Country\": \"Canada\", \"Venue\": \"Bell Centre\", \"Opening act(s)\": \"Needtobreathe\", \"Attendance (tickets sold / available)\": \"13,439 / 13,439\", \"Revenue\": \"$1,254,230\", \"Tour\": \"Speak_Now_World_Tour\", \"tickets_sold\": 13439, \"revenue_num\": 1254230}, {\"City\": \"Toronto\", \"Country\": \"Canada\", \"Venue\": \"Air Canada Centre\", \"Opening act(s)\": \"Needtobreathe\", \"Attendance (tickets sold / available)\": \"30,144 / 30,144\", \"Revenue\": \"$3,036,000\", \"Tour\": \"Speak_Now_World_Tour\", \"tickets_sold\": 30144, \"revenue_num\": 3036000}, {\"City\": \"Toronto\", \"Country\": \"Canada\", \"Venue\": \"Air Canada Centre\", \"Opening act(s)\": \"Needtobreathe\", \"Attendance (tickets sold / available)\": \"30,144 / 30,144\", \"Revenue\": \"$3,036,000\", \"Tour\": \"Speak_Now_World_Tour\", \"tickets_sold\": 30144, \"revenue_num\": 3036000}, {\"City\": \"Newark\", \"Country\": \"United States\", \"Venue\": \"Prudential Center\", \"Opening act(s)\": \"Needtobreathe\", \"Attendance (tickets sold / available)\": \"51,487 / 51,487\", \"Revenue\": \"$3,875,463\", \"Tour\": \"Speak_Now_World_Tour\", \"tickets_sold\": 51487, \"revenue_num\": 3875463}, {\"City\": \"Newark\", \"Country\": \"United States\", \"Venue\": \"Prudential Center\", \"Opening act(s)\": \"Needtobreathe\", \"Attendance (tickets sold / available)\": \"51,487 / 51,487\", \"Revenue\": \"$3,875,463\", \"Tour\": \"Speak_Now_World_Tour\", \"tickets_sold\": 51487, \"revenue_num\": 3875463}, {\"City\": \"Newark\", \"Country\": \"United States\", \"Venue\": \"Prudential Center\", \"Opening act(s)\": \"Needtobreathe\", \"Attendance (tickets sold / available)\": \"51,487 / 51,487\", \"Revenue\": \"$3,875,463\", \"Tour\": \"Speak_Now_World_Tour\", \"tickets_sold\": 51487, \"revenue_num\": 3875463}, {\"City\": \"Newark\", \"Country\": \"United States\", \"Venue\": \"Prudential Center\", \"Opening act(s)\": \"Needtobreathe\", \"Attendance (tickets sold / available)\": \"51,487 / 51,487\", \"Revenue\": \"$3,875,463\", \"Tour\": \"Speak_Now_World_Tour\", \"tickets_sold\": 51487, \"revenue_num\": 3875463}, {\"City\": \"Grand Rapids\", \"Country\": \"United States\", \"Venue\": \"Van Andel Arena\", \"Opening act(s)\": \"Needtobreathe\", \"Attendance (tickets sold / available)\": \"11,012 / 11,012\", \"Revenue\": \"$724,854\", \"Tour\": \"Speak_Now_World_Tour\", \"tickets_sold\": 11012, \"revenue_num\": 724854}, {\"City\": \"Indianapolis\", \"Country\": \"United States\", \"Venue\": \"Conseco Fieldhouse\", \"Opening act(s)\": \"Needtobreathe\", \"Attendance (tickets sold / available)\": \"13,329 / 13,329\", \"Revenue\": \"$877,175\", \"Tour\": \"Speak_Now_World_Tour\", \"tickets_sold\": 13329, \"revenue_num\": 877175}, {\"City\": \"Cleveland\", \"Country\": \"United States\", \"Venue\": \"Quicken Loans Arena\", \"Opening act(s)\": \"Needtobreathe\", \"Attendance (tickets sold / available)\": \"14,873 / 14,873\", \"Revenue\": \"$976,954\", \"Tour\": \"Speak_Now_World_Tour\", \"tickets_sold\": 14873, \"revenue_num\": 976954}, {\"City\": \"Washington\", \"Country\": \"United States\", \"Venue\": \"Verizon Center\", \"Opening act(s)\": \"Needtobreathe\", \"Attendance (tickets sold / available)\": \"29,303 / 29,303\", \"Revenue\": \"$2,068,789\", \"Tour\": \"Speak_Now_World_Tour\", \"tickets_sold\": 29303, \"revenue_num\": 2068789}, {\"City\": \"Washington\", \"Country\": \"United States\", \"Venue\": \"Verizon Center\", \"Opening act(s)\": \"Needtobreathe\", \"Attendance (tickets sold / available)\": \"29,303 / 29,303\", \"Revenue\": \"$2,068,789\", \"Tour\": \"Speak_Now_World_Tour\", \"tickets_sold\": 29303, \"revenue_num\": 2068789}, {\"City\": \"Philadelphia\", \"Country\": \"United States\", \"Venue\": \"Lincoln Financial Field\", \"Opening act(s)\": \"Needtobreathe\", \"Attendance (tickets sold / available)\": \"51,395 / 51,395\", \"Revenue\": \"$4,268,678\", \"Tour\": \"Speak_Now_World_Tour\", \"tickets_sold\": 51395, \"revenue_num\": 4268678}, {\"City\": \"Rosemont\", \"Country\": \"United States\", \"Venue\": \"Allstate Arena\", \"Opening act(s)\": \"Needtobreathe\", \"Attendance (tickets sold / available)\": \"26,112 / 26,112\", \"Revenue\": \"$1,909,603\", \"Tour\": \"Speak_Now_World_Tour\", \"tickets_sold\": 26112, \"revenue_num\": 1909603}, {\"City\": \"Rosemont\", \"Country\": \"United States\", \"Venue\": \"Allstate Arena\", \"Opening act(s)\": \"Needtobreathe\", \"Attendance (tickets sold / available)\": \"26,112 / 26,112\", \"Revenue\": \"$1,909,603\", \"Tour\": \"Speak_Now_World_Tour\", \"tickets_sold\": 26112, \"revenue_num\": 1909603}, {\"City\": \"St. Louis\", \"Country\": \"United States\", \"Venue\": \"Scottrade Center\", \"Opening act(s)\": \"Needtobreathe\", \"Attendance (tickets sold / available)\": \"27,965 / 27,965\", \"Revenue\": \"$1,850,159\", \"Tour\": \"Speak_Now_World_Tour\", \"tickets_sold\": 27965, \"revenue_num\": 1850159}, {\"City\": \"St. Louis\", \"Country\": \"United States\", \"Venue\": \"Scottrade Center\", \"Opening act(s)\": \"Needtobreathe\", \"Attendance (tickets sold / available)\": \"27,965 / 27,965\", \"Revenue\": \"$1,850,159\", \"Tour\": \"Speak_Now_World_Tour\", \"tickets_sold\": 27965, \"revenue_num\": 1850159}, {\"City\": \"Edmonton\", \"Country\": \"Canada\", \"Venue\": \"Rexall Place\", \"Opening act(s)\": \"Needtobreathe\", \"Attendance (tickets sold / available)\": \"25,336 / 25,336\", \"Revenue\": \"$2,136,270\", \"Tour\": \"Speak_Now_World_Tour\", \"tickets_sold\": 25336, \"revenue_num\": 2136270}, {\"City\": \"Edmonton\", \"Country\": \"Canada\", \"Venue\": \"Rexall Place\", \"Opening act(s)\": \"Needtobreathe\", \"Attendance (tickets sold / available)\": \"25,336 / 25,336\", \"Revenue\": \"$2,136,270\", \"Tour\": \"Speak_Now_World_Tour\", \"tickets_sold\": 25336, \"revenue_num\": 2136270}, {\"City\": \"Los Angeles\", \"Country\": \"United States\", \"Venue\": \"Staples Center\", \"Opening act(s)\": \"Needtobreathe\", \"Attendance (tickets sold / available)\": \"54,900 / 54,900\", \"Revenue\": \"$3,927,154\", \"Tour\": \"Speak_Now_World_Tour\", \"tickets_sold\": 54900, \"revenue_num\": 3927154}, {\"City\": \"Los Angeles\", \"Country\": \"United States\", \"Venue\": \"Staples Center\", \"Opening act(s)\": \"Needtobreathe\", \"Attendance (tickets sold / available)\": \"54,900 / 54,900\", \"Revenue\": \"$3,927,154\", \"Tour\": \"Speak_Now_World_Tour\", \"tickets_sold\": 54900, \"revenue_num\": 3927154}, {\"City\": \"Los Angeles\", \"Country\": \"United States\", \"Venue\": \"Staples Center\", \"Opening act(s)\": \"Needtobreathe\", \"Attendance (tickets sold / available)\": \"54,900 / 54,900\", \"Revenue\": \"$3,927,154\", \"Tour\": \"Speak_Now_World_Tour\", \"tickets_sold\": 54900, \"revenue_num\": 3927154}, {\"City\": \"Los Angeles\", \"Country\": \"United States\", \"Venue\": \"Staples Center\", \"Opening act(s)\": \"Needtobreathe\", \"Attendance (tickets sold / available)\": \"54,900 / 54,900\", \"Revenue\": \"$3,927,154\", \"Tour\": \"Speak_Now_World_Tour\", \"tickets_sold\": 54900, \"revenue_num\": 3927154}, {\"City\": \"San Jose\", \"Country\": \"United States\", \"Venue\": \"HP Pavilion\", \"Opening act(s)\": \"Needtobreathe\", \"Attendance (tickets sold / available)\": \"24,827 / 24,827\", \"Revenue\": \"$1,825,448\", \"Tour\": \"Speak_Now_World_Tour\", \"tickets_sold\": 24827, \"revenue_num\": 1825448}, {\"City\": \"San Jose\", \"Country\": \"United States\", \"Venue\": \"HP Pavilion\", \"Opening act(s)\": \"Needtobreathe\", \"Attendance (tickets sold / available)\": \"24,827 / 24,827\", \"Revenue\": \"$1,825,448\", \"Tour\": \"Speak_Now_World_Tour\", \"tickets_sold\": 24827, \"revenue_num\": 1825448}, {\"City\": \"Sacramento\", \"Country\": \"United States\", \"Venue\": \"Power Balance Pavilion\", \"Opening act(s)\": \"Needtobreathe\", \"Attendance (tickets sold / available)\": \"12,432 / 12,432\", \"Revenue\": \"$934,326\", \"Tour\": \"Speak_Now_World_Tour\", \"tickets_sold\": 12432, \"revenue_num\": 934326}, {\"City\": \"Portland\", \"Country\": \"United States\", \"Venue\": \"Rose Garden Arena\", \"Opening act(s)\": \"Needtobreathe\", \"Attendance (tickets sold / available)\": \"13,610 / 13,610\", \"Revenue\": \"$903,445\", \"Tour\": \"Speak_Now_World_Tour\", \"tickets_sold\": 13610, \"revenue_num\": 903445}, {\"City\": \"Tacoma\", \"Country\": \"United States\", \"Venue\": \"Tacoma Dome\", \"Opening act(s)\": \"Needtobreathe\", \"Attendance (tickets sold / available)\": \"19,904 / 19,904\", \"Revenue\": \"$1,289,430\", \"Tour\": \"Speak_Now_World_Tour\", \"tickets_sold\": 19904, \"revenue_num\": 1289430}, {\"City\": \"Vancouver\", \"Country\": \"Canada\", \"Venue\": \"Rogers Arena\", \"Opening act(s)\": \"Needtobreathe\", \"Attendance (tickets sold / available)\": \"26,030 / 26,030\", \"Revenue\": \"$2,190,680\", \"Tour\": \"Speak_Now_World_Tour\", \"tickets_sold\": 26030, \"revenue_num\": 2190680}, {\"City\": \"Vancouver\", \"Country\": \"Canada\", \"Venue\": \"Rogers Arena\", \"Opening act(s)\": \"Needtobreathe\", \"Attendance (tickets sold / available)\": \"26,030 / 26,030\", \"Revenue\": \"$2,190,680\", \"Tour\": \"Speak_Now_World_Tour\", \"tickets_sold\": 26030, \"revenue_num\": 2190680}, {\"City\": \"Nashville\", \"Country\": \"United States\", \"Venue\": \"Bridgestone Arena\", \"Opening act(s)\": \"Needtobreathe\", \"Attendance (tickets sold / available)\": \"28,178 / 28,178\", \"Revenue\": \"$1,841,134\", \"Tour\": \"Speak_Now_World_Tour\", \"tickets_sold\": 28178, \"revenue_num\": 1841134}, {\"City\": \"Nashville\", \"Country\": \"United States\", \"Venue\": \"Bridgestone Arena\", \"Opening act(s)\": \"Needtobreathe\", \"Attendance (tickets sold / available)\": \"28,178 / 28,178\", \"Revenue\": \"$1,841,134\", \"Tour\": \"Speak_Now_World_Tour\", \"tickets_sold\": 28178, \"revenue_num\": 1841134}, {\"City\": \"Bossier City\", \"Country\": \"United States\", \"Venue\": \"CenturyLink Center\", \"Opening act(s)\": \"Needtobreathe\", \"Attendance (tickets sold / available)\": \"11,510 / 11,510\", \"Revenue\": \"$728,546\", \"Tour\": \"Speak_Now_World_Tour\", \"tickets_sold\": 11510, \"revenue_num\": 728546}, {\"City\": \"Tulsa\", \"Country\": \"United States\", \"Venue\": \"BOK Center\", \"Opening act(s)\": \"Needtobreathe\", \"Attendance (tickets sold / available)\": \"12,546 / 12,546\", \"Revenue\": \"$907,573\", \"Tour\": \"Speak_Now_World_Tour\", \"tickets_sold\": 12546, \"revenue_num\": 907573}, {\"City\": \"Kansas City\", \"Country\": \"United States\", \"Venue\": \"Arrowhead Stadium\", \"Opening act(s)\": \"Needtobreathe\", \"Attendance (tickets sold / available)\": \"48,562 / 48,562\", \"Revenue\": \"$3,148,046\", \"Tour\": \"Speak_Now_World_Tour\", \"tickets_sold\": 48562, \"revenue_num\": 3148046}, {\"City\": \"Denver\", \"Country\": \"United States\", \"Venue\": \"Pepsi Center\", \"Opening act(s)\": \"Needtobreathe\", \"Attendance (tickets sold / available)\": \"12,908 / 12,908\", \"Revenue\": \"$834,916\", \"Tour\": \"Speak_Now_World_Tour\", \"tickets_sold\": 12908, \"revenue_num\": 834916}, {\"City\": \"Salt Lake City\", \"Country\": \"United States\", \"Venue\": \"EnergySolutions Arena\", \"Opening act(s)\": \"Needtobreathe\", \"Attendance (tickets sold / available)\": \"13,720 / 13,720\", \"Revenue\": \"$896,946\", \"Tour\": \"Speak_Now_World_Tour\", \"tickets_sold\": 13720, \"revenue_num\": 896946}, {\"City\": \"Atlanta\", \"Country\": \"United States\", \"Venue\": \"Philips Arena\", \"Opening act(s)\": \"Needtobreathe\", \"Attendance (tickets sold / available)\": \"26,244 / 26,244\", \"Revenue\": \"$1,726,661\", \"Tour\": \"Speak_Now_World_Tour\", \"tickets_sold\": 26244, \"revenue_num\": 1726661}, {\"City\": \"Atlanta\", \"Country\": \"United States\", \"Venue\": \"Philips Arena\", \"Opening act(s)\": \"Needtobreathe\", \"Attendance (tickets sold / available)\": \"26,244 / 26,244\", \"Revenue\": \"$1,726,661\", \"Tour\": \"Speak_Now_World_Tour\", \"tickets_sold\": 26244, \"revenue_num\": 1726661}, {\"City\": \"North Little Rock\", \"Country\": \"United States\", \"Venue\": \"Verizon Arena\", \"Opening act(s)\": \"Needtobreathe\", \"Attendance (tickets sold / available)\": \"13,566 / 13,566\", \"Revenue\": \"$856,123\", \"Tour\": \"Speak_Now_World_Tour\", \"tickets_sold\": 13566, \"revenue_num\": 856123}, {\"City\": \"New Orleans\", \"Country\": \"United States\", \"Venue\": \"New Orleans Arena\", \"Opening act(s)\": \"Needtobreathe\", \"Attendance (tickets sold / available)\": \"12,943 / 12,943\", \"Revenue\": \"$830,289\", \"Tour\": \"Speak_Now_World_Tour\", \"tickets_sold\": 12943, \"revenue_num\": 830289}, {\"City\": \"Arlington\", \"Country\": \"United States\", \"Venue\": \"Cowboys Stadium\", \"Opening act(s)\": \"Needtobreathe\", \"Attendance (tickets sold / available)\": \"55,451 / 55,451\", \"Revenue\": \"$4,337,062\", \"Tour\": \"Speak_Now_World_Tour\", \"tickets_sold\": 55451, \"revenue_num\": 4337062}, {\"City\": \"Louisville\", \"Country\": \"United States\", \"Venue\": \"KFC Yum! Center\", \"Opening act(s)\": \"Needtobreathe\", \"Attendance (tickets sold / available)\": \"14,848 / 14,848\", \"Revenue\": \"$1,003,828\", \"Tour\": \"Speak_Now_World_Tour\", \"tickets_sold\": 14848, \"revenue_num\": 1003828}, {\"City\": \"Lubbock\", \"Country\": \"United States\", \"Venue\": \"United Spirit Arena\", \"Opening act(s)\": \"Needtobreathe\", \"Attendance (tickets sold / available)\": \"10,419 / 10,419\", \"Revenue\": \"$710,426\", \"Tour\": \"Speak_Now_World_Tour\", \"tickets_sold\": 10419, \"revenue_num\": 710426}, {\"City\": \"Oklahoma City\", \"Country\": \"United States\", \"Venue\": \"Chesapeake Energy Arena\", \"Opening act(s)\": \"Needtobreathe\", \"Attendance (tickets sold / available)\": \"11,592 / 11,592\", \"Revenue\": \"$758,364\", \"Tour\": \"Speak_Now_World_Tour\", \"tickets_sold\": 11592, \"revenue_num\": 758364}, {\"City\": \"San Diego\", \"Country\": \"United States\", \"Venue\": \"Valley View Casino Center\", \"Opening act(s)\": \"Needtobreathe\", \"Attendance (tickets sold / available)\": \"10,834 / 10,834\", \"Revenue\": \"$792,634\", \"Tour\": \"Speak_Now_World_Tour\", \"tickets_sold\": 10834, \"revenue_num\": 792634}, {\"City\": \"Glendale\", \"Country\": \"United States\", \"Venue\": \"Jobing.com Arena\", \"Opening act(s)\": \"Needtobreathe\", \"Attendance (tickets sold / available)\": \"27,029 / 27,029\", \"Revenue\": \"$1,826,025\", \"Tour\": \"Speak_Now_World_Tour\", \"tickets_sold\": 27029, \"revenue_num\": 1826025}, {\"City\": \"Glendale\", \"Country\": \"United States\", \"Venue\": \"Jobing.com Arena\", \"Opening act(s)\": \"Needtobreathe\", \"Attendance (tickets sold / available)\": \"27,029 / 27,029\", \"Revenue\": \"$1,826,025\", \"Tour\": \"Speak_Now_World_Tour\", \"tickets_sold\": 27029, \"revenue_num\": 1826025}, {\"City\": \"San Antonio\", \"Country\": \"United States\", \"Venue\": \"AT&T Center\", \"Opening act(s)\": \"Needtobreathe\", \"Attendance (tickets sold / available)\": \"13,851 / 13,851\", \"Revenue\": \"$901,535\", \"Tour\": \"Speak_Now_World_Tour\", \"tickets_sold\": 13851, \"revenue_num\": 901535}, {\"City\": \"Austin\", \"Country\": \"United States\", \"Venue\": \"Frank Erwin Center\", \"Opening act(s)\": \"Needtobreathe\", \"Attendance (tickets sold / available)\": \"11,999 / 11,999\", \"Revenue\": \"$752,078\", \"Tour\": \"Speak_Now_World_Tour\", \"tickets_sold\": 11999, \"revenue_num\": 752078}, {\"City\": \"Lexington\", \"Country\": \"United States\", \"Venue\": \"Rupp Arena\", \"Opening act(s)\": \"Needtobreathe\", \"Attendance (tickets sold / available)\": \"16,237 / 16,237\", \"Revenue\": \"$1,041,935\", \"Tour\": \"Speak_Now_World_Tour\", \"tickets_sold\": 16237, \"revenue_num\": 1041935}, {\"City\": \"Memphis\", \"Country\": \"United States\", \"Venue\": \"FedExForum\", \"Opening act(s)\": \"Needtobreathe\", \"Attendance (tickets sold / available)\": \"12,604 / 12,604\", \"Revenue\": \"$820,036\", \"Tour\": \"Speak_Now_World_Tour\", \"tickets_sold\": 12604, \"revenue_num\": 820036}, {\"City\": \"Houston\", \"Country\": \"United States\", \"Venue\": \"Minute Maid Park\", \"Opening act(s)\": \"Needtobreathe\", \"Attendance (tickets sold / available)\": \"42,095 / 42,095\", \"Revenue\": \"$3,435,756\", \"Tour\": \"Speak_Now_World_Tour\", \"tickets_sold\": 42095, \"revenue_num\": 3435756}, {\"City\": \"Jacksonville\", \"Country\": \"United States\", \"Venue\": \"Jacksonville Veterans Memorial Arena\", \"Opening act(s)\": \"Needtobreathe\", \"Attendance (tickets sold / available)\": \"11,785 / 11,785\", \"Revenue\": \"$749,099\", \"Tour\": \"Speak_Now_World_Tour\", \"tickets_sold\": 11785, \"revenue_num\": 749099}, {\"City\": \"Tampa\", \"Country\": \"United States\", \"Venue\": \"St. Pete Times Forum\", \"Opening act(s)\": \"Needtobreathe\", \"Attendance (tickets sold / available)\": \"13,695 / 13,695\", \"Revenue\": \"$914,300\", \"Tour\": \"Speak_Now_World_Tour\", \"tickets_sold\": 13695, \"revenue_num\": 914300}, {\"City\": \"Miami\", \"Country\": \"United States\", \"Venue\": \"American Airlines Arena\", \"Opening act(s)\": \"Needtobreathe\", \"Attendance (tickets sold / available)\": \"12,153 / 12,153\", \"Revenue\": \"$786,904\", \"Tour\": \"Speak_Now_World_Tour\", \"tickets_sold\": 12153, \"revenue_num\": 786904}, {\"City\": \"Charlotte\", \"Country\": \"United States\", \"Venue\": \"Time Warner Cable Arena\", \"Opening act(s)\": \"Needtobreathe\", \"Attendance (tickets sold / available)\": \"14,272 / 14,272\", \"Revenue\": \"$920,903\", \"Tour\": \"Speak_Now_World_Tour\", \"tickets_sold\": 14272, \"revenue_num\": 920903}, {\"City\": \"Raleigh\", \"Country\": \"United States\", \"Venue\": \"RBC Center\", \"Opening act(s)\": \"Needtobreathe\", \"Attendance (tickets sold / available)\": \"13,567 / 13,567\", \"Revenue\": \"$866,056\", \"Tour\": \"Speak_Now_World_Tour\", \"tickets_sold\": 13567, \"revenue_num\": 866056}, {\"City\": \"Columbia\", \"Country\": \"United States\", \"Venue\": \"Colonial Life Arena\", \"Opening act(s)\": \"Needtobreathe\", \"Attendance (tickets sold / available)\": \"12,807 / 12,807\", \"Revenue\": \"$828,231\", \"Tour\": \"Speak_Now_World_Tour\", \"tickets_sold\": 12807, \"revenue_num\": 828231}, {\"City\": \"New York\", \"Country\": \"United States\", \"Venue\": \"Madison Square Garden\", \"Opening act(s)\": \"Needtobreathe\", \"Attendance (tickets sold / available)\": \"26,652 / 26,652\", \"Revenue\": \"$1,988,411\", \"Tour\": \"Speak_Now_World_Tour\", \"tickets_sold\": 26652, \"revenue_num\": 1988411}, {\"City\": \"New York\", \"Country\": \"United States\", \"Venue\": \"Madison Square Garden\", \"Opening act(s)\": \"Needtobreathe\", \"Attendance (tickets sold / available)\": \"26,652 / 26,652\", \"Revenue\": \"$1,988,411\", \"Tour\": \"Speak_Now_World_Tour\", \"tickets_sold\": 26652, \"revenue_num\": 1988411}, {\"City\": \"Perth\", \"Country\": \"Australia\", \"Venue\": \"Burswood Dome\", \"Opening act(s)\": \"Hot Chelle Rae\", \"Attendance (tickets sold / available)\": \"15,142 / 15,142\", \"Revenue\": \"$1,878,530\", \"Tour\": \"Speak_Now_World_Tour\", \"tickets_sold\": 15142, \"revenue_num\": 1878530}, {\"City\": \"Adelaide\", \"Country\": \"Australia\", \"Venue\": \"Adelaide Entertainment Centre\", \"Opening act(s)\": \"Hot Chelle Rae\", \"Attendance (tickets sold / available)\": \"8,589 / 8,589\", \"Revenue\": \"$1,075,370\", \"Tour\": \"Speak_Now_World_Tour\", \"tickets_sold\": 8589, \"revenue_num\": 1075370}, {\"City\": \"Brisbane\", \"Country\": \"Australia\", \"Venue\": \"Brisbane Entertainment Centre\", \"Opening act(s)\": \"Hot Chelle Rae\", \"Attendance (tickets sold / available)\": \"19,870 / 19,870\", \"Revenue\": \"$2,416,030\", \"Tour\": \"Speak_Now_World_Tour\", \"tickets_sold\": 19870, \"revenue_num\": 2416030}, {\"City\": \"Brisbane\", \"Country\": \"Australia\", \"Venue\": \"Brisbane Entertainment Centre\", \"Opening act(s)\": \"Hot Chelle Rae\", \"Attendance (tickets sold / available)\": \"19,870 / 19,870\", \"Revenue\": \"$2,416,030\", \"Tour\": \"Speak_Now_World_Tour\", \"tickets_sold\": 19870, \"revenue_num\": 2416030}, {\"City\": \"Sydney\", \"Country\": \"Australia\", \"Venue\": \"Allphones Arena\", \"Opening act(s)\": \"Hot Chelle Rae\", \"Attendance (tickets sold / available)\": \"27,900 / 27,900\", \"Revenue\": \"$3,420,360\", \"Tour\": \"Speak_Now_World_Tour\", \"tickets_sold\": 27900, \"revenue_num\": 3420360}, {\"City\": \"Sydney\", \"Country\": \"Australia\", \"Venue\": \"Allphones Arena\", \"Opening act(s)\": \"Hot Chelle Rae\", \"Attendance (tickets sold / available)\": \"27,900 / 27,900\", \"Revenue\": \"$3,420,360\", \"Tour\": \"Speak_Now_World_Tour\", \"tickets_sold\": 27900, \"revenue_num\": 3420360}, {\"City\": \"Melbourne\", \"Country\": \"Australia\", \"Venue\": \"Rod Laver Arena\", \"Opening act(s)\": \"Hot Chelle Rae\", \"Attendance (tickets sold / available)\": \"33,793 / 33,793\", \"Revenue\": \"$4,151,650\", \"Tour\": \"Speak_Now_World_Tour\", \"tickets_sold\": 33793, \"revenue_num\": 4151650}, {\"City\": \"Melbourne\", \"Country\": \"Australia\", \"Venue\": \"Rod Laver Arena\", \"Opening act(s)\": \"Hot Chelle Rae\", \"Attendance (tickets sold / available)\": \"33,793 / 33,793\", \"Revenue\": \"$4,151,650\", \"Tour\": \"Speak_Now_World_Tour\", \"tickets_sold\": 33793, \"revenue_num\": 4151650}, {\"City\": \"Melbourne\", \"Country\": \"Australia\", \"Venue\": \"Rod Laver Arena\", \"Opening act(s)\": \"Hot Chelle Rae\", \"Attendance (tickets sold / available)\": \"33,793 / 33,793\", \"Revenue\": \"$4,151,650\", \"Tour\": \"Speak_Now_World_Tour\", \"tickets_sold\": 33793, \"revenue_num\": 4151650}, {\"City\": \"Auckland\", \"Country\": \"New Zealand\", \"Venue\": \"Vector Arena\", \"Opening act(s)\": \"Hot Chelle Rae\", \"Attendance (tickets sold / available)\": \"32,585 / 32,585\", \"Revenue\": \"$2,888,560\", \"Tour\": \"Speak_Now_World_Tour\", \"tickets_sold\": 32585, \"revenue_num\": 2888560}, {\"City\": \"Auckland\", \"Country\": \"New Zealand\", \"Venue\": \"Vector Arena\", \"Opening act(s)\": \"Hot Chelle Rae\", \"Attendance (tickets sold / available)\": \"32,585 / 32,585\", \"Revenue\": \"$2,888,560\", \"Tour\": \"Speak_Now_World_Tour\", \"tickets_sold\": 32585, \"revenue_num\": 2888560}, {\"City\": \"Auckland\", \"Country\": \"New Zealand\", \"Venue\": \"Vector Arena\", \"Opening act(s)\": \"Hot Chelle Rae\", \"Attendance (tickets sold / available)\": \"32,585 / 32,585\", \"Revenue\": \"$2,888,560\", \"Tour\": \"Speak_Now_World_Tour\", \"tickets_sold\": 32585, \"revenue_num\": 2888560}, {\"City\": \"Omaha\", \"Country\": \"United States\", \"Venue\": \"CenturyLink Center Omaha\", \"Opening act(s)\": \"Ed Sheeran Brett Eldredge\", \"Attendance (tickets sold / available)\": \"27,877 / 27,877\", \"Revenue\": \"$2,243,164\", \"Tour\": \"The_Red_Tour\", \"tickets_sold\": 27877, \"revenue_num\": 2243164}, {\"City\": \"Omaha\", \"Country\": \"United States\", \"Venue\": \"CenturyLink Center Omaha\", \"Opening act(s)\": \"Ed Sheeran Brett Eldredge\", \"Attendance (tickets sold / available)\": \"27,877 / 27,877\", \"Revenue\": \"$2,243,164\", \"Tour\": \"The_Red_Tour\", \"tickets_sold\": 27877, \"revenue_num\": 2243164}, {\"City\": \"St. Louis\", \"Country\": \"United States\", \"Venue\": \"Scottrade Center\", \"Opening act(s)\": \"Ed Sheeran Brett Eldredge\", \"Attendance (tickets sold / available)\": \"28,582 / 28,582\", \"Revenue\": \"$2,346,203\", \"Tour\": \"The_Red_Tour\", \"tickets_sold\": 28582, \"revenue_num\": 2346203}, {\"City\": \"St. Louis\", \"Country\": \"United States\", \"Venue\": \"Scottrade Center\", \"Opening act(s)\": \"Ed Sheeran Brett Eldredge\", \"Attendance (tickets sold / available)\": \"28,582 / 28,582\", \"Revenue\": \"$2,346,203\", \"Tour\": \"The_Red_Tour\", \"tickets_sold\": 28582, \"revenue_num\": 2346203}, {\"City\": \"Charlotte\", \"Country\": \"United States\", \"Venue\": \"Time Warner Cable Arena\", \"Opening act(s)\": \"Ed Sheeran Brett Eldredge\", \"Attendance (tickets sold / available)\": \"14,686 / 14,686\", \"Revenue\": \"$1,162,733\", \"Tour\": \"The_Red_Tour\", \"tickets_sold\": 14686, \"revenue_num\": 1162733}, {\"City\": \"Columbia\", \"Country\": \"United States\", \"Venue\": \"Colonial Life Arena\", \"Opening act(s)\": \"Ed Sheeran Brett Eldredge\", \"Attendance (tickets sold / available)\": \"12,490 / 12,490\", \"Revenue\": \"$996,114\", \"Tour\": \"The_Red_Tour\", \"tickets_sold\": 12490, \"revenue_num\": 996114}, {\"City\": \"Newark\", \"Country\": \"United States\", \"Venue\": \"Prudential Center\", \"Opening act(s)\": \"Ed Sheeran Florida Georgia Line\", \"Attendance (tickets sold / available)\": \"38,065 / 38,065\", \"Revenue\": \"$3,565,317\", \"Tour\": \"The_Red_Tour\", \"tickets_sold\": 38065, \"revenue_num\": 3565317}, {\"City\": \"Newark\", \"Country\": \"United States\", \"Venue\": \"Prudential Center\", \"Opening act(s)\": \"Ed Sheeran Florida Georgia Line\", \"Attendance (tickets sold / available)\": \"38,065 / 38,065\", \"Revenue\": \"$3,565,317\", \"Tour\": \"The_Red_Tour\", \"tickets_sold\": 38065, \"revenue_num\": 3565317}, {\"City\": \"Newark\", \"Country\": \"United States\", \"Venue\": \"Prudential Center\", \"Opening act(s)\": \"Ed Sheeran Florida Georgia Line\", \"Attendance (tickets sold / available)\": \"38,065 / 38,065\", \"Revenue\": \"$3,565,317\", \"Tour\": \"The_Red_Tour\", \"tickets_sold\": 38065, \"revenue_num\": 3565317}, {\"City\": \"Miami\", \"Country\": \"United States\", \"Venue\": \"American Airlines Arena\", \"Opening act(s)\": \"Ed Sheeran Brett Eldredge\", \"Attendance (tickets sold / available)\": \"12,808 / 12,808\", \"Revenue\": \"$1,010,175\", \"Tour\": \"The_Red_Tour\", \"tickets_sold\": 12808, \"revenue_num\": 1010175}, {\"City\": \"Orlando\", \"Country\": \"United States\", \"Venue\": \"Amway Center\", \"Opening act(s)\": \"Ed Sheeran Brett Eldredge\", \"Attendance (tickets sold / available)\": \"25,617 / 25,617\", \"Revenue\": \"$2,054,128\", \"Tour\": \"The_Red_Tour\", \"tickets_sold\": 25617, \"revenue_num\": 2054128}, {\"City\": \"Orlando\", \"Country\": \"United States\", \"Venue\": \"Amway Center\", \"Opening act(s)\": \"Ed Sheeran Brett Eldredge\", \"Attendance (tickets sold / available)\": \"25,617 / 25,617\", \"Revenue\": \"$2,054,128\", \"Tour\": \"The_Red_Tour\", \"tickets_sold\": 25617, \"revenue_num\": 2054128}, {\"City\": \"Atlanta\", \"Country\": \"United States\", \"Venue\": \"Philips Arena\", \"Opening act(s)\": \"Ed Sheeran Brett Eldredge\", \"Attendance (tickets sold / available)\": \"25,471 / 25,471\", \"Revenue\": \"$2,048,023\", \"Tour\": \"The_Red_Tour\", \"tickets_sold\": 25471, \"revenue_num\": 2048023}, {\"City\": \"Atlanta\", \"Country\": \"United States\", \"Venue\": \"Philips Arena\", \"Opening act(s)\": \"Ed Sheeran Brett Eldredge\", \"Attendance (tickets sold / available)\": \"25,471 / 25,471\", \"Revenue\": \"$2,048,023\", \"Tour\": \"The_Red_Tour\", \"tickets_sold\": 25471, \"revenue_num\": 2048023}, {\"City\": \"Tampa\", \"Country\": \"United States\", \"Venue\": \"Tampa Bay Times Forum\", \"Opening act(s)\": \"Ed Sheeran Brett Eldredge\", \"Attendance (tickets sold / available)\": \"14,080 / 14,080\", \"Revenue\": \"$1,132,095\", \"Tour\": \"The_Red_Tour\", \"tickets_sold\": 14080, \"revenue_num\": 1132095}, {\"City\": \"Cleveland\", \"Country\": \"United States\", \"Venue\": \"Quicken Loans Arena\", \"Opening act(s)\": \"Ed Sheeran Brett Eldredge\", \"Attendance (tickets sold / available)\": \"15,336 / 15,336\", \"Revenue\": \"$1,247,605\", \"Tour\": \"The_Red_Tour\", \"tickets_sold\": 15336, \"revenue_num\": 1247605}, {\"City\": \"Indianapolis\", \"Country\": \"United States\", \"Venue\": \"Bankers Life Fieldhouse\", \"Opening act(s)\": \"Ed Sheeran Brett Eldredge\", \"Attendance (tickets sold / available)\": \"13,573 / 13,573\", \"Revenue\": \"$1,082,042\", \"Tour\": \"The_Red_Tour\", \"tickets_sold\": 13573, \"revenue_num\": 1082042}, {\"City\": \"Lexington\", \"Country\": \"United States\", \"Venue\": \"Rupp Arena\", \"Opening act(s)\": \"Ed Sheeran Brett Eldredge\", \"Attendance (tickets sold / available)\": \"17,003 / 17,003\", \"Revenue\": \"$1,342,699\", \"Tour\": \"The_Red_Tour\", \"tickets_sold\": 17003, \"revenue_num\": 1342699}, {\"City\": \"Detroit\", \"Country\": \"United States\", \"Venue\": \"Ford Field\", \"Opening act(s)\": \"Ed Sheeran Austin Mahone Brett Eldredge\", \"Attendance (tickets sold / available)\": \"48,265 / 48,265\", \"Revenue\": \"$3,969,059\", \"Tour\": \"The_Red_Tour\", \"tickets_sold\": 48265, \"revenue_num\": 3969059}, {\"City\": \"Louisville\", \"Country\": \"United States\", \"Venue\": \"KFC Yum! Center\", \"Opening act(s)\": \"Ed Sheeran Florida Georgia Line\", \"Attendance (tickets sold / available)\": \"15,135 / 15,135\", \"Revenue\": \"$1,246,491\", \"Tour\": \"The_Red_Tour\", \"tickets_sold\": 15135, \"revenue_num\": 1246491}, {\"City\": \"Columbus\", \"Country\": \"United States\", \"Venue\": \"Nationwide Arena\", \"Opening act(s)\": \"Ed Sheeran Florida Georgia Line\", \"Attendance (tickets sold / available)\": \"14,267 / 14,267\", \"Revenue\": \"$1,155,170\", \"Tour\": \"The_Red_Tour\", \"tickets_sold\": 14267, \"revenue_num\": 1155170}, {\"City\": \"Washington\", \"Country\": \"United States\", \"Venue\": \"Verizon Center\", \"Opening act(s)\": \"Ed Sheeran Brett Eldredge\", \"Attendance (tickets sold / available)\": \"27,619 / 27,619\", \"Revenue\": \"$2,489,205\", \"Tour\": \"The_Red_Tour\", \"tickets_sold\": 27619, \"revenue_num\": 2489205}, {\"City\": \"Washington\", \"Country\": \"United States\", \"Venue\": \"Verizon Center\", \"Opening act(s)\": \"Ed Sheeran Brett Eldredge\", \"Attendance (tickets sold / available)\": \"27,619 / 27,619\", \"Revenue\": \"$2,489,205\", \"Tour\": \"The_Red_Tour\", \"tickets_sold\": 27619, \"revenue_num\": 2489205}, {\"City\": \"Houston\", \"Country\": \"United States\", \"Venue\": \"Toyota Center\", \"Opening act(s)\": \"Ed Sheeran Brett Eldredge\", \"Attendance (tickets sold / available)\": \"12,467 / 12,467\", \"Revenue\": \"$961,422\", \"Tour\": \"The_Red_Tour\", \"tickets_sold\": 12467, \"revenue_num\": 961422}, {\"City\": \"Austin\", \"Country\": \"United States\", \"Venue\": \"Frank Erwin Center\", \"Opening act(s)\": \"Ed Sheeran Florida Georgia Line\", \"Attendance (tickets sold / available)\": \"11,916 / 11,916\", \"Revenue\": \"$935,631\", \"Tour\": \"The_Red_Tour\", \"tickets_sold\": 11916, \"revenue_num\": 935631}, {\"City\": \"San Antonio\", \"Country\": \"United States\", \"Venue\": \"AT&T Center\", \"Opening act(s)\": \"Ed Sheeran Florida Georgia Line\", \"Attendance (tickets sold / available)\": \"13,974 / 13,974\", \"Revenue\": \"$1,105,253\", \"Tour\": \"The_Red_Tour\", \"tickets_sold\": 13974, \"revenue_num\": 1105253}, {\"City\": \"Arlington\", \"Country\": \"United States\", \"Venue\": \"Cowboys Stadium\", \"Opening act(s)\": \"Ed Sheeran Austin Mahone Florida Georgia Line\", \"Attendance (tickets sold / available)\": \"53,020 / 53,020\", \"Revenue\": \"$4,589,266\", \"Tour\": \"The_Red_Tour\", \"tickets_sold\": 53020, \"revenue_num\": 4589266}, {\"City\": \"Glendale\", \"Country\": \"United States\", \"Venue\": \"Jobing.com Arena\", \"Opening act(s)\": \"Ed Sheeran Joel Crouse\", \"Attendance (tickets sold / available)\": \"26,705 / 26,705\", \"Revenue\": \"$2,239,370\", \"Tour\": \"The_Red_Tour\", \"tickets_sold\": 26705, \"revenue_num\": 2239370}, {\"City\": \"Glendale\", \"Country\": \"United States\", \"Venue\": \"Jobing.com Arena\", \"Opening act(s)\": \"Ed Sheeran Joel Crouse\", \"Attendance (tickets sold / available)\": \"26,705 / 26,705\", \"Revenue\": \"$2,239,370\", \"Tour\": \"The_Red_Tour\", \"tickets_sold\": 26705, \"revenue_num\": 2239370}, {\"City\": \"Salt Lake City\", \"Country\": \"United States\", \"Venue\": \"EnergySolutions Arena\", \"Opening act(s)\": \"Ed Sheeran Joel Crouse\", \"Attendance (tickets sold / available)\": \"14,007 / 14,007\", \"Revenue\": \"$1,139,360\", \"Tour\": \"The_Red_Tour\", \"tickets_sold\": 14007, \"revenue_num\": 1139360}, {\"City\": \"Denver\", \"Country\": \"United States\", \"Venue\": \"Pepsi Center\", \"Opening act(s)\": \"Ed Sheeran Joel Crouse\", \"Attendance (tickets sold / available)\": \"13,489 / 13,489\", \"Revenue\": \"$1,076,069\", \"Tour\": \"The_Red_Tour\", \"tickets_sold\": 13489, \"revenue_num\": 1076069}, {\"City\": \"Toronto\", \"Country\": \"Canada\", \"Venue\": \"Rogers Centre\", \"Opening act(s)\": \"Ed Sheeran Austin Mahone Joel Crouse\", \"Attendance (tickets sold / available)\": \"87,627 / 87,627\", \"Revenue\": \"$7,863,310\", \"Tour\": \"The_Red_Tour\", \"tickets_sold\": 87627, \"revenue_num\": 7863310}, {\"City\": \"Toronto\", \"Country\": \"Canada\", \"Venue\": \"Rogers Centre\", \"Opening act(s)\": \"Ed Sheeran Austin Mahone Joel Crouse\", \"Attendance (tickets sold / available)\": \"87,627 / 87,627\", \"Revenue\": \"$7,863,310\", \"Tour\": \"The_Red_Tour\", \"tickets_sold\": 87627, \"revenue_num\": 7863310}, {\"City\": \"Winnipeg\", \"Country\": \"Canada\", \"Venue\": \"Investors Group Field\", \"Opening act(s)\": \"Ed Sheeran Austin Mahone Joel Crouse\", \"Attendance (tickets sold / available)\": \"33,061 / 33,061\", \"Revenue\": \"$3,175,430\", \"Tour\": \"The_Red_Tour\", \"tickets_sold\": 33061, \"revenue_num\": 3175430}, {\"City\": \"Edmonton\", \"Country\": \"Canada\", \"Venue\": \"Rexall Place\", \"Opening act(s)\": \"Ed Sheeran Joel Crouse\", \"Attendance (tickets sold / available)\": \"25,663 / 25,663\", \"Revenue\": \"$2,379,870\", \"Tour\": \"The_Red_Tour\", \"tickets_sold\": 25663, \"revenue_num\": 2379870}, {\"City\": \"Edmonton\", \"Country\": \"Canada\", \"Venue\": \"Rexall Place\", \"Opening act(s)\": \"Ed Sheeran Joel Crouse\", \"Attendance (tickets sold / available)\": \"25,663 / 25,663\", \"Revenue\": \"$2,379,870\", \"Tour\": \"The_Red_Tour\", \"tickets_sold\": 25663, \"revenue_num\": 2379870}, {\"City\": \"Vancouver\", \"Country\": \"Canada\", \"Venue\": \"BC Place Stadium\", \"Opening act(s)\": \"Ed Sheeran Austin Mahone Joel Crouse\", \"Attendance (tickets sold / available)\": \"41,142 / 41,142\", \"Revenue\": \"$3,974,410\", \"Tour\": \"The_Red_Tour\", \"tickets_sold\": 41142, \"revenue_num\": 3974410}, {\"City\": \"Pittsburgh\", \"Country\": \"United States\", \"Venue\": \"Heinz Field\", \"Opening act(s)\": \"Ed Sheeran Austin Mahone Joel Crouse\", \"Attendance (tickets sold / available)\": \"56,047 / 56,047\", \"Revenue\": \"$4,718,518\", \"Tour\": \"The_Red_Tour\", \"tickets_sold\": 56047, \"revenue_num\": 4718518}, {\"City\": \"East Rutherford\", \"Country\": \"United States\", \"Venue\": \"MetLife Stadium\", \"Opening act(s)\": \"Ed Sheeran Austin Mahone Joel Crouse\", \"Attendance (tickets sold / available)\": \"52,399 / 52,399\", \"Revenue\": \"$4,670,011\", \"Tour\": \"The_Red_Tour\", \"tickets_sold\": 52399, \"revenue_num\": 4670011}, {\"City\": \"Philadelphia\", \"Country\": \"United States\", \"Venue\": \"Lincoln Financial Field\", \"Opening act(s)\": \"Ed Sheeran Austin Mahone Joel Crouse\", \"Attendance (tickets sold / available)\": \"101,277 / 101,277\", \"Revenue\": \"$8,822,335\", \"Tour\": \"The_Red_Tour\", \"tickets_sold\": 101277, \"revenue_num\": 8822335}, {\"City\": \"Philadelphia\", \"Country\": \"United States\", \"Venue\": \"Lincoln Financial Field\", \"Opening act(s)\": \"Ed Sheeran Austin Mahone Joel Crouse\", \"Attendance (tickets sold / available)\": \"101,277 / 101,277\", \"Revenue\": \"$8,822,335\", \"Tour\": \"The_Red_Tour\", \"tickets_sold\": 101277, \"revenue_num\": 8822335}, {\"City\": \"Foxborough\", \"Country\": \"United States\", \"Venue\": \"Gillette Stadium\", \"Opening act(s)\": \"Ed Sheeran Austin Mahone Joel Crouse\", \"Attendance (tickets sold / available)\": \"110,712 / 110,712\", \"Revenue\": \"$9,464,063\", \"Tour\": \"The_Red_Tour\", \"tickets_sold\": 110712, \"revenue_num\": 9464063}, {\"City\": \"Foxborough\", \"Country\": \"United States\", \"Venue\": \"Gillette Stadium\", \"Opening act(s)\": \"Ed Sheeran Austin Mahone Joel Crouse\", \"Attendance (tickets sold / available)\": \"110,712 / 110,712\", \"Revenue\": \"$9,464,063\", \"Tour\": \"The_Red_Tour\", \"tickets_sold\": 110712, \"revenue_num\": 9464063}, {\"City\": \"Des Moines\", \"Country\": \"United States\", \"Venue\": \"Wells Fargo Arena\", \"Opening act(s)\": \"Ed Sheeran Florida Georgia Line\", \"Attendance (tickets sold / available)\": \"13,368 / 13,368\", \"Revenue\": \"$1,075,576\", \"Tour\": \"The_Red_Tour\", \"tickets_sold\": 13368, \"revenue_num\": 1075576}, {\"City\": \"Kansas City\", \"Country\": \"United States\", \"Venue\": \"Sprint Center\", \"Opening act(s)\": \"Ed Sheeran Florida Georgia Line\", \"Attendance (tickets sold / available)\": \"26,412 / 26,412\", \"Revenue\": \"$2,093,172\", \"Tour\": \"The_Red_Tour\", \"tickets_sold\": 26412, \"revenue_num\": 2093172}, {\"City\": \"Kansas City\", \"Country\": \"United States\", \"Venue\": \"Sprint Center\", \"Opening act(s)\": \"Ed Sheeran Florida Georgia Line\", \"Attendance (tickets sold / available)\": \"26,412 / 26,412\", \"Revenue\": \"$2,093,172\", \"Tour\": \"The_Red_Tour\", \"tickets_sold\": 26412, \"revenue_num\": 2093172}, {\"City\": \"Wichita\", \"Country\": \"United States\", \"Venue\": \"Intrust Bank Arena\", \"Opening act(s)\": \"Ed Sheeran Casey James\", \"Attendance (tickets sold / available)\": \"12,231 / 12,231\", \"Revenue\": \"$983,882\", \"Tour\": \"The_Red_Tour\", \"tickets_sold\": 12231, \"revenue_num\": 983882}, {\"City\": \"Tulsa\", \"Country\": \"United States\", \"Venue\": \"BOK Center\", \"Opening act(s)\": \"Ed Sheeran Casey James\", \"Attendance (tickets sold / available)\": \"10,949 / 10,949\", \"Revenue\": \"$868,955\", \"Tour\": \"The_Red_Tour\", \"tickets_sold\": 10949, \"revenue_num\": 868955}, {\"City\": \"Chicago\", \"Country\": \"United States\", \"Venue\": \"Soldier Field\", \"Opening act(s)\": \"Ed Sheeran Austin Mahone Casey James\", \"Attendance (tickets sold / available)\": \"50,809 / 50,809\", \"Revenue\": \"$4,149,148\", \"Tour\": \"The_Red_Tour\", \"tickets_sold\": 50809, \"revenue_num\": 4149148}, {\"City\": \"San Diego\", \"Country\": \"United States\", \"Venue\": \"Valley View Casino Center\", \"Opening act(s)\": \"Ed Sheeran Casey James\", \"Attendance (tickets sold / available)\": \"10,872 / 10,872\", \"Revenue\": \"$948,541\", \"Tour\": \"The_Red_Tour\", \"tickets_sold\": 10872, \"revenue_num\": 948541}, {\"City\": \"Los Angeles\", \"Country\": \"United States\", \"Venue\": \"Staples Center\", \"Opening act(s)\": \"Ed Sheeran Casey James\", \"Attendance (tickets sold / available)\": \"55,829 / 55,829\", \"Revenue\": \"$4,734,463\", \"Tour\": \"The_Red_Tour\", \"tickets_sold\": 55829, \"revenue_num\": 4734463}, {\"City\": \"Los Angeles\", \"Country\": \"United States\", \"Venue\": \"Staples Center\", \"Opening act(s)\": \"Ed Sheeran Casey James\", \"Attendance (tickets sold / available)\": \"55,829 / 55,829\", \"Revenue\": \"$4,734,463\", \"Tour\": \"The_Red_Tour\", \"tickets_sold\": 55829, \"revenue_num\": 4734463}, {\"City\": \"Los Angeles\", \"Country\": \"United States\", \"Venue\": \"Staples Center\", \"Opening act(s)\": \"Ed Sheeran Casey James\", \"Attendance (tickets sold / available)\": \"55,829 / 55,829\", \"Revenue\": \"$4,734,463\", \"Tour\": \"The_Red_Tour\", \"tickets_sold\": 55829, \"revenue_num\": 4734463}, {\"City\": \"Los Angeles\", \"Country\": \"United States\", \"Venue\": \"Staples Center\", \"Opening act(s)\": \"Ed Sheeran Casey James\", \"Attendance (tickets sold / available)\": \"55,829 / 55,829\", \"Revenue\": \"$4,734,463\", \"Tour\": \"The_Red_Tour\", \"tickets_sold\": 55829, \"revenue_num\": 4734463}, {\"City\": \"Sacramento\", \"Country\": \"United States\", \"Venue\": \"Sleep Train Arena\", \"Opening act(s)\": \"Ed Sheeran Casey James\", \"Attendance (tickets sold / available)\": \"12,795 / 12,795\", \"Revenue\": \"$1,138,103\", \"Tour\": \"The_Red_Tour\", \"tickets_sold\": 12795, \"revenue_num\": 1138103}, {\"City\": \"Portland\", \"Country\": \"United States\", \"Venue\": \"Moda Center\", \"Opening act(s)\": \"Ed Sheeran Casey James\", \"Attendance (tickets sold / available)\": \"13,952 / 13,952\", \"Revenue\": \"$1,084,760\", \"Tour\": \"The_Red_Tour\", \"tickets_sold\": 13952, \"revenue_num\": 1084760}, {\"City\": \"Tacoma\", \"Country\": \"United States\", \"Venue\": \"Tacoma Dome\", \"Opening act(s)\": \"Ed Sheeran Casey James\", \"Attendance (tickets sold / available)\": \"20,348 / 20,348\", \"Revenue\": \"$1,584,049\", \"Tour\": \"The_Red_Tour\", \"tickets_sold\": 20348, \"revenue_num\": 1584049}, {\"City\": \"Fargo\", \"Country\": \"United States\", \"Venue\": \"Fargodome\", \"Opening act(s)\": \"Ed Sheeran Casey James\", \"Attendance (tickets sold / available)\": \"21,073 / 21,073\", \"Revenue\": \"$1,661,578\", \"Tour\": \"The_Red_Tour\", \"tickets_sold\": 21073, \"revenue_num\": 1661578}, {\"City\": \"Saint Paul\", \"Country\": \"United States\", \"Venue\": \"Xcel Energy Center\", \"Opening act(s)\": \"Ed Sheeran Casey James\", \"Attendance (tickets sold / available)\": \"28,920 / 28,920\", \"Revenue\": \"$2,320,937\", \"Tour\": \"The_Red_Tour\", \"tickets_sold\": 28920, \"revenue_num\": 2320937}, {\"City\": \"Saint Paul\", \"Country\": \"United States\", \"Venue\": \"Xcel Energy Center\", \"Opening act(s)\": \"Ed Sheeran Casey James\", \"Attendance (tickets sold / available)\": \"28,920 / 28,920\", \"Revenue\": \"$2,320,937\", \"Tour\": \"The_Red_Tour\", \"tickets_sold\": 28920, \"revenue_num\": 2320937}, {\"City\": \"Greensboro\", \"Country\": \"United States\", \"Venue\": \"Greensboro Coliseum\", \"Opening act(s)\": \"Ed Sheeran Casey James\", \"Attendance (tickets sold / available)\": \"13,650 / 13,650\", \"Revenue\": \"$1,109,253\", \"Tour\": \"The_Red_Tour\", \"tickets_sold\": 13650, \"revenue_num\": 1109253}, {\"City\": \"Raleigh\", \"Country\": \"United States\", \"Venue\": \"PNC Arena\", \"Opening act(s)\": \"Ed Sheeran Casey James\", \"Attendance (tickets sold / available)\": \"13,941 / 13,941\", \"Revenue\": \"$1,088,612\", \"Tour\": \"The_Red_Tour\", \"tickets_sold\": 13941, \"revenue_num\": 1088612}, {\"City\": \"Charlottesville\", \"Country\": \"United States\", \"Venue\": \"John Paul Jones Arena\", \"Opening act(s)\": \"Ed Sheeran Casey James\", \"Attendance (tickets sold / available)\": \"12,689 / 12,689\", \"Revenue\": \"$997,216\", \"Tour\": \"The_Red_Tour\", \"tickets_sold\": 12689, \"revenue_num\": 997216}, {\"City\": \"Nashville\", \"Country\": \"United States\", \"Venue\": \"Bridgestone Arena\", \"Opening act(s)\": \"Ed Sheeran Casey James\", \"Attendance (tickets sold / available)\": \"41,292 / 41,292\", \"Revenue\": \"$3,336,545\", \"Tour\": \"The_Red_Tour\", \"tickets_sold\": 41292, \"revenue_num\": 3336545}, {\"City\": \"Nashville\", \"Country\": \"United States\", \"Venue\": \"Bridgestone Arena\", \"Opening act(s)\": \"Ed Sheeran Casey James\", \"Attendance (tickets sold / available)\": \"41,292 / 41,292\", \"Revenue\": \"$3,336,545\", \"Tour\": \"The_Red_Tour\", \"tickets_sold\": 41292, \"revenue_num\": 3336545}, {\"City\": \"Nashville\", \"Country\": \"United States\", \"Venue\": \"Bridgestone Arena\", \"Opening act(s)\": \"Ed Sheeran Casey James\", \"Attendance (tickets sold / available)\": \"41,292 / 41,292\", \"Revenue\": \"$3,336,545\", \"Tour\": \"The_Red_Tour\", \"tickets_sold\": 41292, \"revenue_num\": 3336545}, {\"City\": \"Auckland\", \"Country\": \"New Zealand\", \"Venue\": \"Vector Arena\", \"Opening act(s)\": \"Neon Trees\", \"Attendance (tickets sold / available)\": \"30,799 / 30,799\", \"Revenue\": \"$3,100,290\", \"Tour\": \"The_Red_Tour\", \"tickets_sold\": 30799, \"revenue_num\": 3100290}, {\"City\": \"Auckland\", \"Country\": \"New Zealand\", \"Venue\": \"Vector Arena\", \"Opening act(s)\": \"Neon Trees\", \"Attendance (tickets sold / available)\": \"30,799 / 30,799\", \"Revenue\": \"$3,100,290\", \"Tour\": \"The_Red_Tour\", \"tickets_sold\": 30799, \"revenue_num\": 3100290}, {\"City\": \"Auckland\", \"Country\": \"New Zealand\", \"Venue\": \"Vector Arena\", \"Opening act(s)\": \"Neon Trees\", \"Attendance (tickets sold / available)\": \"30,799 / 30,799\", \"Revenue\": \"$3,100,290\", \"Tour\": \"The_Red_Tour\", \"tickets_sold\": 30799, \"revenue_num\": 3100290}, {\"City\": \"Sydney\", \"Country\": \"Australia\", \"Venue\": \"Allianz Stadium\", \"Opening act(s)\": \"Guy Sebastian Neon Trees\", \"Attendance (tickets sold / available)\": \"40,930 / 40,930\", \"Revenue\": \"$4,096,060\", \"Tour\": \"The_Red_Tour\", \"tickets_sold\": 40930, \"revenue_num\": 4096060}, {\"City\": \"Brisbane\", \"Country\": \"Australia\", \"Venue\": \"Suncorp Stadium\", \"Opening act(s)\": \"Guy Sebastian Neon Trees\", \"Attendance (tickets sold / available)\": \"38,907 / 38,907\", \"Revenue\": \"$3,895,810\", \"Tour\": \"The_Red_Tour\", \"tickets_sold\": 38907, \"revenue_num\": 3895810}, {\"City\": \"Perth\", \"Country\": \"Australia\", \"Venue\": \"Perth Rectangular Stadium\", \"Opening act(s)\": \"Guy Sebastian Neon Trees\", \"Attendance (tickets sold / available)\": \"21,827 / 21,827\", \"Revenue\": \"$2,364,080\", \"Tour\": \"The_Red_Tour\", \"tickets_sold\": 21827, \"revenue_num\": 2364080}, {\"City\": \"Melbourne\", \"Country\": \"Australia\", \"Venue\": \"Etihad Stadium\", \"Opening act(s)\": \"Guy Sebastian Neon Trees\", \"Attendance (tickets sold / available)\": \"47,257 / 47,257\", \"Revenue\": \"$4,547,250\", \"Tour\": \"The_Red_Tour\", \"tickets_sold\": 47257, \"revenue_num\": 4547250}, {\"City\": \"London\", \"Country\": \"England\", \"Venue\": \"The O2 Arena\", \"Opening act(s)\": \"The Vamps\", \"Attendance (tickets sold / available)\": \"74,740 / 74,740\", \"Revenue\": \"$5,829,240\", \"Tour\": \"The_Red_Tour\", \"tickets_sold\": 74740, \"revenue_num\": 5829240}, {\"City\": \"London\", \"Country\": \"England\", \"Venue\": \"The O2 Arena\", \"Opening act(s)\": \"The Vamps\", \"Attendance (tickets sold / available)\": \"74,740 / 74,740\", \"Revenue\": \"$5,829,240\", \"Tour\": \"The_Red_Tour\", \"tickets_sold\": 74740, \"revenue_num\": 5829240}, {\"City\": \"London\", \"Country\": \"England\", \"Venue\": \"The O2 Arena\", \"Opening act(s)\": \"The Vamps\", \"Attendance (tickets sold / available)\": \"74,740 / 74,740\", \"Revenue\": \"$5,829,240\", \"Tour\": \"The_Red_Tour\", \"tickets_sold\": 74740, \"revenue_num\": 5829240}, {\"City\": \"Berlin\", \"Country\": \"Germany\", \"Venue\": \"O2 World\", \"Opening act(s)\": \"Andreas Bourani\", \"Attendance (tickets sold / available)\": \"10,350 / 10,350\", \"Revenue\": \"$755,006\", \"Tour\": \"The_Red_Tour\", \"tickets_sold\": 10350, \"revenue_num\": 755006}, {\"City\": \"Shanghai\", \"Country\": \"China\", \"Venue\": \"Mercedes-Benz Arena\", \"Opening act(s)\": \"\\u2014\", \"Attendance (tickets sold / available)\": \"12,793 / 12,793\", \"Revenue\": \"$1,864,934\", \"Tour\": \"The_Red_Tour\", \"tickets_sold\": 12793, \"revenue_num\": 1864934}, {\"City\": \"Saitama\", \"Country\": \"Japan\", \"Venue\": \"Saitama Super Arena\", \"Opening act(s)\": \"CTS\", \"Attendance (tickets sold / available)\": \"20,046 / 20,046\", \"Revenue\": \"$1,837,147\", \"Tour\": \"The_Red_Tour\", \"tickets_sold\": 20046, \"revenue_num\": 1837147}, {\"City\": \"Jakarta\", \"Country\": \"Indonesia\", \"Venue\": \"MEIS Ancol\", \"Opening act(s)\": \"Nicole Zefanya\", \"Attendance (tickets sold / available)\": \"8,130 / 8,130\", \"Revenue\": \"$1,481,473\", \"Tour\": \"The_Red_Tour\", \"tickets_sold\": 8130, \"revenue_num\": 1481473}, {\"City\": \"Pasay\", \"Country\": \"Philippines\", \"Venue\": \"Mall of Asia Arena\", \"Opening act(s)\": \"Meg Bucsit\", \"Attendance (tickets sold / available)\": \"9,775 / 9,775\", \"Revenue\": \"$1,511,662\", \"Tour\": \"The_Red_Tour\", \"tickets_sold\": 9775, \"revenue_num\": 1511662}, {\"City\": \"Singapore\", \"Country\": \"Singapore\", \"Venue\": \"Singapore Indoor Stadium\", \"Opening act(s)\": \"Imprompt-3\", \"Attendance (tickets sold / available)\": \"16,344 / 16,344\", \"Revenue\": \"$2,524,080\", \"Tour\": \"The_Red_Tour\", \"tickets_sold\": 16344, \"revenue_num\": 2524080}, {\"City\": \"Kuala Lumpur\", \"Country\": \"Malaysia\", \"Venue\": \"Putra Indoor Stadium\", \"Opening act(s)\": \"IamNeeta\", \"Attendance (tickets sold / available)\": \"7,525 / 7,525\", \"Revenue\": \"$998,608\", \"Tour\": \"The_Red_Tour\", \"tickets_sold\": 7525, \"revenue_num\": 998608}, {\"City\": \"Tokyo\", \"Country\": \"Japan\", \"Venue\": \"Tokyo Dome\", \"Opening act(s)\": \"\\u2014\", \"Attendance (tickets sold / available)\": \"100,320 / 100,320\", \"Revenue\": \"$10,586,828\", \"Tour\": \"The_1989_World_Tour\", \"tickets_sold\": 100320, \"revenue_num\": 10586828}, {\"City\": \"Tokyo\", \"Country\": \"Japan\", \"Venue\": \"Tokyo Dome\", \"Opening act(s)\": \"\\u2014\", \"Attendance (tickets sold / available)\": \"100,320 / 100,320\", \"Revenue\": \"$10,586,828\", \"Tour\": \"The_1989_World_Tour\", \"tickets_sold\": 100320, \"revenue_num\": 10586828}, {\"City\": \"Bossier City\", \"Country\": \"United States\", \"Venue\": \"CenturyLink Center\", \"Opening act(s)\": \"Vance Joy\", \"Attendance (tickets sold / available)\": \"12,459 / 12,459\", \"Revenue\": \"$1,458,197\", \"Tour\": \"The_1989_World_Tour\", \"tickets_sold\": 12459, \"revenue_num\": 1458197}, {\"City\": \"Baton Rouge\", \"Country\": \"United States\", \"Venue\": \"LSU Tiger Stadium\", \"Opening act(s)\": \"Vance Joy Shawn Mendes\", \"Attendance (tickets sold / available)\": \"50,227 / 50,227\", \"Revenue\": \"$4,119,670\", \"Tour\": \"The_1989_World_Tour\", \"tickets_sold\": 50227, \"revenue_num\": 4119670}, {\"City\": \"Detroit\", \"Country\": \"United States\", \"Venue\": \"Ford Field\", \"Opening act(s)\": \"Vance Joy Shawn Mendes\", \"Attendance (tickets sold / available)\": \"50,703 / 50,703\", \"Revenue\": \"$5,999,690\", \"Tour\": \"The_1989_World_Tour\", \"tickets_sold\": 50703, \"revenue_num\": 5999690}, {\"City\": \"Louisville\", \"Country\": \"United States\", \"Venue\": \"KFC Yum! Center\", \"Opening act(s)\": \"Vance Joy\", \"Attendance (tickets sold / available)\": \"16,242 / 16,242\", \"Revenue\": \"$1,863,281\", \"Tour\": \"The_1989_World_Tour\", \"tickets_sold\": 16242, \"revenue_num\": 1863281}, {\"City\": \"Cleveland\", \"Country\": \"United States\", \"Venue\": \"Quicken Loans Arena\", \"Opening act(s)\": \"Vance Joy\", \"Attendance (tickets sold / available)\": \"15,503 / 15,503\", \"Revenue\": \"$1,732,041\", \"Tour\": \"The_1989_World_Tour\", \"tickets_sold\": 15503, \"revenue_num\": 1732041}, {\"City\": \"Pittsburgh\", \"Country\": \"United States\", \"Venue\": \"Heinz Field\", \"Opening act(s)\": \"Vance Joy Shawn Mendes\", \"Attendance (tickets sold / available)\": \"54,801 / 54,801\", \"Revenue\": \"$5,836,926\", \"Tour\": \"The_1989_World_Tour\", \"tickets_sold\": 54801, \"revenue_num\": 5836926}, {\"City\": \"Charlotte\", \"Country\": \"United States\", \"Venue\": \"Time Warner Cable Arena\", \"Opening act(s)\": \"Vance Joy\", \"Attendance (tickets sold / available)\": \"15,024 / 15,024\", \"Revenue\": \"$1,627,798\", \"Tour\": \"The_1989_World_Tour\", \"tickets_sold\": 15024, \"revenue_num\": 1627798}, {\"City\": \"Raleigh\", \"Country\": \"United States\", \"Venue\": \"PNC Arena\", \"Opening act(s)\": \"Vance Joy\", \"Attendance (tickets sold / available)\": \"13,886 / 13,886\", \"Revenue\": \"$1,653,762\", \"Tour\": \"The_1989_World_Tour\", \"tickets_sold\": 13886, \"revenue_num\": 1653762}, {\"City\": \"Philadelphia\", \"Country\": \"United States\", \"Venue\": \"Lincoln Financial Field\", \"Opening act(s)\": \"Vance Joy Shawn Mendes\", \"Attendance (tickets sold / available)\": \"101,052 / 101,052\", \"Revenue\": \"$11,987,816\", \"Tour\": \"The_1989_World_Tour\", \"tickets_sold\": 101052, \"revenue_num\": 11987816}, {\"City\": \"Philadelphia\", \"Country\": \"United States\", \"Venue\": \"Lincoln Financial Field\", \"Opening act(s)\": \"Vance Joy Shawn Mendes\", \"Attendance (tickets sold / available)\": \"101,052 / 101,052\", \"Revenue\": \"$11,987,816\", \"Tour\": \"The_1989_World_Tour\", \"tickets_sold\": 101052, \"revenue_num\": 11987816}, {\"City\": \"Cologne\", \"Country\": \"Germany\", \"Venue\": \"Lanxess Arena\", \"Opening act(s)\": \"James Bay\", \"Attendance (tickets sold / available)\": \"29,020 / 29,020\", \"Revenue\": \"$2,054,690\", \"Tour\": \"The_1989_World_Tour\", \"tickets_sold\": 29020, \"revenue_num\": 2054690}, {\"City\": \"Cologne\", \"Country\": \"Germany\", \"Venue\": \"Lanxess Arena\", \"Opening act(s)\": \"James Bay\", \"Attendance (tickets sold / available)\": \"29,020 / 29,020\", \"Revenue\": \"$2,054,690\", \"Tour\": \"The_1989_World_Tour\", \"tickets_sold\": 29020, \"revenue_num\": 2054690}, {\"City\": \"Amsterdam\", \"Country\": \"Netherlands\", \"Venue\": \"Ziggo Dome\", \"Opening act(s)\": \"James Bay\", \"Attendance (tickets sold / available)\": \"11,166 / 11,166\", \"Revenue\": \"$800,829\", \"Tour\": \"The_1989_World_Tour\", \"tickets_sold\": 11166, \"revenue_num\": 800829}, {\"City\": \"Glasgow\", \"Country\": \"Scotland\", \"Venue\": \"SSE Hydro\", \"Opening act(s)\": \"Vance Joy\", \"Attendance (tickets sold / available)\": \"11,021 / 11,021\", \"Revenue\": \"$1,119,300\", \"Tour\": \"The_1989_World_Tour\", \"tickets_sold\": 11021, \"revenue_num\": 1119300}, {\"City\": \"Manchester\", \"Country\": \"England\", \"Venue\": \"Manchester Arena\", \"Opening act(s)\": \"Vance Joy\", \"Attendance (tickets sold / available)\": \"14,773 / 14,773\", \"Revenue\": \"$1,478,760\", \"Tour\": \"The_1989_World_Tour\", \"tickets_sold\": 14773, \"revenue_num\": 1478760}, {\"City\": \"Dublin\", \"Country\": \"Ireland\", \"Venue\": \"3Arena\", \"Opening act(s)\": \"Vance Joy\", \"Attendance (tickets sold / available)\": \"25,188 / 25,188\", \"Revenue\": \"$1,975,510\", \"Tour\": \"The_1989_World_Tour\", \"tickets_sold\": 25188, \"revenue_num\": 1975510}, {\"City\": \"Dublin\", \"Country\": \"Ireland\", \"Venue\": \"3Arena\", \"Opening act(s)\": \"Vance Joy\", \"Attendance (tickets sold / available)\": \"25,188 / 25,188\", \"Revenue\": \"$1,975,510\", \"Tour\": \"The_1989_World_Tour\", \"tickets_sold\": 25188, \"revenue_num\": 1975510}, {\"City\": \"Ottawa\", \"Country\": \"Canada\", \"Venue\": \"Canadian Tire Centre\", \"Opening act(s)\": \"Vance Joy\", \"Attendance (tickets sold / available)\": \"13,480 / 13,480\", \"Revenue\": \"$1,325,480\", \"Tour\": \"The_1989_World_Tour\", \"tickets_sold\": 13480, \"revenue_num\": 1325480}, {\"City\": \"Montreal\", \"Country\": \"Canada\", \"Venue\": \"Bell Centre\", \"Opening act(s)\": \"Vance Joy\", \"Attendance (tickets sold / available)\": \"14,770 / 14,770\", \"Revenue\": \"$1,499,040\", \"Tour\": \"The_1989_World_Tour\", \"tickets_sold\": 14770, \"revenue_num\": 1499040}, {\"City\": \"East Rutherford\", \"Country\": \"United States\", \"Venue\": \"MetLife Stadium\", \"Opening act(s)\": \"Vance Joy Shawn Mendes Haim\", \"Attendance (tickets sold / available)\": \"110,105 / 110,105\", \"Revenue\": \"$13,423,858\", \"Tour\": \"The_1989_World_Tour\", \"tickets_sold\": 110105, \"revenue_num\": 13423858}, {\"City\": \"East Rutherford\", \"Country\": \"United States\", \"Venue\": \"MetLife Stadium\", \"Opening act(s)\": \"Vance Joy Shawn Mendes Haim\", \"Attendance (tickets sold / available)\": \"110,105 / 110,105\", \"Revenue\": \"$13,423,858\", \"Tour\": \"The_1989_World_Tour\", \"tickets_sold\": 110105, \"revenue_num\": 13423858}, {\"City\": \"Washington\", \"Country\": \"United States\", \"Venue\": \"Nationals Park\", \"Opening act(s)\": \"Vance Joy Shawn Mendes Haim\", \"Attendance (tickets sold / available)\": \"85,014 / 85,014\", \"Revenue\": \"$9,730,596\", \"Tour\": \"The_1989_World_Tour\", \"tickets_sold\": 85014, \"revenue_num\": 9730596}, {\"City\": \"Washington\", \"Country\": \"United States\", \"Venue\": \"Nationals Park\", \"Opening act(s)\": \"Vance Joy Shawn Mendes Haim\", \"Attendance (tickets sold / available)\": \"85,014 / 85,014\", \"Revenue\": \"$9,730,596\", \"Tour\": \"The_1989_World_Tour\", \"tickets_sold\": 85014, \"revenue_num\": 9730596}, {\"City\": \"Chicago\", \"Country\": \"United States\", \"Venue\": \"Soldier Field\", \"Opening act(s)\": \"Vance Joy Shawn Mendes Haim\", \"Attendance (tickets sold / available)\": \"110,109 / 110,109\", \"Revenue\": \"$11,469,887\", \"Tour\": \"The_1989_World_Tour\", \"tickets_sold\": 110109, \"revenue_num\": 11469887}, {\"City\": \"Chicago\", \"Country\": \"United States\", \"Venue\": \"Soldier Field\", \"Opening act(s)\": \"Vance Joy Shawn Mendes Haim\", \"Attendance (tickets sold / available)\": \"110,109 / 110,109\", \"Revenue\": \"$11,469,887\", \"Tour\": \"The_1989_World_Tour\", \"tickets_sold\": 110109, \"revenue_num\": 11469887}, {\"City\": \"Foxborough\", \"Country\": \"United States\", \"Venue\": \"Gillette Stadium\", \"Opening act(s)\": \"Vance Joy Shawn Mendes Haim\", \"Attendance (tickets sold / available)\": \"116,849 / 116,849\", \"Revenue\": \"$12,533,166\", \"Tour\": \"The_1989_World_Tour\", \"tickets_sold\": 116849, \"revenue_num\": 12533166}, {\"City\": \"Foxborough\", \"Country\": \"United States\", \"Venue\": \"Gillette Stadium\", \"Opening act(s)\": \"Vance Joy Shawn Mendes Haim\", \"Attendance (tickets sold / available)\": \"116,849 / 116,849\", \"Revenue\": \"$12,533,166\", \"Tour\": \"The_1989_World_Tour\", \"tickets_sold\": 116849, \"revenue_num\": 12533166}, {\"City\": \"Vancouver\", \"Country\": \"Canada\", \"Venue\": \"BC Place\", \"Opening act(s)\": \"Vance Joy Shawn Mendes\", \"Attendance (tickets sold / available)\": \"41,463 / 41,463\", \"Revenue\": \"$4,081,820\", \"Tour\": \"The_1989_World_Tour\", \"tickets_sold\": 41463, \"revenue_num\": 4081820}, {\"City\": \"Edmonton\", \"Country\": \"Canada\", \"Venue\": \"Rexall Place\", \"Opening act(s)\": \"Vance Joy\", \"Attendance (tickets sold / available)\": \"26,534 / 26,534\", \"Revenue\": \"$2,387,080\", \"Tour\": \"The_1989_World_Tour\", \"tickets_sold\": 26534, \"revenue_num\": 2387080}, {\"City\": \"Edmonton\", \"Country\": \"Canada\", \"Venue\": \"Rexall Place\", \"Opening act(s)\": \"Vance Joy\", \"Attendance (tickets sold / available)\": \"26,534 / 26,534\", \"Revenue\": \"$2,387,080\", \"Tour\": \"The_1989_World_Tour\", \"tickets_sold\": 26534, \"revenue_num\": 2387080}, {\"City\": \"Seattle\", \"Country\": \"United States\", \"Venue\": \"CenturyLink Field\", \"Opening act(s)\": \"Vance Joy Shawn Mendes\", \"Attendance (tickets sold / available)\": \"55,711 / 55,711\", \"Revenue\": \"$6,050,643\", \"Tour\": \"The_1989_World_Tour\", \"tickets_sold\": 55711, \"revenue_num\": 6050643}, {\"City\": \"Santa Clara\", \"Country\": \"United States\", \"Venue\": \"Levi's Stadium\", \"Opening act(s)\": \"Vance Joy Shawn Mendes\", \"Attendance (tickets sold / available)\": \"102,139 / 102,139\", \"Revenue\": \"$13,031,146\", \"Tour\": \"The_1989_World_Tour\", \"tickets_sold\": 102139, \"revenue_num\": 13031146}, {\"City\": \"Santa Clara\", \"Country\": \"United States\", \"Venue\": \"Levi's Stadium\", \"Opening act(s)\": \"Vance Joy Shawn Mendes\", \"Attendance (tickets sold / available)\": \"102,139 / 102,139\", \"Revenue\": \"$13,031,146\", \"Tour\": \"The_1989_World_Tour\", \"tickets_sold\": 102139, \"revenue_num\": 13031146}, {\"City\": \"Glendale\", \"Country\": \"United States\", \"Venue\": \"Gila River Arena\", \"Opening act(s)\": \"Vance Joy\", \"Attendance (tickets sold / available)\": \"26,520 / 26,520\", \"Revenue\": \"$3,029,628\", \"Tour\": \"The_1989_World_Tour\", \"tickets_sold\": 26520, \"revenue_num\": 3029628}, {\"City\": \"Glendale\", \"Country\": \"United States\", \"Venue\": \"Gila River Arena\", \"Opening act(s)\": \"Vance Joy\", \"Attendance (tickets sold / available)\": \"26,520 / 26,520\", \"Revenue\": \"$3,029,628\", \"Tour\": \"The_1989_World_Tour\", \"tickets_sold\": 26520, \"revenue_num\": 3029628}, {\"City\": \"Los Angeles\", \"Country\": \"United States\", \"Venue\": \"Staples Center\", \"Opening act(s)\": \"Vance Joy Haim\", \"Attendance (tickets sold / available)\": \"70,563 / 70,563\", \"Revenue\": \"$8,961,681\", \"Tour\": \"The_1989_World_Tour\", \"tickets_sold\": 70563, \"revenue_num\": 8961681}, {\"City\": \"Los Angeles\", \"Country\": \"United States\", \"Venue\": \"Staples Center\", \"Opening act(s)\": \"Vance Joy Haim\", \"Attendance (tickets sold / available)\": \"70,563 / 70,563\", \"Revenue\": \"$8,961,681\", \"Tour\": \"The_1989_World_Tour\", \"tickets_sold\": 70563, \"revenue_num\": 8961681}, {\"City\": \"Los Angeles\", \"Country\": \"United States\", \"Venue\": \"Staples Center\", \"Opening act(s)\": \"Vance Joy Haim\", \"Attendance (tickets sold / available)\": \"70,563 / 70,563\", \"Revenue\": \"$8,961,681\", \"Tour\": \"The_1989_World_Tour\", \"tickets_sold\": 70563, \"revenue_num\": 8961681}, {\"City\": \"Los Angeles\", \"Country\": \"United States\", \"Venue\": \"Staples Center\", \"Opening act(s)\": \"Vance Joy Haim\", \"Attendance (tickets sold / available)\": \"70,563 / 70,563\", \"Revenue\": \"$8,961,681\", \"Tour\": \"The_1989_World_Tour\", \"tickets_sold\": 70563, \"revenue_num\": 8961681}, {\"City\": \"Los Angeles\", \"Country\": \"United States\", \"Venue\": \"Staples Center\", \"Opening act(s)\": \"Vance Joy Haim\", \"Attendance (tickets sold / available)\": \"70,563 / 70,563\", \"Revenue\": \"$8,961,681\", \"Tour\": \"The_1989_World_Tour\", \"tickets_sold\": 70563, \"revenue_num\": 8961681}, {\"City\": \"San Diego\", \"Country\": \"United States\", \"Venue\": \"Petco Park\", \"Opening act(s)\": \"Vance Joy Shawn Mendes\", \"Attendance (tickets sold / available)\": \"44,710 / 44,710\", \"Revenue\": \"$5,475,237\", \"Tour\": \"The_1989_World_Tour\", \"tickets_sold\": 44710, \"revenue_num\": 5475237}, {\"City\": \"Salt Lake City\", \"Country\": \"United States\", \"Venue\": \"EnergySolutions Arena\", \"Opening act(s)\": \"Vance Joy\", \"Attendance (tickets sold / available)\": \"14,131 / 14,131\", \"Revenue\": \"$1,589,686\", \"Tour\": \"The_1989_World_Tour\", \"tickets_sold\": 14131, \"revenue_num\": 1589686}, {\"City\": \"Denver\", \"Country\": \"United States\", \"Venue\": \"Pepsi Center\", \"Opening act(s)\": \"Vance Joy\", \"Attendance (tickets sold / available)\": \"27,126 / 27,126\", \"Revenue\": \"$2,868,991\", \"Tour\": \"The_1989_World_Tour\", \"tickets_sold\": 27126, \"revenue_num\": 2868991}, {\"City\": \"Denver\", \"Country\": \"United States\", \"Venue\": \"Pepsi Center\", \"Opening act(s)\": \"Vance Joy\", \"Attendance (tickets sold / available)\": \"27,126 / 27,126\", \"Revenue\": \"$2,868,991\", \"Tour\": \"The_1989_World_Tour\", \"tickets_sold\": 27126, \"revenue_num\": 2868991}, {\"City\": \"Houston\", \"Country\": \"United States\", \"Venue\": \"Minute Maid Park\", \"Opening act(s)\": \"Vance Joy Shawn Mendes\", \"Attendance (tickets sold / available)\": \"40,122 / 40,122\", \"Revenue\": \"$5,202,196\", \"Tour\": \"The_1989_World_Tour\", \"tickets_sold\": 40122, \"revenue_num\": 5202196}, {\"City\": \"Saint Paul\", \"Country\": \"United States\", \"Venue\": \"Xcel Energy Center\", \"Opening act(s)\": \"Vance Joy\", \"Attendance (tickets sold / available)\": \"45,126 / 45,126\", \"Revenue\": \"$5,514,863\", \"Tour\": \"The_1989_World_Tour\", \"tickets_sold\": 45126, \"revenue_num\": 5514863}, {\"City\": \"Saint Paul\", \"Country\": \"United States\", \"Venue\": \"Xcel Energy Center\", \"Opening act(s)\": \"Vance Joy\", \"Attendance (tickets sold / available)\": \"45,126 / 45,126\", \"Revenue\": \"$5,514,863\", \"Tour\": \"The_1989_World_Tour\", \"tickets_sold\": 45126, \"revenue_num\": 5514863}, {\"City\": \"Saint Paul\", \"Country\": \"United States\", \"Venue\": \"Xcel Energy Center\", \"Opening act(s)\": \"Vance Joy\", \"Attendance (tickets sold / available)\": \"45,126 / 45,126\", \"Revenue\": \"$5,514,863\", \"Tour\": \"The_1989_World_Tour\", \"tickets_sold\": 45126, \"revenue_num\": 5514863}, {\"City\": \"Indianapolis\", \"Country\": \"United States\", \"Venue\": \"Bankers Life Fieldhouse\", \"Opening act(s)\": \"Vance Joy\", \"Attendance (tickets sold / available)\": \"14,010 / 14,010\", \"Revenue\": \"$1,550,268\", \"Tour\": \"The_1989_World_Tour\", \"tickets_sold\": 14010, \"revenue_num\": 1550268}, {\"City\": \"Columbus\", \"Country\": \"United States\", \"Venue\": \"Nationwide Arena\", \"Opening act(s)\": \"Vance Joy\", \"Attendance (tickets sold / available)\": \"29,936 / 29,936\", \"Revenue\": \"$3,369,693\", \"Tour\": \"The_1989_World_Tour\", \"tickets_sold\": 29936, \"revenue_num\": 3369693}, {\"City\": \"Columbus\", \"Country\": \"United States\", \"Venue\": \"Nationwide Arena\", \"Opening act(s)\": \"Vance Joy\", \"Attendance (tickets sold / available)\": \"29,936 / 29,936\", \"Revenue\": \"$3,369,693\", \"Tour\": \"The_1989_World_Tour\", \"tickets_sold\": 29936, \"revenue_num\": 3369693}, {\"City\": \"Kansas City\", \"Country\": \"United States\", \"Venue\": \"Sprint Center\", \"Opening act(s)\": \"Vance Joy\", \"Attendance (tickets sold / available)\": \"27,857 / 27,857\", \"Revenue\": \"$2,967,558\", \"Tour\": \"The_1989_World_Tour\", \"tickets_sold\": 27857, \"revenue_num\": 2967558}, {\"City\": \"Kansas City\", \"Country\": \"United States\", \"Venue\": \"Sprint Center\", \"Opening act(s)\": \"Vance Joy\", \"Attendance (tickets sold / available)\": \"27,857 / 27,857\", \"Revenue\": \"$2,967,558\", \"Tour\": \"The_1989_World_Tour\", \"tickets_sold\": 27857, \"revenue_num\": 2967558}, {\"City\": \"Nashville\", \"Country\": \"United States\", \"Venue\": \"Bridgestone Arena\", \"Opening act(s)\": \"Vance Joy Haim\", \"Attendance (tickets sold / available)\": \"28,917 / 28,917\", \"Revenue\": \"$3,354,844\", \"Tour\": \"The_1989_World_Tour\", \"tickets_sold\": 28917, \"revenue_num\": 3354844}, {\"City\": \"Nashville\", \"Country\": \"United States\", \"Venue\": \"Bridgestone Arena\", \"Opening act(s)\": \"Vance Joy Haim\", \"Attendance (tickets sold / available)\": \"28,917 / 28,917\", \"Revenue\": \"$3,354,844\", \"Tour\": \"The_1989_World_Tour\", \"tickets_sold\": 28917, \"revenue_num\": 3354844}, {\"City\": \"St. Louis\", \"Country\": \"United States\", \"Venue\": \"Scottrade Center\", \"Opening act(s)\": \"Vance Joy Haim\", \"Attendance (tickets sold / available)\": \"29,688 / 29,688\", \"Revenue\": \"$3,452,940\", \"Tour\": \"The_1989_World_Tour\", \"tickets_sold\": 29688, \"revenue_num\": 3452940}, {\"City\": \"St. Louis\", \"Country\": \"United States\", \"Venue\": \"Scottrade Center\", \"Opening act(s)\": \"Vance Joy Haim\", \"Attendance (tickets sold / available)\": \"29,688 / 29,688\", \"Revenue\": \"$3,452,940\", \"Tour\": \"The_1989_World_Tour\", \"tickets_sold\": 29688, \"revenue_num\": 3452940}, {\"City\": \"Toronto\", \"Country\": \"Canada\", \"Venue\": \"Rogers Centre\", \"Opening act(s)\": \"Vance Joy Shawn Mendes\", \"Attendance (tickets sold / available)\": \"99,283 / 99,283\", \"Revenue\": \"$8,670,990\", \"Tour\": \"The_1989_World_Tour\", \"tickets_sold\": 99283, \"revenue_num\": 8670990}, {\"City\": \"Toronto\", \"Country\": \"Canada\", \"Venue\": \"Rogers Centre\", \"Opening act(s)\": \"Vance Joy Shawn Mendes\", \"Attendance (tickets sold / available)\": \"99,283 / 99,283\", \"Revenue\": \"$8,670,990\", \"Tour\": \"The_1989_World_Tour\", \"tickets_sold\": 99283, \"revenue_num\": 8670990}, {\"City\": \"Des Moines\", \"Country\": \"United States\", \"Venue\": \"Wells Fargo Arena\", \"Opening act(s)\": \"Vance Joy\", \"Attendance (tickets sold / available)\": \"13,969 / 13,969\", \"Revenue\": \"$1,566,321\", \"Tour\": \"The_1989_World_Tour\", \"tickets_sold\": 13969, \"revenue_num\": 1566321}, {\"City\": \"Omaha\", \"Country\": \"United States\", \"Venue\": \"CenturyLink Center Omaha\", \"Opening act(s)\": \"Vance Joy\", \"Attendance (tickets sold / available)\": \"29,622 / 29,622\", \"Revenue\": \"$3,121,421\", \"Tour\": \"The_1989_World_Tour\", \"tickets_sold\": 29622, \"revenue_num\": 3121421}, {\"City\": \"Omaha\", \"Country\": \"United States\", \"Venue\": \"CenturyLink Center Omaha\", \"Opening act(s)\": \"Vance Joy\", \"Attendance (tickets sold / available)\": \"29,622 / 29,622\", \"Revenue\": \"$3,121,421\", \"Tour\": \"The_1989_World_Tour\", \"tickets_sold\": 29622, \"revenue_num\": 3121421}, {\"City\": \"Fargo\", \"Country\": \"United States\", \"Venue\": \"Fargodome\", \"Opening act(s)\": \"Vance Joy\", \"Attendance (tickets sold / available)\": \"21,067 / 21,067\", \"Revenue\": \"$2,219,188\", \"Tour\": \"The_1989_World_Tour\", \"tickets_sold\": 21067, \"revenue_num\": 2219188}, {\"City\": \"Arlington\", \"Country\": \"United States\", \"Venue\": \"AT&T Stadium\", \"Opening act(s)\": \"Vance Joy Shawn Mendes\", \"Attendance (tickets sold / available)\": \"62,630 / 62,630\", \"Revenue\": \"$7,396,733\", \"Tour\": \"The_1989_World_Tour\", \"tickets_sold\": 62630, \"revenue_num\": 7396733}, {\"City\": \"Lexington\", \"Country\": \"United States\", \"Venue\": \"Rupp Arena\", \"Opening act(s)\": \"Vance Joy\", \"Attendance (tickets sold / available)\": \"17,084 / 17,084\", \"Revenue\": \"$1,870,471\", \"Tour\": \"The_1989_World_Tour\", \"tickets_sold\": 17084, \"revenue_num\": 1870471}, {\"City\": \"Greensboro\", \"Country\": \"United States\", \"Venue\": \"Greensboro Coliseum\", \"Opening act(s)\": \"Vance Joy\", \"Attendance (tickets sold / available)\": \"15,079 / 15,079\", \"Revenue\": \"$1,662,171\", \"Tour\": \"The_1989_World_Tour\", \"tickets_sold\": 15079, \"revenue_num\": 1662171}, {\"City\": \"Atlanta\", \"Country\": \"United States\", \"Venue\": \"Georgia Dome\", \"Opening act(s)\": \"Vance Joy Shawn Mendes\", \"Attendance (tickets sold / available)\": \"56,046 / 56,046\", \"Revenue\": \"$6,034,846\", \"Tour\": \"The_1989_World_Tour\", \"tickets_sold\": 56046, \"revenue_num\": 6034846}, {\"City\": \"Miami\", \"Country\": \"United States\", \"Venue\": \"American Airlines Arena\", \"Opening act(s)\": \"Vance Joy\", \"Attendance (tickets sold / available)\": \"14,044 / 14,044\", \"Revenue\": \"$1,527,919\", \"Tour\": \"The_1989_World_Tour\", \"tickets_sold\": 14044, \"revenue_num\": 1527919}, {\"City\": \"Tampa\", \"Country\": \"United States\", \"Venue\": \"Raymond James Stadium\", \"Opening act(s)\": \"Vance Joy Shawn Mendes\", \"Attendance (tickets sold / available)\": \"56,987 / 56,987\", \"Revenue\": \"$6,202,515\", \"Tour\": \"The_1989_World_Tour\", \"tickets_sold\": 56987, \"revenue_num\": 6202515}, {\"City\": \"Singapore\", \"Country\": \"Singapore\", \"Venue\": \"Singapore Indoor Stadium\", \"Opening act(s)\": \"\\u2014\", \"Attendance (tickets sold / available)\": \"17,726 / 17,726\", \"Revenue\": \"$3,217,569\", \"Tour\": \"The_1989_World_Tour\", \"tickets_sold\": 17726, \"revenue_num\": 3217569}, {\"City\": \"Singapore\", \"Country\": \"Singapore\", \"Venue\": \"Singapore Indoor Stadium\", \"Opening act(s)\": \"\\u2014\", \"Attendance (tickets sold / available)\": \"17,726 / 17,726\", \"Revenue\": \"$3,217,569\", \"Tour\": \"The_1989_World_Tour\", \"tickets_sold\": 17726, \"revenue_num\": 3217569}, {\"City\": \"Shanghai\", \"Country\": \"China\", \"Venue\": \"Mercedes-Benz Arena\", \"Opening act(s)\": \"\\u2014\", \"Attendance (tickets sold / available)\": \"37,758 / 37,758\", \"Revenue\": \"$5,917,348\", \"Tour\": \"The_1989_World_Tour\", \"tickets_sold\": 37758, \"revenue_num\": 5917348}, {\"City\": \"Shanghai\", \"Country\": \"China\", \"Venue\": \"Mercedes-Benz Arena\", \"Opening act(s)\": \"\\u2014\", \"Attendance (tickets sold / available)\": \"37,758 / 37,758\", \"Revenue\": \"$5,917,348\", \"Tour\": \"The_1989_World_Tour\", \"tickets_sold\": 37758, \"revenue_num\": 5917348}, {\"City\": \"Shanghai\", \"Country\": \"China\", \"Venue\": \"Mercedes-Benz Arena\", \"Opening act(s)\": \"\\u2014\", \"Attendance (tickets sold / available)\": \"37,758 / 37,758\", \"Revenue\": \"$5,917,348\", \"Tour\": \"The_1989_World_Tour\", \"tickets_sold\": 37758, \"revenue_num\": 5917348}, {\"City\": \"Sydney\", \"Country\": \"Australia\", \"Venue\": \"ANZ Stadium\", \"Opening act(s)\": \"Vance Joy\", \"Attendance (tickets sold / available)\": \"75,980 / 75,980\", \"Revenue\": \"$6,571,683\", \"Tour\": \"The_1989_World_Tour\", \"tickets_sold\": 75980, \"revenue_num\": 6571683}, {\"City\": \"Brisbane\", \"Country\": \"Australia\", \"Venue\": \"Suncorp Stadium\", \"Opening act(s)\": \"Vance Joy\", \"Attendance (tickets sold / available)\": \"46,881 / 46,881\", \"Revenue\": \"$4,759,471\", \"Tour\": \"The_1989_World_Tour\", \"tickets_sold\": 46881, \"revenue_num\": 4759471}, {\"City\": \"Adelaide\", \"Country\": \"Australia\", \"Venue\": \"Adelaide Entertainment Centre\", \"Opening act(s)\": \"Vance Joy\", \"Attendance (tickets sold / available)\": \"20,090 / 20,090\", \"Revenue\": \"$2,407,499\", \"Tour\": \"The_1989_World_Tour\", \"tickets_sold\": 20090, \"revenue_num\": 2407499}, {\"City\": \"Adelaide\", \"Country\": \"Australia\", \"Venue\": \"Adelaide Entertainment Centre\", \"Opening act(s)\": \"Vance Joy\", \"Attendance (tickets sold / available)\": \"20,090 / 20,090\", \"Revenue\": \"$2,407,499\", \"Tour\": \"The_1989_World_Tour\", \"tickets_sold\": 20090, \"revenue_num\": 2407499}, {\"City\": \"Melbourne\", \"Country\": \"Australia\", \"Venue\": \"AAMI Park\", \"Opening act(s)\": \"Vance Joy\", \"Attendance (tickets sold / available)\": \"98,136 / 98,136\", \"Revenue\": \"$10,421,553\", \"Tour\": \"The_1989_World_Tour\", \"tickets_sold\": 98136, \"revenue_num\": 10421553}, {\"City\": \"Melbourne\", \"Country\": \"Australia\", \"Venue\": \"AAMI Park\", \"Opening act(s)\": \"Vance Joy\", \"Attendance (tickets sold / available)\": \"98,136 / 98,136\", \"Revenue\": \"$10,421,553\", \"Tour\": \"The_1989_World_Tour\", \"tickets_sold\": 98136, \"revenue_num\": 10421553}, {\"City\": \"Melbourne\", \"Country\": \"Australia\", \"Venue\": \"AAMI Park\", \"Opening act(s)\": \"Vance Joy\", \"Attendance (tickets sold / available)\": \"98,136 / 98,136\", \"Revenue\": \"$10,421,553\", \"Tour\": \"The_1989_World_Tour\", \"tickets_sold\": 98136, \"revenue_num\": 10421553}, {\"City\": \"Glendale\", \"Country\": \"United States\", \"Venue\": \"University of Phoenix Stadium\", \"Opening act(s)\": \"Camila Cabello Charli XCX\", \"Attendance (tickets sold / available)\": \"59,157 / 59,157\", \"Revenue\": \"$7,214,478\", \"Tour\": \"Reputation_Stadium_Tour\", \"tickets_sold\": 59157, \"revenue_num\": 7214478}, {\"City\": \"Santa Clara\", \"Country\": \"United States\", \"Venue\": \"Levi's Stadium\", \"Opening act(s)\": \"Camila Cabello Charli XCX\", \"Attendance (tickets sold / available)\": \"107,550 / 107,550\", \"Revenue\": \"$14,006,963\", \"Tour\": \"Reputation_Stadium_Tour\", \"tickets_sold\": 107550, \"revenue_num\": 14006963}, {\"City\": \"Santa Clara\", \"Country\": \"United States\", \"Venue\": \"Levi's Stadium\", \"Opening act(s)\": \"Camila Cabello Charli XCX\", \"Attendance (tickets sold / available)\": \"107,550 / 107,550\", \"Revenue\": \"$14,006,963\", \"Tour\": \"Reputation_Stadium_Tour\", \"tickets_sold\": 107550, \"revenue_num\": 14006963}, {\"City\": \"Pasadena\", \"Country\": \"United States\", \"Venue\": \"Rose Bowl\", \"Opening act(s)\": \"Camila Cabello Charli XCX\", \"Attendance (tickets sold / available)\": \"118,084 / 118,084\", \"Revenue\": \"$16,251,980\", \"Tour\": \"Reputation_Stadium_Tour\", \"tickets_sold\": 118084, \"revenue_num\": 16251980}, {\"City\": \"Pasadena\", \"Country\": \"United States\", \"Venue\": \"Rose Bowl\", \"Opening act(s)\": \"Camila Cabello Charli XCX\", \"Attendance (tickets sold / available)\": \"118,084 / 118,084\", \"Revenue\": \"$16,251,980\", \"Tour\": \"Reputation_Stadium_Tour\", \"tickets_sold\": 118084, \"revenue_num\": 16251980}, {\"City\": \"Seattle\", \"Country\": \"United States\", \"Venue\": \"CenturyLink Field\", \"Opening act(s)\": \"Charli XCX\", \"Attendance (tickets sold / available)\": \"56,021 / 56,021\", \"Revenue\": \"$8,672,219\", \"Tour\": \"Reputation_Stadium_Tour\", \"tickets_sold\": 56021, \"revenue_num\": 8672219}, {\"City\": \"Denver\", \"Country\": \"United States\", \"Venue\": \"Sports Authority Field at Mile High\", \"Opening act(s)\": \"Camila Cabello Charli XCX\", \"Attendance (tickets sold / available)\": \"57,140 / 57,140\", \"Revenue\": \"$7,926,366\", \"Tour\": \"Reputation_Stadium_Tour\", \"tickets_sold\": 57140, \"revenue_num\": 7926366}, {\"City\": \"Chicago\", \"Country\": \"United States\", \"Venue\": \"Soldier Field\", \"Opening act(s)\": \"Camila Cabello Charli XCX\", \"Attendance (tickets sold / available)\": \"105,208 / 105,208\", \"Revenue\": \"$14,576,697\", \"Tour\": \"Reputation_Stadium_Tour\", \"tickets_sold\": 105208, \"revenue_num\": 14576697}, {\"City\": \"Chicago\", \"Country\": \"United States\", \"Venue\": \"Soldier Field\", \"Opening act(s)\": \"Camila Cabello Charli XCX\", \"Attendance (tickets sold / available)\": \"105,208 / 105,208\", \"Revenue\": \"$14,576,697\", \"Tour\": \"Reputation_Stadium_Tour\", \"tickets_sold\": 105208, \"revenue_num\": 14576697}, {\"City\": \"Manchester\", \"Country\": \"England\", \"Venue\": \"Etihad Stadium\", \"Opening act(s)\": \"Camila Cabello Charli XCX\", \"Attendance (tickets sold / available)\": \"77,258 / 77,258\", \"Revenue\": \"$6,169,724\", \"Tour\": \"Reputation_Stadium_Tour\", \"tickets_sold\": 77258, \"revenue_num\": 6169724}, {\"City\": \"Manchester\", \"Country\": \"England\", \"Venue\": \"Etihad Stadium\", \"Opening act(s)\": \"Camila Cabello Charli XCX\", \"Attendance (tickets sold / available)\": \"77,258 / 77,258\", \"Revenue\": \"$6,169,724\", \"Tour\": \"Reputation_Stadium_Tour\", \"tickets_sold\": 77258, \"revenue_num\": 6169724}, {\"City\": \"Dublin\", \"Country\": \"Ireland\", \"Venue\": \"Croke Park\", \"Opening act(s)\": \"Camila Cabello Charli XCX\", \"Attendance (tickets sold / available)\": \"133,034 / 133,034\", \"Revenue\": \"$8,567,769\", \"Tour\": \"Reputation_Stadium_Tour\", \"tickets_sold\": 133034, \"revenue_num\": 8567769}, {\"City\": \"Dublin\", \"Country\": \"Ireland\", \"Venue\": \"Croke Park\", \"Opening act(s)\": \"Camila Cabello Charli XCX\", \"Attendance (tickets sold / available)\": \"133,034 / 133,034\", \"Revenue\": \"$8,567,769\", \"Tour\": \"Reputation_Stadium_Tour\", \"tickets_sold\": 133034, \"revenue_num\": 8567769}, {\"City\": \"London\", \"Country\": \"England\", \"Venue\": \"Wembley Stadium\", \"Opening act(s)\": \"Camila Cabello Charli XCX\", \"Attendance (tickets sold / available)\": \"143,427 / 143,427\", \"Revenue\": \"$12,214,933\", \"Tour\": \"Reputation_Stadium_Tour\", \"tickets_sold\": 143427, \"revenue_num\": 12214933}, {\"City\": \"London\", \"Country\": \"England\", \"Venue\": \"Wembley Stadium\", \"Opening act(s)\": \"Camila Cabello Charli XCX\", \"Attendance (tickets sold / available)\": \"143,427 / 143,427\", \"Revenue\": \"$12,214,933\", \"Tour\": \"Reputation_Stadium_Tour\", \"tickets_sold\": 143427, \"revenue_num\": 12214933}, {\"City\": \"Louisville\", \"Country\": \"United States\", \"Venue\": \"Cardinal Stadium\", \"Opening act(s)\": \"Camila Cabello Charli XCX\", \"Attendance (tickets sold / available)\": \"52,138 / 52,138\", \"Revenue\": \"$4,928,219\", \"Tour\": \"Reputation_Stadium_Tour\", \"tickets_sold\": 52138, \"revenue_num\": 4928219}, {\"City\": \"Columbus\", \"Country\": \"United States\", \"Venue\": \"Ohio Stadium\", \"Opening act(s)\": \"Camila Cabello Charli XCX\", \"Attendance (tickets sold / available)\": \"62,897 / 62,897\", \"Revenue\": \"$6,606,529\", \"Tour\": \"Reputation_Stadium_Tour\", \"tickets_sold\": 62897, \"revenue_num\": 6606529}, {\"City\": \"Landover\", \"Country\": \"United States\", \"Venue\": \"FedExField\", \"Opening act(s)\": \"Camila Cabello Charli XCX\", \"Attendance (tickets sold / available)\": \"95,672 / 95,672\", \"Revenue\": \"$11,396,004\", \"Tour\": \"Reputation_Stadium_Tour\", \"tickets_sold\": 95672, \"revenue_num\": 11396004}, {\"City\": \"Landover\", \"Country\": \"United States\", \"Venue\": \"FedExField\", \"Opening act(s)\": \"Camila Cabello Charli XCX\", \"Attendance (tickets sold / available)\": \"95,672 / 95,672\", \"Revenue\": \"$11,396,004\", \"Tour\": \"Reputation_Stadium_Tour\", \"tickets_sold\": 95672, \"revenue_num\": 11396004}, {\"City\": \"Philadelphia\", \"Country\": \"United States\", \"Venue\": \"Lincoln Financial Field\", \"Opening act(s)\": \"Camila Cabello Charli XCX\", \"Attendance (tickets sold / available)\": \"107,378 / 107,378\", \"Revenue\": \"$11,951,047\", \"Tour\": \"Reputation_Stadium_Tour\", \"tickets_sold\": 107378, \"revenue_num\": 11951047}, {\"City\": \"Philadelphia\", \"Country\": \"United States\", \"Venue\": \"Lincoln Financial Field\", \"Opening act(s)\": \"Camila Cabello Charli XCX\", \"Attendance (tickets sold / available)\": \"107,378 / 107,378\", \"Revenue\": \"$11,951,047\", \"Tour\": \"Reputation_Stadium_Tour\", \"tickets_sold\": 107378, \"revenue_num\": 11951047}, {\"City\": \"Cleveland\", \"Country\": \"United States\", \"Venue\": \"FirstEnergy Stadium\", \"Opening act(s)\": \"Camila Cabello Charli XCX\", \"Attendance (tickets sold / available)\": \"51,323 / 51,323\", \"Revenue\": \"$5,148,757\", \"Tour\": \"Reputation_Stadium_Tour\", \"tickets_sold\": 51323, \"revenue_num\": 5148757}, {\"City\": \"East Rutherford\", \"Country\": \"United States\", \"Venue\": \"MetLife Stadium\", \"Opening act(s)\": \"Camila Cabello Charli XCX\", \"Attendance (tickets sold / available)\": \"165,654 / 165,654\", \"Revenue\": \"$22,031,386\", \"Tour\": \"Reputation_Stadium_Tour\", \"tickets_sold\": 165654, \"revenue_num\": 22031386}, {\"City\": \"East Rutherford\", \"Country\": \"United States\", \"Venue\": \"MetLife Stadium\", \"Opening act(s)\": \"Camila Cabello Charli XCX\", \"Attendance (tickets sold / available)\": \"165,654 / 165,654\", \"Revenue\": \"$22,031,386\", \"Tour\": \"Reputation_Stadium_Tour\", \"tickets_sold\": 165654, \"revenue_num\": 22031386}, {\"City\": \"East Rutherford\", \"Country\": \"United States\", \"Venue\": \"MetLife Stadium\", \"Opening act(s)\": \"Camila Cabello Charli XCX\", \"Attendance (tickets sold / available)\": \"165,654 / 165,654\", \"Revenue\": \"$22,031,386\", \"Tour\": \"Reputation_Stadium_Tour\", \"tickets_sold\": 165654, \"revenue_num\": 22031386}, {\"City\": \"Foxborough\", \"Country\": \"United States\", \"Venue\": \"Gillette Stadium\", \"Opening act(s)\": \"Camila Cabello Charli XCX\", \"Attendance (tickets sold / available)\": \"174,764 / 174,764\", \"Revenue\": \"$21,779,846\", \"Tour\": \"Reputation_Stadium_Tour\", \"tickets_sold\": 174764, \"revenue_num\": 21779846}, {\"City\": \"Foxborough\", \"Country\": \"United States\", \"Venue\": \"Gillette Stadium\", \"Opening act(s)\": \"Camila Cabello Charli XCX\", \"Attendance (tickets sold / available)\": \"174,764 / 174,764\", \"Revenue\": \"$21,779,846\", \"Tour\": \"Reputation_Stadium_Tour\", \"tickets_sold\": 174764, \"revenue_num\": 21779846}, {\"City\": \"Foxborough\", \"Country\": \"United States\", \"Venue\": \"Gillette Stadium\", \"Opening act(s)\": \"Camila Cabello Charli XCX\", \"Attendance (tickets sold / available)\": \"174,764 / 174,764\", \"Revenue\": \"$21,779,846\", \"Tour\": \"Reputation_Stadium_Tour\", \"tickets_sold\": 174764, \"revenue_num\": 21779846}, {\"City\": \"Toronto\", \"Country\": \"Canada\", \"Venue\": \"Rogers Centre\", \"Opening act(s)\": \"Camila Cabello Charli XCX\", \"Attendance (tickets sold / available)\": \"100,310 / 100,310\", \"Revenue\": \"$11,177,000\", \"Tour\": \"Reputation_Stadium_Tour\", \"tickets_sold\": 100310, \"revenue_num\": 11177000}, {\"City\": \"Toronto\", \"Country\": \"Canada\", \"Venue\": \"Rogers Centre\", \"Opening act(s)\": \"Camila Cabello Charli XCX\", \"Attendance (tickets sold / available)\": \"100,310 / 100,310\", \"Revenue\": \"$11,177,000\", \"Tour\": \"Reputation_Stadium_Tour\", \"tickets_sold\": 100310, \"revenue_num\": 11177000}, {\"City\": \"Pittsburgh\", \"Country\": \"United States\", \"Venue\": \"Heinz Field\", \"Opening act(s)\": \"Camila Cabello Charli XCX\", \"Attendance (tickets sold / available)\": \"56,445 / 56,445\", \"Revenue\": \"$6,230,876\", \"Tour\": \"Reputation_Stadium_Tour\", \"tickets_sold\": 56445, \"revenue_num\": 6230876}, {\"City\": \"Atlanta\", \"Country\": \"United States\", \"Venue\": \"Mercedes-Benz Stadium\", \"Opening act(s)\": \"Camila Cabello Charli XCX\", \"Attendance (tickets sold / available)\": \"116,746 / 116,746\", \"Revenue\": \"$18,089,415\", \"Tour\": \"Reputation_Stadium_Tour\", \"tickets_sold\": 116746, \"revenue_num\": 18089415}, {\"City\": \"Atlanta\", \"Country\": \"United States\", \"Venue\": \"Mercedes-Benz Stadium\", \"Opening act(s)\": \"Camila Cabello Charli XCX\", \"Attendance (tickets sold / available)\": \"116,746 / 116,746\", \"Revenue\": \"$18,089,415\", \"Tour\": \"Reputation_Stadium_Tour\", \"tickets_sold\": 116746, \"revenue_num\": 18089415}, {\"City\": \"Tampa\", \"Country\": \"United States\", \"Venue\": \"Raymond James Stadium\", \"Opening act(s)\": \"Camila Cabello Charli XCX\", \"Attendance (tickets sold / available)\": \"55,909 / 55,909\", \"Revenue\": \"$7,244,264\", \"Tour\": \"Reputation_Stadium_Tour\", \"tickets_sold\": 55909, \"revenue_num\": 7244264}, {\"City\": \"Miami Gardens\", \"Country\": \"United States\", \"Venue\": \"Hard Rock Stadium\", \"Opening act(s)\": \"Camila Cabello Charli XCX\", \"Attendance (tickets sold / available)\": \"47,818 / 47,818\", \"Revenue\": \"$7,072,164\", \"Tour\": \"Reputation_Stadium_Tour\", \"tickets_sold\": 47818, \"revenue_num\": 7072164}, {\"City\": \"Nashville\", \"Country\": \"United States\", \"Venue\": \"Nissan Stadium\", \"Opening act(s)\": \"Camila Cabello Charli XCX\", \"Attendance (tickets sold / available)\": \"56,112 / 56,112\", \"Revenue\": \"$9,007,179\", \"Tour\": \"Reputation_Stadium_Tour\", \"tickets_sold\": 56112, \"revenue_num\": 9007179}, {\"City\": \"Detroit\", \"Country\": \"United States\", \"Venue\": \"Ford Field\", \"Opening act(s)\": \"Camila Cabello Charli XCX\", \"Attendance (tickets sold / available)\": \"49,464 / 49,464\", \"Revenue\": \"$6,597,852\", \"Tour\": \"Reputation_Stadium_Tour\", \"tickets_sold\": 49464, \"revenue_num\": 6597852}, {\"City\": \"Minneapolis\", \"Country\": \"United States\", \"Venue\": \"U.S. Bank Stadium\", \"Opening act(s)\": \"Camila Cabello Charli XCX\", \"Attendance (tickets sold / available)\": \"98,774 / 98,774\", \"Revenue\": \"$10,242,024\", \"Tour\": \"Reputation_Stadium_Tour\", \"tickets_sold\": 98774, \"revenue_num\": 10242024}, {\"City\": \"Minneapolis\", \"Country\": \"United States\", \"Venue\": \"U.S. Bank Stadium\", \"Opening act(s)\": \"Camila Cabello Charli XCX\", \"Attendance (tickets sold / available)\": \"98,774 / 98,774\", \"Revenue\": \"$10,242,024\", \"Tour\": \"Reputation_Stadium_Tour\", \"tickets_sold\": 98774, \"revenue_num\": 10242024}, {\"City\": \"Kansas City\", \"Country\": \"United States\", \"Venue\": \"Arrowhead Stadium\", \"Opening act(s)\": \"Camila Cabello Charli XCX\", \"Attendance (tickets sold / available)\": \"58,611 / 58,611\", \"Revenue\": \"$6,730,138\", \"Tour\": \"Reputation_Stadium_Tour\", \"tickets_sold\": 58611, \"revenue_num\": 6730138}, {\"City\": \"Indianapolis\", \"Country\": \"United States\", \"Venue\": \"Lucas Oil Stadium\", \"Opening act(s)\": \"Camila Cabello Charli XCX\", \"Attendance (tickets sold / available)\": \"55,729 / 55,729\", \"Revenue\": \"$6,531,245\", \"Tour\": \"Reputation_Stadium_Tour\", \"tickets_sold\": 55729, \"revenue_num\": 6531245}, {\"City\": \"St. Louis\", \"Country\": \"United States\", \"Venue\": \"The Dome at America's Center\", \"Opening act(s)\": \"Camila Cabello Charli XCX\", \"Attendance (tickets sold / available)\": \"47,831 / 47,831\", \"Revenue\": \"$4,884,054\", \"Tour\": \"Reputation_Stadium_Tour\", \"tickets_sold\": 47831, \"revenue_num\": 4884054}, {\"City\": \"New Orleans\", \"Country\": \"United States\", \"Venue\": \"Mercedes-Benz Superdome\", \"Opening act(s)\": \"Camila Cabello Charli XCX\", \"Attendance (tickets sold / available)\": \"53,172 / 53,172\", \"Revenue\": \"$6,491,546\", \"Tour\": \"Reputation_Stadium_Tour\", \"tickets_sold\": 53172, \"revenue_num\": 6491546}, {\"City\": \"Houston\", \"Country\": \"United States\", \"Venue\": \"NRG Stadium\", \"Opening act(s)\": \"Camila Cabello Charli XCX\", \"Attendance (tickets sold / available)\": \"53,800 / 53,800\", \"Revenue\": \"$9,350,275\", \"Tour\": \"Reputation_Stadium_Tour\", \"tickets_sold\": 53800, \"revenue_num\": 9350275}, {\"City\": \"Arlington\", \"Country\": \"United States\", \"Venue\": \"AT&T Stadium\", \"Opening act(s)\": \"Camila Cabello Charli XCX\", \"Attendance (tickets sold / available)\": \"105,002 / 105,002\", \"Revenue\": \"$15,006,157\", \"Tour\": \"Reputation_Stadium_Tour\", \"tickets_sold\": 105002, \"revenue_num\": 15006157}, {\"City\": \"Arlington\", \"Country\": \"United States\", \"Venue\": \"AT&T Stadium\", \"Opening act(s)\": \"Camila Cabello Charli XCX\", \"Attendance (tickets sold / available)\": \"105,002 / 105,002\", \"Revenue\": \"$15,006,157\", \"Tour\": \"Reputation_Stadium_Tour\", \"tickets_sold\": 105002, \"revenue_num\": 15006157}, {\"City\": \"Perth\", \"Country\": \"Australia\", \"Venue\": \"Optus Stadium\", \"Opening act(s)\": \"Charli XCX Broods\", \"Attendance (tickets sold / available)\": \"50,891 / 50,891\", \"Revenue\": \"$4,153,658\", \"Tour\": \"Reputation_Stadium_Tour\", \"tickets_sold\": 50891, \"revenue_num\": 4153658}, {\"City\": \"Melbourne\", \"Country\": \"Australia\", \"Venue\": \"Marvel Stadium\", \"Opening act(s)\": \"Charli XCX Broods\", \"Attendance (tickets sold / available)\": \"63,027 / 63,027\", \"Revenue\": \"$6,755,570\", \"Tour\": \"Reputation_Stadium_Tour\", \"tickets_sold\": 63027, \"revenue_num\": 6755570}, {\"City\": \"Sydney\", \"Country\": \"Australia\", \"Venue\": \"ANZ Stadium\", \"Opening act(s)\": \"Charli XCX Broods\", \"Attendance (tickets sold / available)\": \"72,805 / 72,805\", \"Revenue\": \"$7,686,564\", \"Tour\": \"Reputation_Stadium_Tour\", \"tickets_sold\": 72805, \"revenue_num\": 7686564}, {\"City\": \"Brisbane\", \"Country\": \"Australia\", \"Venue\": \"The Gabba\", \"Opening act(s)\": \"Charli XCX Broods\", \"Attendance (tickets sold / available)\": \"43,907 / 43,907\", \"Revenue\": \"$4,338,127\", \"Tour\": \"Reputation_Stadium_Tour\", \"tickets_sold\": 43907, \"revenue_num\": 4338127}, {\"City\": \"Auckland\", \"Country\": \"New Zealand\", \"Venue\": \"Mount Smart Stadium\", \"Opening act(s)\": \"Charli XCX Broods\", \"Attendance (tickets sold / available)\": \"35,749 / 35,749\", \"Revenue\": \"$3,617,593\", \"Tour\": \"Reputation_Stadium_Tour\", \"tickets_sold\": 35749, \"revenue_num\": 3617593}, {\"City\": \"Tokyo\", \"Country\": \"Japan\", \"Venue\": \"Tokyo Dome\", \"Opening act(s)\": \"Charli XCX\", \"Attendance (tickets sold / available)\": \"100,109 / 100,109\", \"Revenue\": \"$14,859,847\", \"Tour\": \"Reputation_Stadium_Tour\", \"tickets_sold\": 100109, \"revenue_num\": 14859847}, {\"City\": \"Tokyo\", \"Country\": \"Japan\", \"Venue\": \"Tokyo Dome\", \"Opening act(s)\": \"Charli XCX\", \"Attendance (tickets sold / available)\": \"100,109 / 100,109\", \"Revenue\": \"$14,859,847\", \"Tour\": \"Reputation_Stadium_Tour\", \"tickets_sold\": 100109, \"revenue_num\": 14859847}]}}, {\"mode\": \"vega-lite\"});\n",
       "</script>"
      ],
      "text/plain": [
       "alt.HConcatChart(...)"
      ]
     },
     "execution_count": 37,
     "metadata": {},
     "output_type": "execute_result"
    }
   ],
   "source": [
    "select_point = alt.selection_point(fields = ['Country', 'Opening act(s)'])\n",
    "\n",
    "color = alt.condition(select_point,\n",
    "                      alt.Color('Country:N', legend = None),\n",
    "                      alt.value('lightgray'))\n",
    "\n",
    "scatter = alt.Chart(taylor_concerts_v2).mark_point().encode(\n",
    "    alt.X('tickets_sold:Q').title('Tickets Sold'),\n",
    "    alt.Y('revenue_num:Q').title('Revenue'),\n",
    "    color = color,\n",
    "    tooltip = 'Venue:N'\n",
    ").add_params(select_point)\n",
    "\n",
    "legend = alt.Chart(taylor_concerts_v2).mark_rect().encode(\n",
    "    alt.X('Opening act(s):N'),\n",
    "    alt.Y('Country:N'),\n",
    "    color = color,\n",
    ").add_params(select_point)\n",
    "\n",
    "scatter | legend"
   ]
  },
  {
   "cell_type": "markdown",
   "metadata": {
    "id": "eVKD3ykqdyJP"
   },
   "source": [
    "Since, I did not find similar data, I had to forage for something different and think of different visualizations. So I extracted (handwritten) information from songkick website (e.x. https://www.songkick.com/artists/2083334-ed-sheeran), which has information regarding touring history, most played locations and most apperances with other artists. The shortcoming of these data is that for each artist it contains only the top 5 of each category and tours between 2021 and 2024."
   ]
  },
  {
   "cell_type": "code",
   "execution_count": 38,
   "metadata": {
    "colab": {
     "base_uri": "https://localhost:8080/",
     "height": 206
    },
    "executionInfo": {
     "elapsed": 1765,
     "status": "ok",
     "timestamp": 1716379810936,
     "user": {
      "displayName": "Alexandros Tremopoulos",
      "userId": "18030826848297166341"
     },
     "user_tz": -120
    },
    "id": "4SOQ8EJVGqV7",
    "outputId": "c28a6841-1ac3-444b-cb2d-eed58e517a5a"
   },
   "outputs": [
    {
     "data": {
      "text/html": [
       "<div>\n",
       "<style scoped>\n",
       "    .dataframe tbody tr th:only-of-type {\n",
       "        vertical-align: middle;\n",
       "    }\n",
       "\n",
       "    .dataframe tbody tr th {\n",
       "        vertical-align: top;\n",
       "    }\n",
       "\n",
       "    .dataframe thead th {\n",
       "        text-align: right;\n",
       "    }\n",
       "</style>\n",
       "<table border=\"1\" class=\"dataframe\">\n",
       "  <thead>\n",
       "    <tr style=\"text-align: right;\">\n",
       "      <th></th>\n",
       "      <th>Artist</th>\n",
       "      <th>City</th>\n",
       "      <th>Times Played</th>\n",
       "      <th>Latitude</th>\n",
       "      <th>Longitude</th>\n",
       "    </tr>\n",
       "  </thead>\n",
       "  <tbody>\n",
       "    <tr>\n",
       "      <th>0</th>\n",
       "      <td>Ed Sheeran</td>\n",
       "      <td>London</td>\n",
       "      <td>127</td>\n",
       "      <td>51.509865</td>\n",
       "      <td>-0.118092</td>\n",
       "    </tr>\n",
       "    <tr>\n",
       "      <th>1</th>\n",
       "      <td>Ed Sheeran</td>\n",
       "      <td>Manchester</td>\n",
       "      <td>29</td>\n",
       "      <td>53.483959</td>\n",
       "      <td>-2.244644</td>\n",
       "    </tr>\n",
       "    <tr>\n",
       "      <th>2</th>\n",
       "      <td>Ed Sheeran</td>\n",
       "      <td>New York  (NYC)</td>\n",
       "      <td>28</td>\n",
       "      <td>40.730610</td>\n",
       "      <td>-73.935242</td>\n",
       "    </tr>\n",
       "    <tr>\n",
       "      <th>3</th>\n",
       "      <td>Ed Sheeran</td>\n",
       "      <td>Los Angeles (LA)</td>\n",
       "      <td>27</td>\n",
       "      <td>34.052235</td>\n",
       "      <td>-118.243683</td>\n",
       "    </tr>\n",
       "    <tr>\n",
       "      <th>4</th>\n",
       "      <td>Ed Sheeran</td>\n",
       "      <td>Dublin</td>\n",
       "      <td>21</td>\n",
       "      <td>53.350140</td>\n",
       "      <td>-6.266155</td>\n",
       "    </tr>\n",
       "  </tbody>\n",
       "</table>\n",
       "</div>"
      ],
      "text/plain": [
       "       Artist              City  Times Played   Latitude   Longitude\n",
       "0  Ed Sheeran            London           127  51.509865   -0.118092\n",
       "1  Ed Sheeran        Manchester            29  53.483959   -2.244644\n",
       "2  Ed Sheeran   New York  (NYC)            28  40.730610  -73.935242\n",
       "3  Ed Sheeran  Los Angeles (LA)            27  34.052235 -118.243683\n",
       "4  Ed Sheeran            Dublin            21  53.350140   -6.266155"
      ]
     },
     "execution_count": 38,
     "metadata": {},
     "output_type": "execute_result"
    }
   ],
   "source": [
    "locations = pd.read_excel('Most played locations.xlsx')  # read cleaned dataset\n",
    "locations.head()"
   ]
  },
  {
   "cell_type": "markdown",
   "metadata": {
    "id": "1-3zcW0dgQ9w"
   },
   "source": [
    "So with the data I extracted, I though of creating **a world map** displaying the 5 most frequent places each artist has performed and a dropdown interaction to select the artist. Initally I had the 'All' selection in the dropdown, but I took it oute because while having all the Artists there is a lot of cluttering in some areas cities that artists frequently perform live. There is also the Times played variable with the bubble getting bigger with the number of concerts. Taylor Swift is again the default selected artist."
   ]
  },
  {
   "cell_type": "code",
   "execution_count": 39,
   "metadata": {
    "colab": {
     "base_uri": "https://localhost:8080/",
     "height": 467
    },
    "executionInfo": {
     "elapsed": 8,
     "status": "ok",
     "timestamp": 1716379810937,
     "user": {
      "displayName": "Alexandros Tremopoulos",
      "userId": "18030826848297166341"
     },
     "user_tz": -120
    },
    "id": "jP2oi1qf71oK",
    "outputId": "f6b4cec7-c02c-4b00-8fbc-c991585fae78"
   },
   "outputs": [
    {
     "data": {
      "text/html": [
       "\n",
       "<style>\n",
       "  #altair-viz-6909ed0762124e65aaf9fa7691ad9383.vega-embed {\n",
       "    width: 100%;\n",
       "    display: flex;\n",
       "  }\n",
       "\n",
       "  #altair-viz-6909ed0762124e65aaf9fa7691ad9383.vega-embed details,\n",
       "  #altair-viz-6909ed0762124e65aaf9fa7691ad9383.vega-embed details summary {\n",
       "    position: relative;\n",
       "  }\n",
       "</style>\n",
       "<div id=\"altair-viz-6909ed0762124e65aaf9fa7691ad9383\"></div>\n",
       "<script type=\"text/javascript\">\n",
       "  var VEGA_DEBUG = (typeof VEGA_DEBUG == \"undefined\") ? {} : VEGA_DEBUG;\n",
       "  (function(spec, embedOpt){\n",
       "    let outputDiv = document.currentScript.previousElementSibling;\n",
       "    if (outputDiv.id !== \"altair-viz-6909ed0762124e65aaf9fa7691ad9383\") {\n",
       "      outputDiv = document.getElementById(\"altair-viz-6909ed0762124e65aaf9fa7691ad9383\");\n",
       "    }\n",
       "    const paths = {\n",
       "      \"vega\": \"https://cdn.jsdelivr.net/npm/vega@5?noext\",\n",
       "      \"vega-lib\": \"https://cdn.jsdelivr.net/npm/vega-lib?noext\",\n",
       "      \"vega-lite\": \"https://cdn.jsdelivr.net/npm/vega-lite@5.17.0?noext\",\n",
       "      \"vega-embed\": \"https://cdn.jsdelivr.net/npm/vega-embed@6?noext\",\n",
       "    };\n",
       "\n",
       "    function maybeLoadScript(lib, version) {\n",
       "      var key = `${lib.replace(\"-\", \"\")}_version`;\n",
       "      return (VEGA_DEBUG[key] == version) ?\n",
       "        Promise.resolve(paths[lib]) :\n",
       "        new Promise(function(resolve, reject) {\n",
       "          var s = document.createElement('script');\n",
       "          document.getElementsByTagName(\"head\")[0].appendChild(s);\n",
       "          s.async = true;\n",
       "          s.onload = () => {\n",
       "            VEGA_DEBUG[key] = version;\n",
       "            return resolve(paths[lib]);\n",
       "          };\n",
       "          s.onerror = () => reject(`Error loading script: ${paths[lib]}`);\n",
       "          s.src = paths[lib];\n",
       "        });\n",
       "    }\n",
       "\n",
       "    function showError(err) {\n",
       "      outputDiv.innerHTML = `<div class=\"error\" style=\"color:red;\">${err}</div>`;\n",
       "      throw err;\n",
       "    }\n",
       "\n",
       "    function displayChart(vegaEmbed) {\n",
       "      vegaEmbed(outputDiv, spec, embedOpt)\n",
       "        .catch(err => showError(`Javascript Error: ${err.message}<br>This usually means there's a typo in your chart specification. See the javascript console for the full traceback.`));\n",
       "    }\n",
       "\n",
       "    if(typeof define === \"function\" && define.amd) {\n",
       "      requirejs.config({paths});\n",
       "      require([\"vega-embed\"], displayChart, err => showError(`Error loading script: ${err.message}`));\n",
       "    } else {\n",
       "      maybeLoadScript(\"vega\", \"5\")\n",
       "        .then(() => maybeLoadScript(\"vega-lite\", \"5.17.0\"))\n",
       "        .then(() => maybeLoadScript(\"vega-embed\", \"6\"))\n",
       "        .catch(showError)\n",
       "        .then(() => displayChart(vegaEmbed));\n",
       "    }\n",
       "  })({\"config\": {\"view\": {\"continuousWidth\": 300, \"continuousHeight\": 300}}, \"layer\": [{\"data\": {\"url\": \"https://cdn.jsdelivr.net/npm/vega-datasets@v1.29.0/data/world-110m.json\", \"format\": {\"feature\": \"countries\", \"type\": \"topojson\"}}, \"mark\": {\"type\": \"geoshape\", \"fill\": \"lightgray\", \"stroke\": \"white\"}, \"projection\": {\"type\": \"equirectangular\"}}, {\"data\": {\"name\": \"data-3e25d731bfe1559814467dd35a4cc69b\"}, \"mark\": {\"type\": \"circle\"}, \"encoding\": {\"color\": {\"condition\": {\"param\": \"Name_Of\", \"field\": \"Artist\", \"type\": \"nominal\", \"scale\": {\"scheme\": [\"rgb(105,239,123)\", \"rgb(216,21,180)\", \"rgb(172,225,183)\", \"rgb(120,40,87)\", \"rgb(37,184,234)\", \"rgb(32,80,46)\", \"rgb(250,175,227)\", \"rgb(52,70,109)\", \"rgb(192,225,92)\", \"rgb(114,68,185)\", \"rgb(99,161,34)\"]}}, \"value\": \"lightgray\"}, \"latitude\": {\"field\": \"Latitude\", \"type\": \"quantitative\"}, \"longitude\": {\"field\": \"Longitude\", \"type\": \"quantitative\"}, \"opacity\": {\"condition\": {\"param\": \"Name_Of\", \"value\": 1.0}, \"value\": 0.02}, \"size\": {\"condition\": {\"param\": \"Name_Of\", \"field\": \"Times Played\", \"type\": \"quantitative\"}, \"value\": 1}, \"tooltip\": [{\"field\": \"Artist\", \"type\": \"nominal\"}, {\"field\": \"City\", \"type\": \"nominal\"}, {\"field\": \"Times Played\", \"type\": \"quantitative\"}]}, \"name\": \"view_9\", \"projection\": {\"type\": \"equirectangular\"}, \"title\": \"Five most common cities each artist had live performance\", \"transform\": [{\"lookup\": \"Times Played\", \"from\": {\"data\": {\"name\": \"data-0b8bd83238ce944202f88b66e58b48be\"}, \"key\": \"id\", \"fields\": [\"name\"]}}]}], \"height\": 400, \"params\": [{\"name\": \"Name_Of\", \"select\": {\"type\": \"point\", \"fields\": [\"Artist\"]}, \"bind\": {\"input\": \"select\", \"options\": [\"Taylor Swift\", \"The Weeknd\", \"Justin Bieber\", \"Lady Gaga\", \"Rihanna\", \"Shakira\", \"Drake\", \"Ariana Grande\", \"Post Malone\", \"Ed Sheeran\", \"Billie Eilish\"], \"labels\": [\"Taylor Swift \", \"The Weeknd \", \"Justin Bieber \", \"Lady Gaga \", \"Rihanna \", \"Shakira \", \"Drake \", \"Ariana Grande \", \"Post Malone \", \"Ed Sheeran \", \"Billie Eilish \"]}, \"value\": \"Taylor Swift\", \"views\": [\"view_9\"]}], \"width\": 800, \"$schema\": \"https://vega.github.io/schema/vega-lite/v5.17.0.json\", \"datasets\": {\"data-3e25d731bfe1559814467dd35a4cc69b\": [{\"Artist\": \"Ed Sheeran\", \"City\": \"London\", \"Times Played\": 127, \"Latitude\": 51.509865, \"Longitude\": -0.118092}, {\"Artist\": \"Ed Sheeran\", \"City\": \"Manchester\", \"Times Played\": 29, \"Latitude\": 53.483959, \"Longitude\": -2.244644}, {\"Artist\": \"Ed Sheeran\", \"City\": \"New York  (NYC)\", \"Times Played\": 28, \"Latitude\": 40.73061, \"Longitude\": -73.935242}, {\"Artist\": \"Ed Sheeran\", \"City\": \"Los Angeles (LA)\", \"Times Played\": 27, \"Latitude\": 34.052235, \"Longitude\": -118.243683}, {\"Artist\": \"Ed Sheeran\", \"City\": \"Dublin\", \"Times Played\": 21, \"Latitude\": 53.35014, \"Longitude\": -6.266155}, {\"Artist\": \"Lady Gaga\", \"City\": \"Las Vegas\", \"Times Played\": 81, \"Latitude\": 36.18811, \"Longitude\": -115.176468}, {\"Artist\": \"Lady Gaga\", \"City\": \"New York  (NYC)\", \"Times Played\": 45, \"Latitude\": 40.73061, \"Longitude\": -73.935242}, {\"Artist\": \"Lady Gaga\", \"City\": \"Los Angeles (LA)\", \"Times Played\": 37, \"Latitude\": 34.052235, \"Longitude\": -118.243683}, {\"Artist\": \"Lady Gaga\", \"City\": \"London\", \"Times Played\": 28, \"Latitude\": 51.509865, \"Longitude\": -0.118092}, {\"Artist\": \"Lady Gaga\", \"City\": \"Philadeplhia\", \"Times Played\": 15, \"Latitude\": 39.952583, \"Longitude\": -75.165222}, {\"Artist\": \"Taylor Swift\", \"City\": \"Los Angeles (LA)\", \"Times Played\": 54, \"Latitude\": 34.052235, \"Longitude\": -118.243683}, {\"Artist\": \"Taylor Swift\", \"City\": \"Nashville\", \"Times Played\": 30, \"Latitude\": 36.174465, \"Longitude\": -86.76696}, {\"Artist\": \"Taylor Swift\", \"City\": \"London\", \"Times Played\": 21, \"Latitude\": 51.509865, \"Longitude\": -0.118092}, {\"Artist\": \"Taylor Swift\", \"City\": \"Chicago\", \"Times Played\": 19, \"Latitude\": 41.881832, \"Longitude\": -87.623177}, {\"Artist\": \"Taylor Swift\", \"City\": \"Atlanta\", \"Times Played\": 17, \"Latitude\": 33.753746, \"Longitude\": -84.38633}, {\"Artist\": \"Rihanna\", \"City\": \"London\", \"Times Played\": 31, \"Latitude\": 51.509865, \"Longitude\": -0.118092}, {\"Artist\": \"Rihanna\", \"City\": \"Los Angeles (LA)\", \"Times Played\": 30, \"Latitude\": 34.052235, \"Longitude\": -118.243683}, {\"Artist\": \"Rihanna\", \"City\": \"New York  (NYC)\", \"Times Played\": 16, \"Latitude\": 40.73061, \"Longitude\": -73.935242}, {\"Artist\": \"Rihanna\", \"City\": \"Philadeplhia\", \"Times Played\": 13, \"Latitude\": 39.952583, \"Longitude\": -75.165222}, {\"Artist\": \"Rihanna\", \"City\": \"Manchester\", \"Times Played\": 13, \"Latitude\": 53.483959, \"Longitude\": -2.244644}, {\"Artist\": \"Shakira\", \"City\": \"Mexico City\", \"Times Played\": 21, \"Latitude\": 19.432608, \"Longitude\": -99.133209}, {\"Artist\": \"Shakira\", \"City\": \"Miami\", \"Times Played\": 16, \"Latitude\": 25.793449, \"Longitude\": -80.139198}, {\"Artist\": \"Shakira\", \"City\": \"Madrid\", \"Times Played\": 14, \"Latitude\": 40.416775, \"Longitude\": -3.70379}, {\"Artist\": \"Shakira\", \"City\": \"New York  (NYC)\", \"Times Played\": 13, \"Latitude\": 40.73061, \"Longitude\": -73.935242}, {\"Artist\": \"Shakira\", \"City\": \"Los Angeles (LA)\", \"Times Played\": 13, \"Latitude\": 34.052235, \"Longitude\": -118.243683}, {\"Artist\": \"Drake\", \"City\": \"Los Angeles (LA)\", \"Times Played\": 39, \"Latitude\": 34.052235, \"Longitude\": -118.243683}, {\"Artist\": \"Drake\", \"City\": \"New York  (NYC)\", \"Times Played\": 35, \"Latitude\": 40.73061, \"Longitude\": -73.935242}, {\"Artist\": \"Drake\", \"City\": \"London\", \"Times Played\": 28, \"Latitude\": 51.509865, \"Longitude\": -0.118092}, {\"Artist\": \"Drake\", \"City\": \"Toronto\", \"Times Played\": 23, \"Latitude\": 43.65107, \"Longitude\": -79.347015}, {\"Artist\": \"Drake\", \"City\": \"Las Vegas\", \"Times Played\": 20, \"Latitude\": 36.18811, \"Longitude\": -115.176468}, {\"Artist\": \"Post Malone\", \"City\": \"Los Angeles (LA)\", \"Times Played\": 43, \"Latitude\": 34.052235, \"Longitude\": -118.243683}, {\"Artist\": \"Post Malone\", \"City\": \"New York  (NYC)\", \"Times Played\": 23, \"Latitude\": 40.73061, \"Longitude\": -73.935242}, {\"Artist\": \"Post Malone\", \"City\": \"Toronto\", \"Times Played\": 19, \"Latitude\": 43.65107, \"Longitude\": -79.347015}, {\"Artist\": \"Post Malone\", \"City\": \"Philadeplhia\", \"Times Played\": 19, \"Latitude\": 39.952583, \"Longitude\": -75.165222}, {\"Artist\": \"Post Malone\", \"City\": \"Chicago\", \"Times Played\": 16, \"Latitude\": 41.881832, \"Longitude\": -87.623177}, {\"Artist\": \"The Weeknd\", \"City\": \"Las Vegas\", \"Times Played\": 25, \"Latitude\": 36.18811, \"Longitude\": -115.176468}, {\"Artist\": \"The Weeknd\", \"City\": \"Los Angeles (LA)\", \"Times Played\": 25, \"Latitude\": 34.052235, \"Longitude\": -118.243683}, {\"Artist\": \"The Weeknd\", \"City\": \"London\", \"Times Played\": 20, \"Latitude\": 51.509865, \"Longitude\": -0.118092}, {\"Artist\": \"The Weeknd\", \"City\": \"New York  (NYC)\", \"Times Played\": 20, \"Latitude\": 40.73061, \"Longitude\": -73.935242}, {\"Artist\": \"The Weeknd\", \"City\": \"Toronto\", \"Times Played\": 20, \"Latitude\": 43.65107, \"Longitude\": -79.347015}, {\"Artist\": \"Justin Bieber\", \"City\": \"Los Angeles (LA)\", \"Times Played\": 35, \"Latitude\": 34.052235, \"Longitude\": -118.243683}, {\"Artist\": \"Justin Bieber\", \"City\": \"London\", \"Times Played\": 23, \"Latitude\": 51.509865, \"Longitude\": -0.118092}, {\"Artist\": \"Justin Bieber\", \"City\": \"New York  (NYC)\", \"Times Played\": 21, \"Latitude\": 40.73061, \"Longitude\": -73.935242}, {\"Artist\": \"Justin Bieber\", \"City\": \"Chicago\", \"Times Played\": 13, \"Latitude\": 41.881832, \"Longitude\": -87.623177}, {\"Artist\": \"Justin Bieber\", \"City\": \"Philadeplhia\", \"Times Played\": 13, \"Latitude\": 39.952583, \"Longitude\": -75.165222}, {\"Artist\": \"Ariana Grande\", \"City\": \"Los Angeles (LA)\", \"Times Played\": 31, \"Latitude\": 34.052235, \"Longitude\": -118.243683}, {\"Artist\": \"Ariana Grande\", \"City\": \"New York  (NYC)\", \"Times Played\": 24, \"Latitude\": 40.73061, \"Longitude\": -73.935242}, {\"Artist\": \"Ariana Grande\", \"City\": \"Chicago\", \"Times Played\": 13, \"Latitude\": 41.881832, \"Longitude\": -87.623177}, {\"Artist\": \"Ariana Grande\", \"City\": \"Las Vegas\", \"Times Played\": 12, \"Latitude\": 36.18811, \"Longitude\": -115.176468}, {\"Artist\": \"Ariana Grande\", \"City\": \"London\", \"Times Played\": 9, \"Latitude\": 51.509865, \"Longitude\": -0.118092}, {\"Artist\": \"Billie Eilish\", \"City\": \"Los Angeles (LA)\", \"Times Played\": 33, \"Latitude\": 34.052235, \"Longitude\": -118.243683}, {\"Artist\": \"Billie Eilish\", \"City\": \"New York  (NYC)\", \"Times Played\": 16, \"Latitude\": 40.73061, \"Longitude\": -73.935242}, {\"Artist\": \"Billie Eilish\", \"City\": \"London\", \"Times Played\": 16, \"Latitude\": 51.509865, \"Longitude\": -0.118092}, {\"Artist\": \"Billie Eilish\", \"City\": \"San Diego\", \"Times Played\": 9, \"Latitude\": 41.881832, \"Longitude\": -87.623177}, {\"Artist\": \"Billie Eilish\", \"City\": \"Chicago\", \"Times Played\": 8, \"Latitude\": 32.7157, \"Longitude\": -117.161087}], \"data-0b8bd83238ce944202f88b66e58b48be\": [{\"id\": 0, \"name\": \"Taylor Swift\"}, {\"id\": 1, \"name\": \"The Weeknd\"}, {\"id\": 2, \"name\": \"Justin Bieber\"}, {\"id\": 3, \"name\": \"Lady Gaga\"}, {\"id\": 4, \"name\": \"Rihanna\"}, {\"id\": 6, \"name\": \"Shakira\"}, {\"id\": 7, \"name\": \"Drake\"}, {\"id\": 8, \"name\": \"Ariana Grande\"}, {\"id\": 9, \"name\": \"Post Malone\"}, {\"id\": 10, \"name\": \"Ed Sheeran\"}, {\"id\": 11, \"name\": \"Billie Eilish\"}]}}, {\"mode\": \"vega-lite\"});\n",
       "</script>"
      ],
      "text/plain": [
       "alt.LayerChart(...)"
      ]
     },
     "execution_count": 39,
     "metadata": {},
     "output_type": "execute_result"
    }
   ],
   "source": [
    "world_map = alt.topo_feature(\"https://cdn.jsdelivr.net/npm/vega-datasets@v1.29.0/data/world-110m.json\", 'countries')\n",
    "\n",
    "# Create the base world map chart\n",
    "worldChart = alt.Chart(world_map).mark_geoshape(\n",
    "    fill='lightgray',\n",
    "    stroke='white',\n",
    ").properties(\n",
    "    width=800,\n",
    "    height=400\n",
    ").project(\n",
    "    \"equirectangular\"\n",
    ")\n",
    "\n",
    "clusters = pd.DataFrame([\n",
    "    {\"id\": 0, \"name\": \"Taylor Swift\"},\n",
    "    {\"id\": 1, \"name\": \"The Weeknd\"},\n",
    "    {\"id\": 2, \"name\": \"Justin Bieber\"},\n",
    "    {\"id\": 3, \"name\": \"Lady Gaga\"},\n",
    "    {\"id\": 4, \"name\": \"Rihanna\"},\n",
    "    {\"id\": 6, \"name\": \"Shakira\"},\n",
    "    {\"id\": 7, \"name\": \"Drake\"},\n",
    "    {\"id\": 8, \"name\": \"Ariana Grande\"},\n",
    "    {\"id\": 9, \"name\": \"Post Malone\"},\n",
    "    {\"id\": 10, \"name\": \"Ed Sheeran\"},\n",
    "    {\"id\": 11, \"name\": \"Billie Eilish\"}\n",
    "])\n",
    "\n",
    "dropdown_options = list(clusters['name'])\n",
    "labels = [option + ' ' for option in dropdown_options]\n",
    "\n",
    "cluster_dropdown = alt.binding_select(\n",
    "    options=dropdown_options,\n",
    "    labels=labels,)\n",
    "dropSelect = alt.selection_point(fields = ['Artist'],value='Taylor Swift',\n",
    "                                 bind = cluster_dropdown, name = 'Name_Of')\n",
    "\n",
    "\n",
    "map_plot = alt.Chart(locations).mark_circle().encode(\n",
    "    longitude='Longitude:Q',\n",
    "    latitude='Latitude:Q',\n",
    "    color = alt.condition(dropSelect, 'Artist:N', alt.value('lightgray'), scale = alt.Scale(scheme = colorgorical)),\n",
    "    size = alt.condition(dropSelect, 'Times Played:Q', alt.value(1)),\n",
    "    opacity = alt.condition(dropSelect, alt.value(1.0), alt.value(0.02)),\n",
    "    tooltip=['Artist:N','City:N','Times Played:Q']\n",
    ").project(\n",
    "    type=\"equirectangular\"\n",
    ").transform_lookup(\n",
    "    lookup = 'Times Played',\n",
    "    from_ = alt.LookupData(\n",
    "        data = clusters, key = 'id', fields = ['name']\n",
    "    )\n",
    ").add_params(dropSelect).properties(title = r\"Five most common cities each artist had live performance\")\n",
    "\n",
    "chq4a = worldChart + map_plot\n",
    "chq4a"
   ]
  },
  {
   "cell_type": "markdown",
   "metadata": {
    "id": "U6lhr4nhhtJI"
   },
   "source": [
    "I also wanted to create a chart utilizing the information regarding the artists that our main artists have appeared with."
   ]
  },
  {
   "cell_type": "code",
   "execution_count": 40,
   "metadata": {
    "colab": {
     "base_uri": "https://localhost:8080/",
     "height": 206
    },
    "executionInfo": {
     "elapsed": 825,
     "status": "ok",
     "timestamp": 1716379812114,
     "user": {
      "displayName": "Alexandros Tremopoulos",
      "userId": "18030826848297166341"
     },
     "user_tz": -120
    },
    "id": "7TgFvUf1Gvq1",
    "outputId": "86f24e34-7547-420a-9203-c92b867db300"
   },
   "outputs": [
    {
     "data": {
      "text/html": [
       "<div>\n",
       "<style scoped>\n",
       "    .dataframe tbody tr th:only-of-type {\n",
       "        vertical-align: middle;\n",
       "    }\n",
       "\n",
       "    .dataframe tbody tr th {\n",
       "        vertical-align: top;\n",
       "    }\n",
       "\n",
       "    .dataframe thead th {\n",
       "        text-align: right;\n",
       "    }\n",
       "</style>\n",
       "<table border=\"1\" class=\"dataframe\">\n",
       "  <thead>\n",
       "    <tr style=\"text-align: right;\">\n",
       "      <th></th>\n",
       "      <th>Artist</th>\n",
       "      <th>Arist with</th>\n",
       "      <th>Times played</th>\n",
       "    </tr>\n",
       "  </thead>\n",
       "  <tbody>\n",
       "    <tr>\n",
       "      <th>0</th>\n",
       "      <td>Ed Sheeran</td>\n",
       "      <td>Passenger</td>\n",
       "      <td>86</td>\n",
       "    </tr>\n",
       "    <tr>\n",
       "      <th>1</th>\n",
       "      <td>Ed Sheeran</td>\n",
       "      <td>Taylor Swift</td>\n",
       "      <td>75</td>\n",
       "    </tr>\n",
       "    <tr>\n",
       "      <th>2</th>\n",
       "      <td>Ed Sheeran</td>\n",
       "      <td>Jamie Lawson</td>\n",
       "      <td>64</td>\n",
       "    </tr>\n",
       "    <tr>\n",
       "      <th>3</th>\n",
       "      <td>Ed Sheeran</td>\n",
       "      <td>Maisie Peters</td>\n",
       "      <td>59</td>\n",
       "    </tr>\n",
       "    <tr>\n",
       "      <th>4</th>\n",
       "      <td>Ed Sheeran</td>\n",
       "      <td>James Blunt</td>\n",
       "      <td>58</td>\n",
       "    </tr>\n",
       "  </tbody>\n",
       "</table>\n",
       "</div>"
      ],
      "text/plain": [
       "       Artist     Arist with  Times played\n",
       "0  Ed Sheeran      Passenger            86\n",
       "1  Ed Sheeran   Taylor Swift            75\n",
       "2  Ed Sheeran   Jamie Lawson            64\n",
       "3  Ed Sheeran  Maisie Peters            59\n",
       "4  Ed Sheeran    James Blunt            58"
      ]
     },
     "execution_count": 40,
     "metadata": {},
     "output_type": "execute_result"
    }
   ],
   "source": [
    "played_with = pd.read_excel('Most played with.xlsx')  # read cleaned dataset\n",
    "played_with.head()"
   ]
  },
  {
   "cell_type": "markdown",
   "metadata": {
    "id": "1s0n8QrkiGwm"
   },
   "source": [
    "My thought was to create a **word cloud** with all the featured artists. However, there would be at least some cluttering. Word cloud does not exist in altair, so I had to create it. To do this, I assign random x,y values in each featured artist. This avoid some cluttering, but it is still there and every time you call the function different x,y coordinates will be returned. Even if I dont allow the All selection in the dropdown there are cases where there is cluttering in the same artist. You can see the chart in the next cells."
   ]
  },
  {
   "cell_type": "code",
   "execution_count": 41,
   "metadata": {
    "executionInfo": {
     "elapsed": 7,
     "status": "ok",
     "timestamp": 1716379812115,
     "user": {
      "displayName": "Alexandros Tremopoulos",
      "userId": "18030826848297166341"
     },
     "user_tz": -120
    },
    "id": "KxGVx5q0iWvH"
   },
   "outputs": [],
   "source": [
    "def shuffled_range(n): return random.sample(range(n), k=n)\n",
    "n = len(played_with)\n",
    "x = shuffled_range(n)\n",
    "y = shuffled_range(n)\n",
    "data = played_with.assign(x=x, y=y)"
   ]
  },
  {
   "cell_type": "code",
   "execution_count": 42,
   "metadata": {
    "colab": {
     "base_uri": "https://localhost:8080/",
     "height": 469
    },
    "executionInfo": {
     "elapsed": 7,
     "status": "ok",
     "timestamp": 1716379812115,
     "user": {
      "displayName": "Alexandros Tremopoulos",
      "userId": "18030826848297166341"
     },
     "user_tz": -120
    },
    "id": "yTA-wqsZiaR8",
    "outputId": "2a4129c4-3838-4557-f0ee-ec670e882355"
   },
   "outputs": [
    {
     "data": {
      "text/html": [
       "\n",
       "<style>\n",
       "  #altair-viz-4c9bdb024b70426bb72b7d98a8bdc1a7.vega-embed {\n",
       "    width: 100%;\n",
       "    display: flex;\n",
       "  }\n",
       "\n",
       "  #altair-viz-4c9bdb024b70426bb72b7d98a8bdc1a7.vega-embed details,\n",
       "  #altair-viz-4c9bdb024b70426bb72b7d98a8bdc1a7.vega-embed details summary {\n",
       "    position: relative;\n",
       "  }\n",
       "</style>\n",
       "<div id=\"altair-viz-4c9bdb024b70426bb72b7d98a8bdc1a7\"></div>\n",
       "<script type=\"text/javascript\">\n",
       "  var VEGA_DEBUG = (typeof VEGA_DEBUG == \"undefined\") ? {} : VEGA_DEBUG;\n",
       "  (function(spec, embedOpt){\n",
       "    let outputDiv = document.currentScript.previousElementSibling;\n",
       "    if (outputDiv.id !== \"altair-viz-4c9bdb024b70426bb72b7d98a8bdc1a7\") {\n",
       "      outputDiv = document.getElementById(\"altair-viz-4c9bdb024b70426bb72b7d98a8bdc1a7\");\n",
       "    }\n",
       "    const paths = {\n",
       "      \"vega\": \"https://cdn.jsdelivr.net/npm/vega@5?noext\",\n",
       "      \"vega-lib\": \"https://cdn.jsdelivr.net/npm/vega-lib?noext\",\n",
       "      \"vega-lite\": \"https://cdn.jsdelivr.net/npm/vega-lite@5.17.0?noext\",\n",
       "      \"vega-embed\": \"https://cdn.jsdelivr.net/npm/vega-embed@6?noext\",\n",
       "    };\n",
       "\n",
       "    function maybeLoadScript(lib, version) {\n",
       "      var key = `${lib.replace(\"-\", \"\")}_version`;\n",
       "      return (VEGA_DEBUG[key] == version) ?\n",
       "        Promise.resolve(paths[lib]) :\n",
       "        new Promise(function(resolve, reject) {\n",
       "          var s = document.createElement('script');\n",
       "          document.getElementsByTagName(\"head\")[0].appendChild(s);\n",
       "          s.async = true;\n",
       "          s.onload = () => {\n",
       "            VEGA_DEBUG[key] = version;\n",
       "            return resolve(paths[lib]);\n",
       "          };\n",
       "          s.onerror = () => reject(`Error loading script: ${paths[lib]}`);\n",
       "          s.src = paths[lib];\n",
       "        });\n",
       "    }\n",
       "\n",
       "    function showError(err) {\n",
       "      outputDiv.innerHTML = `<div class=\"error\" style=\"color:red;\">${err}</div>`;\n",
       "      throw err;\n",
       "    }\n",
       "\n",
       "    function displayChart(vegaEmbed) {\n",
       "      vegaEmbed(outputDiv, spec, embedOpt)\n",
       "        .catch(err => showError(`Javascript Error: ${err.message}<br>This usually means there's a typo in your chart specification. See the javascript console for the full traceback.`));\n",
       "    }\n",
       "\n",
       "    if(typeof define === \"function\" && define.amd) {\n",
       "      requirejs.config({paths});\n",
       "      require([\"vega-embed\"], displayChart, err => showError(`Error loading script: ${err.message}`));\n",
       "    } else {\n",
       "      maybeLoadScript(\"vega\", \"5\")\n",
       "        .then(() => maybeLoadScript(\"vega-lite\", \"5.17.0\"))\n",
       "        .then(() => maybeLoadScript(\"vega-embed\", \"6\"))\n",
       "        .catch(showError)\n",
       "        .then(() => displayChart(vegaEmbed));\n",
       "    }\n",
       "  })({\"config\": {\"view\": {\"continuousWidth\": 300, \"continuousHeight\": 300, \"strokeWidth\": 0}}, \"data\": {\"name\": \"data-898a96d2ad94d6195fd6e7f1ff2d0809\"}, \"mark\": {\"type\": \"text\", \"baseline\": \"middle\"}, \"encoding\": {\"color\": {\"condition\": {\"param\": \"Name_Of\", \"field\": \"Artist\", \"type\": \"nominal\", \"scale\": {\"scheme\": [\"rgb(105,239,123)\", \"rgb(216,21,180)\", \"rgb(172,225,183)\", \"rgb(120,40,87)\", \"rgb(37,184,234)\", \"rgb(32,80,46)\", \"rgb(250,175,227)\", \"rgb(52,70,109)\", \"rgb(192,225,92)\", \"rgb(114,68,185)\", \"rgb(99,161,34)\"]}}, \"value\": \"lightgray\"}, \"opacity\": {\"condition\": {\"param\": \"Name_Of\", \"value\": 1.0}, \"value\": 0.02}, \"size\": {\"field\": \"Times played\", \"legend\": null, \"type\": \"quantitative\"}, \"text\": {\"field\": \"Arist with\", \"type\": \"nominal\"}, \"tooltip\": [{\"field\": \"Artist\", \"title\": \"Artist:\", \"type\": \"nominal\"}, {\"field\": \"Arist with\", \"title\": \"Played with Artist:\", \"type\": \"nominal\"}, {\"field\": \"Times played\", \"title\": \"Times played togheter:\", \"type\": \"quantitative\"}], \"x\": {\"axis\": null, \"field\": \"x\", \"type\": \"ordinal\"}, \"y\": {\"axis\": null, \"field\": \"y\", \"type\": \"ordinal\"}}, \"height\": 400, \"params\": [{\"name\": \"Name_Of\", \"select\": {\"type\": \"point\", \"fields\": [\"Artist\"]}, \"bind\": {\"input\": \"select\", \"options\": [\"Taylor Swift\", \"The Weeknd\", \"Justin Bieber\", \"Lady Gaga\", \"Rihanna\", \"Shakira\", \"Drake\", \"Ariana Grande\", \"Post Malone\", \"Ed Sheeran\", \"Billie Eilish\", null], \"labels\": [\"Taylor Swift \", \"The Weeknd \", \"Justin Bieber \", \"Lady Gaga \", \"Rihanna \", \"Shakira \", \"Drake \", \"Ariana Grande \", \"Post Malone \", \"Ed Sheeran \", \"Billie Eilish \", \"All\"]}}], \"title\": \"Five artists with most common live performances per artist\", \"transform\": [{\"lookup\": \"Times Played\", \"from\": {\"data\": {\"name\": \"data-0b8bd83238ce944202f88b66e58b48be\"}, \"key\": \"id\", \"fields\": [\"name\"]}}], \"width\": 500, \"$schema\": \"https://vega.github.io/schema/vega-lite/v5.17.0.json\", \"datasets\": {\"data-898a96d2ad94d6195fd6e7f1ff2d0809\": [{\"Artist\": \"Ed Sheeran\", \"Arist with\": \"Passenger\", \"Times played\": 86, \"x\": 12, \"y\": 18}, {\"Artist\": \"Ed Sheeran\", \"Arist with\": \"Taylor Swift\", \"Times played\": 75, \"x\": 40, \"y\": 14}, {\"Artist\": \"Ed Sheeran\", \"Arist with\": \"Jamie Lawson\", \"Times played\": 64, \"x\": 42, \"y\": 6}, {\"Artist\": \"Ed Sheeran\", \"Arist with\": \"Maisie Peters\", \"Times played\": 59, \"x\": 8, \"y\": 29}, {\"Artist\": \"Ed Sheeran\", \"Arist with\": \"James Blunt\", \"Times played\": 58, \"x\": 6, \"y\": 27}, {\"Artist\": \"Lady Gaga\", \"Arist with\": \"Lady Starlight\", \"Times played\": 171, \"x\": 48, \"y\": 33}, {\"Artist\": \"Lady Gaga\", \"Arist with\": \"Semi Precious Weapons\", \"Times played\": 102, \"x\": 29, \"y\": 13}, {\"Artist\": \"Lady Gaga\", \"Arist with\": \"The Darkness\", \"Times played\": 46, \"x\": 50, \"y\": 46}, {\"Artist\": \"Lady Gaga\", \"Arist with\": \"Tony Bennett\", \"Times played\": 38, \"x\": 33, \"y\": 5}, {\"Artist\": \"Lady Gaga\", \"Arist with\": \"The Pussycat Dolls\", \"Times played\": 33, \"x\": 19, \"y\": 24}, {\"Artist\": \"Taylor Swift\", \"Arist with\": \"Kellie Pickler\", \"Times played\": 98, \"x\": 46, \"y\": 52}, {\"Artist\": \"Taylor Swift\", \"Arist with\": \"Gloriana\", \"Times played\": 92, \"x\": 54, \"y\": 25}, {\"Artist\": \"Taylor Swift\", \"Arist with\": \"Needtobreathe\", \"Times played\": 83, \"x\": 43, \"y\": 10}, {\"Artist\": \"Taylor Swift\", \"Arist with\": \"Ed Sheeran\", \"Times played\": 75, \"x\": 13, \"y\": 28}, {\"Artist\": \"Taylor Swift\", \"Arist with\": \"Rascal Flatts\", \"Times played\": 60, \"x\": 31, \"y\": 15}, {\"Artist\": \"Rihanna\", \"Arist with\": \"Calvin Harris\", \"Times played\": 77, \"x\": 38, \"y\": 41}, {\"Artist\": \"Rihanna\", \"Arist with\": \"Kanye West\", \"Times played\": 59, \"x\": 20, \"y\": 48}, {\"Artist\": \"Rihanna\", \"Arist with\": \"Good Times Ahead\", \"Times played\": 50, \"x\": 22, \"y\": 45}, {\"Artist\": \"Rihanna\", \"Arist with\": \"N.E.R.D.\", \"Times played\": 49, \"x\": 32, \"y\": 21}, {\"Artist\": \"Rihanna\", \"Arist with\": \"Lupe Fiasco\", \"Times played\": 46, \"x\": 35, \"y\": 22}, {\"Artist\": \"Shakira\", \"Arist with\": \"Salva\", \"Times played\": 36, \"x\": 14, \"y\": 36}, {\"Artist\": \"Shakira\", \"Arist with\": \"Wyclef Jean\", \"Times played\": 31, \"x\": 0, \"y\": 8}, {\"Artist\": \"Shakira\", \"Arist with\": \"Ricky Martin\", \"Times played\": 11, \"x\": 36, \"y\": 23}, {\"Artist\": \"Shakira\", \"Arist with\": \"Alejandro Sanz\", \"Times played\": 10, \"x\": 27, \"y\": 38}, {\"Artist\": \"Shakira\", \"Arist with\": \"Ziggy Marley\", \"Times played\": 8, \"x\": 47, \"y\": 42}, {\"Artist\": \"Drake\", \"Arist with\": \"Future\", \"Times played\": 97, \"x\": 34, \"y\": 37}, {\"Artist\": \"Drake\", \"Arist with\": \"Lil Wayne\", \"Times played\": 63, \"x\": 3, \"y\": 51}, {\"Artist\": \"Drake\", \"Arist with\": \"J. Cole\", \"Times played\": 57, \"x\": 41, \"y\": 19}, {\"Artist\": \"Drake\", \"Arist with\": \"Miguel\", \"Times played\": 54, \"x\": 25, \"y\": 50}, {\"Artist\": \"Drake\", \"Arist with\": \"Roy Woods\", \"Times played\": 51, \"x\": 23, \"y\": 12}, {\"Artist\": \"Post Malone\", \"Arist with\": \"Tyla Yaweh\", \"Times played\": 68, \"x\": 21, \"y\": 34}, {\"Artist\": \"Post Malone\", \"Arist with\": \"Justin Bieber\", \"Times played\": 60, \"x\": 17, \"y\": 47}, {\"Artist\": \"Post Malone\", \"Arist with\": \"Moxie Raia\", \"Times played\": 59, \"x\": 16, \"y\": 20}, {\"Artist\": \"Post Malone\", \"Arist with\": \"Swae Lee\", \"Times played\": 42, \"x\": 7, \"y\": 39}, {\"Artist\": \"Post Malone\", \"Arist with\": \"Roddy Ricch\", \"Times played\": 38, \"x\": 26, \"y\": 43}, {\"Artist\": \"The Weeknd\", \"Arist with\": \"Kaytranada\", \"Times played\": 50, \"x\": 9, \"y\": 49}, {\"Artist\": \"The Weeknd\", \"Arist with\": \"BANKS\", \"Times played\": 49, \"x\": 5, \"y\": 9}, {\"Artist\": \"The Weeknd\", \"Arist with\": \"Mike Dean\", \"Times played\": 49, \"x\": 1, \"y\": 31}, {\"Artist\": \"The Weeknd\", \"Arist with\": \"Travis Scott\", \"Times played\": 31, \"x\": 2, \"y\": 11}, {\"Artist\": \"The Weeknd\", \"Arist with\": \"Drake\", \"Times played\": 24, \"x\": 24, \"y\": 0}, {\"Artist\": \"Justin Bieber\", \"Arist with\": \"Carly Rae Jepsen\", \"Times played\": 70, \"x\": 52, \"y\": 3}, {\"Artist\": \"Justin Bieber\", \"Arist with\": \"Moxie Raia \", \"Times played\": 64, \"x\": 44, \"y\": 53}, {\"Artist\": \"Justin Bieber\", \"Arist with\": \"Cody Simpson\", \"Times played\": 61, \"x\": 28, \"y\": 26}, {\"Artist\": \"Justin Bieber\", \"Arist with\": \"Post Malone\", \"Times played\": 60, \"x\": 10, \"y\": 44}, {\"Artist\": \"Justin Bieber\", \"Arist with\": \"Sean Kingston\", \"Times played\": 51, \"x\": 45, \"y\": 32}, {\"Artist\": \"Ariana Grande\", \"Arist with\": \"Social House\", \"Times played\": 78, \"x\": 18, \"y\": 17}, {\"Artist\": \"Ariana Grande\", \"Arist with\": \"Victoria Mon\\u00e9t\", \"Times played\": 56, \"x\": 49, \"y\": 7}, {\"Artist\": \"Ariana Grande\", \"Arist with\": \"Normani\", \"Times played\": 54, \"x\": 15, \"y\": 40}, {\"Artist\": \"Ariana Grande\", \"Arist with\": \"push baby\", \"Times played\": 41, \"x\": 39, \"y\": 30}, {\"Artist\": \"Ariana Grande\", \"Arist with\": \"Prince Royce\", \"Times played\": 37, \"x\": 53, \"y\": 1}, {\"Artist\": \"Billie Eilish\", \"Arist with\": \"Denzel Curry\", \"Times played\": 32, \"x\": 37, \"y\": 2}, {\"Artist\": \"Billie Eilish\", \"Arist with\": \"Duckwirth\", \"Times played\": 30, \"x\": 4, \"y\": 35}, {\"Artist\": \"Billie Eilish\", \"Arist with\": \"Jessie Reyez\", \"Times played\": 23, \"x\": 11, \"y\": 16}, {\"Artist\": \"Billie Eilish\", \"Arist with\": \"FINNEAS\", \"Times played\": 21, \"x\": 30, \"y\": 4}, {\"Artist\": \"Billie Eilish\", \"Arist with\": \"SOFI TUCKER\", \"Times played\": 17, \"x\": 51, \"y\": 54}], \"data-0b8bd83238ce944202f88b66e58b48be\": [{\"id\": 0, \"name\": \"Taylor Swift\"}, {\"id\": 1, \"name\": \"The Weeknd\"}, {\"id\": 2, \"name\": \"Justin Bieber\"}, {\"id\": 3, \"name\": \"Lady Gaga\"}, {\"id\": 4, \"name\": \"Rihanna\"}, {\"id\": 6, \"name\": \"Shakira\"}, {\"id\": 7, \"name\": \"Drake\"}, {\"id\": 8, \"name\": \"Ariana Grande\"}, {\"id\": 9, \"name\": \"Post Malone\"}, {\"id\": 10, \"name\": \"Ed Sheeran\"}, {\"id\": 11, \"name\": \"Billie Eilish\"}]}}, {\"mode\": \"vega-lite\"});\n",
       "</script>"
      ],
      "text/plain": [
       "alt.Chart(...)"
      ]
     },
     "execution_count": 42,
     "metadata": {},
     "output_type": "execute_result"
    }
   ],
   "source": [
    "clusters = pd.DataFrame([\n",
    "    {\"id\": 0, \"name\": \"Taylor Swift\"},\n",
    "    {\"id\": 1, \"name\": \"The Weeknd\"},\n",
    "    {\"id\": 2, \"name\": \"Justin Bieber\"},\n",
    "    {\"id\": 3, \"name\": \"Lady Gaga\"},\n",
    "    {\"id\": 4, \"name\": \"Rihanna\"},\n",
    "    {\"id\": 6, \"name\": \"Shakira\"},\n",
    "    {\"id\": 7, \"name\": \"Drake\"},\n",
    "    {\"id\": 8, \"name\": \"Ariana Grande\"},\n",
    "    {\"id\": 9, \"name\": \"Post Malone\"},\n",
    "    {\"id\": 10, \"name\": \"Ed Sheeran\"},\n",
    "    {\"id\": 11, \"name\": \"Billie Eilish\"}\n",
    "])\n",
    "\n",
    "dropdown_options = list(clusters['name'])\n",
    "labels = [option + ' ' for option in dropdown_options]\n",
    "\n",
    "cluster_dropdown = alt.binding_select(\n",
    "    options=dropdown_options + [None],\n",
    "    labels=labels + ['All'],)\n",
    "dropSelect = alt.selection_point(fields = ['Artist'],\n",
    "                                 bind = cluster_dropdown, name = 'Name_Of')\n",
    "\n",
    "base = alt.Chart(data).encode(\n",
    "    x=alt.X('x:O', axis=None),\n",
    "    y=alt.Y('y:O', axis=None)\n",
    ")\n",
    "\n",
    "chq4b = base.mark_text(baseline='middle').encode(\n",
    "    text='Arist with:N',\n",
    "    size=alt.Size('Times played:Q', legend=None),\n",
    "    color = alt.condition(dropSelect, 'Artist:N', alt.value('lightgray'), scale = alt.Scale(scheme = colorgorical)),\n",
    "    opacity = alt.condition(dropSelect, alt.value(1.0), alt.value(0.02)),\n",
    "    tooltip=[alt.Tooltip('Artist:N', title='Artist:'), alt.Tooltip('Arist with:N', title='Played with Artist:'), alt.Tooltip('Times played:Q', title='Times played togheter:')]\n",
    ").transform_lookup(\n",
    "    lookup = 'Times Played',\n",
    "    from_ = alt.LookupData(\n",
    "        data = clusters, key = 'id', fields = ['name']\n",
    "    )\n",
    ").add_params(dropSelect\n",
    ").properties(title = r\"Five artists with most common live performances per artist\", width=500, height=400\n",
    ")\n",
    "chq4b.configure_view(strokeWidth=0)"
   ]
  },
  {
   "cell_type": "markdown",
   "metadata": {
    "id": "FlYEGi7ni9Du"
   },
   "source": [
    "Due to the above reasons I decided to give specific coordinates in each featured artist. This way there is no cluttering. But I have to take out once again the 'All' selection anf give Taylor Swift as default selected value. As mentioned I do this once again with dropdown selection the same palette and the appropriate tooltips."
   ]
  },
  {
   "cell_type": "code",
   "execution_count": 43,
   "metadata": {
    "executionInfo": {
     "elapsed": 6,
     "status": "ok",
     "timestamp": 1716379812115,
     "user": {
      "displayName": "Alexandros Tremopoulos",
      "userId": "18030826848297166341"
     },
     "user_tz": -120
    },
    "id": "4502wOOlKWM7"
   },
   "outputs": [],
   "source": [
    "def shuffled_range(n): return random.sample(range(n), k=n)\n",
    "n = len(played_with)\n",
    "x = [0,0,0,0,0,5,5,5,5,5,10,10,10,10,10,15,15,15,15,15,20,20,20,20,20,25,25,25,25,25,30,30,30,30,30,35,35,35,35,35,40,40,40,40,40,45,45,45,45,45,50,50,50,50,50]\n",
    "y = [5,15,25,35,45,5,15,25,35,45,5,15,25,35,45,5,15,25,35,45,5,15,25,35,45,5,15,25,35,45,5,15,25,35,45,5,15,25,35,45,5,15,25,35,45,5,15,25,35,45,5,15,25,35,45]\n",
    "data = played_with.assign(x=x, y=y)"
   ]
  },
  {
   "cell_type": "code",
   "execution_count": 44,
   "metadata": {
    "colab": {
     "base_uri": "https://localhost:8080/",
     "height": 467
    },
    "executionInfo": {
     "elapsed": 6,
     "status": "ok",
     "timestamp": 1716379812115,
     "user": {
      "displayName": "Alexandros Tremopoulos",
      "userId": "18030826848297166341"
     },
     "user_tz": -120
    },
    "id": "76H8WCacJUhb",
    "outputId": "d845de99-fc7e-4177-b112-03cc57a290d0"
   },
   "outputs": [
    {
     "data": {
      "text/html": [
       "\n",
       "<style>\n",
       "  #altair-viz-819b64f88fa745b2ae7fd98127d31b6c.vega-embed {\n",
       "    width: 100%;\n",
       "    display: flex;\n",
       "  }\n",
       "\n",
       "  #altair-viz-819b64f88fa745b2ae7fd98127d31b6c.vega-embed details,\n",
       "  #altair-viz-819b64f88fa745b2ae7fd98127d31b6c.vega-embed details summary {\n",
       "    position: relative;\n",
       "  }\n",
       "</style>\n",
       "<div id=\"altair-viz-819b64f88fa745b2ae7fd98127d31b6c\"></div>\n",
       "<script type=\"text/javascript\">\n",
       "  var VEGA_DEBUG = (typeof VEGA_DEBUG == \"undefined\") ? {} : VEGA_DEBUG;\n",
       "  (function(spec, embedOpt){\n",
       "    let outputDiv = document.currentScript.previousElementSibling;\n",
       "    if (outputDiv.id !== \"altair-viz-819b64f88fa745b2ae7fd98127d31b6c\") {\n",
       "      outputDiv = document.getElementById(\"altair-viz-819b64f88fa745b2ae7fd98127d31b6c\");\n",
       "    }\n",
       "    const paths = {\n",
       "      \"vega\": \"https://cdn.jsdelivr.net/npm/vega@5?noext\",\n",
       "      \"vega-lib\": \"https://cdn.jsdelivr.net/npm/vega-lib?noext\",\n",
       "      \"vega-lite\": \"https://cdn.jsdelivr.net/npm/vega-lite@5.17.0?noext\",\n",
       "      \"vega-embed\": \"https://cdn.jsdelivr.net/npm/vega-embed@6?noext\",\n",
       "    };\n",
       "\n",
       "    function maybeLoadScript(lib, version) {\n",
       "      var key = `${lib.replace(\"-\", \"\")}_version`;\n",
       "      return (VEGA_DEBUG[key] == version) ?\n",
       "        Promise.resolve(paths[lib]) :\n",
       "        new Promise(function(resolve, reject) {\n",
       "          var s = document.createElement('script');\n",
       "          document.getElementsByTagName(\"head\")[0].appendChild(s);\n",
       "          s.async = true;\n",
       "          s.onload = () => {\n",
       "            VEGA_DEBUG[key] = version;\n",
       "            return resolve(paths[lib]);\n",
       "          };\n",
       "          s.onerror = () => reject(`Error loading script: ${paths[lib]}`);\n",
       "          s.src = paths[lib];\n",
       "        });\n",
       "    }\n",
       "\n",
       "    function showError(err) {\n",
       "      outputDiv.innerHTML = `<div class=\"error\" style=\"color:red;\">${err}</div>`;\n",
       "      throw err;\n",
       "    }\n",
       "\n",
       "    function displayChart(vegaEmbed) {\n",
       "      vegaEmbed(outputDiv, spec, embedOpt)\n",
       "        .catch(err => showError(`Javascript Error: ${err.message}<br>This usually means there's a typo in your chart specification. See the javascript console for the full traceback.`));\n",
       "    }\n",
       "\n",
       "    if(typeof define === \"function\" && define.amd) {\n",
       "      requirejs.config({paths});\n",
       "      require([\"vega-embed\"], displayChart, err => showError(`Error loading script: ${err.message}`));\n",
       "    } else {\n",
       "      maybeLoadScript(\"vega\", \"5\")\n",
       "        .then(() => maybeLoadScript(\"vega-lite\", \"5.17.0\"))\n",
       "        .then(() => maybeLoadScript(\"vega-embed\", \"6\"))\n",
       "        .catch(showError)\n",
       "        .then(() => displayChart(vegaEmbed));\n",
       "    }\n",
       "  })({\"config\": {\"view\": {\"continuousWidth\": 300, \"continuousHeight\": 300, \"strokeWidth\": 0}}, \"data\": {\"name\": \"data-36372096812ec327841792f60bf0c9e1\"}, \"mark\": {\"type\": \"text\", \"baseline\": \"middle\"}, \"encoding\": {\"color\": {\"condition\": {\"param\": \"Name_Of\", \"field\": \"Artist\", \"type\": \"nominal\", \"scale\": {\"scheme\": [\"rgb(105,239,123)\", \"rgb(216,21,180)\", \"rgb(172,225,183)\", \"rgb(120,40,87)\", \"rgb(37,184,234)\", \"rgb(32,80,46)\", \"rgb(250,175,227)\", \"rgb(52,70,109)\", \"rgb(192,225,92)\", \"rgb(114,68,185)\", \"rgb(99,161,34)\"]}}, \"value\": \"lightgray\"}, \"opacity\": {\"condition\": {\"param\": \"Name_Of\", \"value\": 1.0}, \"value\": 0.02}, \"size\": {\"field\": \"Times played\", \"legend\": null, \"type\": \"quantitative\"}, \"text\": {\"field\": \"Arist with\", \"type\": \"nominal\"}, \"tooltip\": [{\"field\": \"Artist\", \"title\": \"Artist:\", \"type\": \"nominal\"}, {\"field\": \"Arist with\", \"title\": \"Played with Artist:\", \"type\": \"nominal\"}, {\"field\": \"Times played\", \"title\": \"Times played togheter:\", \"type\": \"quantitative\"}], \"x\": {\"axis\": null, \"field\": \"x\", \"type\": \"ordinal\"}, \"y\": {\"axis\": null, \"field\": \"y\", \"type\": \"ordinal\"}}, \"height\": 400, \"params\": [{\"name\": \"Name_Of\", \"select\": {\"type\": \"point\", \"fields\": [\"Artist\"]}, \"bind\": {\"input\": \"select\", \"options\": [\"Taylor Swift\", \"The Weeknd\", \"Justin Bieber\", \"Lady Gaga\", \"Rihanna\", \"Shakira\", \"Drake\", \"Ariana Grande\", \"Post Malone\", \"Ed Sheeran\", \"Billie Eilish\"], \"labels\": [\"Taylor Swift \", \"The Weeknd \", \"Justin Bieber \", \"Lady Gaga \", \"Rihanna \", \"Shakira \", \"Drake \", \"Ariana Grande \", \"Post Malone \", \"Ed Sheeran \", \"Billie Eilish \"]}, \"value\": \"Taylor Swift\"}], \"title\": \"Five artists with most common live performances per artist\", \"transform\": [{\"lookup\": \"Times Played\", \"from\": {\"data\": {\"name\": \"data-0b8bd83238ce944202f88b66e58b48be\"}, \"key\": \"id\", \"fields\": [\"name\"]}}], \"width\": 500, \"$schema\": \"https://vega.github.io/schema/vega-lite/v5.17.0.json\", \"datasets\": {\"data-36372096812ec327841792f60bf0c9e1\": [{\"Artist\": \"Ed Sheeran\", \"Arist with\": \"Passenger\", \"Times played\": 86, \"x\": 0, \"y\": 5}, {\"Artist\": \"Ed Sheeran\", \"Arist with\": \"Taylor Swift\", \"Times played\": 75, \"x\": 0, \"y\": 15}, {\"Artist\": \"Ed Sheeran\", \"Arist with\": \"Jamie Lawson\", \"Times played\": 64, \"x\": 0, \"y\": 25}, {\"Artist\": \"Ed Sheeran\", \"Arist with\": \"Maisie Peters\", \"Times played\": 59, \"x\": 0, \"y\": 35}, {\"Artist\": \"Ed Sheeran\", \"Arist with\": \"James Blunt\", \"Times played\": 58, \"x\": 0, \"y\": 45}, {\"Artist\": \"Lady Gaga\", \"Arist with\": \"Lady Starlight\", \"Times played\": 171, \"x\": 5, \"y\": 5}, {\"Artist\": \"Lady Gaga\", \"Arist with\": \"Semi Precious Weapons\", \"Times played\": 102, \"x\": 5, \"y\": 15}, {\"Artist\": \"Lady Gaga\", \"Arist with\": \"The Darkness\", \"Times played\": 46, \"x\": 5, \"y\": 25}, {\"Artist\": \"Lady Gaga\", \"Arist with\": \"Tony Bennett\", \"Times played\": 38, \"x\": 5, \"y\": 35}, {\"Artist\": \"Lady Gaga\", \"Arist with\": \"The Pussycat Dolls\", \"Times played\": 33, \"x\": 5, \"y\": 45}, {\"Artist\": \"Taylor Swift\", \"Arist with\": \"Kellie Pickler\", \"Times played\": 98, \"x\": 10, \"y\": 5}, {\"Artist\": \"Taylor Swift\", \"Arist with\": \"Gloriana\", \"Times played\": 92, \"x\": 10, \"y\": 15}, {\"Artist\": \"Taylor Swift\", \"Arist with\": \"Needtobreathe\", \"Times played\": 83, \"x\": 10, \"y\": 25}, {\"Artist\": \"Taylor Swift\", \"Arist with\": \"Ed Sheeran\", \"Times played\": 75, \"x\": 10, \"y\": 35}, {\"Artist\": \"Taylor Swift\", \"Arist with\": \"Rascal Flatts\", \"Times played\": 60, \"x\": 10, \"y\": 45}, {\"Artist\": \"Rihanna\", \"Arist with\": \"Calvin Harris\", \"Times played\": 77, \"x\": 15, \"y\": 5}, {\"Artist\": \"Rihanna\", \"Arist with\": \"Kanye West\", \"Times played\": 59, \"x\": 15, \"y\": 15}, {\"Artist\": \"Rihanna\", \"Arist with\": \"Good Times Ahead\", \"Times played\": 50, \"x\": 15, \"y\": 25}, {\"Artist\": \"Rihanna\", \"Arist with\": \"N.E.R.D.\", \"Times played\": 49, \"x\": 15, \"y\": 35}, {\"Artist\": \"Rihanna\", \"Arist with\": \"Lupe Fiasco\", \"Times played\": 46, \"x\": 15, \"y\": 45}, {\"Artist\": \"Shakira\", \"Arist with\": \"Salva\", \"Times played\": 36, \"x\": 20, \"y\": 5}, {\"Artist\": \"Shakira\", \"Arist with\": \"Wyclef Jean\", \"Times played\": 31, \"x\": 20, \"y\": 15}, {\"Artist\": \"Shakira\", \"Arist with\": \"Ricky Martin\", \"Times played\": 11, \"x\": 20, \"y\": 25}, {\"Artist\": \"Shakira\", \"Arist with\": \"Alejandro Sanz\", \"Times played\": 10, \"x\": 20, \"y\": 35}, {\"Artist\": \"Shakira\", \"Arist with\": \"Ziggy Marley\", \"Times played\": 8, \"x\": 20, \"y\": 45}, {\"Artist\": \"Drake\", \"Arist with\": \"Future\", \"Times played\": 97, \"x\": 25, \"y\": 5}, {\"Artist\": \"Drake\", \"Arist with\": \"Lil Wayne\", \"Times played\": 63, \"x\": 25, \"y\": 15}, {\"Artist\": \"Drake\", \"Arist with\": \"J. Cole\", \"Times played\": 57, \"x\": 25, \"y\": 25}, {\"Artist\": \"Drake\", \"Arist with\": \"Miguel\", \"Times played\": 54, \"x\": 25, \"y\": 35}, {\"Artist\": \"Drake\", \"Arist with\": \"Roy Woods\", \"Times played\": 51, \"x\": 25, \"y\": 45}, {\"Artist\": \"Post Malone\", \"Arist with\": \"Tyla Yaweh\", \"Times played\": 68, \"x\": 30, \"y\": 5}, {\"Artist\": \"Post Malone\", \"Arist with\": \"Justin Bieber\", \"Times played\": 60, \"x\": 30, \"y\": 15}, {\"Artist\": \"Post Malone\", \"Arist with\": \"Moxie Raia\", \"Times played\": 59, \"x\": 30, \"y\": 25}, {\"Artist\": \"Post Malone\", \"Arist with\": \"Swae Lee\", \"Times played\": 42, \"x\": 30, \"y\": 35}, {\"Artist\": \"Post Malone\", \"Arist with\": \"Roddy Ricch\", \"Times played\": 38, \"x\": 30, \"y\": 45}, {\"Artist\": \"The Weeknd\", \"Arist with\": \"Kaytranada\", \"Times played\": 50, \"x\": 35, \"y\": 5}, {\"Artist\": \"The Weeknd\", \"Arist with\": \"BANKS\", \"Times played\": 49, \"x\": 35, \"y\": 15}, {\"Artist\": \"The Weeknd\", \"Arist with\": \"Mike Dean\", \"Times played\": 49, \"x\": 35, \"y\": 25}, {\"Artist\": \"The Weeknd\", \"Arist with\": \"Travis Scott\", \"Times played\": 31, \"x\": 35, \"y\": 35}, {\"Artist\": \"The Weeknd\", \"Arist with\": \"Drake\", \"Times played\": 24, \"x\": 35, \"y\": 45}, {\"Artist\": \"Justin Bieber\", \"Arist with\": \"Carly Rae Jepsen\", \"Times played\": 70, \"x\": 40, \"y\": 5}, {\"Artist\": \"Justin Bieber\", \"Arist with\": \"Moxie Raia \", \"Times played\": 64, \"x\": 40, \"y\": 15}, {\"Artist\": \"Justin Bieber\", \"Arist with\": \"Cody Simpson\", \"Times played\": 61, \"x\": 40, \"y\": 25}, {\"Artist\": \"Justin Bieber\", \"Arist with\": \"Post Malone\", \"Times played\": 60, \"x\": 40, \"y\": 35}, {\"Artist\": \"Justin Bieber\", \"Arist with\": \"Sean Kingston\", \"Times played\": 51, \"x\": 40, \"y\": 45}, {\"Artist\": \"Ariana Grande\", \"Arist with\": \"Social House\", \"Times played\": 78, \"x\": 45, \"y\": 5}, {\"Artist\": \"Ariana Grande\", \"Arist with\": \"Victoria Mon\\u00e9t\", \"Times played\": 56, \"x\": 45, \"y\": 15}, {\"Artist\": \"Ariana Grande\", \"Arist with\": \"Normani\", \"Times played\": 54, \"x\": 45, \"y\": 25}, {\"Artist\": \"Ariana Grande\", \"Arist with\": \"push baby\", \"Times played\": 41, \"x\": 45, \"y\": 35}, {\"Artist\": \"Ariana Grande\", \"Arist with\": \"Prince Royce\", \"Times played\": 37, \"x\": 45, \"y\": 45}, {\"Artist\": \"Billie Eilish\", \"Arist with\": \"Denzel Curry\", \"Times played\": 32, \"x\": 50, \"y\": 5}, {\"Artist\": \"Billie Eilish\", \"Arist with\": \"Duckwirth\", \"Times played\": 30, \"x\": 50, \"y\": 15}, {\"Artist\": \"Billie Eilish\", \"Arist with\": \"Jessie Reyez\", \"Times played\": 23, \"x\": 50, \"y\": 25}, {\"Artist\": \"Billie Eilish\", \"Arist with\": \"FINNEAS\", \"Times played\": 21, \"x\": 50, \"y\": 35}, {\"Artist\": \"Billie Eilish\", \"Arist with\": \"SOFI TUCKER\", \"Times played\": 17, \"x\": 50, \"y\": 45}], \"data-0b8bd83238ce944202f88b66e58b48be\": [{\"id\": 0, \"name\": \"Taylor Swift\"}, {\"id\": 1, \"name\": \"The Weeknd\"}, {\"id\": 2, \"name\": \"Justin Bieber\"}, {\"id\": 3, \"name\": \"Lady Gaga\"}, {\"id\": 4, \"name\": \"Rihanna\"}, {\"id\": 6, \"name\": \"Shakira\"}, {\"id\": 7, \"name\": \"Drake\"}, {\"id\": 8, \"name\": \"Ariana Grande\"}, {\"id\": 9, \"name\": \"Post Malone\"}, {\"id\": 10, \"name\": \"Ed Sheeran\"}, {\"id\": 11, \"name\": \"Billie Eilish\"}]}}, {\"mode\": \"vega-lite\"});\n",
       "</script>"
      ],
      "text/plain": [
       "alt.Chart(...)"
      ]
     },
     "execution_count": 44,
     "metadata": {},
     "output_type": "execute_result"
    }
   ],
   "source": [
    "clusters = pd.DataFrame([\n",
    "    {\"id\": 0, \"name\": \"Taylor Swift\"},\n",
    "    {\"id\": 1, \"name\": \"The Weeknd\"},\n",
    "    {\"id\": 2, \"name\": \"Justin Bieber\"},\n",
    "    {\"id\": 3, \"name\": \"Lady Gaga\"},\n",
    "    {\"id\": 4, \"name\": \"Rihanna\"},\n",
    "    {\"id\": 6, \"name\": \"Shakira\"},\n",
    "    {\"id\": 7, \"name\": \"Drake\"},\n",
    "    {\"id\": 8, \"name\": \"Ariana Grande\"},\n",
    "    {\"id\": 9, \"name\": \"Post Malone\"},\n",
    "    {\"id\": 10, \"name\": \"Ed Sheeran\"},\n",
    "    {\"id\": 11, \"name\": \"Billie Eilish\"}\n",
    "])\n",
    "\n",
    "dropdown_options = list(clusters['name'])\n",
    "labels = [option + ' ' for option in dropdown_options]\n",
    "\n",
    "cluster_dropdown = alt.binding_select(\n",
    "    options=dropdown_options,\n",
    "    labels=labels,)\n",
    "dropSelect = alt.selection_point(fields = ['Artist'], value='Taylor Swift',\n",
    "                                 bind = cluster_dropdown, name = 'Name_Of')\n",
    "\n",
    "base = alt.Chart(data).encode(\n",
    "    x=alt.X('x:O', axis=None),\n",
    "    y=alt.Y('y:O', axis=None)\n",
    ")\n",
    "#.configure_view(strokeWidth=0)  # remove border\n",
    "\n",
    "chq4b = base.mark_text(baseline='middle').encode(\n",
    "    text='Arist with:N',\n",
    "    size=alt.Size('Times played:Q', legend=None),\n",
    "    color = alt.condition(dropSelect, 'Artist:N', alt.value('lightgray'), scale = alt.Scale(scheme = colorgorical)),\n",
    "    opacity = alt.condition(dropSelect, alt.value(1.0), alt.value(0.02)),\n",
    "    tooltip=[alt.Tooltip('Artist:N', title='Artist:'), alt.Tooltip('Arist with:N', title='Played with Artist:'), alt.Tooltip('Times played:Q', title='Times played togheter:')]\n",
    ").transform_lookup(\n",
    "    lookup = 'Times Played',\n",
    "    from_ = alt.LookupData(\n",
    "        data = clusters, key = 'id', fields = ['name']\n",
    "    )\n",
    ").add_params(dropSelect\n",
    ").properties(title = r\"Five artists with most common live performances per artist\", width=500, height=400\n",
    ")\n",
    "chq4b.configure_view(strokeWidth=0)"
   ]
  },
  {
   "cell_type": "code",
   "execution_count": 45,
   "metadata": {
    "colab": {
     "base_uri": "https://localhost:8080/",
     "height": 489
    },
    "executionInfo": {
     "elapsed": 5,
     "status": "ok",
     "timestamp": 1716379812399,
     "user": {
      "displayName": "Alexandros Tremopoulos",
      "userId": "18030826848297166341"
     },
     "user_tz": -120
    },
    "id": "h4etydqmnmn7",
    "outputId": "0e408861-5eeb-4705-fa3d-6dd5a042e240"
   },
   "outputs": [
    {
     "data": {
      "text/html": [
       "\n",
       "<style>\n",
       "  #altair-viz-05247a6595da4401ad4d3b4942f38fee.vega-embed {\n",
       "    width: 100%;\n",
       "    display: flex;\n",
       "  }\n",
       "\n",
       "  #altair-viz-05247a6595da4401ad4d3b4942f38fee.vega-embed details,\n",
       "  #altair-viz-05247a6595da4401ad4d3b4942f38fee.vega-embed details summary {\n",
       "    position: relative;\n",
       "  }\n",
       "</style>\n",
       "<div id=\"altair-viz-05247a6595da4401ad4d3b4942f38fee\"></div>\n",
       "<script type=\"text/javascript\">\n",
       "  var VEGA_DEBUG = (typeof VEGA_DEBUG == \"undefined\") ? {} : VEGA_DEBUG;\n",
       "  (function(spec, embedOpt){\n",
       "    let outputDiv = document.currentScript.previousElementSibling;\n",
       "    if (outputDiv.id !== \"altair-viz-05247a6595da4401ad4d3b4942f38fee\") {\n",
       "      outputDiv = document.getElementById(\"altair-viz-05247a6595da4401ad4d3b4942f38fee\");\n",
       "    }\n",
       "    const paths = {\n",
       "      \"vega\": \"https://cdn.jsdelivr.net/npm/vega@5?noext\",\n",
       "      \"vega-lib\": \"https://cdn.jsdelivr.net/npm/vega-lib?noext\",\n",
       "      \"vega-lite\": \"https://cdn.jsdelivr.net/npm/vega-lite@5.17.0?noext\",\n",
       "      \"vega-embed\": \"https://cdn.jsdelivr.net/npm/vega-embed@6?noext\",\n",
       "    };\n",
       "\n",
       "    function maybeLoadScript(lib, version) {\n",
       "      var key = `${lib.replace(\"-\", \"\")}_version`;\n",
       "      return (VEGA_DEBUG[key] == version) ?\n",
       "        Promise.resolve(paths[lib]) :\n",
       "        new Promise(function(resolve, reject) {\n",
       "          var s = document.createElement('script');\n",
       "          document.getElementsByTagName(\"head\")[0].appendChild(s);\n",
       "          s.async = true;\n",
       "          s.onload = () => {\n",
       "            VEGA_DEBUG[key] = version;\n",
       "            return resolve(paths[lib]);\n",
       "          };\n",
       "          s.onerror = () => reject(`Error loading script: ${paths[lib]}`);\n",
       "          s.src = paths[lib];\n",
       "        });\n",
       "    }\n",
       "\n",
       "    function showError(err) {\n",
       "      outputDiv.innerHTML = `<div class=\"error\" style=\"color:red;\">${err}</div>`;\n",
       "      throw err;\n",
       "    }\n",
       "\n",
       "    function displayChart(vegaEmbed) {\n",
       "      vegaEmbed(outputDiv, spec, embedOpt)\n",
       "        .catch(err => showError(`Javascript Error: ${err.message}<br>This usually means there's a typo in your chart specification. See the javascript console for the full traceback.`));\n",
       "    }\n",
       "\n",
       "    if(typeof define === \"function\" && define.amd) {\n",
       "      requirejs.config({paths});\n",
       "      require([\"vega-embed\"], displayChart, err => showError(`Error loading script: ${err.message}`));\n",
       "    } else {\n",
       "      maybeLoadScript(\"vega\", \"5\")\n",
       "        .then(() => maybeLoadScript(\"vega-lite\", \"5.17.0\"))\n",
       "        .then(() => maybeLoadScript(\"vega-embed\", \"6\"))\n",
       "        .catch(showError)\n",
       "        .then(() => displayChart(vegaEmbed));\n",
       "    }\n",
       "  })({\"config\": {\"view\": {\"continuousWidth\": 300, \"continuousHeight\": 300, \"strokeWidth\": 0}}, \"hconcat\": [{\"data\": {\"name\": \"data-36372096812ec327841792f60bf0c9e1\"}, \"mark\": {\"type\": \"text\", \"baseline\": \"middle\"}, \"encoding\": {\"color\": {\"condition\": {\"param\": \"Name_Of\", \"field\": \"Artist\", \"type\": \"nominal\", \"scale\": {\"scheme\": [\"rgb(105,239,123)\", \"rgb(216,21,180)\", \"rgb(172,225,183)\", \"rgb(120,40,87)\", \"rgb(37,184,234)\", \"rgb(32,80,46)\", \"rgb(250,175,227)\", \"rgb(52,70,109)\", \"rgb(192,225,92)\", \"rgb(114,68,185)\", \"rgb(99,161,34)\"]}}, \"value\": \"lightgray\"}, \"opacity\": {\"condition\": {\"param\": \"Name_Of\", \"value\": 1.0}, \"value\": 0.02}, \"size\": {\"field\": \"Times played\", \"legend\": null, \"type\": \"quantitative\"}, \"text\": {\"field\": \"Arist with\", \"type\": \"nominal\"}, \"tooltip\": [{\"field\": \"Artist\", \"title\": \"Artist:\", \"type\": \"nominal\"}, {\"field\": \"Arist with\", \"title\": \"Played with Artist:\", \"type\": \"nominal\"}, {\"field\": \"Times played\", \"title\": \"Times played togheter:\", \"type\": \"quantitative\"}], \"x\": {\"axis\": null, \"field\": \"x\", \"type\": \"ordinal\"}, \"y\": {\"axis\": null, \"field\": \"y\", \"type\": \"ordinal\"}}, \"height\": 400, \"name\": \"view_10\", \"title\": \"Five artists with most common live performances per artist\", \"transform\": [{\"lookup\": \"Times Played\", \"from\": {\"data\": {\"name\": \"data-0b8bd83238ce944202f88b66e58b48be\"}, \"key\": \"id\", \"fields\": [\"name\"]}}], \"width\": 500}, {\"layer\": [{\"data\": {\"url\": \"https://cdn.jsdelivr.net/npm/vega-datasets@v1.29.0/data/world-110m.json\", \"format\": {\"feature\": \"countries\", \"type\": \"topojson\"}}, \"mark\": {\"type\": \"geoshape\", \"fill\": \"lightgray\", \"stroke\": \"white\"}, \"projection\": {\"type\": \"equirectangular\"}}, {\"data\": {\"name\": \"data-3e25d731bfe1559814467dd35a4cc69b\"}, \"mark\": {\"type\": \"circle\"}, \"encoding\": {\"color\": {\"condition\": {\"param\": \"Name_Of\", \"field\": \"Artist\", \"type\": \"nominal\", \"scale\": {\"scheme\": [\"rgb(105,239,123)\", \"rgb(216,21,180)\", \"rgb(172,225,183)\", \"rgb(120,40,87)\", \"rgb(37,184,234)\", \"rgb(32,80,46)\", \"rgb(250,175,227)\", \"rgb(52,70,109)\", \"rgb(192,225,92)\", \"rgb(114,68,185)\", \"rgb(99,161,34)\"]}}, \"value\": \"lightgray\"}, \"latitude\": {\"field\": \"Latitude\", \"type\": \"quantitative\"}, \"longitude\": {\"field\": \"Longitude\", \"type\": \"quantitative\"}, \"opacity\": {\"condition\": {\"param\": \"Name_Of\", \"value\": 1.0}, \"value\": 0.02}, \"size\": {\"condition\": {\"param\": \"Name_Of\", \"field\": \"Times Played\", \"type\": \"quantitative\"}, \"value\": 1}, \"tooltip\": [{\"field\": \"Artist\", \"type\": \"nominal\"}, {\"field\": \"City\", \"type\": \"nominal\"}, {\"field\": \"Times Played\", \"type\": \"quantitative\"}]}, \"name\": \"view_9\", \"projection\": {\"type\": \"equirectangular\"}, \"title\": \"Five most common cities each artist had live performance\", \"transform\": [{\"lookup\": \"Times Played\", \"from\": {\"data\": {\"name\": \"data-0b8bd83238ce944202f88b66e58b48be\"}, \"key\": \"id\", \"fields\": [\"name\"]}}]}], \"height\": 400, \"width\": 800}], \"params\": [{\"name\": \"Name_Of\", \"select\": {\"type\": \"point\", \"fields\": [\"Artist\"]}, \"bind\": {\"input\": \"select\", \"options\": [\"Taylor Swift\", \"The Weeknd\", \"Justin Bieber\", \"Lady Gaga\", \"Rihanna\", \"Shakira\", \"Drake\", \"Ariana Grande\", \"Post Malone\", \"Ed Sheeran\", \"Billie Eilish\"], \"labels\": [\"Taylor Swift \", \"The Weeknd \", \"Justin Bieber \", \"Lady Gaga \", \"Rihanna \", \"Shakira \", \"Drake \", \"Ariana Grande \", \"Post Malone \", \"Ed Sheeran \", \"Billie Eilish \"]}, \"value\": \"Taylor Swift\", \"views\": [\"view_10\", \"view_9\"]}], \"resolve\": {\"scale\": {\"size\": \"independent\"}}, \"$schema\": \"https://vega.github.io/schema/vega-lite/v5.17.0.json\", \"datasets\": {\"data-36372096812ec327841792f60bf0c9e1\": [{\"Artist\": \"Ed Sheeran\", \"Arist with\": \"Passenger\", \"Times played\": 86, \"x\": 0, \"y\": 5}, {\"Artist\": \"Ed Sheeran\", \"Arist with\": \"Taylor Swift\", \"Times played\": 75, \"x\": 0, \"y\": 15}, {\"Artist\": \"Ed Sheeran\", \"Arist with\": \"Jamie Lawson\", \"Times played\": 64, \"x\": 0, \"y\": 25}, {\"Artist\": \"Ed Sheeran\", \"Arist with\": \"Maisie Peters\", \"Times played\": 59, \"x\": 0, \"y\": 35}, {\"Artist\": \"Ed Sheeran\", \"Arist with\": \"James Blunt\", \"Times played\": 58, \"x\": 0, \"y\": 45}, {\"Artist\": \"Lady Gaga\", \"Arist with\": \"Lady Starlight\", \"Times played\": 171, \"x\": 5, \"y\": 5}, {\"Artist\": \"Lady Gaga\", \"Arist with\": \"Semi Precious Weapons\", \"Times played\": 102, \"x\": 5, \"y\": 15}, {\"Artist\": \"Lady Gaga\", \"Arist with\": \"The Darkness\", \"Times played\": 46, \"x\": 5, \"y\": 25}, {\"Artist\": \"Lady Gaga\", \"Arist with\": \"Tony Bennett\", \"Times played\": 38, \"x\": 5, \"y\": 35}, {\"Artist\": \"Lady Gaga\", \"Arist with\": \"The Pussycat Dolls\", \"Times played\": 33, \"x\": 5, \"y\": 45}, {\"Artist\": \"Taylor Swift\", \"Arist with\": \"Kellie Pickler\", \"Times played\": 98, \"x\": 10, \"y\": 5}, {\"Artist\": \"Taylor Swift\", \"Arist with\": \"Gloriana\", \"Times played\": 92, \"x\": 10, \"y\": 15}, {\"Artist\": \"Taylor Swift\", \"Arist with\": \"Needtobreathe\", \"Times played\": 83, \"x\": 10, \"y\": 25}, {\"Artist\": \"Taylor Swift\", \"Arist with\": \"Ed Sheeran\", \"Times played\": 75, \"x\": 10, \"y\": 35}, {\"Artist\": \"Taylor Swift\", \"Arist with\": \"Rascal Flatts\", \"Times played\": 60, \"x\": 10, \"y\": 45}, {\"Artist\": \"Rihanna\", \"Arist with\": \"Calvin Harris\", \"Times played\": 77, \"x\": 15, \"y\": 5}, {\"Artist\": \"Rihanna\", \"Arist with\": \"Kanye West\", \"Times played\": 59, \"x\": 15, \"y\": 15}, {\"Artist\": \"Rihanna\", \"Arist with\": \"Good Times Ahead\", \"Times played\": 50, \"x\": 15, \"y\": 25}, {\"Artist\": \"Rihanna\", \"Arist with\": \"N.E.R.D.\", \"Times played\": 49, \"x\": 15, \"y\": 35}, {\"Artist\": \"Rihanna\", \"Arist with\": \"Lupe Fiasco\", \"Times played\": 46, \"x\": 15, \"y\": 45}, {\"Artist\": \"Shakira\", \"Arist with\": \"Salva\", \"Times played\": 36, \"x\": 20, \"y\": 5}, {\"Artist\": \"Shakira\", \"Arist with\": \"Wyclef Jean\", \"Times played\": 31, \"x\": 20, \"y\": 15}, {\"Artist\": \"Shakira\", \"Arist with\": \"Ricky Martin\", \"Times played\": 11, \"x\": 20, \"y\": 25}, {\"Artist\": \"Shakira\", \"Arist with\": \"Alejandro Sanz\", \"Times played\": 10, \"x\": 20, \"y\": 35}, {\"Artist\": \"Shakira\", \"Arist with\": \"Ziggy Marley\", \"Times played\": 8, \"x\": 20, \"y\": 45}, {\"Artist\": \"Drake\", \"Arist with\": \"Future\", \"Times played\": 97, \"x\": 25, \"y\": 5}, {\"Artist\": \"Drake\", \"Arist with\": \"Lil Wayne\", \"Times played\": 63, \"x\": 25, \"y\": 15}, {\"Artist\": \"Drake\", \"Arist with\": \"J. Cole\", \"Times played\": 57, \"x\": 25, \"y\": 25}, {\"Artist\": \"Drake\", \"Arist with\": \"Miguel\", \"Times played\": 54, \"x\": 25, \"y\": 35}, {\"Artist\": \"Drake\", \"Arist with\": \"Roy Woods\", \"Times played\": 51, \"x\": 25, \"y\": 45}, {\"Artist\": \"Post Malone\", \"Arist with\": \"Tyla Yaweh\", \"Times played\": 68, \"x\": 30, \"y\": 5}, {\"Artist\": \"Post Malone\", \"Arist with\": \"Justin Bieber\", \"Times played\": 60, \"x\": 30, \"y\": 15}, {\"Artist\": \"Post Malone\", \"Arist with\": \"Moxie Raia\", \"Times played\": 59, \"x\": 30, \"y\": 25}, {\"Artist\": \"Post Malone\", \"Arist with\": \"Swae Lee\", \"Times played\": 42, \"x\": 30, \"y\": 35}, {\"Artist\": \"Post Malone\", \"Arist with\": \"Roddy Ricch\", \"Times played\": 38, \"x\": 30, \"y\": 45}, {\"Artist\": \"The Weeknd\", \"Arist with\": \"Kaytranada\", \"Times played\": 50, \"x\": 35, \"y\": 5}, {\"Artist\": \"The Weeknd\", \"Arist with\": \"BANKS\", \"Times played\": 49, \"x\": 35, \"y\": 15}, {\"Artist\": \"The Weeknd\", \"Arist with\": \"Mike Dean\", \"Times played\": 49, \"x\": 35, \"y\": 25}, {\"Artist\": \"The Weeknd\", \"Arist with\": \"Travis Scott\", \"Times played\": 31, \"x\": 35, \"y\": 35}, {\"Artist\": \"The Weeknd\", \"Arist with\": \"Drake\", \"Times played\": 24, \"x\": 35, \"y\": 45}, {\"Artist\": \"Justin Bieber\", \"Arist with\": \"Carly Rae Jepsen\", \"Times played\": 70, \"x\": 40, \"y\": 5}, {\"Artist\": \"Justin Bieber\", \"Arist with\": \"Moxie Raia \", \"Times played\": 64, \"x\": 40, \"y\": 15}, {\"Artist\": \"Justin Bieber\", \"Arist with\": \"Cody Simpson\", \"Times played\": 61, \"x\": 40, \"y\": 25}, {\"Artist\": \"Justin Bieber\", \"Arist with\": \"Post Malone\", \"Times played\": 60, \"x\": 40, \"y\": 35}, {\"Artist\": \"Justin Bieber\", \"Arist with\": \"Sean Kingston\", \"Times played\": 51, \"x\": 40, \"y\": 45}, {\"Artist\": \"Ariana Grande\", \"Arist with\": \"Social House\", \"Times played\": 78, \"x\": 45, \"y\": 5}, {\"Artist\": \"Ariana Grande\", \"Arist with\": \"Victoria Mon\\u00e9t\", \"Times played\": 56, \"x\": 45, \"y\": 15}, {\"Artist\": \"Ariana Grande\", \"Arist with\": \"Normani\", \"Times played\": 54, \"x\": 45, \"y\": 25}, {\"Artist\": \"Ariana Grande\", \"Arist with\": \"push baby\", \"Times played\": 41, \"x\": 45, \"y\": 35}, {\"Artist\": \"Ariana Grande\", \"Arist with\": \"Prince Royce\", \"Times played\": 37, \"x\": 45, \"y\": 45}, {\"Artist\": \"Billie Eilish\", \"Arist with\": \"Denzel Curry\", \"Times played\": 32, \"x\": 50, \"y\": 5}, {\"Artist\": \"Billie Eilish\", \"Arist with\": \"Duckwirth\", \"Times played\": 30, \"x\": 50, \"y\": 15}, {\"Artist\": \"Billie Eilish\", \"Arist with\": \"Jessie Reyez\", \"Times played\": 23, \"x\": 50, \"y\": 25}, {\"Artist\": \"Billie Eilish\", \"Arist with\": \"FINNEAS\", \"Times played\": 21, \"x\": 50, \"y\": 35}, {\"Artist\": \"Billie Eilish\", \"Arist with\": \"SOFI TUCKER\", \"Times played\": 17, \"x\": 50, \"y\": 45}], \"data-0b8bd83238ce944202f88b66e58b48be\": [{\"id\": 0, \"name\": \"Taylor Swift\"}, {\"id\": 1, \"name\": \"The Weeknd\"}, {\"id\": 2, \"name\": \"Justin Bieber\"}, {\"id\": 3, \"name\": \"Lady Gaga\"}, {\"id\": 4, \"name\": \"Rihanna\"}, {\"id\": 6, \"name\": \"Shakira\"}, {\"id\": 7, \"name\": \"Drake\"}, {\"id\": 8, \"name\": \"Ariana Grande\"}, {\"id\": 9, \"name\": \"Post Malone\"}, {\"id\": 10, \"name\": \"Ed Sheeran\"}, {\"id\": 11, \"name\": \"Billie Eilish\"}], \"data-3e25d731bfe1559814467dd35a4cc69b\": [{\"Artist\": \"Ed Sheeran\", \"City\": \"London\", \"Times Played\": 127, \"Latitude\": 51.509865, \"Longitude\": -0.118092}, {\"Artist\": \"Ed Sheeran\", \"City\": \"Manchester\", \"Times Played\": 29, \"Latitude\": 53.483959, \"Longitude\": -2.244644}, {\"Artist\": \"Ed Sheeran\", \"City\": \"New York  (NYC)\", \"Times Played\": 28, \"Latitude\": 40.73061, \"Longitude\": -73.935242}, {\"Artist\": \"Ed Sheeran\", \"City\": \"Los Angeles (LA)\", \"Times Played\": 27, \"Latitude\": 34.052235, \"Longitude\": -118.243683}, {\"Artist\": \"Ed Sheeran\", \"City\": \"Dublin\", \"Times Played\": 21, \"Latitude\": 53.35014, \"Longitude\": -6.266155}, {\"Artist\": \"Lady Gaga\", \"City\": \"Las Vegas\", \"Times Played\": 81, \"Latitude\": 36.18811, \"Longitude\": -115.176468}, {\"Artist\": \"Lady Gaga\", \"City\": \"New York  (NYC)\", \"Times Played\": 45, \"Latitude\": 40.73061, \"Longitude\": -73.935242}, {\"Artist\": \"Lady Gaga\", \"City\": \"Los Angeles (LA)\", \"Times Played\": 37, \"Latitude\": 34.052235, \"Longitude\": -118.243683}, {\"Artist\": \"Lady Gaga\", \"City\": \"London\", \"Times Played\": 28, \"Latitude\": 51.509865, \"Longitude\": -0.118092}, {\"Artist\": \"Lady Gaga\", \"City\": \"Philadeplhia\", \"Times Played\": 15, \"Latitude\": 39.952583, \"Longitude\": -75.165222}, {\"Artist\": \"Taylor Swift\", \"City\": \"Los Angeles (LA)\", \"Times Played\": 54, \"Latitude\": 34.052235, \"Longitude\": -118.243683}, {\"Artist\": \"Taylor Swift\", \"City\": \"Nashville\", \"Times Played\": 30, \"Latitude\": 36.174465, \"Longitude\": -86.76696}, {\"Artist\": \"Taylor Swift\", \"City\": \"London\", \"Times Played\": 21, \"Latitude\": 51.509865, \"Longitude\": -0.118092}, {\"Artist\": \"Taylor Swift\", \"City\": \"Chicago\", \"Times Played\": 19, \"Latitude\": 41.881832, \"Longitude\": -87.623177}, {\"Artist\": \"Taylor Swift\", \"City\": \"Atlanta\", \"Times Played\": 17, \"Latitude\": 33.753746, \"Longitude\": -84.38633}, {\"Artist\": \"Rihanna\", \"City\": \"London\", \"Times Played\": 31, \"Latitude\": 51.509865, \"Longitude\": -0.118092}, {\"Artist\": \"Rihanna\", \"City\": \"Los Angeles (LA)\", \"Times Played\": 30, \"Latitude\": 34.052235, \"Longitude\": -118.243683}, {\"Artist\": \"Rihanna\", \"City\": \"New York  (NYC)\", \"Times Played\": 16, \"Latitude\": 40.73061, \"Longitude\": -73.935242}, {\"Artist\": \"Rihanna\", \"City\": \"Philadeplhia\", \"Times Played\": 13, \"Latitude\": 39.952583, \"Longitude\": -75.165222}, {\"Artist\": \"Rihanna\", \"City\": \"Manchester\", \"Times Played\": 13, \"Latitude\": 53.483959, \"Longitude\": -2.244644}, {\"Artist\": \"Shakira\", \"City\": \"Mexico City\", \"Times Played\": 21, \"Latitude\": 19.432608, \"Longitude\": -99.133209}, {\"Artist\": \"Shakira\", \"City\": \"Miami\", \"Times Played\": 16, \"Latitude\": 25.793449, \"Longitude\": -80.139198}, {\"Artist\": \"Shakira\", \"City\": \"Madrid\", \"Times Played\": 14, \"Latitude\": 40.416775, \"Longitude\": -3.70379}, {\"Artist\": \"Shakira\", \"City\": \"New York  (NYC)\", \"Times Played\": 13, \"Latitude\": 40.73061, \"Longitude\": -73.935242}, {\"Artist\": \"Shakira\", \"City\": \"Los Angeles (LA)\", \"Times Played\": 13, \"Latitude\": 34.052235, \"Longitude\": -118.243683}, {\"Artist\": \"Drake\", \"City\": \"Los Angeles (LA)\", \"Times Played\": 39, \"Latitude\": 34.052235, \"Longitude\": -118.243683}, {\"Artist\": \"Drake\", \"City\": \"New York  (NYC)\", \"Times Played\": 35, \"Latitude\": 40.73061, \"Longitude\": -73.935242}, {\"Artist\": \"Drake\", \"City\": \"London\", \"Times Played\": 28, \"Latitude\": 51.509865, \"Longitude\": -0.118092}, {\"Artist\": \"Drake\", \"City\": \"Toronto\", \"Times Played\": 23, \"Latitude\": 43.65107, \"Longitude\": -79.347015}, {\"Artist\": \"Drake\", \"City\": \"Las Vegas\", \"Times Played\": 20, \"Latitude\": 36.18811, \"Longitude\": -115.176468}, {\"Artist\": \"Post Malone\", \"City\": \"Los Angeles (LA)\", \"Times Played\": 43, \"Latitude\": 34.052235, \"Longitude\": -118.243683}, {\"Artist\": \"Post Malone\", \"City\": \"New York  (NYC)\", \"Times Played\": 23, \"Latitude\": 40.73061, \"Longitude\": -73.935242}, {\"Artist\": \"Post Malone\", \"City\": \"Toronto\", \"Times Played\": 19, \"Latitude\": 43.65107, \"Longitude\": -79.347015}, {\"Artist\": \"Post Malone\", \"City\": \"Philadeplhia\", \"Times Played\": 19, \"Latitude\": 39.952583, \"Longitude\": -75.165222}, {\"Artist\": \"Post Malone\", \"City\": \"Chicago\", \"Times Played\": 16, \"Latitude\": 41.881832, \"Longitude\": -87.623177}, {\"Artist\": \"The Weeknd\", \"City\": \"Las Vegas\", \"Times Played\": 25, \"Latitude\": 36.18811, \"Longitude\": -115.176468}, {\"Artist\": \"The Weeknd\", \"City\": \"Los Angeles (LA)\", \"Times Played\": 25, \"Latitude\": 34.052235, \"Longitude\": -118.243683}, {\"Artist\": \"The Weeknd\", \"City\": \"London\", \"Times Played\": 20, \"Latitude\": 51.509865, \"Longitude\": -0.118092}, {\"Artist\": \"The Weeknd\", \"City\": \"New York  (NYC)\", \"Times Played\": 20, \"Latitude\": 40.73061, \"Longitude\": -73.935242}, {\"Artist\": \"The Weeknd\", \"City\": \"Toronto\", \"Times Played\": 20, \"Latitude\": 43.65107, \"Longitude\": -79.347015}, {\"Artist\": \"Justin Bieber\", \"City\": \"Los Angeles (LA)\", \"Times Played\": 35, \"Latitude\": 34.052235, \"Longitude\": -118.243683}, {\"Artist\": \"Justin Bieber\", \"City\": \"London\", \"Times Played\": 23, \"Latitude\": 51.509865, \"Longitude\": -0.118092}, {\"Artist\": \"Justin Bieber\", \"City\": \"New York  (NYC)\", \"Times Played\": 21, \"Latitude\": 40.73061, \"Longitude\": -73.935242}, {\"Artist\": \"Justin Bieber\", \"City\": \"Chicago\", \"Times Played\": 13, \"Latitude\": 41.881832, \"Longitude\": -87.623177}, {\"Artist\": \"Justin Bieber\", \"City\": \"Philadeplhia\", \"Times Played\": 13, \"Latitude\": 39.952583, \"Longitude\": -75.165222}, {\"Artist\": \"Ariana Grande\", \"City\": \"Los Angeles (LA)\", \"Times Played\": 31, \"Latitude\": 34.052235, \"Longitude\": -118.243683}, {\"Artist\": \"Ariana Grande\", \"City\": \"New York  (NYC)\", \"Times Played\": 24, \"Latitude\": 40.73061, \"Longitude\": -73.935242}, {\"Artist\": \"Ariana Grande\", \"City\": \"Chicago\", \"Times Played\": 13, \"Latitude\": 41.881832, \"Longitude\": -87.623177}, {\"Artist\": \"Ariana Grande\", \"City\": \"Las Vegas\", \"Times Played\": 12, \"Latitude\": 36.18811, \"Longitude\": -115.176468}, {\"Artist\": \"Ariana Grande\", \"City\": \"London\", \"Times Played\": 9, \"Latitude\": 51.509865, \"Longitude\": -0.118092}, {\"Artist\": \"Billie Eilish\", \"City\": \"Los Angeles (LA)\", \"Times Played\": 33, \"Latitude\": 34.052235, \"Longitude\": -118.243683}, {\"Artist\": \"Billie Eilish\", \"City\": \"New York  (NYC)\", \"Times Played\": 16, \"Latitude\": 40.73061, \"Longitude\": -73.935242}, {\"Artist\": \"Billie Eilish\", \"City\": \"London\", \"Times Played\": 16, \"Latitude\": 51.509865, \"Longitude\": -0.118092}, {\"Artist\": \"Billie Eilish\", \"City\": \"San Diego\", \"Times Played\": 9, \"Latitude\": 41.881832, \"Longitude\": -87.623177}, {\"Artist\": \"Billie Eilish\", \"City\": \"Chicago\", \"Times Played\": 8, \"Latitude\": 32.7157, \"Longitude\": -117.161087}]}}, {\"mode\": \"vega-lite\"});\n",
       "</script>"
      ],
      "text/plain": [
       "alt.HConcatChart(...)"
      ]
     },
     "execution_count": 45,
     "metadata": {},
     "output_type": "execute_result"
    }
   ],
   "source": [
    "alt.hconcat(chq4b,chq4a).resolve_scale(size='independent').configure_view(strokeWidth=0)"
   ]
  },
  {
   "cell_type": "markdown",
   "metadata": {
    "id": "scKv_aD-jkcO"
   },
   "source": [
    "**Answer to Q4:** The answer to Q5 is the world map and the word cloud above. The world map displayes the 5 most frequent cities around the world that each artist has performed live along with the number of times he/she played there. This comes with a dropdown selection of the artist. In the world cloud we have again a dropdown selection of the artist and when one is selected, we see the 5 most frequent artists thaty our main artists have performed with and with the more times they played toghether the bigger the name of the features artist. In both charts there are the appropriate tooltips to make comparisong more clear, like Artist, City, Times played in the city and Artist, Artist played with and numer of times they played together, respectively."
   ]
  },
  {
   "cell_type": "markdown",
   "metadata": {
    "id": "BT46yOOq3gfl"
   },
   "source": [
    "\n",
    "## Q5: Compare the touring history (2021-2024) of a subset of artists along time."
   ]
  },
  {
   "cell_type": "markdown",
   "metadata": {
    "id": "E2SmZK7Wk6VT"
   },
   "source": [
    "From the data I found the only information that contains time (years) is the touring history. Thus I do a line chart similar to the one in the Q1 with a dropdown interaction. I made only one try, since it was simple enough. Initially I had here the 'All' selection as well, but I took it out eventually."
   ]
  },
  {
   "cell_type": "code",
   "execution_count": 46,
   "metadata": {
    "colab": {
     "base_uri": "https://localhost:8080/",
     "height": 206
    },
    "executionInfo": {
     "elapsed": 906,
     "status": "ok",
     "timestamp": 1716379813301,
     "user": {
      "displayName": "Alexandros Tremopoulos",
      "userId": "18030826848297166341"
     },
     "user_tz": -120
    },
    "id": "xdlaE6Nx3l1a",
    "outputId": "98b638db-7c55-41c6-c6d6-a953cf3869a7"
   },
   "outputs": [
    {
     "data": {
      "text/html": [
       "<div>\n",
       "<style scoped>\n",
       "    .dataframe tbody tr th:only-of-type {\n",
       "        vertical-align: middle;\n",
       "    }\n",
       "\n",
       "    .dataframe tbody tr th {\n",
       "        vertical-align: top;\n",
       "    }\n",
       "\n",
       "    .dataframe thead th {\n",
       "        text-align: right;\n",
       "    }\n",
       "</style>\n",
       "<table border=\"1\" class=\"dataframe\">\n",
       "  <thead>\n",
       "    <tr style=\"text-align: right;\">\n",
       "      <th></th>\n",
       "      <th>Artist</th>\n",
       "      <th>Year</th>\n",
       "      <th>Tours</th>\n",
       "    </tr>\n",
       "  </thead>\n",
       "  <tbody>\n",
       "    <tr>\n",
       "      <th>0</th>\n",
       "      <td>Ed Sheeran</td>\n",
       "      <td>2024</td>\n",
       "      <td>45</td>\n",
       "    </tr>\n",
       "    <tr>\n",
       "      <th>1</th>\n",
       "      <td>Ed Sheeran</td>\n",
       "      <td>2023</td>\n",
       "      <td>64</td>\n",
       "    </tr>\n",
       "    <tr>\n",
       "      <th>2</th>\n",
       "      <td>Ed Sheeran</td>\n",
       "      <td>2022</td>\n",
       "      <td>64</td>\n",
       "    </tr>\n",
       "    <tr>\n",
       "      <th>3</th>\n",
       "      <td>Ed Sheeran</td>\n",
       "      <td>2021</td>\n",
       "      <td>9</td>\n",
       "    </tr>\n",
       "    <tr>\n",
       "      <th>4</th>\n",
       "      <td>Lady Gaga</td>\n",
       "      <td>2024</td>\n",
       "      <td>8</td>\n",
       "    </tr>\n",
       "  </tbody>\n",
       "</table>\n",
       "</div>"
      ],
      "text/plain": [
       "       Artist  Year  Tours\n",
       "0  Ed Sheeran  2024     45\n",
       "1  Ed Sheeran  2023     64\n",
       "2  Ed Sheeran  2022     64\n",
       "3  Ed Sheeran  2021      9\n",
       "4   Lady Gaga  2024      8"
      ]
     },
     "execution_count": 46,
     "metadata": {},
     "output_type": "execute_result"
    }
   ],
   "source": [
    "touring_history = pd.read_excel('touring_history.xlsx')  # read cleaned dataset\n",
    "touring_history.head()"
   ]
  },
  {
   "cell_type": "code",
   "execution_count": 47,
   "metadata": {
    "colab": {
     "base_uri": "https://localhost:8080/",
     "height": 417
    },
    "executionInfo": {
     "elapsed": 289,
     "status": "ok",
     "timestamp": 1716379813583,
     "user": {
      "displayName": "Alexandros Tremopoulos",
      "userId": "18030826848297166341"
     },
     "user_tz": -120
    },
    "id": "UjgGB78MG51w",
    "outputId": "4a199462-dcc1-4e4c-ac8a-fe4a6b10d07f"
   },
   "outputs": [
    {
     "data": {
      "text/html": [
       "\n",
       "<style>\n",
       "  #altair-viz-0e0a9f18c916487090313ca4460a0b98.vega-embed {\n",
       "    width: 100%;\n",
       "    display: flex;\n",
       "  }\n",
       "\n",
       "  #altair-viz-0e0a9f18c916487090313ca4460a0b98.vega-embed details,\n",
       "  #altair-viz-0e0a9f18c916487090313ca4460a0b98.vega-embed details summary {\n",
       "    position: relative;\n",
       "  }\n",
       "</style>\n",
       "<div id=\"altair-viz-0e0a9f18c916487090313ca4460a0b98\"></div>\n",
       "<script type=\"text/javascript\">\n",
       "  var VEGA_DEBUG = (typeof VEGA_DEBUG == \"undefined\") ? {} : VEGA_DEBUG;\n",
       "  (function(spec, embedOpt){\n",
       "    let outputDiv = document.currentScript.previousElementSibling;\n",
       "    if (outputDiv.id !== \"altair-viz-0e0a9f18c916487090313ca4460a0b98\") {\n",
       "      outputDiv = document.getElementById(\"altair-viz-0e0a9f18c916487090313ca4460a0b98\");\n",
       "    }\n",
       "    const paths = {\n",
       "      \"vega\": \"https://cdn.jsdelivr.net/npm/vega@5?noext\",\n",
       "      \"vega-lib\": \"https://cdn.jsdelivr.net/npm/vega-lib?noext\",\n",
       "      \"vega-lite\": \"https://cdn.jsdelivr.net/npm/vega-lite@5.17.0?noext\",\n",
       "      \"vega-embed\": \"https://cdn.jsdelivr.net/npm/vega-embed@6?noext\",\n",
       "    };\n",
       "\n",
       "    function maybeLoadScript(lib, version) {\n",
       "      var key = `${lib.replace(\"-\", \"\")}_version`;\n",
       "      return (VEGA_DEBUG[key] == version) ?\n",
       "        Promise.resolve(paths[lib]) :\n",
       "        new Promise(function(resolve, reject) {\n",
       "          var s = document.createElement('script');\n",
       "          document.getElementsByTagName(\"head\")[0].appendChild(s);\n",
       "          s.async = true;\n",
       "          s.onload = () => {\n",
       "            VEGA_DEBUG[key] = version;\n",
       "            return resolve(paths[lib]);\n",
       "          };\n",
       "          s.onerror = () => reject(`Error loading script: ${paths[lib]}`);\n",
       "          s.src = paths[lib];\n",
       "        });\n",
       "    }\n",
       "\n",
       "    function showError(err) {\n",
       "      outputDiv.innerHTML = `<div class=\"error\" style=\"color:red;\">${err}</div>`;\n",
       "      throw err;\n",
       "    }\n",
       "\n",
       "    function displayChart(vegaEmbed) {\n",
       "      vegaEmbed(outputDiv, spec, embedOpt)\n",
       "        .catch(err => showError(`Javascript Error: ${err.message}<br>This usually means there's a typo in your chart specification. See the javascript console for the full traceback.`));\n",
       "    }\n",
       "\n",
       "    if(typeof define === \"function\" && define.amd) {\n",
       "      requirejs.config({paths});\n",
       "      require([\"vega-embed\"], displayChart, err => showError(`Error loading script: ${err.message}`));\n",
       "    } else {\n",
       "      maybeLoadScript(\"vega\", \"5\")\n",
       "        .then(() => maybeLoadScript(\"vega-lite\", \"5.17.0\"))\n",
       "        .then(() => maybeLoadScript(\"vega-embed\", \"6\"))\n",
       "        .catch(showError)\n",
       "        .then(() => displayChart(vegaEmbed));\n",
       "    }\n",
       "  })({\"config\": {\"view\": {\"continuousWidth\": 300, \"continuousHeight\": 300}}, \"data\": {\"name\": \"data-75683d80d766d488e220326515b91f5b\"}, \"mark\": {\"type\": \"line\", \"point\": true}, \"encoding\": {\"color\": {\"condition\": {\"param\": \"Name_Of\", \"field\": \"Artist\", \"type\": \"nominal\", \"scale\": {\"scheme\": [\"rgb(105,239,123)\", \"rgb(216,21,180)\", \"rgb(172,225,183)\", \"rgb(120,40,87)\", \"rgb(37,184,234)\", \"rgb(32,80,46)\", \"rgb(250,175,227)\", \"rgb(52,70,109)\", \"rgb(192,225,92)\", \"rgb(114,68,185)\", \"rgb(99,161,34)\"]}}, \"value\": \"lightgray\"}, \"tooltip\": [{\"field\": \"Year\", \"type\": \"nominal\"}, {\"field\": \"Tours\", \"title\": \"Nof Tours\", \"type\": \"quantitative\"}], \"x\": {\"field\": \"Year\", \"title\": \"Year\", \"type\": \"nominal\"}, \"y\": {\"field\": \"Tours\", \"title\": \"Tours\", \"type\": \"quantitative\"}}, \"params\": [{\"name\": \"Name_Of\", \"select\": {\"type\": \"point\", \"fields\": [\"Artist\"]}, \"bind\": {\"input\": \"select\", \"options\": [\"Taylor Swift\", \"The weeknd\", \"Justin Bieber\", \"Lady Gaga\", \"Rihanna\", \"Shakira\", \"Drake\", \"Ariana Grande\", \"Post Malone\", \"Ed Sheeran\", \"Billie Eilish\"], \"labels\": [\"Taylor Swift \", \"The weeknd \", \"Justin Bieber \", \"Lady Gaga \", \"Rihanna \", \"Shakira \", \"Drake \", \"Ariana Grande \", \"Post Malone \", \"Ed Sheeran \", \"Billie Eilish \"]}, \"value\": \"Taylor Swift\"}], \"title\": \"Tours of artists each year from 2021 until 01/05/2024\", \"transform\": [{\"lookup\": \"Artist\", \"from\": {\"data\": {\"name\": \"data-87ff25b12b61c1396a50765fc51f6503\"}, \"key\": \"id\", \"fields\": [\"name\"]}}], \"width\": 400, \"$schema\": \"https://vega.github.io/schema/vega-lite/v5.17.0.json\", \"datasets\": {\"data-75683d80d766d488e220326515b91f5b\": [{\"Artist\": \"Ed Sheeran\", \"Year\": 2024, \"Tours\": 45}, {\"Artist\": \"Ed Sheeran\", \"Year\": 2023, \"Tours\": 64}, {\"Artist\": \"Ed Sheeran\", \"Year\": 2022, \"Tours\": 64}, {\"Artist\": \"Ed Sheeran\", \"Year\": 2021, \"Tours\": 9}, {\"Artist\": \"Lady Gaga\", \"Year\": 2024, \"Tours\": 8}, {\"Artist\": \"Lady Gaga\", \"Year\": 2023, \"Tours\": 12}, {\"Artist\": \"Lady Gaga\", \"Year\": 2022, \"Tours\": 28}, {\"Artist\": \"Lady Gaga\", \"Year\": 2021, \"Tours\": 12}, {\"Artist\": \"Taylor Swift\", \"Year\": 2024, \"Tours\": 86}, {\"Artist\": \"Taylor Swift\", \"Year\": 2023, \"Tours\": 67}, {\"Artist\": \"Taylor Swift\", \"Year\": 2022, \"Tours\": 0}, {\"Artist\": \"Taylor Swift\", \"Year\": 2021, \"Tours\": 1}, {\"Artist\": \"Rihanna\", \"Year\": 2024, \"Tours\": 0}, {\"Artist\": \"Rihanna\", \"Year\": 2023, \"Tours\": 1}, {\"Artist\": \"Rihanna\", \"Year\": 2022, \"Tours\": 0}, {\"Artist\": \"Rihanna\", \"Year\": 2021, \"Tours\": 0}, {\"Artist\": \"Shakira\", \"Year\": 2024, \"Tours\": 18}, {\"Artist\": \"Shakira\", \"Year\": 2023, \"Tours\": 3}, {\"Artist\": \"Shakira\", \"Year\": 2022, \"Tours\": 0}, {\"Artist\": \"Shakira\", \"Year\": 2021, \"Tours\": 0}, {\"Artist\": \"Drake\", \"Year\": 2024, \"Tours\": 18}, {\"Artist\": \"Drake\", \"Year\": 2023, \"Tours\": 50}, {\"Artist\": \"Drake\", \"Year\": 2022, \"Tours\": 1}, {\"Artist\": \"Drake\", \"Year\": 2021, \"Tours\": 0}, {\"Artist\": \"Post Malone\", \"Year\": 2024, \"Tours\": 5}, {\"Artist\": \"Post Malone\", \"Year\": 2023, \"Tours\": 64}, {\"Artist\": \"Post Malone\", \"Year\": 2022, \"Tours\": 54}, {\"Artist\": \"Post Malone\", \"Year\": 2021, \"Tours\": 5}, {\"Artist\": \"The Weeknd\", \"Year\": 2024, \"Tours\": 2}, {\"Artist\": \"The Weeknd\", \"Year\": 2023, \"Tours\": 43}, {\"Artist\": \"The Weeknd\", \"Year\": 2022, \"Tours\": 24}, {\"Artist\": \"The Weeknd\", \"Year\": 2021, \"Tours\": 2}, {\"Artist\": \"Justin Bieber\", \"Year\": 2024, \"Tours\": 0}, {\"Artist\": \"Justin Bieber\", \"Year\": 2023, \"Tours\": 4}, {\"Artist\": \"Justin Bieber\", \"Year\": 2022, \"Tours\": 52}, {\"Artist\": \"Justin Bieber\", \"Year\": 2021, \"Tours\": 6}, {\"Artist\": \"Ariana Grande\", \"Year\": 2024, \"Tours\": 0}, {\"Artist\": \"Ariana Grande\", \"Year\": 2023, \"Tours\": 0}, {\"Artist\": \"Ariana Grande\", \"Year\": 2022, \"Tours\": 0}, {\"Artist\": \"Ariana Grande\", \"Year\": 2021, \"Tours\": 0}, {\"Artist\": \"Billie Eilish\", \"Year\": 2024, \"Tours\": 35}, {\"Artist\": \"Billie Eilish\", \"Year\": 2023, \"Tours\": 24}, {\"Artist\": \"Billie Eilish\", \"Year\": 2022, \"Tours\": 75}, {\"Artist\": \"Billie Eilish\", \"Year\": 2021, \"Tours\": 11}], \"data-87ff25b12b61c1396a50765fc51f6503\": [{\"id\": 0, \"name\": \"Taylor Swift\"}, {\"id\": 1, \"name\": \"The weeknd\"}, {\"id\": 2, \"name\": \"Justin Bieber\"}, {\"id\": 3, \"name\": \"Lady Gaga\"}, {\"id\": 4, \"name\": \"Rihanna\"}, {\"id\": 6, \"name\": \"Shakira\"}, {\"id\": 7, \"name\": \"Drake\"}, {\"id\": 8, \"name\": \"Ariana Grande\"}, {\"id\": 9, \"name\": \"Post Malone\"}, {\"id\": 10, \"name\": \"Ed Sheeran\"}, {\"id\": 11, \"name\": \"Billie Eilish\"}]}}, {\"mode\": \"vega-lite\"});\n",
       "</script>"
      ],
      "text/plain": [
       "alt.Chart(...)"
      ]
     },
     "execution_count": 47,
     "metadata": {},
     "output_type": "execute_result"
    }
   ],
   "source": [
    "clusters = pd.DataFrame([\n",
    "    {\"id\": 0, \"name\": \"Taylor Swift\"},\n",
    "    {\"id\": 1, \"name\": \"The weeknd\"},\n",
    "    {\"id\": 2, \"name\": \"Justin Bieber\"},\n",
    "    {\"id\": 3, \"name\": \"Lady Gaga\"},\n",
    "    {\"id\": 4, \"name\": \"Rihanna\"},\n",
    "    {\"id\": 6, \"name\": \"Shakira\"},\n",
    "    {\"id\": 7, \"name\": \"Drake\"},\n",
    "    {\"id\": 8, \"name\": \"Ariana Grande\"},\n",
    "    {\"id\": 9, \"name\": \"Post Malone\"},\n",
    "    {\"id\": 10, \"name\": \"Ed Sheeran\"},\n",
    "    {\"id\": 11, \"name\": \"Billie Eilish\"}\n",
    "])\n",
    "\n",
    "dropdown_options = list(clusters['name'])\n",
    "labels = [option + ' ' for option in dropdown_options]\n",
    "\n",
    "cluster_dropdown = alt.binding_select(\n",
    "    options=dropdown_options,\n",
    "    labels=labels,)\n",
    "dropSelect = alt.selection_point(fields = ['Artist'], value='Taylor Swift',\n",
    "                                 bind = cluster_dropdown, name = 'Name_Of')\n",
    "chq5 = alt.Chart(touring_history).mark_line(point=True).encode(\n",
    "    alt.X('Year:N', title = 'Year'),\n",
    "    alt.Y('Tours:Q', title = 'Tours'),\n",
    "    tooltip = ['Year:N', alt.Tooltip('Tours:Q', title='Nof Tours')],\n",
    "    color = alt.condition(dropSelect, 'Artist:N', alt.value('lightgray'), scale = alt.Scale(scheme = colorgorical)),\n",
    ").transform_lookup(\n",
    "    lookup = 'Artist',\n",
    "    from_ = alt.LookupData(\n",
    "        data = clusters, key = 'id', fields = ['name']\n",
    "    )\n",
    ").add_params(dropSelect).properties(title = r\"Tours of artists each year from 2021 until 01/05/2024\", width=400)\n",
    "\n",
    "chq5\n",
    "\n",
    "# DATA UNTIL 1/5/2024"
   ]
  },
  {
   "cell_type": "markdown",
   "metadata": {
    "id": "_L4tYqkJlOBy"
   },
   "source": [
    "**Answer to Q5:** The above chart is my answer to Q5. It is a line chart with a dropdown selection of artists. I use the same categorical pallete regarding artists, I include the year and the number of tours in the tooltip as well, for data in the range of 2021 to 2024. Note that they last updated date is 01/05/2024. Taylor Swift is once again the default selection"
   ]
  },
  {
   "cell_type": "markdown",
   "metadata": {
    "id": "m39abYZYl7kT"
   },
   "source": [
    "## Final multi-view visualization"
   ]
  },
  {
   "cell_type": "markdown",
   "metadata": {
    "id": "OgfXZyE8mvUn"
   },
   "source": [
    "In the **process of creating the multi-view** I had some difficulties. Firstly, I included the resolve_scale color independent, so I made sure that each chart retains its initial palette given, which I did not do in the previous deliverable. Also I had an issue in the word cloud with the strokeWidth being 0, which is the variable to take out the borders of the chart. This parameter it was given in the creation of the chart, but in the hconcat/vconcat could not be read and it was returning errors. I had to adjust it in the multi-view here. The most challenging problem I had to solve was the size of the word cloud and the map, where when put togheter their sizes was extremely big and a bit distorted. This was solved by adding the size='independent' in the resolve_scale. The thing is that this does not exist in the documentation or in a forum discussion and I found it randomly by testing names of variables."
   ]
  },
  {
   "cell_type": "code",
   "execution_count": 48,
   "metadata": {
    "colab": {
     "base_uri": "https://localhost:8080/",
     "height": 1000
    },
    "executionInfo": {
     "elapsed": 766,
     "status": "ok",
     "timestamp": 1716380003649,
     "user": {
      "displayName": "Alexandros Tremopoulos",
      "userId": "18030826848297166341"
     },
     "user_tz": -120
    },
    "id": "orL4nJ0EurZk",
    "outputId": "e4cc0724-db28-4279-e0a5-cce29fd12b85"
   },
   "outputs": [
    {
     "data": {
      "text/html": [
       "\n",
       "<style>\n",
       "  #altair-viz-8c4e0071163b480f80ee93c93b5f3951.vega-embed {\n",
       "    width: 100%;\n",
       "    display: flex;\n",
       "  }\n",
       "\n",
       "  #altair-viz-8c4e0071163b480f80ee93c93b5f3951.vega-embed details,\n",
       "  #altair-viz-8c4e0071163b480f80ee93c93b5f3951.vega-embed details summary {\n",
       "    position: relative;\n",
       "  }\n",
       "</style>\n",
       "<div id=\"altair-viz-8c4e0071163b480f80ee93c93b5f3951\"></div>\n",
       "<script type=\"text/javascript\">\n",
       "  var VEGA_DEBUG = (typeof VEGA_DEBUG == \"undefined\") ? {} : VEGA_DEBUG;\n",
       "  (function(spec, embedOpt){\n",
       "    let outputDiv = document.currentScript.previousElementSibling;\n",
       "    if (outputDiv.id !== \"altair-viz-8c4e0071163b480f80ee93c93b5f3951\") {\n",
       "      outputDiv = document.getElementById(\"altair-viz-8c4e0071163b480f80ee93c93b5f3951\");\n",
       "    }\n",
       "    const paths = {\n",
       "      \"vega\": \"https://cdn.jsdelivr.net/npm/vega@5?noext\",\n",
       "      \"vega-lib\": \"https://cdn.jsdelivr.net/npm/vega-lib?noext\",\n",
       "      \"vega-lite\": \"https://cdn.jsdelivr.net/npm/vega-lite@5.17.0?noext\",\n",
       "      \"vega-embed\": \"https://cdn.jsdelivr.net/npm/vega-embed@6?noext\",\n",
       "    };\n",
       "\n",
       "    function maybeLoadScript(lib, version) {\n",
       "      var key = `${lib.replace(\"-\", \"\")}_version`;\n",
       "      return (VEGA_DEBUG[key] == version) ?\n",
       "        Promise.resolve(paths[lib]) :\n",
       "        new Promise(function(resolve, reject) {\n",
       "          var s = document.createElement('script');\n",
       "          document.getElementsByTagName(\"head\")[0].appendChild(s);\n",
       "          s.async = true;\n",
       "          s.onload = () => {\n",
       "            VEGA_DEBUG[key] = version;\n",
       "            return resolve(paths[lib]);\n",
       "          };\n",
       "          s.onerror = () => reject(`Error loading script: ${paths[lib]}`);\n",
       "          s.src = paths[lib];\n",
       "        });\n",
       "    }\n",
       "\n",
       "    function showError(err) {\n",
       "      outputDiv.innerHTML = `<div class=\"error\" style=\"color:red;\">${err}</div>`;\n",
       "      throw err;\n",
       "    }\n",
       "\n",
       "    function displayChart(vegaEmbed) {\n",
       "      vegaEmbed(outputDiv, spec, embedOpt)\n",
       "        .catch(err => showError(`Javascript Error: ${err.message}<br>This usually means there's a typo in your chart specification. See the javascript console for the full traceback.`));\n",
       "    }\n",
       "\n",
       "    if(typeof define === \"function\" && define.amd) {\n",
       "      requirejs.config({paths});\n",
       "      require([\"vega-embed\"], displayChart, err => showError(`Error loading script: ${err.message}`));\n",
       "    } else {\n",
       "      maybeLoadScript(\"vega\", \"5\")\n",
       "        .then(() => maybeLoadScript(\"vega-lite\", \"5.17.0\"))\n",
       "        .then(() => maybeLoadScript(\"vega-embed\", \"6\"))\n",
       "        .catch(showError)\n",
       "        .then(() => displayChart(vegaEmbed));\n",
       "    }\n",
       "  })({\"config\": {\"view\": {\"continuousWidth\": 300, \"continuousHeight\": 300, \"strokeWidth\": 0}}, \"vconcat\": [{\"vconcat\": [{\"vconcat\": [{\"hconcat\": [{\"data\": {\"name\": \"data-db39071cae9f800ffde39ceafcbb23ef\"}, \"mark\": {\"type\": \"line\", \"point\": true}, \"encoding\": {\"color\": {\"condition\": {\"param\": \"Name_Of\", \"field\": \"Artist\", \"type\": \"nominal\", \"scale\": {\"scheme\": [\"rgb(105,239,123)\", \"rgb(216,21,180)\", \"rgb(172,225,183)\", \"rgb(120,40,87)\", \"rgb(37,184,234)\", \"rgb(32,80,46)\", \"rgb(250,175,227)\", \"rgb(52,70,109)\", \"rgb(192,225,92)\", \"rgb(114,68,185)\", \"rgb(99,161,34)\"]}}, \"value\": \"lightgray\"}, \"tooltip\": [{\"field\": \"Album\", \"type\": \"nominal\"}, {\"field\": \"Sales\", \"title\": \"Sales\", \"type\": \"quantitative\"}], \"x\": {\"field\": \"Year\", \"title\": \"Year\", \"type\": \"nominal\"}, \"y\": {\"field\": \"Sales\", \"title\": \"Sales\", \"type\": \"quantitative\"}}, \"name\": \"view_11\", \"title\": \"Sales of artist's album through the years\", \"transform\": [{\"lookup\": \"Artist\", \"from\": {\"data\": {\"name\": \"data-0b8bd83238ce944202f88b66e58b48be\"}, \"key\": \"id\", \"fields\": [\"name\"]}}]}, {\"data\": {\"name\": \"data-75683d80d766d488e220326515b91f5b\"}, \"mark\": {\"type\": \"line\", \"point\": true}, \"encoding\": {\"color\": {\"condition\": {\"param\": \"Name_Of\", \"field\": \"Artist\", \"type\": \"nominal\", \"scale\": {\"scheme\": [\"rgb(105,239,123)\", \"rgb(216,21,180)\", \"rgb(172,225,183)\", \"rgb(120,40,87)\", \"rgb(37,184,234)\", \"rgb(32,80,46)\", \"rgb(250,175,227)\", \"rgb(52,70,109)\", \"rgb(192,225,92)\", \"rgb(114,68,185)\", \"rgb(99,161,34)\"]}}, \"value\": \"lightgray\"}, \"tooltip\": [{\"field\": \"Year\", \"type\": \"nominal\"}, {\"field\": \"Tours\", \"title\": \"Nof Tours\", \"type\": \"quantitative\"}], \"x\": {\"field\": \"Year\", \"title\": \"Year\", \"type\": \"nominal\"}, \"y\": {\"field\": \"Tours\", \"title\": \"Tours\", \"type\": \"quantitative\"}}, \"name\": \"view_12\", \"title\": \"Tours of artists each year from 2021 until 01/05/2024\", \"transform\": [{\"lookup\": \"Artist\", \"from\": {\"data\": {\"name\": \"data-87ff25b12b61c1396a50765fc51f6503\"}, \"key\": \"id\", \"fields\": [\"name\"]}}], \"width\": 400}], \"title\": {\"text\": \"How is the career of the artists compared during the years? Compare their successfulness along their whole career and their touring history after 2021.\", \"subtitle\": [\"It is clear that every artist has a lot of fluctations and differnt peaks.\", \"Most of the artists besides Taylor Swift, reached their peak before 2020.\", \"Most of them had an album which had an evident success compared to their other albums\", \"All the artists had just a few tours in 2021 and increased drammatically in 2022. COVID-19 could have played a role in this.\", \"Rihanna and Ariana Grande had none to almost none tours during this period, while Taylor Swift has almost 86 in 2024 with only 3 months passed.\"], \"anchor\": \"middle\", \"fontSize\": 18}}, {\"hconcat\": [{\"data\": {\"name\": \"data-4860be28f7352ffee24f2dbc2647e944\"}, \"mark\": {\"type\": \"circle\"}, \"encoding\": {\"color\": {\"field\": \"Artist\", \"scale\": {\"scheme\": [\"rgb(105,239,123)\", \"rgb(216,21,180)\", \"rgb(172,225,183)\", \"rgb(120,40,87)\", \"rgb(37,184,234)\", \"rgb(32,80,46)\", \"rgb(250,175,227)\", \"rgb(52,70,109)\", \"rgb(192,225,92)\", \"rgb(114,68,185)\", \"rgb(99,161,34)\"]}, \"type\": \"nominal\"}, \"x\": {\"field\": \"Artist\", \"sort\": \"-y\", \"title\": \"Artist Name\", \"type\": \"nominal\"}, \"y\": {\"field\": \"Sales\", \"title\": \"Mean of Sales\", \"type\": \"quantitative\"}}, \"name\": \"view_13\", \"title\": \"Mean of sales among all albums per artist\", \"width\": 300}, {\"data\": {\"name\": \"data-4860be28f7352ffee24f2dbc2647e944\"}, \"mark\": {\"type\": \"circle\"}, \"encoding\": {\"color\": {\"condition\": {\"param\": \"param_1\", \"value\": \"crimson\", \"empty\": false}, \"field\": \"Artist\", \"scale\": {\"scheme\": [\"rgb(105,239,123)\", \"rgb(216,21,180)\", \"rgb(172,225,183)\", \"rgb(120,40,87)\", \"rgb(37,184,234)\", \"rgb(32,80,46)\", \"rgb(250,175,227)\", \"rgb(52,70,109)\", \"rgb(192,225,92)\", \"rgb(114,68,185)\", \"rgb(99,161,34)\"]}, \"type\": \"nominal\"}, \"size\": {\"condition\": {\"param\": \"param_1\", \"value\": 80, \"empty\": false}, \"value\": 30}, \"x\": {\"field\": \"Artist\", \"sort\": \"-y\", \"title\": \"Artist Name\", \"type\": \"nominal\"}, \"y\": {\"field\": \"Albums\", \"title\": \"Number of Albums\", \"type\": \"quantitative\"}}, \"name\": \"view_14\", \"title\": \"Number of albums per artist\", \"width\": 300}, {\"data\": {\"name\": \"data-db39071cae9f800ffde39ceafcbb23ef\"}, \"mark\": {\"type\": \"boxplot\"}, \"encoding\": {\"color\": {\"field\": \"Artist\", \"scale\": {\"scheme\": [\"rgb(105,239,123)\", \"rgb(216,21,180)\", \"rgb(172,225,183)\", \"rgb(120,40,87)\", \"rgb(37,184,234)\", \"rgb(32,80,46)\", \"rgb(250,175,227)\", \"rgb(52,70,109)\", \"rgb(192,225,92)\", \"rgb(114,68,185)\", \"rgb(99,161,34)\"]}, \"type\": \"nominal\"}, \"x\": {\"field\": \"Sales\", \"title\": \"Sales\", \"type\": \"quantitative\"}, \"y\": {\"field\": \"Artist\", \"sort\": \"-x\", \"title\": \"Artist\", \"type\": \"nominal\"}}, \"title\": \"Sales among all albums per artist (min, median, max)\", \"width\": 450}], \"title\": {\"text\": \"Comparison of artists careers since their first album release.\", \"subtitle\": [\"Ed Sheeran, Taylor Swift and Post Malone have the highest mean sales among all their albums\", \"Taylor Swift, Justin Bieber and the Weeknd have the most albums.\", \"Taylor Swift, Lady Gaga, Justin Bieber and Ed Sheeran had the albums with the most sales.\", \"The Weeknd, Shakira and Billie Eilish have the albums with the least sales.\"], \"anchor\": \"middle\", \"fontSize\": 18}}], \"resolve\": {\"scale\": {\"color\": \"independent\"}}}, {\"hconcat\": [{\"data\": {\"name\": \"data-db39071cae9f800ffde39ceafcbb23ef\"}, \"mark\": {\"type\": \"circle\"}, \"encoding\": {\"color\": {\"condition\": {\"param\": \"In\", \"field\": \"Year\", \"type\": \"nominal\", \"scale\": {\"scheme\": [\"rgb(114,229,239)\", \"rgb(81,56,134)\", \"rgb(137,235,123)\", \"rgb(169,10,161)\", \"rgb(28,152,32)\", \"rgb(223,114,239)\", \"rgb(27,81,29)\", \"rgb(149,187,239)\", \"rgb(38,85,130)\", \"rgb(185,207,132)\", \"rgb(70,61,246)\", \"rgb(117,140,69)\", \"rgb(180,30,81)\", \"rgb(32,245,61)\", \"rgb(117,49,49)\", \"rgb(244,212,3)\", \"rgb(17,160,170)\", \"rgb(245,118,133)\", \"rgb(248,186,124)\", \"rgb(79,70,47)\", \"rgb(253,89,37)\", \"rgb(125,118,228)\", \"rgb(228,181,255)\", \"rgb(174,120,62)\"]}}, \"value\": \"lightgray\"}, \"opacity\": {\"condition\": {\"param\": \"In\", \"value\": 1.0}, \"value\": 0.2}, \"size\": {\"condition\": {\"param\": \"In\", \"value\": 90}, \"value\": 30}, \"tooltip\": [{\"field\": \"Artist\", \"title\": \"Artist:\", \"type\": \"nominal\"}, {\"field\": \"Album\", \"title\": \"Album:\", \"type\": \"nominal\"}, {\"field\": \"Sales\", \"title\": \"Sales:\", \"type\": \"quantitative\"}, {\"field\": \"Year\", \"title\": \"Year:\", \"type\": \"nominal\"}], \"x\": {\"field\": \"Sales\", \"title\": \"Sales\", \"type\": \"quantitative\"}, \"y\": {\"field\": \"Artist\", \"title\": \"Artist\", \"type\": \"nominal\"}}, \"name\": \"view_15\", \"title\": \"Sales of artist's album through the years\", \"transform\": [{\"lookup\": \"Year\", \"from\": {\"data\": {\"name\": \"data-cea8add160a30534732215b7d3769082\"}, \"key\": \"id\", \"fields\": [\"name\"]}}], \"width\": 450}, {\"data\": {\"name\": \"data-36372096812ec327841792f60bf0c9e1\"}, \"mark\": {\"type\": \"text\", \"baseline\": \"middle\"}, \"encoding\": {\"color\": {\"condition\": {\"param\": \"Name_Of\", \"field\": \"Artist\", \"type\": \"nominal\", \"scale\": {\"scheme\": [\"rgb(105,239,123)\", \"rgb(216,21,180)\", \"rgb(172,225,183)\", \"rgb(120,40,87)\", \"rgb(37,184,234)\", \"rgb(32,80,46)\", \"rgb(250,175,227)\", \"rgb(52,70,109)\", \"rgb(192,225,92)\", \"rgb(114,68,185)\", \"rgb(99,161,34)\"]}}, \"value\": \"lightgray\"}, \"opacity\": {\"condition\": {\"param\": \"Name_Of\", \"value\": 1.0}, \"value\": 0.02}, \"size\": {\"field\": \"Times played\", \"legend\": null, \"type\": \"quantitative\"}, \"text\": {\"field\": \"Arist with\", \"type\": \"nominal\"}, \"tooltip\": [{\"field\": \"Artist\", \"title\": \"Artist:\", \"type\": \"nominal\"}, {\"field\": \"Arist with\", \"title\": \"Played with Artist:\", \"type\": \"nominal\"}, {\"field\": \"Times played\", \"title\": \"Times played togheter:\", \"type\": \"quantitative\"}], \"x\": {\"axis\": null, \"field\": \"x\", \"type\": \"ordinal\"}, \"y\": {\"axis\": null, \"field\": \"y\", \"type\": \"ordinal\"}}, \"height\": 400, \"name\": \"view_16\", \"title\": \"Five artists with most common live performances per artist\", \"transform\": [{\"lookup\": \"Times Played\", \"from\": {\"data\": {\"name\": \"data-0b8bd83238ce944202f88b66e58b48be\"}, \"key\": \"id\", \"fields\": [\"name\"]}}], \"width\": 500}], \"resolve\": {\"scale\": {\"color\": \"independent\"}}, \"title\": {\"text\": \"Compare sales of artists in a concrete selected year and check co-performers that they played togheter more frequently.\", \"subtitle\": [\"In years 1995, 1998, 2000 and 2001 only Shakira had an album.\", \"After 2010 multiple albums are starting to be released each year.\", \"Taylor Swift had the most sales in 2006, 2010, 2012 and 2023\", \"Lady Gaga, Justin Bieber, Ed sheeran and Shakira had very successful years in 2008, 2015, 2017 and 2001 respectively.\", \"In our main artists only Ed Sheeran with Taylor Swift have each other in their 5 most frequent co-performers\"], \"anchor\": \"middle\", \"fontSize\": 18}}]}, {\"layer\": [{\"data\": {\"url\": \"https://cdn.jsdelivr.net/npm/vega-datasets@v1.29.0/data/world-110m.json\", \"format\": {\"feature\": \"countries\", \"type\": \"topojson\"}}, \"mark\": {\"type\": \"geoshape\", \"fill\": \"lightgray\", \"stroke\": \"white\"}, \"projection\": {\"type\": \"equirectangular\"}}, {\"data\": {\"name\": \"data-3e25d731bfe1559814467dd35a4cc69b\"}, \"mark\": {\"type\": \"circle\"}, \"encoding\": {\"color\": {\"condition\": {\"param\": \"Name_Of\", \"field\": \"Artist\", \"type\": \"nominal\", \"scale\": {\"scheme\": [\"rgb(105,239,123)\", \"rgb(216,21,180)\", \"rgb(172,225,183)\", \"rgb(120,40,87)\", \"rgb(37,184,234)\", \"rgb(32,80,46)\", \"rgb(250,175,227)\", \"rgb(52,70,109)\", \"rgb(192,225,92)\", \"rgb(114,68,185)\", \"rgb(99,161,34)\"]}}, \"value\": \"lightgray\"}, \"latitude\": {\"field\": \"Latitude\", \"type\": \"quantitative\"}, \"longitude\": {\"field\": \"Longitude\", \"type\": \"quantitative\"}, \"opacity\": {\"condition\": {\"param\": \"Name_Of\", \"value\": 1.0}, \"value\": 0.02}, \"size\": {\"condition\": {\"param\": \"Name_Of\", \"field\": \"Times Played\", \"type\": \"quantitative\"}, \"value\": 1}, \"tooltip\": [{\"field\": \"Artist\", \"type\": \"nominal\"}, {\"field\": \"City\", \"type\": \"nominal\"}, {\"field\": \"Times Played\", \"type\": \"quantitative\"}]}, \"name\": \"view_9\", \"projection\": {\"type\": \"equirectangular\"}, \"title\": \"Five most common cities each artist had live performance\", \"transform\": [{\"lookup\": \"Times Played\", \"from\": {\"data\": {\"name\": \"data-0b8bd83238ce944202f88b66e58b48be\"}, \"key\": \"id\", \"fields\": [\"name\"]}}]}], \"height\": 400, \"title\": {\"text\": \"Five most frequent cities in the world each artist has performed during a tour.\", \"subtitle\": [\"Los Angeles, New York and London are the most freuqent cities for live performance in a tour.\", \"Lady Gaga \\\"loves\\\" Las Vegas and Ed Sheeran \\\"loves\\\" London\", \"All artists performed in cities in USA and UK in their 5 most frequent. Only Shakira performed that much in a different country, which was Mexico.\"], \"anchor\": \"middle\", \"fontSize\": 18}, \"width\": 800}], \"params\": [{\"name\": \"Name_Of\", \"select\": {\"type\": \"point\", \"fields\": [\"Artist\"]}, \"bind\": {\"input\": \"select\", \"options\": [\"Taylor Swift\", \"The Weeknd\", \"Justin Bieber\", \"Lady Gaga\", \"Rihanna\", \"Shakira\", \"Drake\", \"Ariana Grande\", \"Post Malone\", \"Ed Sheeran\", \"Billie Eilish\"], \"labels\": [\"Taylor Swift \", \"The Weeknd \", \"Justin Bieber \", \"Lady Gaga \", \"Rihanna \", \"Shakira \", \"Drake \", \"Ariana Grande \", \"Post Malone \", \"Ed Sheeran \", \"Billie Eilish \"]}, \"value\": \"Taylor Swift\", \"views\": [\"view_11\", \"view_16\", \"view_9\"]}, {\"name\": \"Name_Of\", \"select\": {\"type\": \"point\", \"fields\": [\"Artist\"]}, \"bind\": {\"input\": \"select\", \"options\": [\"Taylor Swift\", \"The weeknd\", \"Justin Bieber\", \"Lady Gaga\", \"Rihanna\", \"Shakira\", \"Drake\", \"Ariana Grande\", \"Post Malone\", \"Ed Sheeran\", \"Billie Eilish\"], \"labels\": [\"Taylor Swift \", \"The weeknd \", \"Justin Bieber \", \"Lady Gaga \", \"Rihanna \", \"Shakira \", \"Drake \", \"Ariana Grande \", \"Post Malone \", \"Ed Sheeran \", \"Billie Eilish \"]}, \"value\": \"Taylor Swift\", \"views\": [\"view_12\"]}, {\"name\": \"param_1\", \"select\": {\"type\": \"interval\", \"encodings\": [\"y\"]}, \"views\": [\"view_13\", \"view_14\"]}, {\"name\": \"In\", \"select\": {\"type\": \"point\", \"fields\": [\"Year\"]}, \"bind\": {\"input\": \"select\", \"options\": [1995, 1998, 2000, 2001, 2005, 2006, 2007, 2008, 2009, 2010, 2011, 2012, 2013, 2014, 2015, 2016, 2017, 2018, 2019, 2020, 2021, 2022, 2023, null], \"labels\": [\"1995\", \"1998\", \"2000\", \"2001\", \"2005\", \"2006\", \"2007\", \"2008\", \"2009\", \"2010\", \"2011\", \"2012\", \"2013\", \"2014\", \"2015\", \"2016\", \"2017\", \"2018\", \"2019\", \"2020\", \"2021\", \"2022\", \"2023\", \"All\"]}, \"views\": [\"view_15\"]}], \"resolve\": {\"scale\": {\"color\": \"independent\", \"size\": \"independent\"}}, \"title\": {\"text\": \"Comparing 11 of the most relevant artists along their whole career.\", \"subtitle\": [\"Note: There is dropdown selection for artist and year at the bottom. Taylor Swift is the default selected artist in most charts.\"], \"anchor\": \"middle\", \"fontSize\": 28}, \"$schema\": \"https://vega.github.io/schema/vega-lite/v5.17.0.json\", \"datasets\": {\"data-db39071cae9f800ffde39ceafcbb23ef\": [{\"Artist\": \"Taylor Swift\", \"Album\": \"Taylor Swift\", \"Year\": 2006, \"Songs\": 13.0, \"Sales\": 7275000}, {\"Artist\": \"Taylor Swift\", \"Album\": \"Fearless\", \"Year\": 2008, \"Songs\": 13.0, \"Sales\": 11911000}, {\"Artist\": \"Taylor Swift\", \"Album\": \"Speak Now\", \"Year\": 2010, \"Songs\": 14.0, \"Sales\": 6917500}, {\"Artist\": \"Taylor Swift\", \"Album\": \"Red\", \"Year\": 2012, \"Songs\": 16.0, \"Sales\": 8889124}, {\"Artist\": \"Taylor Swift\", \"Album\": \"1989\", \"Year\": 2014, \"Songs\": 13.0, \"Sales\": 14748116}, {\"Artist\": \"Taylor Swift\", \"Album\": \"Reputation\", \"Year\": 2017, \"Songs\": 15.0, \"Sales\": 6186524}, {\"Artist\": \"Taylor Swift\", \"Album\": \"Lover\", \"Year\": 2019, \"Songs\": 18.0, \"Sales\": 5686733}, {\"Artist\": \"Taylor Swift\", \"Album\": \"floklore (deluxe version)\", \"Year\": 2020, \"Songs\": null, \"Sales\": 4360487}, {\"Artist\": \"Taylor Swift\", \"Album\": \"midnights\", \"Year\": 2022, \"Songs\": null, \"Sales\": 3387836}, {\"Artist\": \"Taylor Swift\", \"Album\": \"Fearless (Taylor's Version)\", \"Year\": 2021, \"Songs\": 20.0, \"Sales\": 1557687}, {\"Artist\": \"Taylor Swift\", \"Album\": \"Red (Taylor's Version)\", \"Year\": 2021, \"Songs\": 30.0, \"Sales\": 1696632}, {\"Artist\": \"Taylor Swift\", \"Album\": \"1989 (Taylor's version)\", \"Year\": 2023, \"Songs\": null, \"Sales\": 14748116}, {\"Artist\": \"Taylor Swift\", \"Album\": \"evermore (deluxe version)\", \"Year\": 2021, \"Songs\": null, \"Sales\": 1998779}, {\"Artist\": \"Post Malone\", \"Album\": \"Stoney\", \"Year\": 2016, \"Songs\": 11.0, \"Sales\": 7275000}, {\"Artist\": \"Post Malone\", \"Album\": \"Beerbongs & Bentleys\", \"Year\": 2018, \"Songs\": 14.0, \"Sales\": 11911000}, {\"Artist\": \"Post Malone\", \"Album\": \"Hollywood's Bleeding\", \"Year\": 2019, \"Songs\": 17.0, \"Sales\": 6186524}, {\"Artist\": \"Post Malone\", \"Album\": \"Twelve Carat Toothache\", \"Year\": 2022, \"Songs\": null, \"Sales\": 3387836}, {\"Artist\": \"Post Malone\", \"Album\": \"Austin\", \"Year\": 2022, \"Songs\": null, \"Sales\": 1998779}, {\"Artist\": \"Ariana Grande\", \"Album\": \"Yours Truly\", \"Year\": 2013, \"Songs\": 12.0, \"Sales\": 1305000}, {\"Artist\": \"Ariana Grande\", \"Album\": \"My Everything\", \"Year\": 2014, \"Songs\": 13.0, \"Sales\": 3506212}, {\"Artist\": \"Ariana Grande\", \"Album\": \"Dangerous Woman\", \"Year\": 2016, \"Songs\": 12.0, \"Sales\": 3632374}, {\"Artist\": \"Ariana Grande\", \"Album\": \"Sweetener\", \"Year\": 2018, \"Songs\": 15.0, \"Sales\": 1994479}, {\"Artist\": \"Ariana Grande\", \"Album\": \"Thank U, Next\", \"Year\": 2019, \"Songs\": 12.0, \"Sales\": 3775436}, {\"Artist\": \"Ariana Grande\", \"Album\": \"Positions\", \"Year\": 2020, \"Songs\": null, \"Sales\": 1603367}, {\"Artist\": \"Drake\", \"Album\": \"Thank Me Later\", \"Year\": 2010, \"Songs\": 16.0, \"Sales\": 3460000}, {\"Artist\": \"Drake\", \"Album\": \"Take Care\", \"Year\": 2011, \"Songs\": 13.0, \"Sales\": 6920000}, {\"Artist\": \"Drake\", \"Album\": \"Nothing Was the Same\", \"Year\": 2013, \"Songs\": 17.0, \"Sales\": 4595000}, {\"Artist\": \"Drake\", \"Album\": \"Views\", \"Year\": 2016, \"Songs\": 20.0, \"Sales\": 7687247}, {\"Artist\": \"Drake\", \"Album\": \"Scorpion\", \"Year\": 2018, \"Songs\": 25.0, \"Sales\": 6433983}, {\"Artist\": \"Drake\", \"Album\": \"More Life \", \"Year\": 2017, \"Songs\": null, \"Sales\": 4005250}, {\"Artist\": \"Drake\", \"Album\": \"If you're reading this its too late\", \"Year\": 2015, \"Songs\": null, \"Sales\": 3480000}, {\"Artist\": \"Billie Eilish\", \"Album\": \"Happier than ever\", \"Year\": 2021, \"Songs\": null, \"Sales\": 885000}, {\"Artist\": \"Billie Eilish\", \"Album\": \"Don't smile at me\", \"Year\": 2017, \"Songs\": null, \"Sales\": 2434691}, {\"Artist\": \"Billie Eilish\", \"Album\": \"When We All Fall Asleep, Where Do We Go?\", \"Year\": 2019, \"Songs\": 14.0, \"Sales\": 7256516}, {\"Artist\": \"Lady Gaga\", \"Album\": \"The Fame\", \"Year\": 2008, \"Songs\": 11.0, \"Sales\": 14350358}, {\"Artist\": \"Lady Gaga\", \"Album\": \"The Fame Monster\", \"Year\": 2009, \"Songs\": null, \"Sales\": 8298000}, {\"Artist\": \"Lady Gaga\", \"Album\": \"Born This Way\", \"Year\": 2011, \"Songs\": 14.0, \"Sales\": 7166944}, {\"Artist\": \"Lady Gaga\", \"Album\": \"Artpop\", \"Year\": 2013, \"Songs\": 15.0, \"Sales\": 2300000}, {\"Artist\": \"Lady Gaga\", \"Album\": \"Cheek to Cheek\", \"Year\": 2014, \"Songs\": 11.0, \"Sales\": 715000}, {\"Artist\": \"Lady Gaga\", \"Album\": \"A Star is born (soundtrack)\", \"Year\": 2018, \"Songs\": null, \"Sales\": 4270810}, {\"Artist\": \"Lady Gaga\", \"Album\": \"Chromatica\", \"Year\": 2020, \"Songs\": null, \"Sales\": 1483784}, {\"Artist\": \"Lady Gaga\", \"Album\": \"Joanne\", \"Year\": 2016, \"Songs\": null, \"Sales\": 1305793}, {\"Artist\": \"Rihanna\", \"Album\": \"Good Girl Gone Bad\", \"Year\": 2007, \"Songs\": 12.0, \"Sales\": 10854803}, {\"Artist\": \"Rihanna\", \"Album\": \"Rated R\", \"Year\": 2009, \"Songs\": 12.0, \"Sales\": 3183000}, {\"Artist\": \"Rihanna\", \"Album\": \"Loud\", \"Year\": 2010, \"Songs\": 14.0, \"Sales\": 6673000}, {\"Artist\": \"Rihanna\", \"Album\": \"Talk That Talk\", \"Year\": 2011, \"Songs\": 11.0, \"Sales\": 4628000}, {\"Artist\": \"Rihanna\", \"Album\": \"Unapologetic\", \"Year\": 2012, \"Songs\": 12.0, \"Sales\": 4382500}, {\"Artist\": \"Rihanna\", \"Album\": \"Anti\", \"Year\": 2016, \"Songs\": null, \"Sales\": 6537235}, {\"Artist\": \"Rihanna\", \"Album\": \"A girl like me\", \"Year\": 2006, \"Songs\": null, \"Sales\": 3377500}, {\"Artist\": \"Rihanna\", \"Album\": \"Music of the sun\", \"Year\": 2005, \"Songs\": null, \"Sales\": 1407500}, {\"Artist\": \"The Weeknd\", \"Album\": \"House of Balloons\", \"Year\": 2011, \"Songs\": 8.0, \"Sales\": 180000}, {\"Artist\": \"The Weeknd\", \"Album\": \"Dawn FM\", \"Year\": 2022, \"Songs\": null, \"Sales\": 340000}, {\"Artist\": \"The Weeknd\", \"Album\": \"Kiss Land\", \"Year\": 2013, \"Songs\": 13.0, \"Sales\": 640000}, {\"Artist\": \"The Weeknd\", \"Album\": \"Beauty Behind the Madness\", \"Year\": 2015, \"Songs\": 14.0, \"Sales\": 7584588}, {\"Artist\": \"The Weeknd\", \"Album\": \"Starboy\", \"Year\": 2016, \"Songs\": 18.0, \"Sales\": 6070666}, {\"Artist\": \"The Weeknd\", \"Album\": \"My Dear Melancholy\", \"Year\": 2018, \"Songs\": 6.0, \"Sales\": 1201541}, {\"Artist\": \"The Weeknd\", \"Album\": \"After Hours\", \"Year\": 2020, \"Songs\": 14.0, \"Sales\": 4958942}, {\"Artist\": \"The Weeknd\", \"Album\": \"The highlights\", \"Year\": 2021, \"Songs\": null, \"Sales\": 2116000}, {\"Artist\": \"The Weeknd\", \"Album\": \"Trilogy\", \"Year\": 2012, \"Songs\": null, \"Sales\": 1360000}, {\"Artist\": \"Ed Sheeran\", \"Album\": \"+\", \"Year\": 2011, \"Songs\": 12.0, \"Sales\": 7705000}, {\"Artist\": \"Ed Sheeran\", \"Album\": \"x\", \"Year\": 2014, \"Songs\": 12.0, \"Sales\": 11879785}, {\"Artist\": \"Ed Sheeran\", \"Album\": \"\\u00f7\", \"Year\": 2017, \"Songs\": 12.0, \"Sales\": 13787460}, {\"Artist\": \"Ed Sheeran\", \"Album\": \"=\", \"Year\": 2021, \"Songs\": null, \"Sales\": 1862489}, {\"Artist\": \"Ed Sheeran\", \"Album\": \"No.6 Collaborations Project\", \"Year\": 2019, \"Songs\": 15.0, \"Sales\": 2631838}, {\"Artist\": \"Justin Bieber\", \"Album\": \"My World 2.0\", \"Year\": 2010, \"Songs\": 12.0, \"Sales\": 5235395}, {\"Artist\": \"Justin Bieber\", \"Album\": \"Believe\", \"Year\": 2012, \"Songs\": 13.0, \"Sales\": 4141507}, {\"Artist\": \"Justin Bieber\", \"Album\": \"Purpose\", \"Year\": 2015, \"Songs\": 13.0, \"Sales\": 14000000}, {\"Artist\": \"Justin Bieber\", \"Album\": \"Changes\", \"Year\": 2020, \"Songs\": 17.0, \"Sales\": 2182351}, {\"Artist\": \"Justin Bieber\", \"Album\": \"My World\", \"Year\": 2010, \"Songs\": null, \"Sales\": 3980000}, {\"Artist\": \"Justin Bieber\", \"Album\": \"Justice\", \"Year\": 2021, \"Songs\": null, \"Sales\": 3793131}, {\"Artist\": \"Justin Bieber\", \"Album\": \"Under the Mistletoe\", \"Year\": 2011, \"Songs\": null, \"Sales\": 2700725}, {\"Artist\": \"Justin Bieber\", \"Album\": \"Never say never - the remixes\", \"Year\": 2011, \"Songs\": null, \"Sales\": 1133000}, {\"Artist\": \"Justin Bieber\", \"Album\": \"Journals\", \"Year\": 2013, \"Songs\": null, \"Sales\": 1080000}, {\"Artist\": \"Shakira\", \"Album\": \"Laundry service\", \"Year\": 2001, \"Songs\": null, \"Sales\": 13000000}, {\"Artist\": \"Shakira\", \"Album\": \"Fijaci\\u00f3n oral Vol 1\", \"Year\": 2005, \"Songs\": null, \"Sales\": 3150519}, {\"Artist\": \"Shakira\", \"Album\": \"Oral Fixation vol 2\", \"Year\": 2005, \"Songs\": null, \"Sales\": 2878001}, {\"Artist\": \"Shakira\", \"Album\": \"Pies Descalzos\", \"Year\": 1995, \"Songs\": null, \"Sales\": 2695000}, {\"Artist\": \"Shakira\", \"Album\": \"Donde est\\u00e1n los ladrones\", \"Year\": 1998, \"Songs\": null, \"Sales\": 2551351}, {\"Artist\": \"Shakira\", \"Album\": \"Sale el sol / The sun comes out\", \"Year\": 2010, \"Songs\": null, \"Sales\": 2389939}, {\"Artist\": \"Shakira\", \"Album\": \"El dorado\", \"Year\": 2017, \"Songs\": null, \"Sales\": 985000}, {\"Artist\": \"Shakira\", \"Album\": \"MTV Umplugged\", \"Year\": 2000, \"Songs\": null, \"Sales\": 828663}], \"data-0b8bd83238ce944202f88b66e58b48be\": [{\"id\": 0, \"name\": \"Taylor Swift\"}, {\"id\": 1, \"name\": \"The Weeknd\"}, {\"id\": 2, \"name\": \"Justin Bieber\"}, {\"id\": 3, \"name\": \"Lady Gaga\"}, {\"id\": 4, \"name\": \"Rihanna\"}, {\"id\": 6, \"name\": \"Shakira\"}, {\"id\": 7, \"name\": \"Drake\"}, {\"id\": 8, \"name\": \"Ariana Grande\"}, {\"id\": 9, \"name\": \"Post Malone\"}, {\"id\": 10, \"name\": \"Ed Sheeran\"}, {\"id\": 11, \"name\": \"Billie Eilish\"}], \"data-75683d80d766d488e220326515b91f5b\": [{\"Artist\": \"Ed Sheeran\", \"Year\": 2024, \"Tours\": 45}, {\"Artist\": \"Ed Sheeran\", \"Year\": 2023, \"Tours\": 64}, {\"Artist\": \"Ed Sheeran\", \"Year\": 2022, \"Tours\": 64}, {\"Artist\": \"Ed Sheeran\", \"Year\": 2021, \"Tours\": 9}, {\"Artist\": \"Lady Gaga\", \"Year\": 2024, \"Tours\": 8}, {\"Artist\": \"Lady Gaga\", \"Year\": 2023, \"Tours\": 12}, {\"Artist\": \"Lady Gaga\", \"Year\": 2022, \"Tours\": 28}, {\"Artist\": \"Lady Gaga\", \"Year\": 2021, \"Tours\": 12}, {\"Artist\": \"Taylor Swift\", \"Year\": 2024, \"Tours\": 86}, {\"Artist\": \"Taylor Swift\", \"Year\": 2023, \"Tours\": 67}, {\"Artist\": \"Taylor Swift\", \"Year\": 2022, \"Tours\": 0}, {\"Artist\": \"Taylor Swift\", \"Year\": 2021, \"Tours\": 1}, {\"Artist\": \"Rihanna\", \"Year\": 2024, \"Tours\": 0}, {\"Artist\": \"Rihanna\", \"Year\": 2023, \"Tours\": 1}, {\"Artist\": \"Rihanna\", \"Year\": 2022, \"Tours\": 0}, {\"Artist\": \"Rihanna\", \"Year\": 2021, \"Tours\": 0}, {\"Artist\": \"Shakira\", \"Year\": 2024, \"Tours\": 18}, {\"Artist\": \"Shakira\", \"Year\": 2023, \"Tours\": 3}, {\"Artist\": \"Shakira\", \"Year\": 2022, \"Tours\": 0}, {\"Artist\": \"Shakira\", \"Year\": 2021, \"Tours\": 0}, {\"Artist\": \"Drake\", \"Year\": 2024, \"Tours\": 18}, {\"Artist\": \"Drake\", \"Year\": 2023, \"Tours\": 50}, {\"Artist\": \"Drake\", \"Year\": 2022, \"Tours\": 1}, {\"Artist\": \"Drake\", \"Year\": 2021, \"Tours\": 0}, {\"Artist\": \"Post Malone\", \"Year\": 2024, \"Tours\": 5}, {\"Artist\": \"Post Malone\", \"Year\": 2023, \"Tours\": 64}, {\"Artist\": \"Post Malone\", \"Year\": 2022, \"Tours\": 54}, {\"Artist\": \"Post Malone\", \"Year\": 2021, \"Tours\": 5}, {\"Artist\": \"The Weeknd\", \"Year\": 2024, \"Tours\": 2}, {\"Artist\": \"The Weeknd\", \"Year\": 2023, \"Tours\": 43}, {\"Artist\": \"The Weeknd\", \"Year\": 2022, \"Tours\": 24}, {\"Artist\": \"The Weeknd\", \"Year\": 2021, \"Tours\": 2}, {\"Artist\": \"Justin Bieber\", \"Year\": 2024, \"Tours\": 0}, {\"Artist\": \"Justin Bieber\", \"Year\": 2023, \"Tours\": 4}, {\"Artist\": \"Justin Bieber\", \"Year\": 2022, \"Tours\": 52}, {\"Artist\": \"Justin Bieber\", \"Year\": 2021, \"Tours\": 6}, {\"Artist\": \"Ariana Grande\", \"Year\": 2024, \"Tours\": 0}, {\"Artist\": \"Ariana Grande\", \"Year\": 2023, \"Tours\": 0}, {\"Artist\": \"Ariana Grande\", \"Year\": 2022, \"Tours\": 0}, {\"Artist\": \"Ariana Grande\", \"Year\": 2021, \"Tours\": 0}, {\"Artist\": \"Billie Eilish\", \"Year\": 2024, \"Tours\": 35}, {\"Artist\": \"Billie Eilish\", \"Year\": 2023, \"Tours\": 24}, {\"Artist\": \"Billie Eilish\", \"Year\": 2022, \"Tours\": 75}, {\"Artist\": \"Billie Eilish\", \"Year\": 2021, \"Tours\": 11}], \"data-87ff25b12b61c1396a50765fc51f6503\": [{\"id\": 0, \"name\": \"Taylor Swift\"}, {\"id\": 1, \"name\": \"The weeknd\"}, {\"id\": 2, \"name\": \"Justin Bieber\"}, {\"id\": 3, \"name\": \"Lady Gaga\"}, {\"id\": 4, \"name\": \"Rihanna\"}, {\"id\": 6, \"name\": \"Shakira\"}, {\"id\": 7, \"name\": \"Drake\"}, {\"id\": 8, \"name\": \"Ariana Grande\"}, {\"id\": 9, \"name\": \"Post Malone\"}, {\"id\": 10, \"name\": \"Ed Sheeran\"}, {\"id\": 11, \"name\": \"Billie Eilish\"}], \"data-4860be28f7352ffee24f2dbc2647e944\": [{\"Artist\": \"Ariana Grande\", \"Sales\": 2636144.6666666665, \"Albums\": 6}, {\"Artist\": \"Billie Eilish\", \"Sales\": 3525402.3333333335, \"Albums\": 3}, {\"Artist\": \"Drake\", \"Sales\": 5225925.714285715, \"Albums\": 7}, {\"Artist\": \"Ed Sheeran\", \"Sales\": 7573314.4, \"Albums\": 5}, {\"Artist\": \"Justin Bieber\", \"Sales\": 4249567.666666667, \"Albums\": 9}, {\"Artist\": \"Lady Gaga\", \"Sales\": 4986336.125, \"Albums\": 8}, {\"Artist\": \"Post Malone\", \"Sales\": 6151827.8, \"Albums\": 5}, {\"Artist\": \"Rihanna\", \"Sales\": 5130442.25, \"Albums\": 8}, {\"Artist\": \"Shakira\", \"Sales\": 3559809.125, \"Albums\": 8}, {\"Artist\": \"Taylor Swift\", \"Sales\": 6874118.0, \"Albums\": 13}, {\"Artist\": \"The Weeknd\", \"Sales\": 2716859.6666666665, \"Albums\": 9}], \"data-cea8add160a30534732215b7d3769082\": [{\"id\": 0, \"name\": 1995}, {\"id\": 1, \"name\": 1998}, {\"id\": 2, \"name\": 2000}, {\"id\": 3, \"name\": 2001}, {\"id\": 4, \"name\": 2005}, {\"id\": 6, \"name\": 2006}, {\"id\": 7, \"name\": 2007}, {\"id\": 8, \"name\": 2008}, {\"id\": 9, \"name\": 2009}, {\"id\": 10, \"name\": 2010}, {\"id\": 11, \"name\": 2011}, {\"id\": 12, \"name\": 2012}, {\"id\": 13, \"name\": 2013}, {\"id\": 14, \"name\": 2014}, {\"id\": 15, \"name\": 2015}, {\"id\": 16, \"name\": 2016}, {\"id\": 17, \"name\": 2017}, {\"id\": 18, \"name\": 2018}, {\"id\": 19, \"name\": 2019}, {\"id\": 20, \"name\": 2020}, {\"id\": 21, \"name\": 2021}, {\"id\": 22, \"name\": 2022}, {\"id\": 23, \"name\": 2023}], \"data-36372096812ec327841792f60bf0c9e1\": [{\"Artist\": \"Ed Sheeran\", \"Arist with\": \"Passenger\", \"Times played\": 86, \"x\": 0, \"y\": 5}, {\"Artist\": \"Ed Sheeran\", \"Arist with\": \"Taylor Swift\", \"Times played\": 75, \"x\": 0, \"y\": 15}, {\"Artist\": \"Ed Sheeran\", \"Arist with\": \"Jamie Lawson\", \"Times played\": 64, \"x\": 0, \"y\": 25}, {\"Artist\": \"Ed Sheeran\", \"Arist with\": \"Maisie Peters\", \"Times played\": 59, \"x\": 0, \"y\": 35}, {\"Artist\": \"Ed Sheeran\", \"Arist with\": \"James Blunt\", \"Times played\": 58, \"x\": 0, \"y\": 45}, {\"Artist\": \"Lady Gaga\", \"Arist with\": \"Lady Starlight\", \"Times played\": 171, \"x\": 5, \"y\": 5}, {\"Artist\": \"Lady Gaga\", \"Arist with\": \"Semi Precious Weapons\", \"Times played\": 102, \"x\": 5, \"y\": 15}, {\"Artist\": \"Lady Gaga\", \"Arist with\": \"The Darkness\", \"Times played\": 46, \"x\": 5, \"y\": 25}, {\"Artist\": \"Lady Gaga\", \"Arist with\": \"Tony Bennett\", \"Times played\": 38, \"x\": 5, \"y\": 35}, {\"Artist\": \"Lady Gaga\", \"Arist with\": \"The Pussycat Dolls\", \"Times played\": 33, \"x\": 5, \"y\": 45}, {\"Artist\": \"Taylor Swift\", \"Arist with\": \"Kellie Pickler\", \"Times played\": 98, \"x\": 10, \"y\": 5}, {\"Artist\": \"Taylor Swift\", \"Arist with\": \"Gloriana\", \"Times played\": 92, \"x\": 10, \"y\": 15}, {\"Artist\": \"Taylor Swift\", \"Arist with\": \"Needtobreathe\", \"Times played\": 83, \"x\": 10, \"y\": 25}, {\"Artist\": \"Taylor Swift\", \"Arist with\": \"Ed Sheeran\", \"Times played\": 75, \"x\": 10, \"y\": 35}, {\"Artist\": \"Taylor Swift\", \"Arist with\": \"Rascal Flatts\", \"Times played\": 60, \"x\": 10, \"y\": 45}, {\"Artist\": \"Rihanna\", \"Arist with\": \"Calvin Harris\", \"Times played\": 77, \"x\": 15, \"y\": 5}, {\"Artist\": \"Rihanna\", \"Arist with\": \"Kanye West\", \"Times played\": 59, \"x\": 15, \"y\": 15}, {\"Artist\": \"Rihanna\", \"Arist with\": \"Good Times Ahead\", \"Times played\": 50, \"x\": 15, \"y\": 25}, {\"Artist\": \"Rihanna\", \"Arist with\": \"N.E.R.D.\", \"Times played\": 49, \"x\": 15, \"y\": 35}, {\"Artist\": \"Rihanna\", \"Arist with\": \"Lupe Fiasco\", \"Times played\": 46, \"x\": 15, \"y\": 45}, {\"Artist\": \"Shakira\", \"Arist with\": \"Salva\", \"Times played\": 36, \"x\": 20, \"y\": 5}, {\"Artist\": \"Shakira\", \"Arist with\": \"Wyclef Jean\", \"Times played\": 31, \"x\": 20, \"y\": 15}, {\"Artist\": \"Shakira\", \"Arist with\": \"Ricky Martin\", \"Times played\": 11, \"x\": 20, \"y\": 25}, {\"Artist\": \"Shakira\", \"Arist with\": \"Alejandro Sanz\", \"Times played\": 10, \"x\": 20, \"y\": 35}, {\"Artist\": \"Shakira\", \"Arist with\": \"Ziggy Marley\", \"Times played\": 8, \"x\": 20, \"y\": 45}, {\"Artist\": \"Drake\", \"Arist with\": \"Future\", \"Times played\": 97, \"x\": 25, \"y\": 5}, {\"Artist\": \"Drake\", \"Arist with\": \"Lil Wayne\", \"Times played\": 63, \"x\": 25, \"y\": 15}, {\"Artist\": \"Drake\", \"Arist with\": \"J. Cole\", \"Times played\": 57, \"x\": 25, \"y\": 25}, {\"Artist\": \"Drake\", \"Arist with\": \"Miguel\", \"Times played\": 54, \"x\": 25, \"y\": 35}, {\"Artist\": \"Drake\", \"Arist with\": \"Roy Woods\", \"Times played\": 51, \"x\": 25, \"y\": 45}, {\"Artist\": \"Post Malone\", \"Arist with\": \"Tyla Yaweh\", \"Times played\": 68, \"x\": 30, \"y\": 5}, {\"Artist\": \"Post Malone\", \"Arist with\": \"Justin Bieber\", \"Times played\": 60, \"x\": 30, \"y\": 15}, {\"Artist\": \"Post Malone\", \"Arist with\": \"Moxie Raia\", \"Times played\": 59, \"x\": 30, \"y\": 25}, {\"Artist\": \"Post Malone\", \"Arist with\": \"Swae Lee\", \"Times played\": 42, \"x\": 30, \"y\": 35}, {\"Artist\": \"Post Malone\", \"Arist with\": \"Roddy Ricch\", \"Times played\": 38, \"x\": 30, \"y\": 45}, {\"Artist\": \"The Weeknd\", \"Arist with\": \"Kaytranada\", \"Times played\": 50, \"x\": 35, \"y\": 5}, {\"Artist\": \"The Weeknd\", \"Arist with\": \"BANKS\", \"Times played\": 49, \"x\": 35, \"y\": 15}, {\"Artist\": \"The Weeknd\", \"Arist with\": \"Mike Dean\", \"Times played\": 49, \"x\": 35, \"y\": 25}, {\"Artist\": \"The Weeknd\", \"Arist with\": \"Travis Scott\", \"Times played\": 31, \"x\": 35, \"y\": 35}, {\"Artist\": \"The Weeknd\", \"Arist with\": \"Drake\", \"Times played\": 24, \"x\": 35, \"y\": 45}, {\"Artist\": \"Justin Bieber\", \"Arist with\": \"Carly Rae Jepsen\", \"Times played\": 70, \"x\": 40, \"y\": 5}, {\"Artist\": \"Justin Bieber\", \"Arist with\": \"Moxie Raia \", \"Times played\": 64, \"x\": 40, \"y\": 15}, {\"Artist\": \"Justin Bieber\", \"Arist with\": \"Cody Simpson\", \"Times played\": 61, \"x\": 40, \"y\": 25}, {\"Artist\": \"Justin Bieber\", \"Arist with\": \"Post Malone\", \"Times played\": 60, \"x\": 40, \"y\": 35}, {\"Artist\": \"Justin Bieber\", \"Arist with\": \"Sean Kingston\", \"Times played\": 51, \"x\": 40, \"y\": 45}, {\"Artist\": \"Ariana Grande\", \"Arist with\": \"Social House\", \"Times played\": 78, \"x\": 45, \"y\": 5}, {\"Artist\": \"Ariana Grande\", \"Arist with\": \"Victoria Mon\\u00e9t\", \"Times played\": 56, \"x\": 45, \"y\": 15}, {\"Artist\": \"Ariana Grande\", \"Arist with\": \"Normani\", \"Times played\": 54, \"x\": 45, \"y\": 25}, {\"Artist\": \"Ariana Grande\", \"Arist with\": \"push baby\", \"Times played\": 41, \"x\": 45, \"y\": 35}, {\"Artist\": \"Ariana Grande\", \"Arist with\": \"Prince Royce\", \"Times played\": 37, \"x\": 45, \"y\": 45}, {\"Artist\": \"Billie Eilish\", \"Arist with\": \"Denzel Curry\", \"Times played\": 32, \"x\": 50, \"y\": 5}, {\"Artist\": \"Billie Eilish\", \"Arist with\": \"Duckwirth\", \"Times played\": 30, \"x\": 50, \"y\": 15}, {\"Artist\": \"Billie Eilish\", \"Arist with\": \"Jessie Reyez\", \"Times played\": 23, \"x\": 50, \"y\": 25}, {\"Artist\": \"Billie Eilish\", \"Arist with\": \"FINNEAS\", \"Times played\": 21, \"x\": 50, \"y\": 35}, {\"Artist\": \"Billie Eilish\", \"Arist with\": \"SOFI TUCKER\", \"Times played\": 17, \"x\": 50, \"y\": 45}], \"data-3e25d731bfe1559814467dd35a4cc69b\": [{\"Artist\": \"Ed Sheeran\", \"City\": \"London\", \"Times Played\": 127, \"Latitude\": 51.509865, \"Longitude\": -0.118092}, {\"Artist\": \"Ed Sheeran\", \"City\": \"Manchester\", \"Times Played\": 29, \"Latitude\": 53.483959, \"Longitude\": -2.244644}, {\"Artist\": \"Ed Sheeran\", \"City\": \"New York  (NYC)\", \"Times Played\": 28, \"Latitude\": 40.73061, \"Longitude\": -73.935242}, {\"Artist\": \"Ed Sheeran\", \"City\": \"Los Angeles (LA)\", \"Times Played\": 27, \"Latitude\": 34.052235, \"Longitude\": -118.243683}, {\"Artist\": \"Ed Sheeran\", \"City\": \"Dublin\", \"Times Played\": 21, \"Latitude\": 53.35014, \"Longitude\": -6.266155}, {\"Artist\": \"Lady Gaga\", \"City\": \"Las Vegas\", \"Times Played\": 81, \"Latitude\": 36.18811, \"Longitude\": -115.176468}, {\"Artist\": \"Lady Gaga\", \"City\": \"New York  (NYC)\", \"Times Played\": 45, \"Latitude\": 40.73061, \"Longitude\": -73.935242}, {\"Artist\": \"Lady Gaga\", \"City\": \"Los Angeles (LA)\", \"Times Played\": 37, \"Latitude\": 34.052235, \"Longitude\": -118.243683}, {\"Artist\": \"Lady Gaga\", \"City\": \"London\", \"Times Played\": 28, \"Latitude\": 51.509865, \"Longitude\": -0.118092}, {\"Artist\": \"Lady Gaga\", \"City\": \"Philadeplhia\", \"Times Played\": 15, \"Latitude\": 39.952583, \"Longitude\": -75.165222}, {\"Artist\": \"Taylor Swift\", \"City\": \"Los Angeles (LA)\", \"Times Played\": 54, \"Latitude\": 34.052235, \"Longitude\": -118.243683}, {\"Artist\": \"Taylor Swift\", \"City\": \"Nashville\", \"Times Played\": 30, \"Latitude\": 36.174465, \"Longitude\": -86.76696}, {\"Artist\": \"Taylor Swift\", \"City\": \"London\", \"Times Played\": 21, \"Latitude\": 51.509865, \"Longitude\": -0.118092}, {\"Artist\": \"Taylor Swift\", \"City\": \"Chicago\", \"Times Played\": 19, \"Latitude\": 41.881832, \"Longitude\": -87.623177}, {\"Artist\": \"Taylor Swift\", \"City\": \"Atlanta\", \"Times Played\": 17, \"Latitude\": 33.753746, \"Longitude\": -84.38633}, {\"Artist\": \"Rihanna\", \"City\": \"London\", \"Times Played\": 31, \"Latitude\": 51.509865, \"Longitude\": -0.118092}, {\"Artist\": \"Rihanna\", \"City\": \"Los Angeles (LA)\", \"Times Played\": 30, \"Latitude\": 34.052235, \"Longitude\": -118.243683}, {\"Artist\": \"Rihanna\", \"City\": \"New York  (NYC)\", \"Times Played\": 16, \"Latitude\": 40.73061, \"Longitude\": -73.935242}, {\"Artist\": \"Rihanna\", \"City\": \"Philadeplhia\", \"Times Played\": 13, \"Latitude\": 39.952583, \"Longitude\": -75.165222}, {\"Artist\": \"Rihanna\", \"City\": \"Manchester\", \"Times Played\": 13, \"Latitude\": 53.483959, \"Longitude\": -2.244644}, {\"Artist\": \"Shakira\", \"City\": \"Mexico City\", \"Times Played\": 21, \"Latitude\": 19.432608, \"Longitude\": -99.133209}, {\"Artist\": \"Shakira\", \"City\": \"Miami\", \"Times Played\": 16, \"Latitude\": 25.793449, \"Longitude\": -80.139198}, {\"Artist\": \"Shakira\", \"City\": \"Madrid\", \"Times Played\": 14, \"Latitude\": 40.416775, \"Longitude\": -3.70379}, {\"Artist\": \"Shakira\", \"City\": \"New York  (NYC)\", \"Times Played\": 13, \"Latitude\": 40.73061, \"Longitude\": -73.935242}, {\"Artist\": \"Shakira\", \"City\": \"Los Angeles (LA)\", \"Times Played\": 13, \"Latitude\": 34.052235, \"Longitude\": -118.243683}, {\"Artist\": \"Drake\", \"City\": \"Los Angeles (LA)\", \"Times Played\": 39, \"Latitude\": 34.052235, \"Longitude\": -118.243683}, {\"Artist\": \"Drake\", \"City\": \"New York  (NYC)\", \"Times Played\": 35, \"Latitude\": 40.73061, \"Longitude\": -73.935242}, {\"Artist\": \"Drake\", \"City\": \"London\", \"Times Played\": 28, \"Latitude\": 51.509865, \"Longitude\": -0.118092}, {\"Artist\": \"Drake\", \"City\": \"Toronto\", \"Times Played\": 23, \"Latitude\": 43.65107, \"Longitude\": -79.347015}, {\"Artist\": \"Drake\", \"City\": \"Las Vegas\", \"Times Played\": 20, \"Latitude\": 36.18811, \"Longitude\": -115.176468}, {\"Artist\": \"Post Malone\", \"City\": \"Los Angeles (LA)\", \"Times Played\": 43, \"Latitude\": 34.052235, \"Longitude\": -118.243683}, {\"Artist\": \"Post Malone\", \"City\": \"New York  (NYC)\", \"Times Played\": 23, \"Latitude\": 40.73061, \"Longitude\": -73.935242}, {\"Artist\": \"Post Malone\", \"City\": \"Toronto\", \"Times Played\": 19, \"Latitude\": 43.65107, \"Longitude\": -79.347015}, {\"Artist\": \"Post Malone\", \"City\": \"Philadeplhia\", \"Times Played\": 19, \"Latitude\": 39.952583, \"Longitude\": -75.165222}, {\"Artist\": \"Post Malone\", \"City\": \"Chicago\", \"Times Played\": 16, \"Latitude\": 41.881832, \"Longitude\": -87.623177}, {\"Artist\": \"The Weeknd\", \"City\": \"Las Vegas\", \"Times Played\": 25, \"Latitude\": 36.18811, \"Longitude\": -115.176468}, {\"Artist\": \"The Weeknd\", \"City\": \"Los Angeles (LA)\", \"Times Played\": 25, \"Latitude\": 34.052235, \"Longitude\": -118.243683}, {\"Artist\": \"The Weeknd\", \"City\": \"London\", \"Times Played\": 20, \"Latitude\": 51.509865, \"Longitude\": -0.118092}, {\"Artist\": \"The Weeknd\", \"City\": \"New York  (NYC)\", \"Times Played\": 20, \"Latitude\": 40.73061, \"Longitude\": -73.935242}, {\"Artist\": \"The Weeknd\", \"City\": \"Toronto\", \"Times Played\": 20, \"Latitude\": 43.65107, \"Longitude\": -79.347015}, {\"Artist\": \"Justin Bieber\", \"City\": \"Los Angeles (LA)\", \"Times Played\": 35, \"Latitude\": 34.052235, \"Longitude\": -118.243683}, {\"Artist\": \"Justin Bieber\", \"City\": \"London\", \"Times Played\": 23, \"Latitude\": 51.509865, \"Longitude\": -0.118092}, {\"Artist\": \"Justin Bieber\", \"City\": \"New York  (NYC)\", \"Times Played\": 21, \"Latitude\": 40.73061, \"Longitude\": -73.935242}, {\"Artist\": \"Justin Bieber\", \"City\": \"Chicago\", \"Times Played\": 13, \"Latitude\": 41.881832, \"Longitude\": -87.623177}, {\"Artist\": \"Justin Bieber\", \"City\": \"Philadeplhia\", \"Times Played\": 13, \"Latitude\": 39.952583, \"Longitude\": -75.165222}, {\"Artist\": \"Ariana Grande\", \"City\": \"Los Angeles (LA)\", \"Times Played\": 31, \"Latitude\": 34.052235, \"Longitude\": -118.243683}, {\"Artist\": \"Ariana Grande\", \"City\": \"New York  (NYC)\", \"Times Played\": 24, \"Latitude\": 40.73061, \"Longitude\": -73.935242}, {\"Artist\": \"Ariana Grande\", \"City\": \"Chicago\", \"Times Played\": 13, \"Latitude\": 41.881832, \"Longitude\": -87.623177}, {\"Artist\": \"Ariana Grande\", \"City\": \"Las Vegas\", \"Times Played\": 12, \"Latitude\": 36.18811, \"Longitude\": -115.176468}, {\"Artist\": \"Ariana Grande\", \"City\": \"London\", \"Times Played\": 9, \"Latitude\": 51.509865, \"Longitude\": -0.118092}, {\"Artist\": \"Billie Eilish\", \"City\": \"Los Angeles (LA)\", \"Times Played\": 33, \"Latitude\": 34.052235, \"Longitude\": -118.243683}, {\"Artist\": \"Billie Eilish\", \"City\": \"New York  (NYC)\", \"Times Played\": 16, \"Latitude\": 40.73061, \"Longitude\": -73.935242}, {\"Artist\": \"Billie Eilish\", \"City\": \"London\", \"Times Played\": 16, \"Latitude\": 51.509865, \"Longitude\": -0.118092}, {\"Artist\": \"Billie Eilish\", \"City\": \"San Diego\", \"Times Played\": 9, \"Latitude\": 41.881832, \"Longitude\": -87.623177}, {\"Artist\": \"Billie Eilish\", \"City\": \"Chicago\", \"Times Played\": 8, \"Latitude\": 32.7157, \"Longitude\": -117.161087}]}}, {\"mode\": \"vega-lite\"});\n",
       "</script>"
      ],
      "text/plain": [
       "alt.VConcatChart(...)"
      ]
     },
     "execution_count": 48,
     "metadata": {},
     "output_type": "execute_result"
    }
   ],
   "source": [
    "c1 = alt.hconcat(chq1, chq5).properties(title = {'text':'How is the career of the artists compared during the years? Compare their successfulness along their whole career and their touring history after 2021.',\n",
    "                                                          'subtitle' : ['It is clear that every artist has a lot of fluctations and differnt peaks.',\n",
    "                                                                        'Most of the artists besides Taylor Swift, reached their peak before 2020.',\n",
    "                                                                        'Most of them had an album which had an evident success compared to their other albums',\n",
    "                                                                        'All the artists had just a few tours in 2021 and increased drammatically in 2022. COVID-19 could have played a role in this.',\n",
    "                                                                        'Rihanna and Ariana Grande had none to almost none tours during this period, while Taylor Swift has almost 86 in 2024 with only 3 months passed.'],\n",
    "                                                                   'anchor':'middle', 'fontSize':18})\n",
    "c2 = alt.hconcat(chq3a, chq3b, chq3c).properties(title = {'text':'Comparison of artists careers since their first album release.',\n",
    "                                                          'subtitle' : ['Ed Sheeran, Taylor Swift and Post Malone have the highest mean sales among all their albums',\n",
    "                                                                        'Taylor Swift, Justin Bieber and the Weeknd have the most albums.',\n",
    "                                                                        'Taylor Swift, Lady Gaga, Justin Bieber and Ed Sheeran had the albums with the most sales.',\n",
    "                                                                        'The Weeknd, Shakira and Billie Eilish have the albums with the least sales.'],\n",
    "                                                                   'anchor':'middle', 'fontSize':18})\n",
    "c12 = alt.vconcat(c1, c2).resolve_scale(color='independent')\n",
    "c3 = alt.hconcat(chq2,chq4b).resolve_scale(color='independent').properties(title = {'text':'Compare sales of artists in a concrete selected year and check co-performers that they played togheter more frequently.',\n",
    "                                                          'subtitle' : ['In years 1995, 1998, 2000 and 2001 only Shakira had an album.',\n",
    "                                                                        'After 2010 multiple albums are starting to be released each year.',\n",
    "                                                                        'Taylor Swift had the most sales in 2006, 2010, 2012 and 2023',\n",
    "                                                                        'Lady Gaga, Justin Bieber, Ed sheeran and Shakira had very successful years in 2008, 2015, 2017 and 2001 respectively.',\n",
    "                                                                        'In our main artists only Ed Sheeran with Taylor Swift have each other in their 5 most frequent co-performers'],\n",
    "                                                                   'anchor':'middle', 'fontSize':18})\n",
    "c5 = alt.vconcat(c12,c3)\n",
    "chq4a = chq4a.properties(title = {'text':'Five most frequent cities in the world each artist has performed during a tour.',\n",
    "                                                          'subtitle' : ['Los Angeles, New York and London are the most freuqent cities for live performance in a tour.',\n",
    "                                                                        'Lady Gaga \"loves\" Las Vegas and Ed Sheeran \"loves\" London',\n",
    "                                                                        'All artists performed in cities in USA and UK in their 5 most frequent. Only Shakira performed that much in a different country, which was Mexico.'\n",
    "                                                                        ],\n",
    "                                                                   'anchor':'middle', 'fontSize':18})\n",
    "c4 = alt.vconcat(c5,chq4a).resolve_scale(color='independent', size='independent').properties(title = {'text':'Comparing 11 of the most relevant artists along their whole career.',\n",
    "                                                          'subtitle' : ['Note: There is dropdown selection for artist and year at the bottom. Taylor Swift is the default selected artist in most charts.',\n",
    "                                                                        ], 'anchor':'middle', 'fontSize':28})\n",
    "c4.configure_view(strokeWidth=0)"
   ]
  },
  {
   "cell_type": "code",
   "execution_count": null,
   "metadata": {
    "id": "5WedPrBkN5cQ"
   },
   "outputs": [],
   "source": []
  }
 ],
 "metadata": {
  "colab": {
   "authorship_tag": "ABX9TyMSYztqekngcYgUYcwBbXI7",
   "provenance": []
  },
  "kernelspec": {
   "display_name": "Python 3 (ipykernel)",
   "language": "python",
   "name": "python3"
  },
  "language_info": {
   "codemirror_mode": {
    "name": "ipython",
    "version": 3
   },
   "file_extension": ".py",
   "mimetype": "text/x-python",
   "name": "python",
   "nbconvert_exporter": "python",
   "pygments_lexer": "ipython3",
   "version": "3.11.3"
  }
 },
 "nbformat": 4,
 "nbformat_minor": 1
}
